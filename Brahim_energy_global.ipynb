{
 "cells": [
  {
   "cell_type": "code",
   "execution_count": 1,
   "metadata": {},
   "outputs": [],
   "source": [
    "import pandas as pd\n",
    "import numpy as np\n",
    "import matplotlib.pyplot as plt\n",
    "#import prim\n",
    "import seaborn as sns\n",
    "#from sklearn import mixture\n",
    "import os\n",
    "#from clustering_and_prim_tools import *"
   ]
  },
  {
   "cell_type": "code",
   "execution_count": 2,
   "metadata": {},
   "outputs": [],
   "source": [
    "%matplotlib inline"
   ]
  },
  {
   "cell_type": "code",
   "execution_count": 3,
   "metadata": {},
   "outputs": [],
   "source": [
    "sns.set_context(\"poster\",rc={\"font.size\": 28})\n",
    "sns.set_style(\"whitegrid\")"
   ]
  },
  {
   "cell_type": "code",
   "execution_count": 4,
   "metadata": {},
   "outputs": [],
   "source": [
    "myfolder = \"C:/Users/WB451855/OneDrive - WBG/!infra_needs_data/energy_iiasa_output_data/\""
   ]
  },
  {
   "cell_type": "code",
   "execution_count": 6,
   "metadata": {},
   "outputs": [],
   "source": [
    "data = pd.read_excel(myfolder+\"analysis IIASA august.xlsx\",\"discounted\",usecols=range(0,9))"
   ]
  },
  {
   "cell_type": "code",
   "execution_count": 7,
   "metadata": {},
   "outputs": [
    {
     "data": {
      "text/plain": [
       "Index(['Model', 'Region', 'Scenario', 'Variable', 'Unit', 2015, 2020, 2025,\n",
       "       2030],\n",
       "      dtype='object')"
      ]
     },
     "execution_count": 7,
     "metadata": {},
     "output_type": "execute_result"
    }
   ],
   "source": [
    "data.columns"
   ]
  },
  {
   "cell_type": "code",
   "execution_count": 8,
   "metadata": {},
   "outputs": [
    {
     "data": {
      "text/plain": [
       "array(['CCS', 'Electricity - Fossil Fuels w/o CCS',\n",
       "       'Electricity - Non-bio Renewables',\n",
       "       'Electricity - T&D and Storage',\n",
       "       'Energy Supply|Electricity|Biomass|w/ CCS',\n",
       "       'Energy Supply|Electricity|Biomass|w/o CCS',\n",
       "       'Energy Supply|Electricity|Coal|w/ CCS',\n",
       "       'Energy Supply|Electricity|Coal|w/o CCS',\n",
       "       'Energy Supply|Electricity|Electricity Storage',\n",
       "       'Energy Supply|Electricity|Gas|w/ CCS',\n",
       "       'Energy Supply|Electricity|Gas|w/o CCS',\n",
       "       'Energy Supply|Electricity|Geothermal',\n",
       "       'Energy Supply|Electricity|Hydro',\n",
       "       'Energy Supply|Electricity|Nuclear',\n",
       "       'Energy Supply|Electricity|Ocean',\n",
       "       'Energy Supply|Electricity|Oil|w/ CCS',\n",
       "       'Energy Supply|Electricity|Solar',\n",
       "       'Energy Supply|Electricity|Transmission and Distribution',\n",
       "       'Energy Supply|Electricity|Wind', 'Elec_FFwCCS',\n",
       "       'Elec_nonRen-clean', 'Elec_gen_tot', 'Elec_tot_inv', 'GDP|MER',\n",
       "       'Population', 'Secondary Energy|Electricity', 'Elec_tot_gdp',\n",
       "       'Elec_gen_gdp', 'consopercapita (MWh/capita)'], dtype=object)"
      ]
     },
     "execution_count": 8,
     "metadata": {},
     "output_type": "execute_result"
    }
   ],
   "source": [
    "data.Variable.unique()"
   ]
  },
  {
   "cell_type": "code",
   "execution_count": 9,
   "metadata": {},
   "outputs": [
    {
     "data": {
      "text/plain": [
       "array(['R5ASIA', 'R5LAM', 'R5MAF', 'R5REF', 'World', 'Developing'],\n",
       "      dtype=object)"
      ]
     },
     "execution_count": 9,
     "metadata": {},
     "output_type": "execute_result"
    }
   ],
   "source": [
    "data.Region.unique()"
   ]
  },
  {
   "cell_type": "code",
   "execution_count": 10,
   "metadata": {},
   "outputs": [
    {
     "data": {
      "text/plain": [
       "array(['Billion US$2015/yr'], dtype=object)"
      ]
     },
     "execution_count": 10,
     "metadata": {},
     "output_type": "execute_result"
    }
   ],
   "source": [
    "data.loc[data.Variable==\"GDP|MER\",\"Unit\"].unique()"
   ]
  },
  {
   "cell_type": "code",
   "execution_count": 11,
   "metadata": {},
   "outputs": [
    {
     "data": {
      "text/plain": [
       "array(['Billion US$2015/yr'], dtype=object)"
      ]
     },
     "execution_count": 11,
     "metadata": {},
     "output_type": "execute_result"
    }
   ],
   "source": [
    "data.loc[data.Variable==\"Elec_tot_inv\",\"Unit\"].unique()"
   ]
  },
  {
   "cell_type": "code",
   "execution_count": 12,
   "metadata": {},
   "outputs": [],
   "source": [
    "mydata = data.copy()\n",
    "mydata = mydata.set_index(['Model', 'Region', 'Scenario', 'Variable']).drop(\"Unit\",axis=1).drop(['World', 'Developing'],level=\"Region\").drop(\"1.5C\",level=\"Scenario\")\n",
    "mydata.columns.name=\"year\"\n",
    "mydata = mydata.stack()\n",
    "mydata.name=\"value\""
   ]
  },
  {
   "cell_type": "code",
   "execution_count": 13,
   "metadata": {},
   "outputs": [],
   "source": [
    "mydata = mydata.unstack(['Model', 'Region', 'Scenario', 'Variable']).reindex(range(2015,2031)).interpolate(axis=0).stack(['Model', 'Region', 'Scenario', 'Variable'])"
   ]
  },
  {
   "cell_type": "code",
   "execution_count": 14,
   "metadata": {},
   "outputs": [],
   "source": [
    "investments = mydata.unstack(\"Variable\")[['Elec_tot_inv','GDP|MER']]"
   ]
  },
  {
   "cell_type": "code",
   "execution_count": 15,
   "metadata": {},
   "outputs": [],
   "source": [
    "investments[\"investments_over_gdp\"] = investments['Elec_tot_inv']/investments['GDP|MER']"
   ]
  },
  {
   "cell_type": "code",
   "execution_count": 16,
   "metadata": {},
   "outputs": [],
   "source": [
    "investments = investments.reset_index()"
   ]
  },
  {
   "cell_type": "code",
   "execution_count": 17,
   "metadata": {},
   "outputs": [],
   "source": [
    "investments = investments[investments.year<2031]"
   ]
  },
  {
   "cell_type": "code",
   "execution_count": 18,
   "metadata": {},
   "outputs": [],
   "source": [
    "investments = investments.set_index(['Model', 'Region', 'Scenario', 'year'])"
   ]
  },
  {
   "cell_type": "markdown",
   "metadata": {},
   "source": [
    "## preferred scenario"
   ]
  },
  {
   "cell_type": "code",
   "execution_count": 19,
   "metadata": {},
   "outputs": [
    {
     "data": {
      "text/plain": [
       "<matplotlib.axes._subplots.AxesSubplot at 0x263b22033c8>"
      ]
     },
     "execution_count": 19,
     "metadata": {},
     "output_type": "execute_result"
    },
    {
     "data": {
      "image/png": "[encoded data removed]",
      "text/plain": [
       "<Figure size 432x288 with 1 Axes>"
      ]
     },
     "metadata": {},
     "output_type": "display_data"
    }
   ],
   "source": [
    "best_scenario = investments.investments_over_gdp.unstack(\"Scenario\")[\"2C\"].unstack(\"Model\")[\"AIM/CGE\"]\n",
    "\n",
    "best_scenario.unstack(\"Region\").plot()"
   ]
  },
  {
   "cell_type": "code",
   "execution_count": 20,
   "metadata": {},
   "outputs": [],
   "source": [
    "all_dev_countries = investments.sum(level=[\"Model\", \"Scenario\",\"year\"]).drop([\"investments_over_gdp\"],axis=1).copy()"
   ]
  },
  {
   "cell_type": "code",
   "execution_count": 21,
   "metadata": {},
   "outputs": [],
   "source": [
    "all_dev_countries[\"investments_over_gdp\"] = all_dev_countries['Elec_tot_inv']/all_dev_countries['GDP|MER']"
   ]
  },
  {
   "cell_type": "code",
   "execution_count": 22,
   "metadata": {},
   "outputs": [
    {
     "data": {
      "text/plain": [
       "Model              Scenario\n",
       "AIM/CGE            2C          2.169828\n",
       "                   BAU         1.279011\n",
       "                   NDC         1.402218\n",
       "IMAGE              2C          1.265186\n",
       "                   BAU         1.413739\n",
       "                   NDC         1.523479\n",
       "MESSAGEix-GLOBIOM  2C          0.954170\n",
       "                   BAU         0.876392\n",
       "                   NDC         0.894304\n",
       "POLES              2C          2.117365\n",
       "                   BAU         1.911780\n",
       "                   NDC         2.025414\n",
       "REMIND-MAgPIE      2C          2.971555\n",
       "                   BAU         2.382810\n",
       "                   NDC         2.476985\n",
       "WITCH-GLOBIOM      2C          1.633793\n",
       "                   BAU         1.698672\n",
       "                   NDC         1.769644\n",
       "Name: investments_over_gdp, dtype: float64"
      ]
     },
     "execution_count": 22,
     "metadata": {},
     "output_type": "execute_result"
    }
   ],
   "source": [
    "100*all_dev_countries.investments_over_gdp.mean(level=[\"Model\",\"Scenario\"])"
   ]
  },
  {
   "cell_type": "code",
   "execution_count": 23,
   "metadata": {},
   "outputs": [
    {
     "name": "stderr",
     "output_type": "stream",
     "text": [
      "C:\\ProgramData\\Anaconda3\\envs\\Julie1\\lib\\site-packages\\seaborn\\categorical.py:3666: UserWarning: The `factorplot` function has been renamed to `catplot`. The original name will be removed in a future release. Please update your code. Note that the default `kind` in `factorplot` (`'point'`) has changed `'strip'` in `catplot`.\n",
      "  warnings.warn(msg)\n",
      "C:\\ProgramData\\Anaconda3\\envs\\Julie1\\lib\\site-packages\\seaborn\\categorical.py:3672: UserWarning: The `size` paramter has been renamed to `height`; please update your code.\n",
      "  warnings.warn(msg, UserWarning)\n"
     ]
    },
    {
     "data": {
      "text/plain": [
       "<seaborn.axisgrid.FacetGrid at 0x263b4f10a58>"
      ]
     },
     "execution_count": 23,
     "metadata": {},
     "output_type": "execute_result"
    },
    {
     "data": {
      "image/png": "[encoded data removed]",
      "text/plain": [
       "<Figure size 933.925x432 with 1 Axes>"
      ]
     },
     "metadata": {},
     "output_type": "display_data"
    }
   ],
   "source": [
    "toplot = investments.investments_over_gdp.unstack(\"year\").mean(axis=1).drop(\"R5OECD90+EU\",level=\"Region\")\n",
    "toplot = toplot.reset_index().rename(columns={0:\"investments_over_gdp\"})\n",
    "\n",
    "toplot['investments_over_gdp'] = 100*toplot.investments_over_gdp\n",
    "\n",
    "toplot[\"Region\"] = toplot.Region.replace({\"R5ASIA\":\"Asia\",\\\n",
    "                                         \"R5LAM\":\"Latin America &\\nthe Caribbean\",\\\n",
    "                                         \"R5MAF\":\"Middle East &\\n Africa\",\\\n",
    "                                         \"R5OECD90+EU\":\"High income\",\\\n",
    "                                         \"R5REF\":\"Former Soviet Union\"})\n",
    "\n",
    "g = sns.factorplot(x='Region',y='investments_over_gdp', data=toplot,hue='Model', kind=\"point\",dodge=False, join=False, size=6, aspect=1.7,ci=\"sd\",\\\n",
    "                  markers=\"o\",legend=False)\n",
    "\n",
    "g.set_axis_labels(\"\", \"Average annual cost 2015-2030\\n(percent GDP)\")\n",
    "g.add_legend(title=\"\",fontsize = 14, bbox_to_anchor=(1, 0.65), borderaxespad=0.)"
   ]
  },
  {
   "cell_type": "code",
   "execution_count": 25,
   "metadata": {},
   "outputs": [
    {
     "data": {
      "text/html": [
       "<div>\n",
       "<style scoped>\n",
       "    .dataframe tbody tr th:only-of-type {\n",
       "        vertical-align: middle;\n",
       "    }\n",
       "\n",
       "    .dataframe tbody tr th {\n",
       "        vertical-align: top;\n",
       "    }\n",
       "\n",
       "    .dataframe thead th {\n",
       "        text-align: right;\n",
       "    }\n",
       "</style>\n",
       "<table border=\"1\" class=\"dataframe\">\n",
       "  <thead>\n",
       "    <tr style=\"text-align: right;\">\n",
       "      <th></th>\n",
       "      <th>Model</th>\n",
       "      <th>Region</th>\n",
       "      <th>Scenario</th>\n",
       "      <th>investments_over_gdp</th>\n",
       "    </tr>\n",
       "  </thead>\n",
       "  <tbody>\n",
       "    <tr>\n",
       "      <th>0</th>\n",
       "      <td>AIM/CGE</td>\n",
       "      <td>Asia</td>\n",
       "      <td>2C</td>\n",
       "      <td>2.370761</td>\n",
       "    </tr>\n",
       "    <tr>\n",
       "      <th>3</th>\n",
       "      <td>AIM/CGE</td>\n",
       "      <td>Latin America &amp;\\nthe Caribbean</td>\n",
       "      <td>2C</td>\n",
       "      <td>1.198309</td>\n",
       "    </tr>\n",
       "    <tr>\n",
       "      <th>6</th>\n",
       "      <td>AIM/CGE</td>\n",
       "      <td>Middle East &amp;\\n Africa</td>\n",
       "      <td>2C</td>\n",
       "      <td>1.171658</td>\n",
       "    </tr>\n",
       "    <tr>\n",
       "      <th>9</th>\n",
       "      <td>AIM/CGE</td>\n",
       "      <td>Former Soviet Union</td>\n",
       "      <td>2C</td>\n",
       "      <td>5.222824</td>\n",
       "    </tr>\n",
       "  </tbody>\n",
       "</table>\n",
       "</div>"
      ],
      "text/plain": [
       "     Model                          Region Scenario  investments_over_gdp\n",
       "0  AIM/CGE                            Asia       2C              2.370761\n",
       "3  AIM/CGE  Latin America &\\nthe Caribbean       2C              1.198309\n",
       "6  AIM/CGE          Middle East &\\n Africa       2C              1.171658\n",
       "9  AIM/CGE             Former Soviet Union       2C              5.222824"
      ]
     },
     "execution_count": 25,
     "metadata": {},
     "output_type": "execute_result"
    }
   ],
   "source": [
    "toplot[(toplot.Model==\"AIM/CGE\")&(toplot.Scenario==\"2C\")]"
   ]
  },
  {
   "cell_type": "code",
   "execution_count": 26,
   "metadata": {},
   "outputs": [
    {
     "data": {
      "text/html": [
       "<div>\n",
       "<style scoped>\n",
       "    .dataframe tbody tr th:only-of-type {\n",
       "        vertical-align: middle;\n",
       "    }\n",
       "\n",
       "    .dataframe tbody tr th {\n",
       "        vertical-align: top;\n",
       "    }\n",
       "\n",
       "    .dataframe thead th {\n",
       "        text-align: right;\n",
       "    }\n",
       "</style>\n",
       "<table border=\"1\" class=\"dataframe\">\n",
       "  <thead>\n",
       "    <tr style=\"text-align: right;\">\n",
       "      <th></th>\n",
       "      <th>Model</th>\n",
       "      <th>Region</th>\n",
       "      <th>Scenario</th>\n",
       "      <th>investments_over_gdp</th>\n",
       "    </tr>\n",
       "  </thead>\n",
       "  <tbody>\n",
       "    <tr>\n",
       "      <th>25</th>\n",
       "      <td>MESSAGEix-GLOBIOM</td>\n",
       "      <td>Asia</td>\n",
       "      <td>BAU</td>\n",
       "      <td>1.026128</td>\n",
       "    </tr>\n",
       "    <tr>\n",
       "      <th>28</th>\n",
       "      <td>MESSAGEix-GLOBIOM</td>\n",
       "      <td>Latin America &amp;\\nthe Caribbean</td>\n",
       "      <td>BAU</td>\n",
       "      <td>0.512413</td>\n",
       "    </tr>\n",
       "    <tr>\n",
       "      <th>31</th>\n",
       "      <td>MESSAGEix-GLOBIOM</td>\n",
       "      <td>Middle East &amp;\\n Africa</td>\n",
       "      <td>BAU</td>\n",
       "      <td>0.744235</td>\n",
       "    </tr>\n",
       "    <tr>\n",
       "      <th>34</th>\n",
       "      <td>MESSAGEix-GLOBIOM</td>\n",
       "      <td>Former Soviet Union</td>\n",
       "      <td>BAU</td>\n",
       "      <td>0.684137</td>\n",
       "    </tr>\n",
       "  </tbody>\n",
       "</table>\n",
       "</div>"
      ],
      "text/plain": [
       "                Model                          Region Scenario  \\\n",
       "25  MESSAGEix-GLOBIOM                            Asia      BAU   \n",
       "28  MESSAGEix-GLOBIOM  Latin America &\\nthe Caribbean      BAU   \n",
       "31  MESSAGEix-GLOBIOM          Middle East &\\n Africa      BAU   \n",
       "34  MESSAGEix-GLOBIOM             Former Soviet Union      BAU   \n",
       "\n",
       "    investments_over_gdp  \n",
       "25              1.026128  \n",
       "28              0.512413  \n",
       "31              0.744235  \n",
       "34              0.684137  "
      ]
     },
     "execution_count": 26,
     "metadata": {},
     "output_type": "execute_result"
    }
   ],
   "source": [
    "toplot[(toplot.Model==\"MESSAGEix-GLOBIOM\")&(toplot.Scenario==\"BAU\")]"
   ]
  },
  {
   "cell_type": "code",
   "execution_count": 27,
   "metadata": {},
   "outputs": [
    {
     "data": {
      "text/html": [
       "<div>\n",
       "<style scoped>\n",
       "    .dataframe tbody tr th:only-of-type {\n",
       "        vertical-align: middle;\n",
       "    }\n",
       "\n",
       "    .dataframe tbody tr th {\n",
       "        vertical-align: top;\n",
       "    }\n",
       "\n",
       "    .dataframe thead th {\n",
       "        text-align: right;\n",
       "    }\n",
       "</style>\n",
       "<table border=\"1\" class=\"dataframe\">\n",
       "  <thead>\n",
       "    <tr style=\"text-align: right;\">\n",
       "      <th></th>\n",
       "      <th>Model</th>\n",
       "      <th>Region</th>\n",
       "      <th>Scenario</th>\n",
       "      <th>investments_over_gdp</th>\n",
       "    </tr>\n",
       "  </thead>\n",
       "  <tbody>\n",
       "    <tr>\n",
       "      <th>48</th>\n",
       "      <td>REMIND-MAgPIE</td>\n",
       "      <td>Asia</td>\n",
       "      <td>2C</td>\n",
       "      <td>3.625270</td>\n",
       "    </tr>\n",
       "    <tr>\n",
       "      <th>51</th>\n",
       "      <td>REMIND-MAgPIE</td>\n",
       "      <td>Latin America &amp;\\nthe Caribbean</td>\n",
       "      <td>2C</td>\n",
       "      <td>1.742584</td>\n",
       "    </tr>\n",
       "    <tr>\n",
       "      <th>54</th>\n",
       "      <td>REMIND-MAgPIE</td>\n",
       "      <td>Middle East &amp;\\n Africa</td>\n",
       "      <td>2C</td>\n",
       "      <td>2.050931</td>\n",
       "    </tr>\n",
       "    <tr>\n",
       "      <th>57</th>\n",
       "      <td>REMIND-MAgPIE</td>\n",
       "      <td>Former Soviet Union</td>\n",
       "      <td>2C</td>\n",
       "      <td>2.404724</td>\n",
       "    </tr>\n",
       "  </tbody>\n",
       "</table>\n",
       "</div>"
      ],
      "text/plain": [
       "            Model                          Region Scenario  \\\n",
       "48  REMIND-MAgPIE                            Asia       2C   \n",
       "51  REMIND-MAgPIE  Latin America &\\nthe Caribbean       2C   \n",
       "54  REMIND-MAgPIE          Middle East &\\n Africa       2C   \n",
       "57  REMIND-MAgPIE             Former Soviet Union       2C   \n",
       "\n",
       "    investments_over_gdp  \n",
       "48              3.625270  \n",
       "51              1.742584  \n",
       "54              2.050931  \n",
       "57              2.404724  "
      ]
     },
     "execution_count": 27,
     "metadata": {},
     "output_type": "execute_result"
    }
   ],
   "source": [
    "toplot[(toplot.Model==\"REMIND-MAgPIE\")&(toplot.Scenario==\"2C\")]"
   ]
  },
  {
   "cell_type": "code",
   "execution_count": null,
   "metadata": {},
   "outputs": [],
   "source": []
  }
 ],
 "metadata": {
  "kernelspec": {
   "display_name": "Python (Julie1)",
   "language": "python",
   "name": "julie1"
  },
  "language_info": {
   "codemirror_mode": {
    "name": "ipython",
    "version": 3
   },
   "file_extension": ".py",
   "mimetype": "text/x-python",
   "name": "python",
   "nbconvert_exporter": "python",
   "pygments_lexer": "ipython3",
   "version": "3.6.6"
  },
  "toc": {
   "colors": {
    "hover_highlight": "#DAA520",
    "navigate_num": "#000000",
    "navigate_text": "#333333",
    "running_highlight": "#FF0000",
    "selected_highlight": "#FFD700",
    "sidebar_border": "#EEEEEE",
    "wrapper_background": "#FFFFFF"
   },
   "moveMenuLeft": true,
   "nav_menu": {
    "height": "12px",
    "width": "252px"
   },
   "navigate_menu": true,
   "number_sections": true,
   "sideBar": true,
   "threshold": 4,
   "toc_cell": false,
   "toc_section_display": "block",
   "toc_window_display": false,
   "widenNotebook": false
  }
 },
 "nbformat": 4,
 "nbformat_minor": 2
}
