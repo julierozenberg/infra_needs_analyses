{
 "cells": [
  {
   "cell_type": "code",
   "execution_count": 2,
   "metadata": {},
   "outputs": [],
   "source": [
    "import pandas as pd\n",
    "import numpy as np\n",
    "import matplotlib.pyplot as plt\n",
    "#import prim\n",
    "import seaborn as sns\n",
    "#from sklearn import mixture\n",
    "import os\n",
    "#from clustering_and_prim_tools import *"
   ]
  },
  {
   "cell_type": "code",
   "execution_count": 3,
   "metadata": {},
   "outputs": [],
   "source": [
    "%matplotlib inline"
   ]
  },
  {
   "cell_type": "code",
   "execution_count": 4,
   "metadata": {},
   "outputs": [],
   "source": [
    "sns.set_context(\"poster\",rc={\"font.size\": 28})\n",
    "sns.set_style(\"whitegrid\")"
   ]
  },
  {
   "cell_type": "code",
   "execution_count": 5,
   "metadata": {},
   "outputs": [],
   "source": [
    "myfolder = \"C:/Users/WB451855/OneDrive - WBG/!infra_needs_data/energy_iiasa_output_data/\""
   ]
  },
  {
   "cell_type": "code",
   "execution_count": 7,
   "metadata": {},
   "outputs": [],
   "source": [
    "capa_data = pd.read_excel(myfolder+\"analysis IIASA august2.xlsx\",\"Non_Investment_Annual_2030\")"
   ]
  },
  {
   "cell_type": "code",
   "execution_count": 8,
   "metadata": {},
   "outputs": [
    {
     "data": {
      "text/plain": [
       "Index(['Model', 'Region', 'Scenario', 'Variable', 'Unit', 2015, 2020, 2025,\n",
       "       2030],\n",
       "      dtype='object')"
      ]
     },
     "execution_count": 8,
     "metadata": {},
     "output_type": "execute_result"
    }
   ],
   "source": [
    "capa_data.columns"
   ]
  },
  {
   "cell_type": "code",
   "execution_count": 12,
   "metadata": {},
   "outputs": [
    {
     "data": {
      "text/plain": [
       "array(['World', 'CHN', 'EU', 'IND', 'USA', 'R5OECD90+EU', 'R5REF',\n",
       "       'R5ASIA', 'R5MAF', 'R5LAM'], dtype=object)"
      ]
     },
     "execution_count": 12,
     "metadata": {},
     "output_type": "execute_result"
    }
   ],
   "source": [
    "capa_data.Region.unique()"
   ]
  },
  {
   "cell_type": "code",
   "execution_count": 34,
   "metadata": {},
   "outputs": [],
   "source": [
    "test = capa_data[(capa_data.Unit=='GW/yr')&(capa_data.Region=='R5REF')&(capa_data.Scenario=='2C')].set_index([\"Model\",\"Variable\"])[[2015,2020,2025,2030]].sum(axis=1).unstack(\"Model\")"
   ]
  },
  {
   "cell_type": "code",
   "execution_count": 35,
   "metadata": {},
   "outputs": [
    {
     "data": {
      "text/plain": [
       "Index(['AIM/CGE', 'IMAGE', 'MESSAGEix-GLOBIOM', 'POLES', 'REMIND-MAgPIE',\n",
       "       'WITCH-GLOBIOM'],\n",
       "      dtype='object', name='Model')"
      ]
     },
     "execution_count": 35,
     "metadata": {},
     "output_type": "execute_result"
    }
   ],
   "source": [
    "test.columns"
   ]
  },
  {
   "cell_type": "code",
   "execution_count": 47,
   "metadata": {},
   "outputs": [],
   "source": [
    "test = test.drop([i for i in test.index if i.find(\"CCS\")!=-1])"
   ]
  },
  {
   "cell_type": "code",
   "execution_count": 49,
   "metadata": {},
   "outputs": [
    {
     "data": {
      "text/html": [
       "<div>\n",
       "<style scoped>\n",
       "    .dataframe tbody tr th:only-of-type {\n",
       "        vertical-align: middle;\n",
       "    }\n",
       "\n",
       "    .dataframe tbody tr th {\n",
       "        vertical-align: top;\n",
       "    }\n",
       "\n",
       "    .dataframe thead th {\n",
       "        text-align: right;\n",
       "    }\n",
       "</style>\n",
       "<table border=\"1\" class=\"dataframe\">\n",
       "  <thead>\n",
       "    <tr style=\"text-align: right;\">\n",
       "      <th>Model</th>\n",
       "      <th>AIM/CGE</th>\n",
       "      <th>IMAGE</th>\n",
       "      <th>MESSAGEix-GLOBIOM</th>\n",
       "      <th>POLES</th>\n",
       "      <th>REMIND-MAgPIE</th>\n",
       "      <th>WITCH-GLOBIOM</th>\n",
       "    </tr>\n",
       "    <tr>\n",
       "      <th>Variable</th>\n",
       "      <th></th>\n",
       "      <th></th>\n",
       "      <th></th>\n",
       "      <th></th>\n",
       "      <th></th>\n",
       "      <th></th>\n",
       "    </tr>\n",
       "  </thead>\n",
       "  <tbody>\n",
       "    <tr>\n",
       "      <th>Capacity Additions|Electricity|Biomass</th>\n",
       "      <td>2.925300</td>\n",
       "      <td>3.977637</td>\n",
       "      <td>0.000000</td>\n",
       "      <td>2.674744</td>\n",
       "      <td>NaN</td>\n",
       "      <td>3.518386</td>\n",
       "    </tr>\n",
       "    <tr>\n",
       "      <th>Capacity Additions|Electricity|Coal</th>\n",
       "      <td>6.959275</td>\n",
       "      <td>3.590341</td>\n",
       "      <td>3.348019</td>\n",
       "      <td>2.060574</td>\n",
       "      <td>NaN</td>\n",
       "      <td>8.222383</td>\n",
       "    </tr>\n",
       "    <tr>\n",
       "      <th>Capacity Additions|Electricity|Gas</th>\n",
       "      <td>23.430850</td>\n",
       "      <td>29.103113</td>\n",
       "      <td>40.302176</td>\n",
       "      <td>17.213855</td>\n",
       "      <td>NaN</td>\n",
       "      <td>23.834310</td>\n",
       "    </tr>\n",
       "    <tr>\n",
       "      <th>Capacity Additions|Electricity|Hydro</th>\n",
       "      <td>82.673325</td>\n",
       "      <td>4.605217</td>\n",
       "      <td>3.006400</td>\n",
       "      <td>5.850815</td>\n",
       "      <td>15.0708</td>\n",
       "      <td>17.826661</td>\n",
       "    </tr>\n",
       "    <tr>\n",
       "      <th>Capacity Additions|Electricity|Nuclear</th>\n",
       "      <td>20.944175</td>\n",
       "      <td>2.757100</td>\n",
       "      <td>1.224000</td>\n",
       "      <td>4.940834</td>\n",
       "      <td>3.7162</td>\n",
       "      <td>37.279333</td>\n",
       "    </tr>\n",
       "    <tr>\n",
       "      <th>Capacity Additions|Electricity|Oil</th>\n",
       "      <td>2.221425</td>\n",
       "      <td>0.657116</td>\n",
       "      <td>0.000000</td>\n",
       "      <td>1.094437</td>\n",
       "      <td>NaN</td>\n",
       "      <td>0.000421</td>\n",
       "    </tr>\n",
       "    <tr>\n",
       "      <th>Capacity Additions|Electricity|Solar</th>\n",
       "      <td>16.934454</td>\n",
       "      <td>2.537518</td>\n",
       "      <td>1.618730</td>\n",
       "      <td>2.585860</td>\n",
       "      <td>NaN</td>\n",
       "      <td>7.657184</td>\n",
       "    </tr>\n",
       "    <tr>\n",
       "      <th>Capacity Additions|Electricity|Solar|CSP</th>\n",
       "      <td>NaN</td>\n",
       "      <td>0.083890</td>\n",
       "      <td>0.000000</td>\n",
       "      <td>0.014272</td>\n",
       "      <td>0.0004</td>\n",
       "      <td>0.785505</td>\n",
       "    </tr>\n",
       "    <tr>\n",
       "      <th>Capacity Additions|Electricity|Solar|PV</th>\n",
       "      <td>70.745325</td>\n",
       "      <td>2.453629</td>\n",
       "      <td>1.618730</td>\n",
       "      <td>2.571588</td>\n",
       "      <td>11.5605</td>\n",
       "      <td>6.871679</td>\n",
       "    </tr>\n",
       "    <tr>\n",
       "      <th>Capacity Additions|Electricity|Wind</th>\n",
       "      <td>7.734375</td>\n",
       "      <td>4.227439</td>\n",
       "      <td>2.159485</td>\n",
       "      <td>3.104849</td>\n",
       "      <td>5.4378</td>\n",
       "      <td>13.108475</td>\n",
       "    </tr>\n",
       "    <tr>\n",
       "      <th>Capacity Additions|Electricity|Wind|Offshore</th>\n",
       "      <td>NaN</td>\n",
       "      <td>0.319988</td>\n",
       "      <td>0.000000</td>\n",
       "      <td>0.047961</td>\n",
       "      <td>NaN</td>\n",
       "      <td>5.609132</td>\n",
       "    </tr>\n",
       "    <tr>\n",
       "      <th>Capacity Additions|Electricity|Wind|Onshore</th>\n",
       "      <td>7.734375</td>\n",
       "      <td>3.907451</td>\n",
       "      <td>2.159485</td>\n",
       "      <td>3.056887</td>\n",
       "      <td>NaN</td>\n",
       "      <td>7.499344</td>\n",
       "    </tr>\n",
       "  </tbody>\n",
       "</table>\n",
       "</div>"
      ],
      "text/plain": [
       "Model                                           AIM/CGE      IMAGE  \\\n",
       "Variable                                                             \n",
       "Capacity Additions|Electricity|Biomass         2.925300   3.977637   \n",
       "Capacity Additions|Electricity|Coal            6.959275   3.590341   \n",
       "Capacity Additions|Electricity|Gas            23.430850  29.103113   \n",
       "Capacity Additions|Electricity|Hydro          82.673325   4.605217   \n",
       "Capacity Additions|Electricity|Nuclear        20.944175   2.757100   \n",
       "Capacity Additions|Electricity|Oil             2.221425   0.657116   \n",
       "Capacity Additions|Electricity|Solar          16.934454   2.537518   \n",
       "Capacity Additions|Electricity|Solar|CSP            NaN   0.083890   \n",
       "Capacity Additions|Electricity|Solar|PV       70.745325   2.453629   \n",
       "Capacity Additions|Electricity|Wind            7.734375   4.227439   \n",
       "Capacity Additions|Electricity|Wind|Offshore        NaN   0.319988   \n",
       "Capacity Additions|Electricity|Wind|Onshore    7.734375   3.907451   \n",
       "\n",
       "Model                                         MESSAGEix-GLOBIOM      POLES  \\\n",
       "Variable                                                                     \n",
       "Capacity Additions|Electricity|Biomass                 0.000000   2.674744   \n",
       "Capacity Additions|Electricity|Coal                    3.348019   2.060574   \n",
       "Capacity Additions|Electricity|Gas                    40.302176  17.213855   \n",
       "Capacity Additions|Electricity|Hydro                   3.006400   5.850815   \n",
       "Capacity Additions|Electricity|Nuclear                 1.224000   4.940834   \n",
       "Capacity Additions|Electricity|Oil                     0.000000   1.094437   \n",
       "Capacity Additions|Electricity|Solar                   1.618730   2.585860   \n",
       "Capacity Additions|Electricity|Solar|CSP               0.000000   0.014272   \n",
       "Capacity Additions|Electricity|Solar|PV                1.618730   2.571588   \n",
       "Capacity Additions|Electricity|Wind                    2.159485   3.104849   \n",
       "Capacity Additions|Electricity|Wind|Offshore           0.000000   0.047961   \n",
       "Capacity Additions|Electricity|Wind|Onshore            2.159485   3.056887   \n",
       "\n",
       "Model                                         REMIND-MAgPIE  WITCH-GLOBIOM  \n",
       "Variable                                                                    \n",
       "Capacity Additions|Electricity|Biomass                  NaN       3.518386  \n",
       "Capacity Additions|Electricity|Coal                     NaN       8.222383  \n",
       "Capacity Additions|Electricity|Gas                      NaN      23.834310  \n",
       "Capacity Additions|Electricity|Hydro                15.0708      17.826661  \n",
       "Capacity Additions|Electricity|Nuclear               3.7162      37.279333  \n",
       "Capacity Additions|Electricity|Oil                      NaN       0.000421  \n",
       "Capacity Additions|Electricity|Solar                    NaN       7.657184  \n",
       "Capacity Additions|Electricity|Solar|CSP             0.0004       0.785505  \n",
       "Capacity Additions|Electricity|Solar|PV             11.5605       6.871679  \n",
       "Capacity Additions|Electricity|Wind                  5.4378      13.108475  \n",
       "Capacity Additions|Electricity|Wind|Offshore            NaN       5.609132  \n",
       "Capacity Additions|Electricity|Wind|Onshore             NaN       7.499344  "
      ]
     },
     "execution_count": 49,
     "metadata": {},
     "output_type": "execute_result"
    }
   ],
   "source": [
    "test"
   ]
  },
  {
   "cell_type": "code",
   "execution_count": 50,
   "metadata": {},
   "outputs": [
    {
     "data": {
      "text/plain": [
       "Model\n",
       "AIM/CGE              242.302879\n",
       "IMAGE                 58.220440\n",
       "MESSAGEix-GLOBIOM     55.437025\n",
       "POLES                 45.216676\n",
       "REMIND-MAgPIE         35.785700\n",
       "WITCH-GLOBIOM        132.212813\n",
       "dtype: float64"
      ]
     },
     "execution_count": 50,
     "metadata": {},
     "output_type": "execute_result"
    }
   ],
   "source": [
    "test.sum(axis=0)"
   ]
  },
  {
   "cell_type": "code",
   "execution_count": 5,
   "metadata": {},
   "outputs": [],
   "source": [
    "data = pd.read_excel(myfolder+\"analysis IIASA august.xlsx\",\"discounted\",usecols=range(0,9))"
   ]
  },
  {
   "cell_type": "code",
   "execution_count": 6,
   "metadata": {},
   "outputs": [
    {
     "data": {
      "text/plain": [
       "Index(['Model', 'Region', 'Scenario', 'Variable', 'Unit', 2015, 2020, 2025,\n",
       "       2030],\n",
       "      dtype='object')"
      ]
     },
     "execution_count": 6,
     "metadata": {},
     "output_type": "execute_result"
    }
   ],
   "source": [
    "data.columns"
   ]
  },
  {
   "cell_type": "code",
   "execution_count": 7,
   "metadata": {},
   "outputs": [
    {
     "data": {
      "text/plain": [
       "array(['CCS', 'Electricity - Fossil Fuels w/o CCS',\n",
       "       'Electricity - Non-bio Renewables',\n",
       "       'Electricity - T&D and Storage',\n",
       "       'Energy Supply|Electricity|Biomass|w/ CCS',\n",
       "       'Energy Supply|Electricity|Biomass|w/o CCS',\n",
       "       'Energy Supply|Electricity|Coal|w/ CCS',\n",
       "       'Energy Supply|Electricity|Coal|w/o CCS',\n",
       "       'Energy Supply|Electricity|Electricity Storage',\n",
       "       'Energy Supply|Electricity|Gas|w/ CCS',\n",
       "       'Energy Supply|Electricity|Gas|w/o CCS',\n",
       "       'Energy Supply|Electricity|Geothermal',\n",
       "       'Energy Supply|Electricity|Hydro',\n",
       "       'Energy Supply|Electricity|Nuclear',\n",
       "       'Energy Supply|Electricity|Ocean',\n",
       "       'Energy Supply|Electricity|Oil|w/ CCS',\n",
       "       'Energy Supply|Electricity|Solar',\n",
       "       'Energy Supply|Electricity|Transmission and Distribution',\n",
       "       'Energy Supply|Electricity|Wind', 'Elec_FFwCCS',\n",
       "       'Elec_nonRen-clean', 'Elec_gen_tot', 'Elec_tot_inv', 'GDP|MER',\n",
       "       'Population', 'Secondary Energy|Electricity', 'Elec_tot_gdp',\n",
       "       'Elec_gen_gdp', 'consopercapita (MWh/capita)', 'maintenance'],\n",
       "      dtype=object)"
      ]
     },
     "execution_count": 7,
     "metadata": {},
     "output_type": "execute_result"
    }
   ],
   "source": [
    "data.Variable.unique()"
   ]
  },
  {
   "cell_type": "code",
   "execution_count": 8,
   "metadata": {},
   "outputs": [
    {
     "data": {
      "text/plain": [
       "array(['R5ASIA', 'R5LAM', 'R5MAF', 'R5REF', 'World', 'Developing'],\n",
       "      dtype=object)"
      ]
     },
     "execution_count": 8,
     "metadata": {},
     "output_type": "execute_result"
    }
   ],
   "source": [
    "data.Region.unique()"
   ]
  },
  {
   "cell_type": "code",
   "execution_count": 9,
   "metadata": {},
   "outputs": [
    {
     "data": {
      "text/plain": [
       "array(['Billion US$2015/yr'], dtype=object)"
      ]
     },
     "execution_count": 9,
     "metadata": {},
     "output_type": "execute_result"
    }
   ],
   "source": [
    "data.loc[data.Variable==\"GDP|MER\",\"Unit\"].unique()"
   ]
  },
  {
   "cell_type": "code",
   "execution_count": 10,
   "metadata": {},
   "outputs": [
    {
     "data": {
      "text/plain": [
       "array(['Billion US$2015/yr'], dtype=object)"
      ]
     },
     "execution_count": 10,
     "metadata": {},
     "output_type": "execute_result"
    }
   ],
   "source": [
    "data.loc[data.Variable==\"Elec_tot_inv\",\"Unit\"].unique()"
   ]
  },
  {
   "cell_type": "code",
   "execution_count": 11,
   "metadata": {},
   "outputs": [],
   "source": [
    "mydata = data.copy()\n",
    "mydata = mydata.set_index(['Model', 'Region', 'Scenario', 'Variable']).drop(\"Unit\",axis=1).drop(['World', 'Developing'],level=\"Region\").drop(\"1.5C\",level=\"Scenario\")\n",
    "mydata.columns.name=\"year\"\n",
    "mydata = mydata.stack()\n",
    "mydata.name=\"value\""
   ]
  },
  {
   "cell_type": "code",
   "execution_count": 12,
   "metadata": {},
   "outputs": [],
   "source": [
    "mydata = mydata.unstack(['Model', 'Region', 'Scenario', 'Variable']).reindex(range(2015,2031)).interpolate(axis=0).stack(['Model', 'Region', 'Scenario', 'Variable'])"
   ]
  },
  {
   "cell_type": "code",
   "execution_count": 13,
   "metadata": {},
   "outputs": [],
   "source": [
    "investments = mydata.unstack(\"Variable\")[['Elec_tot_inv','GDP|MER','maintenance']]"
   ]
  },
  {
   "cell_type": "code",
   "execution_count": 14,
   "metadata": {},
   "outputs": [],
   "source": [
    "investments[\"investments_over_gdp\"] = investments['Elec_tot_inv']/investments['GDP|MER']\n",
    "investments[\"maintenance_over_gdp\"] = investments['maintenance']/investments['GDP|MER']"
   ]
  },
  {
   "cell_type": "code",
   "execution_count": 15,
   "metadata": {},
   "outputs": [],
   "source": [
    "investments = investments.reset_index()"
   ]
  },
  {
   "cell_type": "code",
   "execution_count": 16,
   "metadata": {},
   "outputs": [],
   "source": [
    "investments = investments[investments.year<2031]"
   ]
  },
  {
   "cell_type": "code",
   "execution_count": 17,
   "metadata": {},
   "outputs": [],
   "source": [
    "investments = investments.set_index(['Model', 'Region', 'Scenario', 'year'])"
   ]
  },
  {
   "cell_type": "code",
   "execution_count": 28,
   "metadata": {},
   "outputs": [
    {
     "data": {
      "text/html": [
       "<div>\n",
       "<style scoped>\n",
       "    .dataframe tbody tr th:only-of-type {\n",
       "        vertical-align: middle;\n",
       "    }\n",
       "\n",
       "    .dataframe tbody tr th {\n",
       "        vertical-align: top;\n",
       "    }\n",
       "\n",
       "    .dataframe thead th {\n",
       "        text-align: right;\n",
       "    }\n",
       "</style>\n",
       "<table border=\"1\" class=\"dataframe\">\n",
       "  <thead>\n",
       "    <tr style=\"text-align: right;\">\n",
       "      <th>Region</th>\n",
       "      <th>R5ASIA</th>\n",
       "      <th>R5LAM</th>\n",
       "      <th>R5MAF</th>\n",
       "      <th>R5REF</th>\n",
       "    </tr>\n",
       "    <tr>\n",
       "      <th>Model</th>\n",
       "      <th></th>\n",
       "      <th></th>\n",
       "      <th></th>\n",
       "      <th></th>\n",
       "    </tr>\n",
       "  </thead>\n",
       "  <tbody>\n",
       "    <tr>\n",
       "      <th>AIM/CGE</th>\n",
       "      <td>8000.332582</td>\n",
       "      <td>1017.788699</td>\n",
       "      <td>979.703344</td>\n",
       "      <td>1695.259248</td>\n",
       "    </tr>\n",
       "    <tr>\n",
       "      <th>IMAGE</th>\n",
       "      <td>5644.200042</td>\n",
       "      <td>741.837782</td>\n",
       "      <td>893.232917</td>\n",
       "      <td>378.547622</td>\n",
       "    </tr>\n",
       "    <tr>\n",
       "      <th>MESSAGEix-GLOBIOM</th>\n",
       "      <td>5193.794013</td>\n",
       "      <td>583.344064</td>\n",
       "      <td>873.235226</td>\n",
       "      <td>451.506310</td>\n",
       "    </tr>\n",
       "    <tr>\n",
       "      <th>POLES</th>\n",
       "      <td>8364.264544</td>\n",
       "      <td>982.129274</td>\n",
       "      <td>965.753151</td>\n",
       "      <td>704.364622</td>\n",
       "    </tr>\n",
       "    <tr>\n",
       "      <th>REMIND-MAgPIE</th>\n",
       "      <td>12888.086481</td>\n",
       "      <td>1812.123352</td>\n",
       "      <td>1958.669539</td>\n",
       "      <td>660.206299</td>\n",
       "    </tr>\n",
       "    <tr>\n",
       "      <th>WITCH-GLOBIOM</th>\n",
       "      <td>5560.159753</td>\n",
       "      <td>774.377239</td>\n",
       "      <td>813.252589</td>\n",
       "      <td>1429.807077</td>\n",
       "    </tr>\n",
       "  </tbody>\n",
       "</table>\n",
       "</div>"
      ],
      "text/plain": [
       "Region                   R5ASIA        R5LAM        R5MAF        R5REF\n",
       "Model                                                                 \n",
       "AIM/CGE             8000.332582  1017.788699   979.703344  1695.259248\n",
       "IMAGE               5644.200042   741.837782   893.232917   378.547622\n",
       "MESSAGEix-GLOBIOM   5193.794013   583.344064   873.235226   451.506310\n",
       "POLES               8364.264544   982.129274   965.753151   704.364622\n",
       "REMIND-MAgPIE      12888.086481  1812.123352  1958.669539   660.206299\n",
       "WITCH-GLOBIOM       5560.159753   774.377239   813.252589  1429.807077"
      ]
     },
     "execution_count": 28,
     "metadata": {},
     "output_type": "execute_result"
    }
   ],
   "source": [
    "investments['Elec_tot_inv'].unstack(\"Scenario\")[\"2C\"].sum(level=[\"Model\",\"Region\"]).unstack(\"Region\")"
   ]
  },
  {
   "cell_type": "markdown",
   "metadata": {},
   "source": [
    "## preferred scenario"
   ]
  },
  {
   "cell_type": "code",
   "execution_count": 18,
   "metadata": {},
   "outputs": [
    {
     "data": {
      "text/plain": [
       "<matplotlib.axes._subplots.AxesSubplot at 0x17ece5ef780>"
      ]
     },
     "execution_count": 18,
     "metadata": {},
     "output_type": "execute_result"
    },
    {
     "data": {
      "image/png": "[encoded data removed]",
      "text/plain": [
       "<Figure size 432x288 with 1 Axes>"
      ]
     },
     "metadata": {},
     "output_type": "display_data"
    }
   ],
   "source": [
    "best_scenario = investments.investments_over_gdp.unstack(\"Scenario\")[\"2C\"].unstack(\"Model\")[\"POLES\"]\n",
    "\n",
    "best_scenario.unstack(\"Region\").plot()"
   ]
  },
  {
   "cell_type": "code",
   "execution_count": 19,
   "metadata": {},
   "outputs": [],
   "source": [
    "all_dev_countries = investments.sum(level=[\"Model\", \"Scenario\",\"year\"]).drop([\"investments_over_gdp\"],axis=1).copy()"
   ]
  },
  {
   "cell_type": "code",
   "execution_count": 20,
   "metadata": {},
   "outputs": [],
   "source": [
    "all_dev_countries[\"investments_over_gdp\"] = all_dev_countries['Elec_tot_inv']/all_dev_countries['GDP|MER']"
   ]
  },
  {
   "cell_type": "code",
   "execution_count": 21,
   "metadata": {},
   "outputs": [
    {
     "data": {
      "text/plain": [
       "Model              Scenario\n",
       "AIM/CGE            2C          2.169828\n",
       "                   BAU         1.279011\n",
       "                   NDC         1.402218\n",
       "IMAGE              2C          1.265186\n",
       "                   BAU         1.413739\n",
       "                   NDC         1.523479\n",
       "MESSAGEix-GLOBIOM  2C          0.954170\n",
       "                   BAU         0.876392\n",
       "                   NDC         0.894304\n",
       "POLES              2C          2.117365\n",
       "                   BAU         1.911780\n",
       "                   NDC         2.025414\n",
       "REMIND-MAgPIE      2C          2.971555\n",
       "                   BAU         2.382810\n",
       "                   NDC         2.476985\n",
       "WITCH-GLOBIOM      2C          1.633793\n",
       "                   BAU         1.698672\n",
       "                   NDC         1.769644\n",
       "Name: investments_over_gdp, dtype: float64"
      ]
     },
     "execution_count": 21,
     "metadata": {},
     "output_type": "execute_result"
    }
   ],
   "source": [
    "100*all_dev_countries.investments_over_gdp.mean(level=[\"Model\",\"Scenario\"])"
   ]
  },
  {
   "cell_type": "code",
   "execution_count": 23,
   "metadata": {},
   "outputs": [
    {
     "name": "stderr",
     "output_type": "stream",
     "text": [
      "C:\\ProgramData\\Anaconda3\\envs\\Julie1\\lib\\site-packages\\seaborn\\categorical.py:3666: UserWarning: The `factorplot` function has been renamed to `catplot`. The original name will be removed in a future release. Please update your code. Note that the default `kind` in `factorplot` (`'point'`) has changed `'strip'` in `catplot`.\n",
      "  warnings.warn(msg)\n",
      "C:\\ProgramData\\Anaconda3\\envs\\Julie1\\lib\\site-packages\\seaborn\\categorical.py:3672: UserWarning: The `size` paramter has been renamed to `height`; please update your code.\n",
      "  warnings.warn(msg, UserWarning)\n"
     ]
    },
    {
     "data": {
      "text/plain": [
       "<seaborn.axisgrid.FacetGrid at 0x17ed27146a0>"
      ]
     },
     "execution_count": 23,
     "metadata": {},
     "output_type": "execute_result"
    },
    {
     "data": {
      "image/png": "[encoded data removed]",
      "text/plain": [
       "<Figure size 933.925x432 with 1 Axes>"
      ]
     },
     "metadata": {},
     "output_type": "display_data"
    }
   ],
   "source": [
    "toplot = investments.investments_over_gdp.unstack(\"year\").mean(axis=1).drop(\"R5OECD90+EU\",level=\"Region\")\n",
    "toplot = toplot.reset_index().rename(columns={0:\"investments_over_gdp\"})\n",
    "\n",
    "toplot['investments_over_gdp'] = 100*toplot.investments_over_gdp\n",
    "\n",
    "toplot[\"Region\"] = toplot.Region.replace({\"R5ASIA\":\"Asia\",\\\n",
    "                                         \"R5LAM\":\"Latin America &\\nthe Caribbean\",\\\n",
    "                                         \"R5MAF\":\"Middle East &\\n Africa\",\\\n",
    "                                         \"R5OECD90+EU\":\"High income\",\\\n",
    "                                         \"R5REF\":\"Former Soviet Union\"})\n",
    "\n",
    "g = sns.factorplot(x='Region',y='investments_over_gdp', data=toplot,hue='Model', kind=\"point\",dodge=False, join=False, size=6, aspect=1.7,ci=\"sd\",\\\n",
    "                  markers=\"o\",legend=False)\n",
    "\n",
    "g.set_axis_labels(\"\", \"Average annual cost 2015-2030\\n(percent GDP)\")\n",
    "g.add_legend(title=\"\",fontsize = 14, bbox_to_anchor=(1, 0.65), borderaxespad=0.)"
   ]
  },
  {
   "cell_type": "code",
   "execution_count": 24,
   "metadata": {},
   "outputs": [
    {
     "data": {
      "text/html": [
       "<div>\n",
       "<style scoped>\n",
       "    .dataframe tbody tr th:only-of-type {\n",
       "        vertical-align: middle;\n",
       "    }\n",
       "\n",
       "    .dataframe tbody tr th {\n",
       "        vertical-align: top;\n",
       "    }\n",
       "\n",
       "    .dataframe thead th {\n",
       "        text-align: right;\n",
       "    }\n",
       "</style>\n",
       "<table border=\"1\" class=\"dataframe\">\n",
       "  <thead>\n",
       "    <tr style=\"text-align: right;\">\n",
       "      <th></th>\n",
       "      <th>Model</th>\n",
       "      <th>Region</th>\n",
       "      <th>Scenario</th>\n",
       "      <th>investments_over_gdp</th>\n",
       "    </tr>\n",
       "  </thead>\n",
       "  <tbody>\n",
       "    <tr>\n",
       "      <th>36</th>\n",
       "      <td>POLES</td>\n",
       "      <td>Asia</td>\n",
       "      <td>2C</td>\n",
       "      <td>2.667893</td>\n",
       "    </tr>\n",
       "    <tr>\n",
       "      <th>39</th>\n",
       "      <td>POLES</td>\n",
       "      <td>Latin America &amp;\\nthe Caribbean</td>\n",
       "      <td>2C</td>\n",
       "      <td>1.061956</td>\n",
       "    </tr>\n",
       "    <tr>\n",
       "      <th>42</th>\n",
       "      <td>POLES</td>\n",
       "      <td>Middle East &amp;\\n Africa</td>\n",
       "      <td>2C</td>\n",
       "      <td>1.064083</td>\n",
       "    </tr>\n",
       "    <tr>\n",
       "      <th>45</th>\n",
       "      <td>POLES</td>\n",
       "      <td>Former Soviet Union</td>\n",
       "      <td>2C</td>\n",
       "      <td>3.050376</td>\n",
       "    </tr>\n",
       "  </tbody>\n",
       "</table>\n",
       "</div>"
      ],
      "text/plain": [
       "    Model                          Region Scenario  investments_over_gdp\n",
       "36  POLES                            Asia       2C              2.667893\n",
       "39  POLES  Latin America &\\nthe Caribbean       2C              1.061956\n",
       "42  POLES          Middle East &\\n Africa       2C              1.064083\n",
       "45  POLES             Former Soviet Union       2C              3.050376"
      ]
     },
     "execution_count": 24,
     "metadata": {},
     "output_type": "execute_result"
    }
   ],
   "source": [
    "toplot[(toplot.Model==\"POLES\")&(toplot.Scenario==\"2C\")]"
   ]
  },
  {
   "cell_type": "code",
   "execution_count": 26,
   "metadata": {},
   "outputs": [
    {
     "data": {
      "text/html": [
       "<div>\n",
       "<style scoped>\n",
       "    .dataframe tbody tr th:only-of-type {\n",
       "        vertical-align: middle;\n",
       "    }\n",
       "\n",
       "    .dataframe tbody tr th {\n",
       "        vertical-align: top;\n",
       "    }\n",
       "\n",
       "    .dataframe thead th {\n",
       "        text-align: right;\n",
       "    }\n",
       "</style>\n",
       "<table border=\"1\" class=\"dataframe\">\n",
       "  <thead>\n",
       "    <tr style=\"text-align: right;\">\n",
       "      <th></th>\n",
       "      <th>Model</th>\n",
       "      <th>Region</th>\n",
       "      <th>Scenario</th>\n",
       "      <th>investments_over_gdp</th>\n",
       "    </tr>\n",
       "  </thead>\n",
       "  <tbody>\n",
       "    <tr>\n",
       "      <th>25</th>\n",
       "      <td>MESSAGEix-GLOBIOM</td>\n",
       "      <td>Asia</td>\n",
       "      <td>BAU</td>\n",
       "      <td>1.026128</td>\n",
       "    </tr>\n",
       "    <tr>\n",
       "      <th>28</th>\n",
       "      <td>MESSAGEix-GLOBIOM</td>\n",
       "      <td>Latin America &amp;\\nthe Caribbean</td>\n",
       "      <td>BAU</td>\n",
       "      <td>0.512413</td>\n",
       "    </tr>\n",
       "    <tr>\n",
       "      <th>31</th>\n",
       "      <td>MESSAGEix-GLOBIOM</td>\n",
       "      <td>Middle East &amp;\\n Africa</td>\n",
       "      <td>BAU</td>\n",
       "      <td>0.744235</td>\n",
       "    </tr>\n",
       "    <tr>\n",
       "      <th>34</th>\n",
       "      <td>MESSAGEix-GLOBIOM</td>\n",
       "      <td>Former Soviet Union</td>\n",
       "      <td>BAU</td>\n",
       "      <td>0.684137</td>\n",
       "    </tr>\n",
       "  </tbody>\n",
       "</table>\n",
       "</div>"
      ],
      "text/plain": [
       "                Model                          Region Scenario  \\\n",
       "25  MESSAGEix-GLOBIOM                            Asia      BAU   \n",
       "28  MESSAGEix-GLOBIOM  Latin America &\\nthe Caribbean      BAU   \n",
       "31  MESSAGEix-GLOBIOM          Middle East &\\n Africa      BAU   \n",
       "34  MESSAGEix-GLOBIOM             Former Soviet Union      BAU   \n",
       "\n",
       "    investments_over_gdp  \n",
       "25              1.026128  \n",
       "28              0.512413  \n",
       "31              0.744235  \n",
       "34              0.684137  "
      ]
     },
     "execution_count": 26,
     "metadata": {},
     "output_type": "execute_result"
    }
   ],
   "source": [
    "toplot[(toplot.Model==\"MESSAGEix-GLOBIOM\")&(toplot.Scenario==\"BAU\")]"
   ]
  },
  {
   "cell_type": "code",
   "execution_count": 27,
   "metadata": {},
   "outputs": [
    {
     "data": {
      "text/html": [
       "<div>\n",
       "<style scoped>\n",
       "    .dataframe tbody tr th:only-of-type {\n",
       "        vertical-align: middle;\n",
       "    }\n",
       "\n",
       "    .dataframe tbody tr th {\n",
       "        vertical-align: top;\n",
       "    }\n",
       "\n",
       "    .dataframe thead th {\n",
       "        text-align: right;\n",
       "    }\n",
       "</style>\n",
       "<table border=\"1\" class=\"dataframe\">\n",
       "  <thead>\n",
       "    <tr style=\"text-align: right;\">\n",
       "      <th></th>\n",
       "      <th>Model</th>\n",
       "      <th>Region</th>\n",
       "      <th>Scenario</th>\n",
       "      <th>investments_over_gdp</th>\n",
       "    </tr>\n",
       "  </thead>\n",
       "  <tbody>\n",
       "    <tr>\n",
       "      <th>48</th>\n",
       "      <td>REMIND-MAgPIE</td>\n",
       "      <td>Asia</td>\n",
       "      <td>2C</td>\n",
       "      <td>3.625270</td>\n",
       "    </tr>\n",
       "    <tr>\n",
       "      <th>51</th>\n",
       "      <td>REMIND-MAgPIE</td>\n",
       "      <td>Latin America &amp;\\nthe Caribbean</td>\n",
       "      <td>2C</td>\n",
       "      <td>1.742584</td>\n",
       "    </tr>\n",
       "    <tr>\n",
       "      <th>54</th>\n",
       "      <td>REMIND-MAgPIE</td>\n",
       "      <td>Middle East &amp;\\n Africa</td>\n",
       "      <td>2C</td>\n",
       "      <td>2.050931</td>\n",
       "    </tr>\n",
       "    <tr>\n",
       "      <th>57</th>\n",
       "      <td>REMIND-MAgPIE</td>\n",
       "      <td>Former Soviet Union</td>\n",
       "      <td>2C</td>\n",
       "      <td>2.404724</td>\n",
       "    </tr>\n",
       "  </tbody>\n",
       "</table>\n",
       "</div>"
      ],
      "text/plain": [
       "            Model                          Region Scenario  \\\n",
       "48  REMIND-MAgPIE                            Asia       2C   \n",
       "51  REMIND-MAgPIE  Latin America &\\nthe Caribbean       2C   \n",
       "54  REMIND-MAgPIE          Middle East &\\n Africa       2C   \n",
       "57  REMIND-MAgPIE             Former Soviet Union       2C   \n",
       "\n",
       "    investments_over_gdp  \n",
       "48              3.625270  \n",
       "51              1.742584  \n",
       "54              2.050931  \n",
       "57              2.404724  "
      ]
     },
     "execution_count": 27,
     "metadata": {},
     "output_type": "execute_result"
    }
   ],
   "source": [
    "toplot[(toplot.Model==\"REMIND-MAgPIE\")&(toplot.Scenario==\"2C\")]"
   ]
  },
  {
   "cell_type": "code",
   "execution_count": 48,
   "metadata": {},
   "outputs": [],
   "source": [
    "maint = investments.maintenance_over_gdp.unstack(\"year\").mean(axis=1).drop(\"R5OECD90+EU\",level=\"Region\")\n",
    "maint = maint.reset_index().rename(columns={0:\"maintenance_over_gdp\"})\n",
    "\n",
    "maint['maintenance_over_gdp'] = 100*maint.maintenance_over_gdp\n",
    "\n",
    "maint[\"Region\"] = maint.Region.replace({\"R5ASIA\":\"Asia\",\\\n",
    "                                         \"R5LAM\":\"Latin America &\\nthe Caribbean\",\\\n",
    "                                         \"R5MAF\":\"Middle East &\\n Africa\",\\\n",
    "                                         \"R5OECD90+EU\":\"High income\",\\\n",
    "                                         \"R5REF\":\"Former Soviet Union\"})"
   ]
  },
  {
   "cell_type": "code",
   "execution_count": 50,
   "metadata": {},
   "outputs": [
    {
     "data": {
      "text/html": [
       "<div>\n",
       "<style scoped>\n",
       "    .dataframe tbody tr th:only-of-type {\n",
       "        vertical-align: middle;\n",
       "    }\n",
       "\n",
       "    .dataframe tbody tr th {\n",
       "        vertical-align: top;\n",
       "    }\n",
       "\n",
       "    .dataframe thead th {\n",
       "        text-align: right;\n",
       "    }\n",
       "</style>\n",
       "<table border=\"1\" class=\"dataframe\">\n",
       "  <thead>\n",
       "    <tr style=\"text-align: right;\">\n",
       "      <th></th>\n",
       "      <th>Model</th>\n",
       "      <th>Region</th>\n",
       "      <th>Scenario</th>\n",
       "      <th>maintenance_over_gdp</th>\n",
       "    </tr>\n",
       "  </thead>\n",
       "  <tbody>\n",
       "    <tr>\n",
       "      <th>25</th>\n",
       "      <td>MESSAGEix-GLOBIOM</td>\n",
       "      <td>Asia</td>\n",
       "      <td>BAU</td>\n",
       "      <td>0.401385</td>\n",
       "    </tr>\n",
       "    <tr>\n",
       "      <th>28</th>\n",
       "      <td>MESSAGEix-GLOBIOM</td>\n",
       "      <td>Latin America &amp;\\nthe Caribbean</td>\n",
       "      <td>BAU</td>\n",
       "      <td>0.124412</td>\n",
       "    </tr>\n",
       "    <tr>\n",
       "      <th>31</th>\n",
       "      <td>MESSAGEix-GLOBIOM</td>\n",
       "      <td>Middle East &amp;\\n Africa</td>\n",
       "      <td>BAU</td>\n",
       "      <td>0.217516</td>\n",
       "    </tr>\n",
       "    <tr>\n",
       "      <th>34</th>\n",
       "      <td>MESSAGEix-GLOBIOM</td>\n",
       "      <td>Former Soviet Union</td>\n",
       "      <td>BAU</td>\n",
       "      <td>0.278791</td>\n",
       "    </tr>\n",
       "  </tbody>\n",
       "</table>\n",
       "</div>"
      ],
      "text/plain": [
       "                Model                          Region Scenario  \\\n",
       "25  MESSAGEix-GLOBIOM                            Asia      BAU   \n",
       "28  MESSAGEix-GLOBIOM  Latin America &\\nthe Caribbean      BAU   \n",
       "31  MESSAGEix-GLOBIOM          Middle East &\\n Africa      BAU   \n",
       "34  MESSAGEix-GLOBIOM             Former Soviet Union      BAU   \n",
       "\n",
       "    maintenance_over_gdp  \n",
       "25              0.401385  \n",
       "28              0.124412  \n",
       "31              0.217516  \n",
       "34              0.278791  "
      ]
     },
     "execution_count": 50,
     "metadata": {},
     "output_type": "execute_result"
    }
   ],
   "source": [
    "maint[(maint.Model==\"MESSAGEix-GLOBIOM\")&(maint.Scenario==\"BAU\")]"
   ]
  },
  {
   "cell_type": "code",
   "execution_count": 51,
   "metadata": {},
   "outputs": [
    {
     "data": {
      "text/html": [
       "<div>\n",
       "<style scoped>\n",
       "    .dataframe tbody tr th:only-of-type {\n",
       "        vertical-align: middle;\n",
       "    }\n",
       "\n",
       "    .dataframe tbody tr th {\n",
       "        vertical-align: top;\n",
       "    }\n",
       "\n",
       "    .dataframe thead th {\n",
       "        text-align: right;\n",
       "    }\n",
       "</style>\n",
       "<table border=\"1\" class=\"dataframe\">\n",
       "  <thead>\n",
       "    <tr style=\"text-align: right;\">\n",
       "      <th></th>\n",
       "      <th>Model</th>\n",
       "      <th>Region</th>\n",
       "      <th>Scenario</th>\n",
       "      <th>maintenance_over_gdp</th>\n",
       "    </tr>\n",
       "  </thead>\n",
       "  <tbody>\n",
       "    <tr>\n",
       "      <th>48</th>\n",
       "      <td>REMIND-MAgPIE</td>\n",
       "      <td>Asia</td>\n",
       "      <td>2C</td>\n",
       "      <td>0.727787</td>\n",
       "    </tr>\n",
       "    <tr>\n",
       "      <th>51</th>\n",
       "      <td>REMIND-MAgPIE</td>\n",
       "      <td>Latin America &amp;\\nthe Caribbean</td>\n",
       "      <td>2C</td>\n",
       "      <td>0.206127</td>\n",
       "    </tr>\n",
       "    <tr>\n",
       "      <th>54</th>\n",
       "      <td>REMIND-MAgPIE</td>\n",
       "      <td>Middle East &amp;\\n Africa</td>\n",
       "      <td>2C</td>\n",
       "      <td>0.239152</td>\n",
       "    </tr>\n",
       "    <tr>\n",
       "      <th>57</th>\n",
       "      <td>REMIND-MAgPIE</td>\n",
       "      <td>Former Soviet Union</td>\n",
       "      <td>2C</td>\n",
       "      <td>0.459323</td>\n",
       "    </tr>\n",
       "  </tbody>\n",
       "</table>\n",
       "</div>"
      ],
      "text/plain": [
       "            Model                          Region Scenario  \\\n",
       "48  REMIND-MAgPIE                            Asia       2C   \n",
       "51  REMIND-MAgPIE  Latin America &\\nthe Caribbean       2C   \n",
       "54  REMIND-MAgPIE          Middle East &\\n Africa       2C   \n",
       "57  REMIND-MAgPIE             Former Soviet Union       2C   \n",
       "\n",
       "    maintenance_over_gdp  \n",
       "48              0.727787  \n",
       "51              0.206127  \n",
       "54              0.239152  \n",
       "57              0.459323  "
      ]
     },
     "execution_count": 51,
     "metadata": {},
     "output_type": "execute_result"
    }
   ],
   "source": [
    "maint[(maint.Model==\"REMIND-MAgPIE\")&(maint.Scenario==\"2C\")]"
   ]
  },
  {
   "cell_type": "code",
   "execution_count": null,
   "metadata": {},
   "outputs": [],
   "source": []
  }
 ],
 "metadata": {
  "kernelspec": {
   "display_name": "Python (Julie1)",
   "language": "python",
   "name": "julie1"
  },
  "language_info": {
   "codemirror_mode": {
    "name": "ipython",
    "version": 3
   },
   "file_extension": ".py",
   "mimetype": "text/x-python",
   "name": "python",
   "nbconvert_exporter": "python",
   "pygments_lexer": "ipython3",
   "version": "3.6.6"
  },
  "toc": {
   "colors": {
    "hover_highlight": "#DAA520",
    "navigate_num": "#000000",
    "navigate_text": "#333333",
    "running_highlight": "#FF0000",
    "selected_highlight": "#FFD700",
    "sidebar_border": "#EEEEEE",
    "wrapper_background": "#FFFFFF"
   },
   "moveMenuLeft": true,
   "nav_menu": {
    "height": "12px",
    "width": "252px"
   },
   "navigate_menu": true,
   "number_sections": true,
   "sideBar": true,
   "threshold": 4,
   "toc_cell": false,
   "toc_section_display": "block",
   "toc_window_display": false,
   "widenNotebook": false
  }
 },
 "nbformat": 4,
 "nbformat_minor": 2
}
