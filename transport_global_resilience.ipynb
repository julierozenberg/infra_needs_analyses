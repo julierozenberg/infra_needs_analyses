{
 "cells": [
  {
   "cell_type": "code",
   "execution_count": 1,
   "metadata": {},
   "outputs": [],
   "source": [
    "%load_ext autoreload\n",
    "%autoreload"
   ]
  },
  {
   "cell_type": "code",
   "execution_count": 2,
   "metadata": {},
   "outputs": [],
   "source": [
    "import pandas as pd\n",
    "import numpy as np\n",
    "import matplotlib.pyplot as plt\n",
    "#import prim\n",
    "import seaborn as sns\n",
    "#from sklearn import mixture\n",
    "import os\n",
    "#from clustering_and_prim_tools import *\n",
    "#from SALib.analyze import sobol\n",
    "#from SALib.sample import saltelli"
   ]
  },
  {
   "cell_type": "code",
   "execution_count": 3,
   "metadata": {},
   "outputs": [],
   "source": [
    "%matplotlib inline"
   ]
  },
  {
   "cell_type": "code",
   "execution_count": 4,
   "metadata": {},
   "outputs": [],
   "source": [
    "sns.set_context(\"poster\",rc={\"font.size\": 28})\n",
    "sns.set_style(\"whitegrid\")"
   ]
  },
  {
   "cell_type": "code",
   "execution_count": 5,
   "metadata": {},
   "outputs": [],
   "source": [
    "rootfolder = \"C:\\\\Users\\\\WB451855\\OneDrive - WBG\\\\!infra_needs_data\\\\transport_cired_output_data\\\\\"\n",
    "\n",
    "invfolder = rootfolder+\"outputs_investments_module_billionusd/\"\n",
    "imaclimfolder = rootfolder+\"outputs_Imaclim/\"\n",
    "physicalinfrafolder = rootfolder+\"outputs_investments_module_physical_stock/\"\n"
   ]
  },
  {
   "cell_type": "code",
   "execution_count": 6,
   "metadata": {},
   "outputs": [],
   "source": [
    "resilience_folder = \"C:\\\\Users\\\\WB451855\\OneDrive - WBG\\\\!infra_needs_data\\\\resilience\\\\Elco latest results\\\\\"\n",
    "resilience_folder2 = \"C:\\\\Users\\\\WB451855\\OneDrive - WBG\\\\!infra_needs_data\\\\resilience\\\\\""
   ]
  },
  {
   "cell_type": "code",
   "execution_count": 7,
   "metadata": {},
   "outputs": [],
   "source": [
    "country_classification = pd.read_excel('C:\\\\Users\\\\WB451855\\OneDrive - WBG\\\\!infra_needs_data\\\\country_classification_2019.xls','List of economies')"
   ]
  },
  {
   "cell_type": "code",
   "execution_count": 8,
   "metadata": {},
   "outputs": [
    {
     "data": {
      "text/plain": [
       "['bridges_wbregion.csv',\n",
       " 'CBA_AF.csv',\n",
       " 'CBA_CF.csv',\n",
       " 'CBA_FU.csv',\n",
       " 'CBA_PU.csv',\n",
       " 'cost_diff.xlsx',\n",
       " 'cost_diff_wash.xlsx',\n",
       " 'Elco latest results',\n",
       " 'exposed_1_100.csv',\n",
       " 'exposed_at_least_one.csv',\n",
       " 'power robcosts_Julie.xlsx',\n",
       " 'power robcosts_Julie2.xlsx',\n",
       " 'power_expo_risk_generation.xlsx',\n",
       " 'rail_wbregion.csv',\n",
       " 'rail_wbregion_exposure_risk.csv',\n",
       " 'road spending GDP.xlsx',\n",
       " 'road spending.xlsx',\n",
       " 'roads_wbregion.csv',\n",
       " 'roads_wbregion_exposure_risk.csv',\n",
       " 'roads_wbregion_test.xlsx',\n",
       " 'UrbanSanitation.xlsx']"
      ]
     },
     "execution_count": 8,
     "metadata": {},
     "output_type": "execute_result"
    }
   ],
   "source": [
    "os.listdir(resilience_folder2)"
   ]
  },
  {
   "cell_type": "code",
   "execution_count": 9,
   "metadata": {},
   "outputs": [],
   "source": [
    "CBA_CF = pd.read_csv(resilience_folder2+'CBA_CF.csv').rename(columns={\"length_exp\":\"length_exp_CF\"})\n",
    "CBA_FU = pd.read_csv(resilience_folder2+'CBA_FU.csv').rename(columns={\"length_exp\":\"length_exp_FU\"})\n",
    "CBA_PU = pd.read_csv(resilience_folder2+'CBA_PU.csv').rename(columns={\"length_exp\":\"length_exp_PU\"})\n",
    "\n",
    "CBA_AF = pd.read_csv(resilience_folder2+'CBA_AF.csv')"
   ]
  },
  {
   "cell_type": "code",
   "execution_count": 10,
   "metadata": {},
   "outputs": [
    {
     "data": {
      "text/html": [
       "<div>\n",
       "<style scoped>\n",
       "    .dataframe tbody tr th:only-of-type {\n",
       "        vertical-align: middle;\n",
       "    }\n",
       "\n",
       "    .dataframe tbody tr th {\n",
       "        vertical-align: top;\n",
       "    }\n",
       "\n",
       "    .dataframe thead th {\n",
       "        text-align: right;\n",
       "    }\n",
       "</style>\n",
       "<table border=\"1\" class=\"dataframe\">\n",
       "  <thead>\n",
       "    <tr style=\"text-align: right;\">\n",
       "      <th></th>\n",
       "      <th>Unnamed: 0</th>\n",
       "      <th>infra_type</th>\n",
       "      <th>perc_50</th>\n",
       "      <th>rel_risk</th>\n",
       "      <th>all_risk_road</th>\n",
       "      <th>infra_value</th>\n",
       "      <th>wbincome_x</th>\n",
       "      <th>main</th>\n",
       "      <th>length</th>\n",
       "      <th>length_exp</th>\n",
       "      <th>ISO_3digit</th>\n",
       "      <th>wbincome_y</th>\n",
       "      <th>wbincome</th>\n",
       "      <th>upgrade</th>\n",
       "      <th>npv_loss</th>\n",
       "      <th>bca</th>\n",
       "      <th>nb</th>\n",
       "    </tr>\n",
       "  </thead>\n",
       "  <tbody>\n",
       "    <tr>\n",
       "      <th>46828</th>\n",
       "      <td>JPN_44_21_1</td>\n",
       "      <td>secondary</td>\n",
       "      <td>515.698737</td>\n",
       "      <td>0.002664</td>\n",
       "      <td>22.075720</td>\n",
       "      <td>34767.595084</td>\n",
       "      <td>HIC</td>\n",
       "      <td>5789.279787</td>\n",
       "      <td>22.075720</td>\n",
       "      <td>8.388174</td>\n",
       "      <td>JPN</td>\n",
       "      <td>HIO</td>\n",
       "      <td>HIC</td>\n",
       "      <td>695.351902</td>\n",
       "      <td>6341.069383</td>\n",
       "      <td>0.977861</td>\n",
       "      <td>-143.562306</td>\n",
       "    </tr>\n",
       "    <tr>\n",
       "      <th>83258</th>\n",
       "      <td>SLV_6_13_1</td>\n",
       "      <td>secondary</td>\n",
       "      <td>602.623746</td>\n",
       "      <td>0.000153</td>\n",
       "      <td>11.587393</td>\n",
       "      <td>1406.341679</td>\n",
       "      <td>LMC</td>\n",
       "      <td>171.927552</td>\n",
       "      <td>11.587393</td>\n",
       "      <td>0.116469</td>\n",
       "      <td>SLV</td>\n",
       "      <td>LMI</td>\n",
       "      <td>LMC</td>\n",
       "      <td>28.126834</td>\n",
       "      <td>5570.796718</td>\n",
       "      <td>10.000000</td>\n",
       "      <td>5370.742332</td>\n",
       "    </tr>\n",
       "    <tr>\n",
       "      <th>47017</th>\n",
       "      <td>JPN_46_20_1</td>\n",
       "      <td>primary</td>\n",
       "      <td>3547.604387</td>\n",
       "      <td>0.002416</td>\n",
       "      <td>81.499610</td>\n",
       "      <td>433110.876758</td>\n",
       "      <td>HIC</td>\n",
       "      <td>95350.950524</td>\n",
       "      <td>81.499610</td>\n",
       "      <td>21.457084</td>\n",
       "      <td>JPN</td>\n",
       "      <td>HIO</td>\n",
       "      <td>HIC</td>\n",
       "      <td>8662.217535</td>\n",
       "      <td>54362.776939</td>\n",
       "      <td>0.522653</td>\n",
       "      <td>-49650.391120</td>\n",
       "    </tr>\n",
       "  </tbody>\n",
       "</table>\n",
       "</div>"
      ],
      "text/plain": [
       "        Unnamed: 0 infra_type      perc_50  rel_risk  all_risk_road  \\\n",
       "46828  JPN_44_21_1  secondary   515.698737  0.002664      22.075720   \n",
       "83258   SLV_6_13_1  secondary   602.623746  0.000153      11.587393   \n",
       "47017  JPN_46_20_1    primary  3547.604387  0.002416      81.499610   \n",
       "\n",
       "         infra_value wbincome_x          main     length  length_exp  \\\n",
       "46828   34767.595084        HIC   5789.279787  22.075720    8.388174   \n",
       "83258    1406.341679        LMC    171.927552  11.587393    0.116469   \n",
       "47017  433110.876758        HIC  95350.950524  81.499610   21.457084   \n",
       "\n",
       "      ISO_3digit wbincome_y wbincome      upgrade      npv_loss        bca  \\\n",
       "46828        JPN        HIO      HIC   695.351902   6341.069383   0.977861   \n",
       "83258        SLV        LMI      LMC    28.126834   5570.796718  10.000000   \n",
       "47017        JPN        HIO      HIC  8662.217535  54362.776939   0.522653   \n",
       "\n",
       "                 nb  \n",
       "46828   -143.562306  \n",
       "83258   5370.742332  \n",
       "47017 -49650.391120  "
      ]
     },
     "execution_count": 10,
     "metadata": {},
     "output_type": "execute_result"
    }
   ],
   "source": [
    "CBA_AF.sample(3)"
   ]
  },
  {
   "cell_type": "code",
   "execution_count": 11,
   "metadata": {},
   "outputs": [],
   "source": [
    "CBA_AF = CBA_AF.merge(country_classification.rename(columns={'Code':'ISO_3digit'})[['ISO_3digit','Region']],on='ISO_3digit',how='left')"
   ]
  },
  {
   "cell_type": "code",
   "execution_count": 12,
   "metadata": {},
   "outputs": [],
   "source": [
    "exposed_all_floods = CBA_AF.set_index([\"ISO_3digit\",'Region','wbincome'])[[\"length\",\"length_exp\"]].sum(level=[\"ISO_3digit\",'Region','wbincome'])"
   ]
  },
  {
   "cell_type": "code",
   "execution_count": 13,
   "metadata": {},
   "outputs": [],
   "source": [
    "exposed_all_floods['share_exposed'] = exposed_all_floods.length_exp/exposed_all_floods.length"
   ]
  },
  {
   "cell_type": "code",
   "execution_count": 14,
   "metadata": {},
   "outputs": [],
   "source": [
    "exposed_all_floods_wbregion = exposed_all_floods[[\"length\",\"length_exp\"]].sum(level=\"Region\")\n",
    "exposed_all_floods_wbregion['share_exposed'] = exposed_all_floods_wbregion.length_exp/exposed_all_floods_wbregion.length"
   ]
  },
  {
   "cell_type": "code",
   "execution_count": 15,
   "metadata": {},
   "outputs": [],
   "source": [
    "exposed_all_floods_wbincome = exposed_all_floods[[\"length\",\"length_exp\"]].sum(level=\"wbincome\")\n",
    "exposed_all_floods_wbincome['share_exposed'] = exposed_all_floods_wbincome.length_exp/exposed_all_floods_wbincome.length"
   ]
  },
  {
   "cell_type": "code",
   "execution_count": 16,
   "metadata": {},
   "outputs": [],
   "source": [
    "dict_region = {'Latin America & Caribbean':'LAM', 'Europe & Central Asia':'CIS',\n",
    "       'Middle East & North Africa':\"MAF\", 'East Asia & Pacific':\"ASIA\",\n",
    "       'North America':\"OCDE\", 'South Asia':'ASIA', 'Sub-Saharan Africa':'MAF'}"
   ]
  },
  {
   "cell_type": "code",
   "execution_count": 17,
   "metadata": {},
   "outputs": [],
   "source": [
    "exposed_all_floods;"
   ]
  },
  {
   "cell_type": "code",
   "execution_count": 18,
   "metadata": {},
   "outputs": [],
   "source": [
    "exposed_all_floods = exposed_all_floods.reset_index(\"Region\")\n",
    "exposed_all_floods['imaclim_region'] = exposed_all_floods.Region.replace(dict_region)\n",
    "\n",
    "exposed_all_floods_imaclim = exposed_all_floods.set_index(['Region','imaclim_region'],append=True)[[\"length\",\"length_exp\"]].sum(level=\"imaclim_region\")\n",
    "exposed_all_floods_imaclim['share_exposed'] = exposed_all_floods_imaclim.length_exp/exposed_all_floods_imaclim.length"
   ]
  },
  {
   "cell_type": "code",
   "execution_count": 19,
   "metadata": {},
   "outputs": [
    {
     "data": {
      "text/html": [
       "<div>\n",
       "<style scoped>\n",
       "    .dataframe tbody tr th:only-of-type {\n",
       "        vertical-align: middle;\n",
       "    }\n",
       "\n",
       "    .dataframe tbody tr th {\n",
       "        vertical-align: top;\n",
       "    }\n",
       "\n",
       "    .dataframe thead th {\n",
       "        text-align: right;\n",
       "    }\n",
       "</style>\n",
       "<table border=\"1\" class=\"dataframe\">\n",
       "  <thead>\n",
       "    <tr style=\"text-align: right;\">\n",
       "      <th></th>\n",
       "      <th>length</th>\n",
       "      <th>length_exp</th>\n",
       "      <th>share_exposed</th>\n",
       "    </tr>\n",
       "    <tr>\n",
       "      <th>imaclim_region</th>\n",
       "      <th></th>\n",
       "      <th></th>\n",
       "      <th></th>\n",
       "    </tr>\n",
       "  </thead>\n",
       "  <tbody>\n",
       "    <tr>\n",
       "      <th>LAM</th>\n",
       "      <td>5.720895e+06</td>\n",
       "      <td>4.022824e+05</td>\n",
       "      <td>0.070318</td>\n",
       "    </tr>\n",
       "    <tr>\n",
       "      <th>ASIA</th>\n",
       "      <td>9.998770e+06</td>\n",
       "      <td>1.298429e+06</td>\n",
       "      <td>0.129859</td>\n",
       "    </tr>\n",
       "    <tr>\n",
       "      <th>MAF</th>\n",
       "      <td>6.342259e+06</td>\n",
       "      <td>3.458822e+05</td>\n",
       "      <td>0.054536</td>\n",
       "    </tr>\n",
       "    <tr>\n",
       "      <th>CIS</th>\n",
       "      <td>1.145742e+07</td>\n",
       "      <td>6.896106e+05</td>\n",
       "      <td>0.060189</td>\n",
       "    </tr>\n",
       "    <tr>\n",
       "      <th>OCDE</th>\n",
       "      <td>1.168767e+07</td>\n",
       "      <td>6.560104e+05</td>\n",
       "      <td>0.056128</td>\n",
       "    </tr>\n",
       "  </tbody>\n",
       "</table>\n",
       "</div>"
      ],
      "text/plain": [
       "                      length    length_exp  share_exposed\n",
       "imaclim_region                                           \n",
       "LAM             5.720895e+06  4.022824e+05       0.070318\n",
       "ASIA            9.998770e+06  1.298429e+06       0.129859\n",
       "MAF             6.342259e+06  3.458822e+05       0.054536\n",
       "CIS             1.145742e+07  6.896106e+05       0.060189\n",
       "OCDE            1.168767e+07  6.560104e+05       0.056128"
      ]
     },
     "execution_count": 19,
     "metadata": {},
     "output_type": "execute_result"
    }
   ],
   "source": [
    "exposed_all_floods_imaclim"
   ]
  },
  {
   "cell_type": "code",
   "execution_count": null,
   "metadata": {},
   "outputs": [],
   "source": []
  },
  {
   "cell_type": "code",
   "execution_count": null,
   "metadata": {},
   "outputs": [],
   "source": []
  },
  {
   "cell_type": "code",
   "execution_count": 20,
   "metadata": {},
   "outputs": [],
   "source": [
    "exposed_floods = CBA_CF[[\"Unnamed: 0\",\"ISO_3digit\",\"length\",\"length_exp_CF\"]].merge(CBA_FU[[\"Unnamed: 0\",\"length_exp_FU\"]],on=[\"Unnamed: 0\"]).merge(CBA_PU[[\"Unnamed: 0\",\"length_exp_PU\"]],on=[\"Unnamed: 0\"])"
   ]
  },
  {
   "cell_type": "code",
   "execution_count": 21,
   "metadata": {},
   "outputs": [],
   "source": [
    "exposed_floods = exposed_floods.merge(country_classification.rename(columns={'Code':'ISO_3digit'})[['ISO_3digit','Region']],on='ISO_3digit',how='left')"
   ]
  },
  {
   "cell_type": "code",
   "execution_count": 22,
   "metadata": {},
   "outputs": [],
   "source": [
    "exposed_floods['imaclim_region'] = exposed_floods.Region.replace(dict_region)"
   ]
  },
  {
   "cell_type": "code",
   "execution_count": 23,
   "metadata": {},
   "outputs": [],
   "source": [
    "exposed_floods_imaclim = exposed_floods.set_index('imaclim_region')[['length','length_exp_CF',\"length_exp_FU\",\"length_exp_PU\"]].sum(level='imaclim_region')\n",
    "exposed_floods_wbreg = exposed_floods.set_index('Region')[['length','length_exp_CF',\"length_exp_FU\",\"length_exp_PU\"]].sum(level='Region')"
   ]
  },
  {
   "cell_type": "code",
   "execution_count": 24,
   "metadata": {},
   "outputs": [],
   "source": [
    "exposed_floods_imaclim['share_exposed'] = exposed_floods_imaclim[['length_exp_CF',\"length_exp_FU\",\"length_exp_PU\"]].sum(axis=1)/exposed_floods_imaclim['length']\n",
    "exposed_floods_wbreg['share_exposed'] = exposed_floods_wbreg[['length_exp_CF',\"length_exp_FU\",\"length_exp_PU\"]].sum(axis=1)/exposed_floods_wbreg['length']"
   ]
  },
  {
   "cell_type": "code",
   "execution_count": 25,
   "metadata": {},
   "outputs": [
    {
     "data": {
      "text/html": [
       "<div>\n",
       "<style scoped>\n",
       "    .dataframe tbody tr th:only-of-type {\n",
       "        vertical-align: middle;\n",
       "    }\n",
       "\n",
       "    .dataframe tbody tr th {\n",
       "        vertical-align: top;\n",
       "    }\n",
       "\n",
       "    .dataframe thead th {\n",
       "        text-align: right;\n",
       "    }\n",
       "</style>\n",
       "<table border=\"1\" class=\"dataframe\">\n",
       "  <thead>\n",
       "    <tr style=\"text-align: right;\">\n",
       "      <th></th>\n",
       "      <th>length</th>\n",
       "      <th>length_exp_CF</th>\n",
       "      <th>length_exp_FU</th>\n",
       "      <th>length_exp_PU</th>\n",
       "      <th>share_exposed</th>\n",
       "    </tr>\n",
       "    <tr>\n",
       "      <th>Region</th>\n",
       "      <th></th>\n",
       "      <th></th>\n",
       "      <th></th>\n",
       "      <th></th>\n",
       "      <th></th>\n",
       "    </tr>\n",
       "  </thead>\n",
       "  <tbody>\n",
       "    <tr>\n",
       "      <th>Sub-Saharan Africa</th>\n",
       "      <td>1.599550e+06</td>\n",
       "      <td>5089.583262</td>\n",
       "      <td>2.304150e+04</td>\n",
       "      <td>3.399187e+04</td>\n",
       "      <td>0.038838</td>\n",
       "    </tr>\n",
       "    <tr>\n",
       "      <th>Europe &amp; Central Asia</th>\n",
       "      <td>1.809133e+07</td>\n",
       "      <td>929980.789599</td>\n",
       "      <td>5.950536e+05</td>\n",
       "      <td>4.440217e+05</td>\n",
       "      <td>0.108840</td>\n",
       "    </tr>\n",
       "    <tr>\n",
       "      <th>Middle East &amp; North Africa</th>\n",
       "      <td>2.270970e+06</td>\n",
       "      <td>53511.178031</td>\n",
       "      <td>7.973716e+04</td>\n",
       "      <td>3.583158e+04</td>\n",
       "      <td>0.074453</td>\n",
       "    </tr>\n",
       "    <tr>\n",
       "      <th>Latin America &amp; Caribbean</th>\n",
       "      <td>3.890118e+06</td>\n",
       "      <td>29968.894448</td>\n",
       "      <td>1.390783e+05</td>\n",
       "      <td>1.531675e+05</td>\n",
       "      <td>0.082829</td>\n",
       "    </tr>\n",
       "    <tr>\n",
       "      <th>East Asia &amp; Pacific</th>\n",
       "      <td>1.796782e+07</td>\n",
       "      <td>839069.096909</td>\n",
       "      <td>1.123067e+06</td>\n",
       "      <td>2.053144e+06</td>\n",
       "      <td>0.223471</td>\n",
       "    </tr>\n",
       "    <tr>\n",
       "      <th>South Asia</th>\n",
       "      <td>1.959134e+06</td>\n",
       "      <td>21469.245345</td>\n",
       "      <td>5.881345e+04</td>\n",
       "      <td>9.839042e+04</td>\n",
       "      <td>0.091200</td>\n",
       "    </tr>\n",
       "    <tr>\n",
       "      <th>North America</th>\n",
       "      <td>1.132532e+07</td>\n",
       "      <td>267381.220175</td>\n",
       "      <td>4.733918e+05</td>\n",
       "      <td>3.773661e+05</td>\n",
       "      <td>0.098729</td>\n",
       "    </tr>\n",
       "  </tbody>\n",
       "</table>\n",
       "</div>"
      ],
      "text/plain": [
       "                                  length  length_exp_CF  length_exp_FU  \\\n",
       "Region                                                                   \n",
       "Sub-Saharan Africa          1.599550e+06    5089.583262   2.304150e+04   \n",
       "Europe & Central Asia       1.809133e+07  929980.789599   5.950536e+05   \n",
       "Middle East & North Africa  2.270970e+06   53511.178031   7.973716e+04   \n",
       "Latin America & Caribbean   3.890118e+06   29968.894448   1.390783e+05   \n",
       "East Asia & Pacific         1.796782e+07  839069.096909   1.123067e+06   \n",
       "South Asia                  1.959134e+06   21469.245345   5.881345e+04   \n",
       "North America               1.132532e+07  267381.220175   4.733918e+05   \n",
       "\n",
       "                            length_exp_PU  share_exposed  \n",
       "Region                                                    \n",
       "Sub-Saharan Africa           3.399187e+04       0.038838  \n",
       "Europe & Central Asia        4.440217e+05       0.108840  \n",
       "Middle East & North Africa   3.583158e+04       0.074453  \n",
       "Latin America & Caribbean    1.531675e+05       0.082829  \n",
       "East Asia & Pacific          2.053144e+06       0.223471  \n",
       "South Asia                   9.839042e+04       0.091200  \n",
       "North America                3.773661e+05       0.098729  "
      ]
     },
     "execution_count": 25,
     "metadata": {},
     "output_type": "execute_result"
    }
   ],
   "source": [
    "exposed_floods_wbreg"
   ]
  },
  {
   "cell_type": "code",
   "execution_count": 26,
   "metadata": {},
   "outputs": [],
   "source": [
    "exposed_floods_country = exposed_floods.set_index('ISO_3digit')[['length','length_exp_CF',\"length_exp_FU\",\"length_exp_PU\"]].sum(level='ISO_3digit')"
   ]
  },
  {
   "cell_type": "code",
   "execution_count": 27,
   "metadata": {},
   "outputs": [],
   "source": [
    "exposed_floods_country['share_exposed'] = exposed_floods_country[['length_exp_CF',\"length_exp_FU\",\"length_exp_PU\"]].sum(axis=1)/exposed_floods_country['length']"
   ]
  },
  {
   "cell_type": "code",
   "execution_count": 28,
   "metadata": {},
   "outputs": [],
   "source": [
    "exposed_floods_country.to_csv(\"country_roads_flood_exposure.csv\")"
   ]
  },
  {
   "cell_type": "code",
   "execution_count": 29,
   "metadata": {},
   "outputs": [
    {
     "data": {
      "text/plain": [
       "count    127.000000\n",
       "mean       0.098213\n",
       "std        0.099525\n",
       "min        0.006780\n",
       "25%        0.047264\n",
       "50%        0.072143\n",
       "75%        0.120721\n",
       "max        0.922271\n",
       "Name: share_exposed, dtype: float64"
      ]
     },
     "execution_count": 29,
     "metadata": {},
     "output_type": "execute_result"
    }
   ],
   "source": [
    "exposed_floods_country.share_exposed.describe()"
   ]
  },
  {
   "cell_type": "code",
   "execution_count": 30,
   "metadata": {},
   "outputs": [
    {
     "data": {
      "text/html": [
       "<div>\n",
       "<style scoped>\n",
       "    .dataframe tbody tr th:only-of-type {\n",
       "        vertical-align: middle;\n",
       "    }\n",
       "\n",
       "    .dataframe tbody tr th {\n",
       "        vertical-align: top;\n",
       "    }\n",
       "\n",
       "    .dataframe thead th {\n",
       "        text-align: right;\n",
       "    }\n",
       "</style>\n",
       "<table border=\"1\" class=\"dataframe\">\n",
       "  <thead>\n",
       "    <tr style=\"text-align: right;\">\n",
       "      <th></th>\n",
       "      <th>length</th>\n",
       "      <th>length_exp_CF</th>\n",
       "      <th>length_exp_FU</th>\n",
       "      <th>length_exp_PU</th>\n",
       "      <th>share_exposed</th>\n",
       "    </tr>\n",
       "    <tr>\n",
       "      <th>ISO_3digit</th>\n",
       "      <th></th>\n",
       "      <th></th>\n",
       "      <th></th>\n",
       "      <th></th>\n",
       "      <th></th>\n",
       "    </tr>\n",
       "  </thead>\n",
       "  <tbody>\n",
       "    <tr>\n",
       "      <th>ALB</th>\n",
       "      <td>6.808661e+04</td>\n",
       "      <td>4825.130464</td>\n",
       "      <td>6419.250497</td>\n",
       "      <td>3429.137410</td>\n",
       "      <td>0.215513</td>\n",
       "    </tr>\n",
       "    <tr>\n",
       "      <th>BEL</th>\n",
       "      <td>3.964480e+05</td>\n",
       "      <td>46395.240104</td>\n",
       "      <td>25235.838704</td>\n",
       "      <td>8556.004229</td>\n",
       "      <td>0.202264</td>\n",
       "    </tr>\n",
       "    <tr>\n",
       "      <th>BGD</th>\n",
       "      <td>2.302448e+05</td>\n",
       "      <td>11479.487498</td>\n",
       "      <td>14051.354867</td>\n",
       "      <td>21659.621086</td>\n",
       "      <td>0.204958</td>\n",
       "    </tr>\n",
       "    <tr>\n",
       "      <th>CHN</th>\n",
       "      <td>4.533437e+06</td>\n",
       "      <td>299088.031349</td>\n",
       "      <td>487527.308461</td>\n",
       "      <td>502261.048719</td>\n",
       "      <td>0.284304</td>\n",
       "    </tr>\n",
       "    <tr>\n",
       "      <th>DEU</th>\n",
       "      <td>9.264534e+05</td>\n",
       "      <td>168365.782235</td>\n",
       "      <td>68326.350749</td>\n",
       "      <td>14642.009942</td>\n",
       "      <td>0.271286</td>\n",
       "    </tr>\n",
       "    <tr>\n",
       "      <th>IRQ</th>\n",
       "      <td>6.850095e+03</td>\n",
       "      <td>330.506729</td>\n",
       "      <td>1367.841145</td>\n",
       "      <td>57.799100</td>\n",
       "      <td>0.256368</td>\n",
       "    </tr>\n",
       "    <tr>\n",
       "      <th>JPN</th>\n",
       "      <td>4.780649e+06</td>\n",
       "      <td>370644.086992</td>\n",
       "      <td>283406.111947</td>\n",
       "      <td>817640.852044</td>\n",
       "      <td>0.307843</td>\n",
       "    </tr>\n",
       "    <tr>\n",
       "      <th>NLD</th>\n",
       "      <td>5.878246e+05</td>\n",
       "      <td>381511.858878</td>\n",
       "      <td>143003.707000</td>\n",
       "      <td>17618.037067</td>\n",
       "      <td>0.922271</td>\n",
       "    </tr>\n",
       "    <tr>\n",
       "      <th>TWN</th>\n",
       "      <td>9.332382e+05</td>\n",
       "      <td>38295.322010</td>\n",
       "      <td>34956.728777</td>\n",
       "      <td>121712.580700</td>\n",
       "      <td>0.208912</td>\n",
       "    </tr>\n",
       "    <tr>\n",
       "      <th>VNM</th>\n",
       "      <td>2.810504e+05</td>\n",
       "      <td>58202.036359</td>\n",
       "      <td>29849.628445</td>\n",
       "      <td>23187.574332</td>\n",
       "      <td>0.395798</td>\n",
       "    </tr>\n",
       "  </tbody>\n",
       "</table>\n",
       "</div>"
      ],
      "text/plain": [
       "                  length  length_exp_CF  length_exp_FU  length_exp_PU  \\\n",
       "ISO_3digit                                                              \n",
       "ALB         6.808661e+04    4825.130464    6419.250497    3429.137410   \n",
       "BEL         3.964480e+05   46395.240104   25235.838704    8556.004229   \n",
       "BGD         2.302448e+05   11479.487498   14051.354867   21659.621086   \n",
       "CHN         4.533437e+06  299088.031349  487527.308461  502261.048719   \n",
       "DEU         9.264534e+05  168365.782235   68326.350749   14642.009942   \n",
       "IRQ         6.850095e+03     330.506729    1367.841145      57.799100   \n",
       "JPN         4.780649e+06  370644.086992  283406.111947  817640.852044   \n",
       "NLD         5.878246e+05  381511.858878  143003.707000   17618.037067   \n",
       "TWN         9.332382e+05   38295.322010   34956.728777  121712.580700   \n",
       "VNM         2.810504e+05   58202.036359   29849.628445   23187.574332   \n",
       "\n",
       "            share_exposed  \n",
       "ISO_3digit                 \n",
       "ALB              0.215513  \n",
       "BEL              0.202264  \n",
       "BGD              0.204958  \n",
       "CHN              0.284304  \n",
       "DEU              0.271286  \n",
       "IRQ              0.256368  \n",
       "JPN              0.307843  \n",
       "NLD              0.922271  \n",
       "TWN              0.208912  \n",
       "VNM              0.395798  "
      ]
     },
     "execution_count": 30,
     "metadata": {},
     "output_type": "execute_result"
    }
   ],
   "source": [
    "exposed_floods_country[exposed_floods_country.share_exposed>0.2]"
   ]
  },
  {
   "cell_type": "code",
   "execution_count": 31,
   "metadata": {},
   "outputs": [
    {
     "data": {
      "text/plain": [
       "length           67279.833640\n",
       "length_exp_CF      167.390647\n",
       "length_exp_FU     3431.534692\n",
       "length_exp_PU     2673.120493\n",
       "share_exposed        0.093223\n",
       "Name: MDG, dtype: float64"
      ]
     },
     "execution_count": 31,
     "metadata": {},
     "output_type": "execute_result"
    }
   ],
   "source": [
    "exposed_floods_country.loc[\"MDG\"]"
   ]
  },
  {
   "cell_type": "code",
   "execution_count": null,
   "metadata": {},
   "outputs": [],
   "source": []
  },
  {
   "cell_type": "code",
   "execution_count": 32,
   "metadata": {},
   "outputs": [
    {
     "data": {
      "text/html": [
       "<div>\n",
       "<style scoped>\n",
       "    .dataframe tbody tr th:only-of-type {\n",
       "        vertical-align: middle;\n",
       "    }\n",
       "\n",
       "    .dataframe tbody tr th {\n",
       "        vertical-align: top;\n",
       "    }\n",
       "\n",
       "    .dataframe thead th {\n",
       "        text-align: right;\n",
       "    }\n",
       "</style>\n",
       "<table border=\"1\" class=\"dataframe\">\n",
       "  <thead>\n",
       "    <tr style=\"text-align: right;\">\n",
       "      <th></th>\n",
       "      <th>length</th>\n",
       "      <th>length_exp_CF</th>\n",
       "      <th>length_exp_FU</th>\n",
       "      <th>length_exp_PU</th>\n",
       "      <th>share_exposed</th>\n",
       "    </tr>\n",
       "    <tr>\n",
       "      <th>imaclim_region</th>\n",
       "      <th></th>\n",
       "      <th></th>\n",
       "      <th></th>\n",
       "      <th></th>\n",
       "      <th></th>\n",
       "    </tr>\n",
       "  </thead>\n",
       "  <tbody>\n",
       "    <tr>\n",
       "      <th>MAF</th>\n",
       "      <td>3.870520e+06</td>\n",
       "      <td>58600.761293</td>\n",
       "      <td>1.027787e+05</td>\n",
       "      <td>6.982345e+04</td>\n",
       "      <td>0.059734</td>\n",
       "    </tr>\n",
       "    <tr>\n",
       "      <th>CIS</th>\n",
       "      <td>1.809133e+07</td>\n",
       "      <td>929980.789599</td>\n",
       "      <td>5.950536e+05</td>\n",
       "      <td>4.440217e+05</td>\n",
       "      <td>0.108840</td>\n",
       "    </tr>\n",
       "    <tr>\n",
       "      <th>LAM</th>\n",
       "      <td>3.890118e+06</td>\n",
       "      <td>29968.894448</td>\n",
       "      <td>1.390783e+05</td>\n",
       "      <td>1.531675e+05</td>\n",
       "      <td>0.082829</td>\n",
       "    </tr>\n",
       "    <tr>\n",
       "      <th>ASIA</th>\n",
       "      <td>1.992696e+07</td>\n",
       "      <td>860538.342253</td>\n",
       "      <td>1.181880e+06</td>\n",
       "      <td>2.151534e+06</td>\n",
       "      <td>0.210466</td>\n",
       "    </tr>\n",
       "    <tr>\n",
       "      <th>OCDE</th>\n",
       "      <td>1.132532e+07</td>\n",
       "      <td>267381.220175</td>\n",
       "      <td>4.733918e+05</td>\n",
       "      <td>3.773661e+05</td>\n",
       "      <td>0.098729</td>\n",
       "    </tr>\n",
       "  </tbody>\n",
       "</table>\n",
       "</div>"
      ],
      "text/plain": [
       "                      length  length_exp_CF  length_exp_FU  length_exp_PU  \\\n",
       "imaclim_region                                                              \n",
       "MAF             3.870520e+06   58600.761293   1.027787e+05   6.982345e+04   \n",
       "CIS             1.809133e+07  929980.789599   5.950536e+05   4.440217e+05   \n",
       "LAM             3.890118e+06   29968.894448   1.390783e+05   1.531675e+05   \n",
       "ASIA            1.992696e+07  860538.342253   1.181880e+06   2.151534e+06   \n",
       "OCDE            1.132532e+07  267381.220175   4.733918e+05   3.773661e+05   \n",
       "\n",
       "                share_exposed  \n",
       "imaclim_region                 \n",
       "MAF                  0.059734  \n",
       "CIS                  0.108840  \n",
       "LAM                  0.082829  \n",
       "ASIA                 0.210466  \n",
       "OCDE                 0.098729  "
      ]
     },
     "execution_count": 32,
     "metadata": {},
     "output_type": "execute_result"
    }
   ],
   "source": [
    "exposed_floods_imaclim"
   ]
  },
  {
   "cell_type": "code",
   "execution_count": 33,
   "metadata": {},
   "outputs": [
    {
     "data": {
      "text/html": [
       "<div>\n",
       "<style scoped>\n",
       "    .dataframe tbody tr th:only-of-type {\n",
       "        vertical-align: middle;\n",
       "    }\n",
       "\n",
       "    .dataframe tbody tr th {\n",
       "        vertical-align: top;\n",
       "    }\n",
       "\n",
       "    .dataframe thead th {\n",
       "        text-align: right;\n",
       "    }\n",
       "</style>\n",
       "<table border=\"1\" class=\"dataframe\">\n",
       "  <thead>\n",
       "    <tr style=\"text-align: right;\">\n",
       "      <th></th>\n",
       "      <th>length_exp_CF</th>\n",
       "      <th>length_exp_FU</th>\n",
       "      <th>length_exp_PU</th>\n",
       "    </tr>\n",
       "    <tr>\n",
       "      <th>imaclim_region</th>\n",
       "      <th></th>\n",
       "      <th></th>\n",
       "      <th></th>\n",
       "    </tr>\n",
       "  </thead>\n",
       "  <tbody>\n",
       "    <tr>\n",
       "      <th>MAF</th>\n",
       "      <td>0.015140</td>\n",
       "      <td>0.026554</td>\n",
       "      <td>0.018040</td>\n",
       "    </tr>\n",
       "    <tr>\n",
       "      <th>CIS</th>\n",
       "      <td>0.051405</td>\n",
       "      <td>0.032892</td>\n",
       "      <td>0.024543</td>\n",
       "    </tr>\n",
       "    <tr>\n",
       "      <th>LAM</th>\n",
       "      <td>0.007704</td>\n",
       "      <td>0.035752</td>\n",
       "      <td>0.039373</td>\n",
       "    </tr>\n",
       "    <tr>\n",
       "      <th>ASIA</th>\n",
       "      <td>0.043185</td>\n",
       "      <td>0.059311</td>\n",
       "      <td>0.107971</td>\n",
       "    </tr>\n",
       "    <tr>\n",
       "      <th>OCDE</th>\n",
       "      <td>0.023609</td>\n",
       "      <td>0.041799</td>\n",
       "      <td>0.033321</td>\n",
       "    </tr>\n",
       "  </tbody>\n",
       "</table>\n",
       "</div>"
      ],
      "text/plain": [
       "                length_exp_CF  length_exp_FU  length_exp_PU\n",
       "imaclim_region                                             \n",
       "MAF                  0.015140       0.026554       0.018040\n",
       "CIS                  0.051405       0.032892       0.024543\n",
       "LAM                  0.007704       0.035752       0.039373\n",
       "ASIA                 0.043185       0.059311       0.107971\n",
       "OCDE                 0.023609       0.041799       0.033321"
      ]
     },
     "execution_count": 33,
     "metadata": {},
     "output_type": "execute_result"
    }
   ],
   "source": [
    "exposed_floods_imaclim[['length_exp_CF',\"length_exp_FU\",\"length_exp_PU\"]].div(exposed_floods_imaclim['length'],axis=0)"
   ]
  },
  {
   "cell_type": "code",
   "execution_count": 34,
   "metadata": {},
   "outputs": [],
   "source": [
    "exposed = pd.read_csv(resilience_folder2+'exposed_1_100.csv')"
   ]
  },
  {
   "cell_type": "code",
   "execution_count": 35,
   "metadata": {},
   "outputs": [
    {
     "data": {
      "text/html": [
       "<div>\n",
       "<style scoped>\n",
       "    .dataframe tbody tr th:only-of-type {\n",
       "        vertical-align: middle;\n",
       "    }\n",
       "\n",
       "    .dataframe tbody tr th {\n",
       "        vertical-align: top;\n",
       "    }\n",
       "\n",
       "    .dataframe thead th {\n",
       "        text-align: right;\n",
       "    }\n",
       "</style>\n",
       "<table border=\"1\" class=\"dataframe\">\n",
       "  <thead>\n",
       "    <tr style=\"text-align: right;\">\n",
       "      <th></th>\n",
       "      <th>Unnamed: 0</th>\n",
       "      <th>road_type</th>\n",
       "      <th>region</th>\n",
       "      <th>country</th>\n",
       "      <th>continent</th>\n",
       "      <th>length</th>\n",
       "      <th>length_exp</th>\n",
       "      <th>wbincome</th>\n",
       "    </tr>\n",
       "  </thead>\n",
       "  <tbody>\n",
       "    <tr>\n",
       "      <th>89283</th>\n",
       "      <td>89283</td>\n",
       "      <td>other</td>\n",
       "      <td>CHN_23_7_1</td>\n",
       "      <td>CHN</td>\n",
       "      <td>Asia</td>\n",
       "      <td>17.943428</td>\n",
       "      <td>0.419252</td>\n",
       "      <td>UMC</td>\n",
       "    </tr>\n",
       "    <tr>\n",
       "      <th>69899</th>\n",
       "      <td>69899</td>\n",
       "      <td>primary</td>\n",
       "      <td>SYR_8_4_1</td>\n",
       "      <td>SYR</td>\n",
       "      <td>Asia</td>\n",
       "      <td>119.066161</td>\n",
       "      <td>12.379904</td>\n",
       "      <td>LIC</td>\n",
       "    </tr>\n",
       "    <tr>\n",
       "      <th>120254</th>\n",
       "      <td>120254</td>\n",
       "      <td>primary</td>\n",
       "      <td>BRA_25_635_1</td>\n",
       "      <td>BRA</td>\n",
       "      <td>South-America</td>\n",
       "      <td>36.546219</td>\n",
       "      <td>2.468303</td>\n",
       "      <td>UMC</td>\n",
       "    </tr>\n",
       "    <tr>\n",
       "      <th>118143</th>\n",
       "      <td>118143</td>\n",
       "      <td>tertiary</td>\n",
       "      <td>ROU_5_83_1</td>\n",
       "      <td>ROU</td>\n",
       "      <td>Europe</td>\n",
       "      <td>29.972273</td>\n",
       "      <td>0.877288</td>\n",
       "      <td>UMC</td>\n",
       "    </tr>\n",
       "    <tr>\n",
       "      <th>99835</th>\n",
       "      <td>99835</td>\n",
       "      <td>secondary</td>\n",
       "      <td>THA_32_13_1</td>\n",
       "      <td>THA</td>\n",
       "      <td>Asia</td>\n",
       "      <td>58.419990</td>\n",
       "      <td>5.129867</td>\n",
       "      <td>UMC</td>\n",
       "    </tr>\n",
       "  </tbody>\n",
       "</table>\n",
       "</div>"
      ],
      "text/plain": [
       "        Unnamed: 0  road_type        region country      continent  \\\n",
       "89283        89283      other    CHN_23_7_1     CHN           Asia   \n",
       "69899        69899    primary     SYR_8_4_1     SYR           Asia   \n",
       "120254      120254    primary  BRA_25_635_1     BRA  South-America   \n",
       "118143      118143   tertiary    ROU_5_83_1     ROU         Europe   \n",
       "99835        99835  secondary   THA_32_13_1     THA           Asia   \n",
       "\n",
       "            length  length_exp wbincome  \n",
       "89283    17.943428    0.419252      UMC  \n",
       "69899   119.066161   12.379904      LIC  \n",
       "120254   36.546219    2.468303      UMC  \n",
       "118143   29.972273    0.877288      UMC  \n",
       "99835    58.419990    5.129867      UMC  "
      ]
     },
     "execution_count": 35,
     "metadata": {},
     "output_type": "execute_result"
    }
   ],
   "source": [
    "exposed.sample(5)"
   ]
  },
  {
   "cell_type": "code",
   "execution_count": 36,
   "metadata": {},
   "outputs": [],
   "source": [
    "exposed = exposed.merge(country_classification.rename(columns={'Code':'country'})[['country','Region']],on='country',how='left')"
   ]
  },
  {
   "cell_type": "code",
   "execution_count": 37,
   "metadata": {},
   "outputs": [
    {
     "data": {
      "text/plain": [
       "array(['Latin America & Caribbean', 'Europe & Central Asia',\n",
       "       'Middle East & North Africa', 'East Asia & Pacific',\n",
       "       'North America', 'South Asia', 'Sub-Saharan Africa', nan],\n",
       "      dtype=object)"
      ]
     },
     "execution_count": 37,
     "metadata": {},
     "output_type": "execute_result"
    }
   ],
   "source": [
    "exposed.Region.unique()"
   ]
  },
  {
   "cell_type": "code",
   "execution_count": 38,
   "metadata": {},
   "outputs": [],
   "source": [
    "exposed['imaclim_region'] = exposed.Region.replace(dict_region)"
   ]
  },
  {
   "cell_type": "code",
   "execution_count": 39,
   "metadata": {},
   "outputs": [],
   "source": [
    "exposed_imaclim = exposed.set_index('imaclim_region')[['length','length_exp']].sum(level='imaclim_region')"
   ]
  },
  {
   "cell_type": "code",
   "execution_count": 40,
   "metadata": {},
   "outputs": [],
   "source": [
    "exposed_imaclim['share_exposed'] = exposed_imaclim['length_exp']/exposed_imaclim['length']"
   ]
  },
  {
   "cell_type": "code",
   "execution_count": 41,
   "metadata": {},
   "outputs": [
    {
     "data": {
      "text/html": [
       "<div>\n",
       "<style scoped>\n",
       "    .dataframe tbody tr th:only-of-type {\n",
       "        vertical-align: middle;\n",
       "    }\n",
       "\n",
       "    .dataframe tbody tr th {\n",
       "        vertical-align: top;\n",
       "    }\n",
       "\n",
       "    .dataframe thead th {\n",
       "        text-align: right;\n",
       "    }\n",
       "</style>\n",
       "<table border=\"1\" class=\"dataframe\">\n",
       "  <thead>\n",
       "    <tr style=\"text-align: right;\">\n",
       "      <th></th>\n",
       "      <th>length</th>\n",
       "      <th>length_exp</th>\n",
       "      <th>share_exposed</th>\n",
       "    </tr>\n",
       "    <tr>\n",
       "      <th>imaclim_region</th>\n",
       "      <th></th>\n",
       "      <th></th>\n",
       "      <th></th>\n",
       "    </tr>\n",
       "  </thead>\n",
       "  <tbody>\n",
       "    <tr>\n",
       "      <th>LAM</th>\n",
       "      <td>6.264128e+06</td>\n",
       "      <td>278533.624083</td>\n",
       "      <td>0.044465</td>\n",
       "    </tr>\n",
       "    <tr>\n",
       "      <th>CIS</th>\n",
       "      <td>1.914540e+07</td>\n",
       "      <td>671840.619202</td>\n",
       "      <td>0.035091</td>\n",
       "    </tr>\n",
       "    <tr>\n",
       "      <th>MAF</th>\n",
       "      <td>7.918546e+06</td>\n",
       "      <td>345555.908492</td>\n",
       "      <td>0.043639</td>\n",
       "    </tr>\n",
       "    <tr>\n",
       "      <th>ASIA</th>\n",
       "      <td>1.139793e+07</td>\n",
       "      <td>752360.143821</td>\n",
       "      <td>0.066008</td>\n",
       "    </tr>\n",
       "    <tr>\n",
       "      <th>OCDE</th>\n",
       "      <td>1.406668e+07</td>\n",
       "      <td>498106.859170</td>\n",
       "      <td>0.035410</td>\n",
       "    </tr>\n",
       "  </tbody>\n",
       "</table>\n",
       "</div>"
      ],
      "text/plain": [
       "                      length     length_exp  share_exposed\n",
       "imaclim_region                                            \n",
       "LAM             6.264128e+06  278533.624083       0.044465\n",
       "CIS             1.914540e+07  671840.619202       0.035091\n",
       "MAF             7.918546e+06  345555.908492       0.043639\n",
       "ASIA            1.139793e+07  752360.143821       0.066008\n",
       "OCDE            1.406668e+07  498106.859170       0.035410"
      ]
     },
     "execution_count": 41,
     "metadata": {},
     "output_type": "execute_result"
    }
   ],
   "source": [
    "exposed_imaclim"
   ]
  },
  {
   "cell_type": "code",
   "execution_count": 42,
   "metadata": {},
   "outputs": [],
   "source": [
    "wb_group_risk = pd.read_csv(resilience_folder+\"wb_group_risk.csv\").rename(columns={'Unnamed: 0':'hazard','Unnamed: 1':\"asset_type\"})\n",
    "wb_region_prot_base = pd.read_csv(resilience_folder+\"wb_region_prot_base.csv\").rename(columns={'Unnamed: 0':'hazard'})\n",
    "wb_region_prot_improved = pd.read_csv(resilience_folder+\"wb_region_prot_improved.csv\").rename(columns={'Unnamed: 0':'hazard'})"
   ]
  },
  {
   "cell_type": "code",
   "execution_count": 43,
   "metadata": {},
   "outputs": [
    {
     "data": {
      "text/html": [
       "<div>\n",
       "<style scoped>\n",
       "    .dataframe tbody tr th:only-of-type {\n",
       "        vertical-align: middle;\n",
       "    }\n",
       "\n",
       "    .dataframe tbody tr th {\n",
       "        vertical-align: top;\n",
       "    }\n",
       "\n",
       "    .dataframe thead th {\n",
       "        text-align: right;\n",
       "    }\n",
       "</style>\n",
       "<table border=\"1\" class=\"dataframe\">\n",
       "  <thead>\n",
       "    <tr style=\"text-align: right;\">\n",
       "      <th></th>\n",
       "      <th>hazard</th>\n",
       "      <th>asset_type</th>\n",
       "      <th>GroupName</th>\n",
       "      <th>perc_0</th>\n",
       "      <th>perc_20</th>\n",
       "      <th>perc_40</th>\n",
       "      <th>perc_50</th>\n",
       "      <th>perc_60</th>\n",
       "      <th>perc_80</th>\n",
       "      <th>perc_100</th>\n",
       "    </tr>\n",
       "  </thead>\n",
       "  <tbody>\n",
       "    <tr>\n",
       "      <th>96</th>\n",
       "      <td>EQ</td>\n",
       "      <td>Primary Roads</td>\n",
       "      <td>SAS</td>\n",
       "      <td>1.245062e+06</td>\n",
       "      <td>3.504258e+06</td>\n",
       "      <td>5.400943e+06</td>\n",
       "      <td>6.276311e+06</td>\n",
       "      <td>7.927029e+06</td>\n",
       "      <td>1.489537e+07</td>\n",
       "      <td>2.437547e+07</td>\n",
       "    </tr>\n",
       "    <tr>\n",
       "      <th>169</th>\n",
       "      <td>PU</td>\n",
       "      <td>Bridge_Road</td>\n",
       "      <td>SAS</td>\n",
       "      <td>1.374531e+06</td>\n",
       "      <td>2.870843e+06</td>\n",
       "      <td>4.928311e+06</td>\n",
       "      <td>7.347280e+06</td>\n",
       "      <td>1.028094e+07</td>\n",
       "      <td>2.753607e+07</td>\n",
       "      <td>7.141889e+07</td>\n",
       "    </tr>\n",
       "    <tr>\n",
       "      <th>164</th>\n",
       "      <td>PU</td>\n",
       "      <td>Bridge_Rail</td>\n",
       "      <td>ECA</td>\n",
       "      <td>0.000000e+00</td>\n",
       "      <td>2.937506e+02</td>\n",
       "      <td>4.971163e+02</td>\n",
       "      <td>5.670558e+02</td>\n",
       "      <td>1.481115e+04</td>\n",
       "      <td>4.310929e+04</td>\n",
       "      <td>9.984991e+04</td>\n",
       "    </tr>\n",
       "  </tbody>\n",
       "</table>\n",
       "</div>"
      ],
      "text/plain": [
       "    hazard     asset_type GroupName        perc_0       perc_20       perc_40  \\\n",
       "96      EQ  Primary Roads       SAS  1.245062e+06  3.504258e+06  5.400943e+06   \n",
       "169     PU    Bridge_Road       SAS  1.374531e+06  2.870843e+06  4.928311e+06   \n",
       "164     PU    Bridge_Rail       ECA  0.000000e+00  2.937506e+02  4.971163e+02   \n",
       "\n",
       "          perc_50       perc_60       perc_80      perc_100  \n",
       "96   6.276311e+06  7.927029e+06  1.489537e+07  2.437547e+07  \n",
       "169  7.347280e+06  1.028094e+07  2.753607e+07  7.141889e+07  \n",
       "164  5.670558e+02  1.481115e+04  4.310929e+04  9.984991e+04  "
      ]
     },
     "execution_count": 43,
     "metadata": {},
     "output_type": "execute_result"
    }
   ],
   "source": [
    "wb_group_risk.sample(3)"
   ]
  },
  {
   "cell_type": "code",
   "execution_count": 44,
   "metadata": {},
   "outputs": [
    {
     "data": {
      "text/plain": [
       "perc_0       4.450087\n",
       "perc_20      6.798967\n",
       "perc_40     10.334737\n",
       "perc_50     12.547806\n",
       "perc_60     15.316866\n",
       "perc_80     22.332173\n",
       "perc_100    36.855102\n",
       "dtype: float64"
      ]
     },
     "execution_count": 44,
     "metadata": {},
     "output_type": "execute_result"
    }
   ],
   "source": [
    "wb_group_risk.set_index(['hazard','asset_type','GroupName']).sum()*10**(-9)"
   ]
  },
  {
   "cell_type": "code",
   "execution_count": 45,
   "metadata": {},
   "outputs": [
    {
     "data": {
      "text/plain": [
       "array(['CF', 'Cyc', 'EQ', 'FU', 'PU'], dtype=object)"
      ]
     },
     "execution_count": 45,
     "metadata": {},
     "output_type": "execute_result"
    }
   ],
   "source": [
    "wb_group_risk.hazard.unique()"
   ]
  },
  {
   "cell_type": "code",
   "execution_count": 46,
   "metadata": {},
   "outputs": [
    {
     "data": {
      "text/plain": [
       "perc_0       4.048603\n",
       "perc_20      6.133197\n",
       "perc_40      9.284744\n",
       "perc_50     11.310752\n",
       "perc_60     13.898237\n",
       "perc_80     20.170596\n",
       "perc_100    32.598817\n",
       "dtype: float64"
      ]
     },
     "execution_count": 46,
     "metadata": {},
     "output_type": "execute_result"
    }
   ],
   "source": [
    "wb_group_risk.set_index(['hazard','asset_type','GroupName']).drop(['EQ'],level='hazard').sum()*10**(-9)"
   ]
  },
  {
   "cell_type": "code",
   "execution_count": 47,
   "metadata": {},
   "outputs": [
    {
     "data": {
      "text/plain": [
       "perc_0       3.763746\n",
       "perc_20      5.496053\n",
       "perc_40      8.255442\n",
       "perc_50      9.951583\n",
       "perc_60     12.241325\n",
       "perc_80     17.342847\n",
       "perc_100    27.351200\n",
       "dtype: float64"
      ]
     },
     "execution_count": 47,
     "metadata": {},
     "output_type": "execute_result"
    }
   ],
   "source": [
    "wb_region_prot_base.set_index(['hazard','GroupName']).sum()*10**(-9)"
   ]
  },
  {
   "cell_type": "code",
   "execution_count": 48,
   "metadata": {},
   "outputs": [
    {
     "data": {
      "text/plain": [
       "perc_0       1.983244\n",
       "perc_20      2.977813\n",
       "perc_40      4.677276\n",
       "perc_50      5.782950\n",
       "perc_60      7.135032\n",
       "perc_80     10.058273\n",
       "perc_100    15.809623\n",
       "dtype: float64"
      ]
     },
     "execution_count": 48,
     "metadata": {},
     "output_type": "execute_result"
    }
   ],
   "source": [
    "wb_region_prot_improved.set_index(['hazard','GroupName']).sum()*10**(-9)"
   ]
  },
  {
   "cell_type": "code",
   "execution_count": null,
   "metadata": {},
   "outputs": [],
   "source": []
  },
  {
   "cell_type": "markdown",
   "metadata": {},
   "source": [
    "# data prep (skip and go to next comment if this has run once already)"
   ]
  },
  {
   "cell_type": "code",
   "execution_count": 6,
   "metadata": {},
   "outputs": [
    {
     "data": {
      "text/plain": [
       "['results_transports_Imaclim_ASIA.csv',\n",
       " 'results_transports_Imaclim_CIS.csv',\n",
       " 'results_transports_Imaclim_LAM.csv',\n",
       " 'results_transports_Imaclim_MAF.csv',\n",
       " 'results_transports_Imaclim_OCDE.csv',\n",
       " 'results_transports_Imaclim_WORLD.csv']"
      ]
     },
     "execution_count": 6,
     "metadata": {},
     "output_type": "execute_result"
    }
   ],
   "source": [
    "os.listdir(imaclimfolder)"
   ]
  },
  {
   "cell_type": "code",
   "execution_count": 7,
   "metadata": {},
   "outputs": [],
   "source": [
    "pd.options.display.max_seq_items = 2000"
   ]
  },
  {
   "cell_type": "code",
   "execution_count": 8,
   "metadata": {},
   "outputs": [],
   "source": [
    "all_ima_data = pd.DataFrame()\n",
    "for myfilename in os.listdir(imaclimfolder):\n",
    "    if \"WORLD\" in myfilename:\n",
    "        continue\n",
    "    myfile = pd.read_csv(imaclimfolder+\"\\\\\"+myfilename,sep=\";\")\n",
    "    myinfo = myfilename.replace(\".csv\",'').split(\"_\")\n",
    "    myfile[\"region\"] = myinfo[3]\n",
    "    all_ima_data = all_ima_data.append(myfile)"
   ]
  },
  {
   "cell_type": "code",
   "execution_count": 9,
   "metadata": {},
   "outputs": [
    {
     "data": {
      "text/plain": [
       "array(['Population', 'CO2_em_tot', 'CO2_em_trans', 'PIB',\n",
       "       'passenger_activity', 'freight_activity', 'pkm_OT', 'pkm_auto',\n",
       "       'pkm_air', 'fret_air', 'fret_OT', 'fret_mer'], dtype=object)"
      ]
     },
     "execution_count": 9,
     "metadata": {},
     "output_type": "execute_result"
    }
   ],
   "source": [
    "all_ima_data.Variable.unique()"
   ]
  },
  {
   "cell_type": "code",
   "execution_count": 10,
   "metadata": {},
   "outputs": [],
   "source": [
    "indexes_ima = ['//combi', 'ind_climat', 'ind_growth', 'ind_mitig', 'ind_trans_A',\n",
    "       'ind_trans_S', 'ind_trans_I', 'ind_trans_F', 'ind_taxexo', 'ind_recycl',\n",
    "       'ind_taxmax', 'Variable', 'Unit','region']"
   ]
  },
  {
   "cell_type": "code",
   "execution_count": 11,
   "metadata": {},
   "outputs": [],
   "source": [
    "indexes_ima2 = ['ind_climat', 'ind_growth', 'ind_mitig', 'ind_trans_A',\n",
    "       'ind_trans_S', 'ind_trans_I', 'ind_trans_F', 'ind_taxexo', 'ind_recycl',\n",
    "       'ind_taxmax', 'Variable','region','year']"
   ]
  },
  {
   "cell_type": "code",
   "execution_count": 12,
   "metadata": {},
   "outputs": [],
   "source": [
    "all_ima_data = all_ima_data.set_index(indexes_ima)\n",
    "all_ima_data.columns.name='year'\n",
    "all_ima_data = all_ima_data.stack('year')\n",
    "all_ima_data.name = 'value'\n",
    "all_ima_data = all_ima_data.reset_index('year')\n",
    "all_ima_data['year'] = all_ima_data.year.astype(\"int64\")\n",
    "all_ima_data = all_ima_data.loc[(all_ima_data.year>2014)&(all_ima_data.year<2031),:]"
   ]
  },
  {
   "cell_type": "code",
   "execution_count": 13,
   "metadata": {},
   "outputs": [],
   "source": [
    "all_ima_data.set_index(\"year\",append=True).unstack(\"Variable\")[\"value\"][\"PIB\"].dropna();"
   ]
  },
  {
   "cell_type": "code",
   "execution_count": 14,
   "metadata": {},
   "outputs": [],
   "source": [
    "out = all_ima_data.reset_index().drop(['Unit','//combi'],axis=1).set_index(indexes_ima2).unstack('Variable').value"
   ]
  },
  {
   "cell_type": "code",
   "execution_count": 15,
   "metadata": {},
   "outputs": [
    {
     "data": {
      "text/plain": [
       "Index(['CO2_em_tot', 'CO2_em_trans', 'PIB', 'Population', 'freight_activity',\n",
       "       'fret_OT', 'fret_air', 'fret_mer', 'passenger_activity', 'pkm_OT',\n",
       "       'pkm_air', 'pkm_auto'],\n",
       "      dtype='object', name='Variable')"
      ]
     },
     "execution_count": 15,
     "metadata": {},
     "output_type": "execute_result"
    }
   ],
   "source": [
    "out.columns"
   ]
  },
  {
   "cell_type": "code",
   "execution_count": 16,
   "metadata": {},
   "outputs": [],
   "source": [
    "to_merge = out.reset_index().set_index([x for x in indexes_ima2 if x not in [\"Variable\"]])[\"PIB\"]"
   ]
  },
  {
   "cell_type": "code",
   "execution_count": 17,
   "metadata": {},
   "outputs": [],
   "source": [
    "indexes_inv = ['combi', 'ind_climat', 'ind_growth', 'ind_mitig', 'ind_trans_A',\n",
    "       'ind_trans_S', 'ind_trans_I', 'ind_trans_F', 'modal_scenario',\n",
    "        'ur_ideal', 'urt_ideal','delay','costs_evolution_road', 'costs_evolution_rail']"
   ]
  },
  {
   "cell_type": "code",
   "execution_count": 18,
   "metadata": {},
   "outputs": [
    {
     "data": {
      "text/plain": [
       "['ASIA', 'CIS', 'LAM', 'MAF', 'OCDE']"
      ]
     },
     "execution_count": 18,
     "metadata": {},
     "output_type": "execute_result"
    }
   ],
   "source": [
    "os.listdir(invfolder)"
   ]
  },
  {
   "cell_type": "code",
   "execution_count": 20,
   "metadata": {},
   "outputs": [
    {
     "data": {
      "text/plain": [
       "['cost_maint_air_ASIA.csv',\n",
       " 'cost_maint_brt_ASIA.csv',\n",
       " 'cost_maint_hsr_ASIA.csv',\n",
       " 'cost_maint_rail_ASIA.csv',\n",
       " 'cost_maint_road_ASIA.csv',\n",
       " 'cost_new_air_ASIA.csv',\n",
       " 'cost_new_brt_ASIA.csv',\n",
       " 'cost_new_hsr_ASIA.csv',\n",
       " 'cost_new_rail_ASIA.csv',\n",
       " 'cost_new_road_ASIA.csv']"
      ]
     },
     "execution_count": 20,
     "metadata": {},
     "output_type": "execute_result"
    }
   ],
   "source": [
    "os.listdir(invfolder+'ASIA')"
   ]
  },
  {
   "cell_type": "code",
   "execution_count": 26,
   "metadata": {},
   "outputs": [],
   "source": [
    "all_data_usd = pd.DataFrame()\n",
    "all_data_pct = pd.DataFrame()\n",
    "\n",
    "for reg in os.listdir(invfolder):\n",
    "    for myfilename in os.listdir(invfolder+reg):\n",
    "        myfile = pd.read_csv(invfolder+reg+\"\\\\\"+myfilename,sep=\";\")\n",
    "        myfile = myfile.set_index(indexes_inv)\n",
    "        myfile.columns.name='year'\n",
    "        myfile = myfile.stack()\n",
    "        myfile.name = 'value'\n",
    "        myfile = myfile.reset_index()\n",
    "        myfile[\"year\"] = myfile.year.astype(\"int64\")\n",
    "        myfile = myfile.loc[myfile.year<2031,:]\n",
    "                \n",
    "        myinfo = myfilename.replace(\".csv\",'').split(\"_\")\n",
    "        myfile[\"costtype\"] = myinfo[1]\n",
    "        myfile[\"transpmode\"] = myinfo[2]\n",
    "        myfile[\"region\"] = reg\n",
    "        \n",
    "        myfile = myfile.merge(to_merge.reset_index(),on=['ind_climat', 'ind_growth', 'ind_mitig', 'ind_trans_A',\n",
    "       'ind_trans_S', 'ind_trans_I', 'ind_trans_F','region', 'year'],how=\"left\")\n",
    "        \n",
    "        global_file = myfile.set_index(indexes_inv+[\"costtype\",\"transpmode\",\"region\",\"year\"])[[\"PIB\",\"value\"]]\n",
    "        \n",
    "        global_file[\"divided_by_gdp\"] = global_file.value/global_file.PIB\n",
    "\n",
    "        global_file2 = global_file.reset_index([\"ur_ideal\",\"year\"])\n",
    "\n",
    "        global_file2[\"discount_factor\"] = (1+0.06)**(1-(global_file2.year.astype(int)-2014))\n",
    "        global_file2['disc_value'] =  global_file2['value']*global_file2[\"discount_factor\"]\n",
    "\n",
    "        global_file2 = global_file2.loc[global_file2.ur_ideal>300,:]\n",
    "        global_file2 = global_file2.set_index([\"ur_ideal\",\"year\"],append=True)\n",
    "        \n",
    "        \n",
    "        all_data_usd = all_data_global.append(global_file2.disc_value.sum(level=indexes_inv+[\"region\",\"costtype\",\"transpmode\"]).to_frame())\n",
    "        all_data_pct = all_data_global.append(global_file2.divided_by_gdp.mean(level=indexes_inv+[\"region\",\"costtype\",\"transpmode\"]).to_frame())"
   ]
  },
  {
   "cell_type": "code",
   "execution_count": 27,
   "metadata": {},
   "outputs": [],
   "source": [
    "all_data_global2 = all_data_global.sum(level = indexes_inv+[\"costtype\",\"transpmode\",\"year\"])"
   ]
  },
  {
   "cell_type": "code",
   "execution_count": 46,
   "metadata": {},
   "outputs": [],
   "source": [
    "all_data_global.to_csv(\"reg_data_for_resilient_report.csv\")"
   ]
  },
  {
   "cell_type": "code",
   "execution_count": 36,
   "metadata": {},
   "outputs": [],
   "source": [
    "all_data_global2.to_csv(\"for_resilient_report.csv\")"
   ]
  },
  {
   "cell_type": "code",
   "execution_count": 11,
   "metadata": {},
   "outputs": [],
   "source": [
    "all_data_reg = pd.read_csv(\"reg_data_for_resilient_report.csv\").set_index(indexes_inv+[\"region\",\"costtype\",\"transpmode\",\"year\"])"
   ]
  },
  {
   "cell_type": "code",
   "execution_count": 12,
   "metadata": {},
   "outputs": [],
   "source": [
    "all_data_reg[\"divided_by_gdp\"] = all_data_reg.value/all_data_reg.PIB\n",
    "\n",
    "all_data_reg2 = all_data_reg.reset_index([\"ur_ideal\",\"year\"])\n",
    "\n",
    "all_data_reg2[\"discount_factor\"] = (1+0.06)**(1-(all_data_reg2.year.astype(int)-2014))\n",
    "all_data_reg2['disc_value'] =  all_data_reg2['value']*all_data_reg2[\"discount_factor\"]\n",
    "\n",
    "\n",
    "all_data_reg2 = all_data_reg2.loc[all_data_reg2.ur_ideal>300,:]\n",
    "all_data_reg2 = all_data_reg2.set_index([\"ur_ideal\",\"year\"],append=True)"
   ]
  },
  {
   "cell_type": "code",
   "execution_count": 13,
   "metadata": {},
   "outputs": [],
   "source": [
    "reg_usd_data = all_data_reg2.disc_value.sum(level=indexes_inv+[\"region\",\"costtype\",\"transpmode\"])\n",
    "reg_pct_data = all_data_reg2.divided_by_gdp.mean(level=indexes_inv+[\"region\",\"costtype\",\"transpmode\"])"
   ]
  },
  {
   "cell_type": "code",
   "execution_count": 14,
   "metadata": {},
   "outputs": [],
   "source": [
    "reg_usd_data.to_csv(\"reg_usd_data.csv\")\n",
    "reg_pct_data.to_csv(\"reg_pct_data.csv\")"
   ]
  },
  {
   "cell_type": "markdown",
   "metadata": {},
   "source": [
    "# Start here if the file exists already"
   ]
  },
  {
   "cell_type": "code",
   "execution_count": 49,
   "metadata": {},
   "outputs": [],
   "source": [
    "indexes_inv = ['combi','ind_climat', 'ind_growth', 'ind_mitig', 'ind_trans_A',\n",
    "       'ind_trans_S', 'ind_trans_I', 'ind_trans_F', 'modal_scenario',\n",
    "        'ur_ideal', 'urt_ideal','delay','costs_evolution_road', 'costs_evolution_rail']"
   ]
  },
  {
   "cell_type": "code",
   "execution_count": 50,
   "metadata": {},
   "outputs": [],
   "source": [
    "reg_usd_data = pd.read_csv(\"reg_usd_data.csv\", names = indexes_inv+[\"region\",\"costtype\",\"transpmode\",\"disc_value\"]).set_index(indexes_inv+[\"region\",\"costtype\",\"transpmode\"])\n",
    "reg_pct_data = pd.read_csv(\"reg_pct_data.csv\", names = indexes_inv+[\"region\",\"costtype\",\"transpmode\",\"divided_by_gdp\"]).set_index(indexes_inv+[\"region\",\"costtype\",\"transpmode\"])"
   ]
  },
  {
   "cell_type": "code",
   "execution_count": 51,
   "metadata": {},
   "outputs": [
    {
     "data": {
      "text/html": [
       "<div>\n",
       "<style scoped>\n",
       "    .dataframe tbody tr th:only-of-type {\n",
       "        vertical-align: middle;\n",
       "    }\n",
       "\n",
       "    .dataframe tbody tr th {\n",
       "        vertical-align: top;\n",
       "    }\n",
       "\n",
       "    .dataframe thead th {\n",
       "        text-align: right;\n",
       "    }\n",
       "</style>\n",
       "<table border=\"1\" class=\"dataframe\">\n",
       "  <thead>\n",
       "    <tr style=\"text-align: right;\">\n",
       "      <th></th>\n",
       "      <th></th>\n",
       "      <th></th>\n",
       "      <th></th>\n",
       "      <th></th>\n",
       "      <th></th>\n",
       "      <th></th>\n",
       "      <th></th>\n",
       "      <th></th>\n",
       "      <th></th>\n",
       "      <th></th>\n",
       "      <th></th>\n",
       "      <th></th>\n",
       "      <th></th>\n",
       "      <th></th>\n",
       "      <th></th>\n",
       "      <th></th>\n",
       "      <th>divided_by_gdp</th>\n",
       "    </tr>\n",
       "    <tr>\n",
       "      <th>combi</th>\n",
       "      <th>ind_climat</th>\n",
       "      <th>ind_growth</th>\n",
       "      <th>ind_mitig</th>\n",
       "      <th>ind_trans_A</th>\n",
       "      <th>ind_trans_S</th>\n",
       "      <th>ind_trans_I</th>\n",
       "      <th>ind_trans_F</th>\n",
       "      <th>modal_scenario</th>\n",
       "      <th>ur_ideal</th>\n",
       "      <th>urt_ideal</th>\n",
       "      <th>delay</th>\n",
       "      <th>costs_evolution_road</th>\n",
       "      <th>costs_evolution_rail</th>\n",
       "      <th>region</th>\n",
       "      <th>costtype</th>\n",
       "      <th>transpmode</th>\n",
       "      <th></th>\n",
       "    </tr>\n",
       "  </thead>\n",
       "  <tbody>\n",
       "    <tr>\n",
       "      <th>84</th>\n",
       "      <th>0</th>\n",
       "      <th>3</th>\n",
       "      <th>2</th>\n",
       "      <th>1</th>\n",
       "      <th>1</th>\n",
       "      <th>2</th>\n",
       "      <th>2</th>\n",
       "      <th>1</th>\n",
       "      <th>900</th>\n",
       "      <th>30000</th>\n",
       "      <th>35</th>\n",
       "      <th>2</th>\n",
       "      <th>1</th>\n",
       "      <th>MAF</th>\n",
       "      <th>new</th>\n",
       "      <th>brt</th>\n",
       "      <td>0.000798</td>\n",
       "    </tr>\n",
       "    <tr>\n",
       "      <th>109</th>\n",
       "      <th>2</th>\n",
       "      <th>1</th>\n",
       "      <th>1</th>\n",
       "      <th>2</th>\n",
       "      <th>2</th>\n",
       "      <th>1</th>\n",
       "      <th>1</th>\n",
       "      <th>1</th>\n",
       "      <th>900</th>\n",
       "      <th>5000</th>\n",
       "      <th>35</th>\n",
       "      <th>1</th>\n",
       "      <th>1</th>\n",
       "      <th>OCDE</th>\n",
       "      <th>maint</th>\n",
       "      <th>road</th>\n",
       "      <td>0.008954</td>\n",
       "    </tr>\n",
       "    <tr>\n",
       "      <th>184</th>\n",
       "      <th>2</th>\n",
       "      <th>3</th>\n",
       "      <th>2</th>\n",
       "      <th>1</th>\n",
       "      <th>2</th>\n",
       "      <th>2</th>\n",
       "      <th>2</th>\n",
       "      <th>0</th>\n",
       "      <th>900</th>\n",
       "      <th>30000</th>\n",
       "      <th>65</th>\n",
       "      <th>1</th>\n",
       "      <th>2</th>\n",
       "      <th>ASIA</th>\n",
       "      <th>new</th>\n",
       "      <th>road</th>\n",
       "      <td>0.000000</td>\n",
       "    </tr>\n",
       "    <tr>\n",
       "      <th>125</th>\n",
       "      <th>2</th>\n",
       "      <th>1</th>\n",
       "      <th>2</th>\n",
       "      <th>2</th>\n",
       "      <th>2</th>\n",
       "      <th>1</th>\n",
       "      <th>1</th>\n",
       "      <th>0</th>\n",
       "      <th>600</th>\n",
       "      <th>5000</th>\n",
       "      <th>35</th>\n",
       "      <th>0</th>\n",
       "      <th>2</th>\n",
       "      <th>MAF</th>\n",
       "      <th>maint</th>\n",
       "      <th>rail</th>\n",
       "      <td>0.000537</td>\n",
       "    </tr>\n",
       "    <tr>\n",
       "      <th>377</th>\n",
       "      <th>4</th>\n",
       "      <th>3</th>\n",
       "      <th>2</th>\n",
       "      <th>2</th>\n",
       "      <th>1</th>\n",
       "      <th>1</th>\n",
       "      <th>1</th>\n",
       "      <th>1</th>\n",
       "      <th>600</th>\n",
       "      <th>5000</th>\n",
       "      <th>35</th>\n",
       "      <th>0</th>\n",
       "      <th>2</th>\n",
       "      <th>LAM</th>\n",
       "      <th>new</th>\n",
       "      <th>brt</th>\n",
       "      <td>0.000354</td>\n",
       "    </tr>\n",
       "  </tbody>\n",
       "</table>\n",
       "</div>"
      ],
      "text/plain": [
       "                                                                                                                                                                                                    divided_by_gdp\n",
       "combi ind_climat ind_growth ind_mitig ind_trans_A ind_trans_S ind_trans_I ind_trans_F modal_scenario ur_ideal urt_ideal delay costs_evolution_road costs_evolution_rail region costtype transpmode                \n",
       "84    0          3          2         1           1           2           2           1              900      30000     35    2                    1                    MAF    new      brt               0.000798\n",
       "109   2          1          1         2           2           1           1           1              900      5000      35    1                    1                    OCDE   maint    road              0.008954\n",
       "184   2          3          2         1           2           2           2           0              900      30000     65    1                    2                    ASIA   new      road              0.000000\n",
       "125   2          1          2         2           2           1           1           0              600      5000      35    0                    2                    MAF    maint    rail              0.000537\n",
       "377   4          3          2         2           1           1           1           1              600      5000      35    0                    2                    LAM    new      brt               0.000354"
      ]
     },
     "execution_count": 51,
     "metadata": {},
     "output_type": "execute_result"
    }
   ],
   "source": [
    "reg_pct_data.sample(5)"
   ]
  },
  {
   "cell_type": "code",
   "execution_count": 52,
   "metadata": {},
   "outputs": [
    {
     "data": {
      "text/plain": [
       "array(['air', 'brt', 'hsr', 'rail', 'road'], dtype=object)"
      ]
     },
     "execution_count": 52,
     "metadata": {},
     "output_type": "execute_result"
    }
   ],
   "source": [
    "reg_pct_data.reset_index(\"transpmode\").transpmode.unique()"
   ]
  },
  {
   "cell_type": "markdown",
   "metadata": {},
   "source": [
    "## Adding the resilience extra cost"
   ]
  },
  {
   "cell_type": "code",
   "execution_count": 64,
   "metadata": {},
   "outputs": [],
   "source": [
    "cost_diff = pd.read_excel(resilience_folder2+\"cost_diff.xlsx\").fillna(0)"
   ]
  },
  {
   "cell_type": "code",
   "execution_count": 131,
   "metadata": {},
   "outputs": [],
   "source": [
    "cost_diff = cost_diff[cost_diff.hazard=='flood']"
   ]
  },
  {
   "cell_type": "code",
   "execution_count": 132,
   "metadata": {},
   "outputs": [
    {
     "data": {
      "text/html": [
       "<div>\n",
       "<style scoped>\n",
       "    .dataframe tbody tr th:only-of-type {\n",
       "        vertical-align: middle;\n",
       "    }\n",
       "\n",
       "    .dataframe tbody tr th {\n",
       "        vertical-align: top;\n",
       "    }\n",
       "\n",
       "    .dataframe thead th {\n",
       "        text-align: right;\n",
       "    }\n",
       "</style>\n",
       "<table border=\"1\" class=\"dataframe\">\n",
       "  <thead>\n",
       "    <tr style=\"text-align: right;\">\n",
       "      <th></th>\n",
       "      <th>region</th>\n",
       "      <th>share_exposed</th>\n",
       "    </tr>\n",
       "  </thead>\n",
       "  <tbody>\n",
       "    <tr>\n",
       "      <th>0</th>\n",
       "      <td>LAM</td>\n",
       "      <td>0.070318</td>\n",
       "    </tr>\n",
       "    <tr>\n",
       "      <th>1</th>\n",
       "      <td>ASIA</td>\n",
       "      <td>0.129859</td>\n",
       "    </tr>\n",
       "    <tr>\n",
       "      <th>2</th>\n",
       "      <td>MAF</td>\n",
       "      <td>0.054536</td>\n",
       "    </tr>\n",
       "    <tr>\n",
       "      <th>3</th>\n",
       "      <td>CIS</td>\n",
       "      <td>0.060189</td>\n",
       "    </tr>\n",
       "    <tr>\n",
       "      <th>4</th>\n",
       "      <td>OCDE</td>\n",
       "      <td>0.056128</td>\n",
       "    </tr>\n",
       "  </tbody>\n",
       "</table>\n",
       "</div>"
      ],
      "text/plain": [
       "  region  share_exposed\n",
       "0    LAM       0.070318\n",
       "1   ASIA       0.129859\n",
       "2    MAF       0.054536\n",
       "3    CIS       0.060189\n",
       "4   OCDE       0.056128"
      ]
     },
     "execution_count": 132,
     "metadata": {},
     "output_type": "execute_result"
    }
   ],
   "source": [
    "exposed_all_floods_imaclim.share_exposed.reset_index().rename(columns={'imaclim_region':'region'})"
   ]
  },
  {
   "cell_type": "code",
   "execution_count": 133,
   "metadata": {},
   "outputs": [],
   "source": [
    "reg_pct_data_res = reg_pct_data.reset_index().copy()\n",
    "\n",
    "reg_pct_data_res = reg_pct_data_res.merge(cost_diff, on=[\"transpmode\",\"costtype\"], how=\"left\").merge(exposed_all_floods_imaclim.share_exposed.reset_index().rename(columns={'imaclim_region':'region'}),on='region')\n",
    "\n",
    "reg_pct_data_res[\"divided_by_gdp_res\"] = reg_pct_data_res[\"divided_by_gdp\"]*(1+reg_pct_data_res[\"cost_increase\"]*reg_pct_data_res[\"share_exposed\"])\n",
    "reg_pct_data_res[\"divided_by_gdp_res_all\"] = reg_pct_data_res[\"divided_by_gdp\"]*(1+reg_pct_data_res[\"cost_increase\"])\n",
    "\n",
    "reg_pct_data_res[\"initial_risk\"] = reg_pct_data_res[\"divided_by_gdp\"]*reg_pct_data_res[\"initial_risk\"]*reg_pct_data_res[\"share_exposed\"]\n",
    "reg_pct_data_res[\"final_risk\"] = reg_pct_data_res[\"divided_by_gdp\"]*reg_pct_data_res[\"final_risk\"]*reg_pct_data_res[\"share_exposed\"]"
   ]
  },
  {
   "cell_type": "code",
   "execution_count": 134,
   "metadata": {},
   "outputs": [],
   "source": [
    "reg_pct_data_res['cost_diff'] = reg_pct_data_res[\"divided_by_gdp_res\"]-reg_pct_data_res[\"divided_by_gdp\"]\n",
    "reg_pct_data_res['cost_diff_all'] = reg_pct_data_res[\"divided_by_gdp_res_all\"]-reg_pct_data_res[\"divided_by_gdp\"]"
   ]
  },
  {
   "cell_type": "code",
   "execution_count": 135,
   "metadata": {},
   "outputs": [],
   "source": [
    "reg_pct_data_res = reg_pct_data_res.set_index(indexes_inv+[\"region\",\"costtype\",\"transpmode\"])"
   ]
  },
  {
   "cell_type": "code",
   "execution_count": 136,
   "metadata": {},
   "outputs": [
    {
     "data": {
      "text/plain": [
       "count    2.073600e+07\n",
       "mean     2.235538e-02\n",
       "std      2.434164e-02\n",
       "min      8.759089e-09\n",
       "25%      3.070986e-03\n",
       "50%      1.001503e-02\n",
       "75%      4.361456e-02\n",
       "max      1.300177e-01\n",
       "Name: new, dtype: float64"
      ]
     },
     "execution_count": 136,
     "metadata": {},
     "output_type": "execute_result"
    }
   ],
   "source": [
    "100*reg_pct_data_res.sum(level=indexes_inv+[\"region\",\"costtype\"]).cost_diff.unstack(\"costtype\")['new'].describe()"
   ]
  },
  {
   "cell_type": "code",
   "execution_count": 137,
   "metadata": {},
   "outputs": [
    {
     "data": {
      "text/plain": [
       "count    2.073600e+07\n",
       "mean     2.881325e-01\n",
       "std      3.081640e-01\n",
       "min      1.455265e-07\n",
       "25%      4.492746e-02\n",
       "50%      1.620383e-01\n",
       "75%      4.660491e-01\n",
       "max      1.307632e+00\n",
       "Name: new, dtype: float64"
      ]
     },
     "execution_count": 137,
     "metadata": {},
     "output_type": "execute_result"
    }
   ],
   "source": [
    "100*reg_pct_data_res.sum(level=indexes_inv+[\"region\",\"costtype\"]).cost_diff_all.unstack(\"costtype\")['new'].describe()"
   ]
  },
  {
   "cell_type": "code",
   "execution_count": 138,
   "metadata": {},
   "outputs": [],
   "source": [
    "reg_pct_alltype_all_modes = reg_pct_data_res.sum(level=indexes_inv+[\"region\"])"
   ]
  },
  {
   "cell_type": "code",
   "execution_count": 139,
   "metadata": {},
   "outputs": [],
   "source": [
    "reg_pct_data_res_all_modes = reg_pct_data_res.sum(level=indexes_inv+[\"region\",\"costtype\"])\n",
    "reg_pct_data_res_all_modes = reg_pct_data_res_all_modes.reset_index('costtype')[reg_pct_data_res_all_modes.reset_index('costtype').costtype=='new']"
   ]
  },
  {
   "cell_type": "markdown",
   "metadata": {},
   "source": [
    "## % increase in capital investment needs due to increased resilience everywhere"
   ]
  },
  {
   "cell_type": "code",
   "execution_count": 140,
   "metadata": {},
   "outputs": [
    {
     "data": {
      "text/plain": [
       "count    2.073600e+07\n",
       "mean     2.414922e+01\n",
       "std      1.815430e+01\n",
       "min      3.836243e-04\n",
       "25%      5.157421e+00\n",
       "50%      2.323097e+01\n",
       "75%      4.382271e+01\n",
       "max      4.934322e+01\n",
       "dtype: float64"
      ]
     },
     "execution_count": 140,
     "metadata": {},
     "output_type": "execute_result"
    }
   ],
   "source": [
    "100*(reg_pct_data_res_all_modes['cost_diff_all']/reg_pct_data_res_all_modes['divided_by_gdp']).describe()"
   ]
  },
  {
   "cell_type": "markdown",
   "metadata": {},
   "source": [
    "## % increase in capital investment needs due to increased resilience only in exposed areas"
   ]
  },
  {
   "cell_type": "code",
   "execution_count": 141,
   "metadata": {},
   "outputs": [
    {
     "data": {
      "text/plain": [
       "count    2.073600e+07\n",
       "mean     2.027841e+00\n",
       "std      1.958594e+00\n",
       "min      2.308995e-05\n",
       "25%      2.826754e-01\n",
       "50%      1.328786e+00\n",
       "75%      2.929156e+00\n",
       "max      6.195986e+00\n",
       "dtype: float64"
      ]
     },
     "execution_count": 141,
     "metadata": {},
     "output_type": "execute_result"
    }
   ],
   "source": [
    "100*(reg_pct_data_res_all_modes['cost_diff']/reg_pct_data_res_all_modes['divided_by_gdp']).describe()"
   ]
  },
  {
   "cell_type": "markdown",
   "metadata": {},
   "source": [
    "## % increase taking maintenance into account"
   ]
  },
  {
   "cell_type": "code",
   "execution_count": 142,
   "metadata": {},
   "outputs": [
    {
     "data": {
      "text/plain": [
       "count    2.073600e+07\n",
       "mean     7.069894e-01\n",
       "std      6.828204e-01\n",
       "min      3.893939e-07\n",
       "25%      1.323723e-01\n",
       "50%      4.688102e-01\n",
       "75%      1.186896e+00\n",
       "max      2.981399e+00\n",
       "dtype: float64"
      ]
     },
     "execution_count": 142,
     "metadata": {},
     "output_type": "execute_result"
    }
   ],
   "source": [
    "100*(reg_pct_alltype_all_modes['cost_diff']/reg_pct_alltype_all_modes['divided_by_gdp']).describe()"
   ]
  },
  {
   "cell_type": "code",
   "execution_count": 143,
   "metadata": {},
   "outputs": [],
   "source": [
    "reg_pct_alltype_all_modes.to_csv(\"reg_pct_alltype_all_modes.csv\")"
   ]
  },
  {
   "cell_type": "code",
   "execution_count": 144,
   "metadata": {},
   "outputs": [
    {
     "data": {
      "text/plain": [
       "0.7069893844909984"
      ]
     },
     "execution_count": 144,
     "metadata": {},
     "output_type": "execute_result"
    }
   ],
   "source": [
    "100*(reg_pct_alltype_all_modes['cost_diff']/reg_pct_alltype_all_modes['divided_by_gdp']).mean()"
   ]
  },
  {
   "cell_type": "code",
   "execution_count": 145,
   "metadata": {},
   "outputs": [
    {
     "data": {
      "text/plain": [
       "8.853197511462769"
      ]
     },
     "execution_count": 145,
     "metadata": {},
     "output_type": "execute_result"
    }
   ],
   "source": [
    "100*(reg_pct_alltype_all_modes['cost_diff_all']/reg_pct_alltype_all_modes['divided_by_gdp']).mean()"
   ]
  },
  {
   "cell_type": "code",
   "execution_count": 146,
   "metadata": {},
   "outputs": [
    {
     "data": {
      "text/plain": [
       "count    2.073600e+07\n",
       "mean     8.853198e+00\n",
       "std      7.472475e+00\n",
       "min      6.469521e-06\n",
       "25%      2.032429e+00\n",
       "50%      7.350708e+00\n",
       "75%      1.532245e+01\n",
       "max      2.902259e+01\n",
       "dtype: float64"
      ]
     },
     "execution_count": 146,
     "metadata": {},
     "output_type": "execute_result"
    }
   ],
   "source": [
    "100*(reg_pct_alltype_all_modes['cost_diff_all']/reg_pct_alltype_all_modes['divided_by_gdp']).describe()"
   ]
  },
  {
   "cell_type": "code",
   "execution_count": 147,
   "metadata": {},
   "outputs": [
    {
     "data": {
      "text/plain": [
       "costtype                          new\n",
       "divided_by_gdp              0.0224678\n",
       "cost_increase                    0.96\n",
       "initial_risk              9.10765e-05\n",
       "final_risk                3.14941e-05\n",
       "share_exposed                0.649294\n",
       "divided_by_gdp_res           0.023768\n",
       "divided_by_gdp_res_all        0.03248\n",
       "cost_diff                  0.00130018\n",
       "cost_diff_all               0.0100122\n",
       "Name: (164, 2, 3, 1, 1, 1, 2, 2, 1, 600, 5000, 35, 0, 1, ASIA), dtype: object"
      ]
     },
     "execution_count": 147,
     "metadata": {},
     "output_type": "execute_result"
    }
   ],
   "source": [
    "reg_pct_data_res_all_modes.loc[reg_pct_data_res_all_modes['cost_diff'].idxmax()]"
   ]
  },
  {
   "cell_type": "code",
   "execution_count": 148,
   "metadata": {},
   "outputs": [
    {
     "data": {
      "text/plain": [
       "costtype                          new\n",
       "divided_by_gdp              0.0265286\n",
       "cost_increase                    0.96\n",
       "initial_risk              4.72235e-05\n",
       "final_risk                1.57412e-05\n",
       "share_exposed                0.300945\n",
       "divided_by_gdp_res          0.0273157\n",
       "divided_by_gdp_res_all      0.0396049\n",
       "cost_diff                 0.000787051\n",
       "cost_diff_all               0.0130763\n",
       "Name: (98, 2, 1, 1, 1, 1, 1, 2, 0, 600, 5000, 35, 0, 1, CIS), dtype: object"
      ]
     },
     "execution_count": 148,
     "metadata": {},
     "output_type": "execute_result"
    }
   ],
   "source": [
    "reg_pct_data_res_all_modes.loc[reg_pct_data_res_all_modes['cost_diff_all'].idxmax()]"
   ]
  },
  {
   "cell_type": "code",
   "execution_count": 149,
   "metadata": {},
   "outputs": [
    {
     "data": {
      "text/plain": [
       "Index(['combi', 'ind_climat', 'ind_growth', 'ind_mitig', 'ind_trans_A',\n",
       "       'ind_trans_S', 'ind_trans_I', 'ind_trans_F', 'modal_scenario',\n",
       "       'ur_ideal', 'urt_ideal', 'delay', 'costs_evolution_road',\n",
       "       'costs_evolution_rail', 'region', 'costtype', 'divided_by_gdp',\n",
       "       'cost_increase', 'initial_risk', 'final_risk', 'share_exposed',\n",
       "       'divided_by_gdp_res', 'divided_by_gdp_res_all', 'cost_diff',\n",
       "       'cost_diff_all'],\n",
       "      dtype='object')"
      ]
     },
     "execution_count": 149,
     "metadata": {},
     "output_type": "execute_result"
    }
   ],
   "source": [
    "reg_pct_data_res_all_modes.reset_index().columns"
   ]
  },
  {
   "cell_type": "code",
   "execution_count": 150,
   "metadata": {},
   "outputs": [],
   "source": [
    "%reload_ext autoreload\n",
    "from convert_pc_to_usd import load_GDP,return_usd"
   ]
  },
  {
   "cell_type": "code",
   "execution_count": 151,
   "metadata": {},
   "outputs": [],
   "source": [
    "GDP_file = 'C:\\\\Users\\\\WB451855\\\\OneDrive - WBG\\\\!infra_needs_data\\\\summary_all_data.xlsx'"
   ]
  },
  {
   "cell_type": "code",
   "execution_count": 152,
   "metadata": {},
   "outputs": [],
   "source": [
    "GDP2 = load_GDP(GDP_file)"
   ]
  },
  {
   "cell_type": "code",
   "execution_count": 153,
   "metadata": {},
   "outputs": [
    {
     "data": {
      "text/html": [
       "<div>\n",
       "<style scoped>\n",
       "    .dataframe tbody tr th:only-of-type {\n",
       "        vertical-align: middle;\n",
       "    }\n",
       "\n",
       "    .dataframe tbody tr th {\n",
       "        vertical-align: top;\n",
       "    }\n",
       "\n",
       "    .dataframe thead th {\n",
       "        text-align: right;\n",
       "    }\n",
       "</style>\n",
       "<table border=\"1\" class=\"dataframe\">\n",
       "  <thead>\n",
       "    <tr style=\"text-align: right;\">\n",
       "      <th></th>\n",
       "      <th>wbregionname</th>\n",
       "      <th>East Asia and Pacific</th>\n",
       "      <th>Eastern Europe and Central Asia</th>\n",
       "      <th>Latin America and Caribbean</th>\n",
       "      <th>Middle-East and North Africa</th>\n",
       "      <th>South Asia</th>\n",
       "      <th>Sub-Saharan Africa</th>\n",
       "      <th>Africa</th>\n",
       "      <th>Asia</th>\n",
       "      <th>all_countries</th>\n",
       "    </tr>\n",
       "    <tr>\n",
       "      <th>year</th>\n",
       "      <th>ssp</th>\n",
       "      <th></th>\n",
       "      <th></th>\n",
       "      <th></th>\n",
       "      <th></th>\n",
       "      <th></th>\n",
       "      <th></th>\n",
       "      <th></th>\n",
       "      <th></th>\n",
       "      <th></th>\n",
       "    </tr>\n",
       "  </thead>\n",
       "  <tbody>\n",
       "    <tr>\n",
       "      <th>2025</th>\n",
       "      <th>ssp2</th>\n",
       "      <td>2.421799e+13</td>\n",
       "      <td>4.702948e+12</td>\n",
       "      <td>1.125203e+13</td>\n",
       "      <td>3.381403e+12</td>\n",
       "      <td>6.666322e+12</td>\n",
       "      <td>4.172937e+12</td>\n",
       "      <td>7.554340e+12</td>\n",
       "      <td>3.088431e+13</td>\n",
       "      <td>5.439364e+13</td>\n",
       "    </tr>\n",
       "    <tr>\n",
       "      <th>2024</th>\n",
       "      <th>ssp5</th>\n",
       "      <td>2.550277e+13</td>\n",
       "      <td>4.759305e+12</td>\n",
       "      <td>1.135662e+13</td>\n",
       "      <td>3.390097e+12</td>\n",
       "      <td>6.789933e+12</td>\n",
       "      <td>4.253129e+12</td>\n",
       "      <td>7.643226e+12</td>\n",
       "      <td>3.229270e+13</td>\n",
       "      <td>5.605185e+13</td>\n",
       "    </tr>\n",
       "    <tr>\n",
       "      <th>2026</th>\n",
       "      <th>ssp1</th>\n",
       "      <td>2.763252e+13</td>\n",
       "      <td>5.026609e+12</td>\n",
       "      <td>1.195269e+13</td>\n",
       "      <td>3.583024e+12</td>\n",
       "      <td>7.477713e+12</td>\n",
       "      <td>4.680610e+12</td>\n",
       "      <td>8.263635e+12</td>\n",
       "      <td>3.511023e+13</td>\n",
       "      <td>6.035317e+13</td>\n",
       "    </tr>\n",
       "  </tbody>\n",
       "</table>\n",
       "</div>"
      ],
      "text/plain": [
       "wbregionname  East Asia and Pacific  Eastern Europe and Central Asia  \\\n",
       "year ssp                                                               \n",
       "2025 ssp2              2.421799e+13                     4.702948e+12   \n",
       "2024 ssp5              2.550277e+13                     4.759305e+12   \n",
       "2026 ssp1              2.763252e+13                     5.026609e+12   \n",
       "\n",
       "wbregionname  Latin America and Caribbean  Middle-East and North Africa  \\\n",
       "year ssp                                                                  \n",
       "2025 ssp2                    1.125203e+13                  3.381403e+12   \n",
       "2024 ssp5                    1.135662e+13                  3.390097e+12   \n",
       "2026 ssp1                    1.195269e+13                  3.583024e+12   \n",
       "\n",
       "wbregionname    South Asia  Sub-Saharan Africa        Africa          Asia  \\\n",
       "year ssp                                                                     \n",
       "2025 ssp2     6.666322e+12        4.172937e+12  7.554340e+12  3.088431e+13   \n",
       "2024 ssp5     6.789933e+12        4.253129e+12  7.643226e+12  3.229270e+13   \n",
       "2026 ssp1     7.477713e+12        4.680610e+12  8.263635e+12  3.511023e+13   \n",
       "\n",
       "wbregionname  all_countries  \n",
       "year ssp                     \n",
       "2025 ssp2      5.439364e+13  \n",
       "2024 ssp5      5.605185e+13  \n",
       "2026 ssp1      6.035317e+13  "
      ]
     },
     "execution_count": 153,
     "metadata": {},
     "output_type": "execute_result"
    }
   ],
   "source": [
    "GDP2.sample(3)"
   ]
  },
  {
   "cell_type": "code",
   "execution_count": 154,
   "metadata": {},
   "outputs": [],
   "source": [
    "reg_pct_data_res_all_modes = reg_pct_data_res_all_modes.reset_index()\n",
    "\n",
    "reg_pct_data_res_all_modes[\"region\"] = reg_pct_data_res_all_modes.region.replace({\"MAF\":\"Africa\",\\\n",
    "                                      \"LAM\":\"Latin America and Caribbean\",\\\n",
    "                                      \"CIS\":\"Eastern Europe and Central Asia\",\\\n",
    "                                      \"ASIA\":\"Asia\",\\\n",
    "                                      \"OCDE\":\"OECD\"})"
   ]
  },
  {
   "cell_type": "code",
   "execution_count": 155,
   "metadata": {},
   "outputs": [],
   "source": [
    "reg_pct_alltype_all_modes = reg_pct_alltype_all_modes.reset_index()\n",
    "\n",
    "reg_pct_alltype_all_modes[\"region\"] = reg_pct_alltype_all_modes.region.replace({\"MAF\":\"Africa\",\\\n",
    "                                      \"LAM\":\"Latin America and Caribbean\",\\\n",
    "                                      \"CIS\":\"Eastern Europe and Central Asia\",\\\n",
    "                                      \"ASIA\":\"Asia\",\\\n",
    "                                      \"OCDE\":\"OECD\"})"
   ]
  },
  {
   "cell_type": "code",
   "execution_count": 156,
   "metadata": {},
   "outputs": [],
   "source": [
    "test = return_usd(reg_pct_alltype_all_modes,'region','divided_by_gdp',indexes_inv,GDP2,d=0.06,ssp='ssp2',wbregions=False)"
   ]
  },
  {
   "cell_type": "code",
   "execution_count": 157,
   "metadata": {},
   "outputs": [],
   "source": [
    "test_tot = test.set_index(indexes_inv+['region']).sum(level=indexes_inv)"
   ]
  },
  {
   "cell_type": "code",
   "execution_count": 158,
   "metadata": {},
   "outputs": [
    {
     "data": {
      "text/plain": [
       "count    41472.000000\n",
       "mean      1034.659138\n",
       "std        211.699739\n",
       "min        602.398846\n",
       "25%        870.293502\n",
       "50%       1003.814582\n",
       "75%       1172.865212\n",
       "max       1792.684520\n",
       "Name: cost_bUSD_disc_annual, dtype: float64"
      ]
     },
     "execution_count": 158,
     "metadata": {},
     "output_type": "execute_result"
    }
   ],
   "source": [
    "test_tot['cost_bUSD_disc_annual'].describe()"
   ]
  },
  {
   "cell_type": "code",
   "execution_count": 159,
   "metadata": {},
   "outputs": [],
   "source": [
    "reg_usd_data_res_all_modes = return_usd(reg_pct_data_res_all_modes,'region','cost_diff',indexes_inv,GDP2,d=0.06,ssp='ssp2',wbregions=False)"
   ]
  },
  {
   "cell_type": "code",
   "execution_count": 160,
   "metadata": {},
   "outputs": [
    {
     "data": {
      "text/plain": [
       "array(['Asia', 'Eastern Europe and Central Asia',\n",
       "       'Latin America and Caribbean', 'Africa'], dtype=object)"
      ]
     },
     "execution_count": 160,
     "metadata": {},
     "output_type": "execute_result"
    }
   ],
   "source": [
    "reg_usd_data_res_all_modes.region.unique()"
   ]
  },
  {
   "cell_type": "code",
   "execution_count": 161,
   "metadata": {},
   "outputs": [],
   "source": [
    "tot_usd_data_res_all_modes = reg_usd_data_res_all_modes.set_index(indexes_inv+['region']).sum(level=indexes_inv)"
   ]
  },
  {
   "cell_type": "markdown",
   "metadata": {},
   "source": [
    "## range of cost increase if exposed assets are upgraded"
   ]
  },
  {
   "cell_type": "code",
   "execution_count": 162,
   "metadata": {},
   "outputs": [
    {
     "data": {
      "text/plain": [
       "cost_bUSD_disc           12901.550857\n",
       "cost_bUSD_disc_annual      860.103390\n",
       "Name: (301, 4, 1, 1, 2, 2, 1, 1, 0, 900, 30000, 65, 2, 0), dtype: float64"
      ]
     },
     "execution_count": 162,
     "metadata": {},
     "output_type": "execute_result"
    }
   ],
   "source": [
    "tot_usd_data_res_all_modes.loc[tot_usd_data_res_all_modes['cost_bUSD_disc_annual'].idxmin()]*1000"
   ]
  },
  {
   "cell_type": "code",
   "execution_count": 163,
   "metadata": {},
   "outputs": [
    {
     "data": {
      "text/plain": [
       "cost_bUSD_disc           526.117356\n",
       "cost_bUSD_disc_annual     35.074490\n",
       "Name: (164, 2, 3, 1, 1, 1, 2, 2, 1, 600, 5000, 35, 1, 1), dtype: float64"
      ]
     },
     "execution_count": 163,
     "metadata": {},
     "output_type": "execute_result"
    }
   ],
   "source": [
    "tot_usd_data_res_all_modes.loc[tot_usd_data_res_all_modes['cost_bUSD_disc_annual'].idxmax()]"
   ]
  },
  {
   "cell_type": "code",
   "execution_count": 164,
   "metadata": {},
   "outputs": [],
   "source": [
    "reg_usd_data_res_all_all_modes = return_usd(reg_pct_data_res_all_modes,'region','cost_diff_all',indexes_inv,GDP2,d=0.06,ssp='ssp2',wbregions=False)"
   ]
  },
  {
   "cell_type": "code",
   "execution_count": 165,
   "metadata": {},
   "outputs": [],
   "source": [
    "tot_usd_data_res_all_all_modes = reg_usd_data_res_all_all_modes.set_index(indexes_inv+['region']).sum(level=indexes_inv)"
   ]
  },
  {
   "cell_type": "markdown",
   "metadata": {},
   "source": [
    "## range of cost increase if all assets are upgraded"
   ]
  },
  {
   "cell_type": "code",
   "execution_count": 166,
   "metadata": {},
   "outputs": [
    {
     "data": {
      "text/plain": [
       "cost_bUSD_disc           128.881533\n",
       "cost_bUSD_disc_annual      8.592102\n",
       "Name: (301, 4, 1, 1, 2, 2, 1, 1, 0, 900, 30000, 65, 2, 0), dtype: float64"
      ]
     },
     "execution_count": 166,
     "metadata": {},
     "output_type": "execute_result"
    }
   ],
   "source": [
    "tot_usd_data_res_all_all_modes.loc[tot_usd_data_res_all_all_modes['cost_bUSD_disc_annual'].idxmin()]"
   ]
  },
  {
   "cell_type": "code",
   "execution_count": 167,
   "metadata": {},
   "outputs": [
    {
     "data": {
      "text/plain": [
       "cost_bUSD_disc           5257.537518\n",
       "cost_bUSD_disc_annual     350.502501\n",
       "Name: (164, 2, 3, 1, 1, 1, 2, 2, 1, 600, 5000, 35, 1, 1), dtype: float64"
      ]
     },
     "execution_count": 167,
     "metadata": {},
     "output_type": "execute_result"
    }
   ],
   "source": [
    "tot_usd_data_res_all_all_modes.loc[tot_usd_data_res_all_all_modes['cost_bUSD_disc_annual'].idxmax()]"
   ]
  },
  {
   "cell_type": "code",
   "execution_count": 168,
   "metadata": {},
   "outputs": [
    {
     "name": "stderr",
     "output_type": "stream",
     "text": [
      "C:\\ProgramData\\Anaconda3\\envs\\Julie1\\lib\\site-packages\\ipykernel_launcher.py:5: SettingWithCopyWarning: \n",
      "A value is trying to be set on a copy of a slice from a DataFrame.\n",
      "Try using .loc[row_indexer,col_indexer] = value instead\n",
      "\n",
      "See the caveats in the documentation: http://pandas.pydata.org/pandas-docs/stable/indexing.html#indexing-view-versus-copy\n",
      "  \"\"\"\n"
     ]
    }
   ],
   "source": [
    "best_scenario = tot_usd_data_res_all_modes.reset_index()\n",
    "select = (best_scenario.urt_ideal==30000)&(best_scenario.modal_scenario==1)&(best_scenario.ind_climat==2)&(best_scenario.ind_mitig==2)&(best_scenario.ur_ideal==600)&\\\n",
    "(best_scenario.ind_trans_A==2)&(best_scenario.ind_trans_S==2)&(best_scenario.ind_trans_I==2)&(best_scenario.ind_trans_F==2)&(best_scenario.delay==35)&\\\n",
    "(best_scenario.costs_evolution_road==2)&(best_scenario.costs_evolution_rail==2)&(best_scenario.ind_growth==2)\n",
    "\n",
    "best_scenario_exposed = best_scenario.loc[select,:]\n",
    "best_scenario_exposed['scenario']='best'"
   ]
  },
  {
   "cell_type": "code",
   "execution_count": 169,
   "metadata": {},
   "outputs": [],
   "source": [
    "extract = best_scenario_exposed\n",
    "extract = extract.append(tot_usd_data_res_all_modes.reset_index().loc[tot_usd_data_res_all_modes.reset_index()['cost_bUSD_disc_annual'].idxmax()])\n",
    "extract = extract.append(tot_usd_data_res_all_modes.reset_index().loc[tot_usd_data_res_all_modes.reset_index()['cost_bUSD_disc_annual'].idxmin()])\n",
    "\n",
    "extract['exposed'] = 'yes'"
   ]
  },
  {
   "cell_type": "code",
   "execution_count": 170,
   "metadata": {},
   "outputs": [
    {
     "data": {
      "text/html": [
       "<div>\n",
       "<style scoped>\n",
       "    .dataframe tbody tr th:only-of-type {\n",
       "        vertical-align: middle;\n",
       "    }\n",
       "\n",
       "    .dataframe tbody tr th {\n",
       "        vertical-align: top;\n",
       "    }\n",
       "\n",
       "    .dataframe thead th {\n",
       "        text-align: right;\n",
       "    }\n",
       "</style>\n",
       "<table border=\"1\" class=\"dataframe\">\n",
       "  <thead>\n",
       "    <tr style=\"text-align: right;\">\n",
       "      <th></th>\n",
       "      <th>combi</th>\n",
       "      <th>ind_climat</th>\n",
       "      <th>ind_growth</th>\n",
       "      <th>ind_mitig</th>\n",
       "      <th>ind_trans_A</th>\n",
       "      <th>ind_trans_S</th>\n",
       "      <th>ind_trans_I</th>\n",
       "      <th>ind_trans_F</th>\n",
       "      <th>modal_scenario</th>\n",
       "      <th>ur_ideal</th>\n",
       "      <th>urt_ideal</th>\n",
       "      <th>delay</th>\n",
       "      <th>costs_evolution_road</th>\n",
       "      <th>costs_evolution_rail</th>\n",
       "      <th>cost_bUSD_disc</th>\n",
       "      <th>cost_bUSD_disc_annual</th>\n",
       "      <th>scenario</th>\n",
       "      <th>exposed</th>\n",
       "    </tr>\n",
       "  </thead>\n",
       "  <tbody>\n",
       "    <tr>\n",
       "      <th>23034</th>\n",
       "      <td>160.0</td>\n",
       "      <td>2.0</td>\n",
       "      <td>2.0</td>\n",
       "      <td>2.0</td>\n",
       "      <td>2.0</td>\n",
       "      <td>2.0</td>\n",
       "      <td>2.0</td>\n",
       "      <td>2.0</td>\n",
       "      <td>1.0</td>\n",
       "      <td>600.0</td>\n",
       "      <td>30000.0</td>\n",
       "      <td>35.0</td>\n",
       "      <td>2.0</td>\n",
       "      <td>2.0</td>\n",
       "      <td>127.462742</td>\n",
       "      <td>8.497516</td>\n",
       "      <td>best</td>\n",
       "      <td>yes</td>\n",
       "    </tr>\n",
       "    <tr>\n",
       "      <th>23576</th>\n",
       "      <td>164.0</td>\n",
       "      <td>2.0</td>\n",
       "      <td>3.0</td>\n",
       "      <td>1.0</td>\n",
       "      <td>1.0</td>\n",
       "      <td>1.0</td>\n",
       "      <td>2.0</td>\n",
       "      <td>2.0</td>\n",
       "      <td>1.0</td>\n",
       "      <td>600.0</td>\n",
       "      <td>5000.0</td>\n",
       "      <td>35.0</td>\n",
       "      <td>1.0</td>\n",
       "      <td>1.0</td>\n",
       "      <td>526.117356</td>\n",
       "      <td>35.074490</td>\n",
       "      <td>NaN</td>\n",
       "      <td>yes</td>\n",
       "    </tr>\n",
       "    <tr>\n",
       "      <th>29399</th>\n",
       "      <td>301.0</td>\n",
       "      <td>4.0</td>\n",
       "      <td>1.0</td>\n",
       "      <td>1.0</td>\n",
       "      <td>2.0</td>\n",
       "      <td>2.0</td>\n",
       "      <td>1.0</td>\n",
       "      <td>1.0</td>\n",
       "      <td>0.0</td>\n",
       "      <td>900.0</td>\n",
       "      <td>30000.0</td>\n",
       "      <td>65.0</td>\n",
       "      <td>2.0</td>\n",
       "      <td>0.0</td>\n",
       "      <td>12.901551</td>\n",
       "      <td>0.860103</td>\n",
       "      <td>NaN</td>\n",
       "      <td>yes</td>\n",
       "    </tr>\n",
       "  </tbody>\n",
       "</table>\n",
       "</div>"
      ],
      "text/plain": [
       "       combi  ind_climat  ind_growth  ind_mitig  ind_trans_A  ind_trans_S  \\\n",
       "23034  160.0         2.0         2.0        2.0          2.0          2.0   \n",
       "23576  164.0         2.0         3.0        1.0          1.0          1.0   \n",
       "29399  301.0         4.0         1.0        1.0          2.0          2.0   \n",
       "\n",
       "       ind_trans_I  ind_trans_F  modal_scenario  ur_ideal  urt_ideal  delay  \\\n",
       "23034          2.0          2.0             1.0     600.0    30000.0   35.0   \n",
       "23576          2.0          2.0             1.0     600.0     5000.0   35.0   \n",
       "29399          1.0          1.0             0.0     900.0    30000.0   65.0   \n",
       "\n",
       "       costs_evolution_road  costs_evolution_rail  cost_bUSD_disc  \\\n",
       "23034                   2.0                   2.0      127.462742   \n",
       "23576                   1.0                   1.0      526.117356   \n",
       "29399                   2.0                   0.0       12.901551   \n",
       "\n",
       "       cost_bUSD_disc_annual scenario exposed  \n",
       "23034               8.497516     best     yes  \n",
       "23576              35.074490      NaN     yes  \n",
       "29399               0.860103      NaN     yes  "
      ]
     },
     "execution_count": 170,
     "metadata": {},
     "output_type": "execute_result"
    }
   ],
   "source": [
    "extract"
   ]
  },
  {
   "cell_type": "code",
   "execution_count": 171,
   "metadata": {},
   "outputs": [],
   "source": [
    "best_scenario = tot_usd_data_res_all_all_modes.reset_index()\n",
    "select = (best_scenario.urt_ideal==30000)&(best_scenario.modal_scenario==1)&(best_scenario.ind_climat==2)&(best_scenario.ind_mitig==2)&(best_scenario.ur_ideal==600)&\\\n",
    "(best_scenario.ind_trans_A==2)&(best_scenario.ind_trans_S==2)&(best_scenario.ind_trans_I==2)&(best_scenario.ind_trans_F==2)&(best_scenario.delay==35)&\\\n",
    "(best_scenario.costs_evolution_road==2)&(best_scenario.costs_evolution_rail==2)&(best_scenario.ind_growth==2)\n",
    "\n",
    "best_scenario_all = best_scenario.loc[select,:]\n",
    "best_scenario_exposed['scenario']='best'"
   ]
  },
  {
   "cell_type": "code",
   "execution_count": 172,
   "metadata": {},
   "outputs": [],
   "source": [
    "extract2 = best_scenario_all\n",
    "extract2 = extract2.append(tot_usd_data_res_all_all_modes.reset_index().loc[tot_usd_data_res_all_all_modes.reset_index()['cost_bUSD_disc_annual'].idxmax()])\n",
    "extract2 = extract2.append(tot_usd_data_res_all_all_modes.reset_index().loc[tot_usd_data_res_all_all_modes.reset_index()['cost_bUSD_disc_annual'].idxmin()])\n",
    "\n",
    "extract2['exposed'] = 'no'"
   ]
  },
  {
   "cell_type": "code",
   "execution_count": 173,
   "metadata": {},
   "outputs": [
    {
     "name": "stderr",
     "output_type": "stream",
     "text": [
      "C:\\ProgramData\\Anaconda3\\envs\\Julie1\\lib\\site-packages\\pandas\\core\\frame.py:6211: FutureWarning: Sorting because non-concatenation axis is not aligned. A future version\n",
      "of pandas will change to not sort by default.\n",
      "\n",
      "To accept the future behavior, pass 'sort=False'.\n",
      "\n",
      "To retain the current behavior and silence the warning, pass 'sort=True'.\n",
      "\n",
      "  sort=sort)\n"
     ]
    },
    {
     "data": {
      "text/html": [
       "<div>\n",
       "<style scoped>\n",
       "    .dataframe tbody tr th:only-of-type {\n",
       "        vertical-align: middle;\n",
       "    }\n",
       "\n",
       "    .dataframe tbody tr th {\n",
       "        vertical-align: top;\n",
       "    }\n",
       "\n",
       "    .dataframe thead th {\n",
       "        text-align: right;\n",
       "    }\n",
       "</style>\n",
       "<table border=\"1\" class=\"dataframe\">\n",
       "  <thead>\n",
       "    <tr style=\"text-align: right;\">\n",
       "      <th></th>\n",
       "      <th>combi</th>\n",
       "      <th>cost_bUSD_disc</th>\n",
       "      <th>cost_bUSD_disc_annual</th>\n",
       "      <th>costs_evolution_rail</th>\n",
       "      <th>costs_evolution_road</th>\n",
       "      <th>delay</th>\n",
       "      <th>exposed</th>\n",
       "      <th>ind_climat</th>\n",
       "      <th>ind_growth</th>\n",
       "      <th>ind_mitig</th>\n",
       "      <th>ind_trans_A</th>\n",
       "      <th>ind_trans_F</th>\n",
       "      <th>ind_trans_I</th>\n",
       "      <th>ind_trans_S</th>\n",
       "      <th>modal_scenario</th>\n",
       "      <th>scenario</th>\n",
       "      <th>ur_ideal</th>\n",
       "      <th>urt_ideal</th>\n",
       "    </tr>\n",
       "  </thead>\n",
       "  <tbody>\n",
       "    <tr>\n",
       "      <th>23034</th>\n",
       "      <td>160.0</td>\n",
       "      <td>1076.172250</td>\n",
       "      <td>71.744817</td>\n",
       "      <td>2.0</td>\n",
       "      <td>2.0</td>\n",
       "      <td>35.0</td>\n",
       "      <td>no</td>\n",
       "      <td>2.0</td>\n",
       "      <td>2.0</td>\n",
       "      <td>2.0</td>\n",
       "      <td>2.0</td>\n",
       "      <td>2.0</td>\n",
       "      <td>2.0</td>\n",
       "      <td>2.0</td>\n",
       "      <td>1.0</td>\n",
       "      <td>NaN</td>\n",
       "      <td>600.0</td>\n",
       "      <td>30000.0</td>\n",
       "    </tr>\n",
       "    <tr>\n",
       "      <th>23576</th>\n",
       "      <td>164.0</td>\n",
       "      <td>5257.537518</td>\n",
       "      <td>350.502501</td>\n",
       "      <td>1.0</td>\n",
       "      <td>1.0</td>\n",
       "      <td>35.0</td>\n",
       "      <td>no</td>\n",
       "      <td>2.0</td>\n",
       "      <td>3.0</td>\n",
       "      <td>1.0</td>\n",
       "      <td>1.0</td>\n",
       "      <td>2.0</td>\n",
       "      <td>2.0</td>\n",
       "      <td>1.0</td>\n",
       "      <td>1.0</td>\n",
       "      <td>NaN</td>\n",
       "      <td>600.0</td>\n",
       "      <td>5000.0</td>\n",
       "    </tr>\n",
       "    <tr>\n",
       "      <th>29399</th>\n",
       "      <td>301.0</td>\n",
       "      <td>128.881533</td>\n",
       "      <td>8.592102</td>\n",
       "      <td>0.0</td>\n",
       "      <td>2.0</td>\n",
       "      <td>65.0</td>\n",
       "      <td>no</td>\n",
       "      <td>4.0</td>\n",
       "      <td>1.0</td>\n",
       "      <td>1.0</td>\n",
       "      <td>2.0</td>\n",
       "      <td>1.0</td>\n",
       "      <td>1.0</td>\n",
       "      <td>2.0</td>\n",
       "      <td>0.0</td>\n",
       "      <td>NaN</td>\n",
       "      <td>900.0</td>\n",
       "      <td>30000.0</td>\n",
       "    </tr>\n",
       "    <tr>\n",
       "      <th>23034</th>\n",
       "      <td>160.0</td>\n",
       "      <td>127.462742</td>\n",
       "      <td>8.497516</td>\n",
       "      <td>2.0</td>\n",
       "      <td>2.0</td>\n",
       "      <td>35.0</td>\n",
       "      <td>yes</td>\n",
       "      <td>2.0</td>\n",
       "      <td>2.0</td>\n",
       "      <td>2.0</td>\n",
       "      <td>2.0</td>\n",
       "      <td>2.0</td>\n",
       "      <td>2.0</td>\n",
       "      <td>2.0</td>\n",
       "      <td>1.0</td>\n",
       "      <td>best</td>\n",
       "      <td>600.0</td>\n",
       "      <td>30000.0</td>\n",
       "    </tr>\n",
       "    <tr>\n",
       "      <th>23576</th>\n",
       "      <td>164.0</td>\n",
       "      <td>526.117356</td>\n",
       "      <td>35.074490</td>\n",
       "      <td>1.0</td>\n",
       "      <td>1.0</td>\n",
       "      <td>35.0</td>\n",
       "      <td>yes</td>\n",
       "      <td>2.0</td>\n",
       "      <td>3.0</td>\n",
       "      <td>1.0</td>\n",
       "      <td>1.0</td>\n",
       "      <td>2.0</td>\n",
       "      <td>2.0</td>\n",
       "      <td>1.0</td>\n",
       "      <td>1.0</td>\n",
       "      <td>NaN</td>\n",
       "      <td>600.0</td>\n",
       "      <td>5000.0</td>\n",
       "    </tr>\n",
       "    <tr>\n",
       "      <th>29399</th>\n",
       "      <td>301.0</td>\n",
       "      <td>12.901551</td>\n",
       "      <td>0.860103</td>\n",
       "      <td>0.0</td>\n",
       "      <td>2.0</td>\n",
       "      <td>65.0</td>\n",
       "      <td>yes</td>\n",
       "      <td>4.0</td>\n",
       "      <td>1.0</td>\n",
       "      <td>1.0</td>\n",
       "      <td>2.0</td>\n",
       "      <td>1.0</td>\n",
       "      <td>1.0</td>\n",
       "      <td>2.0</td>\n",
       "      <td>0.0</td>\n",
       "      <td>NaN</td>\n",
       "      <td>900.0</td>\n",
       "      <td>30000.0</td>\n",
       "    </tr>\n",
       "  </tbody>\n",
       "</table>\n",
       "</div>"
      ],
      "text/plain": [
       "       combi  cost_bUSD_disc  cost_bUSD_disc_annual  costs_evolution_rail  \\\n",
       "23034  160.0     1076.172250              71.744817                   2.0   \n",
       "23576  164.0     5257.537518             350.502501                   1.0   \n",
       "29399  301.0      128.881533               8.592102                   0.0   \n",
       "23034  160.0      127.462742               8.497516                   2.0   \n",
       "23576  164.0      526.117356              35.074490                   1.0   \n",
       "29399  301.0       12.901551               0.860103                   0.0   \n",
       "\n",
       "       costs_evolution_road  delay exposed  ind_climat  ind_growth  ind_mitig  \\\n",
       "23034                   2.0   35.0      no         2.0         2.0        2.0   \n",
       "23576                   1.0   35.0      no         2.0         3.0        1.0   \n",
       "29399                   2.0   65.0      no         4.0         1.0        1.0   \n",
       "23034                   2.0   35.0     yes         2.0         2.0        2.0   \n",
       "23576                   1.0   35.0     yes         2.0         3.0        1.0   \n",
       "29399                   2.0   65.0     yes         4.0         1.0        1.0   \n",
       "\n",
       "       ind_trans_A  ind_trans_F  ind_trans_I  ind_trans_S  modal_scenario  \\\n",
       "23034          2.0          2.0          2.0          2.0             1.0   \n",
       "23576          1.0          2.0          2.0          1.0             1.0   \n",
       "29399          2.0          1.0          1.0          2.0             0.0   \n",
       "23034          2.0          2.0          2.0          2.0             1.0   \n",
       "23576          1.0          2.0          2.0          1.0             1.0   \n",
       "29399          2.0          1.0          1.0          2.0             0.0   \n",
       "\n",
       "      scenario  ur_ideal  urt_ideal  \n",
       "23034      NaN     600.0    30000.0  \n",
       "23576      NaN     600.0     5000.0  \n",
       "29399      NaN     900.0    30000.0  \n",
       "23034     best     600.0    30000.0  \n",
       "23576      NaN     600.0     5000.0  \n",
       "29399      NaN     900.0    30000.0  "
      ]
     },
     "execution_count": 173,
     "metadata": {},
     "output_type": "execute_result"
    }
   ],
   "source": [
    "extract2.append(extract)"
   ]
  },
  {
   "cell_type": "code",
   "execution_count": null,
   "metadata": {},
   "outputs": [],
   "source": []
  },
  {
   "cell_type": "code",
   "execution_count": 174,
   "metadata": {},
   "outputs": [],
   "source": [
    "reg_usd_risk_ini = return_usd(reg_pct_data_res_all_modes,'region','initial_risk',indexes_inv,GDP2,d=0.06,ssp='ssp2',wbregions=False)"
   ]
  },
  {
   "cell_type": "code",
   "execution_count": 175,
   "metadata": {},
   "outputs": [],
   "source": [
    "reg_usd_risk_final = return_usd(reg_pct_data_res_all_modes,'region','final_risk',indexes_inv,GDP2,d=0.06,ssp='ssp2',wbregions=False)"
   ]
  },
  {
   "cell_type": "code",
   "execution_count": 176,
   "metadata": {},
   "outputs": [
    {
     "data": {
      "text/html": [
       "<div>\n",
       "<style scoped>\n",
       "    .dataframe tbody tr th:only-of-type {\n",
       "        vertical-align: middle;\n",
       "    }\n",
       "\n",
       "    .dataframe tbody tr th {\n",
       "        vertical-align: top;\n",
       "    }\n",
       "\n",
       "    .dataframe thead th {\n",
       "        text-align: right;\n",
       "    }\n",
       "</style>\n",
       "<table border=\"1\" class=\"dataframe\">\n",
       "  <thead>\n",
       "    <tr style=\"text-align: right;\">\n",
       "      <th></th>\n",
       "      <th>combi</th>\n",
       "      <th>ind_climat</th>\n",
       "      <th>ind_growth</th>\n",
       "      <th>ind_mitig</th>\n",
       "      <th>ind_trans_A</th>\n",
       "      <th>ind_trans_S</th>\n",
       "      <th>ind_trans_I</th>\n",
       "      <th>ind_trans_F</th>\n",
       "      <th>modal_scenario</th>\n",
       "      <th>ur_ideal</th>\n",
       "      <th>urt_ideal</th>\n",
       "      <th>delay</th>\n",
       "      <th>costs_evolution_road</th>\n",
       "      <th>costs_evolution_rail</th>\n",
       "      <th>region</th>\n",
       "      <th>cost_bUSD_disc</th>\n",
       "      <th>cost_bUSD_disc_annual</th>\n",
       "    </tr>\n",
       "  </thead>\n",
       "  <tbody>\n",
       "    <tr>\n",
       "      <th>163648</th>\n",
       "      <td>369</td>\n",
       "      <td>4</td>\n",
       "      <td>3</td>\n",
       "      <td>2</td>\n",
       "      <td>1</td>\n",
       "      <td>1</td>\n",
       "      <td>1</td>\n",
       "      <td>1</td>\n",
       "      <td>0</td>\n",
       "      <td>600</td>\n",
       "      <td>5000</td>\n",
       "      <td>35</td>\n",
       "      <td>2</td>\n",
       "      <td>2</td>\n",
       "      <td>Africa</td>\n",
       "      <td>13.952379</td>\n",
       "      <td>0.930159</td>\n",
       "    </tr>\n",
       "    <tr>\n",
       "      <th>138060</th>\n",
       "      <td>95</td>\n",
       "      <td>0</td>\n",
       "      <td>3</td>\n",
       "      <td>2</td>\n",
       "      <td>2</td>\n",
       "      <td>2</td>\n",
       "      <td>2</td>\n",
       "      <td>1</td>\n",
       "      <td>1</td>\n",
       "      <td>900</td>\n",
       "      <td>5000</td>\n",
       "      <td>35</td>\n",
       "      <td>1</td>\n",
       "      <td>1</td>\n",
       "      <td>Africa</td>\n",
       "      <td>10.509555</td>\n",
       "      <td>0.700637</td>\n",
       "    </tr>\n",
       "    <tr>\n",
       "      <th>145564</th>\n",
       "      <td>147</td>\n",
       "      <td>2</td>\n",
       "      <td>2</td>\n",
       "      <td>2</td>\n",
       "      <td>1</td>\n",
       "      <td>1</td>\n",
       "      <td>2</td>\n",
       "      <td>1</td>\n",
       "      <td>1</td>\n",
       "      <td>900</td>\n",
       "      <td>5000</td>\n",
       "      <td>35</td>\n",
       "      <td>0</td>\n",
       "      <td>2</td>\n",
       "      <td>Africa</td>\n",
       "      <td>11.543805</td>\n",
       "      <td>0.769587</td>\n",
       "    </tr>\n",
       "  </tbody>\n",
       "</table>\n",
       "</div>"
      ],
      "text/plain": [
       "        combi  ind_climat  ind_growth  ind_mitig  ind_trans_A  ind_trans_S  \\\n",
       "163648    369           4           3          2            1            1   \n",
       "138060     95           0           3          2            2            2   \n",
       "145564    147           2           2          2            1            1   \n",
       "\n",
       "        ind_trans_I  ind_trans_F  modal_scenario  ur_ideal  urt_ideal  delay  \\\n",
       "163648            1            1               0       600       5000     35   \n",
       "138060            2            1               1       900       5000     35   \n",
       "145564            2            1               1       900       5000     35   \n",
       "\n",
       "        costs_evolution_road  costs_evolution_rail  region  cost_bUSD_disc  \\\n",
       "163648                     2                     2  Africa       13.952379   \n",
       "138060                     1                     1  Africa       10.509555   \n",
       "145564                     0                     2  Africa       11.543805   \n",
       "\n",
       "        cost_bUSD_disc_annual  \n",
       "163648               0.930159  \n",
       "138060               0.700637  \n",
       "145564               0.769587  "
      ]
     },
     "execution_count": 176,
     "metadata": {},
     "output_type": "execute_result"
    }
   ],
   "source": [
    "reg_usd_risk_ini.sample(3)"
   ]
  },
  {
   "cell_type": "code",
   "execution_count": 177,
   "metadata": {},
   "outputs": [],
   "source": [
    "tot_usd_risk_final = reg_usd_risk_final.set_index(indexes_inv+['region']).sum(level=indexes_inv)\n",
    "tot_usd_risk_ini = reg_usd_risk_ini.set_index(indexes_inv+['region']).sum(level=indexes_inv)"
   ]
  },
  {
   "cell_type": "code",
   "execution_count": 178,
   "metadata": {},
   "outputs": [],
   "source": [
    "risk_reduction = tot_usd_risk_ini/tot_usd_risk_final"
   ]
  },
  {
   "cell_type": "code",
   "execution_count": 179,
   "metadata": {},
   "outputs": [
    {
     "data": {
      "text/plain": [
       "count    41472.000000\n",
       "mean         2.242666\n",
       "std          0.121913\n",
       "min          2.015298\n",
       "25%          2.141749\n",
       "50%          2.235175\n",
       "75%          2.338634\n",
       "max          2.555910\n",
       "Name: cost_bUSD_disc, dtype: float64"
      ]
     },
     "execution_count": 179,
     "metadata": {},
     "output_type": "execute_result"
    }
   ],
   "source": [
    "risk_reduction.cost_bUSD_disc.describe()"
   ]
  },
  {
   "cell_type": "code",
   "execution_count": 180,
   "metadata": {},
   "outputs": [
    {
     "name": "stderr",
     "output_type": "stream",
     "text": [
      "C:\\ProgramData\\Anaconda3\\envs\\Julie1\\lib\\site-packages\\pandas\\core\\frame.py:6211: FutureWarning: Sorting because non-concatenation axis is not aligned. A future version\n",
      "of pandas will change to not sort by default.\n",
      "\n",
      "To accept the future behavior, pass 'sort=False'.\n",
      "\n",
      "To retain the current behavior and silence the warning, pass 'sort=True'.\n",
      "\n",
      "  sort=sort)\n"
     ]
    }
   ],
   "source": [
    "extract3 = extract2.append(extract)"
   ]
  },
  {
   "cell_type": "code",
   "execution_count": 181,
   "metadata": {},
   "outputs": [],
   "source": [
    "extract3 = extract3.merge(risk_reduction.cost_bUSD_disc.reset_index().rename(columns={\"cost_bUSD_disc\":\"risk_reduction\"}),on=indexes_inv)"
   ]
  },
  {
   "cell_type": "code",
   "execution_count": 182,
   "metadata": {},
   "outputs": [],
   "source": [
    "extract3.to_csv(\"three_resilience_scenarios_transport.csv\")"
   ]
  },
  {
   "cell_type": "code",
   "execution_count": 183,
   "metadata": {},
   "outputs": [
    {
     "data": {
      "text/html": [
       "<div>\n",
       "<style scoped>\n",
       "    .dataframe tbody tr th:only-of-type {\n",
       "        vertical-align: middle;\n",
       "    }\n",
       "\n",
       "    .dataframe tbody tr th {\n",
       "        vertical-align: top;\n",
       "    }\n",
       "\n",
       "    .dataframe thead th {\n",
       "        text-align: right;\n",
       "    }\n",
       "</style>\n",
       "<table border=\"1\" class=\"dataframe\">\n",
       "  <thead>\n",
       "    <tr style=\"text-align: right;\">\n",
       "      <th></th>\n",
       "      <th>combi</th>\n",
       "      <th>cost_bUSD_disc</th>\n",
       "      <th>cost_bUSD_disc_annual</th>\n",
       "      <th>costs_evolution_rail</th>\n",
       "      <th>costs_evolution_road</th>\n",
       "      <th>delay</th>\n",
       "      <th>exposed</th>\n",
       "      <th>ind_climat</th>\n",
       "      <th>ind_growth</th>\n",
       "      <th>ind_mitig</th>\n",
       "      <th>ind_trans_A</th>\n",
       "      <th>ind_trans_F</th>\n",
       "      <th>ind_trans_I</th>\n",
       "      <th>ind_trans_S</th>\n",
       "      <th>modal_scenario</th>\n",
       "      <th>scenario</th>\n",
       "      <th>ur_ideal</th>\n",
       "      <th>urt_ideal</th>\n",
       "      <th>risk_reduction</th>\n",
       "    </tr>\n",
       "  </thead>\n",
       "  <tbody>\n",
       "    <tr>\n",
       "      <th>0</th>\n",
       "      <td>160.0</td>\n",
       "      <td>1076.172250</td>\n",
       "      <td>71.744817</td>\n",
       "      <td>2.0</td>\n",
       "      <td>2.0</td>\n",
       "      <td>35.0</td>\n",
       "      <td>no</td>\n",
       "      <td>2.0</td>\n",
       "      <td>2.0</td>\n",
       "      <td>2.0</td>\n",
       "      <td>2.0</td>\n",
       "      <td>2.0</td>\n",
       "      <td>2.0</td>\n",
       "      <td>2.0</td>\n",
       "      <td>1.0</td>\n",
       "      <td>NaN</td>\n",
       "      <td>600.0</td>\n",
       "      <td>30000.0</td>\n",
       "      <td>2.185783</td>\n",
       "    </tr>\n",
       "    <tr>\n",
       "      <th>1</th>\n",
       "      <td>160.0</td>\n",
       "      <td>127.462742</td>\n",
       "      <td>8.497516</td>\n",
       "      <td>2.0</td>\n",
       "      <td>2.0</td>\n",
       "      <td>35.0</td>\n",
       "      <td>yes</td>\n",
       "      <td>2.0</td>\n",
       "      <td>2.0</td>\n",
       "      <td>2.0</td>\n",
       "      <td>2.0</td>\n",
       "      <td>2.0</td>\n",
       "      <td>2.0</td>\n",
       "      <td>2.0</td>\n",
       "      <td>1.0</td>\n",
       "      <td>best</td>\n",
       "      <td>600.0</td>\n",
       "      <td>30000.0</td>\n",
       "      <td>2.185783</td>\n",
       "    </tr>\n",
       "    <tr>\n",
       "      <th>2</th>\n",
       "      <td>164.0</td>\n",
       "      <td>5257.537518</td>\n",
       "      <td>350.502501</td>\n",
       "      <td>1.0</td>\n",
       "      <td>1.0</td>\n",
       "      <td>35.0</td>\n",
       "      <td>no</td>\n",
       "      <td>2.0</td>\n",
       "      <td>3.0</td>\n",
       "      <td>1.0</td>\n",
       "      <td>1.0</td>\n",
       "      <td>2.0</td>\n",
       "      <td>2.0</td>\n",
       "      <td>1.0</td>\n",
       "      <td>1.0</td>\n",
       "      <td>NaN</td>\n",
       "      <td>600.0</td>\n",
       "      <td>5000.0</td>\n",
       "      <td>2.396657</td>\n",
       "    </tr>\n",
       "    <tr>\n",
       "      <th>3</th>\n",
       "      <td>164.0</td>\n",
       "      <td>526.117356</td>\n",
       "      <td>35.074490</td>\n",
       "      <td>1.0</td>\n",
       "      <td>1.0</td>\n",
       "      <td>35.0</td>\n",
       "      <td>yes</td>\n",
       "      <td>2.0</td>\n",
       "      <td>3.0</td>\n",
       "      <td>1.0</td>\n",
       "      <td>1.0</td>\n",
       "      <td>2.0</td>\n",
       "      <td>2.0</td>\n",
       "      <td>1.0</td>\n",
       "      <td>1.0</td>\n",
       "      <td>NaN</td>\n",
       "      <td>600.0</td>\n",
       "      <td>5000.0</td>\n",
       "      <td>2.396657</td>\n",
       "    </tr>\n",
       "    <tr>\n",
       "      <th>4</th>\n",
       "      <td>301.0</td>\n",
       "      <td>128.881533</td>\n",
       "      <td>8.592102</td>\n",
       "      <td>0.0</td>\n",
       "      <td>2.0</td>\n",
       "      <td>65.0</td>\n",
       "      <td>no</td>\n",
       "      <td>4.0</td>\n",
       "      <td>1.0</td>\n",
       "      <td>1.0</td>\n",
       "      <td>2.0</td>\n",
       "      <td>1.0</td>\n",
       "      <td>1.0</td>\n",
       "      <td>2.0</td>\n",
       "      <td>0.0</td>\n",
       "      <td>NaN</td>\n",
       "      <td>900.0</td>\n",
       "      <td>30000.0</td>\n",
       "      <td>2.037521</td>\n",
       "    </tr>\n",
       "    <tr>\n",
       "      <th>5</th>\n",
       "      <td>301.0</td>\n",
       "      <td>12.901551</td>\n",
       "      <td>0.860103</td>\n",
       "      <td>0.0</td>\n",
       "      <td>2.0</td>\n",
       "      <td>65.0</td>\n",
       "      <td>yes</td>\n",
       "      <td>4.0</td>\n",
       "      <td>1.0</td>\n",
       "      <td>1.0</td>\n",
       "      <td>2.0</td>\n",
       "      <td>1.0</td>\n",
       "      <td>1.0</td>\n",
       "      <td>2.0</td>\n",
       "      <td>0.0</td>\n",
       "      <td>NaN</td>\n",
       "      <td>900.0</td>\n",
       "      <td>30000.0</td>\n",
       "      <td>2.037521</td>\n",
       "    </tr>\n",
       "  </tbody>\n",
       "</table>\n",
       "</div>"
      ],
      "text/plain": [
       "   combi  cost_bUSD_disc  cost_bUSD_disc_annual  costs_evolution_rail  \\\n",
       "0  160.0     1076.172250              71.744817                   2.0   \n",
       "1  160.0      127.462742               8.497516                   2.0   \n",
       "2  164.0     5257.537518             350.502501                   1.0   \n",
       "3  164.0      526.117356              35.074490                   1.0   \n",
       "4  301.0      128.881533               8.592102                   0.0   \n",
       "5  301.0       12.901551               0.860103                   0.0   \n",
       "\n",
       "   costs_evolution_road  delay exposed  ind_climat  ind_growth  ind_mitig  \\\n",
       "0                   2.0   35.0      no         2.0         2.0        2.0   \n",
       "1                   2.0   35.0     yes         2.0         2.0        2.0   \n",
       "2                   1.0   35.0      no         2.0         3.0        1.0   \n",
       "3                   1.0   35.0     yes         2.0         3.0        1.0   \n",
       "4                   2.0   65.0      no         4.0         1.0        1.0   \n",
       "5                   2.0   65.0     yes         4.0         1.0        1.0   \n",
       "\n",
       "   ind_trans_A  ind_trans_F  ind_trans_I  ind_trans_S  modal_scenario  \\\n",
       "0          2.0          2.0          2.0          2.0             1.0   \n",
       "1          2.0          2.0          2.0          2.0             1.0   \n",
       "2          1.0          2.0          2.0          1.0             1.0   \n",
       "3          1.0          2.0          2.0          1.0             1.0   \n",
       "4          2.0          1.0          1.0          2.0             0.0   \n",
       "5          2.0          1.0          1.0          2.0             0.0   \n",
       "\n",
       "  scenario  ur_ideal  urt_ideal  risk_reduction  \n",
       "0      NaN     600.0    30000.0        2.185783  \n",
       "1     best     600.0    30000.0        2.185783  \n",
       "2      NaN     600.0     5000.0        2.396657  \n",
       "3      NaN     600.0     5000.0        2.396657  \n",
       "4      NaN     900.0    30000.0        2.037521  \n",
       "5      NaN     900.0    30000.0        2.037521  "
      ]
     },
     "execution_count": 183,
     "metadata": {},
     "output_type": "execute_result"
    }
   ],
   "source": [
    "extract3"
   ]
  },
  {
   "cell_type": "code",
   "execution_count": null,
   "metadata": {},
   "outputs": [],
   "source": []
  }
 ],
 "metadata": {
  "kernelspec": {
   "display_name": "Python (Julie1)",
   "language": "python",
   "name": "julie1"
  },
  "language_info": {
   "codemirror_mode": {
    "name": "ipython",
    "version": 3
   },
   "file_extension": ".py",
   "mimetype": "text/x-python",
   "name": "python",
   "nbconvert_exporter": "python",
   "pygments_lexer": "ipython3",
   "version": "3.6.6"
  },
  "toc": {
   "colors": {
    "hover_highlight": "#DAA520",
    "navigate_num": "#000000",
    "navigate_text": "#333333",
    "running_highlight": "#FF0000",
    "selected_highlight": "#FFD700",
    "sidebar_border": "#EEEEEE",
    "wrapper_background": "#FFFFFF"
   },
   "moveMenuLeft": true,
   "nav_menu": {
    "height": "12px",
    "width": "252px"
   },
   "navigate_menu": true,
   "number_sections": true,
   "sideBar": true,
   "threshold": 4,
   "toc_cell": false,
   "toc_section_display": "block",
   "toc_window_display": false,
   "widenNotebook": false
  }
 },
 "nbformat": 4,
 "nbformat_minor": 2
}
