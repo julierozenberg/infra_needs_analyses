{
 "cells": [
  {
   "cell_type": "code",
   "execution_count": 1,
   "metadata": {},
   "outputs": [],
   "source": [
    "%load_ext autoreload\n",
    "%autoreload"
   ]
  },
  {
   "cell_type": "code",
   "execution_count": 1,
   "metadata": {},
   "outputs": [],
   "source": [
    "import pandas as pd\n",
    "import numpy as np\n",
    "import matplotlib.pyplot as plt\n",
    "import prim\n",
    "import seaborn as sns\n",
    "from sklearn import mixture\n",
    "import os\n",
    "from clustering_and_prim_tools import *\n",
    "from SALib.analyze import sobol\n",
    "from SALib.sample import saltelli"
   ]
  },
  {
   "cell_type": "code",
   "execution_count": 2,
   "metadata": {},
   "outputs": [],
   "source": [
    "%matplotlib inline"
   ]
  },
  {
   "cell_type": "code",
   "execution_count": 3,
   "metadata": {},
   "outputs": [],
   "source": [
    "sns.set_context(\"poster\",rc={\"font.size\": 28})\n",
    "sns.set_style(\"whitegrid\")"
   ]
  },
  {
   "cell_type": "code",
   "execution_count": 4,
   "metadata": {},
   "outputs": [],
   "source": [
    "invfolder = \"C:\\\\Users\\\\WB451855\\OneDrive - WBG\\\\!infra_needs_data\\\\transport_cired_output_data\\\\outputs_investments_module_billionusd/\"\n",
    "imaclimfolder = \"C:/Users/WB451855/OneDrive - WBG/!infra_needs_data/transport_cired_output_data/outputs_Imaclim/\"\n",
    "physicalinfrafolder = \"C:/Users/WB451855/OneDrive - WBG/!infra_needs_data/transport_cired_output_data/outputs_investments_module_physical_stock/\""
   ]
  },
  {
   "cell_type": "markdown",
   "metadata": {},
   "source": [
    "# First I look at the results from the Imaclim model only (output = transport activity but no investment need)"
   ]
  },
  {
   "cell_type": "code",
   "execution_count": 5,
   "metadata": {},
   "outputs": [
    {
     "data": {
      "text/plain": [
       "['results_transports_Imaclim_ASIA.csv',\n",
       " 'results_transports_Imaclim_CIS.csv',\n",
       " 'results_transports_Imaclim_LAM.csv',\n",
       " 'results_transports_Imaclim_MAF.csv',\n",
       " 'results_transports_Imaclim_OCDE.csv',\n",
       " 'results_transports_Imaclim_WORLD.csv']"
      ]
     },
     "execution_count": 5,
     "metadata": {},
     "output_type": "execute_result"
    }
   ],
   "source": [
    "os.listdir(imaclimfolder)"
   ]
  },
  {
   "cell_type": "code",
   "execution_count": 6,
   "metadata": {},
   "outputs": [],
   "source": [
    "pd.options.display.max_seq_items = 2000"
   ]
  },
  {
   "cell_type": "code",
   "execution_count": 7,
   "metadata": {},
   "outputs": [],
   "source": [
    "all_ima_data = pd.DataFrame()\n",
    "for myfilename in os.listdir(imaclimfolder):\n",
    "    if \"WORLD\" in myfilename:\n",
    "        continue\n",
    "    myfile = pd.read_csv(imaclimfolder+\"\\\\\"+myfilename,sep=\";\")\n",
    "    myinfo = myfilename.replace(\".csv\",'').split(\"_\")\n",
    "    myfile[\"region\"] = myinfo[3]\n",
    "    all_ima_data = all_ima_data.append(myfile)"
   ]
  },
  {
   "cell_type": "code",
   "execution_count": 8,
   "metadata": {},
   "outputs": [
    {
     "data": {
      "text/plain": [
       "array(['Population', 'CO2_em_tot', 'CO2_em_trans', 'PIB',\n",
       "       'passenger_activity', 'freight_activity', 'pkm_OT', 'pkm_auto',\n",
       "       'pkm_air', 'fret_air', 'fret_OT', 'fret_mer'], dtype=object)"
      ]
     },
     "execution_count": 8,
     "metadata": {},
     "output_type": "execute_result"
    }
   ],
   "source": [
    "all_ima_data.Variable.unique()"
   ]
  },
  {
   "cell_type": "code",
   "execution_count": 9,
   "metadata": {},
   "outputs": [],
   "source": [
    "indexes_ima = ['//combi', 'ind_climat', 'ind_growth', 'ind_mitig', 'ind_trans_A',\n",
    "       'ind_trans_S', 'ind_trans_I', 'ind_trans_F', 'ind_taxexo', 'ind_recycl',\n",
    "       'ind_taxmax', 'Variable', 'Unit','region']"
   ]
  },
  {
   "cell_type": "code",
   "execution_count": 10,
   "metadata": {},
   "outputs": [],
   "source": [
    "indexes_ima2 = ['ind_climat', 'ind_growth', 'ind_mitig', 'ind_trans_A',\n",
    "       'ind_trans_S', 'ind_trans_I', 'ind_trans_F', 'ind_taxexo', 'ind_recycl',\n",
    "       'ind_taxmax', 'Variable','region','year']"
   ]
  },
  {
   "cell_type": "code",
   "execution_count": 11,
   "metadata": {},
   "outputs": [],
   "source": [
    "all_ima_data = all_ima_data.set_index(indexes_ima)\n",
    "all_ima_data.columns.name='year'\n",
    "all_ima_data = all_ima_data.stack('year')\n",
    "all_ima_data.name = 'value'\n",
    "all_ima_data = all_ima_data.reset_index('year')\n",
    "all_ima_data['year'] = all_ima_data.year.astype(\"int64\")\n",
    "all_ima_data = all_ima_data.loc[(all_ima_data.year>2014)&(all_ima_data.year<2031),:]"
   ]
  },
  {
   "cell_type": "code",
   "execution_count": 12,
   "metadata": {},
   "outputs": [],
   "source": [
    "all_ima_data.set_index(\"year\",append=True).unstack(\"Variable\")[\"value\"][\"PIB\"].dropna();"
   ]
  },
  {
   "cell_type": "code",
   "execution_count": 13,
   "metadata": {},
   "outputs": [],
   "source": [
    "out = all_ima_data.reset_index().drop(['Unit','//combi'],axis=1).set_index(indexes_ima2).unstack('Variable').value"
   ]
  },
  {
   "cell_type": "code",
   "execution_count": 14,
   "metadata": {},
   "outputs": [
    {
     "data": {
      "text/plain": [
       "Index(['CO2_em_tot', 'CO2_em_trans', 'PIB', 'Population', 'freight_activity',\n",
       "       'fret_OT', 'fret_air', 'fret_mer', 'passenger_activity', 'pkm_OT',\n",
       "       'pkm_air', 'pkm_auto'],\n",
       "      dtype='object', name='Variable')"
      ]
     },
     "execution_count": 14,
     "metadata": {},
     "output_type": "execute_result"
    }
   ],
   "source": [
    "out.columns"
   ]
  },
  {
   "cell_type": "markdown",
   "metadata": {
    "collapsed": true
   },
   "source": [
    "## discounted GDP"
   ]
  },
  {
   "cell_type": "code",
   "execution_count": 15,
   "metadata": {},
   "outputs": [
    {
     "data": {
      "text/html": [
       "<div>\n",
       "<style scoped>\n",
       "    .dataframe tbody tr th:only-of-type {\n",
       "        vertical-align: middle;\n",
       "    }\n",
       "\n",
       "    .dataframe tbody tr th {\n",
       "        vertical-align: top;\n",
       "    }\n",
       "\n",
       "    .dataframe thead th {\n",
       "        text-align: right;\n",
       "    }\n",
       "</style>\n",
       "<table border=\"1\" class=\"dataframe\">\n",
       "  <thead>\n",
       "    <tr style=\"text-align: right;\">\n",
       "      <th></th>\n",
       "      <th></th>\n",
       "      <th></th>\n",
       "      <th></th>\n",
       "      <th></th>\n",
       "      <th></th>\n",
       "      <th></th>\n",
       "      <th></th>\n",
       "      <th></th>\n",
       "      <th></th>\n",
       "      <th></th>\n",
       "      <th>Variable</th>\n",
       "      <th>CO2_em_tot</th>\n",
       "      <th>CO2_em_trans</th>\n",
       "      <th>PIB</th>\n",
       "      <th>Population</th>\n",
       "      <th>freight_activity</th>\n",
       "      <th>fret_OT</th>\n",
       "      <th>fret_air</th>\n",
       "      <th>fret_mer</th>\n",
       "      <th>passenger_activity</th>\n",
       "      <th>pkm_OT</th>\n",
       "      <th>pkm_air</th>\n",
       "      <th>pkm_auto</th>\n",
       "    </tr>\n",
       "    <tr>\n",
       "      <th>ind_climat</th>\n",
       "      <th>ind_growth</th>\n",
       "      <th>ind_mitig</th>\n",
       "      <th>ind_trans_A</th>\n",
       "      <th>ind_trans_S</th>\n",
       "      <th>ind_trans_I</th>\n",
       "      <th>ind_trans_F</th>\n",
       "      <th>ind_taxexo</th>\n",
       "      <th>ind_recycl</th>\n",
       "      <th>ind_taxmax</th>\n",
       "      <th>region</th>\n",
       "      <th>year</th>\n",
       "      <th></th>\n",
       "      <th></th>\n",
       "      <th></th>\n",
       "      <th></th>\n",
       "      <th></th>\n",
       "      <th></th>\n",
       "      <th></th>\n",
       "      <th></th>\n",
       "      <th></th>\n",
       "      <th></th>\n",
       "      <th></th>\n",
       "      <th></th>\n",
       "    </tr>\n",
       "  </thead>\n",
       "  <tbody>\n",
       "    <tr>\n",
       "      <th>0</th>\n",
       "      <th>2</th>\n",
       "      <th>1</th>\n",
       "      <th>2</th>\n",
       "      <th>2</th>\n",
       "      <th>2</th>\n",
       "      <th>1</th>\n",
       "      <th>0</th>\n",
       "      <th>0</th>\n",
       "      <th>0</th>\n",
       "      <th>CIS</th>\n",
       "      <th>2020</th>\n",
       "      <td>4439.0</td>\n",
       "      <td>385.4</td>\n",
       "      <td>2497.0</td>\n",
       "      <td>281.6</td>\n",
       "      <td>635200.0</td>\n",
       "      <td>494800.0</td>\n",
       "      <td>77190.0</td>\n",
       "      <td>63210.0</td>\n",
       "      <td>2314.0</td>\n",
       "      <td>550.8</td>\n",
       "      <td>67.42</td>\n",
       "      <td>1497.0</td>\n",
       "    </tr>\n",
       "    <tr>\n",
       "      <th>2</th>\n",
       "      <th>2</th>\n",
       "      <th>1</th>\n",
       "      <th>1</th>\n",
       "      <th>2</th>\n",
       "      <th>1</th>\n",
       "      <th>1</th>\n",
       "      <th>0</th>\n",
       "      <th>0</th>\n",
       "      <th>0</th>\n",
       "      <th>CIS</th>\n",
       "      <th>2030</th>\n",
       "      <td>3527.0</td>\n",
       "      <td>460.4</td>\n",
       "      <td>3199.0</td>\n",
       "      <td>280.8</td>\n",
       "      <td>861500.0</td>\n",
       "      <td>643900.0</td>\n",
       "      <td>127500.0</td>\n",
       "      <td>90070.0</td>\n",
       "      <td>2591.0</td>\n",
       "      <td>651.0</td>\n",
       "      <td>116.00</td>\n",
       "      <td>1663.0</td>\n",
       "    </tr>\n",
       "  </tbody>\n",
       "</table>\n",
       "</div>"
      ],
      "text/plain": [
       "Variable                                                                                                                      CO2_em_tot  \\\n",
       "ind_climat ind_growth ind_mitig ind_trans_A ind_trans_S ind_trans_I ind_trans_F ind_taxexo ind_recycl ind_taxmax region year               \n",
       "0          2          1         2           2           2           1           0          0          0          CIS    2020      4439.0   \n",
       "2          2          1         1           2           1           1           0          0          0          CIS    2030      3527.0   \n",
       "\n",
       "Variable                                                                                                                      CO2_em_trans  \\\n",
       "ind_climat ind_growth ind_mitig ind_trans_A ind_trans_S ind_trans_I ind_trans_F ind_taxexo ind_recycl ind_taxmax region year                 \n",
       "0          2          1         2           2           2           1           0          0          0          CIS    2020         385.4   \n",
       "2          2          1         1           2           1           1           0          0          0          CIS    2030         460.4   \n",
       "\n",
       "Variable                                                                                                                         PIB  \\\n",
       "ind_climat ind_growth ind_mitig ind_trans_A ind_trans_S ind_trans_I ind_trans_F ind_taxexo ind_recycl ind_taxmax region year           \n",
       "0          2          1         2           2           2           1           0          0          0          CIS    2020  2497.0   \n",
       "2          2          1         1           2           1           1           0          0          0          CIS    2030  3199.0   \n",
       "\n",
       "Variable                                                                                                                      Population  \\\n",
       "ind_climat ind_growth ind_mitig ind_trans_A ind_trans_S ind_trans_I ind_trans_F ind_taxexo ind_recycl ind_taxmax region year               \n",
       "0          2          1         2           2           2           1           0          0          0          CIS    2020       281.6   \n",
       "2          2          1         1           2           1           1           0          0          0          CIS    2030       280.8   \n",
       "\n",
       "Variable                                                                                                                      freight_activity  \\\n",
       "ind_climat ind_growth ind_mitig ind_trans_A ind_trans_S ind_trans_I ind_trans_F ind_taxexo ind_recycl ind_taxmax region year                     \n",
       "0          2          1         2           2           2           1           0          0          0          CIS    2020          635200.0   \n",
       "2          2          1         1           2           1           1           0          0          0          CIS    2030          861500.0   \n",
       "\n",
       "Variable                                                                                                                       fret_OT  \\\n",
       "ind_climat ind_growth ind_mitig ind_trans_A ind_trans_S ind_trans_I ind_trans_F ind_taxexo ind_recycl ind_taxmax region year             \n",
       "0          2          1         2           2           2           1           0          0          0          CIS    2020  494800.0   \n",
       "2          2          1         1           2           1           1           0          0          0          CIS    2030  643900.0   \n",
       "\n",
       "Variable                                                                                                                      fret_air  \\\n",
       "ind_climat ind_growth ind_mitig ind_trans_A ind_trans_S ind_trans_I ind_trans_F ind_taxexo ind_recycl ind_taxmax region year             \n",
       "0          2          1         2           2           2           1           0          0          0          CIS    2020   77190.0   \n",
       "2          2          1         1           2           1           1           0          0          0          CIS    2030  127500.0   \n",
       "\n",
       "Variable                                                                                                                      fret_mer  \\\n",
       "ind_climat ind_growth ind_mitig ind_trans_A ind_trans_S ind_trans_I ind_trans_F ind_taxexo ind_recycl ind_taxmax region year             \n",
       "0          2          1         2           2           2           1           0          0          0          CIS    2020   63210.0   \n",
       "2          2          1         1           2           1           1           0          0          0          CIS    2030   90070.0   \n",
       "\n",
       "Variable                                                                                                                      passenger_activity  \\\n",
       "ind_climat ind_growth ind_mitig ind_trans_A ind_trans_S ind_trans_I ind_trans_F ind_taxexo ind_recycl ind_taxmax region year                       \n",
       "0          2          1         2           2           2           1           0          0          0          CIS    2020              2314.0   \n",
       "2          2          1         1           2           1           1           0          0          0          CIS    2030              2591.0   \n",
       "\n",
       "Variable                                                                                                                      pkm_OT  \\\n",
       "ind_climat ind_growth ind_mitig ind_trans_A ind_trans_S ind_trans_I ind_trans_F ind_taxexo ind_recycl ind_taxmax region year           \n",
       "0          2          1         2           2           2           1           0          0          0          CIS    2020   550.8   \n",
       "2          2          1         1           2           1           1           0          0          0          CIS    2030   651.0   \n",
       "\n",
       "Variable                                                                                                                      pkm_air  \\\n",
       "ind_climat ind_growth ind_mitig ind_trans_A ind_trans_S ind_trans_I ind_trans_F ind_taxexo ind_recycl ind_taxmax region year            \n",
       "0          2          1         2           2           2           1           0          0          0          CIS    2020    67.42   \n",
       "2          2          1         1           2           1           1           0          0          0          CIS    2030   116.00   \n",
       "\n",
       "Variable                                                                                                                      pkm_auto  \n",
       "ind_climat ind_growth ind_mitig ind_trans_A ind_trans_S ind_trans_I ind_trans_F ind_taxexo ind_recycl ind_taxmax region year            \n",
       "0          2          1         2           2           2           1           0          0          0          CIS    2020    1497.0  \n",
       "2          2          1         1           2           1           1           0          0          0          CIS    2030    1663.0  "
      ]
     },
     "execution_count": 15,
     "metadata": {},
     "output_type": "execute_result"
    }
   ],
   "source": [
    "out.sample(2)"
   ]
  },
  {
   "cell_type": "code",
   "execution_count": 16,
   "metadata": {},
   "outputs": [],
   "source": [
    "out = out.reset_index()\n",
    "d = 0.06\n",
    "out[\"discount_factor\"] = (1+d)**(1-(out.year.astype(int)-2014))"
   ]
  },
  {
   "cell_type": "code",
   "execution_count": 17,
   "metadata": {},
   "outputs": [],
   "source": [
    "out[\"discounted_pib\"] = out.PIB*out.discount_factor"
   ]
  },
  {
   "cell_type": "code",
   "execution_count": 18,
   "metadata": {},
   "outputs": [
    {
     "data": {
      "text/plain": [
       "Index(['ind_climat', 'ind_growth', 'ind_mitig', 'ind_trans_A', 'ind_trans_S',\n",
       "       'ind_trans_I', 'ind_trans_F', 'ind_taxexo', 'ind_recycl', 'ind_taxmax',\n",
       "       'region', 'year', 'CO2_em_tot', 'CO2_em_trans', 'PIB', 'Population',\n",
       "       'freight_activity', 'fret_OT', 'fret_air', 'fret_mer',\n",
       "       'passenger_activity', 'pkm_OT', 'pkm_air', 'pkm_auto',\n",
       "       'discount_factor', 'discounted_pib'],\n",
       "      dtype='object', name='Variable')"
      ]
     },
     "execution_count": 18,
     "metadata": {},
     "output_type": "execute_result"
    }
   ],
   "source": [
    "out.columns"
   ]
  },
  {
   "cell_type": "code",
   "execution_count": 19,
   "metadata": {},
   "outputs": [],
   "source": [
    "pib_summed_over_time = out.set_index([x for x in indexes_ima2 if x not in [\"Variable\"]]).discounted_pib.sum(level=[x for x in indexes_ima2 if x not in [\"Variable\",\"year\"]])"
   ]
  },
  {
   "cell_type": "code",
   "execution_count": 20,
   "metadata": {},
   "outputs": [],
   "source": [
    "to_merge = out.reset_index().set_index([x for x in indexes_ima2 if x not in [\"Variable\"]])[\"PIB\"]"
   ]
  },
  {
   "cell_type": "markdown",
   "metadata": {},
   "source": [
    "# Now I look at a different dataset that contains investment needs"
   ]
  },
  {
   "cell_type": "code",
   "execution_count": 21,
   "metadata": {},
   "outputs": [],
   "source": [
    "indexes_inv = ['combi', 'ind_climat', 'ind_growth', 'ind_mitig', 'ind_trans_A',\n",
    "       'ind_trans_S', 'ind_trans_I', 'ind_trans_F', 'modal_scenario',\n",
    "        'ur_ideal', 'urt_ideal','delay','costs_evolution_road', 'costs_evolution_rail']"
   ]
  },
  {
   "cell_type": "markdown",
   "metadata": {},
   "source": [
    "## dataset for summing all dev regions and calculating cost as % of GDP for all regions together"
   ]
  },
  {
   "cell_type": "markdown",
   "metadata": {},
   "source": [
    "### all scenarios"
   ]
  },
  {
   "cell_type": "code",
   "execution_count": 22,
   "metadata": {},
   "outputs": [
    {
     "ename": "KeyboardInterrupt",
     "evalue": "",
     "output_type": "error",
     "traceback": [
      "\u001b[1;31m---------------------------------------------------------------------------\u001b[0m",
      "\u001b[1;31mKeyboardInterrupt\u001b[0m                         Traceback (most recent call last)",
      "\u001b[1;32m<ipython-input-22-213cfd9c4254>\u001b[0m in \u001b[0;36m<module>\u001b[1;34m()\u001b[0m\n\u001b[0;32m     22\u001b[0m        'ind_trans_S', 'ind_trans_I', 'ind_trans_F','region', 'year'],how=\"left\")\n\u001b[0;32m     23\u001b[0m \u001b[1;33m\u001b[0m\u001b[0m\n\u001b[1;32m---> 24\u001b[1;33m         \u001b[0mglobal_file\u001b[0m \u001b[1;33m=\u001b[0m \u001b[0mmyfile\u001b[0m\u001b[1;33m.\u001b[0m\u001b[0mset_index\u001b[0m\u001b[1;33m(\u001b[0m\u001b[0mindexes_inv\u001b[0m\u001b[1;33m+\u001b[0m\u001b[1;33m[\u001b[0m\u001b[1;34m\"costtype\"\u001b[0m\u001b[1;33m,\u001b[0m\u001b[1;34m\"transpmode\"\u001b[0m\u001b[1;33m,\u001b[0m\u001b[1;34m\"region\"\u001b[0m\u001b[1;33m,\u001b[0m\u001b[1;34m\"year\"\u001b[0m\u001b[1;33m]\u001b[0m\u001b[1;33m)\u001b[0m\u001b[1;33m[\u001b[0m\u001b[1;33m[\u001b[0m\u001b[1;34m\"PIB\"\u001b[0m\u001b[1;33m,\u001b[0m\u001b[1;34m\"value\"\u001b[0m\u001b[1;33m]\u001b[0m\u001b[1;33m]\u001b[0m\u001b[1;33m\u001b[0m\u001b[0m\n\u001b[0m\u001b[0;32m     25\u001b[0m \u001b[1;33m\u001b[0m\u001b[0m\n\u001b[0;32m     26\u001b[0m         \u001b[0mall_data_global\u001b[0m \u001b[1;33m=\u001b[0m \u001b[0mall_data_global\u001b[0m\u001b[1;33m.\u001b[0m\u001b[0mappend\u001b[0m\u001b[1;33m(\u001b[0m\u001b[0mglobal_file\u001b[0m\u001b[1;33m)\u001b[0m\u001b[1;33m\u001b[0m\u001b[0m\n",
      "\u001b[1;32mC:\\ProgramData\\Anaconda3\\envs\\Julie1\\lib\\site-packages\\pandas\\core\\frame.py\u001b[0m in \u001b[0;36mset_index\u001b[1;34m(self, keys, drop, append, inplace, verify_integrity)\u001b[0m\n\u001b[0;32m   3921\u001b[0m \u001b[1;33m\u001b[0m\u001b[0m\n\u001b[0;32m   3922\u001b[0m         \u001b[1;32mfor\u001b[0m \u001b[0mc\u001b[0m \u001b[1;32min\u001b[0m \u001b[0mto_remove\u001b[0m\u001b[1;33m:\u001b[0m\u001b[1;33m\u001b[0m\u001b[0m\n\u001b[1;32m-> 3923\u001b[1;33m             \u001b[1;32mdel\u001b[0m \u001b[0mframe\u001b[0m\u001b[1;33m[\u001b[0m\u001b[0mc\u001b[0m\u001b[1;33m]\u001b[0m\u001b[1;33m\u001b[0m\u001b[0m\n\u001b[0m\u001b[0;32m   3924\u001b[0m \u001b[1;33m\u001b[0m\u001b[0m\n\u001b[0;32m   3925\u001b[0m         \u001b[1;31m# clear up memory usage\u001b[0m\u001b[1;33m\u001b[0m\u001b[1;33m\u001b[0m\u001b[0m\n",
      "\u001b[1;32mC:\\ProgramData\\Anaconda3\\envs\\Julie1\\lib\\site-packages\\pandas\\core\\generic.py\u001b[0m in \u001b[0;36m__delitem__\u001b[1;34m(self, key)\u001b[0m\n\u001b[0;32m   2741\u001b[0m             \u001b[1;31m# there was no match, this call should raise the appropriate\u001b[0m\u001b[1;33m\u001b[0m\u001b[1;33m\u001b[0m\u001b[0m\n\u001b[0;32m   2742\u001b[0m             \u001b[1;31m# exception:\u001b[0m\u001b[1;33m\u001b[0m\u001b[1;33m\u001b[0m\u001b[0m\n\u001b[1;32m-> 2743\u001b[1;33m             \u001b[0mself\u001b[0m\u001b[1;33m.\u001b[0m\u001b[0m_data\u001b[0m\u001b[1;33m.\u001b[0m\u001b[0mdelete\u001b[0m\u001b[1;33m(\u001b[0m\u001b[0mkey\u001b[0m\u001b[1;33m)\u001b[0m\u001b[1;33m\u001b[0m\u001b[0m\n\u001b[0m\u001b[0;32m   2744\u001b[0m \u001b[1;33m\u001b[0m\u001b[0m\n\u001b[0;32m   2745\u001b[0m         \u001b[1;31m# delete from the caches\u001b[0m\u001b[1;33m\u001b[0m\u001b[1;33m\u001b[0m\u001b[0m\n",
      "\u001b[1;32mC:\\ProgramData\\Anaconda3\\envs\\Julie1\\lib\\site-packages\\pandas\\core\\internals.py\u001b[0m in \u001b[0;36mdelete\u001b[1;34m(self, item)\u001b[0m\n\u001b[0;32m   4194\u001b[0m                 \u001b[1;32mcontinue\u001b[0m\u001b[1;33m\u001b[0m\u001b[0m\n\u001b[0;32m   4195\u001b[0m             \u001b[1;32melif\u001b[0m \u001b[0mlen\u001b[0m\u001b[1;33m(\u001b[0m\u001b[0mblk_del\u001b[0m\u001b[1;33m)\u001b[0m \u001b[1;33m!=\u001b[0m \u001b[1;36m0\u001b[0m\u001b[1;33m:\u001b[0m\u001b[1;33m\u001b[0m\u001b[0m\n\u001b[1;32m-> 4196\u001b[1;33m                 \u001b[0mblk\u001b[0m\u001b[1;33m.\u001b[0m\u001b[0mdelete\u001b[0m\u001b[1;33m(\u001b[0m\u001b[0mblk_del\u001b[0m\u001b[1;33m)\u001b[0m\u001b[1;33m\u001b[0m\u001b[0m\n\u001b[0m\u001b[0;32m   4197\u001b[0m                 \u001b[0mbml\u001b[0m \u001b[1;33m=\u001b[0m \u001b[0mblk\u001b[0m\u001b[1;33m.\u001b[0m\u001b[0mmgr_locs\u001b[0m\u001b[1;33m\u001b[0m\u001b[0m\n\u001b[0;32m   4198\u001b[0m \u001b[1;33m\u001b[0m\u001b[0m\n",
      "\u001b[1;32mC:\\ProgramData\\Anaconda3\\envs\\Julie1\\lib\\site-packages\\pandas\\core\\internals.py\u001b[0m in \u001b[0;36mdelete\u001b[1;34m(self, loc)\u001b[0m\n\u001b[0;32m    388\u001b[0m         \"\"\"\n\u001b[0;32m    389\u001b[0m         \u001b[0mself\u001b[0m\u001b[1;33m.\u001b[0m\u001b[0mvalues\u001b[0m \u001b[1;33m=\u001b[0m \u001b[0mnp\u001b[0m\u001b[1;33m.\u001b[0m\u001b[0mdelete\u001b[0m\u001b[1;33m(\u001b[0m\u001b[0mself\u001b[0m\u001b[1;33m.\u001b[0m\u001b[0mvalues\u001b[0m\u001b[1;33m,\u001b[0m \u001b[0mloc\u001b[0m\u001b[1;33m,\u001b[0m \u001b[1;36m0\u001b[0m\u001b[1;33m)\u001b[0m\u001b[1;33m\u001b[0m\u001b[0m\n\u001b[1;32m--> 390\u001b[1;33m         \u001b[0mself\u001b[0m\u001b[1;33m.\u001b[0m\u001b[0mmgr_locs\u001b[0m \u001b[1;33m=\u001b[0m \u001b[0mself\u001b[0m\u001b[1;33m.\u001b[0m\u001b[0mmgr_locs\u001b[0m\u001b[1;33m.\u001b[0m\u001b[0mdelete\u001b[0m\u001b[1;33m(\u001b[0m\u001b[0mloc\u001b[0m\u001b[1;33m)\u001b[0m\u001b[1;33m\u001b[0m\u001b[0m\n\u001b[0m\u001b[0;32m    391\u001b[0m \u001b[1;33m\u001b[0m\u001b[0m\n\u001b[0;32m    392\u001b[0m     \u001b[1;32mdef\u001b[0m \u001b[0mapply\u001b[0m\u001b[1;33m(\u001b[0m\u001b[0mself\u001b[0m\u001b[1;33m,\u001b[0m \u001b[0mfunc\u001b[0m\u001b[1;33m,\u001b[0m \u001b[0mmgr\u001b[0m\u001b[1;33m=\u001b[0m\u001b[1;32mNone\u001b[0m\u001b[1;33m,\u001b[0m \u001b[1;33m**\u001b[0m\u001b[0mkwargs\u001b[0m\u001b[1;33m)\u001b[0m\u001b[1;33m:\u001b[0m\u001b[1;33m\u001b[0m\u001b[0m\n",
      "\u001b[1;32mC:\\ProgramData\\Anaconda3\\envs\\Julie1\\lib\\site-packages\\pandas\\core\\internals.py\u001b[0m in \u001b[0;36mmgr_locs\u001b[1;34m(self)\u001b[0m\n\u001b[0;32m    231\u001b[0m         \u001b[1;32mreturn\u001b[0m \u001b[0mnp\u001b[0m\u001b[1;33m.\u001b[0m\u001b[0mnan\u001b[0m\u001b[1;33m\u001b[0m\u001b[0m\n\u001b[0;32m    232\u001b[0m \u001b[1;33m\u001b[0m\u001b[0m\n\u001b[1;32m--> 233\u001b[1;33m     \u001b[1;33m@\u001b[0m\u001b[0mproperty\u001b[0m\u001b[1;33m\u001b[0m\u001b[0m\n\u001b[0m\u001b[0;32m    234\u001b[0m     \u001b[1;32mdef\u001b[0m \u001b[0mmgr_locs\u001b[0m\u001b[1;33m(\u001b[0m\u001b[0mself\u001b[0m\u001b[1;33m)\u001b[0m\u001b[1;33m:\u001b[0m\u001b[1;33m\u001b[0m\u001b[0m\n\u001b[0;32m    235\u001b[0m         \u001b[1;32mreturn\u001b[0m \u001b[0mself\u001b[0m\u001b[1;33m.\u001b[0m\u001b[0m_mgr_locs\u001b[0m\u001b[1;33m\u001b[0m\u001b[0m\n",
      "\u001b[1;31mKeyboardInterrupt\u001b[0m: "
     ]
    }
   ],
   "source": [
    "all_data_global = pd.DataFrame()\n",
    "\n",
    "for reg in os.listdir(invfolder):\n",
    "    if reg==\"OCDE\":\n",
    "        continue\n",
    "    for myfilename in os.listdir(invfolder+reg):\n",
    "        myfile = pd.read_csv(invfolder+reg+\"\\\\\"+myfilename,sep=\";\")\n",
    "        myfile = myfile.set_index(indexes_inv)\n",
    "        myfile.columns.name='year'\n",
    "        myfile = myfile.stack()\n",
    "        myfile.name = 'value'\n",
    "        myfile = myfile.reset_index()\n",
    "        myfile[\"year\"] = myfile.year.astype(\"int64\")\n",
    "        myfile = myfile.loc[myfile.year<2031,:]\n",
    "                \n",
    "        myinfo = myfilename.replace(\".csv\",'').split(\"_\")\n",
    "        myfile[\"costtype\"] = myinfo[1]\n",
    "        myfile[\"transpmode\"] = myinfo[2]\n",
    "        myfile[\"region\"] = reg\n",
    "        \n",
    "        myfile = myfile.merge(to_merge.reset_index(),on=['ind_climat', 'ind_growth', 'ind_mitig', 'ind_trans_A',\n",
    "       'ind_trans_S', 'ind_trans_I', 'ind_trans_F','region', 'year'],how=\"left\")\n",
    "        \n",
    "        global_file = myfile.set_index(indexes_inv+[\"costtype\",\"transpmode\",\"region\",\"year\"])[[\"PIB\",\"value\"]]\n",
    "        \n",
    "        all_data_global = all_data_global.append(global_file)"
   ]
  },
  {
   "cell_type": "code",
   "execution_count": null,
   "metadata": {},
   "outputs": [],
   "source": [
    "all_data_global2 = all_data_global.sum(level = indexes_inv+[\"costtype\",\"transpmode\",\"year\"])\n",
    "all_data_global2[\"divided_by_gdp\"] = all_data_global2.value/all_data_global2.PIB\n",
    "all_data_global2 = all_data_global2[\"divided_by_gdp\"].mean(level=indexes_inv+[\"costtype\",\"transpmode\"])"
   ]
  },
  {
   "cell_type": "code",
   "execution_count": 37,
   "metadata": {
    "collapsed": true
   },
   "outputs": [],
   "source": [
    "all_data_global2.to_frame().to_csv(\"C:\\\\Users\\\\WB451855\\\\OneDrive - WBG\\\\!infra_needs_data\\\\transport_cired_output_data\\\\\"+\"summarize_global_costs.csv\")"
   ]
  },
  {
   "cell_type": "code",
   "execution_count": 23,
   "metadata": {},
   "outputs": [],
   "source": [
    "all_data_global3 = pd.read_csv(\"C:\\\\Users\\\\WB451855\\\\OneDrive - WBG\\\\!infra_needs_data\\\\transport_cired_output_data\\\\\"+\"summarize_global_costs.csv\")"
   ]
  },
  {
   "cell_type": "code",
   "execution_count": 24,
   "metadata": {},
   "outputs": [
    {
     "data": {
      "text/html": [
       "<div>\n",
       "<style scoped>\n",
       "    .dataframe tbody tr th:only-of-type {\n",
       "        vertical-align: middle;\n",
       "    }\n",
       "\n",
       "    .dataframe tbody tr th {\n",
       "        vertical-align: top;\n",
       "    }\n",
       "\n",
       "    .dataframe thead th {\n",
       "        text-align: right;\n",
       "    }\n",
       "</style>\n",
       "<table border=\"1\" class=\"dataframe\">\n",
       "  <thead>\n",
       "    <tr style=\"text-align: right;\">\n",
       "      <th></th>\n",
       "      <th>combi</th>\n",
       "      <th>ind_climat</th>\n",
       "      <th>ind_growth</th>\n",
       "      <th>ind_mitig</th>\n",
       "      <th>ind_trans_A</th>\n",
       "      <th>ind_trans_S</th>\n",
       "      <th>ind_trans_I</th>\n",
       "      <th>ind_trans_F</th>\n",
       "      <th>modal_scenario</th>\n",
       "      <th>ur_ideal</th>\n",
       "      <th>urt_ideal</th>\n",
       "      <th>delay</th>\n",
       "      <th>costs_evolution_road</th>\n",
       "      <th>costs_evolution_rail</th>\n",
       "      <th>costtype</th>\n",
       "      <th>transpmode</th>\n",
       "      <th>divided_by_gdp</th>\n",
       "    </tr>\n",
       "  </thead>\n",
       "  <tbody>\n",
       "    <tr>\n",
       "      <th>508836</th>\n",
       "      <td>332</td>\n",
       "      <td>4</td>\n",
       "      <td>2</td>\n",
       "      <td>1</td>\n",
       "      <td>2</td>\n",
       "      <td>1</td>\n",
       "      <td>2</td>\n",
       "      <td>2</td>\n",
       "      <td>1</td>\n",
       "      <td>300</td>\n",
       "      <td>5000</td>\n",
       "      <td>65</td>\n",
       "      <td>2</td>\n",
       "      <td>0</td>\n",
       "      <td>new</td>\n",
       "      <td>brt</td>\n",
       "      <td>0.000411</td>\n",
       "    </tr>\n",
       "    <tr>\n",
       "      <th>553572</th>\n",
       "      <td>353</td>\n",
       "      <td>4</td>\n",
       "      <td>3</td>\n",
       "      <td>1</td>\n",
       "      <td>1</td>\n",
       "      <td>1</td>\n",
       "      <td>1</td>\n",
       "      <td>1</td>\n",
       "      <td>0</td>\n",
       "      <td>600</td>\n",
       "      <td>30000</td>\n",
       "      <td>35</td>\n",
       "      <td>2</td>\n",
       "      <td>1</td>\n",
       "      <td>maint</td>\n",
       "      <td>hsr</td>\n",
       "      <td>0.000231</td>\n",
       "    </tr>\n",
       "    <tr>\n",
       "      <th>165137</th>\n",
       "      <td>77</td>\n",
       "      <td>0</td>\n",
       "      <td>3</td>\n",
       "      <td>1</td>\n",
       "      <td>2</td>\n",
       "      <td>2</td>\n",
       "      <td>1</td>\n",
       "      <td>1</td>\n",
       "      <td>0</td>\n",
       "      <td>900</td>\n",
       "      <td>30000</td>\n",
       "      <td>35</td>\n",
       "      <td>2</td>\n",
       "      <td>1</td>\n",
       "      <td>new</td>\n",
       "      <td>hsr</td>\n",
       "      <td>0.002209</td>\n",
       "    </tr>\n",
       "  </tbody>\n",
       "</table>\n",
       "</div>"
      ],
      "text/plain": [
       "        combi  ind_climat  ind_growth  ind_mitig  ind_trans_A  ind_trans_S  \\\n",
       "508836    332           4           2          1            2            1   \n",
       "553572    353           4           3          1            1            1   \n",
       "165137     77           0           3          1            2            2   \n",
       "\n",
       "        ind_trans_I  ind_trans_F  modal_scenario  ur_ideal  urt_ideal  delay  \\\n",
       "508836            2            2               1       300       5000     65   \n",
       "553572            1            1               0       600      30000     35   \n",
       "165137            1            1               0       900      30000     35   \n",
       "\n",
       "        costs_evolution_road  costs_evolution_rail costtype transpmode  \\\n",
       "508836                     2                     0      new        brt   \n",
       "553572                     2                     1    maint        hsr   \n",
       "165137                     2                     1      new        hsr   \n",
       "\n",
       "        divided_by_gdp  \n",
       "508836        0.000411  \n",
       "553572        0.000231  \n",
       "165137        0.002209  "
      ]
     },
     "execution_count": 24,
     "metadata": {},
     "output_type": "execute_result"
    }
   ],
   "source": [
    "all_data_global3.sample(3)"
   ]
  },
  {
   "cell_type": "code",
   "execution_count": 25,
   "metadata": {},
   "outputs": [],
   "source": [
    "all_data_global3 = all_data_global3.loc[all_data_global3.ur_ideal>300,:]"
   ]
  },
  {
   "cell_type": "code",
   "execution_count": 26,
   "metadata": {},
   "outputs": [],
   "source": [
    "all_data_global = all_data_global3.set_index(indexes_inv+[\"costtype\",\"transpmode\"])"
   ]
  },
  {
   "cell_type": "code",
   "execution_count": 27,
   "metadata": {},
   "outputs": [],
   "source": [
    "all_data_global = all_data_global.stack().unstack(\"transpmode\")\n",
    "all_data_global[\"rail+high speed rail\"] = all_data_global[\"rail\"]+all_data_global['hsr']\n",
    "all_data_global[\"allmodes\"] = all_data_global[\"rail\"]+all_data_global['hsr']+all_data_global[\"air\"]+all_data_global['brt']+all_data_global['road']\n"
   ]
  },
  {
   "cell_type": "markdown",
   "metadata": {},
   "source": [
    "### cost in % GDP for all developing countries for new capital"
   ]
  },
  {
   "cell_type": "code",
   "execution_count": 28,
   "metadata": {},
   "outputs": [
    {
     "data": {
      "text/plain": [
       "array([0, 2, 4], dtype=int64)"
      ]
     },
     "execution_count": 28,
     "metadata": {},
     "output_type": "execute_result"
    }
   ],
   "source": [
    "all_data_global.reset_index(\"ind_climat\").ind_climat.unique()"
   ]
  },
  {
   "cell_type": "code",
   "execution_count": 29,
   "metadata": {},
   "outputs": [
    {
     "data": {
      "text/plain": [
       "array([ 5000, 30000], dtype=int64)"
      ]
     },
     "execution_count": 29,
     "metadata": {},
     "output_type": "execute_result"
    }
   ],
   "source": [
    "all_data_global.reset_index(\"urt_ideal\").urt_ideal.unique()"
   ]
  },
  {
   "cell_type": "code",
   "execution_count": 30,
   "metadata": {},
   "outputs": [
    {
     "data": {
      "text/plain": [
       "array([0, 1], dtype=int64)"
      ]
     },
     "execution_count": 30,
     "metadata": {},
     "output_type": "execute_result"
    }
   ],
   "source": [
    "all_data_global.reset_index(\"modal_scenario\").modal_scenario.unique()"
   ]
  },
  {
   "cell_type": "markdown",
   "metadata": {},
   "source": [
    "1=shift to rail"
   ]
  },
  {
   "cell_type": "code",
   "execution_count": 31,
   "metadata": {},
   "outputs": [
    {
     "data": {
      "text/plain": [
       "array([1, 2], dtype=int64)"
      ]
     },
     "execution_count": 31,
     "metadata": {},
     "output_type": "execute_result"
    }
   ],
   "source": [
    "all_data_global.reset_index(\"ind_mitig\").ind_mitig.unique()"
   ]
  },
  {
   "cell_type": "code",
   "execution_count": 32,
   "metadata": {},
   "outputs": [
    {
     "data": {
      "text/plain": [
       "count    4.147200e+06\n",
       "mean     1.510753e+00\n",
       "std      5.231689e-01\n",
       "min      5.319469e-01\n",
       "5%       8.333555e-01\n",
       "25%      1.093381e+00\n",
       "50%      1.390742e+00\n",
       "75%      1.891151e+00\n",
       "95%      2.485996e+00\n",
       "max      3.312571e+00\n",
       "Name: allmodes, dtype: float64"
      ]
     },
     "execution_count": 32,
     "metadata": {},
     "output_type": "execute_result"
    }
   ],
   "source": [
    "100*all_data_global.allmodes.drop(\"maint\",level=\"costtype\").describe(percentiles=[0.05,.25, .5, .75,0.95])"
   ]
  },
  {
   "cell_type": "code",
   "execution_count": 33,
   "metadata": {},
   "outputs": [
    {
     "data": {
      "text/plain": [
       "count    2.764800e+06\n",
       "mean     1.520539e+00\n",
       "std      5.397659e-01\n",
       "min      5.319469e-01\n",
       "5%       8.083811e-01\n",
       "25%      1.090250e+00\n",
       "50%      1.401211e+00\n",
       "75%      1.923894e+00\n",
       "95%      2.514399e+00\n",
       "max      3.312571e+00\n",
       "Name: allmodes, dtype: float64"
      ]
     },
     "execution_count": 33,
     "metadata": {},
     "output_type": "execute_result"
    }
   ],
   "source": [
    "100*all_data_global.allmodes.drop(0,level=\"ind_climat\").drop(\"maint\",level=\"costtype\").describe(percentiles=[0.05,.25, .5, .75,0.95])"
   ]
  },
  {
   "cell_type": "code",
   "execution_count": 34,
   "metadata": {},
   "outputs": [
    {
     "data": {
      "text/plain": [
       "count    345600.000000\n",
       "mean          2.166617\n",
       "std           0.290289\n",
       "min           1.496236\n",
       "5%            1.728952\n",
       "25%           1.955375\n",
       "50%           2.141807\n",
       "75%           2.360283\n",
       "95%           2.671339\n",
       "max           3.092745\n",
       "Name: allmodes, dtype: float64"
      ]
     },
     "execution_count": 34,
     "metadata": {},
     "output_type": "execute_result"
    }
   ],
   "source": [
    "100*all_data_global.allmodes.drop(0,level=\"modal_scenario\").drop(30000,level=\"urt_ideal\").drop([0,2],level=\"ind_climat\").drop(\"maint\",level=\"costtype\").describe(percentiles=[0.05,.25, .5, .75,0.95])"
   ]
  },
  {
   "cell_type": "code",
   "execution_count": 35,
   "metadata": {},
   "outputs": [
    {
     "data": {
      "text/plain": [
       "count    691200.000000\n",
       "mean          2.245716\n",
       "std           0.318058\n",
       "min           1.497465\n",
       "5%            1.765211\n",
       "25%           2.009562\n",
       "50%           2.221247\n",
       "75%           2.454719\n",
       "95%           2.812467\n",
       "max           3.312571\n",
       "Name: allmodes, dtype: float64"
      ]
     },
     "execution_count": 35,
     "metadata": {},
     "output_type": "execute_result"
    }
   ],
   "source": [
    "100*all_data_global.allmodes.drop(0,level=\"modal_scenario\").drop(30000,level=\"urt_ideal\").drop([4],level=\"ind_climat\").drop(\"maint\",level=\"costtype\").describe(percentiles=[0.05,.25, .5, .75,0.95])"
   ]
  },
  {
   "cell_type": "code",
   "execution_count": 36,
   "metadata": {},
   "outputs": [
    {
     "data": {
      "text/html": [
       "<div>\n",
       "<style scoped>\n",
       "    .dataframe tbody tr th:only-of-type {\n",
       "        vertical-align: middle;\n",
       "    }\n",
       "\n",
       "    .dataframe tbody tr th {\n",
       "        vertical-align: top;\n",
       "    }\n",
       "\n",
       "    .dataframe thead th {\n",
       "        text-align: right;\n",
       "    }\n",
       "</style>\n",
       "<table border=\"1\" class=\"dataframe\">\n",
       "  <thead>\n",
       "    <tr style=\"text-align: right;\">\n",
       "      <th></th>\n",
       "      <th></th>\n",
       "      <th></th>\n",
       "      <th></th>\n",
       "      <th></th>\n",
       "      <th></th>\n",
       "      <th></th>\n",
       "      <th></th>\n",
       "      <th></th>\n",
       "      <th></th>\n",
       "      <th></th>\n",
       "      <th></th>\n",
       "      <th></th>\n",
       "      <th></th>\n",
       "      <th>ind_climat</th>\n",
       "      <th>0</th>\n",
       "      <th>4</th>\n",
       "    </tr>\n",
       "    <tr>\n",
       "      <th>combi</th>\n",
       "      <th>ind_growth</th>\n",
       "      <th>ind_mitig</th>\n",
       "      <th>ind_trans_A</th>\n",
       "      <th>ind_trans_S</th>\n",
       "      <th>ind_trans_I</th>\n",
       "      <th>ind_trans_F</th>\n",
       "      <th>modal_scenario</th>\n",
       "      <th>ur_ideal</th>\n",
       "      <th>urt_ideal</th>\n",
       "      <th>delay</th>\n",
       "      <th>costs_evolution_road</th>\n",
       "      <th>costs_evolution_rail</th>\n",
       "      <th>costtype</th>\n",
       "      <th></th>\n",
       "      <th></th>\n",
       "      <th></th>\n",
       "    </tr>\n",
       "  </thead>\n",
       "  <tbody>\n",
       "  </tbody>\n",
       "</table>\n",
       "</div>"
      ],
      "text/plain": [
       "Empty DataFrame\n",
       "Columns: [0, 4]\n",
       "Index: []"
      ]
     },
     "execution_count": 36,
     "metadata": {},
     "output_type": "execute_result"
    }
   ],
   "source": [
    "all_data_global.allmodes.drop(0,level=\"modal_scenario\").drop(\"maint\",level=\"costtype\").drop([2],level=\"ind_climat\").unstack(\"ind_climat\").dropna()"
   ]
  },
  {
   "cell_type": "markdown",
   "metadata": {},
   "source": [
    "### cost in % GDP for all developing countries for maintenance"
   ]
  },
  {
   "cell_type": "code",
   "execution_count": 37,
   "metadata": {},
   "outputs": [
    {
     "data": {
      "text/plain": [
       "count    4.147200e+06\n",
       "mean     1.486771e+00\n",
       "std      2.118261e-01\n",
       "min      1.060687e+00\n",
       "5%       1.161807e+00\n",
       "25%      1.314803e+00\n",
       "50%      1.473272e+00\n",
       "75%      1.659537e+00\n",
       "95%      1.827147e+00\n",
       "max      2.082881e+00\n",
       "Name: allmodes, dtype: float64"
      ]
     },
     "execution_count": 37,
     "metadata": {},
     "output_type": "execute_result"
    }
   ],
   "source": [
    "100*all_data_global.allmodes.drop(\"new\",level=\"costtype\").describe(percentiles=[0.05,.25, .5, .75,0.95])"
   ]
  },
  {
   "cell_type": "markdown",
   "metadata": {},
   "source": [
    "## dataset for exploring by region"
   ]
  },
  {
   "cell_type": "code",
   "execution_count": 216,
   "metadata": {
    "collapsed": true
   },
   "outputs": [],
   "source": [
    "all_data = pd.DataFrame()\n",
    "for reg in os.listdir(invfolder):\n",
    "    for myfilename in os.listdir(invfolder+reg):\n",
    "        myfile = pd.read_csv(invfolder+reg+\"\\\\\"+myfilename,sep=\";\")\n",
    "        myfile = myfile.set_index(indexes_inv)\n",
    "        myfile.columns.name='year'\n",
    "        myfile = myfile.drop(['2031','2032','2033','2034','2035','2036','2037','2038',\n",
    "       '2039', '2040' , '2041', '2042', '2043', '2044', '2045', '2046', '2047', '2048',\n",
    "       '2049','2050', '2051', '2052', '2053', '2054', '2055', '2056', '2057', '2058',\n",
    "       '2059', '2060', '2061', '2062', '2063', '2064', '2065', '2066', '2067',\n",
    "       '2068', '2069', '2070', '2071', '2072', '2073', '2074', '2075', '2076',\n",
    "       '2077', '2078', '2079', '2080'],axis=1)\n",
    "        myfile = myfile.stack('year')\n",
    "        myfile.name = 'value'\n",
    "        myfile = myfile.reset_index()\n",
    "        myfile[\"discount_factor\"] = (1+d)**(1-(myfile.year.astype(int)-2014))\n",
    "        myfile['disc_value'] =  myfile['value']*myfile[\"discount_factor\"]\n",
    "        \n",
    "        myinfo = myfilename.replace(\".csv\",'').split(\"_\")\n",
    "        myfile[\"costtype\"] = myinfo[1]\n",
    "        myfile[\"transpmode\"] = myinfo[2]\n",
    "        myfile[\"region\"] = reg\n",
    "        \n",
    "        myfile = myfile.merge(to_merge.reset_index(),on=['ind_climat', 'ind_growth', 'ind_mitig', 'ind_trans_A',\n",
    "       'ind_trans_S', 'ind_trans_I', 'ind_trans_F','region', 'year'],how=\"left\")\n",
    "        \n",
    "        myfile[\"divided_by_gdp\"] = myfile.value/myfile.PIB\n",
    "        myfile[\"discounted_gdp\"] = myfile.PIB*myfile[\"discount_factor\"]\n",
    "        \n",
    "        out = myfile.drop([\"year\",\"discount_factor\"],axis=1).set_index(indexes_inv+[\"costtype\",\"transpmode\",\"region\"])[[\"divided_by_gdp\",\"value\"]].mean(level=indexes_inv+[\"costtype\",\"transpmode\",\"region\"])\n",
    "        out[\"disc_value\"] = myfile.drop([\"year\",\"discount_factor\"],axis=1).set_index(indexes_inv+[\"costtype\",\"transpmode\",\"region\"])[[\"disc_value\"]].sum(level=indexes_inv+[\"costtype\",\"transpmode\",\"region\"])\n",
    "        out[\"discounted_gdp\"] = myfile.drop([\"year\",\"discount_factor\"],axis=1).set_index(indexes_inv+[\"costtype\",\"transpmode\",\"region\"])[[\"discounted_gdp\"]].sum(level=indexes_inv+[\"costtype\",\"transpmode\",\"region\"])\n",
    "        \n",
    "        all_data = all_data.append(out)"
   ]
  },
  {
   "cell_type": "code",
   "execution_count": 217,
   "metadata": {
    "collapsed": true
   },
   "outputs": [],
   "source": [
    "all_data.to_csv(\"C:\\\\Users\\\\WB451855\\\\OneDrive - WBG\\\\!infra_needs_data\\\\transport_cired_output_data\\\\\"+\"summarize_costs.csv\")"
   ]
  },
  {
   "cell_type": "code",
   "execution_count": 59,
   "metadata": {},
   "outputs": [],
   "source": [
    "all_data = pd.read_csv(\"C:\\\\Users\\\\WB451855\\\\OneDrive - WBG\\\\!infra_needs_data\\\\transport_cired_output_data\\\\\"+\"summarize_costs.csv\")"
   ]
  },
  {
   "cell_type": "code",
   "execution_count": 60,
   "metadata": {},
   "outputs": [
    {
     "data": {
      "text/plain": [
       "Index(['combi', 'ind_climat', 'ind_growth', 'ind_mitig', 'ind_trans_A',\n",
       "       'ind_trans_S', 'ind_trans_I', 'ind_trans_F', 'modal_scenario',\n",
       "       'ur_ideal', 'urt_ideal', 'delay', 'costs_evolution_road',\n",
       "       'costs_evolution_rail', 'costtype', 'transpmode', 'region',\n",
       "       'divided_by_gdp', 'value', 'disc_value', 'discounted_gdp'],\n",
       "      dtype='object')"
      ]
     },
     "execution_count": 60,
     "metadata": {},
     "output_type": "execute_result"
    }
   ],
   "source": [
    "all_data.columns"
   ]
  },
  {
   "cell_type": "code",
   "execution_count": 61,
   "metadata": {},
   "outputs": [],
   "source": [
    "indexes_inv2 = [\"costtype\",\"transpmode\",\"region\"]"
   ]
  },
  {
   "cell_type": "code",
   "execution_count": 62,
   "metadata": {},
   "outputs": [
    {
     "data": {
      "text/plain": [
       "count    3.110400e+06\n",
       "mean     3.086226e-03\n",
       "std      6.557811e-03\n",
       "min      0.000000e+00\n",
       "25%      1.579677e-05\n",
       "50%      2.207328e-04\n",
       "75%      1.479827e-03\n",
       "max      5.796029e-02\n",
       "Name: divided_by_gdp, dtype: float64"
      ]
     },
     "execution_count": 62,
     "metadata": {},
     "output_type": "execute_result"
    }
   ],
   "source": [
    "all_data.divided_by_gdp.describe()"
   ]
  },
  {
   "cell_type": "code",
   "execution_count": 63,
   "metadata": {},
   "outputs": [],
   "source": [
    "all_data = all_data.loc[all_data.ur_ideal>300,:]"
   ]
  },
  {
   "cell_type": "code",
   "execution_count": 64,
   "metadata": {},
   "outputs": [],
   "source": [
    "all_data = all_data.set_index(indexes_inv+indexes_inv2)\n",
    "all_data.columns.name = \"columns\"\n",
    "all_data = all_data.stack().unstack(\"transpmode\")\n",
    "all_data[\"rail+high speed rail\"] = all_data[\"rail\"]+all_data['hsr']\n",
    "all_data[\"allmodes\"] = all_data[\"rail\"]+all_data['hsr']+all_data[\"air\"]+all_data['brt']+all_data['road']"
   ]
  },
  {
   "cell_type": "code",
   "execution_count": 65,
   "metadata": {},
   "outputs": [
    {
     "data": {
      "text/html": [
       "<div>\n",
       "<style scoped>\n",
       "    .dataframe tbody tr th:only-of-type {\n",
       "        vertical-align: middle;\n",
       "    }\n",
       "\n",
       "    .dataframe tbody tr th {\n",
       "        vertical-align: top;\n",
       "    }\n",
       "\n",
       "    .dataframe thead th {\n",
       "        text-align: right;\n",
       "    }\n",
       "</style>\n",
       "<table border=\"1\" class=\"dataframe\">\n",
       "  <thead>\n",
       "    <tr style=\"text-align: right;\">\n",
       "      <th></th>\n",
       "      <th></th>\n",
       "      <th></th>\n",
       "      <th></th>\n",
       "      <th></th>\n",
       "      <th></th>\n",
       "      <th></th>\n",
       "      <th></th>\n",
       "      <th></th>\n",
       "      <th></th>\n",
       "      <th></th>\n",
       "      <th></th>\n",
       "      <th></th>\n",
       "      <th></th>\n",
       "      <th></th>\n",
       "      <th></th>\n",
       "      <th>transpmode</th>\n",
       "      <th>air</th>\n",
       "      <th>brt</th>\n",
       "      <th>hsr</th>\n",
       "      <th>rail</th>\n",
       "      <th>road</th>\n",
       "      <th>rail+high speed rail</th>\n",
       "      <th>allmodes</th>\n",
       "    </tr>\n",
       "    <tr>\n",
       "      <th>combi</th>\n",
       "      <th>ind_climat</th>\n",
       "      <th>ind_growth</th>\n",
       "      <th>ind_mitig</th>\n",
       "      <th>ind_trans_A</th>\n",
       "      <th>ind_trans_S</th>\n",
       "      <th>ind_trans_I</th>\n",
       "      <th>ind_trans_F</th>\n",
       "      <th>modal_scenario</th>\n",
       "      <th>ur_ideal</th>\n",
       "      <th>urt_ideal</th>\n",
       "      <th>delay</th>\n",
       "      <th>costs_evolution_road</th>\n",
       "      <th>costs_evolution_rail</th>\n",
       "      <th>costtype</th>\n",
       "      <th>region</th>\n",
       "      <th>columns</th>\n",
       "      <th></th>\n",
       "      <th></th>\n",
       "      <th></th>\n",
       "      <th></th>\n",
       "      <th></th>\n",
       "      <th></th>\n",
       "      <th></th>\n",
       "    </tr>\n",
       "  </thead>\n",
       "  <tbody>\n",
       "    <tr>\n",
       "      <th>377</th>\n",
       "      <th>4</th>\n",
       "      <th>3</th>\n",
       "      <th>2</th>\n",
       "      <th>2</th>\n",
       "      <th>1</th>\n",
       "      <th>1</th>\n",
       "      <th>1</th>\n",
       "      <th>1</th>\n",
       "      <th>600</th>\n",
       "      <th>30000</th>\n",
       "      <th>35</th>\n",
       "      <th>0</th>\n",
       "      <th>0</th>\n",
       "      <th>new</th>\n",
       "      <th>OCDE</th>\n",
       "      <th>value</th>\n",
       "      <td>8.346406</td>\n",
       "      <td>0.831955</td>\n",
       "      <td>0.156892</td>\n",
       "      <td>0.000000</td>\n",
       "      <td>0.000000</td>\n",
       "      <td>0.156892</td>\n",
       "      <td>9.335253</td>\n",
       "    </tr>\n",
       "    <tr>\n",
       "      <th>49</th>\n",
       "      <th>0</th>\n",
       "      <th>2</th>\n",
       "      <th>2</th>\n",
       "      <th>1</th>\n",
       "      <th>1</th>\n",
       "      <th>1</th>\n",
       "      <th>1</th>\n",
       "      <th>0</th>\n",
       "      <th>600</th>\n",
       "      <th>5000</th>\n",
       "      <th>65</th>\n",
       "      <th>1</th>\n",
       "      <th>1</th>\n",
       "      <th>maint</th>\n",
       "      <th>LAM</th>\n",
       "      <th>divided_by_gdp</th>\n",
       "      <td>0.000161</td>\n",
       "      <td>0.000075</td>\n",
       "      <td>0.000000</td>\n",
       "      <td>0.000652</td>\n",
       "      <td>0.005609</td>\n",
       "      <td>0.000652</td>\n",
       "      <td>0.006499</td>\n",
       "    </tr>\n",
       "    <tr>\n",
       "      <th>112</th>\n",
       "      <th>2</th>\n",
       "      <th>1</th>\n",
       "      <th>1</th>\n",
       "      <th>2</th>\n",
       "      <th>2</th>\n",
       "      <th>2</th>\n",
       "      <th>2</th>\n",
       "      <th>1</th>\n",
       "      <th>600</th>\n",
       "      <th>30000</th>\n",
       "      <th>35</th>\n",
       "      <th>0</th>\n",
       "      <th>0</th>\n",
       "      <th>maint</th>\n",
       "      <th>MAF</th>\n",
       "      <th>value</th>\n",
       "      <td>0.461270</td>\n",
       "      <td>0.868922</td>\n",
       "      <td>0.000000</td>\n",
       "      <td>2.425890</td>\n",
       "      <td>56.919190</td>\n",
       "      <td>2.425890</td>\n",
       "      <td>60.675272</td>\n",
       "    </tr>\n",
       "  </tbody>\n",
       "</table>\n",
       "</div>"
      ],
      "text/plain": [
       "transpmode                                                                                                                                                                                                   air  \\\n",
       "combi ind_climat ind_growth ind_mitig ind_trans_A ind_trans_S ind_trans_I ind_trans_F modal_scenario ur_ideal urt_ideal delay costs_evolution_road costs_evolution_rail costtype region columns                    \n",
       "377   4          3          2         2           1           1           1           1              600      30000     35    0                    0                    new      OCDE   value           8.346406   \n",
       "49    0          2          2         1           1           1           1           0              600      5000      65    1                    1                    maint    LAM    divided_by_gdp  0.000161   \n",
       "112   2          1          1         2           2           2           2           1              600      30000     35    0                    0                    maint    MAF    value           0.461270   \n",
       "\n",
       "transpmode                                                                                                                                                                                                   brt  \\\n",
       "combi ind_climat ind_growth ind_mitig ind_trans_A ind_trans_S ind_trans_I ind_trans_F modal_scenario ur_ideal urt_ideal delay costs_evolution_road costs_evolution_rail costtype region columns                    \n",
       "377   4          3          2         2           1           1           1           1              600      30000     35    0                    0                    new      OCDE   value           0.831955   \n",
       "49    0          2          2         1           1           1           1           0              600      5000      65    1                    1                    maint    LAM    divided_by_gdp  0.000075   \n",
       "112   2          1          1         2           2           2           2           1              600      30000     35    0                    0                    maint    MAF    value           0.868922   \n",
       "\n",
       "transpmode                                                                                                                                                                                                   hsr  \\\n",
       "combi ind_climat ind_growth ind_mitig ind_trans_A ind_trans_S ind_trans_I ind_trans_F modal_scenario ur_ideal urt_ideal delay costs_evolution_road costs_evolution_rail costtype region columns                    \n",
       "377   4          3          2         2           1           1           1           1              600      30000     35    0                    0                    new      OCDE   value           0.156892   \n",
       "49    0          2          2         1           1           1           1           0              600      5000      65    1                    1                    maint    LAM    divided_by_gdp  0.000000   \n",
       "112   2          1          1         2           2           2           2           1              600      30000     35    0                    0                    maint    MAF    value           0.000000   \n",
       "\n",
       "transpmode                                                                                                                                                                                                  rail  \\\n",
       "combi ind_climat ind_growth ind_mitig ind_trans_A ind_trans_S ind_trans_I ind_trans_F modal_scenario ur_ideal urt_ideal delay costs_evolution_road costs_evolution_rail costtype region columns                    \n",
       "377   4          3          2         2           1           1           1           1              600      30000     35    0                    0                    new      OCDE   value           0.000000   \n",
       "49    0          2          2         1           1           1           1           0              600      5000      65    1                    1                    maint    LAM    divided_by_gdp  0.000652   \n",
       "112   2          1          1         2           2           2           2           1              600      30000     35    0                    0                    maint    MAF    value           2.425890   \n",
       "\n",
       "transpmode                                                                                                                                                                                                   road  \\\n",
       "combi ind_climat ind_growth ind_mitig ind_trans_A ind_trans_S ind_trans_I ind_trans_F modal_scenario ur_ideal urt_ideal delay costs_evolution_road costs_evolution_rail costtype region columns                     \n",
       "377   4          3          2         2           1           1           1           1              600      30000     35    0                    0                    new      OCDE   value            0.000000   \n",
       "49    0          2          2         1           1           1           1           0              600      5000      65    1                    1                    maint    LAM    divided_by_gdp   0.005609   \n",
       "112   2          1          1         2           2           2           2           1              600      30000     35    0                    0                    maint    MAF    value           56.919190   \n",
       "\n",
       "transpmode                                                                                                                                                                                              rail+high speed rail  \\\n",
       "combi ind_climat ind_growth ind_mitig ind_trans_A ind_trans_S ind_trans_I ind_trans_F modal_scenario ur_ideal urt_ideal delay costs_evolution_road costs_evolution_rail costtype region columns                                \n",
       "377   4          3          2         2           1           1           1           1              600      30000     35    0                    0                    new      OCDE   value                       0.156892   \n",
       "49    0          2          2         1           1           1           1           0              600      5000      65    1                    1                    maint    LAM    divided_by_gdp              0.000652   \n",
       "112   2          1          1         2           2           2           2           1              600      30000     35    0                    0                    maint    MAF    value                       2.425890   \n",
       "\n",
       "transpmode                                                                                                                                                                                               allmodes  \n",
       "combi ind_climat ind_growth ind_mitig ind_trans_A ind_trans_S ind_trans_I ind_trans_F modal_scenario ur_ideal urt_ideal delay costs_evolution_road costs_evolution_rail costtype region columns                    \n",
       "377   4          3          2         2           1           1           1           1              600      30000     35    0                    0                    new      OCDE   value            9.335253  \n",
       "49    0          2          2         1           1           1           1           0              600      5000      65    1                    1                    maint    LAM    divided_by_gdp   0.006499  \n",
       "112   2          1          1         2           2           2           2           1              600      30000     35    0                    0                    maint    MAF    value           60.675272  "
      ]
     },
     "execution_count": 65,
     "metadata": {},
     "output_type": "execute_result"
    }
   ],
   "source": [
    "all_data.sample(3)"
   ]
  },
  {
   "cell_type": "code",
   "execution_count": 66,
   "metadata": {},
   "outputs": [
    {
     "data": {
      "text/plain": [
       "array(['air', 'brt', 'hsr', 'rail', 'road', 'rail+high speed rail',\n",
       "       'allmodes'], dtype=object)"
      ]
     },
     "execution_count": 66,
     "metadata": {},
     "output_type": "execute_result"
    }
   ],
   "source": [
    "all_data.stack().reset_index(\"transpmode\").transpmode.unique()"
   ]
  },
  {
   "cell_type": "markdown",
   "metadata": {},
   "source": [
    "## dataset for the whole world"
   ]
  },
  {
   "cell_type": "code",
   "execution_count": 67,
   "metadata": {},
   "outputs": [],
   "source": [
    "world = all_data.stack().unstack(\"region\").sum(axis=1)"
   ]
  },
  {
   "cell_type": "code",
   "execution_count": 68,
   "metadata": {},
   "outputs": [],
   "source": [
    "world = world.unstack(\"columns\")\n",
    "world[\"divided_by_gdp\"] = world.disc_value/world.discounted_gdp"
   ]
  },
  {
   "cell_type": "code",
   "execution_count": 69,
   "metadata": {},
   "outputs": [
    {
     "data": {
      "text/plain": [
       "Index(['divided_by_gdp', 'value', 'disc_value', 'discounted_gdp'], dtype='object', name='columns')"
      ]
     },
     "execution_count": 69,
     "metadata": {},
     "output_type": "execute_result"
    }
   ],
   "source": [
    "world.columns"
   ]
  },
  {
   "cell_type": "markdown",
   "metadata": {},
   "source": [
    "## dataset for all developing countries in absolute terms"
   ]
  },
  {
   "cell_type": "code",
   "execution_count": 70,
   "metadata": {},
   "outputs": [],
   "source": [
    "dev_world = all_data.stack().unstack(\"region\").drop(\"OCDE\",axis=1).sum(axis=1)"
   ]
  },
  {
   "cell_type": "code",
   "execution_count": 71,
   "metadata": {},
   "outputs": [],
   "source": [
    "dev_world = dev_world.unstack(\"columns\")\n",
    "dev_world[\"divided_by_gdp\"] = dev_world.disc_value/dev_world.discounted_gdp"
   ]
  },
  {
   "cell_type": "code",
   "execution_count": 72,
   "metadata": {},
   "outputs": [
    {
     "data": {
      "text/plain": [
       "count    2764.800000\n",
       "mean      298.124799\n",
       "std       105.780236\n",
       "min        85.485886\n",
       "5%        153.615903\n",
       "25%       216.115980\n",
       "50%       276.898900\n",
       "75%       373.174857\n",
       "95%       493.685396\n",
       "max       640.593845\n",
       "Name: allmodes, dtype: float64"
      ]
     },
     "execution_count": 72,
     "metadata": {},
     "output_type": "execute_result"
    }
   ],
   "source": [
    "1/15*dev_world.disc_value.unstack(\"costtype\")[\"new\"].unstack(\"transpmode\")['allmodes'].describe(percentiles=[0.05,.25, .5, .75,0.95])"
   ]
  },
  {
   "cell_type": "code",
   "execution_count": 73,
   "metadata": {},
   "outputs": [
    {
     "data": {
      "text/plain": [
       "count    2764.800000\n",
       "mean      291.693666\n",
       "std        11.984950\n",
       "min       264.966483\n",
       "5%        272.744833\n",
       "25%       282.130233\n",
       "50%       291.510379\n",
       "75%       301.108542\n",
       "95%       311.214539\n",
       "max       324.345808\n",
       "Name: allmodes, dtype: float64"
      ]
     },
     "execution_count": 73,
     "metadata": {},
     "output_type": "execute_result"
    }
   ],
   "source": [
    "1/15*dev_world.disc_value.unstack(\"costtype\")[\"maint\"].unstack(\"transpmode\")['allmodes'].describe(percentiles=[0.05,.25, .5, .75,0.95])"
   ]
  },
  {
   "cell_type": "markdown",
   "metadata": {},
   "source": [
    "## numbers and graphs for report"
   ]
  },
  {
   "cell_type": "code",
   "execution_count": 78,
   "metadata": {},
   "outputs": [],
   "source": [
    "all_data = all_data.stack(\"transpmode\").unstack(\"columns\")"
   ]
  },
  {
   "cell_type": "code",
   "execution_count": 79,
   "metadata": {},
   "outputs": [],
   "source": [
    "bob = all_data.disc_value.unstack(\"transpmode\").drop(['rail','hsr'],axis=1).stack().unstack(\"costtype\")[\"new\"]\n",
    "bob = bob.reset_index()\n",
    "#bob = bob.loc[bob.region!=\"OCDE\",:]\n",
    "bob[\"region\"] = bob.region.replace({\"MAF\":\"Middle East\\nand Africa\",\\\n",
    "                                      \"LAM\":\"Latin America\\nand Caribbean\",\\\n",
    "                                      \"CIS\":\"Former\\nSoviet Union\",\\\n",
    "                                      \"ASIA\":\"Asia\",\\\n",
    "                                      \"OCDE\":\"OECD\"})"
   ]
  },
  {
   "cell_type": "code",
   "execution_count": 24,
   "metadata": {},
   "outputs": [
    {
     "data": {
      "image/png": "[encoded data removed]",
      "text/plain": [
       "<matplotlib.figure.Figure at 0x24826456da0>"
      ]
     },
     "metadata": {},
     "output_type": "display_data"
    }
   ],
   "source": [
    "fig2, ax2 = plt.subplots()\n",
    "sns.boxplot(x=\"region\",y=\"new\",hue=\"transpmode\",data=bob,ax=ax2)\n",
    "fig2.set_size_inches(12, 7)\n",
    "ax2.set_xlabel(\"\")\n",
    "ax2.set_ylabel(\"Capital investment needs 2015-2030 (billion USD)\")\n",
    "plt.legend(title=\"\",bbox_to_anchor=(1.005, 0.6))\n",
    "plt.savefig(\"imaclim_per_region_mode.png\",ddpi=300,bbox_inches=\"tight\")\n",
    "plt.savefig(\"imaclim_per_region_mode.pdf\")"
   ]
  },
  {
   "cell_type": "code",
   "execution_count": 80,
   "metadata": {},
   "outputs": [],
   "source": [
    "bob2 = all_data.divided_by_gdp.unstack(\"transpmode\").drop(['rail','hsr'],axis=1).stack().unstack(\"costtype\")[\"new\"]\n",
    "bob2 = bob2.reset_index()\n",
    "#bob2 = bob2.loc[bob2.region!=\"OCDE\",:]\n",
    "bob2[\"region\"] = bob2.region.replace({\"MAF\":\"Middle East\\nand Africa\",\\\n",
    "                                      \"LAM\":\"Latin America\\nand Caribbean\",\\\n",
    "                                      \"CIS\":\"Former\\nSoviet Union\",\\\n",
    "                                      \"ASIA\":\"Asia\",\\\n",
    "                                      \"OCDE\":\"OECD\"})\n",
    "bob2[\"new\"] = 100*bob2.new"
   ]
  },
  {
   "cell_type": "code",
   "execution_count": 82,
   "metadata": {},
   "outputs": [
    {
     "data": {
      "image/png": "[encoded data removed]",
      "text/plain": [
       "<Figure size 1152x648 with 1 Axes>"
      ]
     },
     "metadata": {},
     "output_type": "display_data"
    }
   ],
   "source": [
    "fig3, ax3 = plt.subplots()\n",
    "sns.boxplot(x=\"region\",y=\"new\",hue=\"transpmode\",data=bob2,ax=ax3)\n",
    "fig3.set_size_inches(16, 9)\n",
    "ax3.set_xlabel(\"\")\n",
    "ax3.set_ylabel(\"Capital investment costs 2015-2030 (% of GDP)\")\n",
    "plt.legend(title=\"\",bbox_to_anchor=(1.005, 0.6))\n",
    "plt.savefig(\"imaclim_per_region_mode_share_gdp.png\",ddpi=300,bbox_inches=\"tight\")\n",
    "plt.savefig(\"imaclim_per_region_mode_share_gdp.pdf\")\n",
    "\n",
    "plt.savefig(\"C:\\\\Users\\\\WB451855\\\\OneDrive - WBG\\\\infrastructure needs\\\\infra_needs_writing_process\\\\graphs\\\\chapter 4\\\\fig4_12.eps\")"
   ]
  },
  {
   "cell_type": "code",
   "execution_count": 97,
   "metadata": {},
   "outputs": [
    {
     "data": {
      "text/html": [
       "<div>\n",
       "<style>\n",
       "    .dataframe thead tr:only-child th {\n",
       "        text-align: right;\n",
       "    }\n",
       "\n",
       "    .dataframe thead th {\n",
       "        text-align: left;\n",
       "    }\n",
       "\n",
       "    .dataframe tbody tr th {\n",
       "        vertical-align: top;\n",
       "    }\n",
       "</style>\n",
       "<table border=\"1\" class=\"dataframe\">\n",
       "  <thead>\n",
       "    <tr style=\"text-align: right;\">\n",
       "      <th></th>\n",
       "      <th></th>\n",
       "      <th></th>\n",
       "      <th></th>\n",
       "      <th></th>\n",
       "      <th></th>\n",
       "      <th></th>\n",
       "      <th></th>\n",
       "      <th></th>\n",
       "      <th></th>\n",
       "      <th></th>\n",
       "      <th></th>\n",
       "      <th></th>\n",
       "      <th></th>\n",
       "      <th></th>\n",
       "      <th>transpmode</th>\n",
       "      <th>air</th>\n",
       "      <th>brt</th>\n",
       "      <th>hsr</th>\n",
       "      <th>rail</th>\n",
       "      <th>road</th>\n",
       "      <th>rail+high speed rail</th>\n",
       "      <th>allmodes</th>\n",
       "    </tr>\n",
       "    <tr>\n",
       "      <th>combi</th>\n",
       "      <th>ind_climat</th>\n",
       "      <th>ind_growth</th>\n",
       "      <th>ind_mitig</th>\n",
       "      <th>ind_trans_A</th>\n",
       "      <th>ind_trans_S</th>\n",
       "      <th>ind_trans_I</th>\n",
       "      <th>ind_trans_F</th>\n",
       "      <th>modal_scenario</th>\n",
       "      <th>ur_ideal</th>\n",
       "      <th>urt_ideal</th>\n",
       "      <th>delay</th>\n",
       "      <th>costs_evolution_road</th>\n",
       "      <th>costs_evolution_rail</th>\n",
       "      <th>costtype</th>\n",
       "      <th></th>\n",
       "      <th></th>\n",
       "      <th></th>\n",
       "      <th></th>\n",
       "      <th></th>\n",
       "      <th></th>\n",
       "      <th></th>\n",
       "      <th></th>\n",
       "    </tr>\n",
       "  </thead>\n",
       "  <tbody>\n",
       "    <tr>\n",
       "      <th>317</th>\n",
       "      <th>4</th>\n",
       "      <th>1</th>\n",
       "      <th>2</th>\n",
       "      <th>2</th>\n",
       "      <th>2</th>\n",
       "      <th>1</th>\n",
       "      <th>1</th>\n",
       "      <th>1</th>\n",
       "      <th>600</th>\n",
       "      <th>5000</th>\n",
       "      <th>65</th>\n",
       "      <th>0</th>\n",
       "      <th>1</th>\n",
       "      <th>maint</th>\n",
       "      <th>divided_by_gdp</th>\n",
       "      <td>0.000074</td>\n",
       "      <td>0.000094</td>\n",
       "      <td>0.000181</td>\n",
       "      <td>0.001184</td>\n",
       "      <td>0.012534</td>\n",
       "      <td>0.001365</td>\n",
       "      <td>0.014068</td>\n",
       "    </tr>\n",
       "    <tr>\n",
       "      <th>107</th>\n",
       "      <th>2</th>\n",
       "      <th>1</th>\n",
       "      <th>1</th>\n",
       "      <th>2</th>\n",
       "      <th>1</th>\n",
       "      <th>2</th>\n",
       "      <th>1</th>\n",
       "      <th>0</th>\n",
       "      <th>600</th>\n",
       "      <th>5000</th>\n",
       "      <th>65</th>\n",
       "      <th>0</th>\n",
       "      <th>2</th>\n",
       "      <th>maint</th>\n",
       "      <th>divided_by_gdp</th>\n",
       "      <td>0.000072</td>\n",
       "      <td>0.000028</td>\n",
       "      <td>0.000153</td>\n",
       "      <td>0.000876</td>\n",
       "      <td>0.013111</td>\n",
       "      <td>0.001030</td>\n",
       "      <td>0.014242</td>\n",
       "    </tr>\n",
       "  </tbody>\n",
       "</table>\n",
       "</div>"
      ],
      "text/plain": [
       "transpmode                                                                                                                                                                                            air  \\\n",
       "combi ind_climat ind_growth ind_mitig ind_trans_A ind_trans_S ind_trans_I ind_trans_F modal_scenario ur_ideal urt_ideal delay costs_evolution_road costs_evolution_rail costtype                            \n",
       "317   4          1          2         2           2           1           1           1              600      5000      65    0                    1                    maint    divided_by_gdp  0.000074   \n",
       "107   2          1          1         2           1           2           1           0              600      5000      65    0                    2                    maint    divided_by_gdp  0.000072   \n",
       "\n",
       "transpmode                                                                                                                                                                                            brt  \\\n",
       "combi ind_climat ind_growth ind_mitig ind_trans_A ind_trans_S ind_trans_I ind_trans_F modal_scenario ur_ideal urt_ideal delay costs_evolution_road costs_evolution_rail costtype                            \n",
       "317   4          1          2         2           2           1           1           1              600      5000      65    0                    1                    maint    divided_by_gdp  0.000094   \n",
       "107   2          1          1         2           1           2           1           0              600      5000      65    0                    2                    maint    divided_by_gdp  0.000028   \n",
       "\n",
       "transpmode                                                                                                                                                                                            hsr  \\\n",
       "combi ind_climat ind_growth ind_mitig ind_trans_A ind_trans_S ind_trans_I ind_trans_F modal_scenario ur_ideal urt_ideal delay costs_evolution_road costs_evolution_rail costtype                            \n",
       "317   4          1          2         2           2           1           1           1              600      5000      65    0                    1                    maint    divided_by_gdp  0.000181   \n",
       "107   2          1          1         2           1           2           1           0              600      5000      65    0                    2                    maint    divided_by_gdp  0.000153   \n",
       "\n",
       "transpmode                                                                                                                                                                                           rail  \\\n",
       "combi ind_climat ind_growth ind_mitig ind_trans_A ind_trans_S ind_trans_I ind_trans_F modal_scenario ur_ideal urt_ideal delay costs_evolution_road costs_evolution_rail costtype                            \n",
       "317   4          1          2         2           2           1           1           1              600      5000      65    0                    1                    maint    divided_by_gdp  0.001184   \n",
       "107   2          1          1         2           1           2           1           0              600      5000      65    0                    2                    maint    divided_by_gdp  0.000876   \n",
       "\n",
       "transpmode                                                                                                                                                                                           road  \\\n",
       "combi ind_climat ind_growth ind_mitig ind_trans_A ind_trans_S ind_trans_I ind_trans_F modal_scenario ur_ideal urt_ideal delay costs_evolution_road costs_evolution_rail costtype                            \n",
       "317   4          1          2         2           2           1           1           1              600      5000      65    0                    1                    maint    divided_by_gdp  0.012534   \n",
       "107   2          1          1         2           1           2           1           0              600      5000      65    0                    2                    maint    divided_by_gdp  0.013111   \n",
       "\n",
       "transpmode                                                                                                                                                                                       rail+high speed rail  \\\n",
       "combi ind_climat ind_growth ind_mitig ind_trans_A ind_trans_S ind_trans_I ind_trans_F modal_scenario ur_ideal urt_ideal delay costs_evolution_road costs_evolution_rail costtype                                        \n",
       "317   4          1          2         2           2           1           1           1              600      5000      65    0                    1                    maint    divided_by_gdp              0.001365   \n",
       "107   2          1          1         2           1           2           1           0              600      5000      65    0                    2                    maint    divided_by_gdp              0.001030   \n",
       "\n",
       "transpmode                                                                                                                                                                                       allmodes  \n",
       "combi ind_climat ind_growth ind_mitig ind_trans_A ind_trans_S ind_trans_I ind_trans_F modal_scenario ur_ideal urt_ideal delay costs_evolution_road costs_evolution_rail costtype                           \n",
       "317   4          1          2         2           2           1           1           1              600      5000      65    0                    1                    maint    divided_by_gdp  0.014068  \n",
       "107   2          1          1         2           1           2           1           0              600      5000      65    0                    2                    maint    divided_by_gdp  0.014242  "
      ]
     },
     "execution_count": 97,
     "metadata": {},
     "output_type": "execute_result"
    }
   ],
   "source": [
    "all_data_global.sample(2)"
   ]
  },
  {
   "cell_type": "code",
   "execution_count": 84,
   "metadata": {},
   "outputs": [
    {
     "name": "stderr",
     "output_type": "stream",
     "text": [
      "C:\\ProgramData\\Anaconda3\\envs\\Julie1\\lib\\site-packages\\seaborn\\categorical.py:3666: UserWarning: The `factorplot` function has been renamed to `catplot`. The original name will be removed in a future release. Please update your code. Note that the default `kind` in `factorplot` (`'point'`) has changed `'strip'` in `catplot`.\n",
      "  warnings.warn(msg)\n",
      "C:\\ProgramData\\Anaconda3\\envs\\Julie1\\lib\\site-packages\\seaborn\\categorical.py:3672: UserWarning: The `size` paramter has been renamed to `height`; please update your code.\n",
      "  warnings.warn(msg, UserWarning)\n"
     ]
    },
    {
     "data": {
      "image/png": "[encoded data removed]",
      "text/plain": [
       "<Figure size 671.325x360 with 1 Axes>"
      ]
     },
     "metadata": {},
     "output_type": "display_data"
    }
   ],
   "source": [
    "bob3 = all_data_global.allmodes.unstack(\"costtype\")[\"new\"].reset_index()\n",
    "bob3['modal_scenario'] = bob3.modal_scenario.replace({0:\"Constant shares\",1:\"Shift to rail\"})\n",
    "\n",
    "#transforms sum in annual average\n",
    "bob3['new'] = 100*bob3.new\n",
    "\n",
    "bob3['urt_ideal'] = 1/1000*bob3.urt_ideal\n",
    "\n",
    "g = sns.factorplot(x=\"urt_ideal\",y=\"new\",hue=\"modal_scenario\",dodge=True,ci='sd',join=False,\\\n",
    "              kind=\"point\",capsize=0.1,data=bob3,errwidth=5, size=5, aspect=1.2,\\\n",
    "                  legend=False)\n",
    "\n",
    "\n",
    "\n",
    "#g = sns.factorplot(x=\"modal_scenario\",y=\"allmodes\",hue=\"urt_ideal\", kind='box',\\\n",
    "#              data=bob3, size=5, aspect=1.5,\\\n",
    "#                  legend=False)\n",
    "\n",
    "g.set_axis_labels(\"Target rail occupancy\\n(million pkm and tkm per track-km)\", \"Average annual capital\\ninvestment costs 2015-2030\\n(% GDP)\")\n",
    "g.add_legend(title=\"Mode scenario\")\n",
    "\n",
    "plt.savefig(\"imaclim_dev_world_unc_pcpib.png\",ddpi=300,bbox_inches=\"tight\")\n",
    "plt.savefig(\"imaclim_dev_world_unc_pcpib.pdf\")\n",
    "\n",
    "plt.savefig(\"C:\\\\Users\\\\WB451855\\\\OneDrive - WBG\\\\infrastructure needs\\\\infra_needs_writing_process\\\\graphs\\\\chapter 4\\\\fig4_13.eps\")"
   ]
  },
  {
   "cell_type": "code",
   "execution_count": 84,
   "metadata": {},
   "outputs": [
    {
     "data": {
      "text/html": [
       "<div>\n",
       "<style>\n",
       "    .dataframe thead tr:only-child th {\n",
       "        text-align: right;\n",
       "    }\n",
       "\n",
       "    .dataframe thead th {\n",
       "        text-align: left;\n",
       "    }\n",
       "\n",
       "    .dataframe tbody tr th {\n",
       "        vertical-align: top;\n",
       "    }\n",
       "</style>\n",
       "<table border=\"1\" class=\"dataframe\">\n",
       "  <thead>\n",
       "    <tr style=\"text-align: right;\">\n",
       "      <th>ur_ideal</th>\n",
       "      <th>600</th>\n",
       "      <th>900</th>\n",
       "    </tr>\n",
       "  </thead>\n",
       "  <tbody>\n",
       "    <tr>\n",
       "      <th>count</th>\n",
       "      <td>20736.000000</td>\n",
       "      <td>20736.000000</td>\n",
       "    </tr>\n",
       "    <tr>\n",
       "      <th>mean</th>\n",
       "      <td>0.037351</td>\n",
       "      <td>0.026132</td>\n",
       "    </tr>\n",
       "    <tr>\n",
       "      <th>std</th>\n",
       "      <td>0.007272</td>\n",
       "      <td>0.007353</td>\n",
       "    </tr>\n",
       "    <tr>\n",
       "      <th>min</th>\n",
       "      <td>0.022941</td>\n",
       "      <td>0.011031</td>\n",
       "    </tr>\n",
       "    <tr>\n",
       "      <th>25%</th>\n",
       "      <td>0.031871</td>\n",
       "      <td>0.020912</td>\n",
       "    </tr>\n",
       "    <tr>\n",
       "      <th>50%</th>\n",
       "      <td>0.035706</td>\n",
       "      <td>0.024625</td>\n",
       "    </tr>\n",
       "    <tr>\n",
       "      <th>75%</th>\n",
       "      <td>0.041991</td>\n",
       "      <td>0.030687</td>\n",
       "    </tr>\n",
       "    <tr>\n",
       "      <th>max</th>\n",
       "      <td>0.061068</td>\n",
       "      <td>0.046140</td>\n",
       "    </tr>\n",
       "  </tbody>\n",
       "</table>\n",
       "</div>"
      ],
      "text/plain": [
       "ur_ideal           600           900\n",
       "count     20736.000000  20736.000000\n",
       "mean          0.037351      0.026132\n",
       "std           0.007272      0.007353\n",
       "min           0.022941      0.011031\n",
       "25%           0.031871      0.020912\n",
       "50%           0.035706      0.024625\n",
       "75%           0.041991      0.030687\n",
       "max           0.061068      0.046140"
      ]
     },
     "execution_count": 84,
     "metadata": {},
     "output_type": "execute_result"
    }
   ],
   "source": [
    "all_data.allmodes.unstack(\"columns\").divided_by_gdp.unstack(\"region\")[\"MAF\"].unstack(\"costtype\")[\"new\"].unstack(\"ur_ideal\").describe()"
   ]
  },
  {
   "cell_type": "code",
   "execution_count": 95,
   "metadata": {},
   "outputs": [
    {
     "data": {
      "image/png": "[encoded data removed]",
      "text/plain": [
       "<matplotlib.figure.Figure at 0x2c6035faf28>"
      ]
     },
     "metadata": {},
     "output_type": "display_data"
    }
   ],
   "source": [
    "bob3 = dev_world.disc_value.unstack(\"costtype\")[\"new\"].unstack(\"transpmode\")['allmodes'].reset_index()\n",
    "bob3['modal_scenario'] = bob3.modal_scenario.replace({0:\"Constant shares\",1:\"Shift to rail\"})\n",
    "\n",
    "#transforms sum in annual average\n",
    "bob3['allmodes'] = 1/15*bob3.allmodes\n",
    "\n",
    "bob3['urt_ideal'] = 1/1000*bob3.urt_ideal\n",
    "\n",
    "g = sns.factorplot(x=\"urt_ideal\",y=\"allmodes\",hue=\"modal_scenario\",dodge=True,ci='sd',join=False,\\\n",
    "              kind=\"point\",capsize=0.1,data=bob3,errwidth=5, size=5, aspect=1.2,\\\n",
    "                  legend=False)\n",
    "\n",
    "\n",
    "\n",
    "#g = sns.factorplot(x=\"modal_scenario\",y=\"allmodes\",hue=\"urt_ideal\", kind='box',\\\n",
    "#              data=bob3, size=5, aspect=1.5,\\\n",
    "#                  legend=False)\n",
    "\n",
    "g.set_axis_labels(\"Target rail occupancy\\n(million pkm and tkm per track-km)\", \"Average annual capital\\ninvestment costs 2015-2030\\n(USD billion)\")\n",
    "g.add_legend(title=\"Mode scenario\")\n",
    "\n",
    "plt.savefig(\"imaclim_dev_world_unc.png\",ddpi=300,bbox_inches=\"tight\")\n",
    "plt.savefig(\"imaclim_dev_world_unc.pdf\")"
   ]
  },
  {
   "cell_type": "code",
   "execution_count": 71,
   "metadata": {},
   "outputs": [
    {
     "data": {
      "text/plain": [
       "urt_ideal  modal_scenario \n",
       "5.0        Constant shares    226.478904\n",
       "           Shift to rail      329.856488\n",
       "30.0       Constant shares    133.471898\n",
       "           Shift to rail      145.850289\n",
       "dtype: float64"
      ]
     },
     "execution_count": 71,
     "metadata": {},
     "output_type": "execute_result"
    }
   ],
   "source": [
    "bob3.groupby([\"urt_ideal\",\"modal_scenario\"]).apply(lambda x:x.allmodes.quantile(0.05))"
   ]
  },
  {
   "cell_type": "code",
   "execution_count": 73,
   "metadata": {},
   "outputs": [
    {
     "data": {
      "text/plain": [
       "urt_ideal  modal_scenario \n",
       "5.0        Constant shares    417.864870\n",
       "           Shift to rail      548.993208\n",
       "30.0       Constant shares    287.397772\n",
       "           Shift to rail      309.303200\n",
       "dtype: float64"
      ]
     },
     "execution_count": 73,
     "metadata": {},
     "output_type": "execute_result"
    }
   ],
   "source": [
    "bob3.groupby([\"urt_ideal\",\"modal_scenario\"]).apply(lambda x:x.allmodes.quantile(0.95))"
   ]
  },
  {
   "cell_type": "code",
   "execution_count": 77,
   "metadata": {},
   "outputs": [
    {
     "data": {
      "text/plain": [
       "urt_ideal  modal_scenario \n",
       "5.0        Constant shares    318.665387\n",
       "           Shift to rail      436.559954\n",
       "30.0       Constant shares    209.387955\n",
       "           Shift to rail      227.885898\n",
       "dtype: float64"
      ]
     },
     "execution_count": 77,
     "metadata": {},
     "output_type": "execute_result"
    }
   ],
   "source": [
    "bob3.groupby([\"urt_ideal\",\"modal_scenario\"]).apply(lambda x:x.allmodes.mean())"
   ]
  },
  {
   "cell_type": "code",
   "execution_count": 78,
   "metadata": {},
   "outputs": [
    {
     "data": {
      "text/plain": [
       "1.912280701754386"
      ]
     },
     "execution_count": 78,
     "metadata": {},
     "output_type": "execute_result"
    }
   ],
   "source": [
    "436/228"
   ]
  },
  {
   "cell_type": "code",
   "execution_count": 79,
   "metadata": {},
   "outputs": [
    {
     "data": {
      "text/plain": [
       "1.394736842105263"
      ]
     },
     "execution_count": 79,
     "metadata": {},
     "output_type": "execute_result"
    }
   ],
   "source": [
    "318/228"
   ]
  },
  {
   "cell_type": "code",
   "execution_count": 112,
   "metadata": {},
   "outputs": [
    {
     "data": {
      "text/plain": [
       "Index(['index', 'combi', 'ind_climat', 'ind_growth', 'ind_mitig',\n",
       "       'ind_trans_A', 'ind_trans_S', 'ind_trans_I', 'ind_trans_F',\n",
       "       'modal_scenario', 'ur_ideal', 'urt_ideal', 'delay',\n",
       "       'costs_evolution_road', 'costs_evolution_rail', 'allmodes'],\n",
       "      dtype='object')"
      ]
     },
     "execution_count": 112,
     "metadata": {},
     "output_type": "execute_result"
    }
   ],
   "source": [
    "bob3.reset_index().columns"
   ]
  },
  {
   "cell_type": "code",
   "execution_count": 113,
   "metadata": {},
   "outputs": [
    {
     "data": {
      "text/plain": [
       "ind_climat  ind_mitig\n",
       "0           1            315.004489\n",
       "            2            324.054301\n",
       "2           1            301.352560\n",
       "            2            324.311733\n",
       "4           1            243.966942\n",
       "            2            280.058767\n",
       "dtype: float64"
      ]
     },
     "execution_count": 113,
     "metadata": {},
     "output_type": "execute_result"
    }
   ],
   "source": [
    "bob3.groupby([\"ind_climat\",\"ind_mitig\"]).apply(lambda x:x.allmodes.mean())"
   ]
  },
  {
   "cell_type": "markdown",
   "metadata": {},
   "source": [
    "### best scenario"
   ]
  },
  {
   "cell_type": "code",
   "execution_count": 80,
   "metadata": {},
   "outputs": [
    {
     "data": {
      "text/html": [
       "<div>\n",
       "<style>\n",
       "    .dataframe thead tr:only-child th {\n",
       "        text-align: right;\n",
       "    }\n",
       "\n",
       "    .dataframe thead th {\n",
       "        text-align: left;\n",
       "    }\n",
       "\n",
       "    .dataframe tbody tr th {\n",
       "        vertical-align: top;\n",
       "    }\n",
       "</style>\n",
       "<table border=\"1\" class=\"dataframe\">\n",
       "  <thead>\n",
       "    <tr style=\"text-align: right;\">\n",
       "      <th></th>\n",
       "      <th>costtype</th>\n",
       "      <th>disc_value</th>\n",
       "    </tr>\n",
       "  </thead>\n",
       "  <tbody>\n",
       "    <tr>\n",
       "      <th>321922</th>\n",
       "      <td>maint</td>\n",
       "      <td>279.806415</td>\n",
       "    </tr>\n",
       "    <tr>\n",
       "      <th>321929</th>\n",
       "      <td>new</td>\n",
       "      <td>285.029269</td>\n",
       "    </tr>\n",
       "  </tbody>\n",
       "</table>\n",
       "</div>"
      ],
      "text/plain": [
       "       costtype  disc_value\n",
       "321922    maint  279.806415\n",
       "321929      new  285.029269"
      ]
     },
     "execution_count": 80,
     "metadata": {},
     "output_type": "execute_result"
    }
   ],
   "source": [
    "best_scenario = dev_world.disc_value.reset_index()\n",
    "select = (best_scenario.urt_ideal==30000)&(best_scenario.modal_scenario==1)&(best_scenario.ind_climat==2)&(best_scenario.ind_mitig==2)&(best_scenario.ur_ideal==600)&\\\n",
    "(best_scenario.ind_trans_A==2)&(best_scenario.ind_trans_S==2)&(best_scenario.ind_trans_I==2)&(best_scenario.ind_trans_F==2)&(best_scenario.delay==35)&\\\n",
    "(best_scenario.costs_evolution_road==2)&(best_scenario.costs_evolution_rail==2)&(best_scenario.transpmode==\"allmodes\")&(best_scenario.ind_growth==2)\n",
    "best_scenario = best_scenario.loc[select,:]\n",
    "\n",
    "best_scenario[\"disc_value\"] = 1/15*best_scenario[\"disc_value\"] \n",
    "best_scenario[[\"costtype\",\"disc_value\"]]"
   ]
  },
  {
   "cell_type": "code",
   "execution_count": 81,
   "metadata": {},
   "outputs": [
    {
     "data": {
      "text/html": [
       "<div>\n",
       "<style>\n",
       "    .dataframe thead tr:only-child th {\n",
       "        text-align: right;\n",
       "    }\n",
       "\n",
       "    .dataframe thead th {\n",
       "        text-align: left;\n",
       "    }\n",
       "\n",
       "    .dataframe tbody tr th {\n",
       "        vertical-align: top;\n",
       "    }\n",
       "</style>\n",
       "<table border=\"1\" class=\"dataframe\">\n",
       "  <thead>\n",
       "    <tr style=\"text-align: right;\">\n",
       "      <th></th>\n",
       "      <th>costtype</th>\n",
       "      <th>disc_value</th>\n",
       "    </tr>\n",
       "  </thead>\n",
       "  <tbody>\n",
       "    <tr>\n",
       "      <th>321670</th>\n",
       "      <td>maint</td>\n",
       "      <td>291.009151</td>\n",
       "    </tr>\n",
       "    <tr>\n",
       "      <th>321677</th>\n",
       "      <td>new</td>\n",
       "      <td>522.022229</td>\n",
       "    </tr>\n",
       "  </tbody>\n",
       "</table>\n",
       "</div>"
      ],
      "text/plain": [
       "       costtype  disc_value\n",
       "321670    maint  291.009151\n",
       "321677      new  522.022229"
      ]
     },
     "execution_count": 81,
     "metadata": {},
     "output_type": "execute_result"
    }
   ],
   "source": [
    "best_scenario = dev_world.disc_value.reset_index()\n",
    "select2 = (best_scenario.urt_ideal!=30000)&(best_scenario.modal_scenario==1)&(best_scenario.ind_climat==2)&(best_scenario.ind_mitig==2)&(best_scenario.ur_ideal==600)&\\\n",
    "(best_scenario.ind_trans_A==2)&(best_scenario.ind_trans_S==2)&(best_scenario.ind_trans_I==2)&(best_scenario.ind_trans_F==2)&(best_scenario.delay==35)&\\\n",
    "(best_scenario.costs_evolution_road==2)&(best_scenario.costs_evolution_rail==2)&(best_scenario.transpmode==\"allmodes\")&(best_scenario.ind_growth==2)\n",
    "best_scenario = best_scenario.loc[select2,:]\n",
    "\n",
    "best_scenario[\"disc_value\"] = 1/15*best_scenario[\"disc_value\"] \n",
    "best_scenario[[\"costtype\",\"disc_value\"]]"
   ]
  },
  {
   "cell_type": "code",
   "execution_count": 84,
   "metadata": {},
   "outputs": [
    {
     "data": {
      "text/html": [
       "<div>\n",
       "<style>\n",
       "    .dataframe thead tr:only-child th {\n",
       "        text-align: right;\n",
       "    }\n",
       "\n",
       "    .dataframe thead th {\n",
       "        text-align: left;\n",
       "    }\n",
       "\n",
       "    .dataframe tbody tr th {\n",
       "        vertical-align: top;\n",
       "    }\n",
       "</style>\n",
       "<table border=\"1\" class=\"dataframe\">\n",
       "  <thead>\n",
       "    <tr style=\"text-align: right;\">\n",
       "      <th></th>\n",
       "      <th>costtype</th>\n",
       "      <th>disc_value</th>\n",
       "    </tr>\n",
       "  </thead>\n",
       "  <tbody>\n",
       "    <tr>\n",
       "      <th>94870</th>\n",
       "      <td>maint</td>\n",
       "      <td>284.631844</td>\n",
       "    </tr>\n",
       "    <tr>\n",
       "      <th>94877</th>\n",
       "      <td>new</td>\n",
       "      <td>373.597956</td>\n",
       "    </tr>\n",
       "  </tbody>\n",
       "</table>\n",
       "</div>"
      ],
      "text/plain": [
       "      costtype  disc_value\n",
       "94870    maint  284.631844\n",
       "94877      new  373.597956"
      ]
     },
     "execution_count": 84,
     "metadata": {},
     "output_type": "execute_result"
    }
   ],
   "source": [
    "best_scenario = dev_world.disc_value.reset_index()\n",
    "select3 = (best_scenario.urt_ideal!=30000)&(best_scenario.modal_scenario==0)&(best_scenario.ind_climat==0)&(best_scenario.ind_mitig==1)&(best_scenario.ur_ideal==600)&\\\n",
    "(best_scenario.ind_trans_A==2)&(best_scenario.ind_trans_S==2)&(best_scenario.ind_trans_I==2)&(best_scenario.ind_trans_F==2)&(best_scenario.delay==35)&\\\n",
    "(best_scenario.costs_evolution_road==2)&(best_scenario.costs_evolution_rail==2)&(best_scenario.transpmode==\"allmodes\")&(best_scenario.ind_growth==2)\n",
    "best_scenario = best_scenario.loc[select3,:]\n",
    "\n",
    "best_scenario[\"disc_value\"] = 1/15*best_scenario[\"disc_value\"] \n",
    "best_scenario[[\"costtype\",\"disc_value\"]]"
   ]
  },
  {
   "cell_type": "code",
   "execution_count": 143,
   "metadata": {},
   "outputs": [
    {
     "data": {
      "text/plain": [
       "Index(['ind_climat', 'ind_growth', 'ind_mitig', 'ind_trans_A', 'ind_trans_S',\n",
       "       'ind_trans_I', 'ind_trans_F', 'ind_taxexo', 'ind_recycl', 'ind_taxmax',\n",
       "       'region', 'year', 'PIB'],\n",
       "      dtype='object')"
      ]
     },
     "execution_count": 143,
     "metadata": {},
     "output_type": "execute_result"
    }
   ],
   "source": [
    "to_merge.reset_index().columns"
   ]
  },
  {
   "cell_type": "code",
   "execution_count": 154,
   "metadata": {
    "collapsed": true
   },
   "outputs": [],
   "source": [
    "pib_best_scenario = to_merge.reset_index()\n",
    "select = (pib_best_scenario.ind_climat==2)&(pib_best_scenario.ind_mitig==2)&\\\n",
    "(pib_best_scenario.ind_trans_A==2)&(pib_best_scenario.ind_trans_S==2)&(pib_best_scenario.ind_trans_I==2)&(pib_best_scenario.ind_trans_F==2)&(pib_best_scenario.ind_growth==2)&\\\n",
    "(pib_best_scenario.year.astype(\"int64\")<2031)&(pib_best_scenario.region!=\"OCDE\")\n",
    "\n",
    "pib_best_scenario = pib_best_scenario.loc[select,[\"region\",\"year\",\"PIB\"]]"
   ]
  },
  {
   "cell_type": "code",
   "execution_count": 158,
   "metadata": {
    "collapsed": true
   },
   "outputs": [],
   "source": [
    "pib_best_scenario[\"discount_factor\"] = (1+0.06)**(1-(pib_best_scenario.year.astype(int)-2014))\n",
    "pib_best_scenario['disc_PIB'] =  pib_best_scenario['PIB']*pib_best_scenario[\"discount_factor\"]"
   ]
  },
  {
   "cell_type": "code",
   "execution_count": 160,
   "metadata": {},
   "outputs": [
    {
     "data": {
      "text/plain": [
       "22072.3510466429"
      ]
     },
     "execution_count": 160,
     "metadata": {},
     "output_type": "execute_result"
    }
   ],
   "source": [
    "1/15*pib_best_scenario.disc_PIB.sum()"
   ]
  },
  {
   "cell_type": "code",
   "execution_count": 47,
   "metadata": {},
   "outputs": [
    {
     "data": {
      "text/plain": [
       "Index(['combi', 'ind_climat', 'ind_growth', 'ind_mitig', 'ind_trans_A',\n",
       "       'ind_trans_S', 'ind_trans_I', 'ind_trans_F', 'modal_scenario',\n",
       "       'ur_ideal', 'urt_ideal', 'delay', 'costs_evolution_road',\n",
       "       'costs_evolution_rail', 'costtype', 'level_15', 'air', 'brt', 'hsr',\n",
       "       'rail', 'road', 'rail+high speed rail', 'allmodes'],\n",
       "      dtype='object', name='transpmode')"
      ]
     },
     "execution_count": 47,
     "metadata": {},
     "output_type": "execute_result"
    }
   ],
   "source": [
    "all_data_global.reset_index().columns"
   ]
  },
  {
   "cell_type": "code",
   "execution_count": 48,
   "metadata": {
    "collapsed": true
   },
   "outputs": [],
   "source": [
    "best_scenario = all_data_global.reset_index()\n",
    "select = (best_scenario.urt_ideal==30000)&(best_scenario.modal_scenario==1)&(best_scenario.ind_climat==2)&(best_scenario.ind_mitig==2)&(best_scenario.ur_ideal==600)&\\\n",
    "(best_scenario.ind_trans_A==2)&(best_scenario.ind_trans_S==2)&(best_scenario.ind_trans_I==2)&(best_scenario.ind_trans_F==2)&(best_scenario.delay==35)&\\\n",
    "(best_scenario.costs_evolution_road==2)&(best_scenario.costs_evolution_rail==2)&(best_scenario.ind_growth==2)\n",
    "\n",
    "best_scenario = best_scenario.loc[select,:]"
   ]
  },
  {
   "cell_type": "code",
   "execution_count": 49,
   "metadata": {},
   "outputs": [
    {
     "data": {
      "text/html": [
       "<div>\n",
       "<style>\n",
       "    .dataframe thead tr:only-child th {\n",
       "        text-align: right;\n",
       "    }\n",
       "\n",
       "    .dataframe thead th {\n",
       "        text-align: left;\n",
       "    }\n",
       "\n",
       "    .dataframe tbody tr th {\n",
       "        vertical-align: top;\n",
       "    }\n",
       "</style>\n",
       "<table border=\"1\" class=\"dataframe\">\n",
       "  <thead>\n",
       "    <tr style=\"text-align: right;\">\n",
       "      <th>transpmode</th>\n",
       "      <th>costtype</th>\n",
       "      <th>allmodes</th>\n",
       "    </tr>\n",
       "  </thead>\n",
       "  <tbody>\n",
       "    <tr>\n",
       "      <th>69028</th>\n",
       "      <td>maint</td>\n",
       "      <td>0.012640</td>\n",
       "    </tr>\n",
       "    <tr>\n",
       "      <th>69029</th>\n",
       "      <td>new</td>\n",
       "      <td>0.012908</td>\n",
       "    </tr>\n",
       "  </tbody>\n",
       "</table>\n",
       "</div>"
      ],
      "text/plain": [
       "transpmode costtype  allmodes\n",
       "69028         maint  0.012640\n",
       "69029           new  0.012908"
      ]
     },
     "execution_count": 49,
     "metadata": {},
     "output_type": "execute_result"
    }
   ],
   "source": [
    "best_scenario[[\"costtype\",\"allmodes\"]]"
   ]
  },
  {
   "cell_type": "code",
   "execution_count": 89,
   "metadata": {
    "collapsed": true
   },
   "outputs": [],
   "source": [
    "best_scenario = all_data[\"allmodes\"].unstack(\"columns\")['divided_by_gdp'].reset_index()\n",
    "\n",
    "select = (best_scenario.urt_ideal==30000)&(best_scenario.modal_scenario==1)&(best_scenario.ind_climat==2)&(best_scenario.ind_mitig==2)&(best_scenario.ur_ideal==600)&\\\n",
    "(best_scenario.ind_trans_A==2)&(best_scenario.ind_trans_S==2)&(best_scenario.ind_trans_I==2)&(best_scenario.ind_trans_F==2)&(best_scenario.delay==35)&\\\n",
    "(best_scenario.costs_evolution_road==2)&(best_scenario.costs_evolution_rail==2)&(best_scenario.ind_growth==2)\n",
    "\n",
    "best_scenario = best_scenario.loc[select,:]"
   ]
  },
  {
   "cell_type": "code",
   "execution_count": 94,
   "metadata": {},
   "outputs": [
    {
     "data": {
      "text/html": [
       "<div>\n",
       "<style>\n",
       "    .dataframe thead tr:only-child th {\n",
       "        text-align: right;\n",
       "    }\n",
       "\n",
       "    .dataframe thead th {\n",
       "        text-align: left;\n",
       "    }\n",
       "\n",
       "    .dataframe tbody tr th {\n",
       "        vertical-align: top;\n",
       "    }\n",
       "</style>\n",
       "<table border=\"1\" class=\"dataframe\">\n",
       "  <thead>\n",
       "    <tr style=\"text-align: right;\">\n",
       "      <th>costtype</th>\n",
       "      <th>maint</th>\n",
       "      <th>new</th>\n",
       "    </tr>\n",
       "    <tr>\n",
       "      <th>region</th>\n",
       "      <th></th>\n",
       "      <th></th>\n",
       "    </tr>\n",
       "  </thead>\n",
       "  <tbody>\n",
       "    <tr>\n",
       "      <th>ASIA</th>\n",
       "      <td>1.570369</td>\n",
       "      <td>0.768812</td>\n",
       "    </tr>\n",
       "    <tr>\n",
       "      <th>CIS</th>\n",
       "      <td>1.787916</td>\n",
       "      <td>0.041838</td>\n",
       "    </tr>\n",
       "    <tr>\n",
       "      <th>LAM</th>\n",
       "      <td>0.571919</td>\n",
       "      <td>1.432602</td>\n",
       "    </tr>\n",
       "    <tr>\n",
       "      <th>MAF</th>\n",
       "      <td>0.965223</td>\n",
       "      <td>3.202140</td>\n",
       "    </tr>\n",
       "    <tr>\n",
       "      <th>OCDE</th>\n",
       "      <td>0.945221</td>\n",
       "      <td>0.050970</td>\n",
       "    </tr>\n",
       "  </tbody>\n",
       "</table>\n",
       "</div>"
      ],
      "text/plain": [
       "costtype     maint       new\n",
       "region                      \n",
       "ASIA      1.570369  0.768812\n",
       "CIS       1.787916  0.041838\n",
       "LAM       0.571919  1.432602\n",
       "MAF       0.965223  3.202140\n",
       "OCDE      0.945221  0.050970"
      ]
     },
     "execution_count": 94,
     "metadata": {},
     "output_type": "execute_result"
    }
   ],
   "source": [
    "100*best_scenario.set_index([\"region\",\"costtype\"]).divided_by_gdp.unstack(\"costtype\")"
   ]
  },
  {
   "cell_type": "code",
   "execution_count": null,
   "metadata": {
    "collapsed": true
   },
   "outputs": [],
   "source": []
  },
  {
   "cell_type": "code",
   "execution_count": null,
   "metadata": {
    "collapsed": true
   },
   "outputs": [],
   "source": []
  },
  {
   "cell_type": "code",
   "execution_count": 88,
   "metadata": {},
   "outputs": [
    {
     "name": "stdout",
     "output_type": "stream",
     "text": [
      "['ur_ideal', 'ind_growth', 'ind_trans_S'] 0.583213556633\n"
     ]
    },
    {
     "name": "stderr",
     "output_type": "stream",
     "text": [
      "C:\\Anaconda3\\lib\\site-packages\\scipy\\stats\\_distn_infrastructure.py:879: RuntimeWarning: invalid value encountered in greater\n",
      "  return (self.a < x) & (x < self.b)\n",
      "C:\\Anaconda3\\lib\\site-packages\\scipy\\stats\\_distn_infrastructure.py:879: RuntimeWarning: invalid value encountered in less\n",
      "  return (self.a < x) & (x < self.b)\n",
      "C:\\Anaconda3\\lib\\site-packages\\scipy\\stats\\_distn_infrastructure.py:1818: RuntimeWarning: invalid value encountered in less_equal\n",
      "  cond2 = cond0 & (x <= self.a)\n"
     ]
    }
   ],
   "source": [
    "subframe = world.disc_value.unstack(\"costtype\")[\"new\"].unstack(\"transpmode\")['allmodes'].reset_index()\n",
    "subframe = subframe.loc[subframe.urt_ideal==30000,:]\n",
    "\n",
    "drivers,sumvar = drivers_from_anova2(\"allmodes\",subframe)\n",
    "\n",
    "print(drivers, sumvar)"
   ]
  },
  {
   "cell_type": "code",
   "execution_count": 86,
   "metadata": {},
   "outputs": [],
   "source": [
    "paul = all_data.divided_by_gdp.unstack(\"transpmode\").drop(['rail','hsr'],axis=1)\n",
    "paul = paul.reset_index()\n",
    "#paul = paul.loc[paul.region!=\"OCDE\",:]\n",
    "#paul[\"region\"] = paul.region.replace({\"MAF\":\"MNA+SSA\",\"LAM\":\"LAC\",\"CIS\":\"ECA\",\"ASIA\":\"SAS+EAP\",\"OCDE\":\"OECD\"})\n",
    "\n",
    "paul[\"region\"] = paul.region.replace({\"MAF\":\"Middle East\\nand Africa\",\\\n",
    "                                      \"LAM\":\"Latin America\\nand Caribbean\",\\\n",
    "                                      \"CIS\":\"Former\\nSoviet Union\",\\\n",
    "                                      \"ASIA\":\"Asia\",\\\n",
    "                                      \"OCDE\":\"OECD\"})\n",
    "\n",
    "paul[\"allmodes\"] = 100*paul[\"allmodes\"]"
   ]
  },
  {
   "cell_type": "code",
   "execution_count": 87,
   "metadata": {},
   "outputs": [
    {
     "data": {
      "text/html": [
       "<div>\n",
       "<style scoped>\n",
       "    .dataframe tbody tr th:only-of-type {\n",
       "        vertical-align: middle;\n",
       "    }\n",
       "\n",
       "    .dataframe tbody tr th {\n",
       "        vertical-align: top;\n",
       "    }\n",
       "\n",
       "    .dataframe thead th {\n",
       "        text-align: right;\n",
       "    }\n",
       "</style>\n",
       "<table border=\"1\" class=\"dataframe\">\n",
       "  <thead>\n",
       "    <tr style=\"text-align: right;\">\n",
       "      <th>transpmode</th>\n",
       "      <th>allmodes</th>\n",
       "    </tr>\n",
       "    <tr>\n",
       "      <th>region</th>\n",
       "      <th></th>\n",
       "    </tr>\n",
       "  </thead>\n",
       "  <tbody>\n",
       "    <tr>\n",
       "      <th>Asia</th>\n",
       "      <td>1.286067</td>\n",
       "    </tr>\n",
       "    <tr>\n",
       "      <th>Former\\nSoviet Union</th>\n",
       "      <td>1.518279</td>\n",
       "    </tr>\n",
       "    <tr>\n",
       "      <th>Latin America\\nand Caribbean</th>\n",
       "      <td>0.493271</td>\n",
       "    </tr>\n",
       "    <tr>\n",
       "      <th>Middle East\\nand Africa</th>\n",
       "      <td>0.773341</td>\n",
       "    </tr>\n",
       "    <tr>\n",
       "      <th>OECD</th>\n",
       "      <td>0.859854</td>\n",
       "    </tr>\n",
       "  </tbody>\n",
       "</table>\n",
       "</div>"
      ],
      "text/plain": [
       "transpmode                    allmodes\n",
       "region                                \n",
       "Asia                          1.286067\n",
       "Former\\nSoviet Union          1.518279\n",
       "Latin America\\nand Caribbean  0.493271\n",
       "Middle East\\nand Africa       0.773341\n",
       "OECD                          0.859854"
      ]
     },
     "execution_count": 87,
     "metadata": {},
     "output_type": "execute_result"
    }
   ],
   "source": [
    "paul.loc[paul.costtype==\"maint\",[\"allmodes\",\"region\"]].groupby(\"region\").min()"
   ]
  },
  {
   "cell_type": "code",
   "execution_count": 88,
   "metadata": {},
   "outputs": [
    {
     "data": {
      "text/html": [
       "<div>\n",
       "<style scoped>\n",
       "    .dataframe tbody tr th:only-of-type {\n",
       "        vertical-align: middle;\n",
       "    }\n",
       "\n",
       "    .dataframe tbody tr th {\n",
       "        vertical-align: top;\n",
       "    }\n",
       "\n",
       "    .dataframe thead th {\n",
       "        text-align: right;\n",
       "    }\n",
       "</style>\n",
       "<table border=\"1\" class=\"dataframe\">\n",
       "  <thead>\n",
       "    <tr style=\"text-align: right;\">\n",
       "      <th>transpmode</th>\n",
       "      <th>allmodes</th>\n",
       "    </tr>\n",
       "    <tr>\n",
       "      <th>region</th>\n",
       "      <th></th>\n",
       "    </tr>\n",
       "  </thead>\n",
       "  <tbody>\n",
       "    <tr>\n",
       "      <th>Asia</th>\n",
       "      <td>2.883967</td>\n",
       "    </tr>\n",
       "    <tr>\n",
       "      <th>Former\\nSoviet Union</th>\n",
       "      <td>2.791344</td>\n",
       "    </tr>\n",
       "    <tr>\n",
       "      <th>Latin America\\nand Caribbean</th>\n",
       "      <td>0.887510</td>\n",
       "    </tr>\n",
       "    <tr>\n",
       "      <th>Middle East\\nand Africa</th>\n",
       "      <td>1.394999</td>\n",
       "    </tr>\n",
       "    <tr>\n",
       "      <th>OECD</th>\n",
       "      <td>1.190104</td>\n",
       "    </tr>\n",
       "  </tbody>\n",
       "</table>\n",
       "</div>"
      ],
      "text/plain": [
       "transpmode                    allmodes\n",
       "region                                \n",
       "Asia                          2.883967\n",
       "Former\\nSoviet Union          2.791344\n",
       "Latin America\\nand Caribbean  0.887510\n",
       "Middle East\\nand Africa       1.394999\n",
       "OECD                          1.190104"
      ]
     },
     "execution_count": 88,
     "metadata": {},
     "output_type": "execute_result"
    }
   ],
   "source": [
    "paul.loc[paul.costtype==\"maint\",[\"allmodes\",\"region\"]].groupby(\"region\").max()"
   ]
  },
  {
   "cell_type": "code",
   "execution_count": 90,
   "metadata": {},
   "outputs": [
    {
     "data": {
      "image/png": "[encoded data removed]",
      "text/plain": [
       "<Figure size 1080x576 with 1 Axes>"
      ]
     },
     "metadata": {},
     "output_type": "display_data"
    }
   ],
   "source": [
    "fig2, ax2 = plt.subplots()\n",
    "sns.boxplot(x=\"region\",y=\"allmodes\",hue=\"costtype\",data=paul.replace({\"maint\":\"maintenance\",\"new\":\"capital investments\"}),ax=ax2)\n",
    "fig2.set_size_inches(15, 8)\n",
    "ax2.set_xlabel(\"\")\n",
    "ax2.set_ylabel(\"Average annual costs 2015-2030 (% GDP)\")\n",
    "plt.legend(title=\"\",bbox_to_anchor=(1.005, 0.6))\n",
    "plt.savefig(\"imaclim_per_region_share_gdp_k_maint.png\",ddpi=300,bbox_inches=\"tight\")\n",
    "plt.savefig(\"imaclim_per_region_share_gdp_k_maint.pdf\")\n",
    "\n",
    "plt.savefig(\"C:\\\\Users\\\\WB451855\\\\OneDrive - WBG\\\\infrastructure needs\\\\infra_needs_writing_process\\\\graphs\\\\chapter 4\\\\fig4_14.eps\")"
   ]
  },
  {
   "cell_type": "code",
   "execution_count": 353,
   "metadata": {},
   "outputs": [
    {
     "data": {
      "image/png": "[encoded data removed]",
      "text/plain": [
       "<matplotlib.figure.Figure at 0x21baec605f8>"
      ]
     },
     "metadata": {},
     "output_type": "display_data"
    }
   ],
   "source": [
    "to_plot[\"costtype\"] = to_plot.costtype.replace({\"maint\":\"maintenance\",\"new\":\"investments\"})\n",
    "\n",
    "fig1, ax1 = plt.subplots()\n",
    "\n",
    "sns.boxplot(x=\"region\",y=\"allmodes\",hue=\"costtype\",data=to_plot,ax=ax1)\n",
    "fig1.set_size_inches(10, 7)\n",
    "ax1.set_xlabel(\"\")\n",
    "ax1.set_ylabel(\"Investment needs 2015-2030 (Billion USD)\")\n",
    "plt.legend(title=\"\",bbox_to_anchor=(1.005, 0.6))\n",
    "\n",
    "plt.savefig(\"CIRED_total_per_region.png\",ddpi=300,bbox_inches=\"tight\")\n",
    "plt.savefig(\"CIRED_total_per_region.pdf\")"
   ]
  },
  {
   "cell_type": "code",
   "execution_count": 396,
   "metadata": {
    "collapsed": true
   },
   "outputs": [],
   "source": [
    "bb = all_data.disc_value.unstack(\"transpmode\")[\"allmodes\"].unstack(\"region\").drop(\"OCDE\",axis=1).sum(axis=1).unstack(\"costtype\")[\"new\"]"
   ]
  },
  {
   "cell_type": "code",
   "execution_count": 397,
   "metadata": {
    "collapsed": true
   },
   "outputs": [],
   "source": [
    "forprim = bb.reset_index()"
   ]
  },
  {
   "cell_type": "code",
   "execution_count": 398,
   "metadata": {},
   "outputs": [
    {
     "data": {
      "text/plain": [
       "Index(['combi', 'ind_climat', 'ind_growth', 'ind_mitig', 'ind_trans_A',\n",
       "       'ind_trans_S', 'ind_trans_I', 'ind_trans_F', 'modal_scenario',\n",
       "       'ur_ideal', 'urt_ideal', 'delay', 'costs_evolution_road',\n",
       "       'costs_evolution_rail', 'new'],\n",
       "      dtype='object')"
      ]
     },
     "execution_count": 398,
     "metadata": {},
     "output_type": "execute_result"
    }
   ],
   "source": [
    "forprim.columns"
   ]
  },
  {
   "cell_type": "code",
   "execution_count": 399,
   "metadata": {},
   "outputs": [
    {
     "data": {
      "text/plain": [
       "count    41472.000000\n",
       "mean      4471.871979\n",
       "std       1586.703538\n",
       "min       1282.288288\n",
       "25%       3241.739707\n",
       "50%       4153.483499\n",
       "75%       5597.622848\n",
       "max       9608.907676\n",
       "Name: new, dtype: float64"
      ]
     },
     "execution_count": 399,
     "metadata": {},
     "output_type": "execute_result"
    }
   ],
   "source": [
    "forprim.new.describe()"
   ]
  },
  {
   "cell_type": "code",
   "execution_count": 452,
   "metadata": {},
   "outputs": [
    {
     "data": {
      "image/png": "[encoded data removed]",
      "text/plain": [
       "<matplotlib.figure.Figure at 0x21bd1c4e748>"
      ]
     },
     "metadata": {},
     "output_type": "display_data"
    }
   ],
   "source": [
    "p = prim.Prim(forprim[['ind_climat', 'ind_growth', 'ind_mitig', 'ind_trans_A',\n",
    "       'ind_trans_S', 'ind_trans_I', 'ind_trans_F', 'modal_scenario',\n",
    "       'ur_ideal', 'urt_ideal', 'delay', 'costs_evolution_road',\n",
    "       'costs_evolution_rail']], forprim.new, threshold=4000, threshold_type=\"<\")\n",
    "\n",
    "box = p.find_box()\n",
    "box.show_tradeoff();"
   ]
  },
  {
   "cell_type": "code",
   "execution_count": 453,
   "metadata": {},
   "outputs": [
    {
     "name": "stdout",
     "output_type": "stream",
     "text": [
      "0.896135139376 0.82634066358\n"
     ]
    },
    {
     "data": {
      "text/html": [
       "<div>\n",
       "<style>\n",
       "    .dataframe thead tr:only-child th {\n",
       "        text-align: right;\n",
       "    }\n",
       "\n",
       "    .dataframe thead th {\n",
       "        text-align: left;\n",
       "    }\n",
       "\n",
       "    .dataframe tbody tr th {\n",
       "        vertical-align: top;\n",
       "    }\n",
       "</style>\n",
       "<table border=\"1\" class=\"dataframe\">\n",
       "  <thead>\n",
       "    <tr style=\"text-align: right;\">\n",
       "      <th></th>\n",
       "      <th>min</th>\n",
       "      <th>max</th>\n",
       "      <th>qp values</th>\n",
       "    </tr>\n",
       "  </thead>\n",
       "  <tbody>\n",
       "    <tr>\n",
       "      <th>urt_ideal</th>\n",
       "      <td>30000.0</td>\n",
       "      <td>30000.0</td>\n",
       "      <td>0.0</td>\n",
       "    </tr>\n",
       "  </tbody>\n",
       "</table>\n",
       "</div>"
      ],
      "text/plain": [
       "               min      max  qp values\n",
       "urt_ideal  30000.0  30000.0        0.0"
      ]
     },
     "execution_count": 453,
     "metadata": {},
     "output_type": "execute_result"
    }
   ],
   "source": [
    "box.select(1)\n",
    "print(box.coverage,box.density)\n",
    "box.limits"
   ]
  },
  {
   "cell_type": "code",
   "execution_count": 400,
   "metadata": {
    "collapsed": true
   },
   "outputs": [],
   "source": [
    "p = prim.Prim(forprim[['ind_climat', 'ind_growth', 'ind_mitig', 'ind_trans_A',\n",
    "       'ind_trans_S', 'ind_trans_I', 'ind_trans_F', 'modal_scenario',\n",
    "       'ur_ideal', 'urt_ideal', 'delay', 'costs_evolution_road',\n",
    "       'costs_evolution_rail']], forprim.new, threshold=5600, threshold_type=\">\")"
   ]
  },
  {
   "cell_type": "code",
   "execution_count": 401,
   "metadata": {},
   "outputs": [
    {
     "data": {
      "image/png": "[encoded data removed]",
      "text/plain": [
       "<matplotlib.figure.Figure at 0x21b89338d30>"
      ]
     },
     "metadata": {},
     "output_type": "display_data"
    }
   ],
   "source": [
    "box = p.find_box()\n",
    "box.show_tradeoff();"
   ]
  },
  {
   "cell_type": "code",
   "execution_count": 402,
   "metadata": {},
   "outputs": [
    {
     "name": "stdout",
     "output_type": "stream",
     "text": [
      "0.824449594438 0.82349537037\n"
     ]
    }
   ],
   "source": [
    "box.select(2)\n",
    "print(box.coverage,box.density)"
   ]
  },
  {
   "cell_type": "code",
   "execution_count": 403,
   "metadata": {},
   "outputs": [
    {
     "data": {
      "text/html": [
       "<div>\n",
       "<style>\n",
       "    .dataframe thead tr:only-child th {\n",
       "        text-align: right;\n",
       "    }\n",
       "\n",
       "    .dataframe thead th {\n",
       "        text-align: left;\n",
       "    }\n",
       "\n",
       "    .dataframe tbody tr th {\n",
       "        vertical-align: top;\n",
       "    }\n",
       "</style>\n",
       "<table border=\"1\" class=\"dataframe\">\n",
       "  <thead>\n",
       "    <tr style=\"text-align: right;\">\n",
       "      <th></th>\n",
       "      <th>min</th>\n",
       "      <th>max</th>\n",
       "      <th>qp values</th>\n",
       "    </tr>\n",
       "  </thead>\n",
       "  <tbody>\n",
       "    <tr>\n",
       "      <th>urt_ideal</th>\n",
       "      <td>5000.0</td>\n",
       "      <td>5000.0</td>\n",
       "      <td>0.0</td>\n",
       "    </tr>\n",
       "    <tr>\n",
       "      <th>modal_scenario</th>\n",
       "      <td>1.0</td>\n",
       "      <td>1.0</td>\n",
       "      <td>0.0</td>\n",
       "    </tr>\n",
       "  </tbody>\n",
       "</table>\n",
       "</div>"
      ],
      "text/plain": [
       "                   min     max  qp values\n",
       "urt_ideal       5000.0  5000.0        0.0\n",
       "modal_scenario     1.0     1.0        0.0"
      ]
     },
     "execution_count": 403,
     "metadata": {},
     "output_type": "execute_result"
    }
   ],
   "source": [
    "box.limits"
   ]
  },
  {
   "cell_type": "code",
   "execution_count": 385,
   "metadata": {},
   "outputs": [
    {
     "data": {
      "text/plain": [
       "array([0, 1], dtype=int64)"
      ]
     },
     "execution_count": 385,
     "metadata": {},
     "output_type": "execute_result"
    }
   ],
   "source": [
    "forprim.modal_scenario.unique()"
   ]
  },
  {
   "cell_type": "code",
   "execution_count": 367,
   "metadata": {},
   "outputs": [
    {
     "data": {
      "text/plain": [
       "array([ 5000, 30000], dtype=int64)"
      ]
     },
     "execution_count": 367,
     "metadata": {},
     "output_type": "execute_result"
    }
   ],
   "source": [
    "forprim.urt_ideal.unique()"
   ]
  },
  {
   "cell_type": "code",
   "execution_count": 368,
   "metadata": {
    "collapsed": true
   },
   "outputs": [],
   "source": [
    "cc = all_data.disc_value.unstack(\"transpmode\")[\"allmodes\"].unstack(\"costtype\").sum(axis=1).rename(columns={0:\"cost\"})"
   ]
  },
  {
   "cell_type": "code",
   "execution_count": 369,
   "metadata": {
    "collapsed": true
   },
   "outputs": [],
   "source": [
    "forprim2 = cc.unstack(\"region\").reset_index()"
   ]
  },
  {
   "cell_type": "code",
   "execution_count": 370,
   "metadata": {},
   "outputs": [
    {
     "data": {
      "text/plain": [
       "Index(['combi', 'ind_climat', 'ind_growth', 'ind_mitig', 'ind_trans_A',\n",
       "       'ind_trans_S', 'ind_trans_I', 'ind_trans_F', 'modal_scenario',\n",
       "       'ur_ideal', 'urt_ideal', 'delay', 'costs_evolution_road',\n",
       "       'costs_evolution_rail', 'ASIA', 'CIS', 'LAM', 'MAF', 'OCDE'],\n",
       "      dtype='object', name='region')"
      ]
     },
     "execution_count": 370,
     "metadata": {},
     "output_type": "execute_result"
    }
   ],
   "source": [
    "forprim2.columns"
   ]
  },
  {
   "cell_type": "code",
   "execution_count": 371,
   "metadata": {},
   "outputs": [
    {
     "data": {
      "text/html": [
       "<div>\n",
       "<style>\n",
       "    .dataframe thead tr:only-child th {\n",
       "        text-align: right;\n",
       "    }\n",
       "\n",
       "    .dataframe thead th {\n",
       "        text-align: left;\n",
       "    }\n",
       "\n",
       "    .dataframe tbody tr th {\n",
       "        vertical-align: top;\n",
       "    }\n",
       "</style>\n",
       "<table border=\"1\" class=\"dataframe\">\n",
       "  <thead>\n",
       "    <tr style=\"text-align: right;\">\n",
       "      <th>region</th>\n",
       "      <th>ASIA</th>\n",
       "      <th>LAM</th>\n",
       "      <th>CIS</th>\n",
       "      <th>MAF</th>\n",
       "    </tr>\n",
       "  </thead>\n",
       "  <tbody>\n",
       "    <tr>\n",
       "      <th>count</th>\n",
       "      <td>41472.000000</td>\n",
       "      <td>41472.000000</td>\n",
       "      <td>41472.000000</td>\n",
       "      <td>41472.000000</td>\n",
       "    </tr>\n",
       "    <tr>\n",
       "      <th>mean</th>\n",
       "      <td>4059.402678</td>\n",
       "      <td>1668.853176</td>\n",
       "      <td>740.837149</td>\n",
       "      <td>2378.183960</td>\n",
       "    </tr>\n",
       "    <tr>\n",
       "      <th>std</th>\n",
       "      <td>669.686058</td>\n",
       "      <td>440.100474</td>\n",
       "      <td>214.178027</td>\n",
       "      <td>605.442248</td>\n",
       "    </tr>\n",
       "    <tr>\n",
       "      <th>min</th>\n",
       "      <td>2758.885645</td>\n",
       "      <td>917.899704</td>\n",
       "      <td>501.781292</td>\n",
       "      <td>933.944643</td>\n",
       "    </tr>\n",
       "    <tr>\n",
       "      <th>25%</th>\n",
       "      <td>3547.022867</td>\n",
       "      <td>1316.135161</td>\n",
       "      <td>543.771832</td>\n",
       "      <td>1938.004959</td>\n",
       "    </tr>\n",
       "    <tr>\n",
       "      <th>50%</th>\n",
       "      <td>4028.322399</td>\n",
       "      <td>1561.212699</td>\n",
       "      <td>687.614444</td>\n",
       "      <td>2372.061490</td>\n",
       "    </tr>\n",
       "    <tr>\n",
       "      <th>75%</th>\n",
       "      <td>4470.024703</td>\n",
       "      <td>1963.117959</td>\n",
       "      <td>923.149275</td>\n",
       "      <td>2773.934465</td>\n",
       "    </tr>\n",
       "    <tr>\n",
       "      <th>max</th>\n",
       "      <td>5971.275123</td>\n",
       "      <td>3159.824019</td>\n",
       "      <td>1332.069240</td>\n",
       "      <td>4310.733445</td>\n",
       "    </tr>\n",
       "  </tbody>\n",
       "</table>\n",
       "</div>"
      ],
      "text/plain": [
       "region          ASIA           LAM           CIS           MAF\n",
       "count   41472.000000  41472.000000  41472.000000  41472.000000\n",
       "mean     4059.402678   1668.853176    740.837149   2378.183960\n",
       "std       669.686058    440.100474    214.178027    605.442248\n",
       "min      2758.885645    917.899704    501.781292    933.944643\n",
       "25%      3547.022867   1316.135161    543.771832   1938.004959\n",
       "50%      4028.322399   1561.212699    687.614444   2372.061490\n",
       "75%      4470.024703   1963.117959    923.149275   2773.934465\n",
       "max      5971.275123   3159.824019   1332.069240   4310.733445"
      ]
     },
     "execution_count": 371,
     "metadata": {},
     "output_type": "execute_result"
    }
   ],
   "source": [
    "forprim2[[\"ASIA\",\"LAM\",\"CIS\",\"MAF\"]].describe()"
   ]
  },
  {
   "cell_type": "code",
   "execution_count": 372,
   "metadata": {},
   "outputs": [
    {
     "data": {
      "image/png": "[encoded data removed]",
      "text/plain": [
       "<matplotlib.figure.Figure at 0x21b89edf4e0>"
      ]
     },
     "metadata": {},
     "output_type": "display_data"
    }
   ],
   "source": [
    "p2 = prim.Prim(forprim2[['ind_climat', 'ind_growth', 'ind_mitig', 'ind_trans_A',\n",
    "       'ind_trans_S', 'ind_trans_I', 'ind_trans_F', 'modal_scenario',\n",
    "       'ur_ideal', 'urt_ideal', 'delay', 'costs_evolution_road',\n",
    "       'costs_evolution_rail']], forprim2.ASIA, threshold=4500, threshold_type=\">\")\n",
    "\n",
    "box2 = p2.find_box()\n",
    "box2.show_tradeoff();"
   ]
  },
  {
   "cell_type": "code",
   "execution_count": 373,
   "metadata": {},
   "outputs": [
    {
     "name": "stdout",
     "output_type": "stream",
     "text": [
      "0.814552087556 0.775270061728\n"
     ]
    }
   ],
   "source": [
    "box2.select(2)\n",
    "print(box2.coverage,box2.density)"
   ]
  },
  {
   "cell_type": "code",
   "execution_count": 374,
   "metadata": {},
   "outputs": [
    {
     "data": {
      "text/html": [
       "<div>\n",
       "<style>\n",
       "    .dataframe thead tr:only-child th {\n",
       "        text-align: right;\n",
       "    }\n",
       "\n",
       "    .dataframe thead th {\n",
       "        text-align: left;\n",
       "    }\n",
       "\n",
       "    .dataframe tbody tr th {\n",
       "        vertical-align: top;\n",
       "    }\n",
       "</style>\n",
       "<table border=\"1\" class=\"dataframe\">\n",
       "  <thead>\n",
       "    <tr style=\"text-align: right;\">\n",
       "      <th></th>\n",
       "      <th>min</th>\n",
       "      <th>max</th>\n",
       "      <th>qp values</th>\n",
       "    </tr>\n",
       "  </thead>\n",
       "  <tbody>\n",
       "    <tr>\n",
       "      <th>urt_ideal</th>\n",
       "      <td>5000.0</td>\n",
       "      <td>5000.0</td>\n",
       "      <td>0.0</td>\n",
       "    </tr>\n",
       "    <tr>\n",
       "      <th>modal_scenario</th>\n",
       "      <td>1.0</td>\n",
       "      <td>1.0</td>\n",
       "      <td>0.0</td>\n",
       "    </tr>\n",
       "  </tbody>\n",
       "</table>\n",
       "</div>"
      ],
      "text/plain": [
       "                   min     max  qp values\n",
       "urt_ideal       5000.0  5000.0        0.0\n",
       "modal_scenario     1.0     1.0        0.0"
      ]
     },
     "execution_count": 374,
     "metadata": {},
     "output_type": "execute_result"
    }
   ],
   "source": [
    "box2.limits"
   ]
  },
  {
   "cell_type": "code",
   "execution_count": 375,
   "metadata": {},
   "outputs": [
    {
     "data": {
      "image/png": "[encoded data removed]",
      "text/plain": [
       "<matplotlib.figure.Figure at 0x21bb1af0358>"
      ]
     },
     "metadata": {},
     "output_type": "display_data"
    }
   ],
   "source": [
    "p3 = prim.Prim(forprim2[['ind_climat', 'ind_growth', 'ind_mitig', 'ind_trans_A',\n",
    "       'ind_trans_S', 'ind_trans_I', 'ind_trans_F', 'modal_scenario',\n",
    "       'ur_ideal', 'urt_ideal', 'delay', 'costs_evolution_road',\n",
    "       'costs_evolution_rail']], forprim2.LAM, threshold=2000, threshold_type=\">\")\n",
    "\n",
    "box3 = p3.find_box()\n",
    "box3.show_tradeoff();"
   ]
  },
  {
   "cell_type": "code",
   "execution_count": 376,
   "metadata": {},
   "outputs": [
    {
     "name": "stdout",
     "output_type": "stream",
     "text": [
      "0.875454828984 0.812210648148\n"
     ]
    }
   ],
   "source": [
    "box3.select(2)\n",
    "print(box3.coverage,box3.density)"
   ]
  },
  {
   "cell_type": "code",
   "execution_count": 377,
   "metadata": {},
   "outputs": [
    {
     "data": {
      "text/html": [
       "<div>\n",
       "<style>\n",
       "    .dataframe thead tr:only-child th {\n",
       "        text-align: right;\n",
       "    }\n",
       "\n",
       "    .dataframe thead th {\n",
       "        text-align: left;\n",
       "    }\n",
       "\n",
       "    .dataframe tbody tr th {\n",
       "        vertical-align: top;\n",
       "    }\n",
       "</style>\n",
       "<table border=\"1\" class=\"dataframe\">\n",
       "  <thead>\n",
       "    <tr style=\"text-align: right;\">\n",
       "      <th></th>\n",
       "      <th>min</th>\n",
       "      <th>max</th>\n",
       "      <th>qp values</th>\n",
       "    </tr>\n",
       "  </thead>\n",
       "  <tbody>\n",
       "    <tr>\n",
       "      <th>urt_ideal</th>\n",
       "      <td>5000.0</td>\n",
       "      <td>5000.0</td>\n",
       "      <td>0.0</td>\n",
       "    </tr>\n",
       "    <tr>\n",
       "      <th>modal_scenario</th>\n",
       "      <td>1.0</td>\n",
       "      <td>1.0</td>\n",
       "      <td>0.0</td>\n",
       "    </tr>\n",
       "  </tbody>\n",
       "</table>\n",
       "</div>"
      ],
      "text/plain": [
       "                   min     max  qp values\n",
       "urt_ideal       5000.0  5000.0        0.0\n",
       "modal_scenario     1.0     1.0        0.0"
      ]
     },
     "execution_count": 377,
     "metadata": {},
     "output_type": "execute_result"
    }
   ],
   "source": [
    "box3.limits"
   ]
  },
  {
   "cell_type": "code",
   "execution_count": 378,
   "metadata": {},
   "outputs": [
    {
     "data": {
      "image/png": "[encoded data removed]",
      "text/plain": [
       "<matplotlib.figure.Figure at 0x21bb306afd0>"
      ]
     },
     "metadata": {},
     "output_type": "display_data"
    }
   ],
   "source": [
    "p4 = prim.Prim(forprim2[['ind_climat', 'ind_growth', 'ind_mitig', 'ind_trans_A',\n",
    "       'ind_trans_S', 'ind_trans_I', 'ind_trans_F', 'modal_scenario',\n",
    "       'ur_ideal', 'urt_ideal', 'delay', 'costs_evolution_road',\n",
    "       'costs_evolution_rail']], forprim2.MAF, threshold=2700, threshold_type=\">\")\n",
    "\n",
    "box4 = p4.find_box()\n",
    "box4.show_tradeoff();"
   ]
  },
  {
   "cell_type": "code",
   "execution_count": 379,
   "metadata": {},
   "outputs": [
    {
     "name": "stdout",
     "output_type": "stream",
     "text": [
      "0.644897277434 0.744791666667\n"
     ]
    }
   ],
   "source": [
    "box4.select(2)\n",
    "print(box4.coverage,box4.density)"
   ]
  },
  {
   "cell_type": "code",
   "execution_count": 380,
   "metadata": {},
   "outputs": [
    {
     "data": {
      "text/html": [
       "<div>\n",
       "<style>\n",
       "    .dataframe thead tr:only-child th {\n",
       "        text-align: right;\n",
       "    }\n",
       "\n",
       "    .dataframe thead th {\n",
       "        text-align: left;\n",
       "    }\n",
       "\n",
       "    .dataframe tbody tr th {\n",
       "        vertical-align: top;\n",
       "    }\n",
       "</style>\n",
       "<table border=\"1\" class=\"dataframe\">\n",
       "  <thead>\n",
       "    <tr style=\"text-align: right;\">\n",
       "      <th></th>\n",
       "      <th>min</th>\n",
       "      <th>max</th>\n",
       "      <th>qp values</th>\n",
       "    </tr>\n",
       "  </thead>\n",
       "  <tbody>\n",
       "    <tr>\n",
       "      <th>urt_ideal</th>\n",
       "      <td>5000.0</td>\n",
       "      <td>5000.0</td>\n",
       "      <td>0.0</td>\n",
       "    </tr>\n",
       "    <tr>\n",
       "      <th>ur_ideal</th>\n",
       "      <td>600.0</td>\n",
       "      <td>600.0</td>\n",
       "      <td>0.0</td>\n",
       "    </tr>\n",
       "  </tbody>\n",
       "</table>\n",
       "</div>"
      ],
      "text/plain": [
       "              min     max  qp values\n",
       "urt_ideal  5000.0  5000.0        0.0\n",
       "ur_ideal    600.0   600.0        0.0"
      ]
     },
     "execution_count": 380,
     "metadata": {},
     "output_type": "execute_result"
    }
   ],
   "source": [
    "box4.limits"
   ]
  },
  {
   "cell_type": "code",
   "execution_count": 381,
   "metadata": {},
   "outputs": [
    {
     "data": {
      "image/png": "[encoded data removed]",
      "text/plain": [
       "<matplotlib.figure.Figure at 0x21b8b94b828>"
      ]
     },
     "metadata": {},
     "output_type": "display_data"
    }
   ],
   "source": [
    "p5 = prim.Prim(forprim2[['ind_climat', 'ind_growth', 'ind_mitig', 'ind_trans_A',\n",
    "       'ind_trans_S', 'ind_trans_I', 'ind_trans_F', 'modal_scenario',\n",
    "       'ur_ideal', 'urt_ideal', 'delay', 'costs_evolution_road',\n",
    "       'costs_evolution_rail']], forprim2.CIS, threshold=920, threshold_type=\">\")\n",
    "\n",
    "box5 = p5.find_box()\n",
    "box5.show_tradeoff();"
   ]
  },
  {
   "cell_type": "code",
   "execution_count": 382,
   "metadata": {},
   "outputs": [
    {
     "name": "stdout",
     "output_type": "stream",
     "text": [
      "0.761931818182 0.776041666667\n"
     ]
    }
   ],
   "source": [
    "box5.select(2)\n",
    "print(box5.coverage,box5.density)"
   ]
  },
  {
   "cell_type": "code",
   "execution_count": 383,
   "metadata": {},
   "outputs": [
    {
     "data": {
      "text/html": [
       "<div>\n",
       "<style>\n",
       "    .dataframe thead tr:only-child th {\n",
       "        text-align: right;\n",
       "    }\n",
       "\n",
       "    .dataframe thead th {\n",
       "        text-align: left;\n",
       "    }\n",
       "\n",
       "    .dataframe tbody tr th {\n",
       "        vertical-align: top;\n",
       "    }\n",
       "</style>\n",
       "<table border=\"1\" class=\"dataframe\">\n",
       "  <thead>\n",
       "    <tr style=\"text-align: right;\">\n",
       "      <th></th>\n",
       "      <th>min</th>\n",
       "      <th>max</th>\n",
       "      <th>qp values</th>\n",
       "    </tr>\n",
       "  </thead>\n",
       "  <tbody>\n",
       "    <tr>\n",
       "      <th>delay</th>\n",
       "      <td>35.0</td>\n",
       "      <td>35.0</td>\n",
       "      <td>0.0</td>\n",
       "    </tr>\n",
       "    <tr>\n",
       "      <th>urt_ideal</th>\n",
       "      <td>5000.0</td>\n",
       "      <td>5000.0</td>\n",
       "      <td>0.0</td>\n",
       "    </tr>\n",
       "  </tbody>\n",
       "</table>\n",
       "</div>"
      ],
      "text/plain": [
       "              min     max  qp values\n",
       "delay        35.0    35.0        0.0\n",
       "urt_ideal  5000.0  5000.0        0.0"
      ]
     },
     "execution_count": 383,
     "metadata": {},
     "output_type": "execute_result"
    }
   ],
   "source": [
    "box5.limits"
   ]
  },
  {
   "cell_type": "code",
   "execution_count": 384,
   "metadata": {},
   "outputs": [
    {
     "data": {
      "text/plain": [
       "array([ 5000, 30000], dtype=int64)"
      ]
     },
     "execution_count": 384,
     "metadata": {},
     "output_type": "execute_result"
    }
   ],
   "source": [
    "forprim.urt_ideal.unique()"
   ]
  },
  {
   "cell_type": "code",
   "execution_count": 456,
   "metadata": {},
   "outputs": [
    {
     "data": {
      "text/plain": [
       "array([600, 900], dtype=int64)"
      ]
     },
     "execution_count": 456,
     "metadata": {},
     "output_type": "execute_result"
    }
   ],
   "source": [
    "forprim.ur_ideal.unique()"
   ]
  },
  {
   "cell_type": "code",
   "execution_count": null,
   "metadata": {
    "collapsed": true
   },
   "outputs": [],
   "source": []
  }
 ],
 "metadata": {
  "kernelspec": {
   "display_name": "Python (Julie1)",
   "language": "python",
   "name": "julie1"
  },
  "language_info": {
   "codemirror_mode": {
    "name": "ipython",
    "version": 3
   },
   "file_extension": ".py",
   "mimetype": "text/x-python",
   "name": "python",
   "nbconvert_exporter": "python",
   "pygments_lexer": "ipython3",
   "version": "3.6.6"
  },
  "toc": {
   "colors": {
    "hover_highlight": "#DAA520",
    "navigate_num": "#000000",
    "navigate_text": "#333333",
    "running_highlight": "#FF0000",
    "selected_highlight": "#FFD700",
    "sidebar_border": "#EEEEEE",
    "wrapper_background": "#FFFFFF"
   },
   "moveMenuLeft": true,
   "nav_menu": {
    "height": "12px",
    "width": "252px"
   },
   "navigate_menu": true,
   "number_sections": true,
   "sideBar": true,
   "threshold": 4,
   "toc_cell": false,
   "toc_section_display": "block",
   "toc_window_display": false,
   "widenNotebook": false
  }
 },
 "nbformat": 4,
 "nbformat_minor": 2
}
