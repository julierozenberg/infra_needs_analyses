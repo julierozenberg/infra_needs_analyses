{
 "cells": [
  {
   "cell_type": "code",
   "execution_count": 117,
   "metadata": {},
   "outputs": [],
   "source": [
    "import pandas as pd"
   ]
  },
  {
   "cell_type": "code",
   "execution_count": 118,
   "metadata": {},
   "outputs": [
    {
     "data": {
      "text/plain": [
       "['percent GDP', 'GDP']"
      ]
     },
     "execution_count": 118,
     "metadata": {},
     "output_type": "execute_result"
    }
   ],
   "source": [
    "xl = pd.ExcelFile('C:\\\\Users\\\\WB451855\\\\OneDrive - WBG\\\\!infra_needs_data\\\\summary_all_data.xlsx')\n",
    "\n",
    "xl.sheet_names  # see all sheet names"
   ]
  },
  {
   "cell_type": "code",
   "execution_count": 119,
   "metadata": {},
   "outputs": [],
   "source": [
    "GDP = xl.parse(\"GDP\")  # read a specific sheet to DataFrame"
   ]
  },
  {
   "cell_type": "code",
   "execution_count": 120,
   "metadata": {},
   "outputs": [],
   "source": [
    "GDP2 = GDP.set_index([\"wbregionname\",\"year\",\"ssp\"]).gdp.unstack(\"wbregionname\")"
   ]
  },
  {
   "cell_type": "code",
   "execution_count": 121,
   "metadata": {},
   "outputs": [
    {
     "data": {
      "text/plain": [
       "Index(['East Asia and Pacific', 'Europe and Central Asia',\n",
       "       'Latin America and Caribbean', 'Middle East and North Africa',\n",
       "       'South Asia', 'Sub-Saharan Africa'],\n",
       "      dtype='object', name='wbregionname')"
      ]
     },
     "execution_count": 121,
     "metadata": {},
     "output_type": "execute_result"
    }
   ],
   "source": [
    "GDP2.columns"
   ]
  },
  {
   "cell_type": "code",
   "execution_count": 122,
   "metadata": {},
   "outputs": [],
   "source": [
    "GDP2 = GDP2.rename(columns={\"Europe and Central Asia\":\"Eastern Europe and Central Asia\",\n",
    "                            \"Middle East and North Africa\":\"Middle-East and North Africa\"})"
   ]
  },
  {
   "cell_type": "code",
   "execution_count": 123,
   "metadata": {},
   "outputs": [],
   "source": [
    "GDP2[\"Africa\"] = GDP2[\"Middle-East and North Africa\"]+GDP2[\"Sub-Saharan Africa\"]\n",
    "GDP2[\"Asia\"] = GDP2[\"East Asia and Pacific\"]+GDP2[\"South Asia\"]\n",
    "GDP2[\"all_countries\"] = GDP2[\"Africa\"]+GDP2[\"Asia\"]+GDP2[\"Latin America and Caribbean\"]+GDP2[\"Eastern Europe and Central Asia\"]"
   ]
  },
  {
   "cell_type": "code",
   "execution_count": 124,
   "metadata": {},
   "outputs": [
    {
     "data": {
      "text/plain": [
       "year  ssp   wbregionname                   \n",
       "2016  ssp2  Eastern Europe and Central Asia    3.362070e+12\n",
       "2015  ssp1  Sub-Saharan Africa                 2.406483e+12\n",
       "2023  ssp2  Asia                               2.809969e+13\n",
       "2019  ssp4  Eastern Europe and Central Asia    3.796818e+12\n",
       "2018  ssp2  Latin America and Caribbean        8.966850e+12\n",
       "dtype: float64"
      ]
     },
     "execution_count": 124,
     "metadata": {},
     "output_type": "execute_result"
    }
   ],
   "source": [
    "GDP2.stack().sample(5)"
   ]
  },
  {
   "cell_type": "code",
   "execution_count": 125,
   "metadata": {},
   "outputs": [],
   "source": [
    "res = xl.parse(\"percent GDP\")"
   ]
  },
  {
   "cell_type": "code",
   "execution_count": 126,
   "metadata": {},
   "outputs": [],
   "source": [
    "res[\"sector\"] = res.sector.replace({\"WASH\":\"wash\"})"
   ]
  },
  {
   "cell_type": "code",
   "execution_count": 127,
   "metadata": {},
   "outputs": [
    {
     "data": {
      "text/plain": [
       "array(['all_countries', 'Africa', 'Asia', 'Latin America and Caribbean',\n",
       "       'Former soviet Union', 'Middle-East and North Africa',\n",
       "       'Sub-Saharan Africa', 'South Asia', 'East Asia and Pacific',\n",
       "       'Eastern Europe and Central Asia'], dtype=object)"
      ]
     },
     "execution_count": 127,
     "metadata": {},
     "output_type": "execute_result"
    }
   ],
   "source": [
    "res.region.unique()"
   ]
  },
  {
   "cell_type": "code",
   "execution_count": 128,
   "metadata": {},
   "outputs": [],
   "source": [
    "res['wbregion'] = res.region.copy()\n",
    "res.loc[res.region=='Africa','wbregion'] = 'Sub-Saharan Africa'\n",
    "res.loc[res.region=='Asia','wbregion'] = 'East Asia and Pacific'\n",
    "\n",
    "res.loc[res.region=='Former soviet Union','wbregion'] = 'Eastern Europe and Central Asia'\n",
    "\n",
    "disag_afr = res.loc[res.region=='Africa'].copy()\n",
    "disag_afr.loc[disag_afr.region=='Africa','wbregion'] = 'Middle-East and North Africa'\n",
    "\n",
    "disag_asia = res.loc[res.region=='Asia'].copy()\n",
    "disag_asia.loc[disag_asia.region=='Asia','wbregion'] = 'South Asia'\n",
    "\n",
    "res = res.append(disag_afr).append(disag_asia)"
   ]
  },
  {
   "cell_type": "code",
   "execution_count": 129,
   "metadata": {},
   "outputs": [],
   "source": [
    "res.loc[res.sector==\"energy\",\"ssp\"] = \"ssp2\"\n",
    "res.loc[(res.sector==\"transport\")&(res.scenario==\"best\"),\"ssp\"] = \"ssp2\"\n",
    "res.loc[(res.sector==\"transport\")&(res.scenario==\"min\"),\"ssp\"] = \"ssp1\"\n",
    "res.loc[(res.sector==\"transport\")&(res.scenario==\"max\"),\"ssp\"] = \"ssp3\"\n",
    "res.loc[(res.sector==\"wash\")&(res.scenario==\"best\"),\"ssp\"] = \"ssp2\"\n",
    "res.loc[(res.sector==\"wash\")&(res.scenario==\"min\"),\"ssp\"] = \"ssp2\"\n",
    "res.loc[(res.sector==\"wash\")&(res.scenario==\"max\"),\"ssp\"] = \"ssp4\"\n",
    "res.loc[(res.sector==\"coastal protection\")&(res.scenario==\"best\"),\"ssp\"] = \"ssp2\"\n",
    "res.loc[(res.sector==\"coastal protection\")&(res.scenario==\"min\"),\"ssp\"] = \"ssp2\"\n",
    "res.loc[(res.sector==\"coastal protection\")&(res.scenario==\"max\"),\"ssp\"] = \"ssp5\"\n",
    "res.loc[(res.sector==\"river protection\")&(res.scenario==\"best\"),\"ssp\"] = \"ssp2\"\n",
    "res.loc[(res.sector==\"river protection\")&(res.scenario==\"min\"),\"ssp\"] = \"ssp3\"\n",
    "res.loc[(res.sector==\"river protection\")&(res.scenario==\"max\"),\"ssp\"] = \"ssp2\"\n",
    "res.loc[(res.sector==\"irrigation\")&(res.scenario==\"best\"),\"ssp\"] = \"ssp2\"\n",
    "res.loc[(res.sector==\"irrigation\")&(res.scenario==\"min\"),\"ssp\"] = \"ssp1\"\n",
    "res.loc[(res.sector==\"irrigation\")&(res.scenario==\"max\"),\"ssp\"] = \"ssp2\"\n",
    "\n",
    "res.loc[(res.region==\"all_countries\"),\"ssp\"] = \"ssp2\""
   ]
  },
  {
   "cell_type": "code",
   "execution_count": 130,
   "metadata": {},
   "outputs": [
    {
     "data": {
      "text/html": [
       "<div>\n",
       "<style scoped>\n",
       "    .dataframe tbody tr th:only-of-type {\n",
       "        vertical-align: middle;\n",
       "    }\n",
       "\n",
       "    .dataframe tbody tr th {\n",
       "        vertical-align: top;\n",
       "    }\n",
       "\n",
       "    .dataframe thead th {\n",
       "        text-align: right;\n",
       "    }\n",
       "</style>\n",
       "<table border=\"1\" class=\"dataframe\">\n",
       "  <thead>\n",
       "    <tr style=\"text-align: right;\">\n",
       "      <th></th>\n",
       "      <th>region</th>\n",
       "      <th>sector</th>\n",
       "      <th>scenario</th>\n",
       "      <th>variable</th>\n",
       "      <th>capital vs maintenance</th>\n",
       "      <th>data</th>\n",
       "      <th>wbregion</th>\n",
       "      <th>ssp</th>\n",
       "    </tr>\n",
       "  </thead>\n",
       "  <tbody>\n",
       "  </tbody>\n",
       "</table>\n",
       "</div>"
      ],
      "text/plain": [
       "Empty DataFrame\n",
       "Columns: [region, sector, scenario, variable, capital vs maintenance, data, wbregion, ssp]\n",
       "Index: []"
      ]
     },
     "execution_count": 130,
     "metadata": {},
     "output_type": "execute_result"
    }
   ],
   "source": [
    "res[res.ssp.isnull()]"
   ]
  },
  {
   "cell_type": "code",
   "execution_count": 131,
   "metadata": {},
   "outputs": [],
   "source": [
    "mydata = res.merge(GDP2.stack().reset_index().rename(columns={\"wbregionname\":\"wbregion\",0:\"GDP\"}),on=[\"wbregion\",\"ssp\"])"
   ]
  },
  {
   "cell_type": "code",
   "execution_count": 132,
   "metadata": {},
   "outputs": [],
   "source": [
    "mydata[\"cost_bUSD\"] = 1e-9/100*mydata.data*mydata.GDP"
   ]
  },
  {
   "cell_type": "code",
   "execution_count": 133,
   "metadata": {},
   "outputs": [],
   "source": [
    "d = 0.06\n",
    "mydata[\"discount_factor\"] = (1+d)**(1-(mydata.year.astype(int)-2015))"
   ]
  },
  {
   "cell_type": "code",
   "execution_count": 134,
   "metadata": {},
   "outputs": [],
   "source": [
    "mydata[\"cost_bUSD_disc\"] = mydata[\"cost_bUSD\"]*mydata[\"discount_factor\"]"
   ]
  },
  {
   "cell_type": "code",
   "execution_count": 135,
   "metadata": {},
   "outputs": [],
   "source": [
    "newdata = mydata.set_index([\"wbregion\",\"sector\",\"scenario\",\"capital vs maintenance\",\"year\"]).cost_bUSD_disc.sum(level=[\"wbregion\",\"sector\",\"scenario\",\"capital vs maintenance\"])"
   ]
  },
  {
   "cell_type": "code",
   "execution_count": 136,
   "metadata": {},
   "outputs": [],
   "source": [
    "newdata2 = newdata.reset_index()"
   ]
  },
  {
   "cell_type": "code",
   "execution_count": 137,
   "metadata": {},
   "outputs": [],
   "source": [
    "newdata2[\"cost_bUSD_disc_annual\"] = newdata2[\"cost_bUSD_disc\"]/15"
   ]
  },
  {
   "cell_type": "code",
   "execution_count": 138,
   "metadata": {},
   "outputs": [],
   "source": [
    "final_data = newdata2.merge(res,on=['wbregion','sector','scenario','capital vs maintenance']).drop('cost_bUSD_disc',axis=1).rename(columns={'data':'percent_GDP'})"
   ]
  },
  {
   "cell_type": "code",
   "execution_count": 139,
   "metadata": {},
   "outputs": [],
   "source": [
    "final_data = final_data[final_data.wbregion!=\"all_countries\"].drop([\"variable\",\"ssp\",\"region\"],axis=1)"
   ]
  },
  {
   "cell_type": "code",
   "execution_count": 140,
   "metadata": {},
   "outputs": [],
   "source": [
    "final_data2 = final_data.set_index(['wbregion','sector','scenario','capital vs maintenance']).stack()"
   ]
  },
  {
   "cell_type": "code",
   "execution_count": 141,
   "metadata": {},
   "outputs": [],
   "source": [
    "final_data2 = final_data2.reset_index().rename(columns={\"level_4\":\"usd vs percent\",0:\"data\"})"
   ]
  },
  {
   "cell_type": "code",
   "execution_count": 142,
   "metadata": {},
   "outputs": [],
   "source": [
    "final_data3 = final_data2.set_index(['wbregion','sector','scenario','capital vs maintenance',\"usd vs percent\"]).data.unstack(\"sector\")"
   ]
  },
  {
   "cell_type": "code",
   "execution_count": 143,
   "metadata": {},
   "outputs": [
    {
     "data": {
      "text/plain": [
       "Index(['coastal protection', 'energy', 'irrigation', 'river protection',\n",
       "       'transport', 'wash'],\n",
       "      dtype='object', name='sector')"
      ]
     },
     "execution_count": 143,
     "metadata": {},
     "output_type": "execute_result"
    }
   ],
   "source": [
    "final_data3.columns"
   ]
  },
  {
   "cell_type": "code",
   "execution_count": 144,
   "metadata": {},
   "outputs": [],
   "source": [
    "final_data3['flood protection'] = final_data3['coastal protection']+final_data3['river protection']"
   ]
  },
  {
   "cell_type": "markdown",
   "metadata": {},
   "source": [
    "final_data3['Total'] = final_data3[['flood protection','energy','transport','irrigation','wash']].sum(axis=1)"
   ]
  },
  {
   "cell_type": "code",
   "execution_count": 145,
   "metadata": {},
   "outputs": [],
   "source": [
    "final_data4 = final_data3.drop(['coastal protection','river protection'],axis=1).stack().to_frame().reset_index().rename(columns={0:\"data\"})"
   ]
  },
  {
   "cell_type": "code",
   "execution_count": 146,
   "metadata": {},
   "outputs": [],
   "source": [
    "sector_dic = {'energy':'Energy','irrigation':'Irrigation','wash':\"Water supply and sanitation\",\"transport\":\"Transport\",\"flood protection\":\"Flood protection\"}"
   ]
  },
  {
   "cell_type": "code",
   "execution_count": 147,
   "metadata": {},
   "outputs": [],
   "source": [
    "var_dic = {\"percent_GDP\":\"Percent of GDP\",\"cost_bUSD_disc_annual\":\"Billion USD\"}"
   ]
  },
  {
   "cell_type": "code",
   "execution_count": 148,
   "metadata": {},
   "outputs": [],
   "source": [
    "scenario_dic = {'best':'Preferred','min':'Low spending','max':'High spending'}"
   ]
  },
  {
   "cell_type": "code",
   "execution_count": 149,
   "metadata": {},
   "outputs": [],
   "source": [
    "final_data4['sector'] = final_data4.sector.replace(sector_dic)\n",
    "final_data4['usd vs percent'] = final_data4['usd vs percent'].replace(var_dic)\n",
    "final_data4['scenario'] = final_data4.scenario.replace(scenario_dic)\n",
    "final_data4['capital vs maintenance'] = final_data4['capital vs maintenance'].str.capitalize()"
   ]
  },
  {
   "cell_type": "code",
   "execution_count": 150,
   "metadata": {},
   "outputs": [
    {
     "data": {
      "text/html": [
       "<div>\n",
       "<style scoped>\n",
       "    .dataframe tbody tr th:only-of-type {\n",
       "        vertical-align: middle;\n",
       "    }\n",
       "\n",
       "    .dataframe tbody tr th {\n",
       "        vertical-align: top;\n",
       "    }\n",
       "\n",
       "    .dataframe thead th {\n",
       "        text-align: right;\n",
       "    }\n",
       "</style>\n",
       "<table border=\"1\" class=\"dataframe\">\n",
       "  <thead>\n",
       "    <tr style=\"text-align: right;\">\n",
       "      <th></th>\n",
       "      <th>wbregion</th>\n",
       "      <th>scenario</th>\n",
       "      <th>capital vs maintenance</th>\n",
       "      <th>usd vs percent</th>\n",
       "      <th>sector</th>\n",
       "      <th>data</th>\n",
       "    </tr>\n",
       "  </thead>\n",
       "  <tbody>\n",
       "    <tr>\n",
       "      <th>298</th>\n",
       "      <td>Sub-Saharan Africa</td>\n",
       "      <td>High spending</td>\n",
       "      <td>Maintenance</td>\n",
       "      <td>Billion USD</td>\n",
       "      <td>Energy</td>\n",
       "      <td>6.419665</td>\n",
       "    </tr>\n",
       "    <tr>\n",
       "      <th>277</th>\n",
       "      <td>Sub-Saharan Africa</td>\n",
       "      <td>Preferred</td>\n",
       "      <td>Capital</td>\n",
       "      <td>Percent of GDP</td>\n",
       "      <td>Transport</td>\n",
       "      <td>3.200000</td>\n",
       "    </tr>\n",
       "    <tr>\n",
       "      <th>313</th>\n",
       "      <td>Sub-Saharan Africa</td>\n",
       "      <td>Low spending</td>\n",
       "      <td>Capital</td>\n",
       "      <td>Percent of GDP</td>\n",
       "      <td>Transport</td>\n",
       "      <td>1.270000</td>\n",
       "    </tr>\n",
       "    <tr>\n",
       "      <th>203</th>\n",
       "      <td>Middle-East and North Africa</td>\n",
       "      <td>Low spending</td>\n",
       "      <td>Capital</td>\n",
       "      <td>Percent of GDP</td>\n",
       "      <td>Energy</td>\n",
       "      <td>0.740000</td>\n",
       "    </tr>\n",
       "    <tr>\n",
       "      <th>290</th>\n",
       "      <td>Sub-Saharan Africa</td>\n",
       "      <td>High spending</td>\n",
       "      <td>Capital</td>\n",
       "      <td>Billion USD</td>\n",
       "      <td>Transport</td>\n",
       "      <td>159.690540</td>\n",
       "    </tr>\n",
       "  </tbody>\n",
       "</table>\n",
       "</div>"
      ],
      "text/plain": [
       "                         wbregion       scenario capital vs maintenance  \\\n",
       "298            Sub-Saharan Africa  High spending            Maintenance   \n",
       "277            Sub-Saharan Africa      Preferred                Capital   \n",
       "313            Sub-Saharan Africa   Low spending                Capital   \n",
       "203  Middle-East and North Africa   Low spending                Capital   \n",
       "290            Sub-Saharan Africa  High spending                Capital   \n",
       "\n",
       "     usd vs percent     sector        data  \n",
       "298     Billion USD     Energy    6.419665  \n",
       "277  Percent of GDP  Transport    3.200000  \n",
       "313  Percent of GDP  Transport    1.270000  \n",
       "203  Percent of GDP     Energy    0.740000  \n",
       "290     Billion USD  Transport  159.690540  "
      ]
     },
     "execution_count": 150,
     "metadata": {},
     "output_type": "execute_result"
    }
   ],
   "source": [
    "final_data4.sample(5)"
   ]
  },
  {
   "cell_type": "code",
   "execution_count": 151,
   "metadata": {},
   "outputs": [],
   "source": [
    "final_data4.to_csv('C:\\\\Users\\\\WB451855\\\\OneDrive - WBG\\\\!infra_needs_data\\\\final_for_website.csv')"
   ]
  },
  {
   "cell_type": "code",
   "execution_count": 152,
   "metadata": {},
   "outputs": [],
   "source": [
    "final_data.sort_values([\"wbregion\",\"sector\",\"scenario\"]).to_csv('C:\\\\Users\\\\WB451855\\\\OneDrive - WBG\\\\!infra_needs_data\\\\semi_final_for_website.csv')"
   ]
  },
  {
   "cell_type": "code",
   "execution_count": 22,
   "metadata": {},
   "outputs": [],
   "source": [
    "totals = pd.DataFrame()"
   ]
  },
  {
   "cell_type": "markdown",
   "metadata": {},
   "source": [
    "# Energy"
   ]
  },
  {
   "cell_type": "code",
   "execution_count": 23,
   "metadata": {},
   "outputs": [],
   "source": [
    "energy = newdata2.loc[(newdata2.sector==\"energy\"),:]"
   ]
  },
  {
   "cell_type": "markdown",
   "metadata": {},
   "source": [
    "## keep for overview"
   ]
  },
  {
   "cell_type": "code",
   "execution_count": 24,
   "metadata": {},
   "outputs": [
    {
     "data": {
      "text/html": [
       "<div>\n",
       "<style scoped>\n",
       "    .dataframe tbody tr th:only-of-type {\n",
       "        vertical-align: middle;\n",
       "    }\n",
       "\n",
       "    .dataframe tbody tr th {\n",
       "        vertical-align: top;\n",
       "    }\n",
       "\n",
       "    .dataframe thead th {\n",
       "        text-align: right;\n",
       "    }\n",
       "</style>\n",
       "<table border=\"1\" class=\"dataframe\">\n",
       "  <thead>\n",
       "    <tr style=\"text-align: right;\">\n",
       "      <th></th>\n",
       "      <th>scenario</th>\n",
       "      <th>capital vs maintenance</th>\n",
       "      <th>cost_bUSD_disc_annual</th>\n",
       "    </tr>\n",
       "  </thead>\n",
       "  <tbody>\n",
       "    <tr>\n",
       "      <th>0</th>\n",
       "      <td>best</td>\n",
       "      <td>capital</td>\n",
       "      <td>778.114139</td>\n",
       "    </tr>\n",
       "    <tr>\n",
       "      <th>1</th>\n",
       "      <td>best</td>\n",
       "      <td>maintenance</td>\n",
       "      <td>206.098170</td>\n",
       "    </tr>\n",
       "    <tr>\n",
       "      <th>2</th>\n",
       "      <td>min</td>\n",
       "      <td>capital</td>\n",
       "      <td>298.587895</td>\n",
       "    </tr>\n",
       "    <tr>\n",
       "      <th>3</th>\n",
       "      <td>max</td>\n",
       "      <td>capital</td>\n",
       "      <td>1020.534268</td>\n",
       "    </tr>\n",
       "  </tbody>\n",
       "</table>\n",
       "</div>"
      ],
      "text/plain": [
       "  scenario capital vs maintenance  cost_bUSD_disc_annual\n",
       "0     best                capital             778.114139\n",
       "1     best            maintenance             206.098170\n",
       "2      min                capital             298.587895\n",
       "3      max                capital            1020.534268"
      ]
     },
     "execution_count": 24,
     "metadata": {},
     "output_type": "execute_result"
    }
   ],
   "source": [
    "energy.loc[energy.region!=\"all_countries\",:].set_index([\"scenario\",\"capital vs maintenance\"]).cost_bUSD_disc_annual.sum(level=[\"scenario\",\"capital vs maintenance\"]).reset_index()"
   ]
  },
  {
   "cell_type": "code",
   "execution_count": 25,
   "metadata": {},
   "outputs": [],
   "source": [
    "temp = energy.loc[energy.region!=\"all_countries\",:].set_index([\"scenario\",\"capital vs maintenance\"]).cost_bUSD_disc_annual.sum(level=[\"scenario\",\"capital vs maintenance\"]).reset_index()\n",
    "temp[\"sector\"] = \"energy\""
   ]
  },
  {
   "cell_type": "code",
   "execution_count": 26,
   "metadata": {},
   "outputs": [],
   "source": [
    "totals = temp"
   ]
  },
  {
   "cell_type": "code",
   "execution_count": 27,
   "metadata": {},
   "outputs": [
    {
     "data": {
      "text/html": [
       "<div>\n",
       "<style scoped>\n",
       "    .dataframe tbody tr th:only-of-type {\n",
       "        vertical-align: middle;\n",
       "    }\n",
       "\n",
       "    .dataframe tbody tr th {\n",
       "        vertical-align: top;\n",
       "    }\n",
       "\n",
       "    .dataframe thead th {\n",
       "        text-align: right;\n",
       "    }\n",
       "</style>\n",
       "<table border=\"1\" class=\"dataframe\">\n",
       "  <thead>\n",
       "    <tr style=\"text-align: right;\">\n",
       "      <th></th>\n",
       "      <th>scenario</th>\n",
       "      <th>cost_bUSD_disc_annual</th>\n",
       "      <th>capital vs maintenance</th>\n",
       "    </tr>\n",
       "  </thead>\n",
       "  <tbody>\n",
       "    <tr>\n",
       "      <th>0</th>\n",
       "      <td>min</td>\n",
       "      <td>105.895694</td>\n",
       "      <td>maintenance</td>\n",
       "    </tr>\n",
       "    <tr>\n",
       "      <th>5</th>\n",
       "      <td>best</td>\n",
       "      <td>211.791389</td>\n",
       "      <td>maintenance</td>\n",
       "    </tr>\n",
       "    <tr>\n",
       "      <th>10</th>\n",
       "      <td>max</td>\n",
       "      <td>282.388519</td>\n",
       "      <td>maintenance</td>\n",
       "    </tr>\n",
       "    <tr>\n",
       "      <th>15</th>\n",
       "      <td>min</td>\n",
       "      <td>317.687083</td>\n",
       "      <td>capital</td>\n",
       "    </tr>\n",
       "    <tr>\n",
       "      <th>20</th>\n",
       "      <td>best</td>\n",
       "      <td>776.568426</td>\n",
       "      <td>capital</td>\n",
       "    </tr>\n",
       "    <tr>\n",
       "      <th>25</th>\n",
       "      <td>max</td>\n",
       "      <td>1058.956944</td>\n",
       "      <td>capital</td>\n",
       "    </tr>\n",
       "  </tbody>\n",
       "</table>\n",
       "</div>"
      ],
      "text/plain": [
       "   scenario  cost_bUSD_disc_annual capital vs maintenance\n",
       "0       min             105.895694            maintenance\n",
       "5      best             211.791389            maintenance\n",
       "10      max             282.388519            maintenance\n",
       "15      min             317.687083                capital\n",
       "20     best             776.568426                capital\n",
       "25      max            1058.956944                capital"
      ]
     },
     "execution_count": 27,
     "metadata": {},
     "output_type": "execute_result"
    }
   ],
   "source": [
    "energy.loc[energy.region==\"all_countries\",[\"scenario\",\"cost_bUSD_disc_annual\",\"capital vs maintenance\"]]"
   ]
  },
  {
   "cell_type": "markdown",
   "metadata": {},
   "source": [
    "# Transport"
   ]
  },
  {
   "cell_type": "code",
   "execution_count": 28,
   "metadata": {},
   "outputs": [],
   "source": [
    "transport = newdata2.loc[(newdata2.sector==\"transport\"),:]"
   ]
  },
  {
   "cell_type": "markdown",
   "metadata": {},
   "source": [
    "## keep for overview"
   ]
  },
  {
   "cell_type": "code",
   "execution_count": 29,
   "metadata": {},
   "outputs": [
    {
     "data": {
      "text/plain": [
       "scenario  capital vs maintenance\n",
       "best      capital                    416.599217\n",
       "          maintenance                460.998755\n",
       "min       capital                    156.796355\n",
       "          maintenance                552.470203\n",
       "max       capital                   1060.207794\n",
       "          maintenance                699.317720\n",
       "Name: cost_bUSD_disc_annual, dtype: float64"
      ]
     },
     "execution_count": 29,
     "metadata": {},
     "output_type": "execute_result"
    }
   ],
   "source": [
    "transport.loc[transport.region!=\"all_countries\",:].set_index([\"scenario\",\"capital vs maintenance\"]).cost_bUSD_disc_annual.sum(level=[\"scenario\",\"capital vs maintenance\"])"
   ]
  },
  {
   "cell_type": "code",
   "execution_count": 30,
   "metadata": {},
   "outputs": [],
   "source": [
    "temp = transport.loc[transport.region!=\"all_countries\",:].set_index([\"scenario\",\"capital vs maintenance\"]).cost_bUSD_disc_annual.sum(level=[\"scenario\",\"capital vs maintenance\"]).reset_index()\n",
    "temp[\"sector\"] = \"transport\""
   ]
  },
  {
   "cell_type": "code",
   "execution_count": 31,
   "metadata": {},
   "outputs": [],
   "source": [
    "totals = totals.append(temp)"
   ]
  },
  {
   "cell_type": "code",
   "execution_count": 32,
   "metadata": {},
   "outputs": [
    {
     "data": {
      "text/html": [
       "<div>\n",
       "<style scoped>\n",
       "    .dataframe tbody tr th:only-of-type {\n",
       "        vertical-align: middle;\n",
       "    }\n",
       "\n",
       "    .dataframe tbody tr th {\n",
       "        vertical-align: top;\n",
       "    }\n",
       "\n",
       "    .dataframe thead th {\n",
       "        text-align: right;\n",
       "    }\n",
       "</style>\n",
       "<table border=\"1\" class=\"dataframe\">\n",
       "  <thead>\n",
       "    <tr style=\"text-align: right;\">\n",
       "      <th></th>\n",
       "      <th>scenario</th>\n",
       "      <th>cost_bUSD_disc_annual</th>\n",
       "    </tr>\n",
       "  </thead>\n",
       "  <tbody>\n",
       "    <tr>\n",
       "      <th>1</th>\n",
       "      <td>min</td>\n",
       "      <td>388.284213</td>\n",
       "    </tr>\n",
       "    <tr>\n",
       "      <th>6</th>\n",
       "      <td>best</td>\n",
       "      <td>458.881343</td>\n",
       "    </tr>\n",
       "    <tr>\n",
       "      <th>11</th>\n",
       "      <td>max</td>\n",
       "      <td>741.269861</td>\n",
       "    </tr>\n",
       "    <tr>\n",
       "      <th>16</th>\n",
       "      <td>min</td>\n",
       "      <td>187.082394</td>\n",
       "    </tr>\n",
       "    <tr>\n",
       "      <th>21</th>\n",
       "      <td>best</td>\n",
       "      <td>458.881343</td>\n",
       "    </tr>\n",
       "    <tr>\n",
       "      <th>26</th>\n",
       "      <td>max</td>\n",
       "      <td>1164.852639</td>\n",
       "    </tr>\n",
       "  </tbody>\n",
       "</table>\n",
       "</div>"
      ],
      "text/plain": [
       "   scenario  cost_bUSD_disc_annual\n",
       "1       min             388.284213\n",
       "6      best             458.881343\n",
       "11      max             741.269861\n",
       "16      min             187.082394\n",
       "21     best             458.881343\n",
       "26      max            1164.852639"
      ]
     },
     "execution_count": 32,
     "metadata": {},
     "output_type": "execute_result"
    }
   ],
   "source": [
    "transport.loc[transport.region==\"all_countries\",[\"scenario\",\"cost_bUSD_disc_annual\"]]"
   ]
  },
  {
   "cell_type": "markdown",
   "metadata": {},
   "source": [
    "# WASH"
   ]
  },
  {
   "cell_type": "code",
   "execution_count": 33,
   "metadata": {},
   "outputs": [],
   "source": [
    "wash = newdata2.loc[(newdata2.sector==\"wash\"),:]"
   ]
  },
  {
   "cell_type": "markdown",
   "metadata": {},
   "source": [
    "## keep for overview"
   ]
  },
  {
   "cell_type": "code",
   "execution_count": 34,
   "metadata": {},
   "outputs": [
    {
     "data": {
      "text/plain": [
       "scenario  capital vs maintenance\n",
       "best      capital                   198.148016\n",
       "          maintenance                67.185574\n",
       "min       capital                   115.630826\n",
       "          maintenance                31.883513\n",
       "max       capital                   228.925546\n",
       "          maintenance                68.875119\n",
       "Name: cost_bUSD_disc_annual, dtype: float64"
      ]
     },
     "execution_count": 34,
     "metadata": {},
     "output_type": "execute_result"
    }
   ],
   "source": [
    "wash.loc[wash.region!=\"all_countries\",:].set_index([\"scenario\",\"capital vs maintenance\"]).cost_bUSD_disc_annual.sum(level=[\"scenario\",\"capital vs maintenance\"])"
   ]
  },
  {
   "cell_type": "code",
   "execution_count": 35,
   "metadata": {},
   "outputs": [],
   "source": [
    "temp = wash.loc[wash.region!=\"all_countries\",:].set_index([\"scenario\",\"capital vs maintenance\"]).cost_bUSD_disc_annual.sum(level=[\"scenario\",\"capital vs maintenance\"]).reset_index()\n",
    "temp[\"sector\"] = \"wash\""
   ]
  },
  {
   "cell_type": "code",
   "execution_count": 36,
   "metadata": {},
   "outputs": [],
   "source": [
    "totals = totals.append(temp)"
   ]
  },
  {
   "cell_type": "code",
   "execution_count": 37,
   "metadata": {},
   "outputs": [
    {
     "data": {
      "text/html": [
       "<div>\n",
       "<style scoped>\n",
       "    .dataframe tbody tr th:only-of-type {\n",
       "        vertical-align: middle;\n",
       "    }\n",
       "\n",
       "    .dataframe tbody tr th {\n",
       "        vertical-align: top;\n",
       "    }\n",
       "\n",
       "    .dataframe thead th {\n",
       "        text-align: right;\n",
       "    }\n",
       "</style>\n",
       "<table border=\"1\" class=\"dataframe\">\n",
       "  <thead>\n",
       "    <tr style=\"text-align: right;\">\n",
       "      <th></th>\n",
       "      <th>scenario</th>\n",
       "      <th>cost_bUSD_disc_annual</th>\n",
       "    </tr>\n",
       "  </thead>\n",
       "  <tbody>\n",
       "    <tr>\n",
       "      <th>2</th>\n",
       "      <td>min</td>\n",
       "      <td>169.433111</td>\n",
       "    </tr>\n",
       "    <tr>\n",
       "      <th>7</th>\n",
       "      <td>best</td>\n",
       "      <td>264.739236</td>\n",
       "    </tr>\n",
       "    <tr>\n",
       "      <th>12</th>\n",
       "      <td>max</td>\n",
       "      <td>264.739236</td>\n",
       "    </tr>\n",
       "    <tr>\n",
       "      <th>17</th>\n",
       "      <td>min</td>\n",
       "      <td>112.955407</td>\n",
       "    </tr>\n",
       "    <tr>\n",
       "      <th>22</th>\n",
       "      <td>best</td>\n",
       "      <td>194.142106</td>\n",
       "    </tr>\n",
       "    <tr>\n",
       "      <th>27</th>\n",
       "      <td>max</td>\n",
       "      <td>229.440671</td>\n",
       "    </tr>\n",
       "  </tbody>\n",
       "</table>\n",
       "</div>"
      ],
      "text/plain": [
       "   scenario  cost_bUSD_disc_annual\n",
       "2       min             169.433111\n",
       "7      best             264.739236\n",
       "12      max             264.739236\n",
       "17      min             112.955407\n",
       "22     best             194.142106\n",
       "27      max             229.440671"
      ]
     },
     "execution_count": 37,
     "metadata": {},
     "output_type": "execute_result"
    }
   ],
   "source": [
    "wash.loc[wash.region==\"all_countries\",[\"scenario\",\"cost_bUSD_disc_annual\"]]"
   ]
  },
  {
   "cell_type": "markdown",
   "metadata": {},
   "source": [
    "# Flood"
   ]
  },
  {
   "cell_type": "code",
   "execution_count": 38,
   "metadata": {},
   "outputs": [],
   "source": [
    "coastal_flood = newdata2.loc[(newdata2.sector==\"coastal protection\"),:]"
   ]
  },
  {
   "cell_type": "code",
   "execution_count": 39,
   "metadata": {},
   "outputs": [
    {
     "data": {
      "text/plain": [
       "scenario  capital vs maintenance\n",
       "best      capital                   42.919258\n",
       "          maintenance               21.333604\n",
       "min       capital                    2.349903\n",
       "          maintenance                6.152358\n",
       "max       capital                   56.573056\n",
       "          maintenance               23.854950\n",
       "Name: cost_bUSD_disc_annual, dtype: float64"
      ]
     },
     "execution_count": 39,
     "metadata": {},
     "output_type": "execute_result"
    }
   ],
   "source": [
    "coastal_flood.loc[coastal_flood.region!=\"all_countries\",:].set_index([\"scenario\",\"capital vs maintenance\"]).cost_bUSD_disc_annual.sum(level=[\"scenario\",\"capital vs maintenance\"])"
   ]
  },
  {
   "cell_type": "code",
   "execution_count": 40,
   "metadata": {},
   "outputs": [],
   "source": [
    "river_flood = newdata2.loc[(newdata2.sector==\"river protection\"),:]"
   ]
  },
  {
   "cell_type": "code",
   "execution_count": 41,
   "metadata": {},
   "outputs": [
    {
     "data": {
      "text/plain": [
       "scenario  capital vs maintenance\n",
       "best      capital                    60.137460\n",
       "          maintenance                 3.204862\n",
       "max       capital                   278.575892\n",
       "          maintenance                14.260740\n",
       "min       capital                    20.589857\n",
       "          maintenance                 1.073654\n",
       "Name: cost_bUSD_disc_annual, dtype: float64"
      ]
     },
     "execution_count": 41,
     "metadata": {},
     "output_type": "execute_result"
    }
   ],
   "source": [
    "river_flood.loc[river_flood.region!=\"all_countries\",:].set_index([\"scenario\",\"capital vs maintenance\"]).cost_bUSD_disc_annual.sum(level=[\"scenario\",\"capital vs maintenance\"])"
   ]
  },
  {
   "cell_type": "code",
   "execution_count": 42,
   "metadata": {},
   "outputs": [
    {
     "data": {
      "text/plain": [
       "scenario  capital vs maintenance\n",
       "maxmax    capital                   847.165556\n",
       "minmin    capital                    14.119426\n",
       "Name: cost_bUSD_disc_annual, dtype: float64"
      ]
     },
     "execution_count": 42,
     "metadata": {},
     "output_type": "execute_result"
    }
   ],
   "source": [
    "river_flood.loc[river_flood.region==\"all_countries\",:].set_index([\"scenario\",\"capital vs maintenance\"]).cost_bUSD_disc_annual.sum(level=[\"scenario\",\"capital vs maintenance\"])"
   ]
  },
  {
   "cell_type": "code",
   "execution_count": 43,
   "metadata": {},
   "outputs": [],
   "source": [
    "flood = coastal_flood.loc[coastal_flood.region!=\"all_countries\",:].set_index([\"scenario\",\"capital vs maintenance\"]).cost_bUSD_disc_annual.sum(level=[\"scenario\",\"capital vs maintenance\"])+\\\n",
    "river_flood.loc[river_flood.region!=\"all_countries\",:].set_index([\"scenario\",\"capital vs maintenance\"]).cost_bUSD_disc_annual.sum(level=[\"scenario\",\"capital vs maintenance\"])"
   ]
  },
  {
   "cell_type": "markdown",
   "metadata": {},
   "source": [
    "## keep for overview"
   ]
  },
  {
   "cell_type": "code",
   "execution_count": 44,
   "metadata": {},
   "outputs": [
    {
     "data": {
      "text/plain": [
       "scenario  capital vs maintenance\n",
       "best      capital                   103.056717\n",
       "          maintenance                24.538467\n",
       "max       capital                   335.148948\n",
       "          maintenance                38.115690\n",
       "min       capital                    22.939760\n",
       "          maintenance                 7.226012\n",
       "Name: cost_bUSD_disc_annual, dtype: float64"
      ]
     },
     "execution_count": 44,
     "metadata": {},
     "output_type": "execute_result"
    }
   ],
   "source": [
    "flood"
   ]
  },
  {
   "cell_type": "code",
   "execution_count": 45,
   "metadata": {},
   "outputs": [],
   "source": [
    "temp = flood.reset_index()\n",
    "temp[\"sector\"] = \"flood\""
   ]
  },
  {
   "cell_type": "code",
   "execution_count": 46,
   "metadata": {},
   "outputs": [],
   "source": [
    "totals = totals.append(temp)"
   ]
  },
  {
   "cell_type": "code",
   "execution_count": 47,
   "metadata": {},
   "outputs": [
    {
     "data": {
      "text/html": [
       "<div>\n",
       "<style scoped>\n",
       "    .dataframe tbody tr th:only-of-type {\n",
       "        vertical-align: middle;\n",
       "    }\n",
       "\n",
       "    .dataframe tbody tr th {\n",
       "        vertical-align: top;\n",
       "    }\n",
       "\n",
       "    .dataframe thead th {\n",
       "        text-align: right;\n",
       "    }\n",
       "</style>\n",
       "<table border=\"1\" class=\"dataframe\">\n",
       "  <thead>\n",
       "    <tr style=\"text-align: right;\">\n",
       "      <th></th>\n",
       "      <th>region</th>\n",
       "      <th>sector</th>\n",
       "      <th>scenario</th>\n",
       "      <th>capital vs maintenance</th>\n",
       "      <th>cost_bUSD_disc</th>\n",
       "      <th>cost_bUSD_disc_annual</th>\n",
       "    </tr>\n",
       "  </thead>\n",
       "  <tbody>\n",
       "    <tr>\n",
       "      <th>3</th>\n",
       "      <td>all_countries</td>\n",
       "      <td>flood</td>\n",
       "      <td>min</td>\n",
       "      <td>maintenance</td>\n",
       "      <td>74.126986</td>\n",
       "      <td>4.941799</td>\n",
       "    </tr>\n",
       "    <tr>\n",
       "      <th>8</th>\n",
       "      <td>all_countries</td>\n",
       "      <td>flood</td>\n",
       "      <td>best</td>\n",
       "      <td>maintenance</td>\n",
       "      <td>370.634931</td>\n",
       "      <td>24.708995</td>\n",
       "    </tr>\n",
       "    <tr>\n",
       "      <th>13</th>\n",
       "      <td>all_countries</td>\n",
       "      <td>flood</td>\n",
       "      <td>max</td>\n",
       "      <td>maintenance</td>\n",
       "      <td>741.269861</td>\n",
       "      <td>49.417991</td>\n",
       "    </tr>\n",
       "    <tr>\n",
       "      <th>18</th>\n",
       "      <td>all_countries</td>\n",
       "      <td>flood</td>\n",
       "      <td>min</td>\n",
       "      <td>capital</td>\n",
       "      <td>317.687083</td>\n",
       "      <td>21.179139</td>\n",
       "    </tr>\n",
       "    <tr>\n",
       "      <th>23</th>\n",
       "      <td>all_countries</td>\n",
       "      <td>flood</td>\n",
       "      <td>best</td>\n",
       "      <td>capital</td>\n",
       "      <td>1694.331111</td>\n",
       "      <td>112.955407</td>\n",
       "    </tr>\n",
       "    <tr>\n",
       "      <th>28</th>\n",
       "      <td>all_countries</td>\n",
       "      <td>flood</td>\n",
       "      <td>max</td>\n",
       "      <td>capital</td>\n",
       "      <td>5294.784722</td>\n",
       "      <td>352.985648</td>\n",
       "    </tr>\n",
       "  </tbody>\n",
       "</table>\n",
       "</div>"
      ],
      "text/plain": [
       "           region sector scenario capital vs maintenance  cost_bUSD_disc  \\\n",
       "3   all_countries  flood      min            maintenance       74.126986   \n",
       "8   all_countries  flood     best            maintenance      370.634931   \n",
       "13  all_countries  flood      max            maintenance      741.269861   \n",
       "18  all_countries  flood      min                capital      317.687083   \n",
       "23  all_countries  flood     best                capital     1694.331111   \n",
       "28  all_countries  flood      max                capital     5294.784722   \n",
       "\n",
       "    cost_bUSD_disc_annual  \n",
       "3                4.941799  \n",
       "8               24.708995  \n",
       "13              49.417991  \n",
       "18              21.179139  \n",
       "23             112.955407  \n",
       "28             352.985648  "
      ]
     },
     "execution_count": 47,
     "metadata": {},
     "output_type": "execute_result"
    }
   ],
   "source": [
    "newdata2.loc[(newdata2.sector==\"flood\"),:]"
   ]
  },
  {
   "cell_type": "markdown",
   "metadata": {},
   "source": [
    "# Irrigation"
   ]
  },
  {
   "cell_type": "code",
   "execution_count": 48,
   "metadata": {},
   "outputs": [],
   "source": [
    "irrigation = newdata2.loc[(newdata2.sector==\"irrigation\"),:]"
   ]
  },
  {
   "cell_type": "markdown",
   "metadata": {},
   "source": [
    "## keep for overview"
   ]
  },
  {
   "cell_type": "code",
   "execution_count": 49,
   "metadata": {},
   "outputs": [
    {
     "data": {
      "text/plain": [
       "scenario  capital vs maintenance\n",
       "best      capital                    49.619364\n",
       "max       capital                   100.434281\n",
       "min       capital                    43.592279\n",
       "Name: cost_bUSD_disc_annual, dtype: float64"
      ]
     },
     "execution_count": 49,
     "metadata": {},
     "output_type": "execute_result"
    }
   ],
   "source": [
    "irrigation.loc[irrigation.region!=\"all_countries\",:].set_index([\"scenario\",\"capital vs maintenance\"]).cost_bUSD_disc_annual.sum(level=[\"scenario\",\"capital vs maintenance\"])"
   ]
  },
  {
   "cell_type": "code",
   "execution_count": 50,
   "metadata": {},
   "outputs": [],
   "source": [
    "temp = irrigation.loc[irrigation.region!=\"all_countries\",:].set_index([\"scenario\",\"capital vs maintenance\"]).cost_bUSD_disc_annual.sum(level=[\"scenario\",\"capital vs maintenance\"]).reset_index()\n",
    "temp[\"sector\"] = \"irrigation\""
   ]
  },
  {
   "cell_type": "code",
   "execution_count": 51,
   "metadata": {},
   "outputs": [],
   "source": [
    "totals = totals.append(temp)"
   ]
  },
  {
   "cell_type": "code",
   "execution_count": 52,
   "metadata": {},
   "outputs": [
    {
     "data": {
      "text/html": [
       "<div>\n",
       "<style scoped>\n",
       "    .dataframe tbody tr th:only-of-type {\n",
       "        vertical-align: middle;\n",
       "    }\n",
       "\n",
       "    .dataframe tbody tr th {\n",
       "        vertical-align: top;\n",
       "    }\n",
       "\n",
       "    .dataframe thead th {\n",
       "        text-align: right;\n",
       "    }\n",
       "</style>\n",
       "<table border=\"1\" class=\"dataframe\">\n",
       "  <thead>\n",
       "    <tr style=\"text-align: right;\">\n",
       "      <th></th>\n",
       "      <th>scenario</th>\n",
       "      <th>cost_bUSD_disc_annual</th>\n",
       "    </tr>\n",
       "  </thead>\n",
       "  <tbody>\n",
       "    <tr>\n",
       "      <th>4</th>\n",
       "      <td>min</td>\n",
       "      <td>0.000000</td>\n",
       "    </tr>\n",
       "    <tr>\n",
       "      <th>9</th>\n",
       "      <td>best</td>\n",
       "      <td>0.000000</td>\n",
       "    </tr>\n",
       "    <tr>\n",
       "      <th>14</th>\n",
       "      <td>max</td>\n",
       "      <td>0.000000</td>\n",
       "    </tr>\n",
       "    <tr>\n",
       "      <th>19</th>\n",
       "      <td>min</td>\n",
       "      <td>42.358278</td>\n",
       "    </tr>\n",
       "    <tr>\n",
       "      <th>24</th>\n",
       "      <td>best</td>\n",
       "      <td>45.888134</td>\n",
       "    </tr>\n",
       "    <tr>\n",
       "      <th>29</th>\n",
       "      <td>max</td>\n",
       "      <td>70.597130</td>\n",
       "    </tr>\n",
       "  </tbody>\n",
       "</table>\n",
       "</div>"
      ],
      "text/plain": [
       "   scenario  cost_bUSD_disc_annual\n",
       "4       min               0.000000\n",
       "9      best               0.000000\n",
       "14      max               0.000000\n",
       "19      min              42.358278\n",
       "24     best              45.888134\n",
       "29      max              70.597130"
      ]
     },
     "execution_count": 52,
     "metadata": {},
     "output_type": "execute_result"
    }
   ],
   "source": [
    "irrigation.loc[irrigation.region==\"all_countries\",[\"scenario\",\"cost_bUSD_disc_annual\"]]"
   ]
  },
  {
   "cell_type": "code",
   "execution_count": 53,
   "metadata": {},
   "outputs": [
    {
     "data": {
      "text/plain": [
       "scenario  capital vs maintenance\n",
       "best      capital                   1545.537453\n",
       "          maintenance                758.820966\n",
       "min       capital                    637.547114\n",
       "max       capital                   2745.250838\n",
       "min       maintenance                591.579729\n",
       "max       maintenance                806.308529\n",
       "Name: cost_bUSD_disc_annual, dtype: float64"
      ]
     },
     "execution_count": 53,
     "metadata": {},
     "output_type": "execute_result"
    }
   ],
   "source": [
    "newdata2[(newdata2.region!=\"all_countries\")].set_index([\"scenario\",\"capital vs maintenance\"]).cost_bUSD_disc_annual.sum(level=[\"scenario\",\"capital vs maintenance\"])"
   ]
  },
  {
   "cell_type": "code",
   "execution_count": 54,
   "metadata": {},
   "outputs": [
    {
     "data": {
      "text/plain": [
       "scenario\n",
       "min        681.262301\n",
       "best      1588.435417\n",
       "max       2876.833032\n",
       "maxmax     847.165556\n",
       "minmin      14.119426\n",
       "Name: cost_bUSD_disc_annual, dtype: float64"
      ]
     },
     "execution_count": 54,
     "metadata": {},
     "output_type": "execute_result"
    }
   ],
   "source": [
    "newdata2[(newdata2.region==\"all_countries\")&(newdata2[\"capital vs maintenance\"]==\"capital\")].set_index(\"scenario\").cost_bUSD_disc_annual.sum(level=\"scenario\")"
   ]
  },
  {
   "cell_type": "markdown",
   "metadata": {},
   "source": [
    "## we don't have energy maintenance per region so we use global %"
   ]
  },
  {
   "cell_type": "code",
   "execution_count": 55,
   "metadata": {},
   "outputs": [],
   "source": [
    "temp2 = energy.loc[(energy.region==\"all_countries\")&(energy[\"capital vs maintenance\"]==\"maintenance\")&(energy.scenario!=\"best\"),[\"scenario\",\"cost_bUSD_disc_annual\",\"capital vs maintenance\"]]\n",
    "temp2[\"sector\"] = \"energy\""
   ]
  },
  {
   "cell_type": "code",
   "execution_count": 56,
   "metadata": {},
   "outputs": [
    {
     "data": {
      "text/html": [
       "<div>\n",
       "<style scoped>\n",
       "    .dataframe tbody tr th:only-of-type {\n",
       "        vertical-align: middle;\n",
       "    }\n",
       "\n",
       "    .dataframe tbody tr th {\n",
       "        vertical-align: top;\n",
       "    }\n",
       "\n",
       "    .dataframe thead th {\n",
       "        text-align: right;\n",
       "    }\n",
       "</style>\n",
       "<table border=\"1\" class=\"dataframe\">\n",
       "  <thead>\n",
       "    <tr style=\"text-align: right;\">\n",
       "      <th></th>\n",
       "      <th>scenario</th>\n",
       "      <th>cost_bUSD_disc_annual</th>\n",
       "      <th>capital vs maintenance</th>\n",
       "      <th>sector</th>\n",
       "    </tr>\n",
       "  </thead>\n",
       "  <tbody>\n",
       "    <tr>\n",
       "      <th>0</th>\n",
       "      <td>min</td>\n",
       "      <td>105.895694</td>\n",
       "      <td>maintenance</td>\n",
       "      <td>energy</td>\n",
       "    </tr>\n",
       "    <tr>\n",
       "      <th>10</th>\n",
       "      <td>max</td>\n",
       "      <td>282.388519</td>\n",
       "      <td>maintenance</td>\n",
       "      <td>energy</td>\n",
       "    </tr>\n",
       "  </tbody>\n",
       "</table>\n",
       "</div>"
      ],
      "text/plain": [
       "   scenario  cost_bUSD_disc_annual capital vs maintenance  sector\n",
       "0       min             105.895694            maintenance  energy\n",
       "10      max             282.388519            maintenance  energy"
      ]
     },
     "execution_count": 56,
     "metadata": {},
     "output_type": "execute_result"
    }
   ],
   "source": [
    "temp2"
   ]
  },
  {
   "cell_type": "code",
   "execution_count": 57,
   "metadata": {},
   "outputs": [
    {
     "name": "stderr",
     "output_type": "stream",
     "text": [
      "C:\\ProgramData\\Anaconda3\\envs\\Julie1\\lib\\site-packages\\pandas\\core\\frame.py:6211: FutureWarning: Sorting because non-concatenation axis is not aligned. A future version\n",
      "of pandas will change to not sort by default.\n",
      "\n",
      "To accept the future behavior, pass 'sort=False'.\n",
      "\n",
      "To retain the current behavior and silence the warning, pass 'sort=True'.\n",
      "\n",
      "  sort=sort)\n"
     ]
    }
   ],
   "source": [
    "totals = totals.append(temp2)"
   ]
  },
  {
   "cell_type": "code",
   "execution_count": 58,
   "metadata": {},
   "outputs": [
    {
     "data": {
      "text/html": [
       "<div>\n",
       "<style scoped>\n",
       "    .dataframe tbody tr th:only-of-type {\n",
       "        vertical-align: middle;\n",
       "    }\n",
       "\n",
       "    .dataframe tbody tr th {\n",
       "        vertical-align: top;\n",
       "    }\n",
       "\n",
       "    .dataframe thead th {\n",
       "        text-align: right;\n",
       "    }\n",
       "</style>\n",
       "<table border=\"1\" class=\"dataframe\">\n",
       "  <thead>\n",
       "    <tr style=\"text-align: right;\">\n",
       "      <th></th>\n",
       "      <th>capital vs maintenance</th>\n",
       "      <th>cost_bUSD_disc_annual</th>\n",
       "      <th>scenario</th>\n",
       "      <th>sector</th>\n",
       "    </tr>\n",
       "  </thead>\n",
       "  <tbody>\n",
       "    <tr>\n",
       "      <th>0</th>\n",
       "      <td>capital</td>\n",
       "      <td>778.114139</td>\n",
       "      <td>best</td>\n",
       "      <td>energy</td>\n",
       "    </tr>\n",
       "    <tr>\n",
       "      <th>1</th>\n",
       "      <td>maintenance</td>\n",
       "      <td>206.098170</td>\n",
       "      <td>best</td>\n",
       "      <td>energy</td>\n",
       "    </tr>\n",
       "    <tr>\n",
       "      <th>2</th>\n",
       "      <td>capital</td>\n",
       "      <td>298.587895</td>\n",
       "      <td>min</td>\n",
       "      <td>energy</td>\n",
       "    </tr>\n",
       "    <tr>\n",
       "      <th>3</th>\n",
       "      <td>capital</td>\n",
       "      <td>1020.534268</td>\n",
       "      <td>max</td>\n",
       "      <td>energy</td>\n",
       "    </tr>\n",
       "    <tr>\n",
       "      <th>0</th>\n",
       "      <td>maintenance</td>\n",
       "      <td>105.895694</td>\n",
       "      <td>min</td>\n",
       "      <td>energy</td>\n",
       "    </tr>\n",
       "    <tr>\n",
       "      <th>10</th>\n",
       "      <td>maintenance</td>\n",
       "      <td>282.388519</td>\n",
       "      <td>max</td>\n",
       "      <td>energy</td>\n",
       "    </tr>\n",
       "  </tbody>\n",
       "</table>\n",
       "</div>"
      ],
      "text/plain": [
       "   capital vs maintenance  cost_bUSD_disc_annual scenario  sector\n",
       "0                 capital             778.114139     best  energy\n",
       "1             maintenance             206.098170     best  energy\n",
       "2                 capital             298.587895      min  energy\n",
       "3                 capital            1020.534268      max  energy\n",
       "0             maintenance             105.895694      min  energy\n",
       "10            maintenance             282.388519      max  energy"
      ]
     },
     "execution_count": 58,
     "metadata": {},
     "output_type": "execute_result"
    }
   ],
   "source": [
    "totals[totals.sector==\"energy\"]"
   ]
  },
  {
   "cell_type": "code",
   "execution_count": 59,
   "metadata": {},
   "outputs": [
    {
     "data": {
      "text/html": [
       "<div>\n",
       "<style scoped>\n",
       "    .dataframe tbody tr th:only-of-type {\n",
       "        vertical-align: middle;\n",
       "    }\n",
       "\n",
       "    .dataframe tbody tr th {\n",
       "        vertical-align: top;\n",
       "    }\n",
       "\n",
       "    .dataframe thead th {\n",
       "        text-align: right;\n",
       "    }\n",
       "</style>\n",
       "<table border=\"1\" class=\"dataframe\">\n",
       "  <thead>\n",
       "    <tr style=\"text-align: right;\">\n",
       "      <th></th>\n",
       "      <th>capital vs maintenance</th>\n",
       "      <th>capital</th>\n",
       "      <th>maintenance</th>\n",
       "    </tr>\n",
       "    <tr>\n",
       "      <th>sector</th>\n",
       "      <th>scenario</th>\n",
       "      <th></th>\n",
       "      <th></th>\n",
       "    </tr>\n",
       "  </thead>\n",
       "  <tbody>\n",
       "    <tr>\n",
       "      <th rowspan=\"3\" valign=\"top\">energy</th>\n",
       "      <th>best</th>\n",
       "      <td>778.114139</td>\n",
       "      <td>206.098170</td>\n",
       "    </tr>\n",
       "    <tr>\n",
       "      <th>max</th>\n",
       "      <td>1020.534268</td>\n",
       "      <td>282.388519</td>\n",
       "    </tr>\n",
       "    <tr>\n",
       "      <th>min</th>\n",
       "      <td>298.587895</td>\n",
       "      <td>105.895694</td>\n",
       "    </tr>\n",
       "    <tr>\n",
       "      <th rowspan=\"3\" valign=\"top\">flood</th>\n",
       "      <th>best</th>\n",
       "      <td>103.056717</td>\n",
       "      <td>24.538467</td>\n",
       "    </tr>\n",
       "    <tr>\n",
       "      <th>max</th>\n",
       "      <td>335.148948</td>\n",
       "      <td>38.115690</td>\n",
       "    </tr>\n",
       "    <tr>\n",
       "      <th>min</th>\n",
       "      <td>22.939760</td>\n",
       "      <td>7.226012</td>\n",
       "    </tr>\n",
       "    <tr>\n",
       "      <th rowspan=\"3\" valign=\"top\">irrigation</th>\n",
       "      <th>best</th>\n",
       "      <td>49.619364</td>\n",
       "      <td>NaN</td>\n",
       "    </tr>\n",
       "    <tr>\n",
       "      <th>max</th>\n",
       "      <td>100.434281</td>\n",
       "      <td>NaN</td>\n",
       "    </tr>\n",
       "    <tr>\n",
       "      <th>min</th>\n",
       "      <td>43.592279</td>\n",
       "      <td>NaN</td>\n",
       "    </tr>\n",
       "    <tr>\n",
       "      <th rowspan=\"3\" valign=\"top\">transport</th>\n",
       "      <th>best</th>\n",
       "      <td>416.599217</td>\n",
       "      <td>460.998755</td>\n",
       "    </tr>\n",
       "    <tr>\n",
       "      <th>max</th>\n",
       "      <td>1060.207794</td>\n",
       "      <td>699.317720</td>\n",
       "    </tr>\n",
       "    <tr>\n",
       "      <th>min</th>\n",
       "      <td>156.796355</td>\n",
       "      <td>552.470203</td>\n",
       "    </tr>\n",
       "    <tr>\n",
       "      <th rowspan=\"3\" valign=\"top\">wash</th>\n",
       "      <th>best</th>\n",
       "      <td>198.148016</td>\n",
       "      <td>67.185574</td>\n",
       "    </tr>\n",
       "    <tr>\n",
       "      <th>max</th>\n",
       "      <td>228.925546</td>\n",
       "      <td>68.875119</td>\n",
       "    </tr>\n",
       "    <tr>\n",
       "      <th>min</th>\n",
       "      <td>115.630826</td>\n",
       "      <td>31.883513</td>\n",
       "    </tr>\n",
       "  </tbody>\n",
       "</table>\n",
       "</div>"
      ],
      "text/plain": [
       "capital vs maintenance      capital  maintenance\n",
       "sector     scenario                             \n",
       "energy     best          778.114139   206.098170\n",
       "           max          1020.534268   282.388519\n",
       "           min           298.587895   105.895694\n",
       "flood      best          103.056717    24.538467\n",
       "           max           335.148948    38.115690\n",
       "           min            22.939760     7.226012\n",
       "irrigation best           49.619364          NaN\n",
       "           max           100.434281          NaN\n",
       "           min            43.592279          NaN\n",
       "transport  best          416.599217   460.998755\n",
       "           max          1060.207794   699.317720\n",
       "           min           156.796355   552.470203\n",
       "wash       best          198.148016    67.185574\n",
       "           max           228.925546    68.875119\n",
       "           min           115.630826    31.883513"
      ]
     },
     "execution_count": 59,
     "metadata": {},
     "output_type": "execute_result"
    }
   ],
   "source": [
    "totals.set_index([\"sector\",\"scenario\",\"capital vs maintenance\"]).cost_bUSD_disc_annual.unstack(\"capital vs maintenance\")"
   ]
  },
  {
   "cell_type": "code",
   "execution_count": 60,
   "metadata": {},
   "outputs": [
    {
     "data": {
      "text/html": [
       "<div>\n",
       "<style scoped>\n",
       "    .dataframe tbody tr th:only-of-type {\n",
       "        vertical-align: middle;\n",
       "    }\n",
       "\n",
       "    .dataframe tbody tr th {\n",
       "        vertical-align: top;\n",
       "    }\n",
       "\n",
       "    .dataframe thead th {\n",
       "        text-align: right;\n",
       "    }\n",
       "</style>\n",
       "<table border=\"1\" class=\"dataframe\">\n",
       "  <thead>\n",
       "    <tr style=\"text-align: right;\">\n",
       "      <th>capital vs maintenance</th>\n",
       "      <th>capital</th>\n",
       "      <th>maintenance</th>\n",
       "    </tr>\n",
       "    <tr>\n",
       "      <th>scenario</th>\n",
       "      <th></th>\n",
       "      <th></th>\n",
       "    </tr>\n",
       "  </thead>\n",
       "  <tbody>\n",
       "    <tr>\n",
       "      <th>best</th>\n",
       "      <td>1545.537453</td>\n",
       "      <td>758.820966</td>\n",
       "    </tr>\n",
       "    <tr>\n",
       "      <th>max</th>\n",
       "      <td>2745.250838</td>\n",
       "      <td>1088.697048</td>\n",
       "    </tr>\n",
       "    <tr>\n",
       "      <th>min</th>\n",
       "      <td>637.547114</td>\n",
       "      <td>697.475423</td>\n",
       "    </tr>\n",
       "  </tbody>\n",
       "</table>\n",
       "</div>"
      ],
      "text/plain": [
       "capital vs maintenance      capital  maintenance\n",
       "scenario                                        \n",
       "best                    1545.537453   758.820966\n",
       "max                     2745.250838  1088.697048\n",
       "min                      637.547114   697.475423"
      ]
     },
     "execution_count": 60,
     "metadata": {},
     "output_type": "execute_result"
    }
   ],
   "source": [
    "totals.set_index([\"sector\",\"scenario\",\"capital vs maintenance\"]).cost_bUSD_disc_annual.unstack(\"capital vs maintenance\").sum(level=\"scenario\")"
   ]
  },
  {
   "cell_type": "markdown",
   "metadata": {},
   "source": [
    "totals.set_index([\"sector\",\"scenario\",\"capital vs maintenance\"]).cost_bUSD_disc_annual.unstack(\"capital vs maintenance\").to_csv('C:\\\\Users\\\\WB451855\\\\OneDrive - WBG\\\\!infra_needs_data\\\\all_usd_results.csv')"
   ]
  },
  {
   "cell_type": "code",
   "execution_count": 61,
   "metadata": {},
   "outputs": [
    {
     "data": {
      "text/html": [
       "<div>\n",
       "<style scoped>\n",
       "    .dataframe tbody tr th:only-of-type {\n",
       "        vertical-align: middle;\n",
       "    }\n",
       "\n",
       "    .dataframe tbody tr th {\n",
       "        vertical-align: top;\n",
       "    }\n",
       "\n",
       "    .dataframe thead th {\n",
       "        text-align: right;\n",
       "    }\n",
       "</style>\n",
       "<table border=\"1\" class=\"dataframe\">\n",
       "  <thead>\n",
       "    <tr style=\"text-align: right;\">\n",
       "      <th></th>\n",
       "      <th>capital vs maintenance</th>\n",
       "      <th>capital</th>\n",
       "      <th>maintenance</th>\n",
       "    </tr>\n",
       "    <tr>\n",
       "      <th>sector</th>\n",
       "      <th>scenario</th>\n",
       "      <th></th>\n",
       "      <th></th>\n",
       "    </tr>\n",
       "  </thead>\n",
       "  <tbody>\n",
       "    <tr>\n",
       "      <th rowspan=\"3\" valign=\"top\">energy</th>\n",
       "      <th>best</th>\n",
       "      <td>2.20</td>\n",
       "      <td>0.600</td>\n",
       "    </tr>\n",
       "    <tr>\n",
       "      <th>max</th>\n",
       "      <td>3.00</td>\n",
       "      <td>0.800</td>\n",
       "    </tr>\n",
       "    <tr>\n",
       "      <th>min</th>\n",
       "      <td>0.90</td>\n",
       "      <td>0.300</td>\n",
       "    </tr>\n",
       "    <tr>\n",
       "      <th rowspan=\"3\" valign=\"top\">flood</th>\n",
       "      <th>best</th>\n",
       "      <td>0.32</td>\n",
       "      <td>0.070</td>\n",
       "    </tr>\n",
       "    <tr>\n",
       "      <th>max</th>\n",
       "      <td>1.00</td>\n",
       "      <td>0.140</td>\n",
       "    </tr>\n",
       "    <tr>\n",
       "      <th>min</th>\n",
       "      <td>0.06</td>\n",
       "      <td>0.014</td>\n",
       "    </tr>\n",
       "    <tr>\n",
       "      <th rowspan=\"3\" valign=\"top\">irrigation</th>\n",
       "      <th>best</th>\n",
       "      <td>0.13</td>\n",
       "      <td>NaN</td>\n",
       "    </tr>\n",
       "    <tr>\n",
       "      <th>max</th>\n",
       "      <td>0.20</td>\n",
       "      <td>NaN</td>\n",
       "    </tr>\n",
       "    <tr>\n",
       "      <th>min</th>\n",
       "      <td>0.12</td>\n",
       "      <td>NaN</td>\n",
       "    </tr>\n",
       "    <tr>\n",
       "      <th rowspan=\"2\" valign=\"top\">river protection</th>\n",
       "      <th>maxmax</th>\n",
       "      <td>2.40</td>\n",
       "      <td>NaN</td>\n",
       "    </tr>\n",
       "    <tr>\n",
       "      <th>minmin</th>\n",
       "      <td>0.04</td>\n",
       "      <td>NaN</td>\n",
       "    </tr>\n",
       "    <tr>\n",
       "      <th rowspan=\"3\" valign=\"top\">transport</th>\n",
       "      <th>best</th>\n",
       "      <td>1.30</td>\n",
       "      <td>1.300</td>\n",
       "    </tr>\n",
       "    <tr>\n",
       "      <th>max</th>\n",
       "      <td>3.30</td>\n",
       "      <td>2.100</td>\n",
       "    </tr>\n",
       "    <tr>\n",
       "      <th>min</th>\n",
       "      <td>0.53</td>\n",
       "      <td>1.100</td>\n",
       "    </tr>\n",
       "    <tr>\n",
       "      <th rowspan=\"3\" valign=\"top\">wash</th>\n",
       "      <th>best</th>\n",
       "      <td>0.55</td>\n",
       "      <td>0.750</td>\n",
       "    </tr>\n",
       "    <tr>\n",
       "      <th>max</th>\n",
       "      <td>0.65</td>\n",
       "      <td>0.750</td>\n",
       "    </tr>\n",
       "    <tr>\n",
       "      <th>min</th>\n",
       "      <td>0.32</td>\n",
       "      <td>0.480</td>\n",
       "    </tr>\n",
       "  </tbody>\n",
       "</table>\n",
       "</div>"
      ],
      "text/plain": [
       "capital vs maintenance     capital  maintenance\n",
       "sector           scenario                      \n",
       "energy           best         2.20        0.600\n",
       "                 max          3.00        0.800\n",
       "                 min          0.90        0.300\n",
       "flood            best         0.32        0.070\n",
       "                 max          1.00        0.140\n",
       "                 min          0.06        0.014\n",
       "irrigation       best         0.13          NaN\n",
       "                 max          0.20          NaN\n",
       "                 min          0.12          NaN\n",
       "river protection maxmax       2.40          NaN\n",
       "                 minmin       0.04          NaN\n",
       "transport        best         1.30        1.300\n",
       "                 max          3.30        2.100\n",
       "                 min          0.53        1.100\n",
       "wash             best         0.55        0.750\n",
       "                 max          0.65        0.750\n",
       "                 min          0.32        0.480"
      ]
     },
     "execution_count": 61,
     "metadata": {},
     "output_type": "execute_result"
    }
   ],
   "source": [
    "res[res.region==\"all_countries\"].set_index([\"sector\",\"scenario\",\"capital vs maintenance\"]).data.unstack(\"capital vs maintenance\")"
   ]
  },
  {
   "cell_type": "markdown",
   "metadata": {},
   "source": [
    "res[res.region==\"all_countries\"].set_index([\"sector\",\"scenario\",\"capital vs maintenance\"]).data.unstack(\"capital vs maintenance\").to_csv('C:\\\\Users\\\\WB451855\\\\OneDrive - WBG\\\\!infra_needs_data\\\\all_percent_results.csv')"
   ]
  },
  {
   "cell_type": "code",
   "execution_count": 62,
   "metadata": {},
   "outputs": [
    {
     "data": {
      "text/html": [
       "<div>\n",
       "<style scoped>\n",
       "    .dataframe tbody tr th:only-of-type {\n",
       "        vertical-align: middle;\n",
       "    }\n",
       "\n",
       "    .dataframe tbody tr th {\n",
       "        vertical-align: top;\n",
       "    }\n",
       "\n",
       "    .dataframe thead th {\n",
       "        text-align: right;\n",
       "    }\n",
       "</style>\n",
       "<table border=\"1\" class=\"dataframe\">\n",
       "  <thead>\n",
       "    <tr style=\"text-align: right;\">\n",
       "      <th></th>\n",
       "      <th>region</th>\n",
       "      <th>sector</th>\n",
       "      <th>scenario</th>\n",
       "      <th>capital vs maintenance</th>\n",
       "      <th>cost_bUSD_disc</th>\n",
       "      <th>cost_bUSD_disc_annual</th>\n",
       "    </tr>\n",
       "  </thead>\n",
       "  <tbody>\n",
       "    <tr>\n",
       "      <th>177</th>\n",
       "      <td>East Asia and Pacific</td>\n",
       "      <td>irrigation</td>\n",
       "      <td>min</td>\n",
       "      <td>capital</td>\n",
       "      <td>264.913018</td>\n",
       "      <td>17.660868</td>\n",
       "    </tr>\n",
       "    <tr>\n",
       "      <th>153</th>\n",
       "      <td>East Asia and Pacific</td>\n",
       "      <td>irrigation</td>\n",
       "      <td>max</td>\n",
       "      <td>capital</td>\n",
       "      <td>529.520308</td>\n",
       "      <td>35.301354</td>\n",
       "    </tr>\n",
       "    <tr>\n",
       "      <th>152</th>\n",
       "      <td>East Asia and Pacific</td>\n",
       "      <td>irrigation</td>\n",
       "      <td>best</td>\n",
       "      <td>capital</td>\n",
       "      <td>299.294087</td>\n",
       "      <td>19.952939</td>\n",
       "    </tr>\n",
       "    <tr>\n",
       "      <th>75</th>\n",
       "      <td>Eastern Europe and Central Asia</td>\n",
       "      <td>irrigation</td>\n",
       "      <td>max</td>\n",
       "      <td>capital</td>\n",
       "      <td>108.834773</td>\n",
       "      <td>7.255652</td>\n",
       "    </tr>\n",
       "    <tr>\n",
       "      <th>74</th>\n",
       "      <td>Eastern Europe and Central Asia</td>\n",
       "      <td>irrigation</td>\n",
       "      <td>best</td>\n",
       "      <td>capital</td>\n",
       "      <td>18.927787</td>\n",
       "      <td>1.261852</td>\n",
       "    </tr>\n",
       "    <tr>\n",
       "      <th>93</th>\n",
       "      <td>Eastern Europe and Central Asia</td>\n",
       "      <td>irrigation</td>\n",
       "      <td>min</td>\n",
       "      <td>capital</td>\n",
       "      <td>14.404125</td>\n",
       "      <td>0.960275</td>\n",
       "    </tr>\n",
       "    <tr>\n",
       "      <th>54</th>\n",
       "      <td>Latin America and Caribbean</td>\n",
       "      <td>irrigation</td>\n",
       "      <td>best</td>\n",
       "      <td>capital</td>\n",
       "      <td>80.062500</td>\n",
       "      <td>5.337500</td>\n",
       "    </tr>\n",
       "    <tr>\n",
       "      <th>55</th>\n",
       "      <td>Latin America and Caribbean</td>\n",
       "      <td>irrigation</td>\n",
       "      <td>max</td>\n",
       "      <td>capital</td>\n",
       "      <td>251.625000</td>\n",
       "      <td>16.775000</td>\n",
       "    </tr>\n",
       "    <tr>\n",
       "      <th>90</th>\n",
       "      <td>Latin America and Caribbean</td>\n",
       "      <td>irrigation</td>\n",
       "      <td>min</td>\n",
       "      <td>capital</td>\n",
       "      <td>57.919871</td>\n",
       "      <td>3.861325</td>\n",
       "    </tr>\n",
       "    <tr>\n",
       "      <th>174</th>\n",
       "      <td>Middle-East and North Africa</td>\n",
       "      <td>irrigation</td>\n",
       "      <td>min</td>\n",
       "      <td>capital</td>\n",
       "      <td>27.210859</td>\n",
       "      <td>1.814057</td>\n",
       "    </tr>\n",
       "    <tr>\n",
       "      <th>110</th>\n",
       "      <td>Middle-East and North Africa</td>\n",
       "      <td>irrigation</td>\n",
       "      <td>best</td>\n",
       "      <td>capital</td>\n",
       "      <td>33.822508</td>\n",
       "      <td>2.254834</td>\n",
       "    </tr>\n",
       "    <tr>\n",
       "      <th>111</th>\n",
       "      <td>Middle-East and North Africa</td>\n",
       "      <td>irrigation</td>\n",
       "      <td>max</td>\n",
       "      <td>capital</td>\n",
       "      <td>54.116012</td>\n",
       "      <td>3.607734</td>\n",
       "    </tr>\n",
       "    <tr>\n",
       "      <th>176</th>\n",
       "      <td>South Asia</td>\n",
       "      <td>irrigation</td>\n",
       "      <td>min</td>\n",
       "      <td>capital</td>\n",
       "      <td>157.261212</td>\n",
       "      <td>10.484081</td>\n",
       "    </tr>\n",
       "    <tr>\n",
       "      <th>139</th>\n",
       "      <td>South Asia</td>\n",
       "      <td>irrigation</td>\n",
       "      <td>max</td>\n",
       "      <td>capital</td>\n",
       "      <td>273.533182</td>\n",
       "      <td>18.235545</td>\n",
       "    </tr>\n",
       "    <tr>\n",
       "      <th>138</th>\n",
       "      <td>South Asia</td>\n",
       "      <td>irrigation</td>\n",
       "      <td>best</td>\n",
       "      <td>capital</td>\n",
       "      <td>171.753394</td>\n",
       "      <td>11.450226</td>\n",
       "    </tr>\n",
       "    <tr>\n",
       "      <th>175</th>\n",
       "      <td>Sub-Saharan Africa</td>\n",
       "      <td>irrigation</td>\n",
       "      <td>min</td>\n",
       "      <td>capital</td>\n",
       "      <td>132.175099</td>\n",
       "      <td>8.811673</td>\n",
       "    </tr>\n",
       "    <tr>\n",
       "      <th>124</th>\n",
       "      <td>Sub-Saharan Africa</td>\n",
       "      <td>irrigation</td>\n",
       "      <td>best</td>\n",
       "      <td>capital</td>\n",
       "      <td>140.430182</td>\n",
       "      <td>9.362012</td>\n",
       "    </tr>\n",
       "    <tr>\n",
       "      <th>125</th>\n",
       "      <td>Sub-Saharan Africa</td>\n",
       "      <td>irrigation</td>\n",
       "      <td>max</td>\n",
       "      <td>capital</td>\n",
       "      <td>288.884945</td>\n",
       "      <td>19.258996</td>\n",
       "    </tr>\n",
       "    <tr>\n",
       "      <th>29</th>\n",
       "      <td>all_countries</td>\n",
       "      <td>irrigation</td>\n",
       "      <td>max</td>\n",
       "      <td>capital</td>\n",
       "      <td>1058.956944</td>\n",
       "      <td>70.597130</td>\n",
       "    </tr>\n",
       "    <tr>\n",
       "      <th>14</th>\n",
       "      <td>all_countries</td>\n",
       "      <td>irrigation</td>\n",
       "      <td>max</td>\n",
       "      <td>maintenance</td>\n",
       "      <td>0.000000</td>\n",
       "      <td>0.000000</td>\n",
       "    </tr>\n",
       "    <tr>\n",
       "      <th>9</th>\n",
       "      <td>all_countries</td>\n",
       "      <td>irrigation</td>\n",
       "      <td>best</td>\n",
       "      <td>maintenance</td>\n",
       "      <td>0.000000</td>\n",
       "      <td>0.000000</td>\n",
       "    </tr>\n",
       "    <tr>\n",
       "      <th>19</th>\n",
       "      <td>all_countries</td>\n",
       "      <td>irrigation</td>\n",
       "      <td>min</td>\n",
       "      <td>capital</td>\n",
       "      <td>635.374167</td>\n",
       "      <td>42.358278</td>\n",
       "    </tr>\n",
       "    <tr>\n",
       "      <th>24</th>\n",
       "      <td>all_countries</td>\n",
       "      <td>irrigation</td>\n",
       "      <td>best</td>\n",
       "      <td>capital</td>\n",
       "      <td>688.322014</td>\n",
       "      <td>45.888134</td>\n",
       "    </tr>\n",
       "    <tr>\n",
       "      <th>4</th>\n",
       "      <td>all_countries</td>\n",
       "      <td>irrigation</td>\n",
       "      <td>min</td>\n",
       "      <td>maintenance</td>\n",
       "      <td>0.000000</td>\n",
       "      <td>0.000000</td>\n",
       "    </tr>\n",
       "  </tbody>\n",
       "</table>\n",
       "</div>"
      ],
      "text/plain": [
       "                              region      sector scenario  \\\n",
       "177            East Asia and Pacific  irrigation      min   \n",
       "153            East Asia and Pacific  irrigation      max   \n",
       "152            East Asia and Pacific  irrigation     best   \n",
       "75   Eastern Europe and Central Asia  irrigation      max   \n",
       "74   Eastern Europe and Central Asia  irrigation     best   \n",
       "93   Eastern Europe and Central Asia  irrigation      min   \n",
       "54       Latin America and Caribbean  irrigation     best   \n",
       "55       Latin America and Caribbean  irrigation      max   \n",
       "90       Latin America and Caribbean  irrigation      min   \n",
       "174     Middle-East and North Africa  irrigation      min   \n",
       "110     Middle-East and North Africa  irrigation     best   \n",
       "111     Middle-East and North Africa  irrigation      max   \n",
       "176                       South Asia  irrigation      min   \n",
       "139                       South Asia  irrigation      max   \n",
       "138                       South Asia  irrigation     best   \n",
       "175               Sub-Saharan Africa  irrigation      min   \n",
       "124               Sub-Saharan Africa  irrigation     best   \n",
       "125               Sub-Saharan Africa  irrigation      max   \n",
       "29                     all_countries  irrigation      max   \n",
       "14                     all_countries  irrigation      max   \n",
       "9                      all_countries  irrigation     best   \n",
       "19                     all_countries  irrigation      min   \n",
       "24                     all_countries  irrigation     best   \n",
       "4                      all_countries  irrigation      min   \n",
       "\n",
       "    capital vs maintenance  cost_bUSD_disc  cost_bUSD_disc_annual  \n",
       "177                capital      264.913018              17.660868  \n",
       "153                capital      529.520308              35.301354  \n",
       "152                capital      299.294087              19.952939  \n",
       "75                 capital      108.834773               7.255652  \n",
       "74                 capital       18.927787               1.261852  \n",
       "93                 capital       14.404125               0.960275  \n",
       "54                 capital       80.062500               5.337500  \n",
       "55                 capital      251.625000              16.775000  \n",
       "90                 capital       57.919871               3.861325  \n",
       "174                capital       27.210859               1.814057  \n",
       "110                capital       33.822508               2.254834  \n",
       "111                capital       54.116012               3.607734  \n",
       "176                capital      157.261212              10.484081  \n",
       "139                capital      273.533182              18.235545  \n",
       "138                capital      171.753394              11.450226  \n",
       "175                capital      132.175099               8.811673  \n",
       "124                capital      140.430182               9.362012  \n",
       "125                capital      288.884945              19.258996  \n",
       "29                 capital     1058.956944              70.597130  \n",
       "14             maintenance        0.000000               0.000000  \n",
       "9              maintenance        0.000000               0.000000  \n",
       "19                 capital      635.374167              42.358278  \n",
       "24                 capital      688.322014              45.888134  \n",
       "4              maintenance        0.000000               0.000000  "
      ]
     },
     "execution_count": 62,
     "metadata": {},
     "output_type": "execute_result"
    }
   ],
   "source": [
    "newdata2[newdata2.sector==\"irrigation\"].sort_values(\"region\")"
   ]
  },
  {
   "cell_type": "code",
   "execution_count": 65,
   "metadata": {},
   "outputs": [],
   "source": [
    "region_totals = newdata2.set_index([\"region\",\"sector\",\"scenario\",\"capital vs maintenance\"]).drop(\"all_countries\",level=\"region\").sum(level=[\"region\",\"scenario\",\"capital vs maintenance\"]).cost_bUSD_disc_annual.unstack(\"capital vs maintenance\").capital"
   ]
  },
  {
   "cell_type": "code",
   "execution_count": 70,
   "metadata": {},
   "outputs": [],
   "source": [
    "region_totals = region_totals.reset_index()"
   ]
  },
  {
   "cell_type": "code",
   "execution_count": 76,
   "metadata": {},
   "outputs": [],
   "source": [
    "region_totals['region2'] = region_totals.region\n",
    "\n",
    "region_totals.loc[region_totals.region=='Africa','region2']='Africa'\n",
    "region_totals.loc[region_totals.region=='Middle-East and North Africa','region2']='Africa'\n",
    "region_totals.loc[region_totals.region=='Sub-Saharan Africa','region2']='Africa'\n",
    "region_totals.loc[region_totals.region=='Asia','region2']='Asia'\n",
    "region_totals.loc[region_totals.region=='South Asia','region2']='Asia'\n",
    "region_totals.loc[region_totals.region=='East Asia and Pacific','region2']='Asia'"
   ]
  },
  {
   "cell_type": "code",
   "execution_count": 79,
   "metadata": {},
   "outputs": [],
   "source": [
    "region_totals2 = region_totals.set_index(['region2','scenario']).capital.sum(level=[\"region2\",'scenario'])"
   ]
  },
  {
   "cell_type": "code",
   "execution_count": 82,
   "metadata": {},
   "outputs": [],
   "source": [
    "region_totals2 = region_totals2.unstack(\"scenario\")"
   ]
  },
  {
   "cell_type": "code",
   "execution_count": 83,
   "metadata": {},
   "outputs": [
    {
     "data": {
      "text/plain": [
       "scenario\n",
       "best    1545.537453\n",
       "max     2745.250838\n",
       "min      637.547114\n",
       "dtype: float64"
      ]
     },
     "execution_count": 83,
     "metadata": {},
     "output_type": "execute_result"
    }
   ],
   "source": [
    "region_totals2.sum(axis=0)"
   ]
  },
  {
   "cell_type": "code",
   "execution_count": 85,
   "metadata": {},
   "outputs": [],
   "source": [
    "region_totalspc = region_totals2/region_totals2.sum(axis=0)"
   ]
  },
  {
   "cell_type": "code",
   "execution_count": 87,
   "metadata": {},
   "outputs": [
    {
     "data": {
      "text/html": [
       "<div>\n",
       "<style scoped>\n",
       "    .dataframe tbody tr th:only-of-type {\n",
       "        vertical-align: middle;\n",
       "    }\n",
       "\n",
       "    .dataframe tbody tr th {\n",
       "        vertical-align: top;\n",
       "    }\n",
       "\n",
       "    .dataframe thead th {\n",
       "        text-align: right;\n",
       "    }\n",
       "</style>\n",
       "<table border=\"1\" class=\"dataframe\">\n",
       "  <thead>\n",
       "    <tr style=\"text-align: right;\">\n",
       "      <th>scenario</th>\n",
       "      <th>best</th>\n",
       "      <th>max</th>\n",
       "      <th>min</th>\n",
       "    </tr>\n",
       "    <tr>\n",
       "      <th>region2</th>\n",
       "      <th></th>\n",
       "      <th></th>\n",
       "      <th></th>\n",
       "    </tr>\n",
       "  </thead>\n",
       "  <tbody>\n",
       "    <tr>\n",
       "      <th>Africa</th>\n",
       "      <td>0.204224</td>\n",
       "      <td>0.225473</td>\n",
       "      <td>0.228065</td>\n",
       "    </tr>\n",
       "    <tr>\n",
       "      <th>Asia</th>\n",
       "      <td>0.512672</td>\n",
       "      <td>0.504093</td>\n",
       "      <td>0.493327</td>\n",
       "    </tr>\n",
       "    <tr>\n",
       "      <th>Eastern Europe and Central Asia</th>\n",
       "      <td>0.118324</td>\n",
       "      <td>0.059585</td>\n",
       "      <td>0.054547</td>\n",
       "    </tr>\n",
       "    <tr>\n",
       "      <th>Latin America and Caribbean</th>\n",
       "      <td>0.164781</td>\n",
       "      <td>0.210849</td>\n",
       "      <td>0.224061</td>\n",
       "    </tr>\n",
       "  </tbody>\n",
       "</table>\n",
       "</div>"
      ],
      "text/plain": [
       "scenario                             best       max       min\n",
       "region2                                                      \n",
       "Africa                           0.204224  0.225473  0.228065\n",
       "Asia                             0.512672  0.504093  0.493327\n",
       "Eastern Europe and Central Asia  0.118324  0.059585  0.054547\n",
       "Latin America and Caribbean      0.164781  0.210849  0.224061"
      ]
     },
     "execution_count": 87,
     "metadata": {},
     "output_type": "execute_result"
    }
   ],
   "source": [
    "region_totalspc"
   ]
  },
  {
   "cell_type": "markdown",
   "metadata": {},
   "source": [
    "faux: ne pas faire le truc ci-dessous (a corriger)"
   ]
  },
  {
   "cell_type": "code",
   "execution_count": 136,
   "metadata": {},
   "outputs": [],
   "source": [
    "region_pc_totals = mydata.copy()\n",
    "region_pc_totals['region2'] = region_pc_totals.region\n",
    "\n",
    "region_pc_totals.loc[region_pc_totals.region=='Africa','region2']='Africa'\n",
    "region_pc_totals.loc[region_pc_totals.region=='Middle-East and North Africa','region2']='Africa'\n",
    "region_pc_totals.loc[region_pc_totals.region=='Sub-Saharan Africa','region2']='Africa'\n",
    "region_pc_totals.loc[region_pc_totals.region=='Asia','region2']='Asia'\n",
    "region_pc_totals.loc[region_pc_totals.region=='South Asia','region2']='Asia'\n",
    "region_pc_totals.loc[region_pc_totals.region=='East Asia and Pacific','region2']='Asia'"
   ]
  },
  {
   "cell_type": "code",
   "execution_count": 137,
   "metadata": {},
   "outputs": [
    {
     "data": {
      "text/plain": [
       "Index(['region', 'sector', 'scenario', 'variable', 'capital vs maintenance',\n",
       "       'data', 'ssp', 'year', 'GDP', 'cost_bUSD', 'discount_factor',\n",
       "       'cost_bUSD_disc', 'region2'],\n",
       "      dtype='object')"
      ]
     },
     "execution_count": 137,
     "metadata": {},
     "output_type": "execute_result"
    }
   ],
   "source": [
    "region_pc_totals.columns"
   ]
  },
  {
   "cell_type": "code",
   "execution_count": 138,
   "metadata": {},
   "outputs": [
    {
     "data": {
      "text/html": [
       "<div>\n",
       "<style scoped>\n",
       "    .dataframe tbody tr th:only-of-type {\n",
       "        vertical-align: middle;\n",
       "    }\n",
       "\n",
       "    .dataframe tbody tr th {\n",
       "        vertical-align: top;\n",
       "    }\n",
       "\n",
       "    .dataframe thead th {\n",
       "        text-align: right;\n",
       "    }\n",
       "</style>\n",
       "<table border=\"1\" class=\"dataframe\">\n",
       "  <thead>\n",
       "    <tr style=\"text-align: right;\">\n",
       "      <th></th>\n",
       "      <th>region</th>\n",
       "      <th>sector</th>\n",
       "      <th>scenario</th>\n",
       "      <th>variable</th>\n",
       "      <th>capital vs maintenance</th>\n",
       "      <th>data</th>\n",
       "      <th>ssp</th>\n",
       "      <th>year</th>\n",
       "      <th>GDP</th>\n",
       "      <th>cost_bUSD</th>\n",
       "      <th>discount_factor</th>\n",
       "      <th>cost_bUSD_disc</th>\n",
       "      <th>region2</th>\n",
       "    </tr>\n",
       "  </thead>\n",
       "  <tbody>\n",
       "    <tr>\n",
       "      <th>3133</th>\n",
       "      <td>South Asia</td>\n",
       "      <td>river protection</td>\n",
       "      <td>min</td>\n",
       "      <td>% GDP</td>\n",
       "      <td>maintenance</td>\n",
       "      <td>0.0096</td>\n",
       "      <td>ssp3</td>\n",
       "      <td>2028</td>\n",
       "      <td>7.441400e+12</td>\n",
       "      <td>0.714374</td>\n",
       "      <td>0.496969</td>\n",
       "      <td>0.355022</td>\n",
       "      <td>Asia</td>\n",
       "    </tr>\n",
       "    <tr>\n",
       "      <th>964</th>\n",
       "      <td>Latin America and Caribbean</td>\n",
       "      <td>river protection</td>\n",
       "      <td>best</td>\n",
       "      <td>% GDP</td>\n",
       "      <td>capital</td>\n",
       "      <td>0.1100</td>\n",
       "      <td>ssp2</td>\n",
       "      <td>2019</td>\n",
       "      <td>9.294505e+12</td>\n",
       "      <td>10.223955</td>\n",
       "      <td>0.839619</td>\n",
       "      <td>8.584230</td>\n",
       "      <td>Latin America and Caribbean</td>\n",
       "    </tr>\n",
       "    <tr>\n",
       "      <th>2849</th>\n",
       "      <td>Middle-East and North Africa</td>\n",
       "      <td>coastal protection</td>\n",
       "      <td>max</td>\n",
       "      <td>% GDP</td>\n",
       "      <td>capital</td>\n",
       "      <td>0.0830</td>\n",
       "      <td>ssp5</td>\n",
       "      <td>2016</td>\n",
       "      <td>2.387363e+12</td>\n",
       "      <td>1.981511</td>\n",
       "      <td>1.000000</td>\n",
       "      <td>1.981511</td>\n",
       "      <td>Africa</td>\n",
       "    </tr>\n",
       "    <tr>\n",
       "      <th>822</th>\n",
       "      <td>Latin America and Caribbean</td>\n",
       "      <td>wash</td>\n",
       "      <td>best</td>\n",
       "      <td>% GDP</td>\n",
       "      <td>maintenance</td>\n",
       "      <td>0.1600</td>\n",
       "      <td>ssp2</td>\n",
       "      <td>2021</td>\n",
       "      <td>9.948135e+12</td>\n",
       "      <td>15.917016</td>\n",
       "      <td>0.747258</td>\n",
       "      <td>11.894120</td>\n",
       "      <td>Latin America and Caribbean</td>\n",
       "    </tr>\n",
       "    <tr>\n",
       "      <th>1971</th>\n",
       "      <td>Sub-Saharan Africa</td>\n",
       "      <td>wash</td>\n",
       "      <td>min</td>\n",
       "      <td>% GDP</td>\n",
       "      <td>maintenance</td>\n",
       "      <td>0.2000</td>\n",
       "      <td>ssp2</td>\n",
       "      <td>2018</td>\n",
       "      <td>2.867385e+12</td>\n",
       "      <td>5.734769</td>\n",
       "      <td>0.889996</td>\n",
       "      <td>5.103924</td>\n",
       "      <td>Africa</td>\n",
       "    </tr>\n",
       "  </tbody>\n",
       "</table>\n",
       "</div>"
      ],
      "text/plain": [
       "                            region              sector scenario variable  \\\n",
       "3133                    South Asia    river protection      min    % GDP   \n",
       "964    Latin America and Caribbean    river protection     best    % GDP   \n",
       "2849  Middle-East and North Africa  coastal protection      max    % GDP   \n",
       "822    Latin America and Caribbean                wash     best    % GDP   \n",
       "1971            Sub-Saharan Africa                wash      min    % GDP   \n",
       "\n",
       "     capital vs maintenance    data   ssp  year           GDP  cost_bUSD  \\\n",
       "3133            maintenance  0.0096  ssp3  2028  7.441400e+12   0.714374   \n",
       "964                 capital  0.1100  ssp2  2019  9.294505e+12  10.223955   \n",
       "2849                capital  0.0830  ssp5  2016  2.387363e+12   1.981511   \n",
       "822             maintenance  0.1600  ssp2  2021  9.948135e+12  15.917016   \n",
       "1971            maintenance  0.2000  ssp2  2018  2.867385e+12   5.734769   \n",
       "\n",
       "      discount_factor  cost_bUSD_disc                      region2  \n",
       "3133         0.496969        0.355022                         Asia  \n",
       "964          0.839619        8.584230  Latin America and Caribbean  \n",
       "2849         1.000000        1.981511                       Africa  \n",
       "822          0.747258       11.894120  Latin America and Caribbean  \n",
       "1971         0.889996        5.103924                       Africa  "
      ]
     },
     "execution_count": 138,
     "metadata": {},
     "output_type": "execute_result"
    }
   ],
   "source": [
    "region_pc_totals.sample(5)"
   ]
  },
  {
   "cell_type": "code",
   "execution_count": 139,
   "metadata": {},
   "outputs": [],
   "source": [
    "region_pc_totals = region_pc_totals.set_index(['sector','scenario','capital vs maintenance','region2','year'])[['cost_bUSD','cost_bUSD_disc','GDP']].sum(level=['scenario','sector','capital vs maintenance','region2','year']).drop(\"all_countries\",level=\"region2\")"
   ]
  },
  {
   "cell_type": "code",
   "execution_count": 140,
   "metadata": {},
   "outputs": [
    {
     "data": {
      "text/html": [
       "<div>\n",
       "<style scoped>\n",
       "    .dataframe tbody tr th:only-of-type {\n",
       "        vertical-align: middle;\n",
       "    }\n",
       "\n",
       "    .dataframe tbody tr th {\n",
       "        vertical-align: top;\n",
       "    }\n",
       "\n",
       "    .dataframe thead th {\n",
       "        text-align: right;\n",
       "    }\n",
       "</style>\n",
       "<table border=\"1\" class=\"dataframe\">\n",
       "  <thead>\n",
       "    <tr style=\"text-align: right;\">\n",
       "      <th></th>\n",
       "      <th></th>\n",
       "      <th></th>\n",
       "      <th></th>\n",
       "      <th></th>\n",
       "      <th>cost_bUSD</th>\n",
       "      <th>cost_bUSD_disc</th>\n",
       "      <th>GDP</th>\n",
       "    </tr>\n",
       "    <tr>\n",
       "      <th>scenario</th>\n",
       "      <th>sector</th>\n",
       "      <th>capital vs maintenance</th>\n",
       "      <th>region2</th>\n",
       "      <th>year</th>\n",
       "      <th></th>\n",
       "      <th></th>\n",
       "      <th></th>\n",
       "    </tr>\n",
       "  </thead>\n",
       "  <tbody>\n",
       "    <tr>\n",
       "      <th rowspan=\"2\" valign=\"top\">max</th>\n",
       "      <th rowspan=\"2\" valign=\"top\">river protection</th>\n",
       "      <th rowspan=\"2\" valign=\"top\">maintenance</th>\n",
       "      <th rowspan=\"2\" valign=\"top\">Asia</th>\n",
       "      <th>2030</th>\n",
       "      <td>5.745447</td>\n",
       "      <td>2.541217</td>\n",
       "      <td>3.988332e+13</td>\n",
       "    </tr>\n",
       "    <tr>\n",
       "      <th>2022</th>\n",
       "      <td>3.811146</td>\n",
       "      <td>2.686707</td>\n",
       "      <td>2.670738e+13</td>\n",
       "    </tr>\n",
       "    <tr>\n",
       "      <th rowspan=\"2\" valign=\"top\">best</th>\n",
       "      <th>energy</th>\n",
       "      <th>maintenance</th>\n",
       "      <th>Eastern Europe and Central Asia</th>\n",
       "      <th>2021</th>\n",
       "      <td>45.142729</td>\n",
       "      <td>33.733273</td>\n",
       "      <td>4.103884e+12</td>\n",
       "    </tr>\n",
       "    <tr>\n",
       "      <th>river protection</th>\n",
       "      <th>capital</th>\n",
       "      <th>Latin America and Caribbean</th>\n",
       "      <th>2016</th>\n",
       "      <td>9.142694</td>\n",
       "      <td>9.142694</td>\n",
       "      <td>8.311540e+12</td>\n",
       "    </tr>\n",
       "    <tr>\n",
       "      <th>min</th>\n",
       "      <th>transport</th>\n",
       "      <th>maintenance</th>\n",
       "      <th>Africa</th>\n",
       "      <th>2018</th>\n",
       "      <td>46.097413</td>\n",
       "      <td>41.026533</td>\n",
       "      <td>5.423225e+12</td>\n",
       "    </tr>\n",
       "    <tr>\n",
       "      <th rowspan=\"2\" valign=\"top\">max</th>\n",
       "      <th>coastal protection</th>\n",
       "      <th>capital</th>\n",
       "      <th>Asia</th>\n",
       "      <th>2030</th>\n",
       "      <td>79.561358</td>\n",
       "      <td>35.190065</td>\n",
       "      <td>4.906199e+13</td>\n",
       "    </tr>\n",
       "    <tr>\n",
       "      <th>wash</th>\n",
       "      <th>maintenance</th>\n",
       "      <th>Eastern Europe and Central Asia</th>\n",
       "      <th>2018</th>\n",
       "      <td>4.746466</td>\n",
       "      <td>4.224338</td>\n",
       "      <td>3.651128e+12</td>\n",
       "    </tr>\n",
       "    <tr>\n",
       "      <th>min</th>\n",
       "      <th>transport</th>\n",
       "      <th>maintenance</th>\n",
       "      <th>Eastern Europe and Central Asia</th>\n",
       "      <th>2019</th>\n",
       "      <td>75.612503</td>\n",
       "      <td>63.485716</td>\n",
       "      <td>3.799623e+12</td>\n",
       "    </tr>\n",
       "    <tr>\n",
       "      <th>best</th>\n",
       "      <th>river protection</th>\n",
       "      <th>maintenance</th>\n",
       "      <th>Latin America and Caribbean</th>\n",
       "      <th>2028</th>\n",
       "      <td>0.743927</td>\n",
       "      <td>0.369709</td>\n",
       "      <td>1.239878e+13</td>\n",
       "    </tr>\n",
       "    <tr>\n",
       "      <th>min</th>\n",
       "      <th>coastal protection</th>\n",
       "      <th>capital</th>\n",
       "      <th>Africa</th>\n",
       "      <th>2019</th>\n",
       "      <td>0.364194</td>\n",
       "      <td>0.305784</td>\n",
       "      <td>5.685305e+12</td>\n",
       "    </tr>\n",
       "  </tbody>\n",
       "</table>\n",
       "</div>"
      ],
      "text/plain": [
       "                                                                                         cost_bUSD  \\\n",
       "scenario sector             capital vs maintenance region2                         year              \n",
       "max      river protection   maintenance            Asia                            2030   5.745447   \n",
       "                                                                                   2022   3.811146   \n",
       "best     energy             maintenance            Eastern Europe and Central Asia 2021  45.142729   \n",
       "         river protection   capital                Latin America and Caribbean     2016   9.142694   \n",
       "min      transport          maintenance            Africa                          2018  46.097413   \n",
       "max      coastal protection capital                Asia                            2030  79.561358   \n",
       "         wash               maintenance            Eastern Europe and Central Asia 2018   4.746466   \n",
       "min      transport          maintenance            Eastern Europe and Central Asia 2019  75.612503   \n",
       "best     river protection   maintenance            Latin America and Caribbean     2028   0.743927   \n",
       "min      coastal protection capital                Africa                          2019   0.364194   \n",
       "\n",
       "                                                                                         cost_bUSD_disc  \\\n",
       "scenario sector             capital vs maintenance region2                         year                   \n",
       "max      river protection   maintenance            Asia                            2030        2.541217   \n",
       "                                                                                   2022        2.686707   \n",
       "best     energy             maintenance            Eastern Europe and Central Asia 2021       33.733273   \n",
       "         river protection   capital                Latin America and Caribbean     2016        9.142694   \n",
       "min      transport          maintenance            Africa                          2018       41.026533   \n",
       "max      coastal protection capital                Asia                            2030       35.190065   \n",
       "         wash               maintenance            Eastern Europe and Central Asia 2018        4.224338   \n",
       "min      transport          maintenance            Eastern Europe and Central Asia 2019       63.485716   \n",
       "best     river protection   maintenance            Latin America and Caribbean     2028        0.369709   \n",
       "min      coastal protection capital                Africa                          2019        0.305784   \n",
       "\n",
       "                                                                                                  GDP  \n",
       "scenario sector             capital vs maintenance region2                         year                \n",
       "max      river protection   maintenance            Asia                            2030  3.988332e+13  \n",
       "                                                                                   2022  2.670738e+13  \n",
       "best     energy             maintenance            Eastern Europe and Central Asia 2021  4.103884e+12  \n",
       "         river protection   capital                Latin America and Caribbean     2016  8.311540e+12  \n",
       "min      transport          maintenance            Africa                          2018  5.423225e+12  \n",
       "max      coastal protection capital                Asia                            2030  4.906199e+13  \n",
       "         wash               maintenance            Eastern Europe and Central Asia 2018  3.651128e+12  \n",
       "min      transport          maintenance            Eastern Europe and Central Asia 2019  3.799623e+12  \n",
       "best     river protection   maintenance            Latin America and Caribbean     2028  1.239878e+13  \n",
       "min      coastal protection capital                Africa                          2019  5.685305e+12  "
      ]
     },
     "execution_count": 140,
     "metadata": {},
     "output_type": "execute_result"
    }
   ],
   "source": [
    "region_pc_totals.sample(10)"
   ]
  },
  {
   "cell_type": "code",
   "execution_count": 141,
   "metadata": {},
   "outputs": [],
   "source": [
    "region_pc_totals2 = region_pc_totals[['cost_bUSD','cost_bUSD_disc']].sum(level=['scenario','capital vs maintenance','region2','year'])"
   ]
  },
  {
   "cell_type": "code",
   "execution_count": 142,
   "metadata": {},
   "outputs": [],
   "source": [
    "region_pc_totals2['GDP'] = region_pc_totals.GDP.mean(level=['scenario','capital vs maintenance','region2','year'])"
   ]
  },
  {
   "cell_type": "code",
   "execution_count": 143,
   "metadata": {},
   "outputs": [
    {
     "data": {
      "text/html": [
       "<div>\n",
       "<style scoped>\n",
       "    .dataframe tbody tr th:only-of-type {\n",
       "        vertical-align: middle;\n",
       "    }\n",
       "\n",
       "    .dataframe tbody tr th {\n",
       "        vertical-align: top;\n",
       "    }\n",
       "\n",
       "    .dataframe thead th {\n",
       "        text-align: right;\n",
       "    }\n",
       "</style>\n",
       "<table border=\"1\" class=\"dataframe\">\n",
       "  <thead>\n",
       "    <tr style=\"text-align: right;\">\n",
       "      <th></th>\n",
       "      <th></th>\n",
       "      <th></th>\n",
       "      <th></th>\n",
       "      <th>cost_bUSD</th>\n",
       "      <th>cost_bUSD_disc</th>\n",
       "      <th>GDP</th>\n",
       "    </tr>\n",
       "    <tr>\n",
       "      <th>scenario</th>\n",
       "      <th>capital vs maintenance</th>\n",
       "      <th>region2</th>\n",
       "      <th>year</th>\n",
       "      <th></th>\n",
       "      <th></th>\n",
       "      <th></th>\n",
       "    </tr>\n",
       "  </thead>\n",
       "  <tbody>\n",
       "    <tr>\n",
       "      <th>max</th>\n",
       "      <th>maintenance</th>\n",
       "      <th>Africa</th>\n",
       "      <th>2022</th>\n",
       "      <td>132.774687</td>\n",
       "      <td>93.600915</td>\n",
       "      <td>6.598320e+12</td>\n",
       "    </tr>\n",
       "    <tr>\n",
       "      <th>min</th>\n",
       "      <th>maintenance</th>\n",
       "      <th>Asia</th>\n",
       "      <th>2022</th>\n",
       "      <td>567.396689</td>\n",
       "      <td>399.992276</td>\n",
       "      <td>2.678501e+13</td>\n",
       "    </tr>\n",
       "    <tr>\n",
       "      <th>best</th>\n",
       "      <th>capital</th>\n",
       "      <th>Africa</th>\n",
       "      <th>2019</th>\n",
       "      <td>363.000115</td>\n",
       "      <td>304.781896</td>\n",
       "      <td>5.685305e+12</td>\n",
       "    </tr>\n",
       "  </tbody>\n",
       "</table>\n",
       "</div>"
      ],
      "text/plain": [
       "                                               cost_bUSD  cost_bUSD_disc  \\\n",
       "scenario capital vs maintenance region2 year                               \n",
       "max      maintenance            Africa  2022  132.774687       93.600915   \n",
       "min      maintenance            Asia    2022  567.396689      399.992276   \n",
       "best     capital                Africa  2019  363.000115      304.781896   \n",
       "\n",
       "                                                       GDP  \n",
       "scenario capital vs maintenance region2 year                \n",
       "max      maintenance            Africa  2022  6.598320e+12  \n",
       "min      maintenance            Asia    2022  2.678501e+13  \n",
       "best     capital                Africa  2019  5.685305e+12  "
      ]
     },
     "execution_count": 143,
     "metadata": {},
     "output_type": "execute_result"
    }
   ],
   "source": [
    "region_pc_totals2.sample(3)"
   ]
  },
  {
   "cell_type": "code",
   "execution_count": 144,
   "metadata": {},
   "outputs": [],
   "source": [
    "region_pc_totals2['new_data'] = 100*1e9*region_pc_totals2.cost_bUSD/region_pc_totals2.GDP"
   ]
  },
  {
   "cell_type": "code",
   "execution_count": 145,
   "metadata": {},
   "outputs": [],
   "source": [
    "region_pc_totals_mean = region_pc_totals2['new_data'].mean(level=['scenario','capital vs maintenance','region2']).to_frame()"
   ]
  },
  {
   "cell_type": "code",
   "execution_count": 150,
   "metadata": {},
   "outputs": [],
   "source": [
    "region_pc_totals_mean['cost_bUSD_disc'] = 1/15*region_pc_totals2['cost_bUSD_disc'].sum(level=['scenario','capital vs maintenance','region2'])"
   ]
  },
  {
   "cell_type": "code",
   "execution_count": 151,
   "metadata": {},
   "outputs": [
    {
     "data": {
      "text/html": [
       "<div>\n",
       "<style scoped>\n",
       "    .dataframe tbody tr th:only-of-type {\n",
       "        vertical-align: middle;\n",
       "    }\n",
       "\n",
       "    .dataframe tbody tr th {\n",
       "        vertical-align: top;\n",
       "    }\n",
       "\n",
       "    .dataframe thead tr th {\n",
       "        text-align: left;\n",
       "    }\n",
       "\n",
       "    .dataframe thead tr:last-of-type th {\n",
       "        text-align: right;\n",
       "    }\n",
       "</style>\n",
       "<table border=\"1\" class=\"dataframe\">\n",
       "  <thead>\n",
       "    <tr>\n",
       "      <th></th>\n",
       "      <th></th>\n",
       "      <th colspan=\"2\" halign=\"left\">new_data</th>\n",
       "      <th colspan=\"2\" halign=\"left\">cost_bUSD_disc</th>\n",
       "    </tr>\n",
       "    <tr>\n",
       "      <th></th>\n",
       "      <th>capital vs maintenance</th>\n",
       "      <th>capital</th>\n",
       "      <th>maintenance</th>\n",
       "      <th>capital</th>\n",
       "      <th>maintenance</th>\n",
       "    </tr>\n",
       "    <tr>\n",
       "      <th>scenario</th>\n",
       "      <th>region2</th>\n",
       "      <th></th>\n",
       "      <th></th>\n",
       "      <th></th>\n",
       "      <th></th>\n",
       "    </tr>\n",
       "  </thead>\n",
       "  <tbody>\n",
       "    <tr>\n",
       "      <th rowspan=\"4\" valign=\"top\">best</th>\n",
       "      <th>Africa</th>\n",
       "      <td>6.404040</td>\n",
       "      <td>1.758783</td>\n",
       "      <td>315.635356</td>\n",
       "      <td>86.687476</td>\n",
       "    </tr>\n",
       "    <tr>\n",
       "      <th>Asia</th>\n",
       "      <td>4.044901</td>\n",
       "      <td>2.538012</td>\n",
       "      <td>792.353132</td>\n",
       "      <td>497.174612</td>\n",
       "    </tr>\n",
       "    <tr>\n",
       "      <th>Eastern Europe and Central Asia</th>\n",
       "      <td>5.797000</td>\n",
       "      <td>3.042000</td>\n",
       "      <td>182.873965</td>\n",
       "      <td>95.963878</td>\n",
       "    </tr>\n",
       "    <tr>\n",
       "      <th>Latin America and Caribbean</th>\n",
       "      <td>3.340000</td>\n",
       "      <td>1.036000</td>\n",
       "      <td>254.675000</td>\n",
       "      <td>78.995000</td>\n",
       "    </tr>\n",
       "    <tr>\n",
       "      <th rowspan=\"4\" valign=\"top\">max</th>\n",
       "      <th>Africa</th>\n",
       "      <td>12.517166</td>\n",
       "      <td>1.997028</td>\n",
       "      <td>618.981138</td>\n",
       "      <td>98.931500</td>\n",
       "    </tr>\n",
       "    <tr>\n",
       "      <th>Asia</th>\n",
       "      <td>7.004895</td>\n",
       "      <td>2.688579</td>\n",
       "      <td>1383.861351</td>\n",
       "      <td>533.344619</td>\n",
       "    </tr>\n",
       "    <tr>\n",
       "      <th>Eastern Europe and Central Asia</th>\n",
       "      <td>5.166284</td>\n",
       "      <td>2.660183</td>\n",
       "      <td>163.575944</td>\n",
       "      <td>84.427493</td>\n",
       "    </tr>\n",
       "    <tr>\n",
       "      <th>Latin America and Caribbean</th>\n",
       "      <td>7.568284</td>\n",
       "      <td>1.169950</td>\n",
       "      <td>578.832406</td>\n",
       "      <td>89.604916</td>\n",
       "    </tr>\n",
       "    <tr>\n",
       "      <th rowspan=\"4\" valign=\"top\">min</th>\n",
       "      <th>Africa</th>\n",
       "      <td>2.939233</td>\n",
       "      <td>1.057547</td>\n",
       "      <td>145.402183</td>\n",
       "      <td>52.155167</td>\n",
       "    </tr>\n",
       "    <tr>\n",
       "      <th>Asia</th>\n",
       "      <td>1.589688</td>\n",
       "      <td>2.144280</td>\n",
       "      <td>314.519356</td>\n",
       "      <td>421.735824</td>\n",
       "    </tr>\n",
       "    <tr>\n",
       "      <th>Eastern Europe and Central Asia</th>\n",
       "      <td>1.098990</td>\n",
       "      <td>2.114121</td>\n",
       "      <td>34.776291</td>\n",
       "      <td>66.631666</td>\n",
       "    </tr>\n",
       "    <tr>\n",
       "      <th>Latin America and Caribbean</th>\n",
       "      <td>1.869217</td>\n",
       "      <td>0.669840</td>\n",
       "      <td>142.849285</td>\n",
       "      <td>51.057072</td>\n",
       "    </tr>\n",
       "  </tbody>\n",
       "</table>\n",
       "</div>"
      ],
      "text/plain": [
       "                                           new_data              \\\n",
       "capital vs maintenance                      capital maintenance   \n",
       "scenario region2                                                  \n",
       "best     Africa                            6.404040    1.758783   \n",
       "         Asia                              4.044901    2.538012   \n",
       "         Eastern Europe and Central Asia   5.797000    3.042000   \n",
       "         Latin America and Caribbean       3.340000    1.036000   \n",
       "max      Africa                           12.517166    1.997028   \n",
       "         Asia                              7.004895    2.688579   \n",
       "         Eastern Europe and Central Asia   5.166284    2.660183   \n",
       "         Latin America and Caribbean       7.568284    1.169950   \n",
       "min      Africa                            2.939233    1.057547   \n",
       "         Asia                              1.589688    2.144280   \n",
       "         Eastern Europe and Central Asia   1.098990    2.114121   \n",
       "         Latin America and Caribbean       1.869217    0.669840   \n",
       "\n",
       "                                         cost_bUSD_disc              \n",
       "capital vs maintenance                          capital maintenance  \n",
       "scenario region2                                                     \n",
       "best     Africa                              315.635356   86.687476  \n",
       "         Asia                                792.353132  497.174612  \n",
       "         Eastern Europe and Central Asia     182.873965   95.963878  \n",
       "         Latin America and Caribbean         254.675000   78.995000  \n",
       "max      Africa                              618.981138   98.931500  \n",
       "         Asia                               1383.861351  533.344619  \n",
       "         Eastern Europe and Central Asia     163.575944   84.427493  \n",
       "         Latin America and Caribbean         578.832406   89.604916  \n",
       "min      Africa                              145.402183   52.155167  \n",
       "         Asia                                314.519356  421.735824  \n",
       "         Eastern Europe and Central Asia      34.776291   66.631666  \n",
       "         Latin America and Caribbean         142.849285   51.057072  "
      ]
     },
     "execution_count": 151,
     "metadata": {},
     "output_type": "execute_result"
    }
   ],
   "source": [
    "region_pc_totals_mean.unstack(\"capital vs maintenance\")"
   ]
  },
  {
   "cell_type": "code",
   "execution_count": 152,
   "metadata": {},
   "outputs": [],
   "source": [
    "region_pc_totals_mean.unstack(\"capital vs maintenance\").to_excel(\"C:\\\\Users\\\\WB451855\\\\OneDrive - WBG\\\\!infra_needs_data\\\\aggregated_regions_numbers.xlsx\")"
   ]
  },
  {
   "cell_type": "code",
   "execution_count": 158,
   "metadata": {},
   "outputs": [],
   "source": [
    "region_pc_totals3 = 1/15*region_pc_totals[['cost_bUSD_disc']].sum(level=['scenario','capital vs maintenance','region2','sector'])"
   ]
  },
  {
   "cell_type": "code",
   "execution_count": 159,
   "metadata": {},
   "outputs": [],
   "source": [
    "region_pc_totals3 = region_pc_totals3.reset_index()"
   ]
  },
  {
   "cell_type": "code",
   "execution_count": 161,
   "metadata": {},
   "outputs": [
    {
     "data": {
      "text/html": [
       "<div>\n",
       "<style scoped>\n",
       "    .dataframe tbody tr th:only-of-type {\n",
       "        vertical-align: middle;\n",
       "    }\n",
       "\n",
       "    .dataframe tbody tr th {\n",
       "        vertical-align: top;\n",
       "    }\n",
       "\n",
       "    .dataframe thead th {\n",
       "        text-align: right;\n",
       "    }\n",
       "</style>\n",
       "<table border=\"1\" class=\"dataframe\">\n",
       "  <thead>\n",
       "    <tr style=\"text-align: right;\">\n",
       "      <th></th>\n",
       "      <th>scenario</th>\n",
       "      <th>capital vs maintenance</th>\n",
       "      <th>region2</th>\n",
       "      <th>sector</th>\n",
       "      <th>cost_bUSD_disc</th>\n",
       "    </tr>\n",
       "  </thead>\n",
       "  <tbody>\n",
       "    <tr>\n",
       "      <th>1</th>\n",
       "      <td>best</td>\n",
       "      <td>maintenance</td>\n",
       "      <td>Africa</td>\n",
       "      <td>energy</td>\n",
       "      <td>12.817206</td>\n",
       "    </tr>\n",
       "    <tr>\n",
       "      <th>7</th>\n",
       "      <td>best</td>\n",
       "      <td>maintenance</td>\n",
       "      <td>Asia</td>\n",
       "      <td>energy</td>\n",
       "      <td>141.042523</td>\n",
       "    </tr>\n",
       "    <tr>\n",
       "      <th>13</th>\n",
       "      <td>best</td>\n",
       "      <td>maintenance</td>\n",
       "      <td>Latin America and Caribbean</td>\n",
       "      <td>energy</td>\n",
       "      <td>17.537500</td>\n",
       "    </tr>\n",
       "    <tr>\n",
       "      <th>33</th>\n",
       "      <td>best</td>\n",
       "      <td>maintenance</td>\n",
       "      <td>Eastern Europe and Central Asia</td>\n",
       "      <td>energy</td>\n",
       "      <td>34.700942</td>\n",
       "    </tr>\n",
       "  </tbody>\n",
       "</table>\n",
       "</div>"
      ],
      "text/plain": [
       "   scenario capital vs maintenance                          region2  sector  \\\n",
       "1      best            maintenance                           Africa  energy   \n",
       "7      best            maintenance                             Asia  energy   \n",
       "13     best            maintenance      Latin America and Caribbean  energy   \n",
       "33     best            maintenance  Eastern Europe and Central Asia  energy   \n",
       "\n",
       "    cost_bUSD_disc  \n",
       "1        12.817206  \n",
       "7       141.042523  \n",
       "13       17.537500  \n",
       "33       34.700942  "
      ]
     },
     "execution_count": 161,
     "metadata": {},
     "output_type": "execute_result"
    }
   ],
   "source": [
    "region_pc_totals3[(region_pc_totals3.sector==\"energy\")&(region_pc_totals3[\"capital vs maintenance\"]==\"maintenance\")]"
   ]
  },
  {
   "cell_type": "code",
   "execution_count": null,
   "metadata": {},
   "outputs": [],
   "source": []
  }
 ],
 "metadata": {
  "kernelspec": {
   "display_name": "Python (Julie1)",
   "language": "python",
   "name": "julie1"
  },
  "language_info": {
   "codemirror_mode": {
    "name": "ipython",
    "version": 3
   },
   "file_extension": ".py",
   "mimetype": "text/x-python",
   "name": "python",
   "nbconvert_exporter": "python",
   "pygments_lexer": "ipython3",
   "version": "3.6.6"
  }
 },
 "nbformat": 4,
 "nbformat_minor": 2
}
