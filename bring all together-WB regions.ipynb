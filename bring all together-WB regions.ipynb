{
 "cells": [
  {
   "cell_type": "code",
   "execution_count": 49,
   "metadata": {},
   "outputs": [],
   "source": [
    "import pandas as pd"
   ]
  },
  {
   "cell_type": "code",
   "execution_count": 50,
   "metadata": {},
   "outputs": [
    {
     "data": {
      "text/plain": [
       "['percent GDP', 'GDP']"
      ]
     },
     "execution_count": 50,
     "metadata": {},
     "output_type": "execute_result"
    }
   ],
   "source": [
    "xl = pd.ExcelFile('C:\\\\Users\\\\WB451855\\\\OneDrive - WBG\\\\!infra_needs_data\\\\summary_all_data.xlsx')\n",
    "\n",
    "xl.sheet_names  # see all sheet names"
   ]
  },
  {
   "cell_type": "code",
   "execution_count": 51,
   "metadata": {},
   "outputs": [],
   "source": [
    "GDP = xl.parse(\"GDP\")  # read a specific sheet to DataFrame"
   ]
  },
  {
   "cell_type": "code",
   "execution_count": 52,
   "metadata": {},
   "outputs": [],
   "source": [
    "GDP2 = GDP.set_index([\"wbregionname\",\"year\",\"ssp\"]).gdp.unstack(\"wbregionname\")"
   ]
  },
  {
   "cell_type": "code",
   "execution_count": 53,
   "metadata": {},
   "outputs": [
    {
     "data": {
      "text/plain": [
       "Index(['East Asia and Pacific', 'Europe and Central Asia',\n",
       "       'Latin America and Caribbean', 'Middle East and North Africa',\n",
       "       'South Asia', 'Sub-Saharan Africa'],\n",
       "      dtype='object', name='wbregionname')"
      ]
     },
     "execution_count": 53,
     "metadata": {},
     "output_type": "execute_result"
    }
   ],
   "source": [
    "GDP2.columns"
   ]
  },
  {
   "cell_type": "code",
   "execution_count": 54,
   "metadata": {},
   "outputs": [],
   "source": [
    "GDP2 = GDP2.rename(columns={\"Europe and Central Asia\":\"Eastern Europe and Central Asia\",\n",
    "                            \"Middle East and North Africa\":\"Middle-East and North Africa\"})"
   ]
  },
  {
   "cell_type": "code",
   "execution_count": 55,
   "metadata": {},
   "outputs": [],
   "source": [
    "GDP2[\"Africa\"] = GDP2[\"Middle-East and North Africa\"]+GDP2[\"Sub-Saharan Africa\"]\n",
    "GDP2[\"Asia\"] = GDP2[\"East Asia and Pacific\"]+GDP2[\"South Asia\"]\n",
    "GDP2[\"all_countries\"] = GDP2[\"Africa\"]+GDP2[\"Asia\"]+GDP2[\"Latin America and Caribbean\"]+GDP2[\"Eastern Europe and Central Asia\"]"
   ]
  },
  {
   "cell_type": "code",
   "execution_count": 56,
   "metadata": {},
   "outputs": [
    {
     "data": {
      "text/plain": [
       "year  ssp   wbregionname                   \n",
       "2022  ssp2  all_countries                      4.781525e+13\n",
       "2021  ssp5  Asia                               2.611930e+13\n",
       "2029  ssp5  South Asia                         9.726712e+12\n",
       "2024  ssp4  Eastern Europe and Central Asia    4.515983e+12\n",
       "2028  ssp5  all_countries                      7.225835e+13\n",
       "dtype: float64"
      ]
     },
     "execution_count": 56,
     "metadata": {},
     "output_type": "execute_result"
    }
   ],
   "source": [
    "GDP2.stack().sample(5)"
   ]
  },
  {
   "cell_type": "code",
   "execution_count": 57,
   "metadata": {},
   "outputs": [],
   "source": [
    "res = xl.parse(\"percent GDP\")"
   ]
  },
  {
   "cell_type": "code",
   "execution_count": 58,
   "metadata": {},
   "outputs": [],
   "source": [
    "res[\"sector\"] = res.sector.replace({\"WASH\":\"wash\"})"
   ]
  },
  {
   "cell_type": "code",
   "execution_count": 59,
   "metadata": {},
   "outputs": [
    {
     "data": {
      "text/plain": [
       "array(['all_countries', 'Africa', 'Asia', 'Latin America and Caribbean',\n",
       "       'Former soviet Union', 'Middle-East and North Africa',\n",
       "       'Sub-Saharan Africa', 'South Asia', 'East Asia and Pacific',\n",
       "       'Eastern Europe and Central Asia'], dtype=object)"
      ]
     },
     "execution_count": 59,
     "metadata": {},
     "output_type": "execute_result"
    }
   ],
   "source": [
    "res.region.unique()"
   ]
  },
  {
   "cell_type": "code",
   "execution_count": 60,
   "metadata": {},
   "outputs": [],
   "source": [
    "res['wbregion'] = res.region.copy()\n",
    "res.loc[res.region=='Africa','wbregion'] = 'Sub-Saharan Africa'\n",
    "res.loc[res.region=='Asia','wbregion'] = 'East Asia and Pacific'\n",
    "\n",
    "res.loc[res.region=='Former soviet Union','wbregion'] = 'Eastern Europe and Central Asia'\n",
    "\n",
    "disag_afr = res.loc[res.region=='Africa'].copy()\n",
    "disag_afr.loc[disag_afr.region=='Africa','wbregion'] = 'Middle-East and North Africa'\n",
    "\n",
    "disag_asia = res.loc[res.region=='Asia'].copy()\n",
    "disag_asia.loc[disag_asia.region=='Asia','wbregion'] = 'South Asia'\n",
    "\n",
    "res = res.append(disag_afr).append(disag_asia)"
   ]
  },
  {
   "cell_type": "code",
   "execution_count": 61,
   "metadata": {},
   "outputs": [],
   "source": [
    "res.loc[res.sector==\"energy\",\"ssp\"] = \"ssp2\"\n",
    "res.loc[(res.sector==\"transport\")&(res.scenario==\"best\"),\"ssp\"] = \"ssp2\"\n",
    "res.loc[(res.sector==\"transport\")&(res.scenario==\"min\"),\"ssp\"] = \"ssp1\"\n",
    "res.loc[(res.sector==\"transport\")&(res.scenario==\"max\"),\"ssp\"] = \"ssp3\"\n",
    "res.loc[(res.sector==\"wash\")&(res.scenario==\"best\"),\"ssp\"] = \"ssp2\"\n",
    "res.loc[(res.sector==\"wash\")&(res.scenario==\"min\"),\"ssp\"] = \"ssp2\"\n",
    "res.loc[(res.sector==\"wash\")&(res.scenario==\"max\"),\"ssp\"] = \"ssp4\"\n",
    "res.loc[(res.sector==\"coastal protection\")&(res.scenario==\"best\"),\"ssp\"] = \"ssp2\"\n",
    "res.loc[(res.sector==\"coastal protection\")&(res.scenario==\"min\"),\"ssp\"] = \"ssp2\"\n",
    "res.loc[(res.sector==\"coastal protection\")&(res.scenario==\"max\"),\"ssp\"] = \"ssp5\"\n",
    "res.loc[(res.sector==\"river protection\")&(res.scenario==\"best\"),\"ssp\"] = \"ssp2\"\n",
    "res.loc[(res.sector==\"river protection\")&(res.scenario==\"min\"),\"ssp\"] = \"ssp3\"\n",
    "res.loc[(res.sector==\"river protection\")&(res.scenario==\"max\"),\"ssp\"] = \"ssp2\"\n",
    "res.loc[(res.sector==\"irrigation\")&(res.scenario==\"best\"),\"ssp\"] = \"ssp2\"\n",
    "res.loc[(res.sector==\"irrigation\")&(res.scenario==\"min\"),\"ssp\"] = \"ssp1\"\n",
    "res.loc[(res.sector==\"irrigation\")&(res.scenario==\"max\"),\"ssp\"] = \"ssp2\"\n",
    "\n",
    "res.loc[(res.region==\"all_countries\"),\"ssp\"] = \"ssp2\""
   ]
  },
  {
   "cell_type": "code",
   "execution_count": 62,
   "metadata": {},
   "outputs": [
    {
     "data": {
      "text/html": [
       "<div>\n",
       "<style scoped>\n",
       "    .dataframe tbody tr th:only-of-type {\n",
       "        vertical-align: middle;\n",
       "    }\n",
       "\n",
       "    .dataframe tbody tr th {\n",
       "        vertical-align: top;\n",
       "    }\n",
       "\n",
       "    .dataframe thead th {\n",
       "        text-align: right;\n",
       "    }\n",
       "</style>\n",
       "<table border=\"1\" class=\"dataframe\">\n",
       "  <thead>\n",
       "    <tr style=\"text-align: right;\">\n",
       "      <th></th>\n",
       "      <th>region</th>\n",
       "      <th>sector</th>\n",
       "      <th>scenario</th>\n",
       "      <th>urban vs rural</th>\n",
       "      <th>variable</th>\n",
       "      <th>capital vs maintenance</th>\n",
       "      <th>data</th>\n",
       "      <th>wbregion</th>\n",
       "      <th>ssp</th>\n",
       "    </tr>\n",
       "  </thead>\n",
       "  <tbody>\n",
       "  </tbody>\n",
       "</table>\n",
       "</div>"
      ],
      "text/plain": [
       "Empty DataFrame\n",
       "Columns: [region, sector, scenario, urban vs rural, variable, capital vs maintenance, data, wbregion, ssp]\n",
       "Index: []"
      ]
     },
     "execution_count": 62,
     "metadata": {},
     "output_type": "execute_result"
    }
   ],
   "source": [
    "res[res.ssp.isnull()]"
   ]
  },
  {
   "cell_type": "code",
   "execution_count": 63,
   "metadata": {},
   "outputs": [],
   "source": [
    "mydata = res.merge(GDP2.stack().reset_index().rename(columns={\"wbregionname\":\"wbregion\",0:\"GDP\"}),on=[\"wbregion\",\"ssp\"])"
   ]
  },
  {
   "cell_type": "code",
   "execution_count": 64,
   "metadata": {},
   "outputs": [],
   "source": [
    "mydata[\"cost_bUSD\"] = 1e-9/100*mydata.data*mydata.GDP"
   ]
  },
  {
   "cell_type": "code",
   "execution_count": 65,
   "metadata": {},
   "outputs": [
    {
     "data": {
      "text/plain": [
       "scenario   capital vs maintenance\n",
       "min        capital                   23196.929276\n",
       "max        capital                   93025.228326\n",
       "preferred  capital                   18209.193630\n",
       "min        maintenance               18161.691385\n",
       "max        maintenance               40297.737207\n",
       "preferred  maintenance                8708.744779\n",
       "best       maintenance               21534.350727\n",
       "           capital                   35626.683189\n",
       "maxmax     capital                   19000.897701\n",
       "minmin     capital                     316.681628\n",
       "Name: cost_bUSD, dtype: float64"
      ]
     },
     "execution_count": 65,
     "metadata": {},
     "output_type": "execute_result"
    }
   ],
   "source": [
    "mydata[mydata.region==\"all_countries\"].set_index([\"sector\",\"scenario\",\"capital vs maintenance\",\"year\"]).cost_bUSD.sum(level=[\"scenario\",\"capital vs maintenance\"])"
   ]
  },
  {
   "cell_type": "code",
   "execution_count": 66,
   "metadata": {},
   "outputs": [],
   "source": [
    "d = 0.06\n",
    "mydata[\"discount_factor\"] = (1+d)**(1-(mydata.year.astype(int)-2015))"
   ]
  },
  {
   "cell_type": "code",
   "execution_count": 67,
   "metadata": {},
   "outputs": [],
   "source": [
    "mydata[\"cost_bUSD_disc\"] = mydata[\"cost_bUSD\"]*mydata[\"discount_factor\"]"
   ]
  },
  {
   "cell_type": "code",
   "execution_count": 68,
   "metadata": {},
   "outputs": [],
   "source": [
    "newdata = mydata.set_index([\"wbregion\",\"sector\",\"scenario\",\"capital vs maintenance\",\"year\"]).cost_bUSD_disc.sum(level=[\"wbregion\",\"sector\",\"scenario\",\"capital vs maintenance\"])"
   ]
  },
  {
   "cell_type": "code",
   "execution_count": 69,
   "metadata": {},
   "outputs": [],
   "source": [
    "newdata2 = newdata.reset_index()"
   ]
  },
  {
   "cell_type": "code",
   "execution_count": 70,
   "metadata": {},
   "outputs": [],
   "source": [
    "newdata2[\"cost_bUSD_disc_annual\"] = newdata2[\"cost_bUSD_disc\"]/15"
   ]
  },
  {
   "cell_type": "code",
   "execution_count": 71,
   "metadata": {},
   "outputs": [],
   "source": [
    "final_data = newdata2.merge(res,on=['wbregion','sector','scenario','capital vs maintenance']).drop('cost_bUSD_disc',axis=1).rename(columns={'data':'percent_GDP'})"
   ]
  },
  {
   "cell_type": "code",
   "execution_count": 78,
   "metadata": {},
   "outputs": [],
   "source": [
    "urban_data = newdata2.merge(res,on=['wbregion','sector','scenario','capital vs maintenance']).drop('cost_bUSD_disc',axis=1).rename(columns={'data':'percent_GDP'})"
   ]
  },
  {
   "cell_type": "code",
   "execution_count": 81,
   "metadata": {},
   "outputs": [],
   "source": [
    "urban_data = urban_data[urban_data[\"urban vs rural\"]==\"urban\"].drop([\"variable\",\"ssp\",\"region\"],axis=1)"
   ]
  },
  {
   "cell_type": "code",
   "execution_count": 83,
   "metadata": {},
   "outputs": [],
   "source": [
    "urban_data.to_csv(\"C:\\\\Users\\\\WB451855\\\\OneDrive - WBG\\\\!infra_needs_data\\\\urban_data.csv\")"
   ]
  },
  {
   "cell_type": "code",
   "execution_count": 72,
   "metadata": {},
   "outputs": [],
   "source": [
    "final_data = final_data[final_data.wbregion!=\"all_countries\"].drop([\"variable\",\"ssp\",\"region\"],axis=1)"
   ]
  },
  {
   "cell_type": "code",
   "execution_count": 73,
   "metadata": {},
   "outputs": [],
   "source": [
    "final_data2 = final_data.set_index(['wbregion','sector','scenario','capital vs maintenance']).stack()"
   ]
  },
  {
   "cell_type": "code",
   "execution_count": 74,
   "metadata": {},
   "outputs": [],
   "source": [
    "final_data2 = final_data2.reset_index().rename(columns={\"level_4\":\"usd vs percent\",0:\"data\"})"
   ]
  },
  {
   "cell_type": "code",
   "execution_count": 75,
   "metadata": {},
   "outputs": [],
   "source": [
    "final_data3 = final_data2.set_index(['wbregion','sector','scenario','capital vs maintenance',\"usd vs percent\"]).data.unstack(\"sector\")"
   ]
  },
  {
   "cell_type": "code",
   "execution_count": 76,
   "metadata": {},
   "outputs": [
    {
     "data": {
      "text/plain": [
       "Index(['coastal protection', 'energy', 'irrigation', 'river protection',\n",
       "       'transport', 'wash'],\n",
       "      dtype='object', name='sector')"
      ]
     },
     "execution_count": 76,
     "metadata": {},
     "output_type": "execute_result"
    }
   ],
   "source": [
    "final_data3.columns"
   ]
  },
  {
   "cell_type": "code",
   "execution_count": 77,
   "metadata": {},
   "outputs": [],
   "source": [
    "final_data3['flood protection'] = final_data3['coastal protection']+final_data3['river protection']"
   ]
  },
  {
   "cell_type": "markdown",
   "metadata": {},
   "source": [
    "final_data3['Total'] = final_data3[['flood protection','energy','transport','irrigation','wash']].sum(axis=1)"
   ]
  },
  {
   "cell_type": "code",
   "execution_count": 30,
   "metadata": {},
   "outputs": [],
   "source": [
    "final_data4 = final_data3.drop(['coastal protection','river protection'],axis=1).stack().to_frame().reset_index().rename(columns={0:\"data\"})"
   ]
  },
  {
   "cell_type": "code",
   "execution_count": 31,
   "metadata": {},
   "outputs": [],
   "source": [
    "sector_dic = {'energy':'Energy','irrigation':'Irrigation','wash':\"Water supply and sanitation\",\"transport\":\"Transport\",\"flood protection\":\"Flood protection\"}"
   ]
  },
  {
   "cell_type": "code",
   "execution_count": 32,
   "metadata": {},
   "outputs": [],
   "source": [
    "var_dic = {\"percent_GDP\":\"Percent of GDP\",\"cost_bUSD_disc_annual\":\"Billion USD\"}"
   ]
  },
  {
   "cell_type": "code",
   "execution_count": 33,
   "metadata": {},
   "outputs": [],
   "source": [
    "scenario_dic = {'best':'Preferred','min':'Low spending','max':'High spending'}"
   ]
  },
  {
   "cell_type": "code",
   "execution_count": 34,
   "metadata": {},
   "outputs": [],
   "source": [
    "final_data4.loc[(final_data4.sector=='energy')&(final_data4.scenario=='min'),'policies and tech'] = \"High energy efficiency \\\n",
    "and demand management\"\n",
    "final_data4.loc[(final_data4.sector=='energy')&(final_data4.scenario=='max'),'policies and tech'] = \"No investment in energy \\\n",
    "efficiency; fossil energy for 10 years followed by switch to low carbon\"\n",
    "final_data4.loc[(final_data4.sector=='energy')&(final_data4.scenario=='best'),'policies and tech'] = \"Invest now in \\\n",
    "renewable energy; energy efficiency\"\n",
    "final_data4.loc[(final_data4.sector=='wash')&(final_data4.scenario=='min'),'policies and tech'] = \"Decentralized systems \\\n",
    "(like sceptic tanks) whenever possible\"\n",
    "final_data4.loc[(final_data4.sector=='wash')&(final_data4.scenario=='max'),'policies and tech'] = \"Sewerage systems with \\\n",
    "treatment\"\n",
    "final_data4.loc[(final_data4.sector=='wash')&(final_data4.scenario=='best'),'policies and tech'] = \"Sewerage systems with \\\n",
    "treatment only in high population density areas\"\n",
    "final_data4.loc[(final_data4.sector=='transport')&(final_data4.scenario=='min'),'policies and tech'] = \"Increase the utilization \\\n",
    "rate of rail and public transport; densify cities; reduce demand for transport through gasoline taxes\"\n",
    "final_data4.loc[(final_data4.sector=='transport')&(final_data4.scenario=='max'),'policies and tech'] = \"Let cities sprawl; \\\n",
    "favor rail investments without accompanying policies\"\n",
    "final_data4.loc[(final_data4.sector=='transport')&(final_data4.scenario=='best'),'policies and tech'] = \"Increase the \\\n",
    "utilization rate of rail and public transport; densify cities; promote electric mobility\"\n",
    "final_data4.loc[(final_data4.sector=='irrigation')&(final_data4.scenario=='min'),'policies and tech'] = \"Subsidize irrigation \\\n",
    "infrastructure ;promote low-meat diets\"\n",
    "final_data4.loc[(final_data4.sector=='irrigation')&(final_data4.scenario=='max'),'policies and tech'] = \"Subsidize both \\\n",
    "irrigation infrastructure and electricity for water extraction\"\n",
    "final_data4.loc[(final_data4.sector=='irrigation')&(final_data4.scenario=='best'),'policies and tech'] = \"Subsidize irrigation \\\n",
    "infrastructure\"\n",
    "final_data4.loc[(final_data4.sector=='flood protection')&(final_data4.scenario=='min'),'policies and tech'] = 'Maintain \\\n",
    "construction costs low through better procurement'\n",
    "final_data4.loc[(final_data4.sector=='flood protection')&(final_data4.scenario=='max'),'policies and tech'] = \"Let construction \\\n",
    "costs increase\"\n",
    "final_data4.loc[(final_data4.sector=='flood protection')&(final_data4.scenario=='best'),'policies and tech'] = 'Maintain \\\n",
    "construction costs low through better procurement'"
   ]
  },
  {
   "cell_type": "code",
   "execution_count": 35,
   "metadata": {},
   "outputs": [],
   "source": [
    "final_data4.loc[(final_data4.sector=='energy')&(final_data4.scenario=='min'),'goals'] = \"Universal access to low \\\n",
    "service tiers\"\n",
    "final_data4.loc[(final_data4.sector=='energy')&(final_data4.scenario=='max'),'goals'] = \"Universal access to high \\\n",
    "service tiers, low carbon electricity\"\n",
    "final_data4.loc[(final_data4.sector=='energy')&(final_data4.scenario=='best'),'goals'] = \"Universal access to medium \\\n",
    "service tiers, low carbon electricity\"\n",
    "final_data4.loc[(final_data4.sector=='wash')&(final_data4.scenario=='min'),'goals'] = \"Universal access to basic water \\\n",
    "and sanitation\"\n",
    "final_data4.loc[(final_data4.sector=='wash')&(final_data4.scenario=='max'),'goals'] = \"Universal access to safe water \\\n",
    "and sanitation\"\n",
    "final_data4.loc[(final_data4.sector=='wash')&(final_data4.scenario=='best'),'goals'] = \"Universal access to safe water \\\n",
    "and sanitation\"\n",
    "final_data4.loc[(final_data4.sector=='transport')&(final_data4.scenario=='min'),'goals'] = \"Low carbon transport\"\n",
    "final_data4.loc[(final_data4.sector=='transport')&(final_data4.scenario=='max'),'goals'] = \"Follow transport demand reactively\"\n",
    "final_data4.loc[(final_data4.sector=='transport')&(final_data4.scenario=='best'),'goals'] = \"Low carbon transport\"\n",
    "final_data4.loc[(final_data4.sector=='irrigation')&(final_data4.scenario=='min'),'goals'] = \"End hunger and protect biodiversity\"\n",
    "final_data4.loc[(final_data4.sector=='irrigation')&(final_data4.scenario=='max'),'goals'] = \"End hunger\"\n",
    "final_data4.loc[(final_data4.sector=='irrigation')&(final_data4.scenario=='best'),'goals'] = \"End hunger and protect biodiversity\"\n",
    "final_data4.loc[(final_data4.sector=='flood protection')&(final_data4.scenario=='min'),'goals'] = \"Keep coastal flood risk \\\n",
    "constant in relative terms; invest in river protection based on cost-benefit analysis\"\n",
    "final_data4.loc[(final_data4.sector=='flood protection')&(final_data4.scenario=='max'),'goals'] = \"Invest in coastal \\\n",
    "and river protection based on cost-benefit analysis\"\n",
    "final_data4.loc[(final_data4.sector=='flood protection')&(final_data4.scenario=='best'),'goals'] = \"Adopt Dutch standards \\\n",
    "of coastal flood protection for cities; keep river flood risk constant in absolute terms\""
   ]
  },
  {
   "cell_type": "code",
   "execution_count": 36,
   "metadata": {},
   "outputs": [],
   "source": [
    "final_data4['sector'] = final_data4.sector.replace(sector_dic)\n",
    "final_data4['usd vs percent'] = final_data4['usd vs percent'].replace(var_dic)\n",
    "final_data4['scenario'] = final_data4.scenario.replace(scenario_dic)\n",
    "final_data4['capital vs maintenance'] = final_data4['capital vs maintenance'].str.capitalize()\n",
    "\n",
    "#final_data4['goals'] = 'Goals: '+final_data4['goals']\n",
    "#final_data4['policies and tech'] = 'Policies/technologies: '+final_data4['policies and tech']"
   ]
  },
  {
   "cell_type": "code",
   "execution_count": 37,
   "metadata": {},
   "outputs": [
    {
     "data": {
      "text/html": [
       "<div>\n",
       "<style scoped>\n",
       "    .dataframe tbody tr th:only-of-type {\n",
       "        vertical-align: middle;\n",
       "    }\n",
       "\n",
       "    .dataframe tbody tr th {\n",
       "        vertical-align: top;\n",
       "    }\n",
       "\n",
       "    .dataframe thead th {\n",
       "        text-align: right;\n",
       "    }\n",
       "</style>\n",
       "<table border=\"1\" class=\"dataframe\">\n",
       "  <thead>\n",
       "    <tr style=\"text-align: right;\">\n",
       "      <th></th>\n",
       "      <th>wbregion</th>\n",
       "      <th>scenario</th>\n",
       "      <th>capital vs maintenance</th>\n",
       "      <th>usd vs percent</th>\n",
       "      <th>sector</th>\n",
       "      <th>data</th>\n",
       "      <th>policies and tech</th>\n",
       "      <th>goals</th>\n",
       "    </tr>\n",
       "  </thead>\n",
       "  <tbody>\n",
       "    <tr>\n",
       "      <th>229</th>\n",
       "      <td>South Asia</td>\n",
       "      <td>Preferred</td>\n",
       "      <td>Maintenance</td>\n",
       "      <td>Billion USD</td>\n",
       "      <td>Flood protection</td>\n",
       "      <td>2.968577</td>\n",
       "      <td>Maintain construction costs low through better...</td>\n",
       "      <td>Adopt Dutch standards of coastal flood protect...</td>\n",
       "    </tr>\n",
       "    <tr>\n",
       "      <th>6</th>\n",
       "      <td>East Asia and Pacific</td>\n",
       "      <td>Preferred</td>\n",
       "      <td>Capital</td>\n",
       "      <td>Percent of GDP</td>\n",
       "      <td>Irrigation</td>\n",
       "      <td>0.130000</td>\n",
       "      <td>Subsidize irrigation infrastructure</td>\n",
       "      <td>End hunger and protect biodiversity</td>\n",
       "    </tr>\n",
       "    <tr>\n",
       "      <th>162</th>\n",
       "      <td>Middle-East and North Africa</td>\n",
       "      <td>Preferred</td>\n",
       "      <td>Capital</td>\n",
       "      <td>Billion USD</td>\n",
       "      <td>Energy</td>\n",
       "      <td>26.381556</td>\n",
       "      <td>Invest now in renewable energy; energy efficiency</td>\n",
       "      <td>Universal access to medium service tiers, low ...</td>\n",
       "    </tr>\n",
       "    <tr>\n",
       "      <th>234</th>\n",
       "      <td>South Asia</td>\n",
       "      <td>High spending</td>\n",
       "      <td>Capital</td>\n",
       "      <td>Billion USD</td>\n",
       "      <td>Energy</td>\n",
       "      <td>153.941931</td>\n",
       "      <td>No investment in energy efficiency; fossil ene...</td>\n",
       "      <td>Universal access to high service tiers, low ca...</td>\n",
       "    </tr>\n",
       "    <tr>\n",
       "      <th>295</th>\n",
       "      <td>Sub-Saharan Africa</td>\n",
       "      <td>High spending</td>\n",
       "      <td>Capital</td>\n",
       "      <td>Percent of GDP</td>\n",
       "      <td>Transport</td>\n",
       "      <td>6.110000</td>\n",
       "      <td>Let cities sprawl; favor rail investments with...</td>\n",
       "      <td>Follow transport demand reactively</td>\n",
       "    </tr>\n",
       "  </tbody>\n",
       "</table>\n",
       "</div>"
      ],
      "text/plain": [
       "                         wbregion       scenario capital vs maintenance  \\\n",
       "229                    South Asia      Preferred            Maintenance   \n",
       "6           East Asia and Pacific      Preferred                Capital   \n",
       "162  Middle-East and North Africa      Preferred                Capital   \n",
       "234                    South Asia  High spending                Capital   \n",
       "295            Sub-Saharan Africa  High spending                Capital   \n",
       "\n",
       "     usd vs percent            sector        data  \\\n",
       "229     Billion USD  Flood protection    2.968577   \n",
       "6    Percent of GDP        Irrigation    0.130000   \n",
       "162     Billion USD            Energy   26.381556   \n",
       "234     Billion USD            Energy  153.941931   \n",
       "295  Percent of GDP         Transport    6.110000   \n",
       "\n",
       "                                     policies and tech  \\\n",
       "229  Maintain construction costs low through better...   \n",
       "6                  Subsidize irrigation infrastructure   \n",
       "162  Invest now in renewable energy; energy efficiency   \n",
       "234  No investment in energy efficiency; fossil ene...   \n",
       "295  Let cities sprawl; favor rail investments with...   \n",
       "\n",
       "                                                 goals  \n",
       "229  Adopt Dutch standards of coastal flood protect...  \n",
       "6                  End hunger and protect biodiversity  \n",
       "162  Universal access to medium service tiers, low ...  \n",
       "234  Universal access to high service tiers, low ca...  \n",
       "295                 Follow transport demand reactively  "
      ]
     },
     "execution_count": 37,
     "metadata": {},
     "output_type": "execute_result"
    }
   ],
   "source": [
    "final_data4.sample(5)"
   ]
  },
  {
   "cell_type": "code",
   "execution_count": 38,
   "metadata": {},
   "outputs": [],
   "source": [
    "final_data4.to_csv('C:\\\\Users\\\\WB451855\\\\OneDrive - WBG\\\\!infra_needs_data\\\\final_for_website.csv')"
   ]
  },
  {
   "cell_type": "code",
   "execution_count": 39,
   "metadata": {},
   "outputs": [],
   "source": [
    "datawrapper = final_data4.set_index(['wbregion','scenario','capital vs maintenance','sector','usd vs percent','goals','policies and tech']).data.unstack('usd vs percent').reset_index()"
   ]
  },
  {
   "cell_type": "code",
   "execution_count": 40,
   "metadata": {},
   "outputs": [
    {
     "data": {
      "text/html": [
       "<div>\n",
       "<style scoped>\n",
       "    .dataframe tbody tr th:only-of-type {\n",
       "        vertical-align: middle;\n",
       "    }\n",
       "\n",
       "    .dataframe tbody tr th {\n",
       "        vertical-align: top;\n",
       "    }\n",
       "\n",
       "    .dataframe thead th {\n",
       "        text-align: right;\n",
       "    }\n",
       "</style>\n",
       "<table border=\"1\" class=\"dataframe\">\n",
       "  <thead>\n",
       "    <tr style=\"text-align: right;\">\n",
       "      <th>usd vs percent</th>\n",
       "      <th>wbregion</th>\n",
       "      <th>scenario</th>\n",
       "      <th>capital vs maintenance</th>\n",
       "      <th>sector</th>\n",
       "      <th>goals</th>\n",
       "      <th>policies and tech</th>\n",
       "      <th>Billion USD</th>\n",
       "      <th>Percent of GDP</th>\n",
       "    </tr>\n",
       "  </thead>\n",
       "  <tbody>\n",
       "    <tr>\n",
       "      <th>134</th>\n",
       "      <td>South Asia</td>\n",
       "      <td>Preferred</td>\n",
       "      <td>Maintenance</td>\n",
       "      <td>Water supply and sanitation</td>\n",
       "      <td>Universal access to safe water and sanitation</td>\n",
       "      <td>Sewerage systems with treatment only in high p...</td>\n",
       "      <td>12.722474</td>\n",
       "      <td>0.30</td>\n",
       "    </tr>\n",
       "    <tr>\n",
       "      <th>3</th>\n",
       "      <td>East Asia and Pacific</td>\n",
       "      <td>High spending</td>\n",
       "      <td>Capital</td>\n",
       "      <td>Transport</td>\n",
       "      <td>Follow transport demand reactively</td>\n",
       "      <td>Let cities sprawl; favor rail investments with...</td>\n",
       "      <td>336.603086</td>\n",
       "      <td>2.25</td>\n",
       "    </tr>\n",
       "    <tr>\n",
       "      <th>72</th>\n",
       "      <td>Latin America and Caribbean</td>\n",
       "      <td>Preferred</td>\n",
       "      <td>Capital</td>\n",
       "      <td>Energy</td>\n",
       "      <td>Universal access to medium service tiers, low ...</td>\n",
       "      <td>Invest now in renewable energy; energy efficiency</td>\n",
       "      <td>91.500000</td>\n",
       "      <td>1.20</td>\n",
       "    </tr>\n",
       "  </tbody>\n",
       "</table>\n",
       "</div>"
      ],
      "text/plain": [
       "usd vs percent                     wbregion       scenario  \\\n",
       "134                              South Asia      Preferred   \n",
       "3                     East Asia and Pacific  High spending   \n",
       "72              Latin America and Caribbean      Preferred   \n",
       "\n",
       "usd vs percent capital vs maintenance                       sector  \\\n",
       "134                       Maintenance  Water supply and sanitation   \n",
       "3                             Capital                    Transport   \n",
       "72                            Capital                       Energy   \n",
       "\n",
       "usd vs percent                                              goals  \\\n",
       "134                 Universal access to safe water and sanitation   \n",
       "3                              Follow transport demand reactively   \n",
       "72              Universal access to medium service tiers, low ...   \n",
       "\n",
       "usd vs percent                                  policies and tech  \\\n",
       "134             Sewerage systems with treatment only in high p...   \n",
       "3               Let cities sprawl; favor rail investments with...   \n",
       "72              Invest now in renewable energy; energy efficiency   \n",
       "\n",
       "usd vs percent  Billion USD  Percent of GDP  \n",
       "134               12.722474            0.30  \n",
       "3                336.603086            2.25  \n",
       "72                91.500000            1.20  "
      ]
     },
     "execution_count": 40,
     "metadata": {},
     "output_type": "execute_result"
    }
   ],
   "source": [
    "datawrapper.sample(3)"
   ]
  },
  {
   "cell_type": "code",
   "execution_count": 41,
   "metadata": {},
   "outputs": [],
   "source": [
    "datawrapper.to_csv('C:\\\\Users\\\\WB451855\\\\OneDrive - WBG\\\\!infra_needs_data\\\\datawrapper.csv')"
   ]
  },
  {
   "cell_type": "code",
   "execution_count": 47,
   "metadata": {},
   "outputs": [
    {
     "data": {
      "text/html": [
       "<div>\n",
       "<style scoped>\n",
       "    .dataframe tbody tr th:only-of-type {\n",
       "        vertical-align: middle;\n",
       "    }\n",
       "\n",
       "    .dataframe tbody tr th {\n",
       "        vertical-align: top;\n",
       "    }\n",
       "\n",
       "    .dataframe thead th {\n",
       "        text-align: right;\n",
       "    }\n",
       "</style>\n",
       "<table border=\"1\" class=\"dataframe\">\n",
       "  <thead>\n",
       "    <tr style=\"text-align: right;\">\n",
       "      <th></th>\n",
       "      <th>usd vs percent</th>\n",
       "      <th>Billion USD</th>\n",
       "      <th>Percent of GDP</th>\n",
       "    </tr>\n",
       "    <tr>\n",
       "      <th>capital vs maintenance</th>\n",
       "      <th>scenario</th>\n",
       "      <th></th>\n",
       "      <th></th>\n",
       "    </tr>\n",
       "  </thead>\n",
       "  <tbody>\n",
       "    <tr>\n",
       "      <th>Capital</th>\n",
       "      <th>High spending</th>\n",
       "      <td>219.600818</td>\n",
       "      <td>9.7610</td>\n",
       "    </tr>\n",
       "    <tr>\n",
       "      <th>Maintenance</th>\n",
       "      <th>High spending</th>\n",
       "      <td>43.931058</td>\n",
       "      <td>1.9530</td>\n",
       "    </tr>\n",
       "    <tr>\n",
       "      <th>Capital</th>\n",
       "      <th>Low spending</th>\n",
       "      <td>60.826098</td>\n",
       "      <td>2.6901</td>\n",
       "    </tr>\n",
       "    <tr>\n",
       "      <th>Maintenance</th>\n",
       "      <th>Low spending</th>\n",
       "      <td>27.847072</td>\n",
       "      <td>1.2302</td>\n",
       "    </tr>\n",
       "    <tr>\n",
       "      <th>Capital</th>\n",
       "      <th>Preferred</th>\n",
       "      <td>124.917795</td>\n",
       "      <td>5.5400</td>\n",
       "    </tr>\n",
       "    <tr>\n",
       "      <th>Maintenance</th>\n",
       "      <th>Preferred</th>\n",
       "      <td>35.062666</td>\n",
       "      <td>1.5550</td>\n",
       "    </tr>\n",
       "  </tbody>\n",
       "</table>\n",
       "</div>"
      ],
      "text/plain": [
       "usd vs percent                        Billion USD  Percent of GDP\n",
       "capital vs maintenance scenario                                  \n",
       "Capital                High spending   219.600818          9.7610\n",
       "Maintenance            High spending    43.931058          1.9530\n",
       "Capital                Low spending     60.826098          2.6901\n",
       "Maintenance            Low spending     27.847072          1.2302\n",
       "Capital                Preferred       124.917795          5.5400\n",
       "Maintenance            Preferred        35.062666          1.5550"
      ]
     },
     "execution_count": 47,
     "metadata": {},
     "output_type": "execute_result"
    }
   ],
   "source": [
    "datawrapper[datawrapper.wbregion==\"Middle-East and North Africa\"].set_index([\"sector\",\"capital vs maintenance\",\"scenario\"])[[\"Billion USD\",\"Percent of GDP\"]].sum(level=[\"capital vs maintenance\",\"scenario\"])"
   ]
  },
  {
   "cell_type": "code",
   "execution_count": 48,
   "metadata": {},
   "outputs": [
    {
     "data": {
      "text/html": [
       "<div>\n",
       "<style scoped>\n",
       "    .dataframe tbody tr th:only-of-type {\n",
       "        vertical-align: middle;\n",
       "    }\n",
       "\n",
       "    .dataframe tbody tr th {\n",
       "        vertical-align: top;\n",
       "    }\n",
       "\n",
       "    .dataframe thead th {\n",
       "        text-align: right;\n",
       "    }\n",
       "</style>\n",
       "<table border=\"1\" class=\"dataframe\">\n",
       "  <thead>\n",
       "    <tr style=\"text-align: right;\">\n",
       "      <th></th>\n",
       "      <th></th>\n",
       "      <th>usd vs percent</th>\n",
       "      <th>Billion USD</th>\n",
       "      <th>Percent of GDP</th>\n",
       "    </tr>\n",
       "    <tr>\n",
       "      <th>capital vs maintenance</th>\n",
       "      <th>scenario</th>\n",
       "      <th>sector</th>\n",
       "      <th></th>\n",
       "      <th></th>\n",
       "    </tr>\n",
       "  </thead>\n",
       "  <tbody>\n",
       "    <tr>\n",
       "      <th rowspan=\"5\" valign=\"top\">Capital</th>\n",
       "      <th rowspan=\"5\" valign=\"top\">High spending</th>\n",
       "      <th>Energy</th>\n",
       "      <td>46.224094</td>\n",
       "      <td>2.0500</td>\n",
       "    </tr>\n",
       "    <tr>\n",
       "      <th>Flood protection</th>\n",
       "      <td>9.328809</td>\n",
       "      <td>0.4110</td>\n",
       "    </tr>\n",
       "    <tr>\n",
       "      <th>Irrigation</th>\n",
       "      <td>3.607734</td>\n",
       "      <td>0.1600</td>\n",
       "    </tr>\n",
       "    <tr>\n",
       "      <th>Transport</th>\n",
       "      <td>137.313693</td>\n",
       "      <td>6.1100</td>\n",
       "    </tr>\n",
       "    <tr>\n",
       "      <th>Water supply and sanitation</th>\n",
       "      <td>23.126488</td>\n",
       "      <td>1.0300</td>\n",
       "    </tr>\n",
       "    <tr>\n",
       "      <th rowspan=\"4\" valign=\"top\">Maintenance</th>\n",
       "      <th rowspan=\"4\" valign=\"top\">High spending</th>\n",
       "      <th>Energy</th>\n",
       "      <td>5.411601</td>\n",
       "      <td>0.2400</td>\n",
       "    </tr>\n",
       "    <tr>\n",
       "      <th>Flood protection</th>\n",
       "      <td>1.219491</td>\n",
       "      <td>0.0530</td>\n",
       "    </tr>\n",
       "    <tr>\n",
       "      <th>Transport</th>\n",
       "      <td>30.564095</td>\n",
       "      <td>1.3600</td>\n",
       "    </tr>\n",
       "    <tr>\n",
       "      <th>Water supply and sanitation</th>\n",
       "      <td>6.735870</td>\n",
       "      <td>0.3000</td>\n",
       "    </tr>\n",
       "    <tr>\n",
       "      <th rowspan=\"5\" valign=\"top\">Capital</th>\n",
       "      <th rowspan=\"5\" valign=\"top\">Low spending</th>\n",
       "      <th>Energy</th>\n",
       "      <td>16.685770</td>\n",
       "      <td>0.7400</td>\n",
       "    </tr>\n",
       "    <tr>\n",
       "      <th>Flood protection</th>\n",
       "      <td>1.126525</td>\n",
       "      <td>0.0501</td>\n",
       "    </tr>\n",
       "    <tr>\n",
       "      <th>Irrigation</th>\n",
       "      <td>1.814057</td>\n",
       "      <td>0.0800</td>\n",
       "    </tr>\n",
       "    <tr>\n",
       "      <th>Transport</th>\n",
       "      <td>28.798159</td>\n",
       "      <td>1.2700</td>\n",
       "    </tr>\n",
       "    <tr>\n",
       "      <th>Water supply and sanitation</th>\n",
       "      <td>12.401586</td>\n",
       "      <td>0.5500</td>\n",
       "    </tr>\n",
       "    <tr>\n",
       "      <th rowspan=\"4\" valign=\"top\">Maintenance</th>\n",
       "      <th rowspan=\"4\" valign=\"top\">Low spending</th>\n",
       "      <th>Energy</th>\n",
       "      <td>4.960634</td>\n",
       "      <td>0.2200</td>\n",
       "    </tr>\n",
       "    <tr>\n",
       "      <th>Flood protection</th>\n",
       "      <td>0.229829</td>\n",
       "      <td>0.0102</td>\n",
       "    </tr>\n",
       "    <tr>\n",
       "      <th>Transport</th>\n",
       "      <td>19.274358</td>\n",
       "      <td>0.8500</td>\n",
       "    </tr>\n",
       "    <tr>\n",
       "      <th>Water supply and sanitation</th>\n",
       "      <td>3.382251</td>\n",
       "      <td>0.1500</td>\n",
       "    </tr>\n",
       "    <tr>\n",
       "      <th rowspan=\"5\" valign=\"top\">Capital</th>\n",
       "      <th rowspan=\"5\" valign=\"top\">Preferred</th>\n",
       "      <th>Energy</th>\n",
       "      <td>26.381556</td>\n",
       "      <td>1.1700</td>\n",
       "    </tr>\n",
       "    <tr>\n",
       "      <th>Flood protection</th>\n",
       "      <td>3.833218</td>\n",
       "      <td>0.1700</td>\n",
       "    </tr>\n",
       "    <tr>\n",
       "      <th>Irrigation</th>\n",
       "      <td>2.254834</td>\n",
       "      <td>0.1000</td>\n",
       "    </tr>\n",
       "    <tr>\n",
       "      <th>Transport</th>\n",
       "      <td>72.154683</td>\n",
       "      <td>3.2000</td>\n",
       "    </tr>\n",
       "    <tr>\n",
       "      <th>Water supply and sanitation</th>\n",
       "      <td>20.293505</td>\n",
       "      <td>0.9000</td>\n",
       "    </tr>\n",
       "    <tr>\n",
       "      <th rowspan=\"4\" valign=\"top\">Maintenance</th>\n",
       "      <th rowspan=\"4\" valign=\"top\">Preferred</th>\n",
       "      <th>Energy</th>\n",
       "      <td>5.862568</td>\n",
       "      <td>0.2600</td>\n",
       "    </tr>\n",
       "    <tr>\n",
       "      <th>Flood protection</th>\n",
       "      <td>0.789192</td>\n",
       "      <td>0.0350</td>\n",
       "    </tr>\n",
       "    <tr>\n",
       "      <th>Transport</th>\n",
       "      <td>21.646405</td>\n",
       "      <td>0.9600</td>\n",
       "    </tr>\n",
       "    <tr>\n",
       "      <th>Water supply and sanitation</th>\n",
       "      <td>6.764502</td>\n",
       "      <td>0.3000</td>\n",
       "    </tr>\n",
       "  </tbody>\n",
       "</table>\n",
       "</div>"
      ],
      "text/plain": [
       "usd vs percent                                                    Billion USD  \\\n",
       "capital vs maintenance scenario      sector                                     \n",
       "Capital                High spending Energy                         46.224094   \n",
       "                                     Flood protection                9.328809   \n",
       "                                     Irrigation                      3.607734   \n",
       "                                     Transport                     137.313693   \n",
       "                                     Water supply and sanitation    23.126488   \n",
       "Maintenance            High spending Energy                          5.411601   \n",
       "                                     Flood protection                1.219491   \n",
       "                                     Transport                      30.564095   \n",
       "                                     Water supply and sanitation     6.735870   \n",
       "Capital                Low spending  Energy                         16.685770   \n",
       "                                     Flood protection                1.126525   \n",
       "                                     Irrigation                      1.814057   \n",
       "                                     Transport                      28.798159   \n",
       "                                     Water supply and sanitation    12.401586   \n",
       "Maintenance            Low spending  Energy                          4.960634   \n",
       "                                     Flood protection                0.229829   \n",
       "                                     Transport                      19.274358   \n",
       "                                     Water supply and sanitation     3.382251   \n",
       "Capital                Preferred     Energy                         26.381556   \n",
       "                                     Flood protection                3.833218   \n",
       "                                     Irrigation                      2.254834   \n",
       "                                     Transport                      72.154683   \n",
       "                                     Water supply and sanitation    20.293505   \n",
       "Maintenance            Preferred     Energy                          5.862568   \n",
       "                                     Flood protection                0.789192   \n",
       "                                     Transport                      21.646405   \n",
       "                                     Water supply and sanitation     6.764502   \n",
       "\n",
       "usd vs percent                                                    Percent of GDP  \n",
       "capital vs maintenance scenario      sector                                       \n",
       "Capital                High spending Energy                               2.0500  \n",
       "                                     Flood protection                     0.4110  \n",
       "                                     Irrigation                           0.1600  \n",
       "                                     Transport                            6.1100  \n",
       "                                     Water supply and sanitation          1.0300  \n",
       "Maintenance            High spending Energy                               0.2400  \n",
       "                                     Flood protection                     0.0530  \n",
       "                                     Transport                            1.3600  \n",
       "                                     Water supply and sanitation          0.3000  \n",
       "Capital                Low spending  Energy                               0.7400  \n",
       "                                     Flood protection                     0.0501  \n",
       "                                     Irrigation                           0.0800  \n",
       "                                     Transport                            1.2700  \n",
       "                                     Water supply and sanitation          0.5500  \n",
       "Maintenance            Low spending  Energy                               0.2200  \n",
       "                                     Flood protection                     0.0102  \n",
       "                                     Transport                            0.8500  \n",
       "                                     Water supply and sanitation          0.1500  \n",
       "Capital                Preferred     Energy                               1.1700  \n",
       "                                     Flood protection                     0.1700  \n",
       "                                     Irrigation                           0.1000  \n",
       "                                     Transport                            3.2000  \n",
       "                                     Water supply and sanitation          0.9000  \n",
       "Maintenance            Preferred     Energy                               0.2600  \n",
       "                                     Flood protection                     0.0350  \n",
       "                                     Transport                            0.9600  \n",
       "                                     Water supply and sanitation          0.3000  "
      ]
     },
     "execution_count": 48,
     "metadata": {},
     "output_type": "execute_result"
    }
   ],
   "source": [
    "datawrapper[datawrapper.wbregion==\"Middle-East and North Africa\"].set_index([\"sector\",\"capital vs maintenance\",\"scenario\"])[[\"Billion USD\",\"Percent of GDP\"]].sum(level=[\"capital vs maintenance\",\"scenario\",\"sector\"])"
   ]
  },
  {
   "cell_type": "code",
   "execution_count": null,
   "metadata": {},
   "outputs": [],
   "source": []
  },
  {
   "cell_type": "code",
   "execution_count": null,
   "metadata": {},
   "outputs": [],
   "source": []
  },
  {
   "cell_type": "code",
   "execution_count": null,
   "metadata": {},
   "outputs": [],
   "source": []
  },
  {
   "cell_type": "code",
   "execution_count": null,
   "metadata": {},
   "outputs": [],
   "source": []
  },
  {
   "cell_type": "code",
   "execution_count": null,
   "metadata": {},
   "outputs": [],
   "source": []
  },
  {
   "cell_type": "code",
   "execution_count": 42,
   "metadata": {},
   "outputs": [],
   "source": [
    "final_data.sort_values([\"wbregion\",\"sector\",\"scenario\"]).to_csv('C:\\\\Users\\\\WB451855\\\\OneDrive - WBG\\\\!infra_needs_data\\\\semi_final_for_website.csv')"
   ]
  },
  {
   "cell_type": "code",
   "execution_count": 43,
   "metadata": {},
   "outputs": [],
   "source": [
    "totals = pd.DataFrame()"
   ]
  },
  {
   "cell_type": "markdown",
   "metadata": {},
   "source": [
    "# Energy"
   ]
  },
  {
   "cell_type": "code",
   "execution_count": 44,
   "metadata": {},
   "outputs": [],
   "source": [
    "energy = newdata2.loc[(newdata2.sector==\"energy\"),:]"
   ]
  },
  {
   "cell_type": "markdown",
   "metadata": {},
   "source": [
    "## keep for overview"
   ]
  },
  {
   "cell_type": "code",
   "execution_count": 45,
   "metadata": {},
   "outputs": [
    {
     "ename": "AttributeError",
     "evalue": "'DataFrame' object has no attribute 'region'",
     "output_type": "error",
     "traceback": [
      "\u001b[1;31m---------------------------------------------------------------------------\u001b[0m",
      "\u001b[1;31mAttributeError\u001b[0m                            Traceback (most recent call last)",
      "\u001b[1;32m<ipython-input-45-b9f3957341fb>\u001b[0m in \u001b[0;36m<module>\u001b[1;34m()\u001b[0m\n\u001b[1;32m----> 1\u001b[1;33m \u001b[0menergy\u001b[0m\u001b[1;33m.\u001b[0m\u001b[0mloc\u001b[0m\u001b[1;33m[\u001b[0m\u001b[0menergy\u001b[0m\u001b[1;33m.\u001b[0m\u001b[0mregion\u001b[0m\u001b[1;33m!=\u001b[0m\u001b[1;34m\"all_countries\"\u001b[0m\u001b[1;33m,\u001b[0m\u001b[1;33m:\u001b[0m\u001b[1;33m]\u001b[0m\u001b[1;33m.\u001b[0m\u001b[0mset_index\u001b[0m\u001b[1;33m(\u001b[0m\u001b[1;33m[\u001b[0m\u001b[1;34m\"scenario\"\u001b[0m\u001b[1;33m,\u001b[0m\u001b[1;34m\"capital vs maintenance\"\u001b[0m\u001b[1;33m]\u001b[0m\u001b[1;33m)\u001b[0m\u001b[1;33m.\u001b[0m\u001b[0mcost_bUSD_disc_annual\u001b[0m\u001b[1;33m.\u001b[0m\u001b[0msum\u001b[0m\u001b[1;33m(\u001b[0m\u001b[0mlevel\u001b[0m\u001b[1;33m=\u001b[0m\u001b[1;33m[\u001b[0m\u001b[1;34m\"scenario\"\u001b[0m\u001b[1;33m,\u001b[0m\u001b[1;34m\"capital vs maintenance\"\u001b[0m\u001b[1;33m]\u001b[0m\u001b[1;33m)\u001b[0m\u001b[1;33m.\u001b[0m\u001b[0mreset_index\u001b[0m\u001b[1;33m(\u001b[0m\u001b[1;33m)\u001b[0m\u001b[1;33m\u001b[0m\u001b[0m\n\u001b[0m",
      "\u001b[1;32mC:\\ProgramData\\Anaconda3\\envs\\Julie1\\lib\\site-packages\\pandas\\core\\generic.py\u001b[0m in \u001b[0;36m__getattr__\u001b[1;34m(self, name)\u001b[0m\n\u001b[0;32m   4374\u001b[0m             \u001b[1;32mif\u001b[0m \u001b[0mself\u001b[0m\u001b[1;33m.\u001b[0m\u001b[0m_info_axis\u001b[0m\u001b[1;33m.\u001b[0m\u001b[0m_can_hold_identifiers_and_holds_name\u001b[0m\u001b[1;33m(\u001b[0m\u001b[0mname\u001b[0m\u001b[1;33m)\u001b[0m\u001b[1;33m:\u001b[0m\u001b[1;33m\u001b[0m\u001b[0m\n\u001b[0;32m   4375\u001b[0m                 \u001b[1;32mreturn\u001b[0m \u001b[0mself\u001b[0m\u001b[1;33m[\u001b[0m\u001b[0mname\u001b[0m\u001b[1;33m]\u001b[0m\u001b[1;33m\u001b[0m\u001b[0m\n\u001b[1;32m-> 4376\u001b[1;33m             \u001b[1;32mreturn\u001b[0m \u001b[0mobject\u001b[0m\u001b[1;33m.\u001b[0m\u001b[0m__getattribute__\u001b[0m\u001b[1;33m(\u001b[0m\u001b[0mself\u001b[0m\u001b[1;33m,\u001b[0m \u001b[0mname\u001b[0m\u001b[1;33m)\u001b[0m\u001b[1;33m\u001b[0m\u001b[0m\n\u001b[0m\u001b[0;32m   4377\u001b[0m \u001b[1;33m\u001b[0m\u001b[0m\n\u001b[0;32m   4378\u001b[0m     \u001b[1;32mdef\u001b[0m \u001b[0m__setattr__\u001b[0m\u001b[1;33m(\u001b[0m\u001b[0mself\u001b[0m\u001b[1;33m,\u001b[0m \u001b[0mname\u001b[0m\u001b[1;33m,\u001b[0m \u001b[0mvalue\u001b[0m\u001b[1;33m)\u001b[0m\u001b[1;33m:\u001b[0m\u001b[1;33m\u001b[0m\u001b[0m\n",
      "\u001b[1;31mAttributeError\u001b[0m: 'DataFrame' object has no attribute 'region'"
     ]
    }
   ],
   "source": [
    "energy.loc[energy.region!=\"all_countries\",:].set_index([\"scenario\",\"capital vs maintenance\"]).cost_bUSD_disc_annual.sum(level=[\"scenario\",\"capital vs maintenance\"]).reset_index()"
   ]
  },
  {
   "cell_type": "code",
   "execution_count": null,
   "metadata": {},
   "outputs": [],
   "source": [
    "temp = energy.loc[energy.region!=\"all_countries\",:].set_index([\"scenario\",\"capital vs maintenance\"]).cost_bUSD_disc_annual.sum(level=[\"scenario\",\"capital vs maintenance\"]).reset_index()\n",
    "temp[\"sector\"] = \"energy\""
   ]
  },
  {
   "cell_type": "code",
   "execution_count": null,
   "metadata": {},
   "outputs": [],
   "source": [
    "totals = temp"
   ]
  },
  {
   "cell_type": "code",
   "execution_count": null,
   "metadata": {},
   "outputs": [],
   "source": [
    "energy.loc[energy.region==\"all_countries\",[\"scenario\",\"cost_bUSD_disc_annual\",\"capital vs maintenance\"]]"
   ]
  },
  {
   "cell_type": "markdown",
   "metadata": {},
   "source": [
    "# Transport"
   ]
  },
  {
   "cell_type": "code",
   "execution_count": null,
   "metadata": {},
   "outputs": [],
   "source": [
    "transport = newdata2.loc[(newdata2.sector==\"transport\"),:]"
   ]
  },
  {
   "cell_type": "markdown",
   "metadata": {},
   "source": [
    "## keep for overview"
   ]
  },
  {
   "cell_type": "code",
   "execution_count": null,
   "metadata": {},
   "outputs": [],
   "source": [
    "transport.loc[transport.region!=\"all_countries\",:].set_index([\"scenario\",\"capital vs maintenance\"]).cost_bUSD_disc_annual.sum(level=[\"scenario\",\"capital vs maintenance\"])"
   ]
  },
  {
   "cell_type": "code",
   "execution_count": null,
   "metadata": {},
   "outputs": [],
   "source": [
    "temp = transport.loc[transport.region!=\"all_countries\",:].set_index([\"scenario\",\"capital vs maintenance\"]).cost_bUSD_disc_annual.sum(level=[\"scenario\",\"capital vs maintenance\"]).reset_index()\n",
    "temp[\"sector\"] = \"transport\""
   ]
  },
  {
   "cell_type": "code",
   "execution_count": null,
   "metadata": {},
   "outputs": [],
   "source": [
    "totals = totals.append(temp)"
   ]
  },
  {
   "cell_type": "code",
   "execution_count": null,
   "metadata": {},
   "outputs": [],
   "source": [
    "transport.loc[transport.region==\"all_countries\",[\"scenario\",\"cost_bUSD_disc_annual\"]]"
   ]
  },
  {
   "cell_type": "markdown",
   "metadata": {},
   "source": [
    "# WASH"
   ]
  },
  {
   "cell_type": "code",
   "execution_count": null,
   "metadata": {},
   "outputs": [],
   "source": [
    "wash = newdata2.loc[(newdata2.sector==\"wash\"),:]"
   ]
  },
  {
   "cell_type": "markdown",
   "metadata": {},
   "source": [
    "## keep for overview"
   ]
  },
  {
   "cell_type": "code",
   "execution_count": null,
   "metadata": {},
   "outputs": [],
   "source": [
    "wash.loc[wash.region!=\"all_countries\",:].set_index([\"scenario\",\"capital vs maintenance\"]).cost_bUSD_disc_annual.sum(level=[\"scenario\",\"capital vs maintenance\"])"
   ]
  },
  {
   "cell_type": "code",
   "execution_count": null,
   "metadata": {},
   "outputs": [],
   "source": [
    "temp = wash.loc[wash.region!=\"all_countries\",:].set_index([\"scenario\",\"capital vs maintenance\"]).cost_bUSD_disc_annual.sum(level=[\"scenario\",\"capital vs maintenance\"]).reset_index()\n",
    "temp[\"sector\"] = \"wash\""
   ]
  },
  {
   "cell_type": "code",
   "execution_count": null,
   "metadata": {},
   "outputs": [],
   "source": [
    "totals = totals.append(temp)"
   ]
  },
  {
   "cell_type": "code",
   "execution_count": null,
   "metadata": {},
   "outputs": [],
   "source": [
    "wash.loc[wash.region==\"all_countries\",[\"scenario\",\"cost_bUSD_disc_annual\"]]"
   ]
  },
  {
   "cell_type": "markdown",
   "metadata": {},
   "source": [
    "# Flood"
   ]
  },
  {
   "cell_type": "code",
   "execution_count": null,
   "metadata": {},
   "outputs": [],
   "source": [
    "coastal_flood = newdata2.loc[(newdata2.sector==\"coastal protection\"),:]"
   ]
  },
  {
   "cell_type": "code",
   "execution_count": null,
   "metadata": {},
   "outputs": [],
   "source": [
    "coastal_flood.loc[coastal_flood.region!=\"all_countries\",:].set_index([\"scenario\",\"capital vs maintenance\"]).cost_bUSD_disc_annual.sum(level=[\"scenario\",\"capital vs maintenance\"])"
   ]
  },
  {
   "cell_type": "code",
   "execution_count": null,
   "metadata": {},
   "outputs": [],
   "source": [
    "river_flood = newdata2.loc[(newdata2.sector==\"river protection\"),:]"
   ]
  },
  {
   "cell_type": "code",
   "execution_count": null,
   "metadata": {},
   "outputs": [],
   "source": [
    "river_flood.loc[river_flood.region!=\"all_countries\",:].set_index([\"scenario\",\"capital vs maintenance\"]).cost_bUSD_disc_annual.sum(level=[\"scenario\",\"capital vs maintenance\"])"
   ]
  },
  {
   "cell_type": "code",
   "execution_count": null,
   "metadata": {},
   "outputs": [],
   "source": [
    "river_flood.loc[river_flood.region==\"all_countries\",:].set_index([\"scenario\",\"capital vs maintenance\"]).cost_bUSD_disc_annual.sum(level=[\"scenario\",\"capital vs maintenance\"])"
   ]
  },
  {
   "cell_type": "code",
   "execution_count": null,
   "metadata": {},
   "outputs": [],
   "source": [
    "flood = coastal_flood.loc[coastal_flood.region!=\"all_countries\",:].set_index([\"scenario\",\"capital vs maintenance\"]).cost_bUSD_disc_annual.sum(level=[\"scenario\",\"capital vs maintenance\"])+\\\n",
    "river_flood.loc[river_flood.region!=\"all_countries\",:].set_index([\"scenario\",\"capital vs maintenance\"]).cost_bUSD_disc_annual.sum(level=[\"scenario\",\"capital vs maintenance\"])"
   ]
  },
  {
   "cell_type": "markdown",
   "metadata": {},
   "source": [
    "## keep for overview"
   ]
  },
  {
   "cell_type": "code",
   "execution_count": null,
   "metadata": {},
   "outputs": [],
   "source": [
    "flood"
   ]
  },
  {
   "cell_type": "code",
   "execution_count": null,
   "metadata": {},
   "outputs": [],
   "source": [
    "temp = flood.reset_index()\n",
    "temp[\"sector\"] = \"flood\""
   ]
  },
  {
   "cell_type": "code",
   "execution_count": null,
   "metadata": {},
   "outputs": [],
   "source": [
    "totals = totals.append(temp)"
   ]
  },
  {
   "cell_type": "code",
   "execution_count": null,
   "metadata": {},
   "outputs": [],
   "source": [
    "newdata2.loc[(newdata2.sector==\"flood\"),:]"
   ]
  },
  {
   "cell_type": "markdown",
   "metadata": {},
   "source": [
    "# Irrigation"
   ]
  },
  {
   "cell_type": "code",
   "execution_count": null,
   "metadata": {},
   "outputs": [],
   "source": [
    "irrigation = newdata2.loc[(newdata2.sector==\"irrigation\"),:]"
   ]
  },
  {
   "cell_type": "markdown",
   "metadata": {},
   "source": [
    "## keep for overview"
   ]
  },
  {
   "cell_type": "code",
   "execution_count": null,
   "metadata": {},
   "outputs": [],
   "source": [
    "irrigation.loc[irrigation.region!=\"all_countries\",:].set_index([\"scenario\",\"capital vs maintenance\"]).cost_bUSD_disc_annual.sum(level=[\"scenario\",\"capital vs maintenance\"])"
   ]
  },
  {
   "cell_type": "code",
   "execution_count": null,
   "metadata": {},
   "outputs": [],
   "source": [
    "temp = irrigation.loc[irrigation.region!=\"all_countries\",:].set_index([\"scenario\",\"capital vs maintenance\"]).cost_bUSD_disc_annual.sum(level=[\"scenario\",\"capital vs maintenance\"]).reset_index()\n",
    "temp[\"sector\"] = \"irrigation\""
   ]
  },
  {
   "cell_type": "code",
   "execution_count": null,
   "metadata": {},
   "outputs": [],
   "source": [
    "totals = totals.append(temp)"
   ]
  },
  {
   "cell_type": "code",
   "execution_count": null,
   "metadata": {},
   "outputs": [],
   "source": [
    "irrigation.loc[irrigation.region==\"all_countries\",[\"scenario\",\"cost_bUSD_disc_annual\"]]"
   ]
  },
  {
   "cell_type": "code",
   "execution_count": null,
   "metadata": {},
   "outputs": [],
   "source": [
    "newdata2[(newdata2.region!=\"all_countries\")].set_index([\"scenario\",\"capital vs maintenance\"]).cost_bUSD_disc_annual.sum(level=[\"scenario\",\"capital vs maintenance\"])"
   ]
  },
  {
   "cell_type": "code",
   "execution_count": null,
   "metadata": {},
   "outputs": [],
   "source": [
    "newdata2[(newdata2.region==\"all_countries\")&(newdata2[\"capital vs maintenance\"]==\"capital\")].set_index(\"scenario\").cost_bUSD_disc_annual.sum(level=\"scenario\")"
   ]
  },
  {
   "cell_type": "markdown",
   "metadata": {},
   "source": [
    "## we don't have energy maintenance per region so we use global %"
   ]
  },
  {
   "cell_type": "code",
   "execution_count": null,
   "metadata": {},
   "outputs": [],
   "source": [
    "temp2 = energy.loc[(energy.region==\"all_countries\")&(energy[\"capital vs maintenance\"]==\"maintenance\")&(energy.scenario!=\"best\"),[\"scenario\",\"cost_bUSD_disc_annual\",\"capital vs maintenance\"]]\n",
    "temp2[\"sector\"] = \"energy\""
   ]
  },
  {
   "cell_type": "code",
   "execution_count": null,
   "metadata": {},
   "outputs": [],
   "source": [
    "temp2"
   ]
  },
  {
   "cell_type": "code",
   "execution_count": null,
   "metadata": {},
   "outputs": [],
   "source": [
    "totals = totals.append(temp2)"
   ]
  },
  {
   "cell_type": "code",
   "execution_count": null,
   "metadata": {},
   "outputs": [],
   "source": [
    "totals[totals.sector==\"energy\"]"
   ]
  },
  {
   "cell_type": "code",
   "execution_count": null,
   "metadata": {},
   "outputs": [],
   "source": [
    "totals.set_index([\"sector\",\"scenario\",\"capital vs maintenance\"]).cost_bUSD_disc_annual.unstack(\"capital vs maintenance\")"
   ]
  },
  {
   "cell_type": "code",
   "execution_count": null,
   "metadata": {},
   "outputs": [],
   "source": [
    "totals.set_index([\"sector\",\"scenario\",\"capital vs maintenance\"]).cost_bUSD_disc_annual.unstack(\"capital vs maintenance\").sum(level=\"scenario\")"
   ]
  },
  {
   "cell_type": "markdown",
   "metadata": {},
   "source": [
    "totals.set_index([\"sector\",\"scenario\",\"capital vs maintenance\"]).cost_bUSD_disc_annual.unstack(\"capital vs maintenance\").to_csv('C:\\\\Users\\\\WB451855\\\\OneDrive - WBG\\\\!infra_needs_data\\\\all_usd_results.csv')"
   ]
  },
  {
   "cell_type": "code",
   "execution_count": null,
   "metadata": {},
   "outputs": [],
   "source": [
    "res[res.region==\"all_countries\"].set_index([\"sector\",\"scenario\",\"capital vs maintenance\"]).data.unstack(\"capital vs maintenance\")"
   ]
  },
  {
   "cell_type": "markdown",
   "metadata": {},
   "source": [
    "res[res.region==\"all_countries\"].set_index([\"sector\",\"scenario\",\"capital vs maintenance\"]).data.unstack(\"capital vs maintenance\").to_csv('C:\\\\Users\\\\WB451855\\\\OneDrive - WBG\\\\!infra_needs_data\\\\all_percent_results.csv')"
   ]
  },
  {
   "cell_type": "code",
   "execution_count": null,
   "metadata": {},
   "outputs": [],
   "source": [
    "newdata2[newdata2.sector==\"irrigation\"].sort_values(\"region\")"
   ]
  },
  {
   "cell_type": "code",
   "execution_count": null,
   "metadata": {},
   "outputs": [],
   "source": [
    "region_totals = newdata2.set_index([\"region\",\"sector\",\"scenario\",\"capital vs maintenance\"]).drop(\"all_countries\",level=\"region\").sum(level=[\"region\",\"scenario\",\"capital vs maintenance\"]).cost_bUSD_disc_annual.unstack(\"capital vs maintenance\").capital"
   ]
  },
  {
   "cell_type": "code",
   "execution_count": null,
   "metadata": {},
   "outputs": [],
   "source": [
    "region_totals = region_totals.reset_index()"
   ]
  },
  {
   "cell_type": "code",
   "execution_count": null,
   "metadata": {},
   "outputs": [],
   "source": [
    "region_totals['region2'] = region_totals.region\n",
    "\n",
    "region_totals.loc[region_totals.region=='Africa','region2']='Africa'\n",
    "region_totals.loc[region_totals.region=='Middle-East and North Africa','region2']='Africa'\n",
    "region_totals.loc[region_totals.region=='Sub-Saharan Africa','region2']='Africa'\n",
    "region_totals.loc[region_totals.region=='Asia','region2']='Asia'\n",
    "region_totals.loc[region_totals.region=='South Asia','region2']='Asia'\n",
    "region_totals.loc[region_totals.region=='East Asia and Pacific','region2']='Asia'"
   ]
  },
  {
   "cell_type": "code",
   "execution_count": null,
   "metadata": {},
   "outputs": [],
   "source": [
    "region_totals2 = region_totals.set_index(['region2','scenario']).capital.sum(level=[\"region2\",'scenario'])"
   ]
  },
  {
   "cell_type": "code",
   "execution_count": null,
   "metadata": {},
   "outputs": [],
   "source": [
    "region_totals2 = region_totals2.unstack(\"scenario\")"
   ]
  },
  {
   "cell_type": "code",
   "execution_count": null,
   "metadata": {},
   "outputs": [],
   "source": [
    "region_totals2.sum(axis=0)"
   ]
  },
  {
   "cell_type": "code",
   "execution_count": null,
   "metadata": {},
   "outputs": [],
   "source": [
    "region_totalspc = region_totals2/region_totals2.sum(axis=0)"
   ]
  },
  {
   "cell_type": "code",
   "execution_count": null,
   "metadata": {},
   "outputs": [],
   "source": [
    "region_totalspc"
   ]
  },
  {
   "cell_type": "markdown",
   "metadata": {},
   "source": [
    "faux: ne pas faire le truc ci-dessous (a corriger)"
   ]
  },
  {
   "cell_type": "code",
   "execution_count": null,
   "metadata": {},
   "outputs": [],
   "source": [
    "region_pc_totals = mydata.copy()\n",
    "region_pc_totals['region2'] = region_pc_totals.region\n",
    "\n",
    "region_pc_totals.loc[region_pc_totals.region=='Africa','region2']='Africa'\n",
    "region_pc_totals.loc[region_pc_totals.region=='Middle-East and North Africa','region2']='Africa'\n",
    "region_pc_totals.loc[region_pc_totals.region=='Sub-Saharan Africa','region2']='Africa'\n",
    "region_pc_totals.loc[region_pc_totals.region=='Asia','region2']='Asia'\n",
    "region_pc_totals.loc[region_pc_totals.region=='South Asia','region2']='Asia'\n",
    "region_pc_totals.loc[region_pc_totals.region=='East Asia and Pacific','region2']='Asia'"
   ]
  },
  {
   "cell_type": "code",
   "execution_count": null,
   "metadata": {},
   "outputs": [],
   "source": [
    "region_pc_totals.columns"
   ]
  },
  {
   "cell_type": "code",
   "execution_count": null,
   "metadata": {},
   "outputs": [],
   "source": [
    "region_pc_totals.sample(5)"
   ]
  },
  {
   "cell_type": "code",
   "execution_count": null,
   "metadata": {},
   "outputs": [],
   "source": [
    "region_pc_totals = region_pc_totals.set_index(['sector','scenario','capital vs maintenance','region2','year'])[['cost_bUSD','cost_bUSD_disc','GDP']].sum(level=['scenario','sector','capital vs maintenance','region2','year']).drop(\"all_countries\",level=\"region2\")"
   ]
  },
  {
   "cell_type": "code",
   "execution_count": null,
   "metadata": {},
   "outputs": [],
   "source": [
    "region_pc_totals.sample(10)"
   ]
  },
  {
   "cell_type": "code",
   "execution_count": null,
   "metadata": {},
   "outputs": [],
   "source": [
    "region_pc_totals2 = region_pc_totals[['cost_bUSD','cost_bUSD_disc']].sum(level=['scenario','capital vs maintenance','region2','year'])"
   ]
  },
  {
   "cell_type": "code",
   "execution_count": null,
   "metadata": {},
   "outputs": [],
   "source": [
    "region_pc_totals2['GDP'] = region_pc_totals.GDP.mean(level=['scenario','capital vs maintenance','region2','year'])"
   ]
  },
  {
   "cell_type": "code",
   "execution_count": null,
   "metadata": {},
   "outputs": [],
   "source": [
    "region_pc_totals2.sample(3)"
   ]
  },
  {
   "cell_type": "code",
   "execution_count": null,
   "metadata": {},
   "outputs": [],
   "source": [
    "region_pc_totals2['new_data'] = 100*1e9*region_pc_totals2.cost_bUSD/region_pc_totals2.GDP"
   ]
  },
  {
   "cell_type": "code",
   "execution_count": null,
   "metadata": {},
   "outputs": [],
   "source": [
    "region_pc_totals_mean = region_pc_totals2['new_data'].mean(level=['scenario','capital vs maintenance','region2']).to_frame()"
   ]
  },
  {
   "cell_type": "code",
   "execution_count": null,
   "metadata": {},
   "outputs": [],
   "source": [
    "region_pc_totals_mean['cost_bUSD_disc'] = 1/15*region_pc_totals2['cost_bUSD_disc'].sum(level=['scenario','capital vs maintenance','region2'])"
   ]
  },
  {
   "cell_type": "code",
   "execution_count": null,
   "metadata": {},
   "outputs": [],
   "source": [
    "region_pc_totals_mean.unstack(\"capital vs maintenance\")"
   ]
  },
  {
   "cell_type": "markdown",
   "metadata": {},
   "source": [
    "region_pc_totals_mean.unstack(\"capital vs maintenance\").to_excel(\"C:\\\\Users\\\\WB451855\\\\OneDrive - WBG\\\\!infra_needs_data\\\\aggregated_regions_numbers.xlsx\")"
   ]
  },
  {
   "cell_type": "code",
   "execution_count": null,
   "metadata": {},
   "outputs": [],
   "source": [
    "region_pc_totals3 = 1/15*region_pc_totals[['cost_bUSD_disc']].sum(level=['scenario','capital vs maintenance','region2','sector'])"
   ]
  },
  {
   "cell_type": "code",
   "execution_count": null,
   "metadata": {},
   "outputs": [],
   "source": [
    "region_pc_totals3 = region_pc_totals3.reset_index()"
   ]
  },
  {
   "cell_type": "code",
   "execution_count": null,
   "metadata": {},
   "outputs": [],
   "source": [
    "region_pc_totals3[(region_pc_totals3.sector==\"energy\")&(region_pc_totals3[\"capital vs maintenance\"]==\"maintenance\")]"
   ]
  },
  {
   "cell_type": "code",
   "execution_count": null,
   "metadata": {},
   "outputs": [],
   "source": []
  }
 ],
 "metadata": {
  "kernelspec": {
   "display_name": "Python (Julie1)",
   "language": "python",
   "name": "julie1"
  },
  "language_info": {
   "codemirror_mode": {
    "name": "ipython",
    "version": 3
   },
   "file_extension": ".py",
   "mimetype": "text/x-python",
   "name": "python",
   "nbconvert_exporter": "python",
   "pygments_lexer": "ipython3",
   "version": "3.6.6"
  }
 },
 "nbformat": 4,
 "nbformat_minor": 2
}
