{
 "cells": [
  {
   "cell_type": "code",
   "execution_count": 1,
   "metadata": {},
   "outputs": [],
   "source": [
    "import pandas as pd\n",
    "import numpy as np\n",
    "import matplotlib.pyplot as plt\n",
    "#import prim\n",
    "import seaborn as sns\n",
    "#from sklearn import mixture\n",
    "import os\n",
    "#from clustering_and_prim_tools import *"
   ]
  },
  {
   "cell_type": "code",
   "execution_count": 2,
   "metadata": {},
   "outputs": [],
   "source": [
    "%matplotlib inline"
   ]
  },
  {
   "cell_type": "code",
   "execution_count": 3,
   "metadata": {},
   "outputs": [],
   "source": [
    "sns.set_context(\"poster\",rc={\"font.size\": 28})\n",
    "sns.set_style(\"whitegrid\")"
   ]
  },
  {
   "cell_type": "code",
   "execution_count": 4,
   "metadata": {},
   "outputs": [],
   "source": [
    "myfolder = \"C:/Users/WB451855/OneDrive - WBG/!infra_needs_data/energy_iiasa_output_data/\""
   ]
  },
  {
   "cell_type": "code",
   "execution_count": 20,
   "metadata": {},
   "outputs": [],
   "source": [
    "fig11data = pd.read_csv(myfolder+\"figure3-11.csv\")"
   ]
  },
  {
   "cell_type": "code",
   "execution_count": 21,
   "metadata": {},
   "outputs": [],
   "source": [
    "fig11data = fig11data.set_index(['year','climate'])\n",
    "fig11data.columns.name='model'"
   ]
  },
  {
   "cell_type": "code",
   "execution_count": 22,
   "metadata": {},
   "outputs": [
    {
     "data": {
      "text/html": [
       "<div>\n",
       "<style scoped>\n",
       "    .dataframe tbody tr th:only-of-type {\n",
       "        vertical-align: middle;\n",
       "    }\n",
       "\n",
       "    .dataframe tbody tr th {\n",
       "        vertical-align: top;\n",
       "    }\n",
       "\n",
       "    .dataframe thead th {\n",
       "        text-align: right;\n",
       "    }\n",
       "</style>\n",
       "<table border=\"1\" class=\"dataframe\">\n",
       "  <thead>\n",
       "    <tr style=\"text-align: right;\">\n",
       "      <th></th>\n",
       "      <th>model</th>\n",
       "      <th>AIM/CGE</th>\n",
       "      <th>IMAGE</th>\n",
       "      <th>MESSAGEix-GLOBIOM</th>\n",
       "      <th>POLES</th>\n",
       "      <th>REMIND-MAgPIE</th>\n",
       "      <th>WITCH-GLOBIOM</th>\n",
       "    </tr>\n",
       "    <tr>\n",
       "      <th>year</th>\n",
       "      <th>climate</th>\n",
       "      <th></th>\n",
       "      <th></th>\n",
       "      <th></th>\n",
       "      <th></th>\n",
       "      <th></th>\n",
       "      <th></th>\n",
       "    </tr>\n",
       "  </thead>\n",
       "  <tbody>\n",
       "    <tr>\n",
       "      <th rowspan=\"3\" valign=\"top\">2015</th>\n",
       "      <th>BAU</th>\n",
       "      <td>0.578407</td>\n",
       "      <td>0.740770</td>\n",
       "      <td>0.589730</td>\n",
       "      <td>0.504905</td>\n",
       "      <td>0.698690</td>\n",
       "      <td>0.700498</td>\n",
       "    </tr>\n",
       "    <tr>\n",
       "      <th>NDC</th>\n",
       "      <td>0.578407</td>\n",
       "      <td>0.740770</td>\n",
       "      <td>0.589730</td>\n",
       "      <td>0.504905</td>\n",
       "      <td>0.698690</td>\n",
       "      <td>0.700498</td>\n",
       "    </tr>\n",
       "    <tr>\n",
       "      <th>2C</th>\n",
       "      <td>0.578407</td>\n",
       "      <td>0.740770</td>\n",
       "      <td>0.589730</td>\n",
       "      <td>0.504905</td>\n",
       "      <td>0.698690</td>\n",
       "      <td>0.700498</td>\n",
       "    </tr>\n",
       "    <tr>\n",
       "      <th rowspan=\"3\" valign=\"top\">2020</th>\n",
       "      <th>BAU</th>\n",
       "      <td>0.532661</td>\n",
       "      <td>0.524803</td>\n",
       "      <td>0.600514</td>\n",
       "      <td>0.737384</td>\n",
       "      <td>0.734685</td>\n",
       "      <td>0.432757</td>\n",
       "    </tr>\n",
       "    <tr>\n",
       "      <th>NDC</th>\n",
       "      <td>0.546837</td>\n",
       "      <td>0.640560</td>\n",
       "      <td>0.600514</td>\n",
       "      <td>0.742044</td>\n",
       "      <td>0.734685</td>\n",
       "      <td>0.724653</td>\n",
       "    </tr>\n",
       "    <tr>\n",
       "      <th>2C</th>\n",
       "      <td>0.563236</td>\n",
       "      <td>0.896439</td>\n",
       "      <td>0.600514</td>\n",
       "      <td>0.737077</td>\n",
       "      <td>0.734685</td>\n",
       "      <td>0.969544</td>\n",
       "    </tr>\n",
       "    <tr>\n",
       "      <th rowspan=\"3\" valign=\"top\">2025</th>\n",
       "      <th>BAU</th>\n",
       "      <td>0.665630</td>\n",
       "      <td>0.538554</td>\n",
       "      <td>0.597566</td>\n",
       "      <td>0.611871</td>\n",
       "      <td>0.690066</td>\n",
       "      <td>0.428539</td>\n",
       "    </tr>\n",
       "    <tr>\n",
       "      <th>NDC</th>\n",
       "      <td>0.716470</td>\n",
       "      <td>0.610086</td>\n",
       "      <td>0.665288</td>\n",
       "      <td>0.668589</td>\n",
       "      <td>0.777778</td>\n",
       "      <td>0.739667</td>\n",
       "    </tr>\n",
       "    <tr>\n",
       "      <th>2C</th>\n",
       "      <td>0.923702</td>\n",
       "      <td>0.968822</td>\n",
       "      <td>0.736690</td>\n",
       "      <td>0.815391</td>\n",
       "      <td>0.925064</td>\n",
       "      <td>0.973296</td>\n",
       "    </tr>\n",
       "    <tr>\n",
       "      <th rowspan=\"3\" valign=\"top\">2030</th>\n",
       "      <th>BAU</th>\n",
       "      <td>0.652700</td>\n",
       "      <td>0.537356</td>\n",
       "      <td>0.593087</td>\n",
       "      <td>0.568387</td>\n",
       "      <td>0.702452</td>\n",
       "      <td>0.441427</td>\n",
       "    </tr>\n",
       "    <tr>\n",
       "      <th>NDC</th>\n",
       "      <td>0.753021</td>\n",
       "      <td>0.616951</td>\n",
       "      <td>0.742391</td>\n",
       "      <td>0.815016</td>\n",
       "      <td>0.814627</td>\n",
       "      <td>0.562135</td>\n",
       "    </tr>\n",
       "    <tr>\n",
       "      <th>2C</th>\n",
       "      <td>0.980373</td>\n",
       "      <td>0.978668</td>\n",
       "      <td>0.831677</td>\n",
       "      <td>0.923146</td>\n",
       "      <td>0.979537</td>\n",
       "      <td>0.980335</td>\n",
       "    </tr>\n",
       "  </tbody>\n",
       "</table>\n",
       "</div>"
      ],
      "text/plain": [
       "model          AIM/CGE     IMAGE  MESSAGEix-GLOBIOM     POLES  REMIND-MAgPIE  \\\n",
       "year climate                                                                   \n",
       "2015 BAU      0.578407  0.740770           0.589730  0.504905       0.698690   \n",
       "     NDC      0.578407  0.740770           0.589730  0.504905       0.698690   \n",
       "     2C       0.578407  0.740770           0.589730  0.504905       0.698690   \n",
       "2020 BAU      0.532661  0.524803           0.600514  0.737384       0.734685   \n",
       "     NDC      0.546837  0.640560           0.600514  0.742044       0.734685   \n",
       "     2C       0.563236  0.896439           0.600514  0.737077       0.734685   \n",
       "2025 BAU      0.665630  0.538554           0.597566  0.611871       0.690066   \n",
       "     NDC      0.716470  0.610086           0.665288  0.668589       0.777778   \n",
       "     2C       0.923702  0.968822           0.736690  0.815391       0.925064   \n",
       "2030 BAU      0.652700  0.537356           0.593087  0.568387       0.702452   \n",
       "     NDC      0.753021  0.616951           0.742391  0.815016       0.814627   \n",
       "     2C       0.980373  0.978668           0.831677  0.923146       0.979537   \n",
       "\n",
       "model         WITCH-GLOBIOM  \n",
       "year climate                 \n",
       "2015 BAU           0.700498  \n",
       "     NDC           0.700498  \n",
       "     2C            0.700498  \n",
       "2020 BAU           0.432757  \n",
       "     NDC           0.724653  \n",
       "     2C            0.969544  \n",
       "2025 BAU           0.428539  \n",
       "     NDC           0.739667  \n",
       "     2C            0.973296  \n",
       "2030 BAU           0.441427  \n",
       "     NDC           0.562135  \n",
       "     2C            0.980335  "
      ]
     },
     "execution_count": 22,
     "metadata": {},
     "output_type": "execute_result"
    }
   ],
   "source": [
    "fig11data"
   ]
  },
  {
   "cell_type": "code",
   "execution_count": 23,
   "metadata": {},
   "outputs": [
    {
     "data": {
      "text/html": [
       "<div>\n",
       "<style scoped>\n",
       "    .dataframe tbody tr th:only-of-type {\n",
       "        vertical-align: middle;\n",
       "    }\n",
       "\n",
       "    .dataframe tbody tr th {\n",
       "        vertical-align: top;\n",
       "    }\n",
       "\n",
       "    .dataframe thead th {\n",
       "        text-align: right;\n",
       "    }\n",
       "</style>\n",
       "<table border=\"1\" class=\"dataframe\">\n",
       "  <thead>\n",
       "    <tr style=\"text-align: right;\">\n",
       "      <th></th>\n",
       "      <th>year</th>\n",
       "      <th>climate</th>\n",
       "      <th>model</th>\n",
       "      <th>share</th>\n",
       "    </tr>\n",
       "  </thead>\n",
       "  <tbody>\n",
       "    <tr>\n",
       "      <th>0</th>\n",
       "      <td>2015</td>\n",
       "      <td>BAU</td>\n",
       "      <td>AIM/CGE</td>\n",
       "      <td>0.578407</td>\n",
       "    </tr>\n",
       "    <tr>\n",
       "      <th>1</th>\n",
       "      <td>2015</td>\n",
       "      <td>BAU</td>\n",
       "      <td>IMAGE</td>\n",
       "      <td>0.740770</td>\n",
       "    </tr>\n",
       "    <tr>\n",
       "      <th>2</th>\n",
       "      <td>2015</td>\n",
       "      <td>BAU</td>\n",
       "      <td>MESSAGEix-GLOBIOM</td>\n",
       "      <td>0.589730</td>\n",
       "    </tr>\n",
       "    <tr>\n",
       "      <th>3</th>\n",
       "      <td>2015</td>\n",
       "      <td>BAU</td>\n",
       "      <td>POLES</td>\n",
       "      <td>0.504905</td>\n",
       "    </tr>\n",
       "    <tr>\n",
       "      <th>4</th>\n",
       "      <td>2015</td>\n",
       "      <td>BAU</td>\n",
       "      <td>REMIND-MAgPIE</td>\n",
       "      <td>0.698690</td>\n",
       "    </tr>\n",
       "    <tr>\n",
       "      <th>5</th>\n",
       "      <td>2015</td>\n",
       "      <td>BAU</td>\n",
       "      <td>WITCH-GLOBIOM</td>\n",
       "      <td>0.700498</td>\n",
       "    </tr>\n",
       "    <tr>\n",
       "      <th>6</th>\n",
       "      <td>2015</td>\n",
       "      <td>NDC</td>\n",
       "      <td>AIM/CGE</td>\n",
       "      <td>0.578407</td>\n",
       "    </tr>\n",
       "    <tr>\n",
       "      <th>7</th>\n",
       "      <td>2015</td>\n",
       "      <td>NDC</td>\n",
       "      <td>IMAGE</td>\n",
       "      <td>0.740770</td>\n",
       "    </tr>\n",
       "    <tr>\n",
       "      <th>8</th>\n",
       "      <td>2015</td>\n",
       "      <td>NDC</td>\n",
       "      <td>MESSAGEix-GLOBIOM</td>\n",
       "      <td>0.589730</td>\n",
       "    </tr>\n",
       "    <tr>\n",
       "      <th>9</th>\n",
       "      <td>2015</td>\n",
       "      <td>NDC</td>\n",
       "      <td>POLES</td>\n",
       "      <td>0.504905</td>\n",
       "    </tr>\n",
       "    <tr>\n",
       "      <th>10</th>\n",
       "      <td>2015</td>\n",
       "      <td>NDC</td>\n",
       "      <td>REMIND-MAgPIE</td>\n",
       "      <td>0.698690</td>\n",
       "    </tr>\n",
       "    <tr>\n",
       "      <th>11</th>\n",
       "      <td>2015</td>\n",
       "      <td>NDC</td>\n",
       "      <td>WITCH-GLOBIOM</td>\n",
       "      <td>0.700498</td>\n",
       "    </tr>\n",
       "    <tr>\n",
       "      <th>12</th>\n",
       "      <td>2015</td>\n",
       "      <td>2C</td>\n",
       "      <td>AIM/CGE</td>\n",
       "      <td>0.578407</td>\n",
       "    </tr>\n",
       "    <tr>\n",
       "      <th>13</th>\n",
       "      <td>2015</td>\n",
       "      <td>2C</td>\n",
       "      <td>IMAGE</td>\n",
       "      <td>0.740770</td>\n",
       "    </tr>\n",
       "    <tr>\n",
       "      <th>14</th>\n",
       "      <td>2015</td>\n",
       "      <td>2C</td>\n",
       "      <td>MESSAGEix-GLOBIOM</td>\n",
       "      <td>0.589730</td>\n",
       "    </tr>\n",
       "    <tr>\n",
       "      <th>15</th>\n",
       "      <td>2015</td>\n",
       "      <td>2C</td>\n",
       "      <td>POLES</td>\n",
       "      <td>0.504905</td>\n",
       "    </tr>\n",
       "    <tr>\n",
       "      <th>16</th>\n",
       "      <td>2015</td>\n",
       "      <td>2C</td>\n",
       "      <td>REMIND-MAgPIE</td>\n",
       "      <td>0.698690</td>\n",
       "    </tr>\n",
       "    <tr>\n",
       "      <th>17</th>\n",
       "      <td>2015</td>\n",
       "      <td>2C</td>\n",
       "      <td>WITCH-GLOBIOM</td>\n",
       "      <td>0.700498</td>\n",
       "    </tr>\n",
       "    <tr>\n",
       "      <th>18</th>\n",
       "      <td>2020</td>\n",
       "      <td>BAU</td>\n",
       "      <td>AIM/CGE</td>\n",
       "      <td>0.532661</td>\n",
       "    </tr>\n",
       "    <tr>\n",
       "      <th>19</th>\n",
       "      <td>2020</td>\n",
       "      <td>BAU</td>\n",
       "      <td>IMAGE</td>\n",
       "      <td>0.524803</td>\n",
       "    </tr>\n",
       "    <tr>\n",
       "      <th>20</th>\n",
       "      <td>2020</td>\n",
       "      <td>BAU</td>\n",
       "      <td>MESSAGEix-GLOBIOM</td>\n",
       "      <td>0.600514</td>\n",
       "    </tr>\n",
       "    <tr>\n",
       "      <th>21</th>\n",
       "      <td>2020</td>\n",
       "      <td>BAU</td>\n",
       "      <td>POLES</td>\n",
       "      <td>0.737384</td>\n",
       "    </tr>\n",
       "    <tr>\n",
       "      <th>22</th>\n",
       "      <td>2020</td>\n",
       "      <td>BAU</td>\n",
       "      <td>REMIND-MAgPIE</td>\n",
       "      <td>0.734685</td>\n",
       "    </tr>\n",
       "    <tr>\n",
       "      <th>23</th>\n",
       "      <td>2020</td>\n",
       "      <td>BAU</td>\n",
       "      <td>WITCH-GLOBIOM</td>\n",
       "      <td>0.432757</td>\n",
       "    </tr>\n",
       "    <tr>\n",
       "      <th>24</th>\n",
       "      <td>2020</td>\n",
       "      <td>NDC</td>\n",
       "      <td>AIM/CGE</td>\n",
       "      <td>0.546837</td>\n",
       "    </tr>\n",
       "    <tr>\n",
       "      <th>25</th>\n",
       "      <td>2020</td>\n",
       "      <td>NDC</td>\n",
       "      <td>IMAGE</td>\n",
       "      <td>0.640560</td>\n",
       "    </tr>\n",
       "    <tr>\n",
       "      <th>26</th>\n",
       "      <td>2020</td>\n",
       "      <td>NDC</td>\n",
       "      <td>MESSAGEix-GLOBIOM</td>\n",
       "      <td>0.600514</td>\n",
       "    </tr>\n",
       "    <tr>\n",
       "      <th>27</th>\n",
       "      <td>2020</td>\n",
       "      <td>NDC</td>\n",
       "      <td>POLES</td>\n",
       "      <td>0.742044</td>\n",
       "    </tr>\n",
       "    <tr>\n",
       "      <th>28</th>\n",
       "      <td>2020</td>\n",
       "      <td>NDC</td>\n",
       "      <td>REMIND-MAgPIE</td>\n",
       "      <td>0.734685</td>\n",
       "    </tr>\n",
       "    <tr>\n",
       "      <th>29</th>\n",
       "      <td>2020</td>\n",
       "      <td>NDC</td>\n",
       "      <td>WITCH-GLOBIOM</td>\n",
       "      <td>0.724653</td>\n",
       "    </tr>\n",
       "    <tr>\n",
       "      <th>...</th>\n",
       "      <td>...</td>\n",
       "      <td>...</td>\n",
       "      <td>...</td>\n",
       "      <td>...</td>\n",
       "    </tr>\n",
       "    <tr>\n",
       "      <th>42</th>\n",
       "      <td>2025</td>\n",
       "      <td>NDC</td>\n",
       "      <td>AIM/CGE</td>\n",
       "      <td>0.716470</td>\n",
       "    </tr>\n",
       "    <tr>\n",
       "      <th>43</th>\n",
       "      <td>2025</td>\n",
       "      <td>NDC</td>\n",
       "      <td>IMAGE</td>\n",
       "      <td>0.610086</td>\n",
       "    </tr>\n",
       "    <tr>\n",
       "      <th>44</th>\n",
       "      <td>2025</td>\n",
       "      <td>NDC</td>\n",
       "      <td>MESSAGEix-GLOBIOM</td>\n",
       "      <td>0.665288</td>\n",
       "    </tr>\n",
       "    <tr>\n",
       "      <th>45</th>\n",
       "      <td>2025</td>\n",
       "      <td>NDC</td>\n",
       "      <td>POLES</td>\n",
       "      <td>0.668589</td>\n",
       "    </tr>\n",
       "    <tr>\n",
       "      <th>46</th>\n",
       "      <td>2025</td>\n",
       "      <td>NDC</td>\n",
       "      <td>REMIND-MAgPIE</td>\n",
       "      <td>0.777778</td>\n",
       "    </tr>\n",
       "    <tr>\n",
       "      <th>47</th>\n",
       "      <td>2025</td>\n",
       "      <td>NDC</td>\n",
       "      <td>WITCH-GLOBIOM</td>\n",
       "      <td>0.739667</td>\n",
       "    </tr>\n",
       "    <tr>\n",
       "      <th>48</th>\n",
       "      <td>2025</td>\n",
       "      <td>2C</td>\n",
       "      <td>AIM/CGE</td>\n",
       "      <td>0.923702</td>\n",
       "    </tr>\n",
       "    <tr>\n",
       "      <th>49</th>\n",
       "      <td>2025</td>\n",
       "      <td>2C</td>\n",
       "      <td>IMAGE</td>\n",
       "      <td>0.968822</td>\n",
       "    </tr>\n",
       "    <tr>\n",
       "      <th>50</th>\n",
       "      <td>2025</td>\n",
       "      <td>2C</td>\n",
       "      <td>MESSAGEix-GLOBIOM</td>\n",
       "      <td>0.736690</td>\n",
       "    </tr>\n",
       "    <tr>\n",
       "      <th>51</th>\n",
       "      <td>2025</td>\n",
       "      <td>2C</td>\n",
       "      <td>POLES</td>\n",
       "      <td>0.815391</td>\n",
       "    </tr>\n",
       "    <tr>\n",
       "      <th>52</th>\n",
       "      <td>2025</td>\n",
       "      <td>2C</td>\n",
       "      <td>REMIND-MAgPIE</td>\n",
       "      <td>0.925064</td>\n",
       "    </tr>\n",
       "    <tr>\n",
       "      <th>53</th>\n",
       "      <td>2025</td>\n",
       "      <td>2C</td>\n",
       "      <td>WITCH-GLOBIOM</td>\n",
       "      <td>0.973296</td>\n",
       "    </tr>\n",
       "    <tr>\n",
       "      <th>54</th>\n",
       "      <td>2030</td>\n",
       "      <td>BAU</td>\n",
       "      <td>AIM/CGE</td>\n",
       "      <td>0.652700</td>\n",
       "    </tr>\n",
       "    <tr>\n",
       "      <th>55</th>\n",
       "      <td>2030</td>\n",
       "      <td>BAU</td>\n",
       "      <td>IMAGE</td>\n",
       "      <td>0.537356</td>\n",
       "    </tr>\n",
       "    <tr>\n",
       "      <th>56</th>\n",
       "      <td>2030</td>\n",
       "      <td>BAU</td>\n",
       "      <td>MESSAGEix-GLOBIOM</td>\n",
       "      <td>0.593087</td>\n",
       "    </tr>\n",
       "    <tr>\n",
       "      <th>57</th>\n",
       "      <td>2030</td>\n",
       "      <td>BAU</td>\n",
       "      <td>POLES</td>\n",
       "      <td>0.568387</td>\n",
       "    </tr>\n",
       "    <tr>\n",
       "      <th>58</th>\n",
       "      <td>2030</td>\n",
       "      <td>BAU</td>\n",
       "      <td>REMIND-MAgPIE</td>\n",
       "      <td>0.702452</td>\n",
       "    </tr>\n",
       "    <tr>\n",
       "      <th>59</th>\n",
       "      <td>2030</td>\n",
       "      <td>BAU</td>\n",
       "      <td>WITCH-GLOBIOM</td>\n",
       "      <td>0.441427</td>\n",
       "    </tr>\n",
       "    <tr>\n",
       "      <th>60</th>\n",
       "      <td>2030</td>\n",
       "      <td>NDC</td>\n",
       "      <td>AIM/CGE</td>\n",
       "      <td>0.753021</td>\n",
       "    </tr>\n",
       "    <tr>\n",
       "      <th>61</th>\n",
       "      <td>2030</td>\n",
       "      <td>NDC</td>\n",
       "      <td>IMAGE</td>\n",
       "      <td>0.616951</td>\n",
       "    </tr>\n",
       "    <tr>\n",
       "      <th>62</th>\n",
       "      <td>2030</td>\n",
       "      <td>NDC</td>\n",
       "      <td>MESSAGEix-GLOBIOM</td>\n",
       "      <td>0.742391</td>\n",
       "    </tr>\n",
       "    <tr>\n",
       "      <th>63</th>\n",
       "      <td>2030</td>\n",
       "      <td>NDC</td>\n",
       "      <td>POLES</td>\n",
       "      <td>0.815016</td>\n",
       "    </tr>\n",
       "    <tr>\n",
       "      <th>64</th>\n",
       "      <td>2030</td>\n",
       "      <td>NDC</td>\n",
       "      <td>REMIND-MAgPIE</td>\n",
       "      <td>0.814627</td>\n",
       "    </tr>\n",
       "    <tr>\n",
       "      <th>65</th>\n",
       "      <td>2030</td>\n",
       "      <td>NDC</td>\n",
       "      <td>WITCH-GLOBIOM</td>\n",
       "      <td>0.562135</td>\n",
       "    </tr>\n",
       "    <tr>\n",
       "      <th>66</th>\n",
       "      <td>2030</td>\n",
       "      <td>2C</td>\n",
       "      <td>AIM/CGE</td>\n",
       "      <td>0.980373</td>\n",
       "    </tr>\n",
       "    <tr>\n",
       "      <th>67</th>\n",
       "      <td>2030</td>\n",
       "      <td>2C</td>\n",
       "      <td>IMAGE</td>\n",
       "      <td>0.978668</td>\n",
       "    </tr>\n",
       "    <tr>\n",
       "      <th>68</th>\n",
       "      <td>2030</td>\n",
       "      <td>2C</td>\n",
       "      <td>MESSAGEix-GLOBIOM</td>\n",
       "      <td>0.831677</td>\n",
       "    </tr>\n",
       "    <tr>\n",
       "      <th>69</th>\n",
       "      <td>2030</td>\n",
       "      <td>2C</td>\n",
       "      <td>POLES</td>\n",
       "      <td>0.923146</td>\n",
       "    </tr>\n",
       "    <tr>\n",
       "      <th>70</th>\n",
       "      <td>2030</td>\n",
       "      <td>2C</td>\n",
       "      <td>REMIND-MAgPIE</td>\n",
       "      <td>0.979537</td>\n",
       "    </tr>\n",
       "    <tr>\n",
       "      <th>71</th>\n",
       "      <td>2030</td>\n",
       "      <td>2C</td>\n",
       "      <td>WITCH-GLOBIOM</td>\n",
       "      <td>0.980335</td>\n",
       "    </tr>\n",
       "  </tbody>\n",
       "</table>\n",
       "<p>72 rows × 4 columns</p>\n",
       "</div>"
      ],
      "text/plain": [
       "    year climate              model     share\n",
       "0   2015     BAU            AIM/CGE  0.578407\n",
       "1   2015     BAU              IMAGE  0.740770\n",
       "2   2015     BAU  MESSAGEix-GLOBIOM  0.589730\n",
       "3   2015     BAU              POLES  0.504905\n",
       "4   2015     BAU      REMIND-MAgPIE  0.698690\n",
       "5   2015     BAU      WITCH-GLOBIOM  0.700498\n",
       "6   2015     NDC            AIM/CGE  0.578407\n",
       "7   2015     NDC              IMAGE  0.740770\n",
       "8   2015     NDC  MESSAGEix-GLOBIOM  0.589730\n",
       "9   2015     NDC              POLES  0.504905\n",
       "10  2015     NDC      REMIND-MAgPIE  0.698690\n",
       "11  2015     NDC      WITCH-GLOBIOM  0.700498\n",
       "12  2015      2C            AIM/CGE  0.578407\n",
       "13  2015      2C              IMAGE  0.740770\n",
       "14  2015      2C  MESSAGEix-GLOBIOM  0.589730\n",
       "15  2015      2C              POLES  0.504905\n",
       "16  2015      2C      REMIND-MAgPIE  0.698690\n",
       "17  2015      2C      WITCH-GLOBIOM  0.700498\n",
       "18  2020     BAU            AIM/CGE  0.532661\n",
       "19  2020     BAU              IMAGE  0.524803\n",
       "20  2020     BAU  MESSAGEix-GLOBIOM  0.600514\n",
       "21  2020     BAU              POLES  0.737384\n",
       "22  2020     BAU      REMIND-MAgPIE  0.734685\n",
       "23  2020     BAU      WITCH-GLOBIOM  0.432757\n",
       "24  2020     NDC            AIM/CGE  0.546837\n",
       "25  2020     NDC              IMAGE  0.640560\n",
       "26  2020     NDC  MESSAGEix-GLOBIOM  0.600514\n",
       "27  2020     NDC              POLES  0.742044\n",
       "28  2020     NDC      REMIND-MAgPIE  0.734685\n",
       "29  2020     NDC      WITCH-GLOBIOM  0.724653\n",
       "..   ...     ...                ...       ...\n",
       "42  2025     NDC            AIM/CGE  0.716470\n",
       "43  2025     NDC              IMAGE  0.610086\n",
       "44  2025     NDC  MESSAGEix-GLOBIOM  0.665288\n",
       "45  2025     NDC              POLES  0.668589\n",
       "46  2025     NDC      REMIND-MAgPIE  0.777778\n",
       "47  2025     NDC      WITCH-GLOBIOM  0.739667\n",
       "48  2025      2C            AIM/CGE  0.923702\n",
       "49  2025      2C              IMAGE  0.968822\n",
       "50  2025      2C  MESSAGEix-GLOBIOM  0.736690\n",
       "51  2025      2C              POLES  0.815391\n",
       "52  2025      2C      REMIND-MAgPIE  0.925064\n",
       "53  2025      2C      WITCH-GLOBIOM  0.973296\n",
       "54  2030     BAU            AIM/CGE  0.652700\n",
       "55  2030     BAU              IMAGE  0.537356\n",
       "56  2030     BAU  MESSAGEix-GLOBIOM  0.593087\n",
       "57  2030     BAU              POLES  0.568387\n",
       "58  2030     BAU      REMIND-MAgPIE  0.702452\n",
       "59  2030     BAU      WITCH-GLOBIOM  0.441427\n",
       "60  2030     NDC            AIM/CGE  0.753021\n",
       "61  2030     NDC              IMAGE  0.616951\n",
       "62  2030     NDC  MESSAGEix-GLOBIOM  0.742391\n",
       "63  2030     NDC              POLES  0.815016\n",
       "64  2030     NDC      REMIND-MAgPIE  0.814627\n",
       "65  2030     NDC      WITCH-GLOBIOM  0.562135\n",
       "66  2030      2C            AIM/CGE  0.980373\n",
       "67  2030      2C              IMAGE  0.978668\n",
       "68  2030      2C  MESSAGEix-GLOBIOM  0.831677\n",
       "69  2030      2C              POLES  0.923146\n",
       "70  2030      2C      REMIND-MAgPIE  0.979537\n",
       "71  2030      2C      WITCH-GLOBIOM  0.980335\n",
       "\n",
       "[72 rows x 4 columns]"
      ]
     },
     "execution_count": 23,
     "metadata": {},
     "output_type": "execute_result"
    }
   ],
   "source": [
    "fig11data.stack('model').reset_index().rename(columns={0:\"share\"})"
   ]
  },
  {
   "cell_type": "code",
   "execution_count": 82,
   "metadata": {},
   "outputs": [
    {
     "data": {
      "image/png": "[encoded data removed]",
      "text/plain": [
       "<Figure size 1512x576 with 1 Axes>"
      ]
     },
     "metadata": {},
     "output_type": "display_data"
    }
   ],
   "source": [
    "toplot = fig11data.stack('model').reset_index().rename(columns={0:\"share\"})\n",
    "\n",
    "toplot['share'] = 100*toplot.share\n",
    "\n",
    "ax = sns.swarmplot(x='year',y='share', data=toplot,hue='climate',dodge=True,size=7)\n",
    "\n",
    "ax.set_xlabel(\"\")\n",
    "ax.set_ylabel(\"Low carbon investment\\n(% investment in low carbon generation)\")\n",
    "\n",
    "ax.figure.set_size_inches(21, 8)\n",
    "\n",
    "#g = sns.swarmplot(x='year',y='share', data=toplot,hue='climate',kind = \"swarm\",dodge=True, height=9, aspect=1.5,\\\n",
    " #                 legend=False, size=6)\n",
    "\n",
    "#g.set_axis_labels(\"\", \"Low carbon investment\\n(% investment in low carbon generation)\")\n",
    "ax.legend(title=\"\",fontsize = 20, bbox_to_anchor=(0.6, -0.1), borderaxespad=0.,ncol=3)\n",
    "\n",
    "ax.set_ylim(0,100)\n",
    "\n",
    "plt.savefig(\"C:\\\\Users\\\\WB451855\\\\OneDrive - WBG\\\\infrastructure needs\\\\infra_needs_writing_process\\\\graphs\\\\Chapter 3\\\\fig3_11_new.pdf\")\n",
    "plt.savefig(\"C:\\\\Users\\\\WB451855\\\\OneDrive - WBG\\\\infrastructure needs\\\\infra_needs_writing_process\\\\graphs\\\\Chapter 3\\\\fig3_11_new.eps\")"
   ]
  },
  {
   "cell_type": "code",
   "execution_count": null,
   "metadata": {},
   "outputs": [],
   "source": []
  },
  {
   "cell_type": "code",
   "execution_count": 5,
   "metadata": {},
   "outputs": [],
   "source": [
    "data = pd.read_excel(myfolder+\"analysis IIASA august.xlsx\",\"discounted\",usecols=range(0,9))"
   ]
  },
  {
   "cell_type": "code",
   "execution_count": 6,
   "metadata": {},
   "outputs": [
    {
     "data": {
      "text/plain": [
       "Index(['Model', 'Region', 'Scenario', 'Variable', 'Unit', 2015, 2020, 2025,\n",
       "       2030],\n",
       "      dtype='object')"
      ]
     },
     "execution_count": 6,
     "metadata": {},
     "output_type": "execute_result"
    }
   ],
   "source": [
    "data.columns"
   ]
  },
  {
   "cell_type": "code",
   "execution_count": 7,
   "metadata": {},
   "outputs": [
    {
     "data": {
      "text/plain": [
       "array(['CCS', 'Electricity - Fossil Fuels w/o CCS',\n",
       "       'Electricity - Non-bio Renewables',\n",
       "       'Electricity - T&D and Storage',\n",
       "       'Energy Supply|Electricity|Biomass|w/ CCS',\n",
       "       'Energy Supply|Electricity|Biomass|w/o CCS',\n",
       "       'Energy Supply|Electricity|Coal|w/ CCS',\n",
       "       'Energy Supply|Electricity|Coal|w/o CCS',\n",
       "       'Energy Supply|Electricity|Electricity Storage',\n",
       "       'Energy Supply|Electricity|Gas|w/ CCS',\n",
       "       'Energy Supply|Electricity|Gas|w/o CCS',\n",
       "       'Energy Supply|Electricity|Geothermal',\n",
       "       'Energy Supply|Electricity|Hydro',\n",
       "       'Energy Supply|Electricity|Nuclear',\n",
       "       'Energy Supply|Electricity|Ocean',\n",
       "       'Energy Supply|Electricity|Oil|w/ CCS',\n",
       "       'Energy Supply|Electricity|Solar',\n",
       "       'Energy Supply|Electricity|Transmission and Distribution',\n",
       "       'Energy Supply|Electricity|Wind', 'Elec_FFwCCS',\n",
       "       'Elec_nonRen-clean', 'Elec_gen_tot', 'Elec_tot_inv', 'GDP|MER',\n",
       "       'Population', 'Secondary Energy|Electricity', 'Elec_tot_gdp',\n",
       "       'Elec_gen_gdp', 'consopercapita (MWh/capita)'], dtype=object)"
      ]
     },
     "execution_count": 7,
     "metadata": {},
     "output_type": "execute_result"
    }
   ],
   "source": [
    "data.Variable.unique()"
   ]
  },
  {
   "cell_type": "code",
   "execution_count": 8,
   "metadata": {},
   "outputs": [
    {
     "data": {
      "text/plain": [
       "array(['R5ASIA', 'R5LAM', 'R5MAF', 'R5REF', 'World', 'Developing'],\n",
       "      dtype=object)"
      ]
     },
     "execution_count": 8,
     "metadata": {},
     "output_type": "execute_result"
    }
   ],
   "source": [
    "data.Region.unique()"
   ]
  },
  {
   "cell_type": "code",
   "execution_count": 10,
   "metadata": {},
   "outputs": [
    {
     "data": {
      "text/plain": [
       "array(['Billion US$2015/yr'], dtype=object)"
      ]
     },
     "execution_count": 10,
     "metadata": {},
     "output_type": "execute_result"
    }
   ],
   "source": [
    "data.loc[data.Variable==\"GDP|MER\",\"Unit\"].unique()"
   ]
  },
  {
   "cell_type": "code",
   "execution_count": 11,
   "metadata": {},
   "outputs": [
    {
     "data": {
      "text/plain": [
       "array(['Billion US$2015/yr'], dtype=object)"
      ]
     },
     "execution_count": 11,
     "metadata": {},
     "output_type": "execute_result"
    }
   ],
   "source": [
    "data.loc[data.Variable==\"Elec_tot_inv\",\"Unit\"].unique()"
   ]
  },
  {
   "cell_type": "code",
   "execution_count": 117,
   "metadata": {
    "collapsed": true
   },
   "outputs": [],
   "source": [
    "mydata = data.copy()\n",
    "mydata = mydata.set_index(['Model', 'Region', 'Scenario', 'Variable']).drop(\"Unit\",axis=1).drop(['World', 'Developing'],level=\"Region\").drop(\"1.5C\",level=\"Scenario\")\n",
    "mydata.columns.name=\"year\"\n",
    "mydata = mydata.stack()\n",
    "mydata.name=\"value\""
   ]
  },
  {
   "cell_type": "code",
   "execution_count": 118,
   "metadata": {
    "collapsed": true
   },
   "outputs": [],
   "source": [
    "mydata = mydata.unstack(['Model', 'Region', 'Scenario', 'Variable']).reindex(range(2015,2031)).interpolate(axis=0).stack(['Model', 'Region', 'Scenario', 'Variable'])"
   ]
  },
  {
   "cell_type": "code",
   "execution_count": 164,
   "metadata": {
    "collapsed": true
   },
   "outputs": [],
   "source": [
    "investments = mydata.unstack(\"Variable\")[['Elec_tot_inv','GDP|MER']]"
   ]
  },
  {
   "cell_type": "code",
   "execution_count": 165,
   "metadata": {
    "collapsed": true
   },
   "outputs": [],
   "source": [
    "investments[\"investments_over_gdp\"] = investments['Elec_tot_inv']/investments['GDP|MER']"
   ]
  },
  {
   "cell_type": "code",
   "execution_count": 166,
   "metadata": {
    "collapsed": true
   },
   "outputs": [],
   "source": [
    "investments = investments.reset_index(\"year\")"
   ]
  },
  {
   "cell_type": "code",
   "execution_count": 167,
   "metadata": {},
   "outputs": [],
   "source": [
    "d = 0.06\n",
    "investments[\"discount_factor\"] = (1+d)**(1-(investments.year.astype(int)-2015))"
   ]
  },
  {
   "cell_type": "code",
   "execution_count": 168,
   "metadata": {},
   "outputs": [],
   "source": [
    "investments = investments.set_index(\"year\",append=True)"
   ]
  },
  {
   "cell_type": "code",
   "execution_count": 169,
   "metadata": {
    "collapsed": true
   },
   "outputs": [],
   "source": [
    "investments[\"investments_discounted\"] = investments['Elec_tot_inv']*investments['discount_factor']"
   ]
  },
  {
   "cell_type": "code",
   "execution_count": 170,
   "metadata": {},
   "outputs": [],
   "source": [
    "urban_share = pd.read_csv(myfolder+\"urban_share_ssp2.csv\")\n",
    "urban_share = urban_share.drop([\"Model - Scenario\",\"Variable\",\"Unit\"],axis=1).set_index(\"Region\")\n",
    "urban_share.columns.name = \"year\"\n",
    "urban_share = urban_share.stack()\n",
    "urban_share.name = \"urban_share\""
   ]
  },
  {
   "cell_type": "code",
   "execution_count": 171,
   "metadata": {},
   "outputs": [
    {
     "data": {
      "text/html": [
       "<div>\n",
       "<style>\n",
       "    .dataframe thead tr:only-child th {\n",
       "        text-align: right;\n",
       "    }\n",
       "\n",
       "    .dataframe thead th {\n",
       "        text-align: left;\n",
       "    }\n",
       "\n",
       "    .dataframe tbody tr th {\n",
       "        vertical-align: top;\n",
       "    }\n",
       "</style>\n",
       "<table border=\"1\" class=\"dataframe\">\n",
       "  <thead>\n",
       "    <tr style=\"text-align: right;\">\n",
       "      <th></th>\n",
       "      <th>Region</th>\n",
       "      <th>year</th>\n",
       "      <th>urban_share</th>\n",
       "    </tr>\n",
       "  </thead>\n",
       "  <tbody>\n",
       "    <tr>\n",
       "      <th>15</th>\n",
       "      <td>R5LAM</td>\n",
       "      <td>2060</td>\n",
       "      <td>89.778</td>\n",
       "    </tr>\n",
       "    <tr>\n",
       "      <th>27</th>\n",
       "      <td>R5MAF</td>\n",
       "      <td>2080</td>\n",
       "      <td>70.798</td>\n",
       "    </tr>\n",
       "    <tr>\n",
       "      <th>35</th>\n",
       "      <td>R5OECD</td>\n",
       "      <td>2060</td>\n",
       "      <td>88.747</td>\n",
       "    </tr>\n",
       "  </tbody>\n",
       "</table>\n",
       "</div>"
      ],
      "text/plain": [
       "    Region  year  urban_share\n",
       "15   R5LAM  2060       89.778\n",
       "27   R5MAF  2080       70.798\n",
       "35  R5OECD  2060       88.747"
      ]
     },
     "execution_count": 171,
     "metadata": {},
     "output_type": "execute_result"
    }
   ],
   "source": [
    "urban_share = urban_share.reset_index()\n",
    "urban_share[\"Region\"] = urban_share.Region.str.replace(\".\",\"\").str.replace(\"R52\",\"R5\")\n",
    "urban_share[\"year\"] = urban_share.year.astype(\"int\")\n",
    "urban_share.sample(3)"
   ]
  },
  {
   "cell_type": "code",
   "execution_count": 172,
   "metadata": {},
   "outputs": [],
   "source": [
    "urban_share_interp = urban_share.set_index([\"Region\",\"year\"]).unstack(\"Region\").reindex(range(2010,2101)).interpolate(axis=0).stack()"
   ]
  },
  {
   "cell_type": "code",
   "execution_count": 173,
   "metadata": {
    "collapsed": true
   },
   "outputs": [],
   "source": [
    "investments = investments.reset_index().merge(urban_share_interp.reset_index(),on=[\"Region\",\"year\"],how=\"left\")"
   ]
  },
  {
   "cell_type": "code",
   "execution_count": 174,
   "metadata": {},
   "outputs": [],
   "source": [
    "investments[\"investments_urban\"] = 1/100*investments['Elec_tot_inv']*investments.urban_share\n",
    "investments[\"investments_urban_disc\"] = 1/100*investments['investments_discounted']*investments.urban_share"
   ]
  },
  {
   "cell_type": "code",
   "execution_count": 175,
   "metadata": {
    "collapsed": true
   },
   "outputs": [],
   "source": [
    "investments = investments[investments.year<2031]"
   ]
  },
  {
   "cell_type": "code",
   "execution_count": 176,
   "metadata": {
    "collapsed": true
   },
   "outputs": [],
   "source": [
    "investments = investments.set_index(['Model', 'Region', 'Scenario', 'year'])"
   ]
  },
  {
   "cell_type": "code",
   "execution_count": 177,
   "metadata": {},
   "outputs": [
    {
     "data": {
      "text/plain": [
       "<matplotlib.axes._subplots.AxesSubplot at 0x1f7e23802b0>"
      ]
     },
     "execution_count": 177,
     "metadata": {},
     "output_type": "execute_result"
    },
    {
     "data": {
      "image/png": "[encoded data removed]",
      "text/plain": [
       "<matplotlib.figure.Figure at 0x1f7e2407668>"
      ]
     },
     "metadata": {},
     "output_type": "display_data"
    }
   ],
   "source": [
    "best_scenario = investments.investments_over_gdp.unstack(\"Scenario\")[\"2C\"].unstack(\"Model\")[\"AIM/CGE\"]\n",
    "\n",
    "best_scenario.unstack(\"Region\").plot()"
   ]
  },
  {
   "cell_type": "code",
   "execution_count": 178,
   "metadata": {},
   "outputs": [],
   "source": [
    "all_dev_countries = investments.sum(level=[\"Model\", \"Scenario\",\"year\"]).drop([\"investments_over_gdp\"],axis=1).copy()"
   ]
  },
  {
   "cell_type": "code",
   "execution_count": 179,
   "metadata": {
    "collapsed": true
   },
   "outputs": [],
   "source": [
    "all_dev_countries[\"investments_over_gdp\"] = all_dev_countries['Elec_tot_inv']/all_dev_countries['GDP|MER']\n",
    "all_dev_countries[\"investments_over_gdp_urban\"] = all_dev_countries['investments_urban']/all_dev_countries['GDP|MER']"
   ]
  },
  {
   "cell_type": "code",
   "execution_count": 180,
   "metadata": {},
   "outputs": [
    {
     "data": {
      "text/plain": [
       "Model              Scenario\n",
       "AIM/CGE            2C          487.147540\n",
       "                   BAU         296.837209\n",
       "                   NDC         324.164456\n",
       "IMAGE              2C          379.638826\n",
       "                   BAU         423.244419\n",
       "                   NDC         456.276744\n",
       "MESSAGEix-GLOBIOM  2C          325.298402\n",
       "                   BAU         298.659520\n",
       "                   NDC         304.836756\n",
       "POLES              2C          503.852684\n",
       "                   BAU         458.553397\n",
       "                   NDC         483.852884\n",
       "REMIND-MAgPIE      2C          759.895756\n",
       "                   BAU         623.038703\n",
       "                   NDC         645.230382\n",
       "WITCH-GLOBIOM      2C          397.358203\n",
       "                   BAU         423.342544\n",
       "                   NDC         438.468032\n",
       "Name: investments_discounted, dtype: float64"
      ]
     },
     "execution_count": 180,
     "metadata": {},
     "output_type": "execute_result"
    }
   ],
   "source": [
    "1/15*all_dev_countries.investments_discounted.sum(level=[\"Model\", \"Scenario\"])"
   ]
  },
  {
   "cell_type": "code",
   "execution_count": 181,
   "metadata": {},
   "outputs": [
    {
     "data": {
      "text/plain": [
       "Model              Scenario\n",
       "AIM/CGE            2C          263.530758\n",
       "                   BAU         161.739112\n",
       "                   NDC         176.999629\n",
       "IMAGE              2C          192.446908\n",
       "                   BAU         219.490089\n",
       "                   NDC         232.040813\n",
       "MESSAGEix-GLOBIOM  2C          166.018312\n",
       "                   BAU         152.474703\n",
       "                   NDC         155.523849\n",
       "POLES              2C          257.538316\n",
       "                   BAU         233.934963\n",
       "                   NDC         246.642627\n",
       "REMIND-MAgPIE      2C          393.765019\n",
       "                   BAU         322.003060\n",
       "                   NDC         333.830973\n",
       "WITCH-GLOBIOM      2C          213.625524\n",
       "                   BAU         227.851421\n",
       "                   NDC         242.780023\n",
       "Name: investments_urban_disc, dtype: float64"
      ]
     },
     "execution_count": 181,
     "metadata": {},
     "output_type": "execute_result"
    }
   ],
   "source": [
    "1/15*all_dev_countries.investments_urban_disc.sum(level=[\"Model\", \"Scenario\"])"
   ]
  },
  {
   "cell_type": "code",
   "execution_count": 182,
   "metadata": {},
   "outputs": [
    {
     "data": {
      "text/plain": [
       "Model              Scenario\n",
       "AIM/CGE            2C          1.175719\n",
       "                   BAU         0.698169\n",
       "                   NDC         0.767093\n",
       "IMAGE              2C          0.641254\n",
       "                   BAU         0.733182\n",
       "                   NDC         0.774834\n",
       "MESSAGEix-GLOBIOM  2C          0.486290\n",
       "                   BAU         0.446684\n",
       "                   NDC         0.455542\n",
       "POLES              2C          1.086173\n",
       "                   BAU         0.978948\n",
       "                   NDC         1.036034\n",
       "REMIND-MAgPIE      2C          1.544251\n",
       "                   BAU         1.234894\n",
       "                   NDC         1.285220\n",
       "WITCH-GLOBIOM      2C          0.880247\n",
       "                   BAU         0.915925\n",
       "                   NDC         0.981711\n",
       "Name: investments_over_gdp_urban, dtype: float64"
      ]
     },
     "execution_count": 182,
     "metadata": {},
     "output_type": "execute_result"
    }
   ],
   "source": [
    "100*all_dev_countries.investments_over_gdp_urban.mean(level=[\"Model\",\"Scenario\"])"
   ]
  },
  {
   "cell_type": "code",
   "execution_count": 183,
   "metadata": {},
   "outputs": [
    {
     "data": {
      "text/plain": [
       "Model              Scenario\n",
       "AIM/CGE            2C          2.169828\n",
       "                   BAU         1.279011\n",
       "                   NDC         1.402218\n",
       "IMAGE              2C          1.265186\n",
       "                   BAU         1.413739\n",
       "                   NDC         1.523479\n",
       "MESSAGEix-GLOBIOM  2C          0.954170\n",
       "                   BAU         0.876392\n",
       "                   NDC         0.894304\n",
       "POLES              2C          2.117365\n",
       "                   BAU         1.911780\n",
       "                   NDC         2.025414\n",
       "REMIND-MAgPIE      2C          2.971555\n",
       "                   BAU         2.382810\n",
       "                   NDC         2.476985\n",
       "WITCH-GLOBIOM      2C          1.633793\n",
       "                   BAU         1.698672\n",
       "                   NDC         1.769644\n",
       "Name: investments_over_gdp, dtype: float64"
      ]
     },
     "execution_count": 183,
     "metadata": {},
     "output_type": "execute_result"
    }
   ],
   "source": [
    "100*all_dev_countries.investments_over_gdp.mean(level=[\"Model\",\"Scenario\"])"
   ]
  },
  {
   "cell_type": "code",
   "execution_count": 100,
   "metadata": {},
   "outputs": [
    {
     "data": {
      "text/plain": [
       "<seaborn.axisgrid.FacetGrid at 0x171618ce4e0>"
      ]
     },
     "execution_count": 100,
     "metadata": {},
     "output_type": "execute_result"
    },
    {
     "data": {
      "image/png": "[encoded data removed]",
      "text/plain": [
       "<matplotlib.figure.Figure at 0x17161b97c88>"
      ]
     },
     "metadata": {},
     "output_type": "display_data"
    }
   ],
   "source": [
    "toplot = investments.investments_over_gdp.unstack(\"year\").mean(axis=1).drop(\"R5OECD90+EU\",level=\"Region\")\n",
    "toplot = toplot.reset_index().rename(columns={0:\"investments_over_gdp\"})\n",
    "\n",
    "toplot['investments_over_gdp'] = 100*toplot.investments_over_gdp\n",
    "\n",
    "toplot[\"Region\"] = toplot.Region.replace({\"R5ASIA\":\"Asia\",\\\n",
    "                                         \"R5LAM\":\"Latin America &\\nthe Caribbean\",\\\n",
    "                                         \"R5MAF\":\"Middle East &\\n Africa\",\\\n",
    "                                         \"R5OECD90+EU\":\"High income\",\\\n",
    "                                         \"R5REF\":\"Former Soviet Union\"})\n",
    "\n",
    "g = sns.factorplot(x='Region',y='investments_over_gdp', data=toplot,hue='Model', kind=\"swarm\",dodge=False, size=6, aspect=1.7,\\\n",
    "                  legend=False)\n",
    "\n",
    "g.set_axis_labels(\"\", \"Average annual cost 2015-2030\\n(percent GDP)\")\n",
    "g.add_legend(title=\"\",fontsize = 14, bbox_to_anchor=(1, 0.65), borderaxespad=0.)"
   ]
  },
  {
   "cell_type": "code",
   "execution_count": null,
   "metadata": {
    "collapsed": true
   },
   "outputs": [],
   "source": [
    "all_dev_countries_urban = all_dev_countries.reset_index().merge(urban_share_interp.reset_index(),on=[\"Region\",\"year\"],how=\"left\")"
   ]
  },
  {
   "cell_type": "code",
   "execution_count": 101,
   "metadata": {},
   "outputs": [
    {
     "data": {
      "text/plain": [
       "<seaborn.axisgrid.FacetGrid at 0x17166054c88>"
      ]
     },
     "execution_count": 101,
     "metadata": {},
     "output_type": "execute_result"
    },
    {
     "data": {
      "image/png": "[encoded data removed]",
      "text/plain": [
       "<matplotlib.figure.Figure at 0x17166054748>"
      ]
     },
     "metadata": {},
     "output_type": "display_data"
    }
   ],
   "source": [
    "toplot = investments.investments_over_gdp.unstack(\"year\").mean(axis=1).drop(\"R5OECD90+EU\",level=\"Region\")\n",
    "toplot = toplot.reset_index().rename(columns={0:\"investments_over_gdp\"})\n",
    "\n",
    "toplot['investments_over_gdp'] = 100*toplot.investments_over_gdp\n",
    "\n",
    "toplot[\"Region\"] = toplot.Region.replace({\"R5ASIA\":\"Asia\",\\\n",
    "                                         \"R5LAM\":\"Latin America &\\nthe Caribbean\",\\\n",
    "                                         \"R5MAF\":\"Middle East &\\n Africa\",\\\n",
    "                                         \"R5OECD90+EU\":\"High income\",\\\n",
    "                                         \"R5REF\":\"Former Soviet Union\"})\n",
    "\n",
    "g = sns.factorplot(x='Region',y='investments_over_gdp', data=toplot,hue='Model', kind=\"point\",dodge=False, join=False, size=6, aspect=1.7,ci=\"sd\",\\\n",
    "                  markers=\"o\",legend=False)\n",
    "\n",
    "g.set_axis_labels(\"\", \"Average annual cost 2015-2030\\n(percent GDP)\")\n",
    "g.add_legend(title=\"\",fontsize = 14, bbox_to_anchor=(1, 0.65), borderaxespad=0.)"
   ]
  },
  {
   "cell_type": "code",
   "execution_count": 108,
   "metadata": {
    "collapsed": true
   },
   "outputs": [],
   "source": [
    "forgraph = toplot\n",
    "forgraph[\"Scenario\"] = forgraph.Scenario.replace({\"2C\":\"S2C\"})\n",
    "forgraph = forgraph.set_index(['Model', 'Region', 'Scenario']).unstack(\"Model\").sort_index(level=[\"Region\",\"Scenario\"]).reset_index()\n",
    "forgraph[\"Scenario\"] = forgraph.Scenario.replace({\"S2C\":\"2C\"})\n",
    "forgraph[\"Region\"] = forgraph.Region.str.replace(\"\\n\",\" \")\n",
    "forgraph.to_csv(myfolder+\"regional_graph.csv\")"
   ]
  },
  {
   "cell_type": "code",
   "execution_count": 62,
   "metadata": {},
   "outputs": [
    {
     "data": {
      "text/plain": [
       "<seaborn.axisgrid.FacetGrid at 0x171615e0550>"
      ]
     },
     "execution_count": 62,
     "metadata": {},
     "output_type": "execute_result"
    },
    {
     "data": {
      "image/png": "[encoded data removed]",
      "text/plain": [
       "<matplotlib.figure.Figure at 0x171604f9f28>"
      ]
     },
     "metadata": {},
     "output_type": "display_data"
    }
   ],
   "source": [
    "toplot = investments.investments_over_gdp.unstack(\"year\").mean(axis=1)\n",
    "toplot = toplot.reset_index().rename(columns={0:\"investments_over_gdp\"})\n",
    "\n",
    "toplot['investments_over_gdp'] = 100*toplot.investments_over_gdp\n",
    "\n",
    "toplot[\"Region\"] = toplot.Region.replace({\"R5ASIA\":\"Asia\",\\\n",
    "                                         \"R5LAM\":\"Latin America &\\nthe Caribbean\",\\\n",
    "                                         \"R5MAF\":\"Middle East &\\n Africa\",\\\n",
    "                                         \"R5OECD90+EU\":\"High income\",\\\n",
    "                                         \"R5REF\":\"Former Soviet Union\"})\n",
    "\n",
    "g = sns.factorplot(x='Region',y='investments_over_gdp', data=toplot,hue='Scenario', kind=\"swarm\",dodge=True, size=6, aspect=2,\\\n",
    "                  legend=False)\n",
    "\n",
    "g.set_axis_labels(\"\", \"Average annual cost 2015-2030\\n(percent GDP)\")\n",
    "g.add_legend(title=\"\",fontsize = 14, bbox_to_anchor=(1, 0.65), borderaxespad=0.)"
   ]
  },
  {
   "cell_type": "code",
   "execution_count": null,
   "metadata": {
    "collapsed": true
   },
   "outputs": [],
   "source": []
  }
 ],
 "metadata": {
  "kernelspec": {
   "display_name": "Python (Julie1)",
   "language": "python",
   "name": "julie1"
  },
  "language_info": {
   "codemirror_mode": {
    "name": "ipython",
    "version": 3
   },
   "file_extension": ".py",
   "mimetype": "text/x-python",
   "name": "python",
   "nbconvert_exporter": "python",
   "pygments_lexer": "ipython3",
   "version": "3.6.6"
  },
  "toc": {
   "colors": {
    "hover_highlight": "#DAA520",
    "navigate_num": "#000000",
    "navigate_text": "#333333",
    "running_highlight": "#FF0000",
    "selected_highlight": "#FFD700",
    "sidebar_border": "#EEEEEE",
    "wrapper_background": "#FFFFFF"
   },
   "moveMenuLeft": true,
   "nav_menu": {
    "height": "12px",
    "width": "252px"
   },
   "navigate_menu": true,
   "number_sections": true,
   "sideBar": true,
   "threshold": 4,
   "toc_cell": false,
   "toc_section_display": "block",
   "toc_window_display": false,
   "widenNotebook": false
  }
 },
 "nbformat": 4,
 "nbformat_minor": 2
}
