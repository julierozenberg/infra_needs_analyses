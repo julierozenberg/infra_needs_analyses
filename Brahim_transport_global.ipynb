{
 "cells": [
  {
   "cell_type": "code",
   "execution_count": 1,
   "metadata": {},
   "outputs": [],
   "source": [
    "%load_ext autoreload\n",
    "%autoreload"
   ]
  },
  {
   "cell_type": "code",
   "execution_count": 2,
   "metadata": {},
   "outputs": [],
   "source": [
    "import pandas as pd\n",
    "import numpy as np\n",
    "import matplotlib.pyplot as plt\n",
    "#import prim\n",
    "import seaborn as sns\n",
    "#from sklearn import mixture\n",
    "import os\n",
    "#from clustering_and_prim_tools import *\n",
    "#from SALib.analyze import sobol\n",
    "#from SALib.sample import saltelli"
   ]
  },
  {
   "cell_type": "code",
   "execution_count": 4,
   "metadata": {},
   "outputs": [],
   "source": [
    "%matplotlib inline"
   ]
  },
  {
   "cell_type": "code",
   "execution_count": 5,
   "metadata": {},
   "outputs": [],
   "source": [
    "sns.set_context(\"poster\",rc={\"font.size\": 28})\n",
    "sns.set_style(\"whitegrid\")"
   ]
  },
  {
   "cell_type": "code",
   "execution_count": 28,
   "metadata": {},
   "outputs": [],
   "source": [
    "rootfolder = \"C:\\\\Users\\\\WB451855\\OneDrive - WBG\\\\!infra_needs_data\\\\transport_cired_output_data\\\\\"\n",
    "\n",
    "invfolder = rootfolder+\"outputs_investments_module_billionusd/\"\n",
    "imaclimfolder = rootfolder+\"outputs_Imaclim/\"\n",
    "physicalinfrafolder = rootfolder+\"outputs_investments_module_physical_stock/\"\n"
   ]
  },
  {
   "cell_type": "markdown",
   "metadata": {},
   "source": [
    "# First I look at the results from the Imaclim model only (output = transport activity but no investment need)"
   ]
  },
  {
   "cell_type": "markdown",
   "metadata": {},
   "source": [
    "### data prep"
   ]
  },
  {
   "cell_type": "code",
   "execution_count": 7,
   "metadata": {},
   "outputs": [
    {
     "data": {
      "text/plain": [
       "['results_transports_Imaclim_ASIA.csv',\n",
       " 'results_transports_Imaclim_CIS.csv',\n",
       " 'results_transports_Imaclim_LAM.csv',\n",
       " 'results_transports_Imaclim_MAF.csv',\n",
       " 'results_transports_Imaclim_OCDE.csv',\n",
       " 'results_transports_Imaclim_WORLD.csv']"
      ]
     },
     "execution_count": 7,
     "metadata": {},
     "output_type": "execute_result"
    }
   ],
   "source": [
    "os.listdir(imaclimfolder)"
   ]
  },
  {
   "cell_type": "code",
   "execution_count": 8,
   "metadata": {},
   "outputs": [],
   "source": [
    "pd.options.display.max_seq_items = 2000"
   ]
  },
  {
   "cell_type": "code",
   "execution_count": 18,
   "metadata": {},
   "outputs": [],
   "source": [
    "all_ima_data = pd.DataFrame()\n",
    "for myfilename in os.listdir(imaclimfolder):\n",
    "    if \"WORLD\" in myfilename:\n",
    "        continue\n",
    "    myfile = pd.read_csv(imaclimfolder+\"\\\\\"+myfilename,sep=\";\")\n",
    "    myinfo = myfilename.replace(\".csv\",'').split(\"_\")\n",
    "    myfile[\"region\"] = myinfo[3]\n",
    "    all_ima_data = all_ima_data.append(myfile)"
   ]
  },
  {
   "cell_type": "code",
   "execution_count": 19,
   "metadata": {},
   "outputs": [
    {
     "data": {
      "text/plain": [
       "array(['Population', 'CO2_em_tot', 'CO2_em_trans', 'PIB',\n",
       "       'passenger_activity', 'freight_activity', 'pkm_OT', 'pkm_auto',\n",
       "       'pkm_air', 'fret_air', 'fret_OT', 'fret_mer'], dtype=object)"
      ]
     },
     "execution_count": 19,
     "metadata": {},
     "output_type": "execute_result"
    }
   ],
   "source": [
    "all_ima_data.Variable.unique()"
   ]
  },
  {
   "cell_type": "code",
   "execution_count": 20,
   "metadata": {},
   "outputs": [],
   "source": [
    "indexes_ima = ['//combi', 'ind_climat', 'ind_growth', 'ind_mitig', 'ind_trans_A',\n",
    "       'ind_trans_S', 'ind_trans_I', 'ind_trans_F', 'ind_taxexo', 'ind_recycl',\n",
    "       'ind_taxmax', 'Variable', 'Unit','region']"
   ]
  },
  {
   "cell_type": "code",
   "execution_count": 21,
   "metadata": {},
   "outputs": [],
   "source": [
    "indexes_ima2 = ['ind_climat', 'ind_growth', 'ind_mitig', 'ind_trans_A',\n",
    "       'ind_trans_S', 'ind_trans_I', 'ind_trans_F', 'ind_taxexo', 'ind_recycl',\n",
    "       'ind_taxmax', 'Variable','region','year']"
   ]
  },
  {
   "cell_type": "code",
   "execution_count": 22,
   "metadata": {},
   "outputs": [],
   "source": [
    "all_ima_data = all_ima_data.set_index(indexes_ima)\n",
    "all_ima_data.columns.name='year'\n",
    "all_ima_data = all_ima_data.stack('year')\n",
    "all_ima_data.name = 'value'\n",
    "all_ima_data = all_ima_data.reset_index('year')\n",
    "all_ima_data['year'] = all_ima_data.year.astype(\"int64\")\n",
    "all_ima_data = all_ima_data.loc[(all_ima_data.year>2014)&(all_ima_data.year<2031),:]"
   ]
  },
  {
   "cell_type": "code",
   "execution_count": 23,
   "metadata": {},
   "outputs": [],
   "source": [
    "all_ima_data.set_index(\"year\",append=True).unstack(\"Variable\")[\"value\"][\"PIB\"].dropna();"
   ]
  },
  {
   "cell_type": "code",
   "execution_count": 24,
   "metadata": {},
   "outputs": [],
   "source": [
    "out = all_ima_data.reset_index().drop(['Unit','//combi'],axis=1).set_index(indexes_ima2).unstack('Variable').value"
   ]
  },
  {
   "cell_type": "code",
   "execution_count": 25,
   "metadata": {},
   "outputs": [
    {
     "data": {
      "text/plain": [
       "Index(['CO2_em_tot', 'CO2_em_trans', 'PIB', 'Population', 'freight_activity',\n",
       "       'fret_OT', 'fret_air', 'fret_mer', 'passenger_activity', 'pkm_OT',\n",
       "       'pkm_air', 'pkm_auto'],\n",
       "      dtype='object', name='Variable')"
      ]
     },
     "execution_count": 25,
     "metadata": {},
     "output_type": "execute_result"
    }
   ],
   "source": [
    "out.columns"
   ]
  },
  {
   "cell_type": "code",
   "execution_count": 26,
   "metadata": {},
   "outputs": [],
   "source": [
    "to_merge = out.reset_index().set_index([x for x in indexes_ima2 if x not in [\"Variable\"]])[\"PIB\"]"
   ]
  },
  {
   "cell_type": "markdown",
   "metadata": {},
   "source": [
    "# Now I look at a different dataset that contains investment needs"
   ]
  },
  {
   "cell_type": "code",
   "execution_count": 27,
   "metadata": {},
   "outputs": [],
   "source": [
    "indexes_inv = ['combi', 'ind_climat', 'ind_growth', 'ind_mitig', 'ind_trans_A',\n",
    "       'ind_trans_S', 'ind_trans_I', 'ind_trans_F', 'modal_scenario',\n",
    "        'ur_ideal', 'urt_ideal','delay','costs_evolution_road', 'costs_evolution_rail']"
   ]
  },
  {
   "cell_type": "markdown",
   "metadata": {},
   "source": [
    "## dataset for summing all dev regions and calculating cost as % of GDP for all regions together"
   ]
  },
  {
   "cell_type": "code",
   "execution_count": 29,
   "metadata": {},
   "outputs": [],
   "source": [
    "all_data_global3 = pd.read_csv(rootfolder+\"summarize_global_costs.csv\")"
   ]
  },
  {
   "cell_type": "code",
   "execution_count": 30,
   "metadata": {},
   "outputs": [
    {
     "data": {
      "text/html": [
       "<div>\n",
       "<style scoped>\n",
       "    .dataframe tbody tr th:only-of-type {\n",
       "        vertical-align: middle;\n",
       "    }\n",
       "\n",
       "    .dataframe tbody tr th {\n",
       "        vertical-align: top;\n",
       "    }\n",
       "\n",
       "    .dataframe thead th {\n",
       "        text-align: right;\n",
       "    }\n",
       "</style>\n",
       "<table border=\"1\" class=\"dataframe\">\n",
       "  <thead>\n",
       "    <tr style=\"text-align: right;\">\n",
       "      <th></th>\n",
       "      <th>combi</th>\n",
       "      <th>ind_climat</th>\n",
       "      <th>ind_growth</th>\n",
       "      <th>ind_mitig</th>\n",
       "      <th>ind_trans_A</th>\n",
       "      <th>ind_trans_S</th>\n",
       "      <th>ind_trans_I</th>\n",
       "      <th>ind_trans_F</th>\n",
       "      <th>modal_scenario</th>\n",
       "      <th>ur_ideal</th>\n",
       "      <th>urt_ideal</th>\n",
       "      <th>delay</th>\n",
       "      <th>costs_evolution_road</th>\n",
       "      <th>costs_evolution_rail</th>\n",
       "      <th>costtype</th>\n",
       "      <th>transpmode</th>\n",
       "      <th>divided_by_gdp</th>\n",
       "    </tr>\n",
       "  </thead>\n",
       "  <tbody>\n",
       "    <tr>\n",
       "      <th>131552</th>\n",
       "      <td>61</td>\n",
       "      <td>0</td>\n",
       "      <td>2</td>\n",
       "      <td>2</td>\n",
       "      <td>2</td>\n",
       "      <td>2</td>\n",
       "      <td>1</td>\n",
       "      <td>1</td>\n",
       "      <td>1</td>\n",
       "      <td>900</td>\n",
       "      <td>5000</td>\n",
       "      <td>65</td>\n",
       "      <td>2</td>\n",
       "      <td>0</td>\n",
       "      <td>maint</td>\n",
       "      <td>hsr</td>\n",
       "      <td>0.000030</td>\n",
       "    </tr>\n",
       "    <tr>\n",
       "      <th>289953</th>\n",
       "      <td>135</td>\n",
       "      <td>2</td>\n",
       "      <td>2</td>\n",
       "      <td>1</td>\n",
       "      <td>1</td>\n",
       "      <td>2</td>\n",
       "      <td>2</td>\n",
       "      <td>1</td>\n",
       "      <td>0</td>\n",
       "      <td>600</td>\n",
       "      <td>5000</td>\n",
       "      <td>65</td>\n",
       "      <td>2</td>\n",
       "      <td>0</td>\n",
       "      <td>maint</td>\n",
       "      <td>rail</td>\n",
       "      <td>0.000978</td>\n",
       "    </tr>\n",
       "    <tr>\n",
       "      <th>500801</th>\n",
       "      <td>328</td>\n",
       "      <td>4</td>\n",
       "      <td>2</td>\n",
       "      <td>1</td>\n",
       "      <td>1</td>\n",
       "      <td>2</td>\n",
       "      <td>2</td>\n",
       "      <td>2</td>\n",
       "      <td>1</td>\n",
       "      <td>900</td>\n",
       "      <td>5000</td>\n",
       "      <td>35</td>\n",
       "      <td>1</td>\n",
       "      <td>1</td>\n",
       "      <td>maint</td>\n",
       "      <td>brt</td>\n",
       "      <td>0.000117</td>\n",
       "    </tr>\n",
       "  </tbody>\n",
       "</table>\n",
       "</div>"
      ],
      "text/plain": [
       "        combi  ind_climat  ind_growth  ind_mitig  ind_trans_A  ind_trans_S  \\\n",
       "131552     61           0           2          2            2            2   \n",
       "289953    135           2           2          1            1            2   \n",
       "500801    328           4           2          1            1            2   \n",
       "\n",
       "        ind_trans_I  ind_trans_F  modal_scenario  ur_ideal  urt_ideal  delay  \\\n",
       "131552            1            1               1       900       5000     65   \n",
       "289953            2            1               0       600       5000     65   \n",
       "500801            2            2               1       900       5000     35   \n",
       "\n",
       "        costs_evolution_road  costs_evolution_rail costtype transpmode  \\\n",
       "131552                     2                     0    maint        hsr   \n",
       "289953                     2                     0    maint       rail   \n",
       "500801                     1                     1    maint        brt   \n",
       "\n",
       "        divided_by_gdp  \n",
       "131552        0.000030  \n",
       "289953        0.000978  \n",
       "500801        0.000117  "
      ]
     },
     "execution_count": 30,
     "metadata": {},
     "output_type": "execute_result"
    }
   ],
   "source": [
    "all_data_global3.sample(3)"
   ]
  },
  {
   "cell_type": "markdown",
   "metadata": {},
   "source": [
    "## IMPORTANT: we drop some unrealistic scenarios"
   ]
  },
  {
   "cell_type": "code",
   "execution_count": 32,
   "metadata": {},
   "outputs": [],
   "source": [
    "all_data_global3 = all_data_global3.loc[all_data_global3.ur_ideal>300,:]"
   ]
  },
  {
   "cell_type": "code",
   "execution_count": 33,
   "metadata": {},
   "outputs": [],
   "source": [
    "all_data_global = all_data_global3.set_index(indexes_inv+[\"costtype\",\"transpmode\"])"
   ]
  },
  {
   "cell_type": "code",
   "execution_count": 34,
   "metadata": {},
   "outputs": [],
   "source": [
    "all_data_global = all_data_global.stack().unstack(\"transpmode\")\n",
    "all_data_global[\"rail+high speed rail\"] = all_data_global[\"rail\"]+all_data_global['hsr']\n",
    "all_data_global[\"allmodes\"] = all_data_global[\"rail\"]+all_data_global['hsr']+all_data_global[\"air\"]+all_data_global['brt']+all_data_global['road']\n"
   ]
  },
  {
   "cell_type": "markdown",
   "metadata": {},
   "source": [
    "### cost in % GDP for all developing countries for new capital"
   ]
  },
  {
   "cell_type": "code",
   "execution_count": 35,
   "metadata": {},
   "outputs": [
    {
     "data": {
      "text/plain": [
       "array([0, 2, 4], dtype=int64)"
      ]
     },
     "execution_count": 35,
     "metadata": {},
     "output_type": "execute_result"
    }
   ],
   "source": [
    "all_data_global.reset_index(\"ind_climat\").ind_climat.unique()"
   ]
  },
  {
   "cell_type": "markdown",
   "metadata": {},
   "source": [
    "0 = no climate change mitigation constraint, 2 = 3 degrees scenarios, 4 = 2 degrees scenario"
   ]
  },
  {
   "cell_type": "code",
   "execution_count": 36,
   "metadata": {},
   "outputs": [
    {
     "data": {
      "text/plain": [
       "array([ 5000, 30000], dtype=int64)"
      ]
     },
     "execution_count": 36,
     "metadata": {},
     "output_type": "execute_result"
    }
   ],
   "source": [
    "all_data_global.reset_index(\"urt_ideal\").urt_ideal.unique()"
   ]
  },
  {
   "cell_type": "code",
   "execution_count": 37,
   "metadata": {},
   "outputs": [
    {
     "data": {
      "text/plain": [
       "array([0, 1], dtype=int64)"
      ]
     },
     "execution_count": 37,
     "metadata": {},
     "output_type": "execute_result"
    }
   ],
   "source": [
    "all_data_global.reset_index(\"modal_scenario\").modal_scenario.unique()"
   ]
  },
  {
   "cell_type": "markdown",
   "metadata": {},
   "source": [
    "1=shift to rail"
   ]
  },
  {
   "cell_type": "code",
   "execution_count": 56,
   "metadata": {},
   "outputs": [
    {
     "data": {
      "text/plain": [
       "array([1, 2], dtype=int64)"
      ]
     },
     "execution_count": 56,
     "metadata": {},
     "output_type": "execute_result"
    }
   ],
   "source": [
    "all_data_global.reset_index(\"ind_mitig\").ind_mitig.unique()"
   ]
  },
  {
   "cell_type": "markdown",
   "metadata": {},
   "source": [
    "Below I drop maintenance to see only capital investments"
   ]
  },
  {
   "cell_type": "code",
   "execution_count": 66,
   "metadata": {},
   "outputs": [
    {
     "data": {
      "text/plain": [
       "count    4.147200e+06\n",
       "mean     1.510753e+00\n",
       "std      5.231689e-01\n",
       "min      5.319469e-01\n",
       "5%       8.333555e-01\n",
       "25%      1.093381e+00\n",
       "50%      1.390742e+00\n",
       "75%      1.891151e+00\n",
       "95%      2.485996e+00\n",
       "max      3.312571e+00\n",
       "Name: allmodes, dtype: float64"
      ]
     },
     "execution_count": 66,
     "metadata": {},
     "output_type": "execute_result"
    }
   ],
   "source": [
    "100*all_data_global.allmodes.drop(\"maint\",level=\"costtype\").describe(percentiles=[0.05,.25, .5, .75,0.95])"
   ]
  },
  {
   "cell_type": "markdown",
   "metadata": {},
   "source": [
    "Below I also drop the scenarios with no climate change mitigation objective"
   ]
  },
  {
   "cell_type": "code",
   "execution_count": 67,
   "metadata": {},
   "outputs": [
    {
     "data": {
      "text/plain": [
       "count    2.764800e+06\n",
       "mean     1.520539e+00\n",
       "std      5.397659e-01\n",
       "min      5.319469e-01\n",
       "5%       8.083811e-01\n",
       "25%      1.090250e+00\n",
       "50%      1.401211e+00\n",
       "75%      1.923894e+00\n",
       "95%      2.514399e+00\n",
       "max      3.312571e+00\n",
       "Name: allmodes, dtype: float64"
      ]
     },
     "execution_count": 67,
     "metadata": {},
     "output_type": "execute_result"
    }
   ],
   "source": [
    "100*all_data_global.allmodes.drop(0,level=\"ind_climat\").drop(\"maint\",level=\"costtype\").describe(percentiles=[0.05,.25, .5, .75,0.95])"
   ]
  },
  {
   "cell_type": "markdown",
   "metadata": {},
   "source": [
    "### cost in % GDP for all developing countries for maintenance"
   ]
  },
  {
   "cell_type": "code",
   "execution_count": 73,
   "metadata": {},
   "outputs": [
    {
     "data": {
      "text/plain": [
       "count    4.147200e+06\n",
       "mean     1.486771e+00\n",
       "std      2.118261e-01\n",
       "min      1.060687e+00\n",
       "5%       1.161807e+00\n",
       "25%      1.314803e+00\n",
       "50%      1.473272e+00\n",
       "75%      1.659537e+00\n",
       "95%      1.827147e+00\n",
       "max      2.082881e+00\n",
       "Name: allmodes, dtype: float64"
      ]
     },
     "execution_count": 73,
     "metadata": {},
     "output_type": "execute_result"
    }
   ],
   "source": [
    "100*all_data_global.allmodes.drop(\"new\",level=\"costtype\").describe(percentiles=[0.05,.25, .5, .75,0.95])"
   ]
  },
  {
   "cell_type": "markdown",
   "metadata": {},
   "source": [
    "## dataset for exploring by region"
   ]
  },
  {
   "cell_type": "code",
   "execution_count": 39,
   "metadata": {},
   "outputs": [],
   "source": [
    "all_data = pd.read_csv(\"C:\\\\Users\\\\WB451855\\\\OneDrive - WBG\\\\!infra_needs_data\\\\transport_cired_output_data\\\\\"+\"summarize_costs.csv\")"
   ]
  },
  {
   "cell_type": "code",
   "execution_count": 40,
   "metadata": {},
   "outputs": [
    {
     "data": {
      "text/plain": [
       "Index(['combi', 'ind_climat', 'ind_growth', 'ind_mitig', 'ind_trans_A',\n",
       "       'ind_trans_S', 'ind_trans_I', 'ind_trans_F', 'modal_scenario',\n",
       "       'ur_ideal', 'urt_ideal', 'delay', 'costs_evolution_road',\n",
       "       'costs_evolution_rail', 'costtype', 'transpmode', 'region',\n",
       "       'divided_by_gdp', 'value', 'disc_value', 'discounted_gdp'],\n",
       "      dtype='object')"
      ]
     },
     "execution_count": 40,
     "metadata": {},
     "output_type": "execute_result"
    }
   ],
   "source": [
    "all_data.columns"
   ]
  },
  {
   "cell_type": "code",
   "execution_count": 41,
   "metadata": {},
   "outputs": [],
   "source": [
    "indexes_inv2 = [\"costtype\",\"transpmode\",\"region\"]"
   ]
  },
  {
   "cell_type": "code",
   "execution_count": 42,
   "metadata": {},
   "outputs": [
    {
     "data": {
      "text/plain": [
       "count    3.110400e+06\n",
       "mean     3.086226e-03\n",
       "std      6.557811e-03\n",
       "min      0.000000e+00\n",
       "25%      1.579677e-05\n",
       "50%      2.207328e-04\n",
       "75%      1.479827e-03\n",
       "max      5.796029e-02\n",
       "Name: divided_by_gdp, dtype: float64"
      ]
     },
     "execution_count": 42,
     "metadata": {},
     "output_type": "execute_result"
    }
   ],
   "source": [
    "all_data.divided_by_gdp.describe()"
   ]
  },
  {
   "cell_type": "markdown",
   "metadata": {},
   "source": [
    "### IMPORTANT: drop the unrealistic scenarios"
   ]
  },
  {
   "cell_type": "code",
   "execution_count": 44,
   "metadata": {},
   "outputs": [],
   "source": [
    "all_data = all_data.loc[all_data.ur_ideal>300,:]"
   ]
  },
  {
   "cell_type": "code",
   "execution_count": 45,
   "metadata": {},
   "outputs": [],
   "source": [
    "all_data = all_data.set_index(indexes_inv+indexes_inv2)\n",
    "all_data.columns.name = \"columns\"\n",
    "all_data = all_data.stack().unstack(\"transpmode\")\n",
    "all_data[\"rail+high speed rail\"] = all_data[\"rail\"]+all_data['hsr']\n",
    "all_data[\"allmodes\"] = all_data[\"rail\"]+all_data['hsr']+all_data[\"air\"]+all_data['brt']+all_data['road']"
   ]
  },
  {
   "cell_type": "code",
   "execution_count": 46,
   "metadata": {},
   "outputs": [
    {
     "data": {
      "text/html": [
       "<div>\n",
       "<style scoped>\n",
       "    .dataframe tbody tr th:only-of-type {\n",
       "        vertical-align: middle;\n",
       "    }\n",
       "\n",
       "    .dataframe tbody tr th {\n",
       "        vertical-align: top;\n",
       "    }\n",
       "\n",
       "    .dataframe thead th {\n",
       "        text-align: right;\n",
       "    }\n",
       "</style>\n",
       "<table border=\"1\" class=\"dataframe\">\n",
       "  <thead>\n",
       "    <tr style=\"text-align: right;\">\n",
       "      <th></th>\n",
       "      <th></th>\n",
       "      <th></th>\n",
       "      <th></th>\n",
       "      <th></th>\n",
       "      <th></th>\n",
       "      <th></th>\n",
       "      <th></th>\n",
       "      <th></th>\n",
       "      <th></th>\n",
       "      <th></th>\n",
       "      <th></th>\n",
       "      <th></th>\n",
       "      <th></th>\n",
       "      <th></th>\n",
       "      <th></th>\n",
       "      <th>transpmode</th>\n",
       "      <th>air</th>\n",
       "      <th>brt</th>\n",
       "      <th>hsr</th>\n",
       "      <th>rail</th>\n",
       "      <th>road</th>\n",
       "      <th>rail+high speed rail</th>\n",
       "      <th>allmodes</th>\n",
       "    </tr>\n",
       "    <tr>\n",
       "      <th>combi</th>\n",
       "      <th>ind_climat</th>\n",
       "      <th>ind_growth</th>\n",
       "      <th>ind_mitig</th>\n",
       "      <th>ind_trans_A</th>\n",
       "      <th>ind_trans_S</th>\n",
       "      <th>ind_trans_I</th>\n",
       "      <th>ind_trans_F</th>\n",
       "      <th>modal_scenario</th>\n",
       "      <th>ur_ideal</th>\n",
       "      <th>urt_ideal</th>\n",
       "      <th>delay</th>\n",
       "      <th>costs_evolution_road</th>\n",
       "      <th>costs_evolution_rail</th>\n",
       "      <th>costtype</th>\n",
       "      <th>region</th>\n",
       "      <th>columns</th>\n",
       "      <th></th>\n",
       "      <th></th>\n",
       "      <th></th>\n",
       "      <th></th>\n",
       "      <th></th>\n",
       "      <th></th>\n",
       "      <th></th>\n",
       "    </tr>\n",
       "  </thead>\n",
       "  <tbody>\n",
       "    <tr>\n",
       "      <th>309</th>\n",
       "      <th>4</th>\n",
       "      <th>1</th>\n",
       "      <th>2</th>\n",
       "      <th>1</th>\n",
       "      <th>2</th>\n",
       "      <th>1</th>\n",
       "      <th>1</th>\n",
       "      <th>0</th>\n",
       "      <th>600</th>\n",
       "      <th>5000</th>\n",
       "      <th>35</th>\n",
       "      <th>0</th>\n",
       "      <th>1</th>\n",
       "      <th>new</th>\n",
       "      <th>CIS</th>\n",
       "      <th>discounted_gdp</th>\n",
       "      <td>26861.311796</td>\n",
       "      <td>26861.311796</td>\n",
       "      <td>26861.311796</td>\n",
       "      <td>26861.311796</td>\n",
       "      <td>26861.311796</td>\n",
       "      <td>53722.623592</td>\n",
       "      <td>134306.558980</td>\n",
       "    </tr>\n",
       "    <tr>\n",
       "      <th>4</th>\n",
       "      <th>0</th>\n",
       "      <th>1</th>\n",
       "      <th>1</th>\n",
       "      <th>1</th>\n",
       "      <th>1</th>\n",
       "      <th>2</th>\n",
       "      <th>2</th>\n",
       "      <th>0</th>\n",
       "      <th>900</th>\n",
       "      <th>30000</th>\n",
       "      <th>65</th>\n",
       "      <th>0</th>\n",
       "      <th>1</th>\n",
       "      <th>maint</th>\n",
       "      <th>ASIA</th>\n",
       "      <th>disc_value</th>\n",
       "      <td>6.526860</td>\n",
       "      <td>2.950581</td>\n",
       "      <td>52.273148</td>\n",
       "      <td>96.545125</td>\n",
       "      <td>2677.983665</td>\n",
       "      <td>148.818273</td>\n",
       "      <td>2836.279380</td>\n",
       "    </tr>\n",
       "    <tr>\n",
       "      <th>56</th>\n",
       "      <th>0</th>\n",
       "      <th>2</th>\n",
       "      <th>2</th>\n",
       "      <th>1</th>\n",
       "      <th>2</th>\n",
       "      <th>2</th>\n",
       "      <th>2</th>\n",
       "      <th>0</th>\n",
       "      <th>900</th>\n",
       "      <th>5000</th>\n",
       "      <th>65</th>\n",
       "      <th>1</th>\n",
       "      <th>1</th>\n",
       "      <th>new</th>\n",
       "      <th>MAF</th>\n",
       "      <th>discounted_gdp</th>\n",
       "      <td>62566.650101</td>\n",
       "      <td>62566.650101</td>\n",
       "      <td>62566.650101</td>\n",
       "      <td>62566.650101</td>\n",
       "      <td>62566.650101</td>\n",
       "      <td>125133.300202</td>\n",
       "      <td>312833.250504</td>\n",
       "    </tr>\n",
       "  </tbody>\n",
       "</table>\n",
       "</div>"
      ],
      "text/plain": [
       "transpmode                                                                                                                                                                                                       air  \\\n",
       "combi ind_climat ind_growth ind_mitig ind_trans_A ind_trans_S ind_trans_I ind_trans_F modal_scenario ur_ideal urt_ideal delay costs_evolution_road costs_evolution_rail costtype region columns                        \n",
       "309   4          1          2         1           2           1           1           0              600      5000      35    0                    1                    new      CIS    discounted_gdp  26861.311796   \n",
       "4     0          1          1         1           1           2           2           0              900      30000     65    0                    1                    maint    ASIA   disc_value          6.526860   \n",
       "56    0          2          2         1           2           2           2           0              900      5000      65    1                    1                    new      MAF    discounted_gdp  62566.650101   \n",
       "\n",
       "transpmode                                                                                                                                                                                                       brt  \\\n",
       "combi ind_climat ind_growth ind_mitig ind_trans_A ind_trans_S ind_trans_I ind_trans_F modal_scenario ur_ideal urt_ideal delay costs_evolution_road costs_evolution_rail costtype region columns                        \n",
       "309   4          1          2         1           2           1           1           0              600      5000      35    0                    1                    new      CIS    discounted_gdp  26861.311796   \n",
       "4     0          1          1         1           1           2           2           0              900      30000     65    0                    1                    maint    ASIA   disc_value          2.950581   \n",
       "56    0          2          2         1           2           2           2           0              900      5000      65    1                    1                    new      MAF    discounted_gdp  62566.650101   \n",
       "\n",
       "transpmode                                                                                                                                                                                                       hsr  \\\n",
       "combi ind_climat ind_growth ind_mitig ind_trans_A ind_trans_S ind_trans_I ind_trans_F modal_scenario ur_ideal urt_ideal delay costs_evolution_road costs_evolution_rail costtype region columns                        \n",
       "309   4          1          2         1           2           1           1           0              600      5000      35    0                    1                    new      CIS    discounted_gdp  26861.311796   \n",
       "4     0          1          1         1           1           2           2           0              900      30000     65    0                    1                    maint    ASIA   disc_value         52.273148   \n",
       "56    0          2          2         1           2           2           2           0              900      5000      65    1                    1                    new      MAF    discounted_gdp  62566.650101   \n",
       "\n",
       "transpmode                                                                                                                                                                                                      rail  \\\n",
       "combi ind_climat ind_growth ind_mitig ind_trans_A ind_trans_S ind_trans_I ind_trans_F modal_scenario ur_ideal urt_ideal delay costs_evolution_road costs_evolution_rail costtype region columns                        \n",
       "309   4          1          2         1           2           1           1           0              600      5000      35    0                    1                    new      CIS    discounted_gdp  26861.311796   \n",
       "4     0          1          1         1           1           2           2           0              900      30000     65    0                    1                    maint    ASIA   disc_value         96.545125   \n",
       "56    0          2          2         1           2           2           2           0              900      5000      65    1                    1                    new      MAF    discounted_gdp  62566.650101   \n",
       "\n",
       "transpmode                                                                                                                                                                                                      road  \\\n",
       "combi ind_climat ind_growth ind_mitig ind_trans_A ind_trans_S ind_trans_I ind_trans_F modal_scenario ur_ideal urt_ideal delay costs_evolution_road costs_evolution_rail costtype region columns                        \n",
       "309   4          1          2         1           2           1           1           0              600      5000      35    0                    1                    new      CIS    discounted_gdp  26861.311796   \n",
       "4     0          1          1         1           1           2           2           0              900      30000     65    0                    1                    maint    ASIA   disc_value       2677.983665   \n",
       "56    0          2          2         1           2           2           2           0              900      5000      65    1                    1                    new      MAF    discounted_gdp  62566.650101   \n",
       "\n",
       "transpmode                                                                                                                                                                                              rail+high speed rail  \\\n",
       "combi ind_climat ind_growth ind_mitig ind_trans_A ind_trans_S ind_trans_I ind_trans_F modal_scenario ur_ideal urt_ideal delay costs_evolution_road costs_evolution_rail costtype region columns                                \n",
       "309   4          1          2         1           2           1           1           0              600      5000      35    0                    1                    new      CIS    discounted_gdp          53722.623592   \n",
       "4     0          1          1         1           1           2           2           0              900      30000     65    0                    1                    maint    ASIA   disc_value                148.818273   \n",
       "56    0          2          2         1           2           2           2           0              900      5000      65    1                    1                    new      MAF    discounted_gdp         125133.300202   \n",
       "\n",
       "transpmode                                                                                                                                                                                                   allmodes  \n",
       "combi ind_climat ind_growth ind_mitig ind_trans_A ind_trans_S ind_trans_I ind_trans_F modal_scenario ur_ideal urt_ideal delay costs_evolution_road costs_evolution_rail costtype region columns                        \n",
       "309   4          1          2         1           2           1           1           0              600      5000      35    0                    1                    new      CIS    discounted_gdp  134306.558980  \n",
       "4     0          1          1         1           1           2           2           0              900      30000     65    0                    1                    maint    ASIA   disc_value        2836.279380  \n",
       "56    0          2          2         1           2           2           2           0              900      5000      65    1                    1                    new      MAF    discounted_gdp  312833.250504  "
      ]
     },
     "execution_count": 46,
     "metadata": {},
     "output_type": "execute_result"
    }
   ],
   "source": [
    "all_data.sample(3)"
   ]
  },
  {
   "cell_type": "code",
   "execution_count": 47,
   "metadata": {},
   "outputs": [
    {
     "data": {
      "text/plain": [
       "array(['air', 'brt', 'hsr', 'rail', 'road', 'rail+high speed rail',\n",
       "       'allmodes'], dtype=object)"
      ]
     },
     "execution_count": 47,
     "metadata": {},
     "output_type": "execute_result"
    }
   ],
   "source": [
    "all_data.stack().reset_index(\"transpmode\").transpmode.unique()"
   ]
  },
  {
   "cell_type": "markdown",
   "metadata": {},
   "source": [
    "## numbers and graphs for report"
   ]
  },
  {
   "cell_type": "code",
   "execution_count": 58,
   "metadata": {
    "collapsed": true
   },
   "outputs": [],
   "source": [
    "bob2 = all_data.divided_by_gdp.unstack(\"transpmode\").drop(['rail','hsr'],axis=1).stack().unstack(\"costtype\")[\"new\"]\n",
    "bob2 = bob2.reset_index()\n",
    "#bob2 = bob2.loc[bob2.region!=\"OCDE\",:]\n",
    "bob2[\"region\"] = bob2.region.replace({\"MAF\":\"Middle East\\nand Africa\",\\\n",
    "                                      \"LAM\":\"Latin America\\nand Caribbean\",\\\n",
    "                                      \"CIS\":\"Former\\nSoviet Union\",\\\n",
    "                                      \"ASIA\":\"Asia\",\\\n",
    "                                      \"OCDE\":\"OECD\"})\n",
    "bob2[\"new\"] = 100*bob2.new"
   ]
  },
  {
   "cell_type": "code",
   "execution_count": 59,
   "metadata": {},
   "outputs": [
    {
     "data": {
      "image/png": "[encoded data removed]",
      "text/plain": [
       "<matplotlib.figure.Figure at 0x2014b6eaa90>"
      ]
     },
     "metadata": {},
     "output_type": "display_data"
    }
   ],
   "source": [
    "fig3, ax3 = plt.subplots()\n",
    "sns.boxplot(x=\"region\",y=\"new\",hue=\"transpmode\",data=bob2,ax=ax3)\n",
    "fig3.set_size_inches(12, 7)\n",
    "ax3.set_xlabel(\"\")\n",
    "ax3.set_ylabel(\"Capital investment costs 2015-2030 (% of GDP)\")\n",
    "plt.legend(title=\"\",bbox_to_anchor=(1.005, 0.6))\n",
    "plt.savefig(\"imaclim_per_region_mode_share_gdp.png\",ddpi=300,bbox_inches=\"tight\")\n",
    "plt.savefig(\"imaclim_per_region_mode_share_gdp.pdf\")"
   ]
  },
  {
   "cell_type": "code",
   "execution_count": 97,
   "metadata": {},
   "outputs": [
    {
     "data": {
      "text/html": [
       "<div>\n",
       "<style>\n",
       "    .dataframe thead tr:only-child th {\n",
       "        text-align: right;\n",
       "    }\n",
       "\n",
       "    .dataframe thead th {\n",
       "        text-align: left;\n",
       "    }\n",
       "\n",
       "    .dataframe tbody tr th {\n",
       "        vertical-align: top;\n",
       "    }\n",
       "</style>\n",
       "<table border=\"1\" class=\"dataframe\">\n",
       "  <thead>\n",
       "    <tr style=\"text-align: right;\">\n",
       "      <th></th>\n",
       "      <th></th>\n",
       "      <th></th>\n",
       "      <th></th>\n",
       "      <th></th>\n",
       "      <th></th>\n",
       "      <th></th>\n",
       "      <th></th>\n",
       "      <th></th>\n",
       "      <th></th>\n",
       "      <th></th>\n",
       "      <th></th>\n",
       "      <th></th>\n",
       "      <th></th>\n",
       "      <th></th>\n",
       "      <th>transpmode</th>\n",
       "      <th>air</th>\n",
       "      <th>brt</th>\n",
       "      <th>hsr</th>\n",
       "      <th>rail</th>\n",
       "      <th>road</th>\n",
       "      <th>rail+high speed rail</th>\n",
       "      <th>allmodes</th>\n",
       "    </tr>\n",
       "    <tr>\n",
       "      <th>combi</th>\n",
       "      <th>ind_climat</th>\n",
       "      <th>ind_growth</th>\n",
       "      <th>ind_mitig</th>\n",
       "      <th>ind_trans_A</th>\n",
       "      <th>ind_trans_S</th>\n",
       "      <th>ind_trans_I</th>\n",
       "      <th>ind_trans_F</th>\n",
       "      <th>modal_scenario</th>\n",
       "      <th>ur_ideal</th>\n",
       "      <th>urt_ideal</th>\n",
       "      <th>delay</th>\n",
       "      <th>costs_evolution_road</th>\n",
       "      <th>costs_evolution_rail</th>\n",
       "      <th>costtype</th>\n",
       "      <th></th>\n",
       "      <th></th>\n",
       "      <th></th>\n",
       "      <th></th>\n",
       "      <th></th>\n",
       "      <th></th>\n",
       "      <th></th>\n",
       "      <th></th>\n",
       "    </tr>\n",
       "  </thead>\n",
       "  <tbody>\n",
       "    <tr>\n",
       "      <th>317</th>\n",
       "      <th>4</th>\n",
       "      <th>1</th>\n",
       "      <th>2</th>\n",
       "      <th>2</th>\n",
       "      <th>2</th>\n",
       "      <th>1</th>\n",
       "      <th>1</th>\n",
       "      <th>1</th>\n",
       "      <th>600</th>\n",
       "      <th>5000</th>\n",
       "      <th>65</th>\n",
       "      <th>0</th>\n",
       "      <th>1</th>\n",
       "      <th>maint</th>\n",
       "      <th>divided_by_gdp</th>\n",
       "      <td>0.000074</td>\n",
       "      <td>0.000094</td>\n",
       "      <td>0.000181</td>\n",
       "      <td>0.001184</td>\n",
       "      <td>0.012534</td>\n",
       "      <td>0.001365</td>\n",
       "      <td>0.014068</td>\n",
       "    </tr>\n",
       "    <tr>\n",
       "      <th>107</th>\n",
       "      <th>2</th>\n",
       "      <th>1</th>\n",
       "      <th>1</th>\n",
       "      <th>2</th>\n",
       "      <th>1</th>\n",
       "      <th>2</th>\n",
       "      <th>1</th>\n",
       "      <th>0</th>\n",
       "      <th>600</th>\n",
       "      <th>5000</th>\n",
       "      <th>65</th>\n",
       "      <th>0</th>\n",
       "      <th>2</th>\n",
       "      <th>maint</th>\n",
       "      <th>divided_by_gdp</th>\n",
       "      <td>0.000072</td>\n",
       "      <td>0.000028</td>\n",
       "      <td>0.000153</td>\n",
       "      <td>0.000876</td>\n",
       "      <td>0.013111</td>\n",
       "      <td>0.001030</td>\n",
       "      <td>0.014242</td>\n",
       "    </tr>\n",
       "  </tbody>\n",
       "</table>\n",
       "</div>"
      ],
      "text/plain": [
       "transpmode                                                                                                                                                                                            air  \\\n",
       "combi ind_climat ind_growth ind_mitig ind_trans_A ind_trans_S ind_trans_I ind_trans_F modal_scenario ur_ideal urt_ideal delay costs_evolution_road costs_evolution_rail costtype                            \n",
       "317   4          1          2         2           2           1           1           1              600      5000      65    0                    1                    maint    divided_by_gdp  0.000074   \n",
       "107   2          1          1         2           1           2           1           0              600      5000      65    0                    2                    maint    divided_by_gdp  0.000072   \n",
       "\n",
       "transpmode                                                                                                                                                                                            brt  \\\n",
       "combi ind_climat ind_growth ind_mitig ind_trans_A ind_trans_S ind_trans_I ind_trans_F modal_scenario ur_ideal urt_ideal delay costs_evolution_road costs_evolution_rail costtype                            \n",
       "317   4          1          2         2           2           1           1           1              600      5000      65    0                    1                    maint    divided_by_gdp  0.000094   \n",
       "107   2          1          1         2           1           2           1           0              600      5000      65    0                    2                    maint    divided_by_gdp  0.000028   \n",
       "\n",
       "transpmode                                                                                                                                                                                            hsr  \\\n",
       "combi ind_climat ind_growth ind_mitig ind_trans_A ind_trans_S ind_trans_I ind_trans_F modal_scenario ur_ideal urt_ideal delay costs_evolution_road costs_evolution_rail costtype                            \n",
       "317   4          1          2         2           2           1           1           1              600      5000      65    0                    1                    maint    divided_by_gdp  0.000181   \n",
       "107   2          1          1         2           1           2           1           0              600      5000      65    0                    2                    maint    divided_by_gdp  0.000153   \n",
       "\n",
       "transpmode                                                                                                                                                                                           rail  \\\n",
       "combi ind_climat ind_growth ind_mitig ind_trans_A ind_trans_S ind_trans_I ind_trans_F modal_scenario ur_ideal urt_ideal delay costs_evolution_road costs_evolution_rail costtype                            \n",
       "317   4          1          2         2           2           1           1           1              600      5000      65    0                    1                    maint    divided_by_gdp  0.001184   \n",
       "107   2          1          1         2           1           2           1           0              600      5000      65    0                    2                    maint    divided_by_gdp  0.000876   \n",
       "\n",
       "transpmode                                                                                                                                                                                           road  \\\n",
       "combi ind_climat ind_growth ind_mitig ind_trans_A ind_trans_S ind_trans_I ind_trans_F modal_scenario ur_ideal urt_ideal delay costs_evolution_road costs_evolution_rail costtype                            \n",
       "317   4          1          2         2           2           1           1           1              600      5000      65    0                    1                    maint    divided_by_gdp  0.012534   \n",
       "107   2          1          1         2           1           2           1           0              600      5000      65    0                    2                    maint    divided_by_gdp  0.013111   \n",
       "\n",
       "transpmode                                                                                                                                                                                       rail+high speed rail  \\\n",
       "combi ind_climat ind_growth ind_mitig ind_trans_A ind_trans_S ind_trans_I ind_trans_F modal_scenario ur_ideal urt_ideal delay costs_evolution_road costs_evolution_rail costtype                                        \n",
       "317   4          1          2         2           2           1           1           1              600      5000      65    0                    1                    maint    divided_by_gdp              0.001365   \n",
       "107   2          1          1         2           1           2           1           0              600      5000      65    0                    2                    maint    divided_by_gdp              0.001030   \n",
       "\n",
       "transpmode                                                                                                                                                                                       allmodes  \n",
       "combi ind_climat ind_growth ind_mitig ind_trans_A ind_trans_S ind_trans_I ind_trans_F modal_scenario ur_ideal urt_ideal delay costs_evolution_road costs_evolution_rail costtype                           \n",
       "317   4          1          2         2           2           1           1           1              600      5000      65    0                    1                    maint    divided_by_gdp  0.014068  \n",
       "107   2          1          1         2           1           2           1           0              600      5000      65    0                    2                    maint    divided_by_gdp  0.014242  "
      ]
     },
     "execution_count": 97,
     "metadata": {},
     "output_type": "execute_result"
    }
   ],
   "source": [
    "all_data_global.sample(2)"
   ]
  },
  {
   "cell_type": "code",
   "execution_count": 72,
   "metadata": {},
   "outputs": [
    {
     "data": {
      "image/png": "[encoded data removed]",
      "text/plain": [
       "<matplotlib.figure.Figure at 0x259800cdb38>"
      ]
     },
     "metadata": {},
     "output_type": "display_data"
    }
   ],
   "source": [
    "bob3 = all_data_global.allmodes.unstack(\"costtype\")[\"new\"].reset_index()\n",
    "bob3['modal_scenario'] = bob3.modal_scenario.replace({0:\"Constant shares\",1:\"Shift to rail\"})\n",
    "\n",
    "#transforms sum in annual average\n",
    "bob3['new'] = 100*bob3.new\n",
    "\n",
    "bob3['urt_ideal'] = 1/1000*bob3.urt_ideal\n",
    "\n",
    "g = sns.factorplot(x=\"urt_ideal\",y=\"new\",hue=\"modal_scenario\",dodge=True,ci='sd',join=False,\\\n",
    "              kind=\"point\",capsize=0.1,data=bob3,errwidth=5, size=5, aspect=1.2,\\\n",
    "                  legend=False)\n",
    "\n",
    "\n",
    "\n",
    "#g = sns.factorplot(x=\"modal_scenario\",y=\"allmodes\",hue=\"urt_ideal\", kind='box',\\\n",
    "#              data=bob3, size=5, aspect=1.5,\\\n",
    "#                  legend=False)\n",
    "\n",
    "g.set_axis_labels(\"Target rail occupancy\\n(million pkm and tkm per track-km)\", \"Average annual capital\\ninvestment costs 2015-2030\\n(% GDP)\")\n",
    "g.add_legend(title=\"Mode scenario\")\n",
    "\n",
    "plt.savefig(\"imaclim_dev_world_unc_pcpib.png\",ddpi=300,bbox_inches=\"tight\")\n",
    "plt.savefig(\"imaclim_dev_world_unc_pcpib.pdf\")"
   ]
  },
  {
   "cell_type": "code",
   "execution_count": 84,
   "metadata": {},
   "outputs": [
    {
     "data": {
      "text/html": [
       "<div>\n",
       "<style>\n",
       "    .dataframe thead tr:only-child th {\n",
       "        text-align: right;\n",
       "    }\n",
       "\n",
       "    .dataframe thead th {\n",
       "        text-align: left;\n",
       "    }\n",
       "\n",
       "    .dataframe tbody tr th {\n",
       "        vertical-align: top;\n",
       "    }\n",
       "</style>\n",
       "<table border=\"1\" class=\"dataframe\">\n",
       "  <thead>\n",
       "    <tr style=\"text-align: right;\">\n",
       "      <th>ur_ideal</th>\n",
       "      <th>600</th>\n",
       "      <th>900</th>\n",
       "    </tr>\n",
       "  </thead>\n",
       "  <tbody>\n",
       "    <tr>\n",
       "      <th>count</th>\n",
       "      <td>20736.000000</td>\n",
       "      <td>20736.000000</td>\n",
       "    </tr>\n",
       "    <tr>\n",
       "      <th>mean</th>\n",
       "      <td>0.037351</td>\n",
       "      <td>0.026132</td>\n",
       "    </tr>\n",
       "    <tr>\n",
       "      <th>std</th>\n",
       "      <td>0.007272</td>\n",
       "      <td>0.007353</td>\n",
       "    </tr>\n",
       "    <tr>\n",
       "      <th>min</th>\n",
       "      <td>0.022941</td>\n",
       "      <td>0.011031</td>\n",
       "    </tr>\n",
       "    <tr>\n",
       "      <th>25%</th>\n",
       "      <td>0.031871</td>\n",
       "      <td>0.020912</td>\n",
       "    </tr>\n",
       "    <tr>\n",
       "      <th>50%</th>\n",
       "      <td>0.035706</td>\n",
       "      <td>0.024625</td>\n",
       "    </tr>\n",
       "    <tr>\n",
       "      <th>75%</th>\n",
       "      <td>0.041991</td>\n",
       "      <td>0.030687</td>\n",
       "    </tr>\n",
       "    <tr>\n",
       "      <th>max</th>\n",
       "      <td>0.061068</td>\n",
       "      <td>0.046140</td>\n",
       "    </tr>\n",
       "  </tbody>\n",
       "</table>\n",
       "</div>"
      ],
      "text/plain": [
       "ur_ideal           600           900\n",
       "count     20736.000000  20736.000000\n",
       "mean          0.037351      0.026132\n",
       "std           0.007272      0.007353\n",
       "min           0.022941      0.011031\n",
       "25%           0.031871      0.020912\n",
       "50%           0.035706      0.024625\n",
       "75%           0.041991      0.030687\n",
       "max           0.061068      0.046140"
      ]
     },
     "execution_count": 84,
     "metadata": {},
     "output_type": "execute_result"
    }
   ],
   "source": [
    "all_data.allmodes.unstack(\"columns\").divided_by_gdp.unstack(\"region\")[\"MAF\"].unstack(\"costtype\")[\"new\"].unstack(\"ur_ideal\").describe()"
   ]
  },
  {
   "cell_type": "markdown",
   "metadata": {},
   "source": [
    "## Preferred scenario"
   ]
  },
  {
   "cell_type": "code",
   "execution_count": 51,
   "metadata": {},
   "outputs": [],
   "source": [
    "best_scenario = all_data_global.reset_index()\n",
    "select = (best_scenario.urt_ideal==30000)&(best_scenario.modal_scenario==1)&(best_scenario.ind_climat==2)&(best_scenario.ind_mitig==2)&(best_scenario.ur_ideal==600)&\\\n",
    "(best_scenario.ind_trans_A==2)&(best_scenario.ind_trans_S==2)&(best_scenario.ind_trans_I==2)&(best_scenario.ind_trans_F==2)&(best_scenario.delay==35)&\\\n",
    "(best_scenario.costs_evolution_road==2)&(best_scenario.costs_evolution_rail==2)&(best_scenario.ind_growth==2)\n",
    "\n",
    "best_scenario = best_scenario.loc[select,:]"
   ]
  },
  {
   "cell_type": "code",
   "execution_count": 52,
   "metadata": {},
   "outputs": [
    {
     "data": {
      "text/html": [
       "<div>\n",
       "<style scoped>\n",
       "    .dataframe tbody tr th:only-of-type {\n",
       "        vertical-align: middle;\n",
       "    }\n",
       "\n",
       "    .dataframe tbody tr th {\n",
       "        vertical-align: top;\n",
       "    }\n",
       "\n",
       "    .dataframe thead th {\n",
       "        text-align: right;\n",
       "    }\n",
       "</style>\n",
       "<table border=\"1\" class=\"dataframe\">\n",
       "  <thead>\n",
       "    <tr style=\"text-align: right;\">\n",
       "      <th>transpmode</th>\n",
       "      <th>costtype</th>\n",
       "      <th>allmodes</th>\n",
       "    </tr>\n",
       "  </thead>\n",
       "  <tbody>\n",
       "    <tr>\n",
       "      <th>45988</th>\n",
       "      <td>maint</td>\n",
       "      <td>0.012640</td>\n",
       "    </tr>\n",
       "    <tr>\n",
       "      <th>45989</th>\n",
       "      <td>new</td>\n",
       "      <td>0.012908</td>\n",
       "    </tr>\n",
       "  </tbody>\n",
       "</table>\n",
       "</div>"
      ],
      "text/plain": [
       "transpmode costtype  allmodes\n",
       "45988         maint  0.012640\n",
       "45989           new  0.012908"
      ]
     },
     "execution_count": 52,
     "metadata": {},
     "output_type": "execute_result"
    }
   ],
   "source": [
    "best_scenario[[\"costtype\",\"allmodes\"]]"
   ]
  },
  {
   "cell_type": "markdown",
   "metadata": {},
   "source": [
    "## preferred scenario by region"
   ]
  },
  {
   "cell_type": "code",
   "execution_count": 55,
   "metadata": {},
   "outputs": [],
   "source": [
    "best_scenario = all_data[\"allmodes\"].unstack(\"columns\")['divided_by_gdp'].reset_index()\n",
    "\n",
    "select = (best_scenario.urt_ideal==30000)&(best_scenario.modal_scenario==1)&(best_scenario.ind_climat==2)&(best_scenario.ind_mitig==2)&(best_scenario.ur_ideal==600)&\\\n",
    "(best_scenario.ind_trans_A==2)&(best_scenario.ind_trans_S==2)&(best_scenario.ind_trans_I==2)&(best_scenario.ind_trans_F==2)&(best_scenario.delay==35)&\\\n",
    "(best_scenario.costs_evolution_road==2)&(best_scenario.costs_evolution_rail==2)&(best_scenario.ind_growth==2)\n",
    "\n",
    "best_scenario = best_scenario.loc[select,:]"
   ]
  },
  {
   "cell_type": "code",
   "execution_count": 56,
   "metadata": {},
   "outputs": [
    {
     "data": {
      "text/html": [
       "<div>\n",
       "<style scoped>\n",
       "    .dataframe tbody tr th:only-of-type {\n",
       "        vertical-align: middle;\n",
       "    }\n",
       "\n",
       "    .dataframe tbody tr th {\n",
       "        vertical-align: top;\n",
       "    }\n",
       "\n",
       "    .dataframe thead th {\n",
       "        text-align: right;\n",
       "    }\n",
       "</style>\n",
       "<table border=\"1\" class=\"dataframe\">\n",
       "  <thead>\n",
       "    <tr style=\"text-align: right;\">\n",
       "      <th>costtype</th>\n",
       "      <th>maint</th>\n",
       "      <th>new</th>\n",
       "    </tr>\n",
       "    <tr>\n",
       "      <th>region</th>\n",
       "      <th></th>\n",
       "      <th></th>\n",
       "    </tr>\n",
       "  </thead>\n",
       "  <tbody>\n",
       "    <tr>\n",
       "      <th>ASIA</th>\n",
       "      <td>1.570369</td>\n",
       "      <td>0.768812</td>\n",
       "    </tr>\n",
       "    <tr>\n",
       "      <th>CIS</th>\n",
       "      <td>1.787916</td>\n",
       "      <td>0.041838</td>\n",
       "    </tr>\n",
       "    <tr>\n",
       "      <th>LAM</th>\n",
       "      <td>0.571919</td>\n",
       "      <td>1.432602</td>\n",
       "    </tr>\n",
       "    <tr>\n",
       "      <th>MAF</th>\n",
       "      <td>0.965223</td>\n",
       "      <td>3.202140</td>\n",
       "    </tr>\n",
       "    <tr>\n",
       "      <th>OCDE</th>\n",
       "      <td>0.945221</td>\n",
       "      <td>0.050970</td>\n",
       "    </tr>\n",
       "  </tbody>\n",
       "</table>\n",
       "</div>"
      ],
      "text/plain": [
       "costtype     maint       new\n",
       "region                      \n",
       "ASIA      1.570369  0.768812\n",
       "CIS       1.787916  0.041838\n",
       "LAM       0.571919  1.432602\n",
       "MAF       0.965223  3.202140\n",
       "OCDE      0.945221  0.050970"
      ]
     },
     "execution_count": 56,
     "metadata": {},
     "output_type": "execute_result"
    }
   ],
   "source": [
    "100*best_scenario.set_index([\"region\",\"costtype\"]).divided_by_gdp.unstack(\"costtype\")"
   ]
  },
  {
   "cell_type": "code",
   "execution_count": null,
   "metadata": {},
   "outputs": [],
   "source": []
  },
  {
   "cell_type": "markdown",
   "metadata": {},
   "source": [
    "## additional analyses on maintenance"
   ]
  },
  {
   "cell_type": "code",
   "execution_count": 70,
   "metadata": {
    "collapsed": true
   },
   "outputs": [],
   "source": [
    "paul = all_data.divided_by_gdp.unstack(\"transpmode\").drop(['rail','hsr'],axis=1)\n",
    "paul = paul.reset_index()\n",
    "#paul = paul.loc[paul.region!=\"OCDE\",:]\n",
    "#paul[\"region\"] = paul.region.replace({\"MAF\":\"MNA+SSA\",\"LAM\":\"LAC\",\"CIS\":\"ECA\",\"ASIA\":\"SAS+EAP\",\"OCDE\":\"OECD\"})\n",
    "\n",
    "paul[\"region\"] = paul.region.replace({\"MAF\":\"Middle East\\nand Africa\",\\\n",
    "                                      \"LAM\":\"Latin America\\nand Caribbean\",\\\n",
    "                                      \"CIS\":\"Former\\nSoviet Union\",\\\n",
    "                                      \"ASIA\":\"Asia\",\\\n",
    "                                      \"OCDE\":\"OECD\"})\n",
    "\n",
    "paul[\"allmodes\"] = 100*paul[\"allmodes\"]"
   ]
  },
  {
   "cell_type": "code",
   "execution_count": 76,
   "metadata": {},
   "outputs": [
    {
     "data": {
      "text/html": [
       "<div>\n",
       "<style>\n",
       "    .dataframe thead tr:only-child th {\n",
       "        text-align: right;\n",
       "    }\n",
       "\n",
       "    .dataframe thead th {\n",
       "        text-align: left;\n",
       "    }\n",
       "\n",
       "    .dataframe tbody tr th {\n",
       "        vertical-align: top;\n",
       "    }\n",
       "</style>\n",
       "<table border=\"1\" class=\"dataframe\">\n",
       "  <thead>\n",
       "    <tr style=\"text-align: right;\">\n",
       "      <th>transpmode</th>\n",
       "      <th>allmodes</th>\n",
       "    </tr>\n",
       "    <tr>\n",
       "      <th>region</th>\n",
       "      <th></th>\n",
       "    </tr>\n",
       "  </thead>\n",
       "  <tbody>\n",
       "    <tr>\n",
       "      <th>Asia</th>\n",
       "      <td>1.286067</td>\n",
       "    </tr>\n",
       "    <tr>\n",
       "      <th>Former\\nSoviet Union</th>\n",
       "      <td>1.518279</td>\n",
       "    </tr>\n",
       "    <tr>\n",
       "      <th>Latin America\\nand Caribbean</th>\n",
       "      <td>0.493271</td>\n",
       "    </tr>\n",
       "    <tr>\n",
       "      <th>Middle East\\nand Africa</th>\n",
       "      <td>0.773341</td>\n",
       "    </tr>\n",
       "    <tr>\n",
       "      <th>OECD</th>\n",
       "      <td>0.859854</td>\n",
       "    </tr>\n",
       "  </tbody>\n",
       "</table>\n",
       "</div>"
      ],
      "text/plain": [
       "transpmode                    allmodes\n",
       "region                                \n",
       "Asia                          1.286067\n",
       "Former\\nSoviet Union          1.518279\n",
       "Latin America\\nand Caribbean  0.493271\n",
       "Middle East\\nand Africa       0.773341\n",
       "OECD                          0.859854"
      ]
     },
     "execution_count": 76,
     "metadata": {},
     "output_type": "execute_result"
    }
   ],
   "source": [
    "paul.loc[paul.costtype==\"maint\",[\"allmodes\",\"region\"]].groupby(\"region\").min()"
   ]
  },
  {
   "cell_type": "code",
   "execution_count": 78,
   "metadata": {},
   "outputs": [
    {
     "data": {
      "text/html": [
       "<div>\n",
       "<style>\n",
       "    .dataframe thead tr:only-child th {\n",
       "        text-align: right;\n",
       "    }\n",
       "\n",
       "    .dataframe thead th {\n",
       "        text-align: left;\n",
       "    }\n",
       "\n",
       "    .dataframe tbody tr th {\n",
       "        vertical-align: top;\n",
       "    }\n",
       "</style>\n",
       "<table border=\"1\" class=\"dataframe\">\n",
       "  <thead>\n",
       "    <tr style=\"text-align: right;\">\n",
       "      <th>transpmode</th>\n",
       "      <th>allmodes</th>\n",
       "    </tr>\n",
       "    <tr>\n",
       "      <th>region</th>\n",
       "      <th></th>\n",
       "    </tr>\n",
       "  </thead>\n",
       "  <tbody>\n",
       "    <tr>\n",
       "      <th>Asia</th>\n",
       "      <td>2.883967</td>\n",
       "    </tr>\n",
       "    <tr>\n",
       "      <th>Former\\nSoviet Union</th>\n",
       "      <td>2.791344</td>\n",
       "    </tr>\n",
       "    <tr>\n",
       "      <th>Latin America\\nand Caribbean</th>\n",
       "      <td>0.887510</td>\n",
       "    </tr>\n",
       "    <tr>\n",
       "      <th>Middle East\\nand Africa</th>\n",
       "      <td>1.394999</td>\n",
       "    </tr>\n",
       "    <tr>\n",
       "      <th>OECD</th>\n",
       "      <td>1.190104</td>\n",
       "    </tr>\n",
       "  </tbody>\n",
       "</table>\n",
       "</div>"
      ],
      "text/plain": [
       "transpmode                    allmodes\n",
       "region                                \n",
       "Asia                          2.883967\n",
       "Former\\nSoviet Union          2.791344\n",
       "Latin America\\nand Caribbean  0.887510\n",
       "Middle East\\nand Africa       1.394999\n",
       "OECD                          1.190104"
      ]
     },
     "execution_count": 78,
     "metadata": {},
     "output_type": "execute_result"
    }
   ],
   "source": [
    "paul.loc[paul.costtype==\"maint\",[\"allmodes\",\"region\"]].groupby(\"region\").max()"
   ]
  },
  {
   "cell_type": "code",
   "execution_count": 72,
   "metadata": {},
   "outputs": [
    {
     "data": {
      "image/png": "[encoded data removed]",
      "text/plain": [
       "<matplotlib.figure.Figure at 0x201017f7828>"
      ]
     },
     "metadata": {},
     "output_type": "display_data"
    }
   ],
   "source": [
    "fig2, ax2 = plt.subplots()\n",
    "sns.boxplot(x=\"region\",y=\"allmodes\",hue=\"costtype\",data=paul.replace({\"maint\":\"maintenance\",\"new\":\"capital investments\"}),ax=ax2)\n",
    "fig2.set_size_inches(10, 7)\n",
    "ax2.set_xlabel(\"\")\n",
    "ax2.set_ylabel(\"Average annual costs 2015-2030 (% GDP)\")\n",
    "plt.legend(title=\"\",bbox_to_anchor=(1.005, 0.6))\n",
    "plt.savefig(\"imaclim_per_region_share_gdp_k_maint.png\",ddpi=300,bbox_inches=\"tight\")\n",
    "plt.savefig(\"imaclim_per_region_share_gdp_k_maint.pdf\")"
   ]
  },
  {
   "cell_type": "code",
   "execution_count": null,
   "metadata": {
    "collapsed": true
   },
   "outputs": [],
   "source": []
  }
 ],
 "metadata": {
  "kernelspec": {
   "display_name": "Python (Julie1)",
   "language": "python",
   "name": "julie1"
  },
  "language_info": {
   "codemirror_mode": {
    "name": "ipython",
    "version": 3
   },
   "file_extension": ".py",
   "mimetype": "text/x-python",
   "name": "python",
   "nbconvert_exporter": "python",
   "pygments_lexer": "ipython3",
   "version": "3.6.6"
  },
  "toc": {
   "colors": {
    "hover_highlight": "#DAA520",
    "navigate_num": "#000000",
    "navigate_text": "#333333",
    "running_highlight": "#FF0000",
    "selected_highlight": "#FFD700",
    "sidebar_border": "#EEEEEE",
    "wrapper_background": "#FFFFFF"
   },
   "moveMenuLeft": true,
   "nav_menu": {
    "height": "12px",
    "width": "252px"
   },
   "navigate_menu": true,
   "number_sections": true,
   "sideBar": true,
   "threshold": 4,
   "toc_cell": false,
   "toc_section_display": "block",
   "toc_window_display": false,
   "widenNotebook": false
  }
 },
 "nbformat": 4,
 "nbformat_minor": 2
}
