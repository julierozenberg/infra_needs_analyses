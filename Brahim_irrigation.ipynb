{
 "cells": [
  {
   "cell_type": "code",
   "execution_count": 23,
   "metadata": {},
   "outputs": [],
   "source": [
    "import pandas as pd\n",
    "import numpy as np\n",
    "import matplotlib.pyplot as plt\n",
    "#import prim\n",
    "import seaborn as sns\n",
    "from sklearn import mixture\n",
    "import os\n",
    "#from clustering_and_prim_tools import *"
   ]
  },
  {
   "cell_type": "code",
   "execution_count": 24,
   "metadata": {},
   "outputs": [],
   "source": [
    "%matplotlib inline"
   ]
  },
  {
   "cell_type": "code",
   "execution_count": 25,
   "metadata": {},
   "outputs": [],
   "source": [
    "sns.set_context(\"poster\",rc={\"font.size\": 28})\n",
    "sns.set_style(\"whitegrid\")"
   ]
  },
  {
   "cell_type": "code",
   "execution_count": 26,
   "metadata": {},
   "outputs": [],
   "source": [
    "invfolder = \"C:\\\\Users\\\\WB451855\\OneDrive - WBG\\\\!infra_needs_data\\\\water_iiasa_output_data\\\\\""
   ]
  },
  {
   "cell_type": "code",
   "execution_count": 27,
   "metadata": {},
   "outputs": [],
   "source": [
    "data = pd.read_excel(invfolder+\"data_WB_Irrigation_11june18.xlsx\",sheet_name=\"data_WB_Irrigation_11june18\")"
   ]
  },
  {
   "cell_type": "markdown",
   "metadata": {},
   "source": [
    "## Test the data"
   ]
  },
  {
   "cell_type": "code",
   "execution_count": 28,
   "metadata": {},
   "outputs": [
    {
     "data": {
      "text/plain": [
       "Index(['Region', 'Var', 'Unit', 'Item', 'Macro', 'Sensitivity',\n",
       "       'InvestmentType', 'Year', 'Val'],\n",
       "      dtype='object')"
      ]
     },
     "execution_count": 28,
     "metadata": {},
     "output_type": "execute_result"
    }
   ],
   "source": [
    "data.columns"
   ]
  },
  {
   "cell_type": "code",
   "execution_count": 29,
   "metadata": {},
   "outputs": [],
   "source": [
    "data = data.reset_index().set_index(['Region', 'Var', 'Unit', 'Item', 'Macro', 'Sensitivity','InvestmentType', 'Year'])"
   ]
  },
  {
   "cell_type": "code",
   "execution_count": 30,
   "metadata": {},
   "outputs": [
    {
     "data": {
      "text/plain": [
       "MultiIndex(levels=[['index', 'Val'], ['AREA', 'ARIR', 'ARRF', 'ASYS2', 'CALO', 'CCSYS', 'CC_D06', 'CONS', 'CSYS', 'EMIS', 'GDPC', 'GDPC_D06', 'GDPD', 'GDPD_D06', 'GDPT', 'LAND', 'NETT', 'NTMS2', 'PROD', 'WDEM', 'WEFF', 'WSECT', 'XPRI', 'YILM']],\n",
       "           labels=[[0, 0, 0, 0, 0, 0, 0, 0, 0, 0, 0, 0, 0, 0, 0, 0, 0, 0, 0, 0, 0, 0, 0, 0, 1, 1, 1, 1, 1, 1, 1, 1, 1, 1, 1, 1, 1, 1, 1, 1, 1, 1, 1, 1, 1, 1, 1, 1], [0, 1, 2, 3, 4, 5, 6, 7, 8, 9, 10, 11, 12, 13, 14, 15, 16, 17, 18, 19, 20, 21, 22, 23, 0, 1, 2, 3, 4, 5, 6, 7, 8, 9, 10, 11, 12, 13, 14, 15, 16, 17, 18, 19, 20, 21, 22, 23]],\n",
       "           names=[None, 'Var'])"
      ]
     },
     "execution_count": 30,
     "metadata": {},
     "output_type": "execute_result"
    }
   ],
   "source": [
    "data.unstack(\"Var\").columns"
   ]
  },
  {
   "cell_type": "code",
   "execution_count": 31,
   "metadata": {},
   "outputs": [
    {
     "data": {
      "text/plain": [
       "MultiIndex(levels=[['index', 'Val'], ['ABNNAT', 'AGR', 'ALL_TOTAL', 'ALMILK', 'BARL', 'BEAD', 'BVMEAT', 'CASS', 'CER', 'CH4', 'CHKP', 'CORN', 'COTT', 'CRP', 'CRPLND', 'DEPRECIATION', 'DOMESTIC', 'EFFICIENCY', 'EXPANSION', 'FOREST', 'GNUT', 'GRSLND', 'INDUSTRIAL', 'IR_DRIP', 'IR_SPRINK', 'IR_SURFACE', 'IR_TOTAL', 'LSP', 'LUC', 'MILL', 'N2O', 'NATLND', 'OPAL', 'PGMEAT', 'PLTFOR', 'POTA', 'PTEGGS', 'PTMEAT', 'RAPE', 'RF_HIGH', 'RF_LOW', 'RF_SUBST', 'RF_TOTAL', 'RICE', 'SGMEAT', 'SHARE_AG_SWATRISK', 'SHARE_AG_SWUNSUSEFR', 'SHARE_EFRATRISK', 'SOYA', 'SRGH', 'SUGC', 'SUNF', 'SWPO', 'TOT', 'UPGRADE', 'WHEA']],\n",
       "           labels=[[0, 0, 0, 0, 0, 0, 0, 0, 0, 0, 0, 0, 0, 0, 0, 0, 0, 0, 0, 0, 0, 0, 0, 0, 0, 0, 0, 0, 0, 0, 0, 0, 0, 0, 0, 0, 0, 0, 0, 0, 0, 0, 0, 0, 0, 0, 0, 0, 0, 0, 0, 0, 0, 0, 0, 0, 1, 1, 1, 1, 1, 1, 1, 1, 1, 1, 1, 1, 1, 1, 1, 1, 1, 1, 1, 1, 1, 1, 1, 1, 1, 1, 1, 1, 1, 1, 1, 1, 1, 1, 1, 1, 1, 1, 1, 1, 1, 1, 1, 1, 1, 1, 1, 1, 1, 1, 1, 1, 1, 1, 1, 1], [0, 1, 2, 3, 4, 5, 6, 7, 8, 9, 10, 11, 12, 13, 14, 15, 16, 17, 18, 19, 20, 21, 22, 23, 24, 25, 26, 27, 28, 29, 30, 31, 32, 33, 34, 35, 36, 37, 38, 39, 40, 41, 42, 43, 44, 45, 46, 47, 48, 49, 50, 51, 52, 53, 54, 55, 0, 1, 2, 3, 4, 5, 6, 7, 8, 9, 10, 11, 12, 13, 14, 15, 16, 17, 18, 19, 20, 21, 22, 23, 24, 25, 26, 27, 28, 29, 30, 31, 32, 33, 34, 35, 36, 37, 38, 39, 40, 41, 42, 43, 44, 45, 46, 47, 48, 49, 50, 51, 52, 53, 54, 55]],\n",
       "           names=[None, 'Item'])"
      ]
     },
     "execution_count": 31,
     "metadata": {},
     "output_type": "execute_result"
    }
   ],
   "source": [
    "data.unstack(\"Item\").columns"
   ]
  },
  {
   "cell_type": "code",
   "execution_count": 32,
   "metadata": {},
   "outputs": [
    {
     "data": {
      "text/plain": [
       "array(['Baseline', 'Region AFR MaxInvest', 'Region ECA MaxInvest',\n",
       "       'Region EAP MaxInvest', 'Region LCR MaxInvest',\n",
       "       'Region MNA MaxInvest', 'Region SAR MaxInvest', 'RCP2p6_GDFL',\n",
       "       'RCP2p6_HadGEM', 'RCP2p6_IPSL', 'RCP2p6_MIROC', 'RCP2p6_NOR',\n",
       "       'RCP8p5_GDFL', 'RCP8p5_HadGEM', 'RCP8p5_HadGEM_noCO2',\n",
       "       'RCP8p5_IPSL', 'RCP8p5_MIROC', 'RCP8p5_NOR', 'HealthyDiet',\n",
       "       'HealthySustDiet', 'TradeOpen', 'TradeRestr', 'WatrEff_High',\n",
       "       'WatrEff_Low', 'Combined_High', 'Combined_High2', 'Combined_Low',\n",
       "       'Combined_Low2'], dtype=object)"
      ]
     },
     "execution_count": 32,
     "metadata": {},
     "output_type": "execute_result"
    }
   ],
   "source": [
    "data.reset_index().Sensitivity.unique()"
   ]
  },
  {
   "cell_type": "code",
   "execution_count": 33,
   "metadata": {},
   "outputs": [
    {
     "data": {
      "text/plain": [
       "array(['1000 Ha', '1000 t', 'million USD 2005', 'Percent', 'fm t/ha',\n",
       "       'USD 2000 per ton', 'million USD 2000', 'Bn USD 2005', 'kg/m3',\n",
       "       'percent2', '1000 t dm', 'kcal/cap/d', 'Mt CO2eq/yr', 'km3',\n",
       "       'Percent2', 'dm t/ha'], dtype=object)"
      ]
     },
     "execution_count": 33,
     "metadata": {},
     "output_type": "execute_result"
    }
   ],
   "source": [
    "data.reset_index().Unit.unique()"
   ]
  },
  {
   "cell_type": "code",
   "execution_count": 34,
   "metadata": {},
   "outputs": [
    {
     "data": {
      "text/plain": [
       "array([2030, 2010, 2050, 2100, 2080, 2060, 2040, 2090, 2020, 2070],\n",
       "      dtype=int64)"
      ]
     },
     "execution_count": 34,
     "metadata": {},
     "output_type": "execute_result"
    }
   ],
   "source": [
    "data.reset_index().Year.unique()"
   ]
  },
  {
   "cell_type": "markdown",
   "metadata": {},
   "source": [
    "### there are two different \"percent2\" values so makes sure there is only one"
   ]
  },
  {
   "cell_type": "code",
   "execution_count": 35,
   "metadata": {},
   "outputs": [],
   "source": [
    "data = data.reset_index(\"Unit\")\n",
    "data['Unit'] = data.Unit.replace({\"Percent2\":\"percent2\"})\n",
    "data = data.set_index(\"Unit\",append=True)"
   ]
  },
  {
   "cell_type": "markdown",
   "metadata": {},
   "source": [
    "## Costs for developing world only (undiscounted)"
   ]
  },
  {
   "cell_type": "markdown",
   "metadata": {},
   "source": [
    "Drops high income countries"
   ]
  },
  {
   "cell_type": "code",
   "execution_count": 36,
   "metadata": {},
   "outputs": [],
   "source": [
    "costs_dev_world = data.unstack(\"Var\")[\"Val\"][\"CSYS\"].unstack(\"Unit\")[\"million USD 2005\"].dropna().unstack(\"Region\").drop([\"WLD\",\"EC\",\"NAM\",\"APD\"],axis=1).stack()"
   ]
  },
  {
   "cell_type": "markdown",
   "metadata": {},
   "source": [
    "Sums all developing countries"
   ]
  },
  {
   "cell_type": "code",
   "execution_count": 37,
   "metadata": {},
   "outputs": [],
   "source": [
    "costs_dev_world_tot = costs_dev_world.sum(level=['Item', 'Macro', 'Sensitivity','InvestmentType', 'Year'])"
   ]
  },
  {
   "cell_type": "markdown",
   "metadata": {},
   "source": [
    "### GDP per decade"
   ]
  },
  {
   "cell_type": "code",
   "execution_count": 38,
   "metadata": {},
   "outputs": [],
   "source": [
    "GDP_reg = data.unstack(\"Var\")[\"Val\"][\"GDPD\"].dropna().unstack(\"Region\").drop([\"WLD\",\"EC\",\"NAM\",\"APD\"],axis=1).stack().unstack(\"Item\")[\"TOT\"]"
   ]
  },
  {
   "cell_type": "code",
   "execution_count": 39,
   "metadata": {},
   "outputs": [],
   "source": [
    "#transforms billion in million for division with investments\n",
    "GDP_reg_tot = 1000*GDP_reg.sum(level=['Macro', 'Sensitivity','InvestmentType', 'Year'])"
   ]
  },
  {
   "cell_type": "markdown",
   "metadata": {},
   "source": [
    "### costs as % of GDP for developing world only"
   ]
  },
  {
   "cell_type": "code",
   "execution_count": 40,
   "metadata": {},
   "outputs": [],
   "source": [
    "costs_pc_dev_world = costs_dev_world_tot.unstack(\"Item\").div(GDP_reg_tot,axis=0).drop([2010,2040,2050,2060,2070,2080,2090,2100],level=\"Year\").mean(level=['Macro', 'Sensitivity','InvestmentType'])"
   ]
  },
  {
   "cell_type": "markdown",
   "metadata": {},
   "source": [
    "We have to drop the regional scenarios (scenarios in which only one region invests in irrigation and not the others)\n",
    "they are called 'Region AFR MaxInvest',\\\n",
    "       'Region EAP MaxInvest', 'Region ECA MaxInvest',\\\n",
    "       'Region LCR MaxInvest', 'Region MNA MaxInvest',\\\n",
    "       'Region SAR MaxInvest'"
   ]
  },
  {
   "cell_type": "markdown",
   "metadata": {},
   "source": [
    "Min and max of total investment costs per investment strategy"
   ]
  },
  {
   "cell_type": "code",
   "execution_count": 41,
   "metadata": {},
   "outputs": [
    {
     "data": {
      "text/plain": [
       "InvestmentType\n",
       "Invest        0.117503\n",
       "MaxInvest     0.155257\n",
       "ZeroInvest    0.044647\n",
       "dtype: float64"
      ]
     },
     "execution_count": 41,
     "metadata": {},
     "output_type": "execute_result"
    }
   ],
   "source": [
    "100*costs_pc_dev_world.drop([\"TOT\"],axis=1).sum(axis=1).drop(['Region AFR MaxInvest',\\\n",
    "       'Region EAP MaxInvest', 'Region ECA MaxInvest',\\\n",
    "       'Region LCR MaxInvest', 'Region MNA MaxInvest',\\\n",
    "       'Region SAR MaxInvest'],level=\"Sensitivity\").min(level=\"InvestmentType\")"
   ]
  },
  {
   "cell_type": "code",
   "execution_count": 42,
   "metadata": {},
   "outputs": [
    {
     "data": {
      "text/plain": [
       "InvestmentType\n",
       "Invest        0.147245\n",
       "MaxInvest     0.245846\n",
       "ZeroInvest    0.046367\n",
       "dtype: float64"
      ]
     },
     "execution_count": 42,
     "metadata": {},
     "output_type": "execute_result"
    }
   ],
   "source": [
    "100*costs_pc_dev_world.drop([\"TOT\"],axis=1).sum(axis=1).drop(['Region AFR MaxInvest',\\\n",
    "       'Region EAP MaxInvest', 'Region ECA MaxInvest',\\\n",
    "       'Region LCR MaxInvest', 'Region MNA MaxInvest',\\\n",
    "       'Region SAR MaxInvest'],level=\"Sensitivity\").max(level=\"InvestmentType\")"
   ]
  },
  {
   "cell_type": "code",
   "execution_count": 43,
   "metadata": {},
   "outputs": [
    {
     "data": {
      "text/plain": [
       "count    7800.000000\n",
       "mean        0.128599\n",
       "std         0.071710\n",
       "min         0.044647\n",
       "25%         0.045669\n",
       "50%         0.130744\n",
       "75%         0.210823\n",
       "max         0.245846\n",
       "dtype: float64"
      ]
     },
     "execution_count": 43,
     "metadata": {},
     "output_type": "execute_result"
    }
   ],
   "source": [
    "100*costs_pc_dev_world.drop([\"TOT\"],axis=1).sum(axis=1).describe()"
   ]
  },
  {
   "cell_type": "code",
   "execution_count": 44,
   "metadata": {},
   "outputs": [
    {
     "data": {
      "text/plain": [
       "count    7800.000000\n",
       "mean        0.050122\n",
       "std         0.003997\n",
       "min         0.044548\n",
       "25%         0.045669\n",
       "50%         0.050599\n",
       "75%         0.054037\n",
       "max         0.057221\n",
       "Name: DEPRECIATION, dtype: float64"
      ]
     },
     "execution_count": 44,
     "metadata": {},
     "output_type": "execute_result"
    }
   ],
   "source": [
    "100*costs_pc_dev_world['DEPRECIATION'].describe()"
   ]
  },
  {
   "cell_type": "markdown",
   "metadata": {},
   "source": [
    "## Costs as % of GDP per region"
   ]
  },
  {
   "cell_type": "code",
   "execution_count": 45,
   "metadata": {},
   "outputs": [],
   "source": [
    "costs_region_over_gdp = data.unstack(\"Var\")[\"Val\"][\"CSYS\"].unstack(\"Region\").drop([\"WLD\",\"EC\",\"NAM\",\"APD\"],axis=1).stack().unstack(\"Unit\")[\"percent2\"].dropna()"
   ]
  },
  {
   "cell_type": "code",
   "execution_count": 46,
   "metadata": {},
   "outputs": [
    {
     "data": {
      "text/plain": [
       "InvestmentType  Region\n",
       "Invest          AFR       0.36\n",
       "                EAP       0.13\n",
       "                ECA       0.04\n",
       "                LCR       0.08\n",
       "                MNA       0.10\n",
       "                SAR       0.27\n",
       "MaxInvest       AFR       0.68\n",
       "                EAP       0.20\n",
       "                ECA       0.17\n",
       "                LCR       0.19\n",
       "                MNA       0.13\n",
       "                SAR       0.37\n",
       "ZeroInvest      AFR       0.06\n",
       "                EAP       0.05\n",
       "                ECA       0.02\n",
       "                LCR       0.02\n",
       "                MNA       0.05\n",
       "                SAR       0.09\n",
       "Name: SSP2, dtype: float64"
      ]
     },
     "execution_count": 46,
     "metadata": {},
     "output_type": "execute_result"
    }
   ],
   "source": [
    "100*round(costs_region_over_gdp.unstack(\"Year\")[2030].unstack(\"Item\")[\"TOT\"].unstack(\"Sensitivity\")[\"Baseline\"].unstack(\"Macro\")[\"SSP2\"],4)"
   ]
  },
  {
   "cell_type": "code",
   "execution_count": 48,
   "metadata": {},
   "outputs": [
    {
     "data": {
      "text/plain": [
       "Region\n",
       "AFR    0.004551\n",
       "EAP    0.001569\n",
       "ECA    0.001018\n",
       "LCR    0.001161\n",
       "MNA    0.001116\n",
       "SAR    0.002980\n",
       "Name: TOT, dtype: float64"
      ]
     },
     "execution_count": 48,
     "metadata": {},
     "output_type": "execute_result"
    }
   ],
   "source": [
    "costs_region_over_gdp.unstack(\"Year\")[2030].unstack(\"Item\")[\"TOT\"].drop(\"ZeroInvest\",level=\"InvestmentType\").mean(level=\"Region\")"
   ]
  },
  {
   "cell_type": "code",
   "execution_count": 49,
   "metadata": {},
   "outputs": [
    {
     "data": {
      "text/plain": [
       "Region\n",
       "AFR    0.317779\n",
       "EAP    0.108119\n",
       "ECA    0.030826\n",
       "LCR    0.053175\n",
       "MNA    0.078854\n",
       "SAR    0.240686\n",
       "Name: TOT, dtype: float64"
      ]
     },
     "execution_count": 49,
     "metadata": {},
     "output_type": "execute_result"
    }
   ],
   "source": [
    "100*costs_region_over_gdp.unstack(\"Year\")[2030].unstack(\"Item\")[\"TOT\"].drop(\"ZeroInvest\",level=\"InvestmentType\").drop(['Region AFR MaxInvest',\\\n",
    "       'Region EAP MaxInvest', 'Region ECA MaxInvest',\\\n",
    "       'Region LCR MaxInvest', 'Region MNA MaxInvest',\\\n",
    "       'Region SAR MaxInvest'],level=\"Sensitivity\").min(level=\"Region\")"
   ]
  },
  {
   "cell_type": "code",
   "execution_count": 50,
   "metadata": {},
   "outputs": [
    {
     "data": {
      "text/html": [
       "<div>\n",
       "<style scoped>\n",
       "    .dataframe tbody tr th:only-of-type {\n",
       "        vertical-align: middle;\n",
       "    }\n",
       "\n",
       "    .dataframe tbody tr th {\n",
       "        vertical-align: top;\n",
       "    }\n",
       "\n",
       "    .dataframe thead th {\n",
       "        text-align: right;\n",
       "    }\n",
       "</style>\n",
       "<table border=\"1\" class=\"dataframe\">\n",
       "  <thead>\n",
       "    <tr style=\"text-align: right;\">\n",
       "      <th></th>\n",
       "      <th>Region</th>\n",
       "      <th>TOT</th>\n",
       "    </tr>\n",
       "  </thead>\n",
       "  <tbody>\n",
       "    <tr>\n",
       "      <th>0</th>\n",
       "      <td>AFRAFRAFRAFRAFRAFRAFRAFRAFRAFRAFRAFRAFRAFRAFRA...</td>\n",
       "      <td>0.317779</td>\n",
       "    </tr>\n",
       "    <tr>\n",
       "      <th>1</th>\n",
       "      <td>EAPEAPEAPEAPEAPEAPEAPEAPEAPEAPEAPEAPEAPEAPEAPE...</td>\n",
       "      <td>0.108119</td>\n",
       "    </tr>\n",
       "    <tr>\n",
       "      <th>2</th>\n",
       "      <td>ECAECAECAECAECAECAECAECAECAECAECAECAECAECAECAE...</td>\n",
       "      <td>0.030826</td>\n",
       "    </tr>\n",
       "    <tr>\n",
       "      <th>3</th>\n",
       "      <td>LCRLCRLCRLCRLCRLCRLCRLCRLCRLCRLCRLCRLCRLCRLCRL...</td>\n",
       "      <td>0.053175</td>\n",
       "    </tr>\n",
       "    <tr>\n",
       "      <th>4</th>\n",
       "      <td>MNAMNAMNAMNAMNAMNAMNAMNAMNAMNAMNAMNAMNAMNAMNAM...</td>\n",
       "      <td>0.078854</td>\n",
       "    </tr>\n",
       "    <tr>\n",
       "      <th>5</th>\n",
       "      <td>SARSARSARSARSARSARSARSARSARSARSARSARSARSARSARS...</td>\n",
       "      <td>0.240686</td>\n",
       "    </tr>\n",
       "  </tbody>\n",
       "</table>\n",
       "</div>"
      ],
      "text/plain": [
       "                                              Region       TOT\n",
       "0  AFRAFRAFRAFRAFRAFRAFRAFRAFRAFRAFRAFRAFRAFRAFRA...  0.317779\n",
       "1  EAPEAPEAPEAPEAPEAPEAPEAPEAPEAPEAPEAPEAPEAPEAPE...  0.108119\n",
       "2  ECAECAECAECAECAECAECAECAECAECAECAECAECAECAECAE...  0.030826\n",
       "3  LCRLCRLCRLCRLCRLCRLCRLCRLCRLCRLCRLCRLCRLCRLCRL...  0.053175\n",
       "4  MNAMNAMNAMNAMNAMNAMNAMNAMNAMNAMNAMNAMNAMNAMNAM...  0.078854\n",
       "5  SARSARSARSARSARSARSARSARSARSARSARSARSARSARSARS...  0.240686"
      ]
     },
     "execution_count": 50,
     "metadata": {},
     "output_type": "execute_result"
    }
   ],
   "source": [
    "test = 100*costs_region_over_gdp.unstack(\"Year\")[2030].unstack(\"Item\")[\"TOT\"]\n"
   ]
  },
  {
   "cell_type": "code",
   "execution_count": 54,
   "metadata": {},
   "outputs": [
    {
     "data": {
      "text/plain": [
       "Region\n",
       "AFR    0.719721\n",
       "EAP    0.228879\n",
       "ECA    0.230015\n",
       "LCR    0.218179\n",
       "MNA    0.159234\n",
       "SAR    0.435408\n",
       "Name: TOT, dtype: float64"
      ]
     },
     "execution_count": 54,
     "metadata": {},
     "output_type": "execute_result"
    }
   ],
   "source": [
    "100*costs_region_over_gdp.unstack(\"Year\")[2030].unstack(\"Item\")[\"TOT\"].drop(\"ZeroInvest\",level=\"InvestmentType\").drop(['Region AFR MaxInvest',\\\n",
    "       'Region EAP MaxInvest', 'Region ECA MaxInvest',\\\n",
    "       'Region LCR MaxInvest', 'Region MNA MaxInvest',\\\n",
    "       'Region SAR MaxInvest'],level=\"Sensitivity\").max(level=\"Region\")"
   ]
  },
  {
   "cell_type": "markdown",
   "metadata": {},
   "source": [
    "## graphs"
   ]
  },
  {
   "cell_type": "code",
   "execution_count": 57,
   "metadata": {},
   "outputs": [
    {
     "data": {
      "image/png": "[encoded data removed]",
      "text/plain": [
       "<matplotlib.figure.Figure at 0x21fea72b9b0>"
      ]
     },
     "metadata": {},
     "output_type": "display_data"
    }
   ],
   "source": [
    "toplot = costs_pc_dev_world.drop(['Region AFR MaxInvest',\\\n",
    "       'Region EAP MaxInvest', 'Region ECA MaxInvest',\\\n",
    "       'Region LCR MaxInvest', 'Region MNA MaxInvest',\\\n",
    "       'Region SAR MaxInvest'],level=\"Sensitivity\").drop(\"ZeroInvest\",level=\"InvestmentType\")\n",
    "toplot = toplot.stack().reset_index().rename(columns={0:\"pc_GDP\"})\n",
    "\n",
    "toplot['pc_GDP'] = 100*toplot['pc_GDP']\n",
    "\n",
    "toplot[\"Item\"] = toplot.Item.str.title()\n",
    "toplot[\"Item\"] = toplot.Item.replace({\"Depreciation\":\"Replacement of\\nexisting capital\",\"Tot\":\"ZTotal\",\"Expansion\":\"New capital\", \"Efficiency\":\"Efficiency\\nimprovements\"})\n",
    "toplot = toplot.set_index(\"Item\").sort_index(level=\"Item\")\n",
    "toplot = toplot.reset_index()\n",
    "toplot[\"Item\"] = toplot.Item.replace({\"ZTotal\":\"Total\"})\n",
    "\n",
    "toplot[\"InvestmentType\"] = toplot[\"InvestmentType\"].replace({\"Invest\":\"Moderate public support\",\"MaxInvest\":\"High public support\"})\n",
    "\n",
    "g = sns.factorplot(x='Item',y=\"pc_GDP\", hue='InvestmentType',data=toplot, kind=\"point\",\\\n",
    "                   dodge=True, size=6, aspect=1.7,\\\n",
    "                  legend=False,join=False, ci=\"sd\")\n",
    "\n",
    "g.set_axis_labels(\"\", \"Average annual cost 2010-2030\\n(percent GDP)\")\n",
    "g.add_legend(title=\"\",bbox_to_anchor=(0.55, 0.75), borderaxespad=0.)\n",
    "#plt.xticks(rotation=30)\n",
    "\n",
    "plt.savefig(\"irrigation_all_costs_pcGDP.png\",ddpi=300,bbox_inches=\"tight\")\n",
    "plt.savefig(\"irrigation_all_costs_pcGDP.pdf\")"
   ]
  },
  {
   "cell_type": "markdown",
   "metadata": {},
   "source": [
    "## Preferred scenario"
   ]
  },
  {
   "cell_type": "code",
   "execution_count": 62,
   "metadata": {
    "collapsed": true
   },
   "outputs": [],
   "source": [
    "best_scenario = costs_pc_dev_world.reset_index()\n",
    "\n",
    "select = (best_scenario.Macro==\"SSP2\")&(best_scenario.Sensitivity==\"Baseline\")&(best_scenario.InvestmentType==\"Invest\")\n",
    "\n",
    "best_scenario = best_scenario.loc[select,:]"
   ]
  },
  {
   "cell_type": "code",
   "execution_count": 63,
   "metadata": {},
   "outputs": [
    {
     "data": {
      "text/html": [
       "<div>\n",
       "<style>\n",
       "    .dataframe thead tr:only-child th {\n",
       "        text-align: right;\n",
       "    }\n",
       "\n",
       "    .dataframe thead th {\n",
       "        text-align: left;\n",
       "    }\n",
       "\n",
       "    .dataframe tbody tr th {\n",
       "        vertical-align: top;\n",
       "    }\n",
       "</style>\n",
       "<table border=\"1\" class=\"dataframe\">\n",
       "  <thead>\n",
       "    <tr style=\"text-align: right;\">\n",
       "      <th>Item</th>\n",
       "      <th>Macro</th>\n",
       "      <th>Sensitivity</th>\n",
       "      <th>InvestmentType</th>\n",
       "      <th>DEPRECIATION</th>\n",
       "      <th>EFFICIENCY</th>\n",
       "      <th>EXPANSION</th>\n",
       "      <th>TOT</th>\n",
       "      <th>UPGRADE</th>\n",
       "    </tr>\n",
       "  </thead>\n",
       "  <tbody>\n",
       "    <tr>\n",
       "      <th>9</th>\n",
       "      <td>SSP2</td>\n",
       "      <td>Baseline</td>\n",
       "      <td>Invest</td>\n",
       "      <td>0.00051</td>\n",
       "      <td>5.839602e-08</td>\n",
       "      <td>0.000807</td>\n",
       "      <td>0.001325</td>\n",
       "      <td>0.000008</td>\n",
       "    </tr>\n",
       "  </tbody>\n",
       "</table>\n",
       "</div>"
      ],
      "text/plain": [
       "Item Macro Sensitivity InvestmentType  DEPRECIATION    EFFICIENCY  EXPANSION  \\\n",
       "9     SSP2    Baseline         Invest       0.00051  5.839602e-08   0.000807   \n",
       "\n",
       "Item       TOT   UPGRADE  \n",
       "9     0.001325  0.000008  "
      ]
     },
     "execution_count": 63,
     "metadata": {},
     "output_type": "execute_result"
    }
   ],
   "source": [
    "best_scenario"
   ]
  },
  {
   "cell_type": "code",
   "execution_count": 65,
   "metadata": {},
   "outputs": [
    {
     "data": {
      "text/html": [
       "<div>\n",
       "<style>\n",
       "    .dataframe thead tr:only-child th {\n",
       "        text-align: right;\n",
       "    }\n",
       "\n",
       "    .dataframe thead th {\n",
       "        text-align: left;\n",
       "    }\n",
       "\n",
       "    .dataframe tbody tr th {\n",
       "        vertical-align: top;\n",
       "    }\n",
       "</style>\n",
       "<table border=\"1\" class=\"dataframe\">\n",
       "  <thead>\n",
       "    <tr style=\"text-align: right;\">\n",
       "      <th>InvestmentType</th>\n",
       "      <th>Invest</th>\n",
       "      <th>MaxInvest</th>\n",
       "      <th>ZeroInvest</th>\n",
       "    </tr>\n",
       "  </thead>\n",
       "  <tbody>\n",
       "    <tr>\n",
       "      <th>count</th>\n",
       "      <td>24.000000</td>\n",
       "      <td>30.000000</td>\n",
       "      <td>24.000000</td>\n",
       "    </tr>\n",
       "    <tr>\n",
       "      <th>mean</th>\n",
       "      <td>0.001330</td>\n",
       "      <td>0.001917</td>\n",
       "      <td>0.000453</td>\n",
       "    </tr>\n",
       "    <tr>\n",
       "      <th>std</th>\n",
       "      <td>0.000074</td>\n",
       "      <td>0.000612</td>\n",
       "      <td>0.000004</td>\n",
       "    </tr>\n",
       "    <tr>\n",
       "      <th>min</th>\n",
       "      <td>0.001175</td>\n",
       "      <td>0.000548</td>\n",
       "      <td>0.000446</td>\n",
       "    </tr>\n",
       "    <tr>\n",
       "      <th>25%</th>\n",
       "      <td>0.001278</td>\n",
       "      <td>0.002015</td>\n",
       "      <td>0.000451</td>\n",
       "    </tr>\n",
       "    <tr>\n",
       "      <th>50%</th>\n",
       "      <td>0.001326</td>\n",
       "      <td>0.002174</td>\n",
       "      <td>0.000453</td>\n",
       "    </tr>\n",
       "    <tr>\n",
       "      <th>75%</th>\n",
       "      <td>0.001393</td>\n",
       "      <td>0.002259</td>\n",
       "      <td>0.000456</td>\n",
       "    </tr>\n",
       "    <tr>\n",
       "      <th>max</th>\n",
       "      <td>0.001472</td>\n",
       "      <td>0.002458</td>\n",
       "      <td>0.000464</td>\n",
       "    </tr>\n",
       "  </tbody>\n",
       "</table>\n",
       "</div>"
      ],
      "text/plain": [
       "InvestmentType     Invest  MaxInvest  ZeroInvest\n",
       "count           24.000000  30.000000   24.000000\n",
       "mean             0.001330   0.001917    0.000453\n",
       "std              0.000074   0.000612    0.000004\n",
       "min              0.001175   0.000548    0.000446\n",
       "25%              0.001278   0.002015    0.000451\n",
       "50%              0.001326   0.002174    0.000453\n",
       "75%              0.001393   0.002259    0.000456\n",
       "max              0.001472   0.002458    0.000464"
      ]
     },
     "execution_count": 65,
     "metadata": {},
     "output_type": "execute_result"
    }
   ],
   "source": [
    "costs_pc_dev_world.TOT.unstack(\"InvestmentType\").describe()"
   ]
  },
  {
   "cell_type": "code",
   "execution_count": 77,
   "metadata": {},
   "outputs": [
    {
     "data": {
      "text/plain": [
       "count    24.000000\n",
       "mean      0.001330\n",
       "std       0.000074\n",
       "min       0.001175\n",
       "25%       0.001278\n",
       "50%       0.001326\n",
       "75%       0.001393\n",
       "max       0.001472\n",
       "Name: TOT, dtype: float64"
      ]
     },
     "execution_count": 77,
     "metadata": {},
     "output_type": "execute_result"
    }
   ],
   "source": [
    "best2 = costs_pc_dev_world.reset_index()\n",
    "best2.loc[(best2.InvestmentType==\"Invest\"),\"TOT\"].describe()"
   ]
  },
  {
   "cell_type": "markdown",
   "metadata": {},
   "source": [
    "## preferred scenario disagregated by region"
   ]
  },
  {
   "cell_type": "code",
   "execution_count": 67,
   "metadata": {
    "collapsed": true
   },
   "outputs": [],
   "source": [
    "best_scenario = costs_region_over_gdp.reset_index()\n",
    "\n",
    "select = (best_scenario.Macro==\"SSP2\")&(best_scenario.Sensitivity==\"Baseline\")&(best_scenario.InvestmentType==\"Invest\")&(best_scenario.Year==2030)\n",
    "\n",
    "best_scenario = best_scenario.loc[select,:]"
   ]
  },
  {
   "cell_type": "code",
   "execution_count": 70,
   "metadata": {},
   "outputs": [
    {
     "data": {
      "text/html": [
       "<div>\n",
       "<style>\n",
       "    .dataframe thead tr:only-child th {\n",
       "        text-align: right;\n",
       "    }\n",
       "\n",
       "    .dataframe thead th {\n",
       "        text-align: left;\n",
       "    }\n",
       "\n",
       "    .dataframe tbody tr th {\n",
       "        vertical-align: top;\n",
       "    }\n",
       "</style>\n",
       "<table border=\"1\" class=\"dataframe\">\n",
       "  <thead>\n",
       "    <tr style=\"text-align: right;\">\n",
       "      <th>Item</th>\n",
       "      <th>DEPRECIATION</th>\n",
       "      <th>EFFICIENCY</th>\n",
       "      <th>EXPANSION</th>\n",
       "      <th>TOT</th>\n",
       "      <th>UPGRADE</th>\n",
       "    </tr>\n",
       "    <tr>\n",
       "      <th>Region</th>\n",
       "      <th></th>\n",
       "      <th></th>\n",
       "      <th></th>\n",
       "      <th></th>\n",
       "      <th></th>\n",
       "    </tr>\n",
       "  </thead>\n",
       "  <tbody>\n",
       "    <tr>\n",
       "      <th>AFR</th>\n",
       "      <td>0.073120</td>\n",
       "      <td>NaN</td>\n",
       "      <td>0.284890</td>\n",
       "      <td>0.359302</td>\n",
       "      <td>1.292951e-03</td>\n",
       "    </tr>\n",
       "    <tr>\n",
       "      <th>EAP</th>\n",
       "      <td>0.058141</td>\n",
       "      <td>0.000009</td>\n",
       "      <td>0.074725</td>\n",
       "      <td>0.133844</td>\n",
       "      <td>9.688041e-04</td>\n",
       "    </tr>\n",
       "    <tr>\n",
       "      <th>ECA</th>\n",
       "      <td>0.023168</td>\n",
       "      <td>0.000011</td>\n",
       "      <td>0.017893</td>\n",
       "      <td>0.043266</td>\n",
       "      <td>2.193880e-03</td>\n",
       "    </tr>\n",
       "    <tr>\n",
       "      <th>LCR</th>\n",
       "      <td>0.022041</td>\n",
       "      <td>NaN</td>\n",
       "      <td>0.055282</td>\n",
       "      <td>0.077323</td>\n",
       "      <td>4.495849e-07</td>\n",
       "    </tr>\n",
       "    <tr>\n",
       "      <th>MNA</th>\n",
       "      <td>0.051182</td>\n",
       "      <td>NaN</td>\n",
       "      <td>0.052308</td>\n",
       "      <td>0.103489</td>\n",
       "      <td>NaN</td>\n",
       "    </tr>\n",
       "    <tr>\n",
       "      <th>SAR</th>\n",
       "      <td>0.098897</td>\n",
       "      <td>NaN</td>\n",
       "      <td>0.172761</td>\n",
       "      <td>0.271657</td>\n",
       "      <td>NaN</td>\n",
       "    </tr>\n",
       "  </tbody>\n",
       "</table>\n",
       "</div>"
      ],
      "text/plain": [
       "Item    DEPRECIATION  EFFICIENCY  EXPANSION       TOT       UPGRADE\n",
       "Region                                                             \n",
       "AFR         0.073120         NaN   0.284890  0.359302  1.292951e-03\n",
       "EAP         0.058141    0.000009   0.074725  0.133844  9.688041e-04\n",
       "ECA         0.023168    0.000011   0.017893  0.043266  2.193880e-03\n",
       "LCR         0.022041         NaN   0.055282  0.077323  4.495849e-07\n",
       "MNA         0.051182         NaN   0.052308  0.103489           NaN\n",
       "SAR         0.098897         NaN   0.172761  0.271657           NaN"
      ]
     },
     "execution_count": 70,
     "metadata": {},
     "output_type": "execute_result"
    }
   ],
   "source": [
    "100*best_scenario.set_index([\"Region\",\"Item\"]).percent2.unstack(\"Item\")"
   ]
  },
  {
   "cell_type": "code",
   "execution_count": 474,
   "metadata": {},
   "outputs": [
    {
     "data": {
      "image/png": "[encoded data removed]",
      "text/plain": [
       "<matplotlib.figure.Figure at 0x23fd604c3c8>"
      ]
     },
     "metadata": {},
     "output_type": "display_data"
    }
   ],
   "source": [
    "toplot = costs_region_over_gdp.drop(['Region AFR MaxInvest',\\\n",
    "       'Region EAP MaxInvest', 'Region ECA MaxInvest',\\\n",
    "       'Region LCR MaxInvest', 'Region MNA MaxInvest',\\\n",
    "       'Region SAR MaxInvest'],level=\"Sensitivity\").drop(\"ZeroInvest\",level=\"InvestmentType\")\n",
    "toplot = toplot.unstack(\"Item\")[\"TOT\"]\n",
    "toplot = toplot.reset_index()\n",
    "toplot = toplot.loc[(toplot.Year==2030),:]\n",
    "\n",
    "#toplot['InvestmentType'] = toplot.InvestmentType.rename({\"Invest\":\"Medium investment\"})\n",
    "\n",
    "toplot['TOT'] = 100*toplot['TOT']\n",
    "\n",
    "toplot[\"InvestmentType\"] = toplot[\"InvestmentType\"].replace({\"Invest\":\"Moderate public support\",\"MaxInvest\":\"High public support\"})\n",
    "\n",
    "toplot['Region'] = toplot.Region.replace({\"EAP\":\"East Asia\\nand Pacific\",\n",
    "                                             \"ECA\":\"Europe and\\nCentral Asia\",\n",
    "                                             \"LCR\":\"Latin America\\nand\\nCaribbean\",\n",
    "                                             \"MNA\":\"Middle-East\\nand\\nNorth Africa\",\n",
    "                                             \"SAR\":\"South Asia\",\n",
    "                                             \"AFR\":\"Sub-Saharan\\nAfrica\",\n",
    "                                             \"YHI\":\"High income\"})\n",
    "\n",
    "g = sns.factorplot(x='Region',y='TOT', hue= 'InvestmentType', data=toplot, kind=\"swarm\",\\\n",
    "                   dodge=False, size=6, aspect=1.7,\\\n",
    "                  legend=False)#,join=False, ci=\"sd\")\n",
    "\n",
    "g.set_axis_labels(\"\", \"Average annual cost 2015-2030\\n(% GDP)\")\n",
    "g.add_legend(title=\"\",bbox_to_anchor=(0.5, 0.85), borderaxespad=0.)\n",
    "plt.xticks(rotation=30)\n",
    "\n",
    "plt.savefig(\"irrigation_by_region.png\",ddpi=300,bbox_inches=\"tight\")\n",
    "plt.savefig(\"irrigation_by_region.pdf\")"
   ]
  },
  {
   "cell_type": "markdown",
   "metadata": {},
   "source": [
    "## Calories"
   ]
  },
  {
   "cell_type": "code",
   "execution_count": 335,
   "metadata": {
    "collapsed": true
   },
   "outputs": [],
   "source": [
    "calories_global = data.unstack(\"Var\")[\"Val\"][\"CALO\"].dropna().unstack(\"Region\")[\"WLD\"].unstack(\"Item\")[\"TOT\"]\n",
    "calories_reg = data.unstack(\"Var\")[\"Val\"][\"CALO\"].dropna().unstack(\"Region\").drop([\"WLD\",\"EC\",\"NAM\",\"APD\"],axis=1).stack().unstack(\"Item\")[\"TOT\"]"
   ]
  },
  {
   "cell_type": "code",
   "execution_count": 338,
   "metadata": {
    "collapsed": true
   },
   "outputs": [],
   "source": [
    "calories_global_2030 = calories_global.unstack(\"Year\")[2030]\n",
    "calories_reg_2030 = calories_reg.unstack(\"Year\")[2030]"
   ]
  },
  {
   "cell_type": "code",
   "execution_count": 550,
   "metadata": {
    "collapsed": true
   },
   "outputs": [],
   "source": [
    "impact_on_calories_abs = calories_reg_2030.unstack(\"InvestmentType\")[['Invest',\"MaxInvest\"]].sub(calories_reg_2030.unstack(\"InvestmentType\")[\"ZeroInvest\"],axis=0)"
   ]
  },
  {
   "cell_type": "code",
   "execution_count": 551,
   "metadata": {},
   "outputs": [
    {
     "data": {
      "text/html": [
       "<div>\n",
       "<style>\n",
       "    .dataframe thead tr:only-child th {\n",
       "        text-align: right;\n",
       "    }\n",
       "\n",
       "    .dataframe thead th {\n",
       "        text-align: left;\n",
       "    }\n",
       "\n",
       "    .dataframe tbody tr th {\n",
       "        vertical-align: top;\n",
       "    }\n",
       "</style>\n",
       "<table border=\"1\" class=\"dataframe\">\n",
       "  <thead>\n",
       "    <tr style=\"text-align: right;\">\n",
       "      <th></th>\n",
       "      <th></th>\n",
       "      <th></th>\n",
       "      <th>InvestmentType</th>\n",
       "      <th>Invest</th>\n",
       "      <th>MaxInvest</th>\n",
       "    </tr>\n",
       "    <tr>\n",
       "      <th>Macro</th>\n",
       "      <th>Sensitivity</th>\n",
       "      <th>Unit</th>\n",
       "      <th>Region</th>\n",
       "      <th></th>\n",
       "      <th></th>\n",
       "    </tr>\n",
       "  </thead>\n",
       "  <tbody>\n",
       "    <tr>\n",
       "      <th rowspan=\"18\" valign=\"top\">SSP1</th>\n",
       "      <th rowspan=\"6\" valign=\"top\">Baseline</th>\n",
       "      <th rowspan=\"6\" valign=\"top\">kcal/cap/d</th>\n",
       "      <th>AFR</th>\n",
       "      <td>6.216187</td>\n",
       "      <td>9.968898</td>\n",
       "    </tr>\n",
       "    <tr>\n",
       "      <th>EAP</th>\n",
       "      <td>13.630512</td>\n",
       "      <td>28.454008</td>\n",
       "    </tr>\n",
       "    <tr>\n",
       "      <th>ECA</th>\n",
       "      <td>-1.809883</td>\n",
       "      <td>5.982293</td>\n",
       "    </tr>\n",
       "    <tr>\n",
       "      <th>LCR</th>\n",
       "      <td>-0.999421</td>\n",
       "      <td>17.454964</td>\n",
       "    </tr>\n",
       "    <tr>\n",
       "      <th>MNA</th>\n",
       "      <td>42.200595</td>\n",
       "      <td>45.983661</td>\n",
       "    </tr>\n",
       "    <tr>\n",
       "      <th>SAR</th>\n",
       "      <td>42.401471</td>\n",
       "      <td>72.314460</td>\n",
       "    </tr>\n",
       "    <tr>\n",
       "      <th rowspan=\"6\" valign=\"top\">Combined_Low</th>\n",
       "      <th rowspan=\"6\" valign=\"top\">kcal/cap/d</th>\n",
       "      <th>AFR</th>\n",
       "      <td>9.808993</td>\n",
       "      <td>12.067602</td>\n",
       "    </tr>\n",
       "    <tr>\n",
       "      <th>EAP</th>\n",
       "      <td>9.991651</td>\n",
       "      <td>21.252733</td>\n",
       "    </tr>\n",
       "    <tr>\n",
       "      <th>ECA</th>\n",
       "      <td>-2.914021</td>\n",
       "      <td>3.772415</td>\n",
       "    </tr>\n",
       "    <tr>\n",
       "      <th>LCR</th>\n",
       "      <td>4.698903</td>\n",
       "      <td>23.534900</td>\n",
       "    </tr>\n",
       "    <tr>\n",
       "      <th>MNA</th>\n",
       "      <td>26.460059</td>\n",
       "      <td>31.593359</td>\n",
       "    </tr>\n",
       "    <tr>\n",
       "      <th>SAR</th>\n",
       "      <td>39.977571</td>\n",
       "      <td>73.291579</td>\n",
       "    </tr>\n",
       "    <tr>\n",
       "      <th rowspan=\"6\" valign=\"top\">Combined_Low2</th>\n",
       "      <th rowspan=\"6\" valign=\"top\">kcal/cap/d</th>\n",
       "      <th>AFR</th>\n",
       "      <td>9.808993</td>\n",
       "      <td>12.067602</td>\n",
       "    </tr>\n",
       "    <tr>\n",
       "      <th>EAP</th>\n",
       "      <td>9.991651</td>\n",
       "      <td>21.252733</td>\n",
       "    </tr>\n",
       "    <tr>\n",
       "      <th>ECA</th>\n",
       "      <td>-2.914021</td>\n",
       "      <td>3.772415</td>\n",
       "    </tr>\n",
       "    <tr>\n",
       "      <th>LCR</th>\n",
       "      <td>4.698903</td>\n",
       "      <td>23.534900</td>\n",
       "    </tr>\n",
       "    <tr>\n",
       "      <th>MNA</th>\n",
       "      <td>26.460059</td>\n",
       "      <td>31.593359</td>\n",
       "    </tr>\n",
       "    <tr>\n",
       "      <th>SAR</th>\n",
       "      <td>39.977571</td>\n",
       "      <td>73.291579</td>\n",
       "    </tr>\n",
       "    <tr>\n",
       "      <th rowspan=\"37\" valign=\"top\">SSP2</th>\n",
       "      <th rowspan=\"6\" valign=\"top\">Baseline</th>\n",
       "      <th rowspan=\"6\" valign=\"top\">kcal/cap/d</th>\n",
       "      <th>AFR</th>\n",
       "      <td>14.893287</td>\n",
       "      <td>16.602925</td>\n",
       "    </tr>\n",
       "    <tr>\n",
       "      <th>EAP</th>\n",
       "      <td>21.014593</td>\n",
       "      <td>33.278619</td>\n",
       "    </tr>\n",
       "    <tr>\n",
       "      <th>ECA</th>\n",
       "      <td>3.053303</td>\n",
       "      <td>10.108649</td>\n",
       "    </tr>\n",
       "    <tr>\n",
       "      <th>LCR</th>\n",
       "      <td>6.545283</td>\n",
       "      <td>26.546554</td>\n",
       "    </tr>\n",
       "    <tr>\n",
       "      <th>MNA</th>\n",
       "      <td>25.427601</td>\n",
       "      <td>25.228159</td>\n",
       "    </tr>\n",
       "    <tr>\n",
       "      <th>SAR</th>\n",
       "      <td>27.492735</td>\n",
       "      <td>50.713439</td>\n",
       "    </tr>\n",
       "    <tr>\n",
       "      <th rowspan=\"6\" valign=\"top\">Combined_High</th>\n",
       "      <th rowspan=\"6\" valign=\"top\">kcal/cap/d</th>\n",
       "      <th>AFR</th>\n",
       "      <td>11.243474</td>\n",
       "      <td>17.919338</td>\n",
       "    </tr>\n",
       "    <tr>\n",
       "      <th>EAP</th>\n",
       "      <td>19.634649</td>\n",
       "      <td>37.701894</td>\n",
       "    </tr>\n",
       "    <tr>\n",
       "      <th>ECA</th>\n",
       "      <td>7.740218</td>\n",
       "      <td>17.927213</td>\n",
       "    </tr>\n",
       "    <tr>\n",
       "      <th>LCR</th>\n",
       "      <td>13.795257</td>\n",
       "      <td>34.563771</td>\n",
       "    </tr>\n",
       "    <tr>\n",
       "      <th>MNA</th>\n",
       "      <td>24.335185</td>\n",
       "      <td>32.703624</td>\n",
       "    </tr>\n",
       "    <tr>\n",
       "      <th>SAR</th>\n",
       "      <td>45.900128</td>\n",
       "      <td>65.526041</td>\n",
       "    </tr>\n",
       "    <tr>\n",
       "      <th>...</th>\n",
       "      <th>...</th>\n",
       "      <th>...</th>\n",
       "      <td>...</td>\n",
       "      <td>...</td>\n",
       "    </tr>\n",
       "    <tr>\n",
       "      <th rowspan=\"6\" valign=\"top\">TradeOpen</th>\n",
       "      <th rowspan=\"6\" valign=\"top\">kcal/cap/d</th>\n",
       "      <th>AFR</th>\n",
       "      <td>6.439251</td>\n",
       "      <td>10.090636</td>\n",
       "    </tr>\n",
       "    <tr>\n",
       "      <th>EAP</th>\n",
       "      <td>18.229384</td>\n",
       "      <td>24.911477</td>\n",
       "    </tr>\n",
       "    <tr>\n",
       "      <th>ECA</th>\n",
       "      <td>6.767360</td>\n",
       "      <td>14.628246</td>\n",
       "    </tr>\n",
       "    <tr>\n",
       "      <th>LCR</th>\n",
       "      <td>6.485272</td>\n",
       "      <td>22.207473</td>\n",
       "    </tr>\n",
       "    <tr>\n",
       "      <th>MNA</th>\n",
       "      <td>4.363422</td>\n",
       "      <td>4.044048</td>\n",
       "    </tr>\n",
       "    <tr>\n",
       "      <th>SAR</th>\n",
       "      <td>29.902746</td>\n",
       "      <td>48.310169</td>\n",
       "    </tr>\n",
       "    <tr>\n",
       "      <th rowspan=\"6\" valign=\"top\">TradeRestr</th>\n",
       "      <th rowspan=\"6\" valign=\"top\">kcal/cap/d</th>\n",
       "      <th>AFR</th>\n",
       "      <td>28.518176</td>\n",
       "      <td>32.169436</td>\n",
       "    </tr>\n",
       "    <tr>\n",
       "      <th>EAP</th>\n",
       "      <td>10.316977</td>\n",
       "      <td>27.214568</td>\n",
       "    </tr>\n",
       "    <tr>\n",
       "      <th>ECA</th>\n",
       "      <td>3.367824</td>\n",
       "      <td>16.164500</td>\n",
       "    </tr>\n",
       "    <tr>\n",
       "      <th>LCR</th>\n",
       "      <td>11.635636</td>\n",
       "      <td>30.347199</td>\n",
       "    </tr>\n",
       "    <tr>\n",
       "      <th>MNA</th>\n",
       "      <td>79.870564</td>\n",
       "      <td>80.939683</td>\n",
       "    </tr>\n",
       "    <tr>\n",
       "      <th>SAR</th>\n",
       "      <td>27.841335</td>\n",
       "      <td>47.453008</td>\n",
       "    </tr>\n",
       "    <tr>\n",
       "      <th rowspan=\"6\" valign=\"top\">WatrEff_High</th>\n",
       "      <th rowspan=\"6\" valign=\"top\">kcal/cap/d</th>\n",
       "      <th>AFR</th>\n",
       "      <td>14.924754</td>\n",
       "      <td>16.649209</td>\n",
       "    </tr>\n",
       "    <tr>\n",
       "      <th>EAP</th>\n",
       "      <td>23.571589</td>\n",
       "      <td>34.949633</td>\n",
       "    </tr>\n",
       "    <tr>\n",
       "      <th>ECA</th>\n",
       "      <td>3.498560</td>\n",
       "      <td>11.295743</td>\n",
       "    </tr>\n",
       "    <tr>\n",
       "      <th>LCR</th>\n",
       "      <td>6.844630</td>\n",
       "      <td>28.296540</td>\n",
       "    </tr>\n",
       "    <tr>\n",
       "      <th>MNA</th>\n",
       "      <td>25.420157</td>\n",
       "      <td>32.683327</td>\n",
       "    </tr>\n",
       "    <tr>\n",
       "      <th>SAR</th>\n",
       "      <td>27.343897</td>\n",
       "      <td>52.500965</td>\n",
       "    </tr>\n",
       "    <tr>\n",
       "      <th rowspan=\"6\" valign=\"top\">WatrEff_Low</th>\n",
       "      <th rowspan=\"6\" valign=\"top\">kcal/cap/d</th>\n",
       "      <th>AFR</th>\n",
       "      <td>14.623786</td>\n",
       "      <td>16.200808</td>\n",
       "    </tr>\n",
       "    <tr>\n",
       "      <th>EAP</th>\n",
       "      <td>19.939524</td>\n",
       "      <td>31.663840</td>\n",
       "    </tr>\n",
       "    <tr>\n",
       "      <th>ECA</th>\n",
       "      <td>2.269738</td>\n",
       "      <td>9.664134</td>\n",
       "    </tr>\n",
       "    <tr>\n",
       "      <th>LCR</th>\n",
       "      <td>5.711973</td>\n",
       "      <td>24.545773</td>\n",
       "    </tr>\n",
       "    <tr>\n",
       "      <th>MNA</th>\n",
       "      <td>23.959125</td>\n",
       "      <td>25.111544</td>\n",
       "    </tr>\n",
       "    <tr>\n",
       "      <th>SAR</th>\n",
       "      <td>27.418616</td>\n",
       "      <td>50.174564</td>\n",
       "    </tr>\n",
       "    <tr>\n",
       "      <th rowspan=\"6\" valign=\"top\">SSP3</th>\n",
       "      <th rowspan=\"6\" valign=\"top\">Baseline</th>\n",
       "      <th rowspan=\"6\" valign=\"top\">kcal/cap/d</th>\n",
       "      <th>AFR</th>\n",
       "      <td>25.184442</td>\n",
       "      <td>29.102469</td>\n",
       "    </tr>\n",
       "    <tr>\n",
       "      <th>EAP</th>\n",
       "      <td>21.577957</td>\n",
       "      <td>30.083785</td>\n",
       "    </tr>\n",
       "    <tr>\n",
       "      <th>ECA</th>\n",
       "      <td>1.539511</td>\n",
       "      <td>8.164398</td>\n",
       "    </tr>\n",
       "    <tr>\n",
       "      <th>LCR</th>\n",
       "      <td>11.566578</td>\n",
       "      <td>27.222681</td>\n",
       "    </tr>\n",
       "    <tr>\n",
       "      <th>MNA</th>\n",
       "      <td>64.917723</td>\n",
       "      <td>66.816617</td>\n",
       "    </tr>\n",
       "    <tr>\n",
       "      <th>SAR</th>\n",
       "      <td>28.315800</td>\n",
       "      <td>30.890311</td>\n",
       "    </tr>\n",
       "  </tbody>\n",
       "</table>\n",
       "<p>180 rows × 2 columns</p>\n",
       "</div>"
      ],
      "text/plain": [
       "InvestmentType                            Invest  MaxInvest\n",
       "Macro Sensitivity   Unit       Region                      \n",
       "SSP1  Baseline      kcal/cap/d AFR      6.216187   9.968898\n",
       "                               EAP     13.630512  28.454008\n",
       "                               ECA     -1.809883   5.982293\n",
       "                               LCR     -0.999421  17.454964\n",
       "                               MNA     42.200595  45.983661\n",
       "                               SAR     42.401471  72.314460\n",
       "      Combined_Low  kcal/cap/d AFR      9.808993  12.067602\n",
       "                               EAP      9.991651  21.252733\n",
       "                               ECA     -2.914021   3.772415\n",
       "                               LCR      4.698903  23.534900\n",
       "                               MNA     26.460059  31.593359\n",
       "                               SAR     39.977571  73.291579\n",
       "      Combined_Low2 kcal/cap/d AFR      9.808993  12.067602\n",
       "                               EAP      9.991651  21.252733\n",
       "                               ECA     -2.914021   3.772415\n",
       "                               LCR      4.698903  23.534900\n",
       "                               MNA     26.460059  31.593359\n",
       "                               SAR     39.977571  73.291579\n",
       "SSP2  Baseline      kcal/cap/d AFR     14.893287  16.602925\n",
       "                               EAP     21.014593  33.278619\n",
       "                               ECA      3.053303  10.108649\n",
       "                               LCR      6.545283  26.546554\n",
       "                               MNA     25.427601  25.228159\n",
       "                               SAR     27.492735  50.713439\n",
       "      Combined_High kcal/cap/d AFR     11.243474  17.919338\n",
       "                               EAP     19.634649  37.701894\n",
       "                               ECA      7.740218  17.927213\n",
       "                               LCR     13.795257  34.563771\n",
       "                               MNA     24.335185  32.703624\n",
       "                               SAR     45.900128  65.526041\n",
       "...                                          ...        ...\n",
       "      TradeOpen     kcal/cap/d AFR      6.439251  10.090636\n",
       "                               EAP     18.229384  24.911477\n",
       "                               ECA      6.767360  14.628246\n",
       "                               LCR      6.485272  22.207473\n",
       "                               MNA      4.363422   4.044048\n",
       "                               SAR     29.902746  48.310169\n",
       "      TradeRestr    kcal/cap/d AFR     28.518176  32.169436\n",
       "                               EAP     10.316977  27.214568\n",
       "                               ECA      3.367824  16.164500\n",
       "                               LCR     11.635636  30.347199\n",
       "                               MNA     79.870564  80.939683\n",
       "                               SAR     27.841335  47.453008\n",
       "      WatrEff_High  kcal/cap/d AFR     14.924754  16.649209\n",
       "                               EAP     23.571589  34.949633\n",
       "                               ECA      3.498560  11.295743\n",
       "                               LCR      6.844630  28.296540\n",
       "                               MNA     25.420157  32.683327\n",
       "                               SAR     27.343897  52.500965\n",
       "      WatrEff_Low   kcal/cap/d AFR     14.623786  16.200808\n",
       "                               EAP     19.939524  31.663840\n",
       "                               ECA      2.269738   9.664134\n",
       "                               LCR      5.711973  24.545773\n",
       "                               MNA     23.959125  25.111544\n",
       "                               SAR     27.418616  50.174564\n",
       "SSP3  Baseline      kcal/cap/d AFR     25.184442  29.102469\n",
       "                               EAP     21.577957  30.083785\n",
       "                               ECA      1.539511   8.164398\n",
       "                               LCR     11.566578  27.222681\n",
       "                               MNA     64.917723  66.816617\n",
       "                               SAR     28.315800  30.890311\n",
       "\n",
       "[180 rows x 2 columns]"
      ]
     },
     "execution_count": 551,
     "metadata": {},
     "output_type": "execute_result"
    }
   ],
   "source": [
    "impact_on_calories_abs"
   ]
  },
  {
   "cell_type": "code",
   "execution_count": 342,
   "metadata": {
    "collapsed": true
   },
   "outputs": [],
   "source": [
    "impact_on_calories = 100*(calories_reg_2030.unstack(\"InvestmentType\")[['Invest',\"MaxInvest\"]].div(calories_reg_2030.unstack(\"InvestmentType\")[\"ZeroInvest\"],axis=0)-1)"
   ]
  },
  {
   "cell_type": "code",
   "execution_count": 356,
   "metadata": {
    "collapsed": true
   },
   "outputs": [],
   "source": [
    "impact_on_calories = impact_on_calories.reset_index(\"Unit\").drop(\"Unit\",axis=1)"
   ]
  },
  {
   "cell_type": "code",
   "execution_count": 537,
   "metadata": {},
   "outputs": [
    {
     "data": {
      "text/html": [
       "<div>\n",
       "<style>\n",
       "    .dataframe thead tr:only-child th {\n",
       "        text-align: right;\n",
       "    }\n",
       "\n",
       "    .dataframe thead th {\n",
       "        text-align: left;\n",
       "    }\n",
       "\n",
       "    .dataframe tbody tr th {\n",
       "        vertical-align: top;\n",
       "    }\n",
       "</style>\n",
       "<table border=\"1\" class=\"dataframe\">\n",
       "  <thead>\n",
       "    <tr>\n",
       "      <th></th>\n",
       "      <th></th>\n",
       "      <th colspan=\"3\" halign=\"left\">2030</th>\n",
       "    </tr>\n",
       "    <tr>\n",
       "      <th></th>\n",
       "      <th>InvestmentType</th>\n",
       "      <th>Invest</th>\n",
       "      <th>MaxInvest</th>\n",
       "      <th>ZeroInvest</th>\n",
       "    </tr>\n",
       "    <tr>\n",
       "      <th>Macro</th>\n",
       "      <th>Sensitivity</th>\n",
       "      <th></th>\n",
       "      <th></th>\n",
       "      <th></th>\n",
       "    </tr>\n",
       "  </thead>\n",
       "  <tbody>\n",
       "    <tr>\n",
       "      <th rowspan=\"3\" valign=\"top\">SSP2</th>\n",
       "      <th>RCP2p6_MIROC</th>\n",
       "      <td>18853.063798</td>\n",
       "      <td>18919.969541</td>\n",
       "      <td>18736.276263</td>\n",
       "    </tr>\n",
       "    <tr>\n",
       "      <th>Combined_High</th>\n",
       "      <td>18746.510148</td>\n",
       "      <td>18830.203118</td>\n",
       "      <td>18623.861236</td>\n",
       "    </tr>\n",
       "    <tr>\n",
       "      <th>RCP2p6_GDFL</th>\n",
       "      <td>18950.922589</td>\n",
       "      <td>19033.801918</td>\n",
       "      <td>18857.137142</td>\n",
       "    </tr>\n",
       "  </tbody>\n",
       "</table>\n",
       "</div>"
      ],
      "text/plain": [
       "                             2030                            \n",
       "InvestmentType             Invest     MaxInvest    ZeroInvest\n",
       "Macro Sensitivity                                            \n",
       "SSP2  RCP2p6_MIROC   18853.063798  18919.969541  18736.276263\n",
       "      Combined_High  18746.510148  18830.203118  18623.861236\n",
       "      RCP2p6_GDFL    18950.922589  19033.801918  18857.137142"
      ]
     },
     "execution_count": 537,
     "metadata": {},
     "output_type": "execute_result"
    }
   ],
   "source": [
    "calories_reg_2030.reset_index(\"Unit\").drop(\"Unit\",axis=1).sum(level=[\"Macro\",\"Sensitivity\",\"InvestmentType\"]).unstack(\"InvestmentType\").sample(3)"
   ]
  },
  {
   "cell_type": "code",
   "execution_count": 538,
   "metadata": {
    "collapsed": true
   },
   "outputs": [],
   "source": [
    "don = calories_reg_2030.reset_index(\"Unit\").drop(\"Unit\",axis=1).sum(level=[\"Macro\",\"Sensitivity\",\"InvestmentType\"]).unstack(\"InvestmentType\")[2030]\n",
    "impact_on_calories_dev_countries = 100*(don[['Invest',\"MaxInvest\"]].div(don[\"ZeroInvest\"],axis=0)-1)"
   ]
  },
  {
   "cell_type": "code",
   "execution_count": 570,
   "metadata": {},
   "outputs": [
    {
     "data": {
      "text/plain": [
       "0.86130731141773609"
      ]
     },
     "execution_count": 570,
     "metadata": {},
     "output_type": "execute_result"
    }
   ],
   "source": [
    "toplot.loc[(toplot.Sensitivity==\"Baseline\"),2030][0]"
   ]
  },
  {
   "cell_type": "code",
   "execution_count": 605,
   "metadata": {},
   "outputs": [
    {
     "data": {
      "image/png": "[encoded data removed]",
      "text/plain": [
       "<matplotlib.figure.Figure at 0x23fcf9c6898>"
      ]
     },
     "metadata": {},
     "output_type": "display_data"
    }
   ],
   "source": [
    "toplot = impact_on_calories_dev_countries.drop(['Region AFR MaxInvest',\\\n",
    "       'Region EAP MaxInvest', 'Region ECA MaxInvest',\\\n",
    "       'Region LCR MaxInvest', 'Region MNA MaxInvest',\\\n",
    "       'Region SAR MaxInvest','RCP2p6_GDFL',\\\n",
    "       'RCP2p6_HadGEM', 'RCP2p6_IPSL', 'RCP2p6_MIROC', 'RCP2p6_NOR',\\\n",
    "       'Combined_Low','Combined_Low2','Combined_High','Combined_High2'],level=\"Sensitivity\").drop([\"SSP1\",\"SSP3\"],level=\"Macro\")\n",
    "\n",
    "toplot = toplot.stack().reset_index().rename(columns={0:2030})\n",
    "\n",
    "toplot['sensi'] = toplot.Sensitivity.replace({'HealthyDiet':'Low meat\\ndiet', \\\n",
    "                                              'HealthySustDiet':'Low meat\\ndiet',\\\n",
    "                                              'RCP8p5_GDFL':'Climate\\nchange', \\\n",
    "                                              'RCP8p5_HadGEM':'Climate\\nchange',\\\n",
    "                                              'RCP8p5_HadGEM_noCO2':'Climate\\nchange',\\\n",
    "                                              'RCP8p5_IPSL':'Climate\\nchange', \\\n",
    "                                              'RCP8p5_MIROC':'Climate\\nchange',\\\n",
    "                                              'RCP8p5_NOR':'Climate\\nchange',\\\n",
    "                                              'TradeOpen':'High trade\\nopenness',\\\n",
    "                                              'TradeRestr':'Restricted\\ntrade', \\\n",
    "                                              'WatrEff_High':'High water\\nefficiency', \\\n",
    "                                              'WatrEff_Low':'Low water\\nefficiency'})\n",
    "\n",
    "\n",
    "toplot[\"InvestmentType\"] = toplot.InvestmentType.replace({\"Invest\":\"2Invest\",\\\n",
    "                                                            \"MaxInvest\":\"1MaxInvest\",\\\n",
    "                                                            })\n",
    "toplot = toplot.set_index(\"InvestmentType\").sort_index(level=\"InvestmentType\")\n",
    "toplot = toplot.reset_index()\n",
    "\n",
    "toplot[\"InvestmentType\"] = toplot[\"InvestmentType\"].replace({\"2Invest\":\"Moderate public support\",\\\n",
    "                                                            \"1MaxInvest\":\"High public support\",\\\n",
    "                                                            })\n",
    "\n",
    "toplot = toplot.set_index(\"sensi\").sort_index(level=\"sensi\").reset_index()\n",
    "\n",
    "g = sns.factorplot(x='sensi',y=2030, hue= 'InvestmentType', data=toplot.loc[toplot.sensi!=\"Baseline\",:], kind=\"point\",\\\n",
    "                   dodge=False, size=6, aspect=1.6,\\\n",
    "                  legend=False,join=False, ci=\"sd\")\n",
    "\n",
    "g.set_axis_labels(\"\", \"Increase in available calories\\ndue to an increase in irrigated land (%)\")\n",
    "leg = g.ax.legend(title=\"\",bbox_to_anchor=(0.5, 1), borderaxespad=0)\n",
    "plt.xticks(rotation=0)\n",
    "plt.ylim([0,1.5])\n",
    "g.ax.axhline(y=toplot.loc[(toplot.Sensitivity==\"Baseline\"),2030][0],ls='--',lw=2)\n",
    "g.ax.axhline(y=toplot.loc[(toplot.Sensitivity==\"Baseline\"),2030][1],c=sns.color_palette(\"Set1\", 5)[4],ls='--',lw=2)\n",
    "\n",
    "\n",
    "plt.savefig(\"calories_increase.png\",bbox_extra_artists=(leg,),ddpi=300,bbox_inches=\"tight\")"
   ]
  },
  {
   "cell_type": "code",
   "execution_count": 599,
   "metadata": {},
   "outputs": [
    {
     "data": {
      "text/plain": [
       "[(0.89411764705882357, 0.10196078431372549, 0.10980392156862745),\n",
       " (0.21568627450980393, 0.49411764705882355, 0.72156862745098038)]"
      ]
     },
     "execution_count": 599,
     "metadata": {},
     "output_type": "execute_result"
    }
   ],
   "source": [
    "sns.color_palette(\"Set1\", 2)[1]"
   ]
  },
  {
   "cell_type": "code",
   "execution_count": 603,
   "metadata": {},
   "outputs": [
    {
     "data": {
      "image/png": "[encoded data removed]",
      "text/plain": [
       "<matplotlib.figure.Figure at 0x23fcf6920f0>"
      ]
     },
     "metadata": {},
     "output_type": "display_data"
    }
   ],
   "source": [
    "sns.palplot(sns.color_palette(\"Set1\", 5))"
   ]
  },
  {
   "cell_type": "code",
   "execution_count": 364,
   "metadata": {},
   "outputs": [
    {
     "data": {
      "text/html": [
       "<div>\n",
       "<style>\n",
       "    .dataframe thead tr:only-child th {\n",
       "        text-align: right;\n",
       "    }\n",
       "\n",
       "    .dataframe thead th {\n",
       "        text-align: left;\n",
       "    }\n",
       "\n",
       "    .dataframe tbody tr th {\n",
       "        vertical-align: top;\n",
       "    }\n",
       "</style>\n",
       "<table border=\"1\" class=\"dataframe\">\n",
       "  <thead>\n",
       "    <tr style=\"text-align: right;\">\n",
       "      <th></th>\n",
       "      <th>InvestmentType</th>\n",
       "      <th>Region</th>\n",
       "      <th>Invest</th>\n",
       "      <th>MaxInvest</th>\n",
       "    </tr>\n",
       "    <tr>\n",
       "      <th>Macro</th>\n",
       "      <th>Sensitivity</th>\n",
       "      <th></th>\n",
       "      <th></th>\n",
       "      <th></th>\n",
       "    </tr>\n",
       "  </thead>\n",
       "  <tbody>\n",
       "    <tr>\n",
       "      <th rowspan=\"3\" valign=\"top\">SSP1</th>\n",
       "      <th>Baseline</th>\n",
       "      <td>SAR</td>\n",
       "      <td>1.467377</td>\n",
       "      <td>2.502569</td>\n",
       "    </tr>\n",
       "    <tr>\n",
       "      <th>Combined_Low</th>\n",
       "      <td>SAR</td>\n",
       "      <td>1.380954</td>\n",
       "      <td>2.531728</td>\n",
       "    </tr>\n",
       "    <tr>\n",
       "      <th>Combined_Low2</th>\n",
       "      <td>SAR</td>\n",
       "      <td>1.380954</td>\n",
       "      <td>2.531728</td>\n",
       "    </tr>\n",
       "    <tr>\n",
       "      <th rowspan=\"26\" valign=\"top\">SSP2</th>\n",
       "      <th>Baseline</th>\n",
       "      <td>SAR</td>\n",
       "      <td>0.982467</td>\n",
       "      <td>1.812270</td>\n",
       "    </tr>\n",
       "    <tr>\n",
       "      <th>Combined_High</th>\n",
       "      <td>SAR</td>\n",
       "      <td>1.677474</td>\n",
       "      <td>2.394726</td>\n",
       "    </tr>\n",
       "    <tr>\n",
       "      <th>Combined_High2</th>\n",
       "      <td>SAR</td>\n",
       "      <td>1.742010</td>\n",
       "      <td>2.739423</td>\n",
       "    </tr>\n",
       "    <tr>\n",
       "      <th>HealthyDiet</th>\n",
       "      <td>SAR</td>\n",
       "      <td>0.707523</td>\n",
       "      <td>1.655833</td>\n",
       "    </tr>\n",
       "    <tr>\n",
       "      <th>HealthySustDiet</th>\n",
       "      <td>SAR</td>\n",
       "      <td>0.585504</td>\n",
       "      <td>1.904791</td>\n",
       "    </tr>\n",
       "    <tr>\n",
       "      <th>RCP2p6_GDFL</th>\n",
       "      <td>SAR</td>\n",
       "      <td>0.898124</td>\n",
       "      <td>1.673955</td>\n",
       "    </tr>\n",
       "    <tr>\n",
       "      <th>RCP2p6_HadGEM</th>\n",
       "      <td>SAR</td>\n",
       "      <td>0.911897</td>\n",
       "      <td>1.394422</td>\n",
       "    </tr>\n",
       "    <tr>\n",
       "      <th>RCP2p6_IPSL</th>\n",
       "      <td>SAR</td>\n",
       "      <td>0.654808</td>\n",
       "      <td>1.593560</td>\n",
       "    </tr>\n",
       "    <tr>\n",
       "      <th>RCP2p6_MIROC</th>\n",
       "      <td>SAR</td>\n",
       "      <td>1.209185</td>\n",
       "      <td>1.886009</td>\n",
       "    </tr>\n",
       "    <tr>\n",
       "      <th>RCP2p6_NOR</th>\n",
       "      <td>SAR</td>\n",
       "      <td>0.924928</td>\n",
       "      <td>1.566423</td>\n",
       "    </tr>\n",
       "    <tr>\n",
       "      <th>RCP8p5_GDFL</th>\n",
       "      <td>SAR</td>\n",
       "      <td>0.857292</td>\n",
       "      <td>1.649489</td>\n",
       "    </tr>\n",
       "    <tr>\n",
       "      <th>RCP8p5_HadGEM</th>\n",
       "      <td>SAR</td>\n",
       "      <td>0.938471</td>\n",
       "      <td>1.608060</td>\n",
       "    </tr>\n",
       "    <tr>\n",
       "      <th>RCP8p5_HadGEM_noCO2</th>\n",
       "      <td>SAR</td>\n",
       "      <td>1.647356</td>\n",
       "      <td>1.825745</td>\n",
       "    </tr>\n",
       "    <tr>\n",
       "      <th>RCP8p5_IPSL</th>\n",
       "      <td>SAR</td>\n",
       "      <td>0.560214</td>\n",
       "      <td>1.382566</td>\n",
       "    </tr>\n",
       "    <tr>\n",
       "      <th>RCP8p5_MIROC</th>\n",
       "      <td>SAR</td>\n",
       "      <td>1.282165</td>\n",
       "      <td>2.092571</td>\n",
       "    </tr>\n",
       "    <tr>\n",
       "      <th>RCP8p5_NOR</th>\n",
       "      <td>SAR</td>\n",
       "      <td>0.553472</td>\n",
       "      <td>1.658773</td>\n",
       "    </tr>\n",
       "    <tr>\n",
       "      <th>Region AFR MaxInvest</th>\n",
       "      <td>SAR</td>\n",
       "      <td>NaN</td>\n",
       "      <td>NaN</td>\n",
       "    </tr>\n",
       "    <tr>\n",
       "      <th>Region EAP MaxInvest</th>\n",
       "      <td>SAR</td>\n",
       "      <td>NaN</td>\n",
       "      <td>NaN</td>\n",
       "    </tr>\n",
       "    <tr>\n",
       "      <th>Region ECA MaxInvest</th>\n",
       "      <td>SAR</td>\n",
       "      <td>NaN</td>\n",
       "      <td>NaN</td>\n",
       "    </tr>\n",
       "    <tr>\n",
       "      <th>Region LCR MaxInvest</th>\n",
       "      <td>SAR</td>\n",
       "      <td>NaN</td>\n",
       "      <td>NaN</td>\n",
       "    </tr>\n",
       "    <tr>\n",
       "      <th>Region MNA MaxInvest</th>\n",
       "      <td>SAR</td>\n",
       "      <td>NaN</td>\n",
       "      <td>NaN</td>\n",
       "    </tr>\n",
       "    <tr>\n",
       "      <th>Region SAR MaxInvest</th>\n",
       "      <td>SAR</td>\n",
       "      <td>NaN</td>\n",
       "      <td>NaN</td>\n",
       "    </tr>\n",
       "    <tr>\n",
       "      <th>TradeOpen</th>\n",
       "      <td>SAR</td>\n",
       "      <td>1.058721</td>\n",
       "      <td>1.710445</td>\n",
       "    </tr>\n",
       "    <tr>\n",
       "      <th>TradeRestr</th>\n",
       "      <td>SAR</td>\n",
       "      <td>1.003931</td>\n",
       "      <td>1.711109</td>\n",
       "    </tr>\n",
       "    <tr>\n",
       "      <th>WatrEff_High</th>\n",
       "      <td>SAR</td>\n",
       "      <td>0.977148</td>\n",
       "      <td>1.876148</td>\n",
       "    </tr>\n",
       "    <tr>\n",
       "      <th>WatrEff_Low</th>\n",
       "      <td>SAR</td>\n",
       "      <td>0.979818</td>\n",
       "      <td>1.793013</td>\n",
       "    </tr>\n",
       "    <tr>\n",
       "      <th>SSP3</th>\n",
       "      <th>Baseline</th>\n",
       "      <td>SAR</td>\n",
       "      <td>1.057808</td>\n",
       "      <td>1.153986</td>\n",
       "    </tr>\n",
       "  </tbody>\n",
       "</table>\n",
       "</div>"
      ],
      "text/plain": [
       "InvestmentType             Region    Invest  MaxInvest\n",
       "Macro Sensitivity                                     \n",
       "SSP1  Baseline                SAR  1.467377   2.502569\n",
       "      Combined_Low            SAR  1.380954   2.531728\n",
       "      Combined_Low2           SAR  1.380954   2.531728\n",
       "SSP2  Baseline                SAR  0.982467   1.812270\n",
       "      Combined_High           SAR  1.677474   2.394726\n",
       "      Combined_High2          SAR  1.742010   2.739423\n",
       "      HealthyDiet             SAR  0.707523   1.655833\n",
       "      HealthySustDiet         SAR  0.585504   1.904791\n",
       "      RCP2p6_GDFL             SAR  0.898124   1.673955\n",
       "      RCP2p6_HadGEM           SAR  0.911897   1.394422\n",
       "      RCP2p6_IPSL             SAR  0.654808   1.593560\n",
       "      RCP2p6_MIROC            SAR  1.209185   1.886009\n",
       "      RCP2p6_NOR              SAR  0.924928   1.566423\n",
       "      RCP8p5_GDFL             SAR  0.857292   1.649489\n",
       "      RCP8p5_HadGEM           SAR  0.938471   1.608060\n",
       "      RCP8p5_HadGEM_noCO2     SAR  1.647356   1.825745\n",
       "      RCP8p5_IPSL             SAR  0.560214   1.382566\n",
       "      RCP8p5_MIROC            SAR  1.282165   2.092571\n",
       "      RCP8p5_NOR              SAR  0.553472   1.658773\n",
       "      Region AFR MaxInvest    SAR       NaN        NaN\n",
       "      Region EAP MaxInvest    SAR       NaN        NaN\n",
       "      Region ECA MaxInvest    SAR       NaN        NaN\n",
       "      Region LCR MaxInvest    SAR       NaN        NaN\n",
       "      Region MNA MaxInvest    SAR       NaN        NaN\n",
       "      Region SAR MaxInvest    SAR       NaN        NaN\n",
       "      TradeOpen               SAR  1.058721   1.710445\n",
       "      TradeRestr              SAR  1.003931   1.711109\n",
       "      WatrEff_High            SAR  0.977148   1.876148\n",
       "      WatrEff_Low             SAR  0.979818   1.793013\n",
       "SSP3  Baseline                SAR  1.057808   1.153986"
      ]
     },
     "execution_count": 364,
     "metadata": {},
     "output_type": "execute_result"
    }
   ],
   "source": [
    "bill = impact_on_calories.reset_index(\"Region\")\n",
    "bill.loc[bill.Region==\"SAR\",:]"
   ]
  },
  {
   "cell_type": "code",
   "execution_count": 362,
   "metadata": {},
   "outputs": [
    {
     "data": {
      "text/plain": [
       "Macro  Sensitivity     Region\n",
       "SSP1   Baseline        SAR       2.502569\n",
       "       Combined_Low    SAR       2.531728\n",
       "       Combined_Low2   SAR       2.531728\n",
       "SSP2   Combined_High   SAR       2.394726\n",
       "       Combined_High2  SAR       2.739423\n",
       "       RCP8p5_MIROC    SAR       2.092571\n",
       "       TradeRestr      MNA       2.480318\n",
       "SSP3   Baseline        MNA       2.078207\n",
       "Name: MaxInvest, dtype: float64"
      ]
     },
     "execution_count": 362,
     "metadata": {},
     "output_type": "execute_result"
    }
   ],
   "source": [
    "impact_on_calories.loc[(impact_on_calories.MaxInvest>2),\"MaxInvest\"]"
   ]
  },
  {
   "cell_type": "code",
   "execution_count": 352,
   "metadata": {
    "collapsed": true
   },
   "outputs": [],
   "source": [
    "bob = costs_region_over_gdp.unstack(\"Item\")[\"TOT\"].unstack(\"Year\")[2030].unstack(\"InvestmentType\").drop(\"ZeroInvest\",axis=1)"
   ]
  },
  {
   "cell_type": "code",
   "execution_count": 358,
   "metadata": {},
   "outputs": [
    {
     "data": {
      "text/plain": [
       "Macro  Sensitivity     Region\n",
       "SSP1   Baseline        SAR       0.003377\n",
       "       Combined_Low    SAR       0.003259\n",
       "       Combined_Low2   SAR       0.003259\n",
       "SSP2   Combined_High   SAR       0.004354\n",
       "       Combined_High2  SAR       0.004283\n",
       "       RCP8p5_MIROC    SAR       0.004009\n",
       "       TradeRestr      MNA       0.001311\n",
       "SSP3   Baseline        MNA       0.001318\n",
       "Name: MaxInvest, dtype: float64"
      ]
     },
     "execution_count": 358,
     "metadata": {},
     "output_type": "execute_result"
    }
   ],
   "source": [
    "bob.loc[(impact_on_calories.MaxInvest>2),\"MaxInvest\"]"
   ]
  },
  {
   "cell_type": "code",
   "execution_count": 359,
   "metadata": {},
   "outputs": [
    {
     "data": {
      "text/plain": [
       "Macro  Sensitivity           Region\n",
       "SSP1   Baseline              AFR       0.006136\n",
       "       Combined_Low          AFR       0.005729\n",
       "       Combined_Low2         AFR       0.005729\n",
       "SSP2   Baseline              AFR       0.006802\n",
       "       Combined_High         AFR       0.006882\n",
       "       Combined_High2        AFR       0.006303\n",
       "       HealthyDiet           AFR       0.006513\n",
       "       HealthySustDiet       AFR       0.006217\n",
       "       RCP2p6_GDFL           AFR       0.006484\n",
       "       RCP2p6_HadGEM         AFR       0.006193\n",
       "       RCP2p6_IPSL           AFR       0.006216\n",
       "       RCP2p6_MIROC          AFR       0.006510\n",
       "       RCP8p5_GDFL           AFR       0.006439\n",
       "       RCP8p5_HadGEM         AFR       0.006399\n",
       "       RCP8p5_HadGEM_noCO2   AFR       0.006433\n",
       "       RCP8p5_IPSL           AFR       0.005982\n",
       "       RCP8p5_MIROC          AFR       0.006471\n",
       "       RCP8p5_NOR            AFR       0.006686\n",
       "       Region AFR MaxInvest  AFR       0.007078\n",
       "       TradeOpen             AFR       0.006545\n",
       "       TradeRestr            AFR       0.006795\n",
       "       WatrEff_High          AFR       0.007197\n",
       "       WatrEff_Low           AFR       0.006528\n",
       "SSP3   Baseline              AFR       0.006939\n",
       "Name: MaxInvest, dtype: float64"
      ]
     },
     "execution_count": 359,
     "metadata": {},
     "output_type": "execute_result"
    }
   ],
   "source": [
    "bob.loc[(bob.MaxInvest>0.005),\"MaxInvest\"]"
   ]
  },
  {
   "cell_type": "code",
   "execution_count": 360,
   "metadata": {},
   "outputs": [
    {
     "data": {
      "text/plain": [
       "Macro  Sensitivity           Region\n",
       "SSP1   Baseline              AFR       0.339156\n",
       "       Combined_Low          AFR       0.413477\n",
       "       Combined_Low2         AFR       0.413477\n",
       "SSP2   Baseline              AFR       0.579803\n",
       "       Combined_High         AFR       0.634126\n",
       "       Combined_High2        AFR       0.590586\n",
       "       HealthyDiet           AFR       0.416865\n",
       "       HealthySustDiet       AFR       0.272734\n",
       "       RCP2p6_GDFL           AFR       0.669057\n",
       "       RCP2p6_HadGEM         AFR       0.674746\n",
       "       RCP2p6_IPSL           AFR       0.583508\n",
       "       RCP2p6_MIROC          AFR       0.527263\n",
       "       RCP8p5_GDFL           AFR       0.724285\n",
       "       RCP8p5_HadGEM         AFR       0.715792\n",
       "       RCP8p5_HadGEM_noCO2   AFR       0.802162\n",
       "       RCP8p5_IPSL           AFR       0.918705\n",
       "       RCP8p5_MIROC          AFR       0.621847\n",
       "       RCP8p5_NOR            AFR       0.559917\n",
       "       Region AFR MaxInvest  AFR            NaN\n",
       "       TradeOpen             AFR       0.348304\n",
       "       TradeRestr            AFR       1.155130\n",
       "       WatrEff_High          AFR       0.581419\n",
       "       WatrEff_Low           AFR       0.565760\n",
       "SSP3   Baseline              AFR       1.089949\n",
       "Name: MaxInvest, dtype: float64"
      ]
     },
     "execution_count": 360,
     "metadata": {},
     "output_type": "execute_result"
    }
   ],
   "source": [
    "impact_on_calories.loc[(bob.MaxInvest>0.005),\"MaxInvest\"]"
   ]
  },
  {
   "cell_type": "code",
   "execution_count": 387,
   "metadata": {},
   "outputs": [
    {
     "data": {
      "text/plain": [
       "count       78.000000\n",
       "mean     18804.496835\n",
       "std        185.740086\n",
       "min      18136.793997\n",
       "25%      18738.082674\n",
       "50%      18847.162773\n",
       "75%      18936.103968\n",
       "max      19131.123293\n",
       "Name: 2030, dtype: float64"
      ]
     },
     "execution_count": 387,
     "metadata": {},
     "output_type": "execute_result"
    }
   ],
   "source": [
    "calories_reg_2030.sum(level=[\"Macro\",\"Sensitivity\",\"InvestmentType\",\"Unit\"]).describe()"
   ]
  },
  {
   "cell_type": "code",
   "execution_count": 388,
   "metadata": {
    "collapsed": true
   },
   "outputs": [],
   "source": [
    "tt = calories_reg_2030.sum(level=[\"Macro\",\"Sensitivity\",\"InvestmentType\",\"Unit\"])"
   ]
  },
  {
   "cell_type": "code",
   "execution_count": 389,
   "metadata": {},
   "outputs": [
    {
     "data": {
      "text/plain": [
       "Macro  Sensitivity   InvestmentType  Unit      \n",
       "SSP2   Baseline      MaxInvest       kcal/cap/d    19026.633189\n",
       "       RCP2p6_GDFL   MaxInvest       kcal/cap/d    19033.801918\n",
       "       RCP2p6_IPSL   MaxInvest       kcal/cap/d    19014.764632\n",
       "       RCP8p5_GDFL   MaxInvest       kcal/cap/d    19011.649565\n",
       "       TradeOpen     Invest          kcal/cap/d    19079.118678\n",
       "                     MaxInvest       kcal/cap/d    19131.123293\n",
       "                     ZeroInvest      kcal/cap/d    19006.931244\n",
       "       WatrEff_High  MaxInvest       kcal/cap/d    19040.530261\n",
       "       WatrEff_Low   MaxInvest       kcal/cap/d    19021.515507\n",
       "Name: 2030, dtype: float64"
      ]
     },
     "execution_count": 389,
     "metadata": {},
     "output_type": "execute_result"
    }
   ],
   "source": [
    "tt.loc[tt>19000]"
   ]
  },
  {
   "cell_type": "code",
   "execution_count": 390,
   "metadata": {
    "collapsed": true
   },
   "outputs": [],
   "source": [
    "toplot = calories_reg_2030.sum(level=[\"Macro\",\"Sensitivity\",\"InvestmentType\",\"Unit\"]).drop(['Region AFR MaxInvest',\\\n",
    "       'Region EAP MaxInvest', 'Region ECA MaxInvest',\\\n",
    "       'Region LCR MaxInvest', 'Region MNA MaxInvest',\\\n",
    "       'Region SAR MaxInvest'],level=\"Sensitivity\")\n",
    "\n",
    "toplot = toplot.reset_index()"
   ]
  },
  {
   "cell_type": "code",
   "execution_count": 393,
   "metadata": {},
   "outputs": [
    {
     "data": {
      "text/html": [
       "<div>\n",
       "<style>\n",
       "    .dataframe thead tr:only-child th {\n",
       "        text-align: right;\n",
       "    }\n",
       "\n",
       "    .dataframe thead th {\n",
       "        text-align: left;\n",
       "    }\n",
       "\n",
       "    .dataframe tbody tr th {\n",
       "        vertical-align: top;\n",
       "    }\n",
       "</style>\n",
       "<table border=\"1\" class=\"dataframe\">\n",
       "  <thead>\n",
       "    <tr style=\"text-align: right;\">\n",
       "      <th></th>\n",
       "      <th>Macro</th>\n",
       "      <th>Sensitivity</th>\n",
       "      <th>InvestmentType</th>\n",
       "      <th>Unit</th>\n",
       "      <th>2030</th>\n",
       "      <th>trade</th>\n",
       "    </tr>\n",
       "  </thead>\n",
       "  <tbody>\n",
       "    <tr>\n",
       "      <th>22</th>\n",
       "      <td>SSP2</td>\n",
       "      <td>HealthySustDiet</td>\n",
       "      <td>High public support</td>\n",
       "      <td>kcal/cap/d</td>\n",
       "      <td>18601.611355</td>\n",
       "      <td>Medium trade openness</td>\n",
       "    </tr>\n",
       "    <tr>\n",
       "      <th>37</th>\n",
       "      <td>SSP2</td>\n",
       "      <td>RCP8p5_MIROC</td>\n",
       "      <td>High public support</td>\n",
       "      <td>kcal/cap/d</td>\n",
       "      <td>18813.473967</td>\n",
       "      <td>Medium trade openness</td>\n",
       "    </tr>\n",
       "  </tbody>\n",
       "</table>\n",
       "</div>"
      ],
      "text/plain": [
       "   Macro      Sensitivity       InvestmentType        Unit          2030  \\\n",
       "22  SSP2  HealthySustDiet  High public support  kcal/cap/d  18601.611355   \n",
       "37  SSP2     RCP8p5_MIROC  High public support  kcal/cap/d  18813.473967   \n",
       "\n",
       "                    trade  \n",
       "22  Medium trade openness  \n",
       "37  Medium trade openness  "
      ]
     },
     "execution_count": 393,
     "metadata": {},
     "output_type": "execute_result"
    }
   ],
   "source": [
    "toplot.sample(2)"
   ]
  },
  {
   "cell_type": "code",
   "execution_count": 545,
   "metadata": {},
   "outputs": [
    {
     "data": {
      "image/png": "[encoded data removed]",
      "text/plain": [
       "<matplotlib.figure.Figure at 0x23fdcdf02e8>"
      ]
     },
     "metadata": {},
     "output_type": "display_data"
    }
   ],
   "source": [
    "toplot = calories_reg_2030.mean(level=[\"Macro\",\"Sensitivity\",\"InvestmentType\",\"Unit\"]).drop(['Region AFR MaxInvest',\\\n",
    "       'Region EAP MaxInvest', 'Region ECA MaxInvest',\\\n",
    "       'Region LCR MaxInvest', 'Region MNA MaxInvest',\\\n",
    "       'Region SAR MaxInvest','RCP2p6_GDFL',\\\n",
    "       'RCP2p6_HadGEM', 'RCP2p6_IPSL', 'RCP2p6_MIROC', 'RCP2p6_NOR'],level=\"Sensitivity\")\n",
    "\n",
    "toplot = toplot.reset_index()\n",
    "\n",
    "toplot['trade'] = toplot.Sensitivity.replace({'Baseline':'Medium trade openness',\\\n",
    "                                              'Combined_Low':'Medium trade openness', \\\n",
    "                                              'Combined_Low2':'Low trade openness',\\\n",
    "                                              'Combined_High':'Medium trade openness',\\\n",
    "                                              'Combined_High2':'High trade openness',\\\n",
    "                                              'HealthyDiet':'Medium trade openness', \\\n",
    "                                              'HealthySustDiet':'Medium trade openness',\\\n",
    "                                              'RCP8p5_GDFL':'Medium trade openness', \\\n",
    "                                              'RCP8p5_HadGEM':'Medium trade openness',\\\n",
    "                                              'RCP8p5_HadGEM_noCO2':'Medium trade openness',\\\n",
    "                                              'RCP8p5_IPSL':'Medium trade openness', \\\n",
    "                                              'RCP8p5_MIROC':'Medium trade openness',\\\n",
    "                                              'RCP8p5_NOR':'Medium trade openness',\\\n",
    "                                              'TradeOpen':'High trade openness',\\\n",
    "                                              'TradeRestr':'Low trade openness', \\\n",
    "                                              'WatrEff_High':'Medium trade openness', \\\n",
    "                                              'WatrEff_Low':'Medium trade openness'})\n",
    "\n",
    "toplot[\"trade\"] = toplot.trade.replace({\"Medium trade openness\":\"1Medium trade openness\",\\\n",
    "                                          \"Low trade openness\":\"2Low trade openness\",\\\n",
    "                                          \"High trade openness\":\"0High trade openness\"})\n",
    "toplot = toplot.set_index(\"trade\").sort_index(level=\"trade\")\n",
    "toplot = toplot.reset_index()\n",
    "toplot[\"trade\"] = toplot.trade.replace({\"1Medium trade openness\":\"Medium trade openness\",\\\n",
    "                                          \"2Low trade openness\":\"Low trade openness\",\\\n",
    "                                          \"0High trade openness\":\"High trade openness\"})\n",
    "\n",
    "toplot[\"InvestmentType\"] = toplot.InvestmentType.replace({\"Invest\":\"1Invest\",\\\n",
    "                                                            \"MaxInvest\":\"2MaxInvest\",\\\n",
    "                                                            \"ZeroInvest\":\"0ZeroInvest\"})\n",
    "toplot = toplot.set_index(\"InvestmentType\").sort_index(level=\"InvestmentType\")\n",
    "toplot = toplot.reset_index()\n",
    "\n",
    "toplot[\"InvestmentType\"] = toplot[\"InvestmentType\"].replace({\"1Invest\":\"Moderate\\npublic support\",\\\n",
    "                                                            \"2MaxInvest\":\"High\\npublic support\",\\\n",
    "                                                            \"0ZeroInvest\":\"Irrigation expansion\\nforbidden\"})\n",
    "\n",
    "g = sns.factorplot(x='InvestmentType',y=2030, hue= 'trade', data=toplot, kind=\"point\",\\\n",
    "                   dodge=True, size=6, aspect=1.4,\\\n",
    "                  legend=False,join=False, ci=\"sd\",palette=\"Blues\")\n",
    "\n",
    "g.set_axis_labels(\"\", \"Calories available\\nper capita per day in 2030\")\n",
    "leg = g.ax.legend(title=\"\",bbox_to_anchor=(0.95, 0.75), borderaxespad=0)\n",
    "#plt.xticks(rotation=10)\n",
    "\n",
    "\n",
    "plt.savefig(\"calories_trade.jpg\",bbox_extra_artists=(leg,),ddpi=300,bbox_inches=\"tight\")"
   ]
  },
  {
   "cell_type": "code",
   "execution_count": 435,
   "metadata": {
    "collapsed": true
   },
   "outputs": [],
   "source": [
    "test = calories_reg_2030.mean(level=[\"Macro\",\"Sensitivity\",\"InvestmentType\",\"Unit\"]).drop(['Region AFR MaxInvest',\\\n",
    "       'Region EAP MaxInvest', 'Region ECA MaxInvest',\\\n",
    "       'Region LCR MaxInvest', 'Region MNA MaxInvest',\\\n",
    "       'Region SAR MaxInvest','RCP2p6_GDFL',\\\n",
    "       'RCP2p6_HadGEM', 'RCP2p6_IPSL', 'RCP2p6_MIROC', 'RCP2p6_NOR'],level=\"Sensitivity\")"
   ]
  },
  {
   "cell_type": "code",
   "execution_count": 436,
   "metadata": {},
   "outputs": [
    {
     "data": {
      "text/plain": [
       "Macro  Sensitivity   InvestmentType  Unit      \n",
       "SSP2   Baseline      Invest          kcal/cap/d    3160.430274\n",
       "                     MaxInvest       kcal/cap/d    3171.105532\n",
       "       RCP8p5_GDFL   MaxInvest       kcal/cap/d    3168.608261\n",
       "       TradeOpen     Invest          kcal/cap/d    3179.853113\n",
       "                     MaxInvest       kcal/cap/d    3188.520549\n",
       "                     ZeroInvest      kcal/cap/d    3167.821874\n",
       "       WatrEff_High  Invest          kcal/cap/d    3160.959739\n",
       "                     MaxInvest       kcal/cap/d    3173.421710\n",
       "       WatrEff_Low   MaxInvest       kcal/cap/d    3170.252585\n",
       "Name: 2030, dtype: float64"
      ]
     },
     "execution_count": 436,
     "metadata": {},
     "output_type": "execute_result"
    }
   ],
   "source": [
    "test.loc[test>3160]"
   ]
  },
  {
   "cell_type": "code",
   "execution_count": 206,
   "metadata": {
    "collapsed": true
   },
   "outputs": [],
   "source": [
    "global_data = costs_global_disc.reset_index().merge(calories_global_2030.reset_index().rename(columns={2030:\"calories\"}),on=[\"Macro\",\"Sensitivity\",\"InvestmentType\"]).drop(\"Unit\",axis=1)"
   ]
  },
  {
   "cell_type": "code",
   "execution_count": null,
   "metadata": {
    "collapsed": true
   },
   "outputs": [],
   "source": []
  },
  {
   "cell_type": "code",
   "execution_count": null,
   "metadata": {
    "collapsed": true
   },
   "outputs": [],
   "source": []
  },
  {
   "cell_type": "code",
   "execution_count": null,
   "metadata": {
    "collapsed": true
   },
   "outputs": [],
   "source": []
  },
  {
   "cell_type": "code",
   "execution_count": 207,
   "metadata": {},
   "outputs": [
    {
     "data": {
      "text/html": [
       "<div>\n",
       "<style>\n",
       "    .dataframe thead tr:only-child th {\n",
       "        text-align: right;\n",
       "    }\n",
       "\n",
       "    .dataframe thead th {\n",
       "        text-align: left;\n",
       "    }\n",
       "\n",
       "    .dataframe tbody tr th {\n",
       "        vertical-align: top;\n",
       "    }\n",
       "</style>\n",
       "<table border=\"1\" class=\"dataframe\">\n",
       "  <thead>\n",
       "    <tr style=\"text-align: right;\">\n",
       "      <th></th>\n",
       "      <th>Macro</th>\n",
       "      <th>Sensitivity</th>\n",
       "      <th>InvestmentType</th>\n",
       "      <th>disc</th>\n",
       "      <th>calories</th>\n",
       "    </tr>\n",
       "  </thead>\n",
       "  <tbody>\n",
       "    <tr>\n",
       "      <th>0</th>\n",
       "      <td>SSP1</td>\n",
       "      <td>Baseline</td>\n",
       "      <td>Invest</td>\n",
       "      <td>451165.845831</td>\n",
       "      <td>3156.677008</td>\n",
       "    </tr>\n",
       "    <tr>\n",
       "      <th>1</th>\n",
       "      <td>SSP1</td>\n",
       "      <td>Baseline</td>\n",
       "      <td>MaxInvest</td>\n",
       "      <td>722743.893813</td>\n",
       "      <td>3170.809599</td>\n",
       "    </tr>\n",
       "    <tr>\n",
       "      <th>3</th>\n",
       "      <td>SSP1</td>\n",
       "      <td>Combined_Low</td>\n",
       "      <td>Invest</td>\n",
       "      <td>577675.473473</td>\n",
       "      <td>3152.378665</td>\n",
       "    </tr>\n",
       "    <tr>\n",
       "      <th>6</th>\n",
       "      <td>SSP1</td>\n",
       "      <td>Combined_Low2</td>\n",
       "      <td>Invest</td>\n",
       "      <td>577675.473473</td>\n",
       "      <td>3152.378665</td>\n",
       "    </tr>\n",
       "    <tr>\n",
       "      <th>9</th>\n",
       "      <td>SSP2</td>\n",
       "      <td>Baseline</td>\n",
       "      <td>Invest</td>\n",
       "      <td>503835.142093</td>\n",
       "      <td>3169.043205</td>\n",
       "    </tr>\n",
       "    <tr>\n",
       "      <th>11</th>\n",
       "      <td>SSP2</td>\n",
       "      <td>Baseline</td>\n",
       "      <td>ZeroInvest</td>\n",
       "      <td>218288.808541</td>\n",
       "      <td>3151.693866</td>\n",
       "    </tr>\n",
       "    <tr>\n",
       "      <th>24</th>\n",
       "      <td>SSP2</td>\n",
       "      <td>RCP2p6_GDFL</td>\n",
       "      <td>Invest</td>\n",
       "      <td>545609.774124</td>\n",
       "      <td>3163.066110</td>\n",
       "    </tr>\n",
       "    <tr>\n",
       "      <th>25</th>\n",
       "      <td>SSP2</td>\n",
       "      <td>RCP2p6_GDFL</td>\n",
       "      <td>MaxInvest</td>\n",
       "      <td>710359.227675</td>\n",
       "      <td>3163.689458</td>\n",
       "    </tr>\n",
       "    <tr>\n",
       "      <th>26</th>\n",
       "      <td>SSP2</td>\n",
       "      <td>RCP2p6_GDFL</td>\n",
       "      <td>ZeroInvest</td>\n",
       "      <td>506020.475831</td>\n",
       "      <td>3161.824734</td>\n",
       "    </tr>\n",
       "    <tr>\n",
       "      <th>27</th>\n",
       "      <td>SSP2</td>\n",
       "      <td>RCP2p6_HadGEM</td>\n",
       "      <td>Invest</td>\n",
       "      <td>493717.971093</td>\n",
       "      <td>3158.802781</td>\n",
       "    </tr>\n",
       "    <tr>\n",
       "      <th>28</th>\n",
       "      <td>SSP2</td>\n",
       "      <td>RCP2p6_HadGEM</td>\n",
       "      <td>MaxInvest</td>\n",
       "      <td>645322.438309</td>\n",
       "      <td>3160.236969</td>\n",
       "    </tr>\n",
       "    <tr>\n",
       "      <th>29</th>\n",
       "      <td>SSP2</td>\n",
       "      <td>RCP2p6_HadGEM</td>\n",
       "      <td>ZeroInvest</td>\n",
       "      <td>454472.098179</td>\n",
       "      <td>3157.974185</td>\n",
       "    </tr>\n",
       "    <tr>\n",
       "      <th>30</th>\n",
       "      <td>SSP2</td>\n",
       "      <td>RCP2p6_IPSL</td>\n",
       "      <td>Invest</td>\n",
       "      <td>584012.417614</td>\n",
       "      <td>3162.982825</td>\n",
       "    </tr>\n",
       "    <tr>\n",
       "      <th>31</th>\n",
       "      <td>SSP2</td>\n",
       "      <td>RCP2p6_IPSL</td>\n",
       "      <td>MaxInvest</td>\n",
       "      <td>768241.971702</td>\n",
       "      <td>3164.847790</td>\n",
       "    </tr>\n",
       "    <tr>\n",
       "      <th>32</th>\n",
       "      <td>SSP2</td>\n",
       "      <td>RCP2p6_IPSL</td>\n",
       "      <td>ZeroInvest</td>\n",
       "      <td>545187.584029</td>\n",
       "      <td>3162.912840</td>\n",
       "    </tr>\n",
       "    <tr>\n",
       "      <th>36</th>\n",
       "      <td>SSP2</td>\n",
       "      <td>RCP2p6_NOR</td>\n",
       "      <td>Invest</td>\n",
       "      <td>492789.313970</td>\n",
       "      <td>3160.851813</td>\n",
       "    </tr>\n",
       "    <tr>\n",
       "      <th>37</th>\n",
       "      <td>SSP2</td>\n",
       "      <td>RCP2p6_NOR</td>\n",
       "      <td>MaxInvest</td>\n",
       "      <td>530894.303949</td>\n",
       "      <td>3162.201402</td>\n",
       "    </tr>\n",
       "    <tr>\n",
       "      <th>38</th>\n",
       "      <td>SSP2</td>\n",
       "      <td>RCP2p6_NOR</td>\n",
       "      <td>ZeroInvest</td>\n",
       "      <td>452516.107224</td>\n",
       "      <td>3159.173496</td>\n",
       "    </tr>\n",
       "    <tr>\n",
       "      <th>39</th>\n",
       "      <td>SSP2</td>\n",
       "      <td>RCP8p5_GDFL</td>\n",
       "      <td>Invest</td>\n",
       "      <td>534561.868705</td>\n",
       "      <td>3160.684839</td>\n",
       "    </tr>\n",
       "    <tr>\n",
       "      <th>40</th>\n",
       "      <td>SSP2</td>\n",
       "      <td>RCP8p5_GDFL</td>\n",
       "      <td>MaxInvest</td>\n",
       "      <td>710818.051886</td>\n",
       "      <td>3162.760602</td>\n",
       "    </tr>\n",
       "    <tr>\n",
       "      <th>41</th>\n",
       "      <td>SSP2</td>\n",
       "      <td>RCP8p5_GDFL</td>\n",
       "      <td>ZeroInvest</td>\n",
       "      <td>495148.575970</td>\n",
       "      <td>3159.268222</td>\n",
       "    </tr>\n",
       "    <tr>\n",
       "      <th>43</th>\n",
       "      <td>SSP2</td>\n",
       "      <td>RCP8p5_HadGEM</td>\n",
       "      <td>MaxInvest</td>\n",
       "      <td>781839.507530</td>\n",
       "      <td>3153.281158</td>\n",
       "    </tr>\n",
       "    <tr>\n",
       "      <th>54</th>\n",
       "      <td>SSP2</td>\n",
       "      <td>RCP8p5_NOR</td>\n",
       "      <td>Invest</td>\n",
       "      <td>496348.789468</td>\n",
       "      <td>3150.063345</td>\n",
       "    </tr>\n",
       "    <tr>\n",
       "      <th>55</th>\n",
       "      <td>SSP2</td>\n",
       "      <td>RCP8p5_NOR</td>\n",
       "      <td>MaxInvest</td>\n",
       "      <td>649586.259342</td>\n",
       "      <td>3150.868020</td>\n",
       "    </tr>\n",
       "    <tr>\n",
       "      <th>57</th>\n",
       "      <td>SSP2</td>\n",
       "      <td>Region AFR MaxInvest</td>\n",
       "      <td>MaxInvest</td>\n",
       "      <td>327918.250345</td>\n",
       "      <td>3153.144828</td>\n",
       "    </tr>\n",
       "    <tr>\n",
       "      <th>58</th>\n",
       "      <td>SSP2</td>\n",
       "      <td>Region EAP MaxInvest</td>\n",
       "      <td>MaxInvest</td>\n",
       "      <td>428498.361441</td>\n",
       "      <td>3160.588456</td>\n",
       "    </tr>\n",
       "    <tr>\n",
       "      <th>59</th>\n",
       "      <td>SSP2</td>\n",
       "      <td>Region ECA MaxInvest</td>\n",
       "      <td>MaxInvest</td>\n",
       "      <td>285203.993118</td>\n",
       "      <td>3152.839712</td>\n",
       "    </tr>\n",
       "    <tr>\n",
       "      <th>60</th>\n",
       "      <td>SSP2</td>\n",
       "      <td>Region LCR MaxInvest</td>\n",
       "      <td>MaxInvest</td>\n",
       "      <td>314994.331452</td>\n",
       "      <td>3154.980535</td>\n",
       "    </tr>\n",
       "    <tr>\n",
       "      <th>61</th>\n",
       "      <td>SSP2</td>\n",
       "      <td>Region MNA MaxInvest</td>\n",
       "      <td>MaxInvest</td>\n",
       "      <td>247473.725630</td>\n",
       "      <td>3154.612093</td>\n",
       "    </tr>\n",
       "    <tr>\n",
       "      <th>62</th>\n",
       "      <td>SSP2</td>\n",
       "      <td>Region SAR MaxInvest</td>\n",
       "      <td>MaxInvest</td>\n",
       "      <td>309792.745858</td>\n",
       "      <td>3162.616751</td>\n",
       "    </tr>\n",
       "    <tr>\n",
       "      <th>63</th>\n",
       "      <td>SSP2</td>\n",
       "      <td>TradeOpen</td>\n",
       "      <td>Invest</td>\n",
       "      <td>527292.910094</td>\n",
       "      <td>3187.707100</td>\n",
       "    </tr>\n",
       "    <tr>\n",
       "      <th>65</th>\n",
       "      <td>SSP2</td>\n",
       "      <td>TradeOpen</td>\n",
       "      <td>ZeroInvest</td>\n",
       "      <td>218893.789832</td>\n",
       "      <td>3172.987499</td>\n",
       "    </tr>\n",
       "    <tr>\n",
       "      <th>69</th>\n",
       "      <td>SSP2</td>\n",
       "      <td>WatrEff_High</td>\n",
       "      <td>Invest</td>\n",
       "      <td>552000.631356</td>\n",
       "      <td>3169.742014</td>\n",
       "    </tr>\n",
       "    <tr>\n",
       "      <th>71</th>\n",
       "      <td>SSP2</td>\n",
       "      <td>WatrEff_High</td>\n",
       "      <td>ZeroInvest</td>\n",
       "      <td>218288.808541</td>\n",
       "      <td>3151.693866</td>\n",
       "    </tr>\n",
       "    <tr>\n",
       "      <th>72</th>\n",
       "      <td>SSP2</td>\n",
       "      <td>WatrEff_Low</td>\n",
       "      <td>Invest</td>\n",
       "      <td>463661.516957</td>\n",
       "      <td>3168.464795</td>\n",
       "    </tr>\n",
       "    <tr>\n",
       "      <th>73</th>\n",
       "      <td>SSP2</td>\n",
       "      <td>WatrEff_Low</td>\n",
       "      <td>MaxInvest</td>\n",
       "      <td>771144.908450</td>\n",
       "      <td>3179.557198</td>\n",
       "    </tr>\n",
       "    <tr>\n",
       "      <th>74</th>\n",
       "      <td>SSP2</td>\n",
       "      <td>WatrEff_Low</td>\n",
       "      <td>ZeroInvest</td>\n",
       "      <td>218288.808541</td>\n",
       "      <td>3151.693866</td>\n",
       "    </tr>\n",
       "  </tbody>\n",
       "</table>\n",
       "</div>"
      ],
      "text/plain": [
       "   Macro           Sensitivity InvestmentType           disc     calories\n",
       "0   SSP1              Baseline         Invest  451165.845831  3156.677008\n",
       "1   SSP1              Baseline      MaxInvest  722743.893813  3170.809599\n",
       "3   SSP1          Combined_Low         Invest  577675.473473  3152.378665\n",
       "6   SSP1         Combined_Low2         Invest  577675.473473  3152.378665\n",
       "9   SSP2              Baseline         Invest  503835.142093  3169.043205\n",
       "11  SSP2              Baseline     ZeroInvest  218288.808541  3151.693866\n",
       "24  SSP2           RCP2p6_GDFL         Invest  545609.774124  3163.066110\n",
       "25  SSP2           RCP2p6_GDFL      MaxInvest  710359.227675  3163.689458\n",
       "26  SSP2           RCP2p6_GDFL     ZeroInvest  506020.475831  3161.824734\n",
       "27  SSP2         RCP2p6_HadGEM         Invest  493717.971093  3158.802781\n",
       "28  SSP2         RCP2p6_HadGEM      MaxInvest  645322.438309  3160.236969\n",
       "29  SSP2         RCP2p6_HadGEM     ZeroInvest  454472.098179  3157.974185\n",
       "30  SSP2           RCP2p6_IPSL         Invest  584012.417614  3162.982825\n",
       "31  SSP2           RCP2p6_IPSL      MaxInvest  768241.971702  3164.847790\n",
       "32  SSP2           RCP2p6_IPSL     ZeroInvest  545187.584029  3162.912840\n",
       "36  SSP2            RCP2p6_NOR         Invest  492789.313970  3160.851813\n",
       "37  SSP2            RCP2p6_NOR      MaxInvest  530894.303949  3162.201402\n",
       "38  SSP2            RCP2p6_NOR     ZeroInvest  452516.107224  3159.173496\n",
       "39  SSP2           RCP8p5_GDFL         Invest  534561.868705  3160.684839\n",
       "40  SSP2           RCP8p5_GDFL      MaxInvest  710818.051886  3162.760602\n",
       "41  SSP2           RCP8p5_GDFL     ZeroInvest  495148.575970  3159.268222\n",
       "43  SSP2         RCP8p5_HadGEM      MaxInvest  781839.507530  3153.281158\n",
       "54  SSP2            RCP8p5_NOR         Invest  496348.789468  3150.063345\n",
       "55  SSP2            RCP8p5_NOR      MaxInvest  649586.259342  3150.868020\n",
       "57  SSP2  Region AFR MaxInvest      MaxInvest  327918.250345  3153.144828\n",
       "58  SSP2  Region EAP MaxInvest      MaxInvest  428498.361441  3160.588456\n",
       "59  SSP2  Region ECA MaxInvest      MaxInvest  285203.993118  3152.839712\n",
       "60  SSP2  Region LCR MaxInvest      MaxInvest  314994.331452  3154.980535\n",
       "61  SSP2  Region MNA MaxInvest      MaxInvest  247473.725630  3154.612093\n",
       "62  SSP2  Region SAR MaxInvest      MaxInvest  309792.745858  3162.616751\n",
       "63  SSP2             TradeOpen         Invest  527292.910094  3187.707100\n",
       "65  SSP2             TradeOpen     ZeroInvest  218893.789832  3172.987499\n",
       "69  SSP2          WatrEff_High         Invest  552000.631356  3169.742014\n",
       "71  SSP2          WatrEff_High     ZeroInvest  218288.808541  3151.693866\n",
       "72  SSP2           WatrEff_Low         Invest  463661.516957  3168.464795\n",
       "73  SSP2           WatrEff_Low      MaxInvest  771144.908450  3179.557198\n",
       "74  SSP2           WatrEff_Low     ZeroInvest  218288.808541  3151.693866"
      ]
     },
     "execution_count": 207,
     "metadata": {},
     "output_type": "execute_result"
    }
   ],
   "source": [
    "global_data.loc[(global_data.disc<800000)&(global_data.calories>3150),:]"
   ]
  },
  {
   "cell_type": "code",
   "execution_count": 208,
   "metadata": {},
   "outputs": [
    {
     "data": {
      "text/html": [
       "<div>\n",
       "<style>\n",
       "    .dataframe thead tr:only-child th {\n",
       "        text-align: right;\n",
       "    }\n",
       "\n",
       "    .dataframe thead th {\n",
       "        text-align: left;\n",
       "    }\n",
       "\n",
       "    .dataframe tbody tr th {\n",
       "        vertical-align: top;\n",
       "    }\n",
       "</style>\n",
       "<table border=\"1\" class=\"dataframe\">\n",
       "  <thead>\n",
       "    <tr style=\"text-align: right;\">\n",
       "      <th></th>\n",
       "      <th>Macro</th>\n",
       "      <th>Sensitivity</th>\n",
       "      <th>InvestmentType</th>\n",
       "      <th>disc</th>\n",
       "      <th>calories</th>\n",
       "    </tr>\n",
       "  </thead>\n",
       "  <tbody>\n",
       "    <tr>\n",
       "      <th>14</th>\n",
       "      <td>SSP2</td>\n",
       "      <td>Combined_High</td>\n",
       "      <td>ZeroInvest</td>\n",
       "      <td>231444.615084</td>\n",
       "      <td>3098.835262</td>\n",
       "    </tr>\n",
       "    <tr>\n",
       "      <th>20</th>\n",
       "      <td>SSP2</td>\n",
       "      <td>HealthyDiet</td>\n",
       "      <td>ZeroInvest</td>\n",
       "      <td>204084.111982</td>\n",
       "      <td>3098.614429</td>\n",
       "    </tr>\n",
       "    <tr>\n",
       "      <th>21</th>\n",
       "      <td>SSP2</td>\n",
       "      <td>HealthySustDiet</td>\n",
       "      <td>Invest</td>\n",
       "      <td>466802.437610</td>\n",
       "      <td>3094.443896</td>\n",
       "    </tr>\n",
       "    <tr>\n",
       "      <th>23</th>\n",
       "      <td>SSP2</td>\n",
       "      <td>HealthySustDiet</td>\n",
       "      <td>ZeroInvest</td>\n",
       "      <td>203013.733492</td>\n",
       "      <td>3086.440626</td>\n",
       "    </tr>\n",
       "    <tr>\n",
       "      <th>47</th>\n",
       "      <td>SSP2</td>\n",
       "      <td>RCP8p5_HadGem_noCO2</td>\n",
       "      <td>ZeroInvest</td>\n",
       "      <td>228041.797480</td>\n",
       "      <td>3080.151491</td>\n",
       "    </tr>\n",
       "    <tr>\n",
       "      <th>75</th>\n",
       "      <td>SSP3</td>\n",
       "      <td>Baseline</td>\n",
       "      <td>Invest</td>\n",
       "      <td>505656.703094</td>\n",
       "      <td>3054.528093</td>\n",
       "    </tr>\n",
       "    <tr>\n",
       "      <th>76</th>\n",
       "      <td>SSP3</td>\n",
       "      <td>Baseline</td>\n",
       "      <td>MaxInvest</td>\n",
       "      <td>792461.306672</td>\n",
       "      <td>3059.900130</td>\n",
       "    </tr>\n",
       "    <tr>\n",
       "      <th>77</th>\n",
       "      <td>SSP3</td>\n",
       "      <td>Baseline</td>\n",
       "      <td>ZeroInvest</td>\n",
       "      <td>209277.328833</td>\n",
       "      <td>3032.044321</td>\n",
       "    </tr>\n",
       "  </tbody>\n",
       "</table>\n",
       "</div>"
      ],
      "text/plain": [
       "   Macro          Sensitivity InvestmentType           disc     calories\n",
       "14  SSP2        Combined_High     ZeroInvest  231444.615084  3098.835262\n",
       "20  SSP2          HealthyDiet     ZeroInvest  204084.111982  3098.614429\n",
       "21  SSP2      HealthySustDiet         Invest  466802.437610  3094.443896\n",
       "23  SSP2      HealthySustDiet     ZeroInvest  203013.733492  3086.440626\n",
       "47  SSP2  RCP8p5_HadGem_noCO2     ZeroInvest  228041.797480  3080.151491\n",
       "75  SSP3             Baseline         Invest  505656.703094  3054.528093\n",
       "76  SSP3             Baseline      MaxInvest  792461.306672  3059.900130\n",
       "77  SSP3             Baseline     ZeroInvest  209277.328833  3032.044321"
      ]
     },
     "execution_count": 208,
     "metadata": {},
     "output_type": "execute_result"
    }
   ],
   "source": [
    "global_data.loc[(global_data.calories<3100),:]"
   ]
  },
  {
   "cell_type": "code",
   "execution_count": 209,
   "metadata": {
    "collapsed": true
   },
   "outputs": [],
   "source": [
    "toplot = costs_region_over_gdp.reset_index().merge(calories_reg_2030.reset_index().rename(columns={2030:\"calories\"}),on=[\"Macro\",\"Sensitivity\",\"InvestmentType\",\"Region\"]).drop(\"Unit\",axis=1)\n",
    "toplot[\"percent2\"] = 100*toplot.percent2"
   ]
  },
  {
   "cell_type": "code",
   "execution_count": 210,
   "metadata": {},
   "outputs": [
    {
     "data": {
      "text/plain": [
       "(0, 0.8)"
      ]
     },
     "execution_count": 210,
     "metadata": {},
     "output_type": "execute_result"
    },
    {
     "data": {
      "image/png": "[encoded data removed]",
      "text/plain": [
       "<matplotlib.figure.Figure at 0x23fdb51e4e0>"
      ]
     },
     "metadata": {},
     "output_type": "display_data"
    }
   ],
   "source": [
    "sns.lmplot(\"percent2\", \"calories\", data=toplot, hue='Region', fit_reg=False, size=10, aspect = 1)\n",
    "plt.xlim([0,0.8])"
   ]
  },
  {
   "cell_type": "code",
   "execution_count": null,
   "metadata": {
    "collapsed": true
   },
   "outputs": [],
   "source": []
  }
 ],
 "metadata": {
  "kernelspec": {
   "display_name": "Python (Julie1)",
   "language": "python",
   "name": "julie1"
  },
  "language_info": {
   "codemirror_mode": {
    "name": "ipython",
    "version": 3
   },
   "file_extension": ".py",
   "mimetype": "text/x-python",
   "name": "python",
   "nbconvert_exporter": "python",
   "pygments_lexer": "ipython3",
   "version": "3.6.6"
  },
  "toc": {
   "colors": {
    "hover_highlight": "#DAA520",
    "navigate_num": "#000000",
    "navigate_text": "#333333",
    "running_highlight": "#FF0000",
    "selected_highlight": "#FFD700",
    "sidebar_border": "#EEEEEE",
    "wrapper_background": "#FFFFFF"
   },
   "moveMenuLeft": true,
   "nav_menu": {
    "height": "12px",
    "width": "252px"
   },
   "navigate_menu": true,
   "number_sections": true,
   "sideBar": true,
   "threshold": 4,
   "toc_cell": false,
   "toc_section_display": "block",
   "toc_window_display": false,
   "widenNotebook": false
  }
 },
 "nbformat": 4,
 "nbformat_minor": 2
}
