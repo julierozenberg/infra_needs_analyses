{
 "cells": [
  {
   "cell_type": "code",
   "execution_count": 1,
   "metadata": {},
   "outputs": [],
   "source": [
    "import pandas as pd\n",
    "import numpy as np\n",
    "import matplotlib.pyplot as plt\n",
    "import seaborn as sns"
   ]
  },
  {
   "cell_type": "code",
   "execution_count": 2,
   "metadata": {},
   "outputs": [],
   "source": [
    "%load_ext autoreload\n",
    "%autoreload"
   ]
  },
  {
   "cell_type": "code",
   "execution_count": 3,
   "metadata": {},
   "outputs": [],
   "source": [
    "from convert_pc_to_usd import load_GDP,return_usd"
   ]
  },
  {
   "cell_type": "code",
   "execution_count": 4,
   "metadata": {},
   "outputs": [],
   "source": [
    "GDP_file = 'C:\\\\Users\\\\WB451855\\\\OneDrive - WBG\\\\!infra_needs_data\\\\summary_all_data.xlsx'"
   ]
  },
  {
   "cell_type": "code",
   "execution_count": 5,
   "metadata": {},
   "outputs": [],
   "source": [
    "GDP2 = load_GDP(GDP_file)"
   ]
  },
  {
   "cell_type": "code",
   "execution_count": 6,
   "metadata": {},
   "outputs": [],
   "source": [
    "resilience_folder = \"C:\\\\Users\\\\WB451855\\OneDrive - WBG\\\\!infra_needs_data\\\\resilience\\\\\""
   ]
  },
  {
   "cell_type": "code",
   "execution_count": 9,
   "metadata": {},
   "outputs": [],
   "source": [
    "inv_needs = pd.read_excel(resilience_folder+\"power robcosts_Julie.xlsx\",\"power_investment_needs\")"
   ]
  },
  {
   "cell_type": "code",
   "execution_count": 26,
   "metadata": {},
   "outputs": [],
   "source": [
    "extra_cost_exposure = pd.read_excel(resilience_folder+\"power robcosts_Julie.xlsx\",\"cost_increase_exposure\")\n",
    "extra_cost_all = pd.read_excel(resilience_folder+\"power robcosts_Julie.xlsx\",\"cost_increase_all\")"
   ]
  },
  {
   "cell_type": "code",
   "execution_count": 12,
   "metadata": {},
   "outputs": [
    {
     "data": {
      "text/html": [
       "<div>\n",
       "<style scoped>\n",
       "    .dataframe tbody tr th:only-of-type {\n",
       "        vertical-align: middle;\n",
       "    }\n",
       "\n",
       "    .dataframe tbody tr th {\n",
       "        vertical-align: top;\n",
       "    }\n",
       "\n",
       "    .dataframe thead th {\n",
       "        text-align: right;\n",
       "    }\n",
       "</style>\n",
       "<table border=\"1\" class=\"dataframe\">\n",
       "  <thead>\n",
       "    <tr style=\"text-align: right;\">\n",
       "      <th></th>\n",
       "      <th>Variable</th>\n",
       "      <th>Model</th>\n",
       "      <th>Region</th>\n",
       "      <th>Scenario</th>\n",
       "      <th>2015</th>\n",
       "      <th>2020</th>\n",
       "      <th>2025</th>\n",
       "      <th>2030</th>\n",
       "    </tr>\n",
       "  </thead>\n",
       "  <tbody>\n",
       "    <tr>\n",
       "      <th>177</th>\n",
       "      <td>EnergyInv_gdp</td>\n",
       "      <td>WITCH-GLOBIOM</td>\n",
       "      <td>R5REF</td>\n",
       "      <td>2C</td>\n",
       "      <td>0.032554</td>\n",
       "      <td>0.028219</td>\n",
       "      <td>0.025917</td>\n",
       "      <td>0.015186</td>\n",
       "    </tr>\n",
       "    <tr>\n",
       "      <th>31</th>\n",
       "      <td>EnergyInv_gdp_increasedstandards</td>\n",
       "      <td>MESSAGEix-GLOBIOM</td>\n",
       "      <td>R5ASIA</td>\n",
       "      <td>NDC</td>\n",
       "      <td>0.016304</td>\n",
       "      <td>0.013576</td>\n",
       "      <td>0.008371</td>\n",
       "      <td>0.005749</td>\n",
       "    </tr>\n",
       "    <tr>\n",
       "      <th>0</th>\n",
       "      <td>EnergyInv_gdp_increasedstandards</td>\n",
       "      <td>AIM/CGE</td>\n",
       "      <td>R5ASIA</td>\n",
       "      <td>2C</td>\n",
       "      <td>0.016947</td>\n",
       "      <td>0.014678</td>\n",
       "      <td>0.031675</td>\n",
       "      <td>0.035293</td>\n",
       "    </tr>\n",
       "    <tr>\n",
       "      <th>153</th>\n",
       "      <td>EnergyInv_gdp</td>\n",
       "      <td>REMIND-MAgPIE</td>\n",
       "      <td>R5LAM</td>\n",
       "      <td>2C</td>\n",
       "      <td>0.015933</td>\n",
       "      <td>0.016342</td>\n",
       "      <td>0.016534</td>\n",
       "      <td>0.021966</td>\n",
       "    </tr>\n",
       "    <tr>\n",
       "      <th>30</th>\n",
       "      <td>EnergyInv_gdp_increasedstandards</td>\n",
       "      <td>MESSAGEix-GLOBIOM</td>\n",
       "      <td>R5ASIA</td>\n",
       "      <td>2C</td>\n",
       "      <td>0.016304</td>\n",
       "      <td>0.013576</td>\n",
       "      <td>0.009487</td>\n",
       "      <td>0.007417</td>\n",
       "    </tr>\n",
       "  </tbody>\n",
       "</table>\n",
       "</div>"
      ],
      "text/plain": [
       "                             Variable              Model  Region Scenario  \\\n",
       "177                     EnergyInv_gdp      WITCH-GLOBIOM   R5REF       2C   \n",
       "31   EnergyInv_gdp_increasedstandards  MESSAGEix-GLOBIOM  R5ASIA      NDC   \n",
       "0    EnergyInv_gdp_increasedstandards            AIM/CGE  R5ASIA       2C   \n",
       "153                     EnergyInv_gdp      REMIND-MAgPIE   R5LAM       2C   \n",
       "30   EnergyInv_gdp_increasedstandards  MESSAGEix-GLOBIOM  R5ASIA       2C   \n",
       "\n",
       "         2015      2020      2025      2030  \n",
       "177  0.032554  0.028219  0.025917  0.015186  \n",
       "31   0.016304  0.013576  0.008371  0.005749  \n",
       "0    0.016947  0.014678  0.031675  0.035293  \n",
       "153  0.015933  0.016342  0.016534  0.021966  \n",
       "30   0.016304  0.013576  0.009487  0.007417  "
      ]
     },
     "execution_count": 12,
     "metadata": {},
     "output_type": "execute_result"
    }
   ],
   "source": [
    "inv_needs.sample(5)"
   ]
  },
  {
   "cell_type": "code",
   "execution_count": 19,
   "metadata": {},
   "outputs": [],
   "source": [
    "inv_needs_base = inv_needs[inv_needs.Variable==\"EnergyInv_gdp\"]"
   ]
  },
  {
   "cell_type": "code",
   "execution_count": 20,
   "metadata": {},
   "outputs": [],
   "source": [
    "inv_needs_base = inv_needs_base.set_index([\"Model\",\"Region\",\"Scenario\"]).drop(\"Variable\",axis=1)\n",
    "inv_needs_base.columns.name='year'\n",
    "inv_needs_base = inv_needs_base.stack().to_frame().rename(columns={0:\"divided_by_gdp\"})"
   ]
  },
  {
   "cell_type": "code",
   "execution_count": 27,
   "metadata": {},
   "outputs": [],
   "source": [
    "extra_cost_all = extra_cost_all.set_index([\"Model\",\"Region\",\"Scenario\"]).drop(\"Discounted\",axis=1)\n",
    "extra_cost_all.columns.name='year'\n",
    "extra_cost_all = extra_cost_all.stack().to_frame().rename(columns={0:\"cost_increase_all\"})"
   ]
  },
  {
   "cell_type": "code",
   "execution_count": 34,
   "metadata": {},
   "outputs": [],
   "source": [
    "extra_cost_exposure = extra_cost_exposure.set_index([\"Model\",\"Region\",\"Scenario\"]).drop(\"Discounted\",axis=1)\n",
    "extra_cost_exposure.columns.name='year'\n",
    "extra_cost_exposure = extra_cost_exposure.stack().to_frame().rename(columns={0:\"cost_increase\"})"
   ]
  },
  {
   "cell_type": "code",
   "execution_count": null,
   "metadata": {},
   "outputs": [],
   "source": []
  },
  {
   "cell_type": "code",
   "execution_count": 38,
   "metadata": {},
   "outputs": [],
   "source": [
    "all_res = inv_needs_base.reset_index().merge(extra_cost_all.reset_index(),on=[\"Model\",\"Region\",\"Scenario\",\"year\"]).merge(extra_cost_exposure.reset_index(),on=[\"Model\",\"Region\",\"Scenario\",\"year\"])"
   ]
  },
  {
   "cell_type": "code",
   "execution_count": 40,
   "metadata": {},
   "outputs": [],
   "source": [
    "all_res['divided_by_gdp_res'] = all_res['divided_by_gdp']*(1+all_res['cost_increase'])\n",
    "all_res['divided_by_gdp_res_all'] = all_res['divided_by_gdp']*(1+all_res['cost_increase_all'])"
   ]
  },
  {
   "cell_type": "code",
   "execution_count": 41,
   "metadata": {},
   "outputs": [],
   "source": [
    "all_res['cost_diff'] = all_res['divided_by_gdp_res']-all_res['divided_by_gdp']\n",
    "all_res['cost_diff_all'] = all_res['divided_by_gdp_res_all']-all_res['divided_by_gdp']"
   ]
  },
  {
   "cell_type": "code",
   "execution_count": 43,
   "metadata": {},
   "outputs": [],
   "source": [
    "all_res_av = all_res.set_index([\"Model\",\"Region\",\"Scenario\",'year']).mean(level=([\"Model\",\"Region\",\"Scenario\"]))"
   ]
  },
  {
   "cell_type": "code",
   "execution_count": 44,
   "metadata": {},
   "outputs": [
    {
     "data": {
      "text/plain": [
       "array(['R5ASIA', 'R5LAM', 'R5MAF', 'R5OECD90+EU', 'R5REF'], dtype=object)"
      ]
     },
     "execution_count": 44,
     "metadata": {},
     "output_type": "execute_result"
    }
   ],
   "source": [
    "all_res_av.reset_index().Region.unique()"
   ]
  },
  {
   "cell_type": "code",
   "execution_count": 45,
   "metadata": {},
   "outputs": [],
   "source": [
    "all_res_av = all_res_av.reset_index()\n",
    "\n",
    "all_res_av[\"region\"] = all_res_av.Region.replace({\"R5MAF\":\"Africa\",\\\n",
    "                                      \"R5LAM\":\"Latin America and Caribbean\",\\\n",
    "                                      \"R5REF\":\"Eastern Europe and Central Asia\",\\\n",
    "                                      \"R5ASIA\":\"Asia\",\\\n",
    "                                      \"R5OECD90+EU\":\"OECD\"})"
   ]
  },
  {
   "cell_type": "code",
   "execution_count": 46,
   "metadata": {},
   "outputs": [],
   "source": [
    "all_res_av_usd = return_usd(all_res_av,'region','cost_diff',[\"Model\",\"Scenario\"],GDP2,d=0.06,ssp='ssp2',wbregions=False)"
   ]
  },
  {
   "cell_type": "code",
   "execution_count": 49,
   "metadata": {},
   "outputs": [
    {
     "data": {
      "text/plain": [
       "count    18.000000\n",
       "mean     16.420776\n",
       "std       5.511063\n",
       "min       8.989644\n",
       "25%      13.089095\n",
       "50%      15.832537\n",
       "75%      19.561188\n",
       "max      27.549049\n",
       "Name: cost_bUSD_disc_annual, dtype: float64"
      ]
     },
     "execution_count": 49,
     "metadata": {},
     "output_type": "execute_result"
    }
   ],
   "source": [
    "all_res_av_usd.set_index(['region',\"Model\",\"Scenario\"]).sum(level=[\"Model\",\"Scenario\"]).cost_bUSD_disc_annual.describe()"
   ]
  },
  {
   "cell_type": "code",
   "execution_count": 50,
   "metadata": {},
   "outputs": [],
   "source": [
    "all_res_av_usd_tot = all_res_av_usd.set_index(['region',\"Model\",\"Scenario\"]).sum(level=[\"Model\",\"Scenario\"])"
   ]
  },
  {
   "cell_type": "code",
   "execution_count": 51,
   "metadata": {},
   "outputs": [
    {
     "data": {
      "text/plain": [
       "cost_bUSD_disc           134.844660\n",
       "cost_bUSD_disc_annual      8.989644\n",
       "Name: (MESSAGEix-GLOBIOM, CPol), dtype: float64"
      ]
     },
     "execution_count": 51,
     "metadata": {},
     "output_type": "execute_result"
    }
   ],
   "source": [
    "all_res_av_usd_tot.loc[all_res_av_usd_tot['cost_bUSD_disc_annual'].idxmin()]"
   ]
  },
  {
   "cell_type": "code",
   "execution_count": 52,
   "metadata": {},
   "outputs": [
    {
     "data": {
      "text/plain": [
       "cost_bUSD_disc           413.235736\n",
       "cost_bUSD_disc_annual     27.549049\n",
       "Name: (REMIND-MAgPIE, 2C), dtype: float64"
      ]
     },
     "execution_count": 52,
     "metadata": {},
     "output_type": "execute_result"
    }
   ],
   "source": [
    "all_res_av_usd_tot.loc[all_res_av_usd_tot['cost_bUSD_disc_annual'].idxmax()]"
   ]
  },
  {
   "cell_type": "code",
   "execution_count": 53,
   "metadata": {},
   "outputs": [],
   "source": [
    "all_res_av_usd_all = return_usd(all_res_av,'region','cost_diff_all',[\"Model\",\"Scenario\"],GDP2,d=0.06,ssp='ssp2',wbregions=False)"
   ]
  },
  {
   "cell_type": "code",
   "execution_count": 54,
   "metadata": {},
   "outputs": [],
   "source": [
    "all_res_av_usd_all_tot = all_res_av_usd_all.set_index(['region',\"Model\",\"Scenario\"]).sum(level=[\"Model\",\"Scenario\"])"
   ]
  },
  {
   "cell_type": "code",
   "execution_count": 55,
   "metadata": {},
   "outputs": [
    {
     "data": {
      "text/plain": [
       "count     18.000000\n",
       "mean     178.801973\n",
       "std       60.102166\n",
       "min       95.896689\n",
       "25%      145.169809\n",
       "50%      166.015545\n",
       "75%      227.623981\n",
       "max      296.489310\n",
       "Name: cost_bUSD_disc_annual, dtype: float64"
      ]
     },
     "execution_count": 55,
     "metadata": {},
     "output_type": "execute_result"
    }
   ],
   "source": [
    "all_res_av_usd_all_tot.cost_bUSD_disc_annual.describe()"
   ]
  },
  {
   "cell_type": "code",
   "execution_count": 56,
   "metadata": {},
   "outputs": [
    {
     "data": {
      "text/html": [
       "<div>\n",
       "<style scoped>\n",
       "    .dataframe tbody tr th:only-of-type {\n",
       "        vertical-align: middle;\n",
       "    }\n",
       "\n",
       "    .dataframe tbody tr th {\n",
       "        vertical-align: top;\n",
       "    }\n",
       "\n",
       "    .dataframe thead th {\n",
       "        text-align: right;\n",
       "    }\n",
       "</style>\n",
       "<table border=\"1\" class=\"dataframe\">\n",
       "  <thead>\n",
       "    <tr style=\"text-align: right;\">\n",
       "      <th></th>\n",
       "      <th>cost_increase</th>\n",
       "      <th>cost_increase_all</th>\n",
       "    </tr>\n",
       "  </thead>\n",
       "  <tbody>\n",
       "    <tr>\n",
       "      <th>count</th>\n",
       "      <td>90.000000</td>\n",
       "      <td>90.000000</td>\n",
       "    </tr>\n",
       "    <tr>\n",
       "      <th>mean</th>\n",
       "      <td>0.030363</td>\n",
       "      <td>0.294836</td>\n",
       "    </tr>\n",
       "    <tr>\n",
       "      <th>std</th>\n",
       "      <td>0.018624</td>\n",
       "      <td>0.022412</td>\n",
       "    </tr>\n",
       "    <tr>\n",
       "      <th>min</th>\n",
       "      <td>0.001410</td>\n",
       "      <td>0.198443</td>\n",
       "    </tr>\n",
       "    <tr>\n",
       "      <th>25%</th>\n",
       "      <td>0.022454</td>\n",
       "      <td>0.283698</td>\n",
       "    </tr>\n",
       "    <tr>\n",
       "      <th>50%</th>\n",
       "      <td>0.027092</td>\n",
       "      <td>0.295448</td>\n",
       "    </tr>\n",
       "    <tr>\n",
       "      <th>75%</th>\n",
       "      <td>0.038332</td>\n",
       "      <td>0.309101</td>\n",
       "    </tr>\n",
       "    <tr>\n",
       "      <th>max</th>\n",
       "      <td>0.067434</td>\n",
       "      <td>0.336481</td>\n",
       "    </tr>\n",
       "  </tbody>\n",
       "</table>\n",
       "</div>"
      ],
      "text/plain": [
       "       cost_increase  cost_increase_all\n",
       "count      90.000000          90.000000\n",
       "mean        0.030363           0.294836\n",
       "std         0.018624           0.022412\n",
       "min         0.001410           0.198443\n",
       "25%         0.022454           0.283698\n",
       "50%         0.027092           0.295448\n",
       "75%         0.038332           0.309101\n",
       "max         0.067434           0.336481"
      ]
     },
     "execution_count": 56,
     "metadata": {},
     "output_type": "execute_result"
    }
   ],
   "source": [
    "all_res_av[['cost_increase','cost_increase_all']].describe()"
   ]
  },
  {
   "cell_type": "code",
   "execution_count": 57,
   "metadata": {},
   "outputs": [
    {
     "data": {
      "text/plain": [
       "cost_increase        0.030363\n",
       "cost_increase_all    0.294836\n",
       "dtype: float64"
      ]
     },
     "execution_count": 57,
     "metadata": {},
     "output_type": "execute_result"
    }
   ],
   "source": [
    "all_res_av[['cost_increase','cost_increase_all']].mean()"
   ]
  },
  {
   "cell_type": "code",
   "execution_count": null,
   "metadata": {},
   "outputs": [],
   "source": []
  }
 ],
 "metadata": {
  "kernelspec": {
   "display_name": "Python (Julie1)",
   "language": "python",
   "name": "julie1"
  },
  "language_info": {
   "codemirror_mode": {
    "name": "ipython",
    "version": 3
   },
   "file_extension": ".py",
   "mimetype": "text/x-python",
   "name": "python",
   "nbconvert_exporter": "python",
   "pygments_lexer": "ipython3",
   "version": "3.6.6"
  }
 },
 "nbformat": 4,
 "nbformat_minor": 2
}
