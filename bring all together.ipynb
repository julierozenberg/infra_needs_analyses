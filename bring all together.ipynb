{
 "cells": [
  {
   "cell_type": "code",
   "execution_count": 1,
   "metadata": {},
   "outputs": [],
   "source": [
    "import pandas as pd"
   ]
  },
  {
   "cell_type": "code",
   "execution_count": 4,
   "metadata": {},
   "outputs": [
    {
     "data": {
      "text/plain": [
       "['percent GDP', 'GDP']"
      ]
     },
     "execution_count": 4,
     "metadata": {},
     "output_type": "execute_result"
    }
   ],
   "source": [
    "xl = pd.ExcelFile('C:\\\\Users\\\\WB451855\\\\OneDrive - WBG\\\\!infra_needs_data\\\\summary_all_data.xlsx')\n",
    "\n",
    "xl.sheet_names  # see all sheet names"
   ]
  },
  {
   "cell_type": "code",
   "execution_count": 5,
   "metadata": {},
   "outputs": [],
   "source": [
    "GDP = xl.parse(\"GDP\")  # read a specific sheet to DataFrame"
   ]
  },
  {
   "cell_type": "code",
   "execution_count": 10,
   "metadata": {},
   "outputs": [],
   "source": [
    "GDP2 = GDP.set_index([\"wbregionname\",\"year\",\"ssp\"]).gdp.unstack(\"wbregionname\")"
   ]
  },
  {
   "cell_type": "code",
   "execution_count": 11,
   "metadata": {},
   "outputs": [
    {
     "data": {
      "text/plain": [
       "Index(['East Asia & Pacific', 'Europe & Central Asia',\n",
       "       'Latin America & Caribbean', 'Middle East & North Africa', 'South Asia',\n",
       "       'Sub-Saharan Africa'],\n",
       "      dtype='object', name='wbregionname')"
      ]
     },
     "execution_count": 11,
     "metadata": {},
     "output_type": "execute_result"
    }
   ],
   "source": [
    "GDP2.columns"
   ]
  },
  {
   "cell_type": "code",
   "execution_count": 12,
   "metadata": {},
   "outputs": [],
   "source": [
    "GDP2[\"Africa & Middle East\"] = GDP2[\"Middle East & North Africa\"]+GDP2[\"Sub-Saharan Africa\"]\n",
    "GDP2[\"Asia\"] = GDP2[\"East Asia & Pacific\"]+GDP2[\"South Asia\"]"
   ]
  },
  {
   "cell_type": "code",
   "execution_count": 14,
   "metadata": {},
   "outputs": [
    {
     "data": {
      "text/plain": [
       "year  ssp   wbregionname              \n",
       "2015  ssp1  East Asia & Pacific           1.292596e+13\n",
       "            Europe & Central Asia         3.214057e+12\n",
       "            Latin America & Caribbean     7.983885e+12\n",
       "            Middle East & North Africa    2.297551e+12\n",
       "            South Asia                    3.709462e+12\n",
       "            Sub-Saharan Africa            2.406483e+12\n",
       "            Africa & Middle East          4.704034e+12\n",
       "            Asia                          1.663543e+13\n",
       "      ssp2  East Asia & Pacific           1.292596e+13\n",
       "            Europe & Central Asia         3.214057e+12\n",
       "            Latin America & Caribbean     7.983885e+12\n",
       "            Middle East & North Africa    2.297551e+12\n",
       "            South Asia                    3.709462e+12\n",
       "            Sub-Saharan Africa            2.406483e+12\n",
       "            Africa & Middle East          4.704034e+12\n",
       "            Asia                          1.663543e+13\n",
       "      ssp3  East Asia & Pacific           1.292596e+13\n",
       "            Europe & Central Asia         3.214057e+12\n",
       "            Latin America & Caribbean     7.983885e+12\n",
       "            Middle East & North Africa    2.297551e+12\n",
       "            South Asia                    3.709462e+12\n",
       "            Sub-Saharan Africa            2.406483e+12\n",
       "            Africa & Middle East          4.704034e+12\n",
       "            Asia                          1.663543e+13\n",
       "      ssp4  East Asia & Pacific           1.292596e+13\n",
       "            Europe & Central Asia         3.214057e+12\n",
       "            Latin America & Caribbean     7.983885e+12\n",
       "            Middle East & North Africa    2.297551e+12\n",
       "            South Asia                    3.709462e+12\n",
       "            Sub-Saharan Africa            2.406483e+12\n",
       "                                              ...     \n",
       "2030  ssp2  Latin America & Caribbean     1.316327e+13\n",
       "            Middle East & North Africa    4.158845e+12\n",
       "            South Asia                    8.785573e+12\n",
       "            Sub-Saharan Africa            5.515711e+12\n",
       "            Africa & Middle East          9.674556e+12\n",
       "            Asia                          3.988332e+13\n",
       "      ssp3  East Asia & Pacific           2.890813e+13\n",
       "            Europe & Central Asia         5.366235e+12\n",
       "            Latin America & Caribbean     1.270015e+13\n",
       "            Middle East & North Africa    4.086656e+12\n",
       "            South Asia                    8.120592e+12\n",
       "            Sub-Saharan Africa            5.138343e+12\n",
       "            Africa & Middle East          9.224999e+12\n",
       "            Asia                          3.702872e+13\n",
       "      ssp4  East Asia & Pacific           3.099025e+13\n",
       "            Europe & Central Asia         5.518456e+12\n",
       "            Latin America & Caribbean     1.286087e+13\n",
       "            Middle East & North Africa    4.129795e+12\n",
       "            South Asia                    8.390683e+12\n",
       "            Sub-Saharan Africa            5.069566e+12\n",
       "            Africa & Middle East          9.199361e+12\n",
       "            Asia                          3.938093e+13\n",
       "      ssp5  East Asia & Pacific           3.871008e+13\n",
       "            Europe & Central Asia         6.243572e+12\n",
       "            Latin America & Caribbean     1.454351e+13\n",
       "            Middle East & North Africa    4.605648e+12\n",
       "            South Asia                    1.035192e+13\n",
       "            Sub-Saharan Africa            6.517018e+12\n",
       "            Africa & Middle East          1.112267e+13\n",
       "            Asia                          4.906199e+13\n",
       "Length: 640, dtype: float64"
      ]
     },
     "execution_count": 14,
     "metadata": {},
     "output_type": "execute_result"
    }
   ],
   "source": [
    "GDP2.stack()"
   ]
  },
  {
   "cell_type": "code",
   "execution_count": 16,
   "metadata": {},
   "outputs": [
    {
     "data": {
      "text/plain": [
       "array([2015, 2016, 2017, 2018, 2019, 2020, 2021, 2022, 2023, 2024, 2025,\n",
       "       2026, 2027, 2028, 2029, 2030], dtype=int64)"
      ]
     },
     "execution_count": 16,
     "metadata": {},
     "output_type": "execute_result"
    }
   ],
   "source": [
    "GDP2.stack().reset_index().year.unique()"
   ]
  },
  {
   "cell_type": "code",
   "execution_count": null,
   "metadata": {},
   "outputs": [],
   "source": []
  }
 ],
 "metadata": {
  "kernelspec": {
   "display_name": "Python (Julie1)",
   "language": "python",
   "name": "julie1"
  },
  "language_info": {
   "codemirror_mode": {
    "name": "ipython",
    "version": 3
   },
   "file_extension": ".py",
   "mimetype": "text/x-python",
   "name": "python",
   "nbconvert_exporter": "python",
   "pygments_lexer": "ipython3",
   "version": "3.6.6"
  }
 },
 "nbformat": 4,
 "nbformat_minor": 2
}
