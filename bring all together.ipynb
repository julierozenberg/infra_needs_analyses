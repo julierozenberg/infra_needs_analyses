{
 "cells": [
  {
   "cell_type": "code",
   "execution_count": 50,
   "metadata": {},
   "outputs": [],
   "source": [
    "import pandas as pd"
   ]
  },
  {
   "cell_type": "code",
   "execution_count": 51,
   "metadata": {},
   "outputs": [
    {
     "data": {
      "text/plain": [
       "['percent GDP', 'GDP']"
      ]
     },
     "execution_count": 51,
     "metadata": {},
     "output_type": "execute_result"
    }
   ],
   "source": [
    "xl = pd.ExcelFile('C:\\\\Users\\\\WB451855\\\\OneDrive - WBG\\\\!infra_needs_data\\\\summary_all_data.xlsx')\n",
    "\n",
    "xl.sheet_names  # see all sheet names"
   ]
  },
  {
   "cell_type": "code",
   "execution_count": 52,
   "metadata": {},
   "outputs": [],
   "source": [
    "GDP = xl.parse(\"GDP\")  # read a specific sheet to DataFrame"
   ]
  },
  {
   "cell_type": "code",
   "execution_count": 53,
   "metadata": {},
   "outputs": [],
   "source": [
    "GDP2 = GDP.set_index([\"wbregionname\",\"year\",\"ssp\"]).gdp.unstack(\"wbregionname\")"
   ]
  },
  {
   "cell_type": "code",
   "execution_count": 54,
   "metadata": {},
   "outputs": [
    {
     "data": {
      "text/plain": [
       "Index(['East Asia and Pacific', 'Europe and Central Asia',\n",
       "       'Latin America and Caribbean', 'Middle East and North Africa',\n",
       "       'South Asia', 'Sub-Saharan Africa'],\n",
       "      dtype='object', name='wbregionname')"
      ]
     },
     "execution_count": 54,
     "metadata": {},
     "output_type": "execute_result"
    }
   ],
   "source": [
    "GDP2.columns"
   ]
  },
  {
   "cell_type": "code",
   "execution_count": 55,
   "metadata": {},
   "outputs": [],
   "source": [
    "GDP2 = GDP2.rename(columns={\"Europe and Central Asia\":\"Eastern Europe and Central Asia\",\n",
    "                            \"Middle East and North Africa\":\"Middle-East and North Africa\"})"
   ]
  },
  {
   "cell_type": "code",
   "execution_count": 56,
   "metadata": {},
   "outputs": [],
   "source": [
    "GDP2[\"Africa\"] = GDP2[\"Middle-East and North Africa\"]+GDP2[\"Sub-Saharan Africa\"]\n",
    "GDP2[\"Asia\"] = GDP2[\"East Asia and Pacific\"]+GDP2[\"South Asia\"]\n",
    "GDP2[\"all_countries\"] = GDP2[\"Africa\"]+GDP2[\"Asia\"]+GDP2[\"Latin America and Caribbean\"]+GDP2[\"Eastern Europe and Central Asia\"]"
   ]
  },
  {
   "cell_type": "code",
   "execution_count": 57,
   "metadata": {},
   "outputs": [
    {
     "data": {
      "text/plain": [
       "year  ssp   wbregionname                \n",
       "2026  ssp3  Middle-East and North Africa    3.505649e+12\n",
       "2023  ssp1  East Asia and Pacific           2.302950e+13\n",
       "2025  ssp1  Africa                          7.758734e+12\n",
       "      ssp5  all_countries                   5.918826e+13\n",
       "2020  ssp5  East Asia and Pacific           1.901538e+13\n",
       "dtype: float64"
      ]
     },
     "execution_count": 57,
     "metadata": {},
     "output_type": "execute_result"
    }
   ],
   "source": [
    "GDP2.stack().sample(5)"
   ]
  },
  {
   "cell_type": "code",
   "execution_count": 58,
   "metadata": {},
   "outputs": [],
   "source": [
    "res = xl.parse(\"percent GDP\")"
   ]
  },
  {
   "cell_type": "code",
   "execution_count": 59,
   "metadata": {},
   "outputs": [],
   "source": [
    "res[\"sector\"] = res.sector.replace({\"WASH\":\"wash\"})"
   ]
  },
  {
   "cell_type": "code",
   "execution_count": 60,
   "metadata": {},
   "outputs": [
    {
     "data": {
      "text/plain": [
       "array(['all_countries', 'Africa', 'Asia', 'Latin America and Caribbean',\n",
       "       'Former soviet Union', 'Middle-East and North Africa',\n",
       "       'Sub-Saharan Africa', 'South Asia', 'East Asia and Pacific',\n",
       "       'Eastern Europe and Central Asia'], dtype=object)"
      ]
     },
     "execution_count": 60,
     "metadata": {},
     "output_type": "execute_result"
    }
   ],
   "source": [
    "res.region.unique()"
   ]
  },
  {
   "cell_type": "code",
   "execution_count": 61,
   "metadata": {},
   "outputs": [],
   "source": [
    "res[\"region\"] = res.region.replace({'Former soviet Union':'Eastern Europe and Central Asia'})"
   ]
  },
  {
   "cell_type": "code",
   "execution_count": 62,
   "metadata": {},
   "outputs": [],
   "source": [
    "res.loc[res.sector==\"energy\",\"ssp\"] = \"ssp2\"\n",
    "res.loc[(res.sector==\"transport\")&(res.scenario==\"best\"),\"ssp\"] = \"ssp2\"\n",
    "res.loc[(res.sector==\"transport\")&(res.scenario==\"min\"),\"ssp\"] = \"ssp1\"\n",
    "res.loc[(res.sector==\"transport\")&(res.scenario==\"max\"),\"ssp\"] = \"ssp3\"\n",
    "res.loc[(res.sector==\"wash\")&(res.scenario==\"best\"),\"ssp\"] = \"ssp2\"\n",
    "res.loc[(res.sector==\"wash\")&(res.scenario==\"min\"),\"ssp\"] = \"ssp2\"\n",
    "res.loc[(res.sector==\"wash\")&(res.scenario==\"max\"),\"ssp\"] = \"ssp4\"\n",
    "res.loc[(res.sector==\"coastal protection\")&(res.scenario==\"best\"),\"ssp\"] = \"ssp2\"\n",
    "res.loc[(res.sector==\"coastal protection\")&(res.scenario==\"min\"),\"ssp\"] = \"ssp2\"\n",
    "res.loc[(res.sector==\"coastal protection\")&(res.scenario==\"max\"),\"ssp\"] = \"ssp5\"\n",
    "res.loc[(res.sector==\"river protection\")&(res.scenario==\"best\"),\"ssp\"] = \"ssp2\"\n",
    "res.loc[(res.sector==\"river protection\")&(res.scenario==\"min\"),\"ssp\"] = \"ssp3\"\n",
    "res.loc[(res.sector==\"river protection\")&(res.scenario==\"max\"),\"ssp\"] = \"ssp2\"\n",
    "res.loc[(res.sector==\"irrigation\")&(res.scenario==\"best\"),\"ssp\"] = \"ssp2\"\n",
    "res.loc[(res.sector==\"irrigation\")&(res.scenario==\"min\"),\"ssp\"] = \"ssp1\"\n",
    "res.loc[(res.sector==\"irrigation\")&(res.scenario==\"max\"),\"ssp\"] = \"ssp2\"\n",
    "\n",
    "res.loc[(res.region==\"all_countries\"),\"ssp\"] = \"ssp2\""
   ]
  },
  {
   "cell_type": "code",
   "execution_count": 63,
   "metadata": {},
   "outputs": [
    {
     "data": {
      "text/html": [
       "<div>\n",
       "<style scoped>\n",
       "    .dataframe tbody tr th:only-of-type {\n",
       "        vertical-align: middle;\n",
       "    }\n",
       "\n",
       "    .dataframe tbody tr th {\n",
       "        vertical-align: top;\n",
       "    }\n",
       "\n",
       "    .dataframe thead th {\n",
       "        text-align: right;\n",
       "    }\n",
       "</style>\n",
       "<table border=\"1\" class=\"dataframe\">\n",
       "  <thead>\n",
       "    <tr style=\"text-align: right;\">\n",
       "      <th></th>\n",
       "      <th>region</th>\n",
       "      <th>sector</th>\n",
       "      <th>scenario</th>\n",
       "      <th>variable</th>\n",
       "      <th>capital vs maintenance</th>\n",
       "      <th>data</th>\n",
       "      <th>ssp</th>\n",
       "    </tr>\n",
       "  </thead>\n",
       "  <tbody>\n",
       "  </tbody>\n",
       "</table>\n",
       "</div>"
      ],
      "text/plain": [
       "Empty DataFrame\n",
       "Columns: [region, sector, scenario, variable, capital vs maintenance, data, ssp]\n",
       "Index: []"
      ]
     },
     "execution_count": 63,
     "metadata": {},
     "output_type": "execute_result"
    }
   ],
   "source": [
    "res[res.ssp.isnull()]"
   ]
  },
  {
   "cell_type": "code",
   "execution_count": 64,
   "metadata": {},
   "outputs": [],
   "source": [
    "mydata = res.merge(GDP2.stack().reset_index().rename(columns={\"wbregionname\":\"region\",0:\"GDP\"}),on=[\"region\",\"ssp\"])"
   ]
  },
  {
   "cell_type": "code",
   "execution_count": 65,
   "metadata": {},
   "outputs": [],
   "source": [
    "mydata[\"cost_bUSD\"] = 1e-9/100*mydata.data*mydata.GDP"
   ]
  },
  {
   "cell_type": "code",
   "execution_count": 66,
   "metadata": {},
   "outputs": [],
   "source": [
    "d = 0.06\n",
    "mydata[\"discount_factor\"] = (1+d)**(1-(mydata.year.astype(int)-2015))"
   ]
  },
  {
   "cell_type": "code",
   "execution_count": 67,
   "metadata": {},
   "outputs": [],
   "source": [
    "mydata[\"cost_bUSD_disc\"] = mydata[\"cost_bUSD\"]*mydata[\"discount_factor\"]"
   ]
  },
  {
   "cell_type": "code",
   "execution_count": 68,
   "metadata": {},
   "outputs": [],
   "source": [
    "newdata = mydata.set_index([\"region\",\"sector\",\"scenario\",\"capital vs maintenance\",\"year\"]).cost_bUSD_disc.sum(level=[\"region\",\"sector\",\"scenario\",\"capital vs maintenance\"])"
   ]
  },
  {
   "cell_type": "code",
   "execution_count": 69,
   "metadata": {},
   "outputs": [],
   "source": [
    "newdata2 = newdata.reset_index()"
   ]
  },
  {
   "cell_type": "code",
   "execution_count": 70,
   "metadata": {},
   "outputs": [],
   "source": [
    "newdata2[\"cost_bUSD_disc_annual\"] = newdata2[\"cost_bUSD_disc\"]/15"
   ]
  },
  {
   "cell_type": "code",
   "execution_count": 71,
   "metadata": {},
   "outputs": [],
   "source": [
    "totals = pd.DataFrame()"
   ]
  },
  {
   "cell_type": "markdown",
   "metadata": {},
   "source": [
    "# Energy"
   ]
  },
  {
   "cell_type": "code",
   "execution_count": 72,
   "metadata": {},
   "outputs": [],
   "source": [
    "energy = newdata2.loc[(newdata2.sector==\"energy\"),:]"
   ]
  },
  {
   "cell_type": "markdown",
   "metadata": {},
   "source": [
    "## keep for overview"
   ]
  },
  {
   "cell_type": "code",
   "execution_count": 73,
   "metadata": {},
   "outputs": [
    {
     "data": {
      "text/html": [
       "<div>\n",
       "<style scoped>\n",
       "    .dataframe tbody tr th:only-of-type {\n",
       "        vertical-align: middle;\n",
       "    }\n",
       "\n",
       "    .dataframe tbody tr th {\n",
       "        vertical-align: top;\n",
       "    }\n",
       "\n",
       "    .dataframe thead th {\n",
       "        text-align: right;\n",
       "    }\n",
       "</style>\n",
       "<table border=\"1\" class=\"dataframe\">\n",
       "  <thead>\n",
       "    <tr style=\"text-align: right;\">\n",
       "      <th></th>\n",
       "      <th>scenario</th>\n",
       "      <th>capital vs maintenance</th>\n",
       "      <th>cost_bUSD_disc_annual</th>\n",
       "    </tr>\n",
       "  </thead>\n",
       "  <tbody>\n",
       "    <tr>\n",
       "      <th>0</th>\n",
       "      <td>best</td>\n",
       "      <td>capital</td>\n",
       "      <td>778.114139</td>\n",
       "    </tr>\n",
       "    <tr>\n",
       "      <th>1</th>\n",
       "      <td>min</td>\n",
       "      <td>capital</td>\n",
       "      <td>298.587895</td>\n",
       "    </tr>\n",
       "    <tr>\n",
       "      <th>2</th>\n",
       "      <td>max</td>\n",
       "      <td>capital</td>\n",
       "      <td>1020.534268</td>\n",
       "    </tr>\n",
       "    <tr>\n",
       "      <th>3</th>\n",
       "      <td>best</td>\n",
       "      <td>maintenance</td>\n",
       "      <td>206.098170</td>\n",
       "    </tr>\n",
       "    <tr>\n",
       "      <th>4</th>\n",
       "      <td>min</td>\n",
       "      <td>maintenance</td>\n",
       "      <td>107.185252</td>\n",
       "    </tr>\n",
       "    <tr>\n",
       "      <th>5</th>\n",
       "      <td>max</td>\n",
       "      <td>maintenance</td>\n",
       "      <td>185.356516</td>\n",
       "    </tr>\n",
       "  </tbody>\n",
       "</table>\n",
       "</div>"
      ],
      "text/plain": [
       "  scenario capital vs maintenance  cost_bUSD_disc_annual\n",
       "0     best                capital             778.114139\n",
       "1      min                capital             298.587895\n",
       "2      max                capital            1020.534268\n",
       "3     best            maintenance             206.098170\n",
       "4      min            maintenance             107.185252\n",
       "5      max            maintenance             185.356516"
      ]
     },
     "execution_count": 73,
     "metadata": {},
     "output_type": "execute_result"
    }
   ],
   "source": [
    "energy.loc[energy.region!=\"all_countries\",:].set_index([\"scenario\",\"capital vs maintenance\"]).cost_bUSD_disc_annual.sum(level=[\"scenario\",\"capital vs maintenance\"]).reset_index()"
   ]
  },
  {
   "cell_type": "code",
   "execution_count": 74,
   "metadata": {},
   "outputs": [],
   "source": [
    "temp = energy.loc[energy.region!=\"all_countries\",:].set_index([\"scenario\",\"capital vs maintenance\"]).cost_bUSD_disc_annual.sum(level=[\"scenario\",\"capital vs maintenance\"]).reset_index()\n",
    "temp[\"sector\"] = \"energy\""
   ]
  },
  {
   "cell_type": "code",
   "execution_count": 75,
   "metadata": {},
   "outputs": [],
   "source": [
    "totals = temp"
   ]
  },
  {
   "cell_type": "code",
   "execution_count": 76,
   "metadata": {},
   "outputs": [
    {
     "data": {
      "text/html": [
       "<div>\n",
       "<style scoped>\n",
       "    .dataframe tbody tr th:only-of-type {\n",
       "        vertical-align: middle;\n",
       "    }\n",
       "\n",
       "    .dataframe tbody tr th {\n",
       "        vertical-align: top;\n",
       "    }\n",
       "\n",
       "    .dataframe thead th {\n",
       "        text-align: right;\n",
       "    }\n",
       "</style>\n",
       "<table border=\"1\" class=\"dataframe\">\n",
       "  <thead>\n",
       "    <tr style=\"text-align: right;\">\n",
       "      <th></th>\n",
       "      <th>scenario</th>\n",
       "      <th>cost_bUSD_disc_annual</th>\n",
       "      <th>capital vs maintenance</th>\n",
       "    </tr>\n",
       "  </thead>\n",
       "  <tbody>\n",
       "    <tr>\n",
       "      <th>0</th>\n",
       "      <td>min</td>\n",
       "      <td>105.895694</td>\n",
       "      <td>maintenance</td>\n",
       "    </tr>\n",
       "    <tr>\n",
       "      <th>5</th>\n",
       "      <td>best</td>\n",
       "      <td>211.791389</td>\n",
       "      <td>maintenance</td>\n",
       "    </tr>\n",
       "    <tr>\n",
       "      <th>10</th>\n",
       "      <td>max</td>\n",
       "      <td>282.388519</td>\n",
       "      <td>maintenance</td>\n",
       "    </tr>\n",
       "    <tr>\n",
       "      <th>15</th>\n",
       "      <td>min</td>\n",
       "      <td>317.687083</td>\n",
       "      <td>capital</td>\n",
       "    </tr>\n",
       "    <tr>\n",
       "      <th>20</th>\n",
       "      <td>best</td>\n",
       "      <td>776.568426</td>\n",
       "      <td>capital</td>\n",
       "    </tr>\n",
       "    <tr>\n",
       "      <th>25</th>\n",
       "      <td>max</td>\n",
       "      <td>1058.956944</td>\n",
       "      <td>capital</td>\n",
       "    </tr>\n",
       "  </tbody>\n",
       "</table>\n",
       "</div>"
      ],
      "text/plain": [
       "   scenario  cost_bUSD_disc_annual capital vs maintenance\n",
       "0       min             105.895694            maintenance\n",
       "5      best             211.791389            maintenance\n",
       "10      max             282.388519            maintenance\n",
       "15      min             317.687083                capital\n",
       "20     best             776.568426                capital\n",
       "25      max            1058.956944                capital"
      ]
     },
     "execution_count": 76,
     "metadata": {},
     "output_type": "execute_result"
    }
   ],
   "source": [
    "energy.loc[energy.region==\"all_countries\",[\"scenario\",\"cost_bUSD_disc_annual\",\"capital vs maintenance\"]]"
   ]
  },
  {
   "cell_type": "markdown",
   "metadata": {},
   "source": [
    "# Transport"
   ]
  },
  {
   "cell_type": "code",
   "execution_count": 77,
   "metadata": {},
   "outputs": [],
   "source": [
    "transport = newdata2.loc[(newdata2.sector==\"transport\"),:]"
   ]
  },
  {
   "cell_type": "markdown",
   "metadata": {},
   "source": [
    "## keep for overview"
   ]
  },
  {
   "cell_type": "code",
   "execution_count": 78,
   "metadata": {},
   "outputs": [
    {
     "data": {
      "text/plain": [
       "scenario  capital vs maintenance\n",
       "best      capital                    416.599217\n",
       "          maintenance                460.998755\n",
       "min       capital                    156.796355\n",
       "          maintenance                552.470203\n",
       "max       capital                   1060.207794\n",
       "          maintenance                699.317720\n",
       "Name: cost_bUSD_disc_annual, dtype: float64"
      ]
     },
     "execution_count": 78,
     "metadata": {},
     "output_type": "execute_result"
    }
   ],
   "source": [
    "transport.loc[transport.region!=\"all_countries\",:].set_index([\"scenario\",\"capital vs maintenance\"]).cost_bUSD_disc_annual.sum(level=[\"scenario\",\"capital vs maintenance\"])"
   ]
  },
  {
   "cell_type": "code",
   "execution_count": 79,
   "metadata": {},
   "outputs": [],
   "source": [
    "temp = transport.loc[transport.region!=\"all_countries\",:].set_index([\"scenario\",\"capital vs maintenance\"]).cost_bUSD_disc_annual.sum(level=[\"scenario\",\"capital vs maintenance\"]).reset_index()\n",
    "temp[\"sector\"] = \"transport\""
   ]
  },
  {
   "cell_type": "code",
   "execution_count": 80,
   "metadata": {},
   "outputs": [],
   "source": [
    "totals = totals.append(temp)"
   ]
  },
  {
   "cell_type": "code",
   "execution_count": 81,
   "metadata": {},
   "outputs": [
    {
     "data": {
      "text/html": [
       "<div>\n",
       "<style scoped>\n",
       "    .dataframe tbody tr th:only-of-type {\n",
       "        vertical-align: middle;\n",
       "    }\n",
       "\n",
       "    .dataframe tbody tr th {\n",
       "        vertical-align: top;\n",
       "    }\n",
       "\n",
       "    .dataframe thead th {\n",
       "        text-align: right;\n",
       "    }\n",
       "</style>\n",
       "<table border=\"1\" class=\"dataframe\">\n",
       "  <thead>\n",
       "    <tr style=\"text-align: right;\">\n",
       "      <th></th>\n",
       "      <th>scenario</th>\n",
       "      <th>cost_bUSD_disc_annual</th>\n",
       "    </tr>\n",
       "  </thead>\n",
       "  <tbody>\n",
       "    <tr>\n",
       "      <th>1</th>\n",
       "      <td>min</td>\n",
       "      <td>388.284213</td>\n",
       "    </tr>\n",
       "    <tr>\n",
       "      <th>6</th>\n",
       "      <td>best</td>\n",
       "      <td>458.881343</td>\n",
       "    </tr>\n",
       "    <tr>\n",
       "      <th>11</th>\n",
       "      <td>max</td>\n",
       "      <td>741.269861</td>\n",
       "    </tr>\n",
       "    <tr>\n",
       "      <th>16</th>\n",
       "      <td>min</td>\n",
       "      <td>187.082394</td>\n",
       "    </tr>\n",
       "    <tr>\n",
       "      <th>21</th>\n",
       "      <td>best</td>\n",
       "      <td>458.881343</td>\n",
       "    </tr>\n",
       "    <tr>\n",
       "      <th>26</th>\n",
       "      <td>max</td>\n",
       "      <td>1164.852639</td>\n",
       "    </tr>\n",
       "  </tbody>\n",
       "</table>\n",
       "</div>"
      ],
      "text/plain": [
       "   scenario  cost_bUSD_disc_annual\n",
       "1       min             388.284213\n",
       "6      best             458.881343\n",
       "11      max             741.269861\n",
       "16      min             187.082394\n",
       "21     best             458.881343\n",
       "26      max            1164.852639"
      ]
     },
     "execution_count": 81,
     "metadata": {},
     "output_type": "execute_result"
    }
   ],
   "source": [
    "transport.loc[transport.region==\"all_countries\",[\"scenario\",\"cost_bUSD_disc_annual\"]]"
   ]
  },
  {
   "cell_type": "markdown",
   "metadata": {},
   "source": [
    "# WASH"
   ]
  },
  {
   "cell_type": "code",
   "execution_count": 82,
   "metadata": {},
   "outputs": [],
   "source": [
    "wash = newdata2.loc[(newdata2.sector==\"wash\"),:]"
   ]
  },
  {
   "cell_type": "markdown",
   "metadata": {},
   "source": [
    "## keep for overview"
   ]
  },
  {
   "cell_type": "code",
   "execution_count": 83,
   "metadata": {},
   "outputs": [
    {
     "data": {
      "text/plain": [
       "scenario  capital vs maintenance\n",
       "best      capital                   198.148016\n",
       "          maintenance                67.185574\n",
       "min       capital                   115.630826\n",
       "          maintenance                31.883513\n",
       "max       capital                   228.925546\n",
       "          maintenance                68.875119\n",
       "Name: cost_bUSD_disc_annual, dtype: float64"
      ]
     },
     "execution_count": 83,
     "metadata": {},
     "output_type": "execute_result"
    }
   ],
   "source": [
    "wash.loc[wash.region!=\"all_countries\",:].set_index([\"scenario\",\"capital vs maintenance\"]).cost_bUSD_disc_annual.sum(level=[\"scenario\",\"capital vs maintenance\"])"
   ]
  },
  {
   "cell_type": "code",
   "execution_count": 84,
   "metadata": {},
   "outputs": [],
   "source": [
    "temp = wash.loc[wash.region!=\"all_countries\",:].set_index([\"scenario\",\"capital vs maintenance\"]).cost_bUSD_disc_annual.sum(level=[\"scenario\",\"capital vs maintenance\"]).reset_index()\n",
    "temp[\"sector\"] = \"wash\""
   ]
  },
  {
   "cell_type": "code",
   "execution_count": 85,
   "metadata": {},
   "outputs": [],
   "source": [
    "totals = totals.append(temp)"
   ]
  },
  {
   "cell_type": "code",
   "execution_count": 86,
   "metadata": {},
   "outputs": [
    {
     "data": {
      "text/html": [
       "<div>\n",
       "<style scoped>\n",
       "    .dataframe tbody tr th:only-of-type {\n",
       "        vertical-align: middle;\n",
       "    }\n",
       "\n",
       "    .dataframe tbody tr th {\n",
       "        vertical-align: top;\n",
       "    }\n",
       "\n",
       "    .dataframe thead th {\n",
       "        text-align: right;\n",
       "    }\n",
       "</style>\n",
       "<table border=\"1\" class=\"dataframe\">\n",
       "  <thead>\n",
       "    <tr style=\"text-align: right;\">\n",
       "      <th></th>\n",
       "      <th>scenario</th>\n",
       "      <th>cost_bUSD_disc_annual</th>\n",
       "    </tr>\n",
       "  </thead>\n",
       "  <tbody>\n",
       "    <tr>\n",
       "      <th>2</th>\n",
       "      <td>min</td>\n",
       "      <td>169.433111</td>\n",
       "    </tr>\n",
       "    <tr>\n",
       "      <th>7</th>\n",
       "      <td>best</td>\n",
       "      <td>264.739236</td>\n",
       "    </tr>\n",
       "    <tr>\n",
       "      <th>12</th>\n",
       "      <td>max</td>\n",
       "      <td>264.739236</td>\n",
       "    </tr>\n",
       "    <tr>\n",
       "      <th>17</th>\n",
       "      <td>min</td>\n",
       "      <td>112.955407</td>\n",
       "    </tr>\n",
       "    <tr>\n",
       "      <th>22</th>\n",
       "      <td>best</td>\n",
       "      <td>194.142106</td>\n",
       "    </tr>\n",
       "    <tr>\n",
       "      <th>27</th>\n",
       "      <td>max</td>\n",
       "      <td>229.440671</td>\n",
       "    </tr>\n",
       "  </tbody>\n",
       "</table>\n",
       "</div>"
      ],
      "text/plain": [
       "   scenario  cost_bUSD_disc_annual\n",
       "2       min             169.433111\n",
       "7      best             264.739236\n",
       "12      max             264.739236\n",
       "17      min             112.955407\n",
       "22     best             194.142106\n",
       "27      max             229.440671"
      ]
     },
     "execution_count": 86,
     "metadata": {},
     "output_type": "execute_result"
    }
   ],
   "source": [
    "wash.loc[wash.region==\"all_countries\",[\"scenario\",\"cost_bUSD_disc_annual\"]]"
   ]
  },
  {
   "cell_type": "markdown",
   "metadata": {},
   "source": [
    "# Flood"
   ]
  },
  {
   "cell_type": "code",
   "execution_count": 87,
   "metadata": {},
   "outputs": [],
   "source": [
    "coastal_flood = newdata2.loc[(newdata2.sector==\"coastal protection\"),:]"
   ]
  },
  {
   "cell_type": "code",
   "execution_count": 88,
   "metadata": {},
   "outputs": [
    {
     "data": {
      "text/plain": [
       "scenario  capital vs maintenance\n",
       "best      capital                   42.919258\n",
       "          maintenance               21.333604\n",
       "min       capital                    2.349903\n",
       "          maintenance                6.152358\n",
       "max       capital                   56.573056\n",
       "          maintenance               23.854950\n",
       "Name: cost_bUSD_disc_annual, dtype: float64"
      ]
     },
     "execution_count": 88,
     "metadata": {},
     "output_type": "execute_result"
    }
   ],
   "source": [
    "coastal_flood.loc[coastal_flood.region!=\"all_countries\",:].set_index([\"scenario\",\"capital vs maintenance\"]).cost_bUSD_disc_annual.sum(level=[\"scenario\",\"capital vs maintenance\"])"
   ]
  },
  {
   "cell_type": "code",
   "execution_count": 89,
   "metadata": {},
   "outputs": [],
   "source": [
    "river_flood = newdata2.loc[(newdata2.sector==\"river protection\"),:]"
   ]
  },
  {
   "cell_type": "code",
   "execution_count": 90,
   "metadata": {},
   "outputs": [
    {
     "data": {
      "text/plain": [
       "scenario  capital vs maintenance\n",
       "best      capital                    60.137460\n",
       "          maintenance                 3.204862\n",
       "max       capital                   278.575892\n",
       "          maintenance                14.260740\n",
       "min       capital                    20.589857\n",
       "          maintenance                 1.073654\n",
       "Name: cost_bUSD_disc_annual, dtype: float64"
      ]
     },
     "execution_count": 90,
     "metadata": {},
     "output_type": "execute_result"
    }
   ],
   "source": [
    "river_flood.loc[river_flood.region!=\"all_countries\",:].set_index([\"scenario\",\"capital vs maintenance\"]).cost_bUSD_disc_annual.sum(level=[\"scenario\",\"capital vs maintenance\"])"
   ]
  },
  {
   "cell_type": "code",
   "execution_count": 91,
   "metadata": {},
   "outputs": [
    {
     "data": {
      "text/plain": [
       "scenario  capital vs maintenance\n",
       "maxmax    capital                   847.165556\n",
       "minmin    capital                    14.119426\n",
       "Name: cost_bUSD_disc_annual, dtype: float64"
      ]
     },
     "execution_count": 91,
     "metadata": {},
     "output_type": "execute_result"
    }
   ],
   "source": [
    "river_flood.loc[river_flood.region==\"all_countries\",:].set_index([\"scenario\",\"capital vs maintenance\"]).cost_bUSD_disc_annual.sum(level=[\"scenario\",\"capital vs maintenance\"])"
   ]
  },
  {
   "cell_type": "code",
   "execution_count": 92,
   "metadata": {},
   "outputs": [],
   "source": [
    "flood = coastal_flood.loc[coastal_flood.region!=\"all_countries\",:].set_index([\"scenario\",\"capital vs maintenance\"]).cost_bUSD_disc_annual.sum(level=[\"scenario\",\"capital vs maintenance\"])+\\\n",
    "river_flood.loc[river_flood.region!=\"all_countries\",:].set_index([\"scenario\",\"capital vs maintenance\"]).cost_bUSD_disc_annual.sum(level=[\"scenario\",\"capital vs maintenance\"])"
   ]
  },
  {
   "cell_type": "markdown",
   "metadata": {},
   "source": [
    "## keep for overview"
   ]
  },
  {
   "cell_type": "code",
   "execution_count": 93,
   "metadata": {},
   "outputs": [
    {
     "data": {
      "text/plain": [
       "scenario  capital vs maintenance\n",
       "best      capital                   103.056717\n",
       "          maintenance                24.538467\n",
       "max       capital                   335.148948\n",
       "          maintenance                38.115690\n",
       "min       capital                    22.939760\n",
       "          maintenance                 7.226012\n",
       "Name: cost_bUSD_disc_annual, dtype: float64"
      ]
     },
     "execution_count": 93,
     "metadata": {},
     "output_type": "execute_result"
    }
   ],
   "source": [
    "flood"
   ]
  },
  {
   "cell_type": "code",
   "execution_count": 94,
   "metadata": {},
   "outputs": [],
   "source": [
    "temp = flood.reset_index()\n",
    "temp[\"sector\"] = \"flood\""
   ]
  },
  {
   "cell_type": "code",
   "execution_count": 95,
   "metadata": {},
   "outputs": [],
   "source": [
    "totals = totals.append(temp)"
   ]
  },
  {
   "cell_type": "code",
   "execution_count": 96,
   "metadata": {},
   "outputs": [
    {
     "data": {
      "text/html": [
       "<div>\n",
       "<style scoped>\n",
       "    .dataframe tbody tr th:only-of-type {\n",
       "        vertical-align: middle;\n",
       "    }\n",
       "\n",
       "    .dataframe tbody tr th {\n",
       "        vertical-align: top;\n",
       "    }\n",
       "\n",
       "    .dataframe thead th {\n",
       "        text-align: right;\n",
       "    }\n",
       "</style>\n",
       "<table border=\"1\" class=\"dataframe\">\n",
       "  <thead>\n",
       "    <tr style=\"text-align: right;\">\n",
       "      <th></th>\n",
       "      <th>region</th>\n",
       "      <th>sector</th>\n",
       "      <th>scenario</th>\n",
       "      <th>capital vs maintenance</th>\n",
       "      <th>cost_bUSD_disc</th>\n",
       "      <th>cost_bUSD_disc_annual</th>\n",
       "    </tr>\n",
       "  </thead>\n",
       "  <tbody>\n",
       "    <tr>\n",
       "      <th>3</th>\n",
       "      <td>all_countries</td>\n",
       "      <td>flood</td>\n",
       "      <td>min</td>\n",
       "      <td>maintenance</td>\n",
       "      <td>74.126986</td>\n",
       "      <td>4.941799</td>\n",
       "    </tr>\n",
       "    <tr>\n",
       "      <th>8</th>\n",
       "      <td>all_countries</td>\n",
       "      <td>flood</td>\n",
       "      <td>best</td>\n",
       "      <td>maintenance</td>\n",
       "      <td>370.634931</td>\n",
       "      <td>24.708995</td>\n",
       "    </tr>\n",
       "    <tr>\n",
       "      <th>13</th>\n",
       "      <td>all_countries</td>\n",
       "      <td>flood</td>\n",
       "      <td>max</td>\n",
       "      <td>maintenance</td>\n",
       "      <td>741.269861</td>\n",
       "      <td>49.417991</td>\n",
       "    </tr>\n",
       "    <tr>\n",
       "      <th>18</th>\n",
       "      <td>all_countries</td>\n",
       "      <td>flood</td>\n",
       "      <td>min</td>\n",
       "      <td>capital</td>\n",
       "      <td>317.687083</td>\n",
       "      <td>21.179139</td>\n",
       "    </tr>\n",
       "    <tr>\n",
       "      <th>23</th>\n",
       "      <td>all_countries</td>\n",
       "      <td>flood</td>\n",
       "      <td>best</td>\n",
       "      <td>capital</td>\n",
       "      <td>1694.331111</td>\n",
       "      <td>112.955407</td>\n",
       "    </tr>\n",
       "    <tr>\n",
       "      <th>28</th>\n",
       "      <td>all_countries</td>\n",
       "      <td>flood</td>\n",
       "      <td>max</td>\n",
       "      <td>capital</td>\n",
       "      <td>5294.784722</td>\n",
       "      <td>352.985648</td>\n",
       "    </tr>\n",
       "  </tbody>\n",
       "</table>\n",
       "</div>"
      ],
      "text/plain": [
       "           region sector scenario capital vs maintenance  cost_bUSD_disc  \\\n",
       "3   all_countries  flood      min            maintenance       74.126986   \n",
       "8   all_countries  flood     best            maintenance      370.634931   \n",
       "13  all_countries  flood      max            maintenance      741.269861   \n",
       "18  all_countries  flood      min                capital      317.687083   \n",
       "23  all_countries  flood     best                capital     1694.331111   \n",
       "28  all_countries  flood      max                capital     5294.784722   \n",
       "\n",
       "    cost_bUSD_disc_annual  \n",
       "3                4.941799  \n",
       "8               24.708995  \n",
       "13              49.417991  \n",
       "18              21.179139  \n",
       "23             112.955407  \n",
       "28             352.985648  "
      ]
     },
     "execution_count": 96,
     "metadata": {},
     "output_type": "execute_result"
    }
   ],
   "source": [
    "newdata2.loc[(newdata2.sector==\"flood\"),:]"
   ]
  },
  {
   "cell_type": "markdown",
   "metadata": {},
   "source": [
    "# Irrigation"
   ]
  },
  {
   "cell_type": "code",
   "execution_count": 97,
   "metadata": {},
   "outputs": [],
   "source": [
    "irrigation = newdata2.loc[(newdata2.sector==\"irrigation\"),:]"
   ]
  },
  {
   "cell_type": "markdown",
   "metadata": {},
   "source": [
    "## keep for overview"
   ]
  },
  {
   "cell_type": "code",
   "execution_count": 98,
   "metadata": {},
   "outputs": [
    {
     "data": {
      "text/plain": [
       "scenario  capital vs maintenance\n",
       "best      capital                    49.619364\n",
       "max       capital                   100.434281\n",
       "min       capital                    43.592279\n",
       "Name: cost_bUSD_disc_annual, dtype: float64"
      ]
     },
     "execution_count": 98,
     "metadata": {},
     "output_type": "execute_result"
    }
   ],
   "source": [
    "irrigation.loc[irrigation.region!=\"all_countries\",:].set_index([\"scenario\",\"capital vs maintenance\"]).cost_bUSD_disc_annual.sum(level=[\"scenario\",\"capital vs maintenance\"])"
   ]
  },
  {
   "cell_type": "code",
   "execution_count": 99,
   "metadata": {},
   "outputs": [],
   "source": [
    "temp = irrigation.loc[irrigation.region!=\"all_countries\",:].set_index([\"scenario\",\"capital vs maintenance\"]).cost_bUSD_disc_annual.sum(level=[\"scenario\",\"capital vs maintenance\"]).reset_index()\n",
    "temp[\"sector\"] = \"irrigation\""
   ]
  },
  {
   "cell_type": "code",
   "execution_count": 100,
   "metadata": {},
   "outputs": [],
   "source": [
    "totals = totals.append(temp)"
   ]
  },
  {
   "cell_type": "code",
   "execution_count": 101,
   "metadata": {},
   "outputs": [
    {
     "data": {
      "text/html": [
       "<div>\n",
       "<style scoped>\n",
       "    .dataframe tbody tr th:only-of-type {\n",
       "        vertical-align: middle;\n",
       "    }\n",
       "\n",
       "    .dataframe tbody tr th {\n",
       "        vertical-align: top;\n",
       "    }\n",
       "\n",
       "    .dataframe thead th {\n",
       "        text-align: right;\n",
       "    }\n",
       "</style>\n",
       "<table border=\"1\" class=\"dataframe\">\n",
       "  <thead>\n",
       "    <tr style=\"text-align: right;\">\n",
       "      <th></th>\n",
       "      <th>scenario</th>\n",
       "      <th>cost_bUSD_disc_annual</th>\n",
       "    </tr>\n",
       "  </thead>\n",
       "  <tbody>\n",
       "    <tr>\n",
       "      <th>4</th>\n",
       "      <td>min</td>\n",
       "      <td>0.000000</td>\n",
       "    </tr>\n",
       "    <tr>\n",
       "      <th>9</th>\n",
       "      <td>best</td>\n",
       "      <td>0.000000</td>\n",
       "    </tr>\n",
       "    <tr>\n",
       "      <th>14</th>\n",
       "      <td>max</td>\n",
       "      <td>0.000000</td>\n",
       "    </tr>\n",
       "    <tr>\n",
       "      <th>19</th>\n",
       "      <td>min</td>\n",
       "      <td>42.358278</td>\n",
       "    </tr>\n",
       "    <tr>\n",
       "      <th>24</th>\n",
       "      <td>best</td>\n",
       "      <td>45.888134</td>\n",
       "    </tr>\n",
       "    <tr>\n",
       "      <th>29</th>\n",
       "      <td>max</td>\n",
       "      <td>70.597130</td>\n",
       "    </tr>\n",
       "  </tbody>\n",
       "</table>\n",
       "</div>"
      ],
      "text/plain": [
       "   scenario  cost_bUSD_disc_annual\n",
       "4       min               0.000000\n",
       "9      best               0.000000\n",
       "14      max               0.000000\n",
       "19      min              42.358278\n",
       "24     best              45.888134\n",
       "29      max              70.597130"
      ]
     },
     "execution_count": 101,
     "metadata": {},
     "output_type": "execute_result"
    }
   ],
   "source": [
    "irrigation.loc[irrigation.region==\"all_countries\",[\"scenario\",\"cost_bUSD_disc_annual\"]]"
   ]
  },
  {
   "cell_type": "code",
   "execution_count": 102,
   "metadata": {},
   "outputs": [
    {
     "data": {
      "text/plain": [
       "scenario  capital vs maintenance\n",
       "best      capital                   1545.537453\n",
       "min       capital                    637.547114\n",
       "max       capital                   2745.250838\n",
       "best      maintenance                758.820966\n",
       "min       maintenance                698.764981\n",
       "max       maintenance                991.665046\n",
       "Name: cost_bUSD_disc_annual, dtype: float64"
      ]
     },
     "execution_count": 102,
     "metadata": {},
     "output_type": "execute_result"
    }
   ],
   "source": [
    "newdata2[(newdata2.region!=\"all_countries\")].set_index([\"scenario\",\"capital vs maintenance\"]).cost_bUSD_disc_annual.sum(level=[\"scenario\",\"capital vs maintenance\"])"
   ]
  },
  {
   "cell_type": "code",
   "execution_count": 104,
   "metadata": {},
   "outputs": [
    {
     "data": {
      "text/plain": [
       "scenario\n",
       "min        681.262301\n",
       "best      1588.435417\n",
       "max       2876.833032\n",
       "maxmax     847.165556\n",
       "minmin      14.119426\n",
       "Name: cost_bUSD_disc_annual, dtype: float64"
      ]
     },
     "execution_count": 104,
     "metadata": {},
     "output_type": "execute_result"
    }
   ],
   "source": [
    "newdata2[(newdata2.region==\"all_countries\")&(newdata2[\"capital vs maintenance\"]==\"capital\")].set_index(\"scenario\").cost_bUSD_disc_annual.sum(level=\"scenario\")"
   ]
  },
  {
   "cell_type": "code",
   "execution_count": 105,
   "metadata": {},
   "outputs": [
    {
     "data": {
      "text/html": [
       "<div>\n",
       "<style scoped>\n",
       "    .dataframe tbody tr th:only-of-type {\n",
       "        vertical-align: middle;\n",
       "    }\n",
       "\n",
       "    .dataframe tbody tr th {\n",
       "        vertical-align: top;\n",
       "    }\n",
       "\n",
       "    .dataframe thead th {\n",
       "        text-align: right;\n",
       "    }\n",
       "</style>\n",
       "<table border=\"1\" class=\"dataframe\">\n",
       "  <thead>\n",
       "    <tr style=\"text-align: right;\">\n",
       "      <th></th>\n",
       "      <th>capital vs maintenance</th>\n",
       "      <th>capital</th>\n",
       "      <th>maintenance</th>\n",
       "    </tr>\n",
       "    <tr>\n",
       "      <th>sector</th>\n",
       "      <th>scenario</th>\n",
       "      <th></th>\n",
       "      <th></th>\n",
       "    </tr>\n",
       "  </thead>\n",
       "  <tbody>\n",
       "    <tr>\n",
       "      <th rowspan=\"3\" valign=\"top\">energy</th>\n",
       "      <th>best</th>\n",
       "      <td>778.114139</td>\n",
       "      <td>206.098170</td>\n",
       "    </tr>\n",
       "    <tr>\n",
       "      <th>max</th>\n",
       "      <td>1020.534268</td>\n",
       "      <td>185.356516</td>\n",
       "    </tr>\n",
       "    <tr>\n",
       "      <th>min</th>\n",
       "      <td>298.587895</td>\n",
       "      <td>107.185252</td>\n",
       "    </tr>\n",
       "    <tr>\n",
       "      <th rowspan=\"3\" valign=\"top\">flood</th>\n",
       "      <th>best</th>\n",
       "      <td>103.056717</td>\n",
       "      <td>24.538467</td>\n",
       "    </tr>\n",
       "    <tr>\n",
       "      <th>max</th>\n",
       "      <td>335.148948</td>\n",
       "      <td>38.115690</td>\n",
       "    </tr>\n",
       "    <tr>\n",
       "      <th>min</th>\n",
       "      <td>22.939760</td>\n",
       "      <td>7.226012</td>\n",
       "    </tr>\n",
       "    <tr>\n",
       "      <th rowspan=\"3\" valign=\"top\">irrigation</th>\n",
       "      <th>best</th>\n",
       "      <td>49.619364</td>\n",
       "      <td>NaN</td>\n",
       "    </tr>\n",
       "    <tr>\n",
       "      <th>max</th>\n",
       "      <td>100.434281</td>\n",
       "      <td>NaN</td>\n",
       "    </tr>\n",
       "    <tr>\n",
       "      <th>min</th>\n",
       "      <td>43.592279</td>\n",
       "      <td>NaN</td>\n",
       "    </tr>\n",
       "    <tr>\n",
       "      <th rowspan=\"3\" valign=\"top\">transport</th>\n",
       "      <th>best</th>\n",
       "      <td>416.599217</td>\n",
       "      <td>460.998755</td>\n",
       "    </tr>\n",
       "    <tr>\n",
       "      <th>max</th>\n",
       "      <td>1060.207794</td>\n",
       "      <td>699.317720</td>\n",
       "    </tr>\n",
       "    <tr>\n",
       "      <th>min</th>\n",
       "      <td>156.796355</td>\n",
       "      <td>552.470203</td>\n",
       "    </tr>\n",
       "    <tr>\n",
       "      <th rowspan=\"3\" valign=\"top\">wash</th>\n",
       "      <th>best</th>\n",
       "      <td>198.148016</td>\n",
       "      <td>67.185574</td>\n",
       "    </tr>\n",
       "    <tr>\n",
       "      <th>max</th>\n",
       "      <td>228.925546</td>\n",
       "      <td>68.875119</td>\n",
       "    </tr>\n",
       "    <tr>\n",
       "      <th>min</th>\n",
       "      <td>115.630826</td>\n",
       "      <td>31.883513</td>\n",
       "    </tr>\n",
       "  </tbody>\n",
       "</table>\n",
       "</div>"
      ],
      "text/plain": [
       "capital vs maintenance      capital  maintenance\n",
       "sector     scenario                             \n",
       "energy     best          778.114139   206.098170\n",
       "           max          1020.534268   185.356516\n",
       "           min           298.587895   107.185252\n",
       "flood      best          103.056717    24.538467\n",
       "           max           335.148948    38.115690\n",
       "           min            22.939760     7.226012\n",
       "irrigation best           49.619364          NaN\n",
       "           max           100.434281          NaN\n",
       "           min            43.592279          NaN\n",
       "transport  best          416.599217   460.998755\n",
       "           max          1060.207794   699.317720\n",
       "           min           156.796355   552.470203\n",
       "wash       best          198.148016    67.185574\n",
       "           max           228.925546    68.875119\n",
       "           min           115.630826    31.883513"
      ]
     },
     "execution_count": 105,
     "metadata": {},
     "output_type": "execute_result"
    }
   ],
   "source": [
    "totals.set_index([\"sector\",\"scenario\",\"capital vs maintenance\"]).cost_bUSD_disc_annual.unstack(\"capital vs maintenance\")"
   ]
  },
  {
   "cell_type": "code",
   "execution_count": 106,
   "metadata": {},
   "outputs": [
    {
     "data": {
      "text/html": [
       "<div>\n",
       "<style scoped>\n",
       "    .dataframe tbody tr th:only-of-type {\n",
       "        vertical-align: middle;\n",
       "    }\n",
       "\n",
       "    .dataframe tbody tr th {\n",
       "        vertical-align: top;\n",
       "    }\n",
       "\n",
       "    .dataframe thead th {\n",
       "        text-align: right;\n",
       "    }\n",
       "</style>\n",
       "<table border=\"1\" class=\"dataframe\">\n",
       "  <thead>\n",
       "    <tr style=\"text-align: right;\">\n",
       "      <th>capital vs maintenance</th>\n",
       "      <th>capital</th>\n",
       "      <th>maintenance</th>\n",
       "    </tr>\n",
       "    <tr>\n",
       "      <th>scenario</th>\n",
       "      <th></th>\n",
       "      <th></th>\n",
       "    </tr>\n",
       "  </thead>\n",
       "  <tbody>\n",
       "    <tr>\n",
       "      <th>best</th>\n",
       "      <td>1545.537453</td>\n",
       "      <td>758.820966</td>\n",
       "    </tr>\n",
       "    <tr>\n",
       "      <th>max</th>\n",
       "      <td>2745.250838</td>\n",
       "      <td>991.665046</td>\n",
       "    </tr>\n",
       "    <tr>\n",
       "      <th>min</th>\n",
       "      <td>637.547114</td>\n",
       "      <td>698.764981</td>\n",
       "    </tr>\n",
       "  </tbody>\n",
       "</table>\n",
       "</div>"
      ],
      "text/plain": [
       "capital vs maintenance      capital  maintenance\n",
       "scenario                                        \n",
       "best                    1545.537453   758.820966\n",
       "max                     2745.250838   991.665046\n",
       "min                      637.547114   698.764981"
      ]
     },
     "execution_count": 106,
     "metadata": {},
     "output_type": "execute_result"
    }
   ],
   "source": [
    "totals.set_index([\"sector\",\"scenario\",\"capital vs maintenance\"]).cost_bUSD_disc_annual.unstack(\"capital vs maintenance\").sum(level=\"scenario\")"
   ]
  },
  {
   "cell_type": "code",
   "execution_count": 107,
   "metadata": {},
   "outputs": [],
   "source": [
    "totals.set_index([\"sector\",\"scenario\",\"capital vs maintenance\"]).cost_bUSD_disc_annual.unstack(\"capital vs maintenance\").to_csv('C:\\\\Users\\\\WB451855\\\\OneDrive - WBG\\\\!infra_needs_data\\\\all_usd_results.csv')"
   ]
  },
  {
   "cell_type": "code",
   "execution_count": 108,
   "metadata": {},
   "outputs": [
    {
     "data": {
      "text/html": [
       "<div>\n",
       "<style scoped>\n",
       "    .dataframe tbody tr th:only-of-type {\n",
       "        vertical-align: middle;\n",
       "    }\n",
       "\n",
       "    .dataframe tbody tr th {\n",
       "        vertical-align: top;\n",
       "    }\n",
       "\n",
       "    .dataframe thead th {\n",
       "        text-align: right;\n",
       "    }\n",
       "</style>\n",
       "<table border=\"1\" class=\"dataframe\">\n",
       "  <thead>\n",
       "    <tr style=\"text-align: right;\">\n",
       "      <th></th>\n",
       "      <th>capital vs maintenance</th>\n",
       "      <th>capital</th>\n",
       "      <th>maintenance</th>\n",
       "    </tr>\n",
       "    <tr>\n",
       "      <th>sector</th>\n",
       "      <th>scenario</th>\n",
       "      <th></th>\n",
       "      <th></th>\n",
       "    </tr>\n",
       "  </thead>\n",
       "  <tbody>\n",
       "    <tr>\n",
       "      <th rowspan=\"3\" valign=\"top\">energy</th>\n",
       "      <th>best</th>\n",
       "      <td>2.20</td>\n",
       "      <td>0.600</td>\n",
       "    </tr>\n",
       "    <tr>\n",
       "      <th>max</th>\n",
       "      <td>3.00</td>\n",
       "      <td>0.800</td>\n",
       "    </tr>\n",
       "    <tr>\n",
       "      <th>min</th>\n",
       "      <td>0.90</td>\n",
       "      <td>0.300</td>\n",
       "    </tr>\n",
       "    <tr>\n",
       "      <th rowspan=\"3\" valign=\"top\">flood</th>\n",
       "      <th>best</th>\n",
       "      <td>0.32</td>\n",
       "      <td>0.070</td>\n",
       "    </tr>\n",
       "    <tr>\n",
       "      <th>max</th>\n",
       "      <td>1.00</td>\n",
       "      <td>0.140</td>\n",
       "    </tr>\n",
       "    <tr>\n",
       "      <th>min</th>\n",
       "      <td>0.06</td>\n",
       "      <td>0.014</td>\n",
       "    </tr>\n",
       "    <tr>\n",
       "      <th rowspan=\"3\" valign=\"top\">irrigation</th>\n",
       "      <th>best</th>\n",
       "      <td>0.13</td>\n",
       "      <td>NaN</td>\n",
       "    </tr>\n",
       "    <tr>\n",
       "      <th>max</th>\n",
       "      <td>0.20</td>\n",
       "      <td>NaN</td>\n",
       "    </tr>\n",
       "    <tr>\n",
       "      <th>min</th>\n",
       "      <td>0.12</td>\n",
       "      <td>NaN</td>\n",
       "    </tr>\n",
       "    <tr>\n",
       "      <th rowspan=\"2\" valign=\"top\">river protection</th>\n",
       "      <th>maxmax</th>\n",
       "      <td>2.40</td>\n",
       "      <td>NaN</td>\n",
       "    </tr>\n",
       "    <tr>\n",
       "      <th>minmin</th>\n",
       "      <td>0.04</td>\n",
       "      <td>NaN</td>\n",
       "    </tr>\n",
       "    <tr>\n",
       "      <th rowspan=\"3\" valign=\"top\">transport</th>\n",
       "      <th>best</th>\n",
       "      <td>1.30</td>\n",
       "      <td>1.300</td>\n",
       "    </tr>\n",
       "    <tr>\n",
       "      <th>max</th>\n",
       "      <td>3.30</td>\n",
       "      <td>2.100</td>\n",
       "    </tr>\n",
       "    <tr>\n",
       "      <th>min</th>\n",
       "      <td>0.53</td>\n",
       "      <td>1.100</td>\n",
       "    </tr>\n",
       "    <tr>\n",
       "      <th rowspan=\"3\" valign=\"top\">wash</th>\n",
       "      <th>best</th>\n",
       "      <td>0.55</td>\n",
       "      <td>0.750</td>\n",
       "    </tr>\n",
       "    <tr>\n",
       "      <th>max</th>\n",
       "      <td>0.65</td>\n",
       "      <td>0.750</td>\n",
       "    </tr>\n",
       "    <tr>\n",
       "      <th>min</th>\n",
       "      <td>0.32</td>\n",
       "      <td>0.480</td>\n",
       "    </tr>\n",
       "  </tbody>\n",
       "</table>\n",
       "</div>"
      ],
      "text/plain": [
       "capital vs maintenance     capital  maintenance\n",
       "sector           scenario                      \n",
       "energy           best         2.20        0.600\n",
       "                 max          3.00        0.800\n",
       "                 min          0.90        0.300\n",
       "flood            best         0.32        0.070\n",
       "                 max          1.00        0.140\n",
       "                 min          0.06        0.014\n",
       "irrigation       best         0.13          NaN\n",
       "                 max          0.20          NaN\n",
       "                 min          0.12          NaN\n",
       "river protection maxmax       2.40          NaN\n",
       "                 minmin       0.04          NaN\n",
       "transport        best         1.30        1.300\n",
       "                 max          3.30        2.100\n",
       "                 min          0.53        1.100\n",
       "wash             best         0.55        0.750\n",
       "                 max          0.65        0.750\n",
       "                 min          0.32        0.480"
      ]
     },
     "execution_count": 108,
     "metadata": {},
     "output_type": "execute_result"
    }
   ],
   "source": [
    "res[res.region==\"all_countries\"].set_index([\"sector\",\"scenario\",\"capital vs maintenance\"]).data.unstack(\"capital vs maintenance\")"
   ]
  },
  {
   "cell_type": "code",
   "execution_count": 109,
   "metadata": {},
   "outputs": [],
   "source": [
    "res[res.region==\"all_countries\"].set_index([\"sector\",\"scenario\",\"capital vs maintenance\"]).data.unstack(\"capital vs maintenance\").to_csv('C:\\\\Users\\\\WB451855\\\\OneDrive - WBG\\\\!infra_needs_data\\\\all_percent_results.csv')"
   ]
  },
  {
   "cell_type": "code",
   "execution_count": 111,
   "metadata": {},
   "outputs": [],
   "source": [
    "region_totals = newdata2.set_index([\"region\",\"sector\",\"scenario\",\"capital vs maintenance\"]).drop(\"all_countries\",level=\"region\").sum(level=[\"region\",\"scenario\",\"capital vs maintenance\"]).cost_bUSD_disc_annual.unstack(\"capital vs maintenance\").capital"
   ]
  },
  {
   "cell_type": "code",
   "execution_count": 112,
   "metadata": {},
   "outputs": [],
   "source": [
    "region_totals = region_totals.reset_index()"
   ]
  },
  {
   "cell_type": "code",
   "execution_count": 113,
   "metadata": {},
   "outputs": [],
   "source": [
    "region_totals['region2'] = region_totals.region\n",
    "\n",
    "region_totals.loc[region_totals.region=='Africa','region2']='Africa'\n",
    "region_totals.loc[region_totals.region=='Middle-East and North Africa','region2']='Africa'\n",
    "region_totals.loc[region_totals.region=='Sub-Saharan Africa','region2']='Africa'\n",
    "region_totals.loc[region_totals.region=='Asia','region2']='Asia'\n",
    "region_totals.loc[region_totals.region=='South Asia','region2']='Asia'\n",
    "region_totals.loc[region_totals.region=='East Asia and Pacific','region2']='Asia'"
   ]
  },
  {
   "cell_type": "code",
   "execution_count": 114,
   "metadata": {},
   "outputs": [],
   "source": [
    "region_totals2 = region_totals.set_index(['region2','scenario']).capital.sum(level=[\"region2\",'scenario'])"
   ]
  },
  {
   "cell_type": "code",
   "execution_count": 115,
   "metadata": {},
   "outputs": [],
   "source": [
    "region_totals2 = region_totals2.unstack(\"scenario\")"
   ]
  },
  {
   "cell_type": "code",
   "execution_count": 116,
   "metadata": {},
   "outputs": [
    {
     "data": {
      "text/plain": [
       "scenario\n",
       "best    1545.537453\n",
       "max     2745.250838\n",
       "min      637.547114\n",
       "dtype: float64"
      ]
     },
     "execution_count": 116,
     "metadata": {},
     "output_type": "execute_result"
    }
   ],
   "source": [
    "region_totals2.sum(axis=0)"
   ]
  },
  {
   "cell_type": "code",
   "execution_count": 117,
   "metadata": {},
   "outputs": [],
   "source": [
    "region_totalspc = region_totals2/region_totals2.sum(axis=0)"
   ]
  },
  {
   "cell_type": "code",
   "execution_count": 118,
   "metadata": {},
   "outputs": [
    {
     "data": {
      "text/html": [
       "<div>\n",
       "<style scoped>\n",
       "    .dataframe tbody tr th:only-of-type {\n",
       "        vertical-align: middle;\n",
       "    }\n",
       "\n",
       "    .dataframe tbody tr th {\n",
       "        vertical-align: top;\n",
       "    }\n",
       "\n",
       "    .dataframe thead th {\n",
       "        text-align: right;\n",
       "    }\n",
       "</style>\n",
       "<table border=\"1\" class=\"dataframe\">\n",
       "  <thead>\n",
       "    <tr style=\"text-align: right;\">\n",
       "      <th>scenario</th>\n",
       "      <th>best</th>\n",
       "      <th>max</th>\n",
       "      <th>min</th>\n",
       "    </tr>\n",
       "    <tr>\n",
       "      <th>region2</th>\n",
       "      <th></th>\n",
       "      <th></th>\n",
       "      <th></th>\n",
       "    </tr>\n",
       "  </thead>\n",
       "  <tbody>\n",
       "    <tr>\n",
       "      <th>Africa</th>\n",
       "      <td>0.204224</td>\n",
       "      <td>0.225473</td>\n",
       "      <td>0.228065</td>\n",
       "    </tr>\n",
       "    <tr>\n",
       "      <th>Asia</th>\n",
       "      <td>0.512672</td>\n",
       "      <td>0.504093</td>\n",
       "      <td>0.493327</td>\n",
       "    </tr>\n",
       "    <tr>\n",
       "      <th>Eastern Europe and Central Asia</th>\n",
       "      <td>0.118324</td>\n",
       "      <td>0.059585</td>\n",
       "      <td>0.054547</td>\n",
       "    </tr>\n",
       "    <tr>\n",
       "      <th>Latin America and Caribbean</th>\n",
       "      <td>0.164781</td>\n",
       "      <td>0.210849</td>\n",
       "      <td>0.224061</td>\n",
       "    </tr>\n",
       "  </tbody>\n",
       "</table>\n",
       "</div>"
      ],
      "text/plain": [
       "scenario                             best       max       min\n",
       "region2                                                      \n",
       "Africa                           0.204224  0.225473  0.228065\n",
       "Asia                             0.512672  0.504093  0.493327\n",
       "Eastern Europe and Central Asia  0.118324  0.059585  0.054547\n",
       "Latin America and Caribbean      0.164781  0.210849  0.224061"
      ]
     },
     "execution_count": 118,
     "metadata": {},
     "output_type": "execute_result"
    }
   ],
   "source": [
    "region_totalspc"
   ]
  },
  {
   "cell_type": "markdown",
   "metadata": {},
   "source": [
    "faux: ne pas faire le truc ci-dessous (a corriger)"
   ]
  },
  {
   "cell_type": "code",
   "execution_count": 162,
   "metadata": {},
   "outputs": [],
   "source": [
    "region_pc_totals = mydata.copy()\n",
    "region_pc_totals['region2'] = region_pc_totals.region\n",
    "\n",
    "region_pc_totals.loc[region_pc_totals.region=='Africa','region2']='Africa'\n",
    "region_pc_totals.loc[region_pc_totals.region=='Middle-East and North Africa','region2']='Africa'\n",
    "region_pc_totals.loc[region_pc_totals.region=='Sub-Saharan Africa','region2']='Africa'\n",
    "region_pc_totals.loc[region_pc_totals.region=='Asia','region2']='Asia'\n",
    "region_pc_totals.loc[region_pc_totals.region=='South Asia','region2']='Asia'\n",
    "region_pc_totals.loc[region_pc_totals.region=='East Asia and Pacific','region2']='Asia'"
   ]
  },
  {
   "cell_type": "code",
   "execution_count": 163,
   "metadata": {},
   "outputs": [
    {
     "data": {
      "text/plain": [
       "Index(['region', 'sector', 'scenario', 'variable', 'capital vs maintenance',\n",
       "       'data', 'ssp', 'year', 'GDP', 'cost_bUSD', 'discount_factor',\n",
       "       'cost_bUSD_disc', 'region2'],\n",
       "      dtype='object')"
      ]
     },
     "execution_count": 163,
     "metadata": {},
     "output_type": "execute_result"
    }
   ],
   "source": [
    "region_pc_totals.columns"
   ]
  },
  {
   "cell_type": "code",
   "execution_count": 164,
   "metadata": {},
   "outputs": [
    {
     "data": {
      "text/html": [
       "<div>\n",
       "<style scoped>\n",
       "    .dataframe tbody tr th:only-of-type {\n",
       "        vertical-align: middle;\n",
       "    }\n",
       "\n",
       "    .dataframe tbody tr th {\n",
       "        vertical-align: top;\n",
       "    }\n",
       "\n",
       "    .dataframe thead th {\n",
       "        text-align: right;\n",
       "    }\n",
       "</style>\n",
       "<table border=\"1\" class=\"dataframe\">\n",
       "  <thead>\n",
       "    <tr style=\"text-align: right;\">\n",
       "      <th></th>\n",
       "      <th>region</th>\n",
       "      <th>sector</th>\n",
       "      <th>scenario</th>\n",
       "      <th>variable</th>\n",
       "      <th>capital vs maintenance</th>\n",
       "      <th>data</th>\n",
       "      <th>ssp</th>\n",
       "      <th>year</th>\n",
       "      <th>GDP</th>\n",
       "      <th>cost_bUSD</th>\n",
       "      <th>discount_factor</th>\n",
       "      <th>cost_bUSD_disc</th>\n",
       "      <th>region2</th>\n",
       "    </tr>\n",
       "  </thead>\n",
       "  <tbody>\n",
       "    <tr>\n",
       "      <th>1402</th>\n",
       "      <td>Eastern Europe and Central Asia</td>\n",
       "      <td>coastal protection</td>\n",
       "      <td>min</td>\n",
       "      <td>% GDP</td>\n",
       "      <td>maintenance</td>\n",
       "      <td>0.0020</td>\n",
       "      <td>ssp2</td>\n",
       "      <td>2025</td>\n",
       "      <td>4.702948e+12</td>\n",
       "      <td>0.094059</td>\n",
       "      <td>0.591898</td>\n",
       "      <td>0.055673</td>\n",
       "      <td>Eastern Europe and Central Asia</td>\n",
       "    </tr>\n",
       "    <tr>\n",
       "      <th>1182</th>\n",
       "      <td>Eastern Europe and Central Asia</td>\n",
       "      <td>energy</td>\n",
       "      <td>best</td>\n",
       "      <td>% GDP</td>\n",
       "      <td>maintenance</td>\n",
       "      <td>1.1000</td>\n",
       "      <td>ssp2</td>\n",
       "      <td>2029</td>\n",
       "      <td>5.423777e+12</td>\n",
       "      <td>59.661545</td>\n",
       "      <td>0.468839</td>\n",
       "      <td>27.971660</td>\n",
       "      <td>Eastern Europe and Central Asia</td>\n",
       "    </tr>\n",
       "    <tr>\n",
       "      <th>3260</th>\n",
       "      <td>South Asia</td>\n",
       "      <td>river protection</td>\n",
       "      <td>min</td>\n",
       "      <td>% GDP</td>\n",
       "      <td>maintenance</td>\n",
       "      <td>0.0096</td>\n",
       "      <td>ssp3</td>\n",
       "      <td>2027</td>\n",
       "      <td>7.101803e+12</td>\n",
       "      <td>0.681773</td>\n",
       "      <td>0.526788</td>\n",
       "      <td>0.359150</td>\n",
       "      <td>Asia</td>\n",
       "    </tr>\n",
       "    <tr>\n",
       "      <th>283</th>\n",
       "      <td>all_countries</td>\n",
       "      <td>wash</td>\n",
       "      <td>min</td>\n",
       "      <td>% GDP</td>\n",
       "      <td>capital</td>\n",
       "      <td>0.3200</td>\n",
       "      <td>ssp2</td>\n",
       "      <td>2026</td>\n",
       "      <td>5.717993e+13</td>\n",
       "      <td>182.975791</td>\n",
       "      <td>0.558395</td>\n",
       "      <td>102.172726</td>\n",
       "      <td>all_countries</td>\n",
       "    </tr>\n",
       "    <tr>\n",
       "      <th>2443</th>\n",
       "      <td>South Asia</td>\n",
       "      <td>river protection</td>\n",
       "      <td>best</td>\n",
       "      <td>% GDP</td>\n",
       "      <td>capital</td>\n",
       "      <td>0.3700</td>\n",
       "      <td>ssp2</td>\n",
       "      <td>2026</td>\n",
       "      <td>7.090173e+12</td>\n",
       "      <td>26.233639</td>\n",
       "      <td>0.558395</td>\n",
       "      <td>14.648727</td>\n",
       "      <td>Asia</td>\n",
       "    </tr>\n",
       "  </tbody>\n",
       "</table>\n",
       "</div>"
      ],
      "text/plain": [
       "                               region              sector scenario variable  \\\n",
       "1402  Eastern Europe and Central Asia  coastal protection      min    % GDP   \n",
       "1182  Eastern Europe and Central Asia              energy     best    % GDP   \n",
       "3260                       South Asia    river protection      min    % GDP   \n",
       "283                     all_countries                wash      min    % GDP   \n",
       "2443                       South Asia    river protection     best    % GDP   \n",
       "\n",
       "     capital vs maintenance    data   ssp  year           GDP   cost_bUSD  \\\n",
       "1402            maintenance  0.0020  ssp2  2025  4.702948e+12    0.094059   \n",
       "1182            maintenance  1.1000  ssp2  2029  5.423777e+12   59.661545   \n",
       "3260            maintenance  0.0096  ssp3  2027  7.101803e+12    0.681773   \n",
       "283                 capital  0.3200  ssp2  2026  5.717993e+13  182.975791   \n",
       "2443                capital  0.3700  ssp2  2026  7.090173e+12   26.233639   \n",
       "\n",
       "      discount_factor  cost_bUSD_disc                          region2  \n",
       "1402         0.591898        0.055673  Eastern Europe and Central Asia  \n",
       "1182         0.468839       27.971660  Eastern Europe and Central Asia  \n",
       "3260         0.526788        0.359150                             Asia  \n",
       "283          0.558395      102.172726                    all_countries  \n",
       "2443         0.558395       14.648727                             Asia  "
      ]
     },
     "execution_count": 164,
     "metadata": {},
     "output_type": "execute_result"
    }
   ],
   "source": [
    "region_pc_totals.sample(5)"
   ]
  },
  {
   "cell_type": "code",
   "execution_count": 165,
   "metadata": {},
   "outputs": [],
   "source": [
    "region_pc_totals = region_pc_totals.set_index(['sector','scenario','capital vs maintenance','region2','year'])[['cost_bUSD','cost_bUSD_disc','GDP']].sum(level=['scenario','sector','capital vs maintenance','region2','year']).drop(\"all_countries\",level=\"region2\")"
   ]
  },
  {
   "cell_type": "code",
   "execution_count": 166,
   "metadata": {},
   "outputs": [
    {
     "data": {
      "text/html": [
       "<div>\n",
       "<style scoped>\n",
       "    .dataframe tbody tr th:only-of-type {\n",
       "        vertical-align: middle;\n",
       "    }\n",
       "\n",
       "    .dataframe tbody tr th {\n",
       "        vertical-align: top;\n",
       "    }\n",
       "\n",
       "    .dataframe thead th {\n",
       "        text-align: right;\n",
       "    }\n",
       "</style>\n",
       "<table border=\"1\" class=\"dataframe\">\n",
       "  <thead>\n",
       "    <tr style=\"text-align: right;\">\n",
       "      <th></th>\n",
       "      <th></th>\n",
       "      <th></th>\n",
       "      <th></th>\n",
       "      <th></th>\n",
       "      <th>cost_bUSD</th>\n",
       "      <th>cost_bUSD_disc</th>\n",
       "      <th>GDP</th>\n",
       "    </tr>\n",
       "    <tr>\n",
       "      <th>scenario</th>\n",
       "      <th>sector</th>\n",
       "      <th>capital vs maintenance</th>\n",
       "      <th>region2</th>\n",
       "      <th>year</th>\n",
       "      <th></th>\n",
       "      <th></th>\n",
       "      <th></th>\n",
       "    </tr>\n",
       "  </thead>\n",
       "  <tbody>\n",
       "    <tr>\n",
       "      <th rowspan=\"2\" valign=\"top\">best</th>\n",
       "      <th rowspan=\"2\" valign=\"top\">coastal protection</th>\n",
       "      <th>maintenance</th>\n",
       "      <th>Eastern Europe and Central Asia</th>\n",
       "      <th>2018</th>\n",
       "      <td>0.365809</td>\n",
       "      <td>0.325569</td>\n",
       "      <td>3.658094e+12</td>\n",
       "    </tr>\n",
       "    <tr>\n",
       "      <th>capital</th>\n",
       "      <th>Asia</th>\n",
       "      <th>2030</th>\n",
       "      <td>55.362546</td>\n",
       "      <td>24.486907</td>\n",
       "      <td>3.988332e+13</td>\n",
       "    </tr>\n",
       "    <tr>\n",
       "      <th rowspan=\"2\" valign=\"top\">min</th>\n",
       "      <th>wash</th>\n",
       "      <th>capital</th>\n",
       "      <th>Eastern Europe and Central Asia</th>\n",
       "      <th>2028</th>\n",
       "      <td>17.303780</td>\n",
       "      <td>8.599448</td>\n",
       "      <td>5.243570e+12</td>\n",
       "    </tr>\n",
       "    <tr>\n",
       "      <th>transport</th>\n",
       "      <th>maintenance</th>\n",
       "      <th>Africa</th>\n",
       "      <th>2022</th>\n",
       "      <td>56.483393</td>\n",
       "      <td>39.818564</td>\n",
       "      <td>6.645105e+12</td>\n",
       "    </tr>\n",
       "    <tr>\n",
       "      <th rowspan=\"2\" valign=\"top\">best</th>\n",
       "      <th>wash</th>\n",
       "      <th>maintenance</th>\n",
       "      <th>Eastern Europe and Central Asia</th>\n",
       "      <th>2022</th>\n",
       "      <td>5.529746</td>\n",
       "      <td>3.898252</td>\n",
       "      <td>4.253650e+12</td>\n",
       "    </tr>\n",
       "    <tr>\n",
       "      <th>river protection</th>\n",
       "      <th>maintenance</th>\n",
       "      <th>Asia</th>\n",
       "      <th>2018</th>\n",
       "      <td>1.893171</td>\n",
       "      <td>1.684915</td>\n",
       "      <td>2.100782e+13</td>\n",
       "    </tr>\n",
       "    <tr>\n",
       "      <th>max</th>\n",
       "      <th>energy</th>\n",
       "      <th>maintenance</th>\n",
       "      <th>Asia</th>\n",
       "      <th>2030</th>\n",
       "      <td>291.148239</td>\n",
       "      <td>128.775147</td>\n",
       "      <td>3.988332e+13</td>\n",
       "    </tr>\n",
       "    <tr>\n",
       "      <th rowspan=\"2\" valign=\"top\">min</th>\n",
       "      <th>irrigation</th>\n",
       "      <th>capital</th>\n",
       "      <th>Africa</th>\n",
       "      <th>2023</th>\n",
       "      <td>14.904347</td>\n",
       "      <td>9.912242</td>\n",
       "      <td>7.016315e+12</td>\n",
       "    </tr>\n",
       "    <tr>\n",
       "      <th>coastal protection</th>\n",
       "      <th>maintenance</th>\n",
       "      <th>Eastern Europe and Central Asia</th>\n",
       "      <th>2020</th>\n",
       "      <td>0.079082</td>\n",
       "      <td>0.062641</td>\n",
       "      <td>3.954118e+12</td>\n",
       "    </tr>\n",
       "    <tr>\n",
       "      <th>max</th>\n",
       "      <th>transport</th>\n",
       "      <th>maintenance</th>\n",
       "      <th>Asia</th>\n",
       "      <th>2021</th>\n",
       "      <td>639.935417</td>\n",
       "      <td>478.196970</td>\n",
       "      <td>2.509551e+13</td>\n",
       "    </tr>\n",
       "  </tbody>\n",
       "</table>\n",
       "</div>"
      ],
      "text/plain": [
       "                                                                                          cost_bUSD  \\\n",
       "scenario sector             capital vs maintenance region2                         year               \n",
       "best     coastal protection maintenance            Eastern Europe and Central Asia 2018    0.365809   \n",
       "                            capital                Asia                            2030   55.362546   \n",
       "min      wash               capital                Eastern Europe and Central Asia 2028   17.303780   \n",
       "         transport          maintenance            Africa                          2022   56.483393   \n",
       "best     wash               maintenance            Eastern Europe and Central Asia 2022    5.529746   \n",
       "         river protection   maintenance            Asia                            2018    1.893171   \n",
       "max      energy             maintenance            Asia                            2030  291.148239   \n",
       "min      irrigation         capital                Africa                          2023   14.904347   \n",
       "         coastal protection maintenance            Eastern Europe and Central Asia 2020    0.079082   \n",
       "max      transport          maintenance            Asia                            2021  639.935417   \n",
       "\n",
       "                                                                                         cost_bUSD_disc  \\\n",
       "scenario sector             capital vs maintenance region2                         year                   \n",
       "best     coastal protection maintenance            Eastern Europe and Central Asia 2018        0.325569   \n",
       "                            capital                Asia                            2030       24.486907   \n",
       "min      wash               capital                Eastern Europe and Central Asia 2028        8.599448   \n",
       "         transport          maintenance            Africa                          2022       39.818564   \n",
       "best     wash               maintenance            Eastern Europe and Central Asia 2022        3.898252   \n",
       "         river protection   maintenance            Asia                            2018        1.684915   \n",
       "max      energy             maintenance            Asia                            2030      128.775147   \n",
       "min      irrigation         capital                Africa                          2023        9.912242   \n",
       "         coastal protection maintenance            Eastern Europe and Central Asia 2020        0.062641   \n",
       "max      transport          maintenance            Asia                            2021      478.196970   \n",
       "\n",
       "                                                                                                  GDP  \n",
       "scenario sector             capital vs maintenance region2                         year                \n",
       "best     coastal protection maintenance            Eastern Europe and Central Asia 2018  3.658094e+12  \n",
       "                            capital                Asia                            2030  3.988332e+13  \n",
       "min      wash               capital                Eastern Europe and Central Asia 2028  5.243570e+12  \n",
       "         transport          maintenance            Africa                          2022  6.645105e+12  \n",
       "best     wash               maintenance            Eastern Europe and Central Asia 2022  4.253650e+12  \n",
       "         river protection   maintenance            Asia                            2018  2.100782e+13  \n",
       "max      energy             maintenance            Asia                            2030  3.988332e+13  \n",
       "min      irrigation         capital                Africa                          2023  7.016315e+12  \n",
       "         coastal protection maintenance            Eastern Europe and Central Asia 2020  3.954118e+12  \n",
       "max      transport          maintenance            Asia                            2021  2.509551e+13  "
      ]
     },
     "execution_count": 166,
     "metadata": {},
     "output_type": "execute_result"
    }
   ],
   "source": [
    "region_pc_totals.sample(10)"
   ]
  },
  {
   "cell_type": "code",
   "execution_count": 167,
   "metadata": {},
   "outputs": [],
   "source": [
    "region_pc_totals2 = region_pc_totals[['cost_bUSD','cost_bUSD_disc']].sum(level=['scenario','capital vs maintenance','region2','year']).copy()"
   ]
  },
  {
   "cell_type": "code",
   "execution_count": 168,
   "metadata": {},
   "outputs": [],
   "source": [
    "region_pc_totals2['GDP'] = region_pc_totals.GDP.mean(level=['scenario','capital vs maintenance','region2','year'])"
   ]
  },
  {
   "cell_type": "code",
   "execution_count": 169,
   "metadata": {},
   "outputs": [
    {
     "data": {
      "text/html": [
       "<div>\n",
       "<style scoped>\n",
       "    .dataframe tbody tr th:only-of-type {\n",
       "        vertical-align: middle;\n",
       "    }\n",
       "\n",
       "    .dataframe tbody tr th {\n",
       "        vertical-align: top;\n",
       "    }\n",
       "\n",
       "    .dataframe thead th {\n",
       "        text-align: right;\n",
       "    }\n",
       "</style>\n",
       "<table border=\"1\" class=\"dataframe\">\n",
       "  <thead>\n",
       "    <tr style=\"text-align: right;\">\n",
       "      <th></th>\n",
       "      <th></th>\n",
       "      <th></th>\n",
       "      <th></th>\n",
       "      <th>cost_bUSD</th>\n",
       "      <th>cost_bUSD_disc</th>\n",
       "      <th>GDP</th>\n",
       "    </tr>\n",
       "    <tr>\n",
       "      <th>scenario</th>\n",
       "      <th>capital vs maintenance</th>\n",
       "      <th>region2</th>\n",
       "      <th>year</th>\n",
       "      <th></th>\n",
       "      <th></th>\n",
       "      <th></th>\n",
       "    </tr>\n",
       "  </thead>\n",
       "  <tbody>\n",
       "    <tr>\n",
       "      <th rowspan=\"3\" valign=\"top\">min</th>\n",
       "      <th rowspan=\"2\" valign=\"top\">maintenance</th>\n",
       "      <th rowspan=\"2\" valign=\"top\">Africa</th>\n",
       "      <th>2023</th>\n",
       "      <td>88.116779</td>\n",
       "      <td>58.602691</td>\n",
       "      <td>6.909857e+12</td>\n",
       "    </tr>\n",
       "    <tr>\n",
       "      <th>2017</th>\n",
       "      <td>65.413967</td>\n",
       "      <td>61.711290</td>\n",
       "      <td>5.194217e+12</td>\n",
       "    </tr>\n",
       "    <tr>\n",
       "      <th>capital</th>\n",
       "      <th>Eastern Europe and Central Asia</th>\n",
       "      <th>2028</th>\n",
       "      <td>57.875088</td>\n",
       "      <td>28.762146</td>\n",
       "      <td>5.283623e+12</td>\n",
       "    </tr>\n",
       "  </tbody>\n",
       "</table>\n",
       "</div>"
      ],
      "text/plain": [
       "                                                                      cost_bUSD  \\\n",
       "scenario capital vs maintenance region2                         year              \n",
       "min      maintenance            Africa                          2023  88.116779   \n",
       "                                                                2017  65.413967   \n",
       "         capital                Eastern Europe and Central Asia 2028  57.875088   \n",
       "\n",
       "                                                                      cost_bUSD_disc  \\\n",
       "scenario capital vs maintenance region2                         year                   \n",
       "min      maintenance            Africa                          2023       58.602691   \n",
       "                                                                2017       61.711290   \n",
       "         capital                Eastern Europe and Central Asia 2028       28.762146   \n",
       "\n",
       "                                                                               GDP  \n",
       "scenario capital vs maintenance region2                         year                \n",
       "min      maintenance            Africa                          2023  6.909857e+12  \n",
       "                                                                2017  5.194217e+12  \n",
       "         capital                Eastern Europe and Central Asia 2028  5.283623e+12  "
      ]
     },
     "execution_count": 169,
     "metadata": {},
     "output_type": "execute_result"
    }
   ],
   "source": [
    "region_pc_totals2.sample(3)"
   ]
  },
  {
   "cell_type": "code",
   "execution_count": 170,
   "metadata": {},
   "outputs": [],
   "source": [
    "region_pc_totals2['new_data'] = 100*1e9*region_pc_totals2.cost_bUSD/region_pc_totals2.GDP"
   ]
  },
  {
   "cell_type": "code",
   "execution_count": 171,
   "metadata": {},
   "outputs": [],
   "source": [
    "region_pc_totals_mean = region_pc_totals2['new_data'].mean(level=['scenario','capital vs maintenance','region2']).to_frame()"
   ]
  },
  {
   "cell_type": "code",
   "execution_count": 172,
   "metadata": {},
   "outputs": [],
   "source": [
    "region_pc_totals_mean['cost_bUSD_disc'] = 1/15*region_pc_totals2['cost_bUSD_disc'].sum(level=['scenario','capital vs maintenance','region2'])"
   ]
  },
  {
   "cell_type": "code",
   "execution_count": 173,
   "metadata": {},
   "outputs": [
    {
     "data": {
      "text/html": [
       "<div>\n",
       "<style scoped>\n",
       "    .dataframe tbody tr th:only-of-type {\n",
       "        vertical-align: middle;\n",
       "    }\n",
       "\n",
       "    .dataframe tbody tr th {\n",
       "        vertical-align: top;\n",
       "    }\n",
       "\n",
       "    .dataframe thead tr th {\n",
       "        text-align: left;\n",
       "    }\n",
       "\n",
       "    .dataframe thead tr:last-of-type th {\n",
       "        text-align: right;\n",
       "    }\n",
       "</style>\n",
       "<table border=\"1\" class=\"dataframe\">\n",
       "  <thead>\n",
       "    <tr>\n",
       "      <th></th>\n",
       "      <th></th>\n",
       "      <th colspan=\"2\" halign=\"left\">new_data</th>\n",
       "      <th colspan=\"2\" halign=\"left\">cost_bUSD_disc</th>\n",
       "    </tr>\n",
       "    <tr>\n",
       "      <th></th>\n",
       "      <th>capital vs maintenance</th>\n",
       "      <th>capital</th>\n",
       "      <th>maintenance</th>\n",
       "      <th>capital</th>\n",
       "      <th>maintenance</th>\n",
       "    </tr>\n",
       "    <tr>\n",
       "      <th>scenario</th>\n",
       "      <th>region2</th>\n",
       "      <th></th>\n",
       "      <th></th>\n",
       "      <th></th>\n",
       "      <th></th>\n",
       "    </tr>\n",
       "  </thead>\n",
       "  <tbody>\n",
       "    <tr>\n",
       "      <th rowspan=\"4\" valign=\"top\">best</th>\n",
       "      <th>Africa</th>\n",
       "      <td>6.404040</td>\n",
       "      <td>1.758783</td>\n",
       "      <td>315.635356</td>\n",
       "      <td>86.687476</td>\n",
       "    </tr>\n",
       "    <tr>\n",
       "      <th>Asia</th>\n",
       "      <td>4.044901</td>\n",
       "      <td>2.538012</td>\n",
       "      <td>792.353132</td>\n",
       "      <td>497.174612</td>\n",
       "    </tr>\n",
       "    <tr>\n",
       "      <th>Eastern Europe and Central Asia</th>\n",
       "      <td>5.797000</td>\n",
       "      <td>3.042000</td>\n",
       "      <td>182.873965</td>\n",
       "      <td>95.963878</td>\n",
       "    </tr>\n",
       "    <tr>\n",
       "      <th>Latin America and Caribbean</th>\n",
       "      <td>3.340000</td>\n",
       "      <td>1.036000</td>\n",
       "      <td>254.675000</td>\n",
       "      <td>78.995000</td>\n",
       "    </tr>\n",
       "    <tr>\n",
       "      <th rowspan=\"4\" valign=\"top\">max</th>\n",
       "      <th>Africa</th>\n",
       "      <td>12.517166</td>\n",
       "      <td>2.237943</td>\n",
       "      <td>618.981138</td>\n",
       "      <td>110.762767</td>\n",
       "    </tr>\n",
       "    <tr>\n",
       "      <th>Asia</th>\n",
       "      <td>7.004895</td>\n",
       "      <td>3.417769</td>\n",
       "      <td>1383.861351</td>\n",
       "      <td>676.346066</td>\n",
       "    </tr>\n",
       "    <tr>\n",
       "      <th>Eastern Europe and Central Asia</th>\n",
       "      <td>5.166284</td>\n",
       "      <td>3.120898</td>\n",
       "      <td>163.575944</td>\n",
       "      <td>98.938796</td>\n",
       "    </tr>\n",
       "    <tr>\n",
       "      <th>Latin America and Caribbean</th>\n",
       "      <td>7.568284</td>\n",
       "      <td>1.380169</td>\n",
       "      <td>578.832406</td>\n",
       "      <td>105.617416</td>\n",
       "    </tr>\n",
       "    <tr>\n",
       "      <th rowspan=\"4\" valign=\"top\">min</th>\n",
       "      <th>Africa</th>\n",
       "      <td>2.939233</td>\n",
       "      <td>1.277596</td>\n",
       "      <td>145.402183</td>\n",
       "      <td>63.000495</td>\n",
       "    </tr>\n",
       "    <tr>\n",
       "      <th>Asia</th>\n",
       "      <td>1.589688</td>\n",
       "      <td>2.544817</td>\n",
       "      <td>314.519356</td>\n",
       "      <td>500.092781</td>\n",
       "    </tr>\n",
       "    <tr>\n",
       "      <th>Eastern Europe and Central Asia</th>\n",
       "      <td>1.098990</td>\n",
       "      <td>2.394260</td>\n",
       "      <td>34.776291</td>\n",
       "      <td>75.464633</td>\n",
       "    </tr>\n",
       "    <tr>\n",
       "      <th>Latin America and Caribbean</th>\n",
       "      <td>1.869217</td>\n",
       "      <td>0.789886</td>\n",
       "      <td>142.849285</td>\n",
       "      <td>60.207072</td>\n",
       "    </tr>\n",
       "  </tbody>\n",
       "</table>\n",
       "</div>"
      ],
      "text/plain": [
       "                                           new_data              \\\n",
       "capital vs maintenance                      capital maintenance   \n",
       "scenario region2                                                  \n",
       "best     Africa                            6.404040    1.758783   \n",
       "         Asia                              4.044901    2.538012   \n",
       "         Eastern Europe and Central Asia   5.797000    3.042000   \n",
       "         Latin America and Caribbean       3.340000    1.036000   \n",
       "max      Africa                           12.517166    2.237943   \n",
       "         Asia                              7.004895    3.417769   \n",
       "         Eastern Europe and Central Asia   5.166284    3.120898   \n",
       "         Latin America and Caribbean       7.568284    1.380169   \n",
       "min      Africa                            2.939233    1.277596   \n",
       "         Asia                              1.589688    2.544817   \n",
       "         Eastern Europe and Central Asia   1.098990    2.394260   \n",
       "         Latin America and Caribbean       1.869217    0.789886   \n",
       "\n",
       "                                         cost_bUSD_disc              \n",
       "capital vs maintenance                          capital maintenance  \n",
       "scenario region2                                                     \n",
       "best     Africa                              315.635356   86.687476  \n",
       "         Asia                                792.353132  497.174612  \n",
       "         Eastern Europe and Central Asia     182.873965   95.963878  \n",
       "         Latin America and Caribbean         254.675000   78.995000  \n",
       "max      Africa                              618.981138  110.762767  \n",
       "         Asia                               1383.861351  676.346066  \n",
       "         Eastern Europe and Central Asia     163.575944   98.938796  \n",
       "         Latin America and Caribbean         578.832406  105.617416  \n",
       "min      Africa                              145.402183   63.000495  \n",
       "         Asia                                314.519356  500.092781  \n",
       "         Eastern Europe and Central Asia      34.776291   75.464633  \n",
       "         Latin America and Caribbean         142.849285   60.207072  "
      ]
     },
     "execution_count": 173,
     "metadata": {},
     "output_type": "execute_result"
    }
   ],
   "source": [
    "region_pc_totals_mean.unstack(\"capital vs maintenance\")"
   ]
  },
  {
   "cell_type": "code",
   "execution_count": 131,
   "metadata": {},
   "outputs": [],
   "source": [
    "region_pc_totals_mean.unstack(\"capital vs maintenance\").to_excel(\"C:\\\\Users\\\\WB451855\\\\OneDrive - WBG\\\\!infra_needs_data\\\\aggregated_regions_numbers.xlsx\")"
   ]
  },
  {
   "cell_type": "code",
   "execution_count": 174,
   "metadata": {},
   "outputs": [],
   "source": [
    "region_pc3 = region_pc_totals.copy()"
   ]
  },
  {
   "cell_type": "code",
   "execution_count": 175,
   "metadata": {},
   "outputs": [],
   "source": [
    "region_pc3['new_data'] = 100*1e9*region_pc3.cost_bUSD/region_pc3.GDP"
   ]
  },
  {
   "cell_type": "code",
   "execution_count": 177,
   "metadata": {},
   "outputs": [],
   "source": [
    "region_pc3_mean = region_pc3['new_data'].mean(level=['sector','scenario','capital vs maintenance','region2']).to_frame()"
   ]
  },
  {
   "cell_type": "code",
   "execution_count": 178,
   "metadata": {},
   "outputs": [],
   "source": [
    "region_pc3_mean['cost_bUSD_disc'] = 1/15*region_pc3['cost_bUSD_disc'].sum(level=['sector','scenario','capital vs maintenance','region2'])"
   ]
  },
  {
   "cell_type": "code",
   "execution_count": 192,
   "metadata": {},
   "outputs": [],
   "source": [
    "region_pc4 = region_pc3_mean.stack().reset_index().rename(columns={\"level_4\":\"usd vs percent\",0:\"data\"})"
   ]
  },
  {
   "cell_type": "code",
   "execution_count": 193,
   "metadata": {},
   "outputs": [],
   "source": [
    "region_pc4 = region_pc4.set_index(['region2','sector','scenario','capital vs maintenance',\"usd vs percent\"]).data.unstack(\"sector\")"
   ]
  },
  {
   "cell_type": "code",
   "execution_count": 194,
   "metadata": {},
   "outputs": [],
   "source": [
    "region_pc4['flood protection'] = region_pc4['coastal protection']+region_pc4['river protection']"
   ]
  },
  {
   "cell_type": "code",
   "execution_count": 195,
   "metadata": {},
   "outputs": [],
   "source": [
    "region_pc5 = region_pc4.drop(['coastal protection','river protection'],axis=1).stack().to_frame().reset_index().rename(columns={0:\"data\"})"
   ]
  },
  {
   "cell_type": "code",
   "execution_count": 197,
   "metadata": {},
   "outputs": [],
   "source": [
    "to_save = region_pc5.reset_index().sort_values(['region2','sector','scenario','capital vs maintenance','usd vs percent'])"
   ]
  },
  {
   "cell_type": "code",
   "execution_count": 198,
   "metadata": {},
   "outputs": [],
   "source": [
    "sector_dic = {'energy':'Energy','irrigation':'Irrigation','wash':\"Water supply and sanitation\",\"transport\":\"Transport\",\"flood protection\":\"Flood protection\"}\n",
    "scenario_dic = {'best':'Preferred','min':'Low spending','max':'High spending'}\n",
    "var_dic = {\"new_data\":\"Percent of GDP\",\"cost_bUSD_disc\":\"Billion USD\"}"
   ]
  },
  {
   "cell_type": "code",
   "execution_count": 199,
   "metadata": {},
   "outputs": [],
   "source": [
    "to_save['sector'] = to_save.sector.replace(sector_dic)\n",
    "to_save['scenario'] = to_save.scenario.replace(scenario_dic)\n",
    "to_save['usd vs percent'] = to_save['usd vs percent'].replace(var_dic)"
   ]
  },
  {
   "cell_type": "code",
   "execution_count": 201,
   "metadata": {},
   "outputs": [],
   "source": [
    "to_save.to_csv(\"C:\\\\Users\\\\WB451855\\\\OneDrive - WBG\\\\!infra_needs_data\\\\all_numbers_large_regions.csv\")"
   ]
  },
  {
   "cell_type": "code",
   "execution_count": null,
   "metadata": {},
   "outputs": [],
   "source": []
  }
 ],
 "metadata": {
  "kernelspec": {
   "display_name": "Python (Julie1)",
   "language": "python",
   "name": "julie1"
  },
  "language_info": {
   "codemirror_mode": {
    "name": "ipython",
    "version": 3
   },
   "file_extension": ".py",
   "mimetype": "text/x-python",
   "name": "python",
   "nbconvert_exporter": "python",
   "pygments_lexer": "ipython3",
   "version": "3.6.6"
  }
 },
 "nbformat": 4,
 "nbformat_minor": 2
}
