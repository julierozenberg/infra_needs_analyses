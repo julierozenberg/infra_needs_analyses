{
 "cells": [
  {
   "cell_type": "code",
   "execution_count": 179,
   "metadata": {},
   "outputs": [],
   "source": [
    "import pandas as pd"
   ]
  },
  {
   "cell_type": "code",
   "execution_count": 180,
   "metadata": {},
   "outputs": [
    {
     "data": {
      "text/plain": [
       "['percent GDP', 'GDP']"
      ]
     },
     "execution_count": 180,
     "metadata": {},
     "output_type": "execute_result"
    }
   ],
   "source": [
    "xl = pd.ExcelFile('C:\\\\Users\\\\WB451855\\\\OneDrive - WBG\\\\!infra_needs_data\\\\summary_all_data.xlsx')\n",
    "\n",
    "xl.sheet_names  # see all sheet names"
   ]
  },
  {
   "cell_type": "code",
   "execution_count": 181,
   "metadata": {},
   "outputs": [],
   "source": [
    "GDP = xl.parse(\"GDP\")  # read a specific sheet to DataFrame"
   ]
  },
  {
   "cell_type": "code",
   "execution_count": 182,
   "metadata": {},
   "outputs": [],
   "source": [
    "GDP2 = GDP.set_index([\"wbregionname\",\"year\",\"ssp\"]).gdp.unstack(\"wbregionname\")"
   ]
  },
  {
   "cell_type": "code",
   "execution_count": 183,
   "metadata": {},
   "outputs": [
    {
     "data": {
      "text/plain": [
       "Index(['East Asia and Pacific', 'Europe and Central Asia',\n",
       "       'Latin America and Caribbean', 'Middle East and North Africa',\n",
       "       'South Asia', 'Sub-Saharan Africa'],\n",
       "      dtype='object', name='wbregionname')"
      ]
     },
     "execution_count": 183,
     "metadata": {},
     "output_type": "execute_result"
    }
   ],
   "source": [
    "GDP2.columns"
   ]
  },
  {
   "cell_type": "code",
   "execution_count": 184,
   "metadata": {},
   "outputs": [],
   "source": [
    "GDP2 = GDP2.rename(columns={\"Europe and Central Asia\":\"Eastern Europe and Central Asia\",\n",
    "                            \"Middle East and North Africa\":\"Middle-East and North Africa\"})"
   ]
  },
  {
   "cell_type": "code",
   "execution_count": 185,
   "metadata": {},
   "outputs": [],
   "source": [
    "GDP2[\"Africa\"] = GDP2[\"Middle-East and North Africa\"]+GDP2[\"Sub-Saharan Africa\"]\n",
    "GDP2[\"Asia\"] = GDP2[\"East Asia and Pacific\"]+GDP2[\"South Asia\"]\n",
    "GDP2[\"all_countries\"] = GDP2[\"Africa\"]+GDP2[\"Asia\"]+GDP2[\"Latin America and Caribbean\"]+GDP2[\"Eastern Europe and Central Asia\"]"
   ]
  },
  {
   "cell_type": "code",
   "execution_count": 186,
   "metadata": {},
   "outputs": [
    {
     "data": {
      "text/plain": [
       "year  ssp   wbregionname                   \n",
       "2018  ssp5  Eastern Europe and Central Asia    3.656326e+12\n",
       "2028  ssp1  Africa                             9.273437e+12\n",
       "2027  ssp4  Latin America and Caribbean        1.180309e+13\n",
       "2026  ssp4  Asia                               3.238376e+13\n",
       "2027  ssp1  all_countries                      6.392547e+13\n",
       "dtype: float64"
      ]
     },
     "execution_count": 186,
     "metadata": {},
     "output_type": "execute_result"
    }
   ],
   "source": [
    "GDP2.stack().sample(5)"
   ]
  },
  {
   "cell_type": "code",
   "execution_count": 187,
   "metadata": {},
   "outputs": [],
   "source": [
    "res = xl.parse(\"percent GDP\")"
   ]
  },
  {
   "cell_type": "code",
   "execution_count": 188,
   "metadata": {},
   "outputs": [],
   "source": [
    "res[\"sector\"] = res.sector.replace({\"WASH\":\"wash\"})"
   ]
  },
  {
   "cell_type": "code",
   "execution_count": 189,
   "metadata": {},
   "outputs": [
    {
     "data": {
      "text/plain": [
       "array(['all_countries', 'Africa', 'Asia', 'Latin America and Caribbean',\n",
       "       'Former soviet Union', 'Middle-East and North Africa',\n",
       "       'Sub-Saharan Africa', 'South Asia', 'East Asia and Pacific',\n",
       "       'Eastern Europe and Central Asia'], dtype=object)"
      ]
     },
     "execution_count": 189,
     "metadata": {},
     "output_type": "execute_result"
    }
   ],
   "source": [
    "res.region.unique()"
   ]
  },
  {
   "cell_type": "code",
   "execution_count": 190,
   "metadata": {},
   "outputs": [],
   "source": [
    "res[\"region\"] = res.region.replace({'Former soviet Union':'Eastern Europe and Central Asia'})"
   ]
  },
  {
   "cell_type": "code",
   "execution_count": 191,
   "metadata": {},
   "outputs": [],
   "source": [
    "res.loc[res.sector==\"energy\",\"ssp\"] = \"ssp2\"\n",
    "res.loc[(res.sector==\"transport\")&(res.scenario==\"best\"),\"ssp\"] = \"ssp2\"\n",
    "res.loc[(res.sector==\"transport\")&(res.scenario==\"min\"),\"ssp\"] = \"ssp1\"\n",
    "res.loc[(res.sector==\"transport\")&(res.scenario==\"max\"),\"ssp\"] = \"ssp3\"\n",
    "res.loc[(res.sector==\"wash\")&(res.scenario==\"best\"),\"ssp\"] = \"ssp2\"\n",
    "res.loc[(res.sector==\"wash\")&(res.scenario==\"min\"),\"ssp\"] = \"ssp2\"\n",
    "res.loc[(res.sector==\"wash\")&(res.scenario==\"max\"),\"ssp\"] = \"ssp4\"\n",
    "res.loc[(res.sector==\"coastal protection\")&(res.scenario==\"best\"),\"ssp\"] = \"ssp2\"\n",
    "res.loc[(res.sector==\"coastal protection\")&(res.scenario==\"min\"),\"ssp\"] = \"ssp2\"\n",
    "res.loc[(res.sector==\"coastal protection\")&(res.scenario==\"max\"),\"ssp\"] = \"ssp5\"\n",
    "res.loc[(res.sector==\"river protection\")&(res.scenario==\"best\"),\"ssp\"] = \"ssp2\"\n",
    "res.loc[(res.sector==\"river protection\")&(res.scenario==\"min\"),\"ssp\"] = \"ssp3\"\n",
    "res.loc[(res.sector==\"river protection\")&(res.scenario==\"max\"),\"ssp\"] = \"ssp2\"\n",
    "res.loc[(res.sector==\"irrigation\")&(res.scenario==\"best\"),\"ssp\"] = \"ssp2\"\n",
    "res.loc[(res.sector==\"irrigation\")&(res.scenario==\"min\"),\"ssp\"] = \"ssp1\"\n",
    "res.loc[(res.sector==\"irrigation\")&(res.scenario==\"max\"),\"ssp\"] = \"ssp2\"\n",
    "\n",
    "res.loc[(res.region==\"all_countries\"),\"ssp\"] = \"ssp2\""
   ]
  },
  {
   "cell_type": "code",
   "execution_count": 192,
   "metadata": {},
   "outputs": [
    {
     "data": {
      "text/html": [
       "<div>\n",
       "<style scoped>\n",
       "    .dataframe tbody tr th:only-of-type {\n",
       "        vertical-align: middle;\n",
       "    }\n",
       "\n",
       "    .dataframe tbody tr th {\n",
       "        vertical-align: top;\n",
       "    }\n",
       "\n",
       "    .dataframe thead th {\n",
       "        text-align: right;\n",
       "    }\n",
       "</style>\n",
       "<table border=\"1\" class=\"dataframe\">\n",
       "  <thead>\n",
       "    <tr style=\"text-align: right;\">\n",
       "      <th></th>\n",
       "      <th>region</th>\n",
       "      <th>sector</th>\n",
       "      <th>scenario</th>\n",
       "      <th>variable</th>\n",
       "      <th>capital vs maintenance</th>\n",
       "      <th>data</th>\n",
       "      <th>ssp</th>\n",
       "    </tr>\n",
       "  </thead>\n",
       "  <tbody>\n",
       "  </tbody>\n",
       "</table>\n",
       "</div>"
      ],
      "text/plain": [
       "Empty DataFrame\n",
       "Columns: [region, sector, scenario, variable, capital vs maintenance, data, ssp]\n",
       "Index: []"
      ]
     },
     "execution_count": 192,
     "metadata": {},
     "output_type": "execute_result"
    }
   ],
   "source": [
    "res[res.ssp.isnull()]"
   ]
  },
  {
   "cell_type": "code",
   "execution_count": 193,
   "metadata": {},
   "outputs": [],
   "source": [
    "mydata = res.merge(GDP2.stack().reset_index().rename(columns={\"wbregionname\":\"region\",0:\"GDP\"}),on=[\"region\",\"ssp\"])"
   ]
  },
  {
   "cell_type": "code",
   "execution_count": 194,
   "metadata": {},
   "outputs": [],
   "source": [
    "mydata[\"cost_bUSD\"] = 1e-9/100*mydata.data*mydata.GDP"
   ]
  },
  {
   "cell_type": "code",
   "execution_count": 195,
   "metadata": {},
   "outputs": [],
   "source": [
    "d = 0.06\n",
    "mydata[\"discount_factor\"] = (1+d)**(1-(mydata.year.astype(int)-2015))"
   ]
  },
  {
   "cell_type": "code",
   "execution_count": 196,
   "metadata": {},
   "outputs": [],
   "source": [
    "mydata[\"cost_bUSD_disc\"] = mydata[\"cost_bUSD\"]*mydata[\"discount_factor\"]"
   ]
  },
  {
   "cell_type": "code",
   "execution_count": 197,
   "metadata": {},
   "outputs": [],
   "source": [
    "newdata = mydata.set_index([\"region\",\"sector\",\"scenario\",\"capital vs maintenance\",\"year\"]).cost_bUSD_disc.sum(level=[\"region\",\"sector\",\"scenario\",\"capital vs maintenance\"])"
   ]
  },
  {
   "cell_type": "code",
   "execution_count": 198,
   "metadata": {},
   "outputs": [],
   "source": [
    "newdata2 = newdata.reset_index()"
   ]
  },
  {
   "cell_type": "code",
   "execution_count": 199,
   "metadata": {},
   "outputs": [],
   "source": [
    "newdata2[\"cost_bUSD_disc_annual\"] = newdata2[\"cost_bUSD_disc\"]/15"
   ]
  },
  {
   "cell_type": "code",
   "execution_count": 224,
   "metadata": {},
   "outputs": [],
   "source": [
    "totals = pd.DataFrame()"
   ]
  },
  {
   "cell_type": "markdown",
   "metadata": {},
   "source": [
    "# Energy"
   ]
  },
  {
   "cell_type": "code",
   "execution_count": 200,
   "metadata": {},
   "outputs": [],
   "source": [
    "energy = newdata2.loc[(newdata2.sector==\"energy\")&(newdata2[\"capital vs maintenance\"]==\"capital\"),:]"
   ]
  },
  {
   "cell_type": "markdown",
   "metadata": {},
   "source": [
    "## keep for overview"
   ]
  },
  {
   "cell_type": "code",
   "execution_count": 228,
   "metadata": {},
   "outputs": [
    {
     "data": {
      "text/html": [
       "<div>\n",
       "<style scoped>\n",
       "    .dataframe tbody tr th:only-of-type {\n",
       "        vertical-align: middle;\n",
       "    }\n",
       "\n",
       "    .dataframe tbody tr th {\n",
       "        vertical-align: top;\n",
       "    }\n",
       "\n",
       "    .dataframe thead th {\n",
       "        text-align: right;\n",
       "    }\n",
       "</style>\n",
       "<table border=\"1\" class=\"dataframe\">\n",
       "  <thead>\n",
       "    <tr style=\"text-align: right;\">\n",
       "      <th></th>\n",
       "      <th>scenario</th>\n",
       "      <th>cost_bUSD_disc_annual</th>\n",
       "    </tr>\n",
       "  </thead>\n",
       "  <tbody>\n",
       "    <tr>\n",
       "      <th>0</th>\n",
       "      <td>best</td>\n",
       "      <td>778.114139</td>\n",
       "    </tr>\n",
       "    <tr>\n",
       "      <th>1</th>\n",
       "      <td>min</td>\n",
       "      <td>298.587895</td>\n",
       "    </tr>\n",
       "    <tr>\n",
       "      <th>2</th>\n",
       "      <td>max</td>\n",
       "      <td>1020.534268</td>\n",
       "    </tr>\n",
       "  </tbody>\n",
       "</table>\n",
       "</div>"
      ],
      "text/plain": [
       "  scenario  cost_bUSD_disc_annual\n",
       "0     best             778.114139\n",
       "1      min             298.587895\n",
       "2      max            1020.534268"
      ]
     },
     "execution_count": 228,
     "metadata": {},
     "output_type": "execute_result"
    }
   ],
   "source": [
    "energy.loc[energy.region!=\"all_countries\",:].set_index(\"scenario\").cost_bUSD_disc_annual.sum(level=\"scenario\").reset_index()"
   ]
  },
  {
   "cell_type": "code",
   "execution_count": 229,
   "metadata": {},
   "outputs": [],
   "source": [
    "temp = energy.loc[energy.region!=\"all_countries\",:].set_index(\"scenario\").cost_bUSD_disc_annual.sum(level=\"scenario\").reset_index()\n",
    "temp[\"sector\"] = \"energy\""
   ]
  },
  {
   "cell_type": "code",
   "execution_count": 232,
   "metadata": {},
   "outputs": [],
   "source": [
    "totals = temp"
   ]
  },
  {
   "cell_type": "code",
   "execution_count": 202,
   "metadata": {},
   "outputs": [
    {
     "data": {
      "text/html": [
       "<div>\n",
       "<style scoped>\n",
       "    .dataframe tbody tr th:only-of-type {\n",
       "        vertical-align: middle;\n",
       "    }\n",
       "\n",
       "    .dataframe tbody tr th {\n",
       "        vertical-align: top;\n",
       "    }\n",
       "\n",
       "    .dataframe thead th {\n",
       "        text-align: right;\n",
       "    }\n",
       "</style>\n",
       "<table border=\"1\" class=\"dataframe\">\n",
       "  <thead>\n",
       "    <tr style=\"text-align: right;\">\n",
       "      <th></th>\n",
       "      <th>scenario</th>\n",
       "      <th>cost_bUSD_disc_annual</th>\n",
       "    </tr>\n",
       "  </thead>\n",
       "  <tbody>\n",
       "    <tr>\n",
       "      <th>0</th>\n",
       "      <td>min</td>\n",
       "      <td>317.687083</td>\n",
       "    </tr>\n",
       "    <tr>\n",
       "      <th>5</th>\n",
       "      <td>best</td>\n",
       "      <td>776.568426</td>\n",
       "    </tr>\n",
       "    <tr>\n",
       "      <th>10</th>\n",
       "      <td>max</td>\n",
       "      <td>1058.956944</td>\n",
       "    </tr>\n",
       "  </tbody>\n",
       "</table>\n",
       "</div>"
      ],
      "text/plain": [
       "   scenario  cost_bUSD_disc_annual\n",
       "0       min             317.687083\n",
       "5      best             776.568426\n",
       "10      max            1058.956944"
      ]
     },
     "execution_count": 202,
     "metadata": {},
     "output_type": "execute_result"
    }
   ],
   "source": [
    "energy.loc[energy.region==\"all_countries\",[\"scenario\",\"cost_bUSD_disc_annual\"]]"
   ]
  },
  {
   "cell_type": "markdown",
   "metadata": {},
   "source": [
    "# Transport"
   ]
  },
  {
   "cell_type": "code",
   "execution_count": 203,
   "metadata": {},
   "outputs": [],
   "source": [
    "transport = newdata2.loc[(newdata2.sector==\"transport\")&(newdata2[\"capital vs maintenance\"]==\"capital\"),:]"
   ]
  },
  {
   "cell_type": "markdown",
   "metadata": {},
   "source": [
    "## keep for overview"
   ]
  },
  {
   "cell_type": "code",
   "execution_count": 204,
   "metadata": {},
   "outputs": [
    {
     "data": {
      "text/plain": [
       "scenario\n",
       "best     416.599217\n",
       "min      156.796355\n",
       "max     1060.207794\n",
       "Name: cost_bUSD_disc_annual, dtype: float64"
      ]
     },
     "execution_count": 204,
     "metadata": {},
     "output_type": "execute_result"
    }
   ],
   "source": [
    "transport.loc[transport.region!=\"all_countries\",:].set_index(\"scenario\").cost_bUSD_disc_annual.sum(level=\"scenario\")"
   ]
  },
  {
   "cell_type": "code",
   "execution_count": 233,
   "metadata": {},
   "outputs": [],
   "source": [
    "temp = transport.loc[transport.region!=\"all_countries\",:].set_index(\"scenario\").cost_bUSD_disc_annual.sum(level=\"scenario\").reset_index()\n",
    "temp[\"sector\"] = \"transport\""
   ]
  },
  {
   "cell_type": "code",
   "execution_count": 235,
   "metadata": {},
   "outputs": [],
   "source": [
    "totals = totals.append(temp)"
   ]
  },
  {
   "cell_type": "code",
   "execution_count": 205,
   "metadata": {},
   "outputs": [
    {
     "data": {
      "text/html": [
       "<div>\n",
       "<style scoped>\n",
       "    .dataframe tbody tr th:only-of-type {\n",
       "        vertical-align: middle;\n",
       "    }\n",
       "\n",
       "    .dataframe tbody tr th {\n",
       "        vertical-align: top;\n",
       "    }\n",
       "\n",
       "    .dataframe thead th {\n",
       "        text-align: right;\n",
       "    }\n",
       "</style>\n",
       "<table border=\"1\" class=\"dataframe\">\n",
       "  <thead>\n",
       "    <tr style=\"text-align: right;\">\n",
       "      <th></th>\n",
       "      <th>scenario</th>\n",
       "      <th>cost_bUSD_disc_annual</th>\n",
       "    </tr>\n",
       "  </thead>\n",
       "  <tbody>\n",
       "    <tr>\n",
       "      <th>1</th>\n",
       "      <td>min</td>\n",
       "      <td>187.082394</td>\n",
       "    </tr>\n",
       "    <tr>\n",
       "      <th>6</th>\n",
       "      <td>best</td>\n",
       "      <td>458.881343</td>\n",
       "    </tr>\n",
       "    <tr>\n",
       "      <th>11</th>\n",
       "      <td>max</td>\n",
       "      <td>1164.852639</td>\n",
       "    </tr>\n",
       "  </tbody>\n",
       "</table>\n",
       "</div>"
      ],
      "text/plain": [
       "   scenario  cost_bUSD_disc_annual\n",
       "1       min             187.082394\n",
       "6      best             458.881343\n",
       "11      max            1164.852639"
      ]
     },
     "execution_count": 205,
     "metadata": {},
     "output_type": "execute_result"
    }
   ],
   "source": [
    "transport.loc[transport.region==\"all_countries\",[\"scenario\",\"cost_bUSD_disc_annual\"]]"
   ]
  },
  {
   "cell_type": "markdown",
   "metadata": {},
   "source": [
    "# WASH"
   ]
  },
  {
   "cell_type": "code",
   "execution_count": 206,
   "metadata": {},
   "outputs": [],
   "source": [
    "wash = newdata2.loc[(newdata2.sector==\"wash\")&(newdata2[\"capital vs maintenance\"]==\"capital\"),:]"
   ]
  },
  {
   "cell_type": "markdown",
   "metadata": {},
   "source": [
    "## keep for overview"
   ]
  },
  {
   "cell_type": "code",
   "execution_count": 207,
   "metadata": {},
   "outputs": [
    {
     "data": {
      "text/plain": [
       "scenario\n",
       "best    198.148016\n",
       "min     115.630826\n",
       "max     228.925546\n",
       "Name: cost_bUSD_disc_annual, dtype: float64"
      ]
     },
     "execution_count": 207,
     "metadata": {},
     "output_type": "execute_result"
    }
   ],
   "source": [
    "wash.loc[wash.region!=\"all_countries\",:].set_index(\"scenario\").cost_bUSD_disc_annual.sum(level=\"scenario\")"
   ]
  },
  {
   "cell_type": "code",
   "execution_count": 236,
   "metadata": {},
   "outputs": [],
   "source": [
    "temp = wash.loc[wash.region!=\"all_countries\",:].set_index(\"scenario\").cost_bUSD_disc_annual.sum(level=\"scenario\").reset_index()\n",
    "temp[\"sector\"] = \"wash\""
   ]
  },
  {
   "cell_type": "code",
   "execution_count": 237,
   "metadata": {},
   "outputs": [],
   "source": [
    "totals = totals.append(temp)"
   ]
  },
  {
   "cell_type": "code",
   "execution_count": 208,
   "metadata": {},
   "outputs": [
    {
     "data": {
      "text/html": [
       "<div>\n",
       "<style scoped>\n",
       "    .dataframe tbody tr th:only-of-type {\n",
       "        vertical-align: middle;\n",
       "    }\n",
       "\n",
       "    .dataframe tbody tr th {\n",
       "        vertical-align: top;\n",
       "    }\n",
       "\n",
       "    .dataframe thead th {\n",
       "        text-align: right;\n",
       "    }\n",
       "</style>\n",
       "<table border=\"1\" class=\"dataframe\">\n",
       "  <thead>\n",
       "    <tr style=\"text-align: right;\">\n",
       "      <th></th>\n",
       "      <th>scenario</th>\n",
       "      <th>cost_bUSD_disc_annual</th>\n",
       "    </tr>\n",
       "  </thead>\n",
       "  <tbody>\n",
       "    <tr>\n",
       "      <th>2</th>\n",
       "      <td>min</td>\n",
       "      <td>112.955407</td>\n",
       "    </tr>\n",
       "    <tr>\n",
       "      <th>7</th>\n",
       "      <td>best</td>\n",
       "      <td>194.142106</td>\n",
       "    </tr>\n",
       "    <tr>\n",
       "      <th>12</th>\n",
       "      <td>max</td>\n",
       "      <td>229.440671</td>\n",
       "    </tr>\n",
       "  </tbody>\n",
       "</table>\n",
       "</div>"
      ],
      "text/plain": [
       "   scenario  cost_bUSD_disc_annual\n",
       "2       min             112.955407\n",
       "7      best             194.142106\n",
       "12      max             229.440671"
      ]
     },
     "execution_count": 208,
     "metadata": {},
     "output_type": "execute_result"
    }
   ],
   "source": [
    "wash.loc[wash.region==\"all_countries\",[\"scenario\",\"cost_bUSD_disc_annual\"]]"
   ]
  },
  {
   "cell_type": "markdown",
   "metadata": {},
   "source": [
    "# Flood"
   ]
  },
  {
   "cell_type": "code",
   "execution_count": 209,
   "metadata": {},
   "outputs": [],
   "source": [
    "coastal_flood = newdata2.loc[(newdata2.sector==\"coastal protection\")&(newdata2[\"capital vs maintenance\"]==\"capital\"),:]"
   ]
  },
  {
   "cell_type": "code",
   "execution_count": 210,
   "metadata": {},
   "outputs": [
    {
     "data": {
      "text/plain": [
       "scenario\n",
       "best    42.919258\n",
       "min      2.349903\n",
       "max     56.573056\n",
       "Name: cost_bUSD_disc_annual, dtype: float64"
      ]
     },
     "execution_count": 210,
     "metadata": {},
     "output_type": "execute_result"
    }
   ],
   "source": [
    "coastal_flood.loc[coastal_flood.region!=\"all_countries\",:].set_index(\"scenario\").cost_bUSD_disc_annual.sum(level=\"scenario\")"
   ]
  },
  {
   "cell_type": "code",
   "execution_count": 211,
   "metadata": {},
   "outputs": [],
   "source": [
    "river_flood = newdata2.loc[(newdata2.sector==\"river protection\")&(newdata2[\"capital vs maintenance\"]==\"capital\"),:]"
   ]
  },
  {
   "cell_type": "code",
   "execution_count": 212,
   "metadata": {},
   "outputs": [
    {
     "data": {
      "text/plain": [
       "scenario\n",
       "best     60.137460\n",
       "max     278.575892\n",
       "min      20.589857\n",
       "Name: cost_bUSD_disc_annual, dtype: float64"
      ]
     },
     "execution_count": 212,
     "metadata": {},
     "output_type": "execute_result"
    }
   ],
   "source": [
    "river_flood.loc[river_flood.region!=\"all_countries\",:].set_index(\"scenario\").cost_bUSD_disc_annual.sum(level=\"scenario\")"
   ]
  },
  {
   "cell_type": "code",
   "execution_count": 213,
   "metadata": {},
   "outputs": [],
   "source": [
    "flood = coastal_flood.loc[coastal_flood.region!=\"all_countries\",:].set_index(\"scenario\").cost_bUSD_disc_annual.sum(level=\"scenario\")+\\\n",
    "river_flood.loc[river_flood.region!=\"all_countries\",:].set_index(\"scenario\").cost_bUSD_disc_annual.sum(level=\"scenario\")"
   ]
  },
  {
   "cell_type": "markdown",
   "metadata": {},
   "source": [
    "## keep for overview"
   ]
  },
  {
   "cell_type": "code",
   "execution_count": 214,
   "metadata": {},
   "outputs": [
    {
     "data": {
      "text/plain": [
       "scenario\n",
       "best    103.056717\n",
       "max     335.148948\n",
       "min      22.939760\n",
       "Name: cost_bUSD_disc_annual, dtype: float64"
      ]
     },
     "execution_count": 214,
     "metadata": {},
     "output_type": "execute_result"
    }
   ],
   "source": [
    "flood"
   ]
  },
  {
   "cell_type": "code",
   "execution_count": 238,
   "metadata": {},
   "outputs": [],
   "source": [
    "temp = flood.reset_index()\n",
    "temp[\"sector\"] = \"flood\""
   ]
  },
  {
   "cell_type": "code",
   "execution_count": 239,
   "metadata": {},
   "outputs": [],
   "source": [
    "totals = totals.append(temp)"
   ]
  },
  {
   "cell_type": "code",
   "execution_count": 215,
   "metadata": {},
   "outputs": [
    {
     "data": {
      "text/html": [
       "<div>\n",
       "<style scoped>\n",
       "    .dataframe tbody tr th:only-of-type {\n",
       "        vertical-align: middle;\n",
       "    }\n",
       "\n",
       "    .dataframe tbody tr th {\n",
       "        vertical-align: top;\n",
       "    }\n",
       "\n",
       "    .dataframe thead th {\n",
       "        text-align: right;\n",
       "    }\n",
       "</style>\n",
       "<table border=\"1\" class=\"dataframe\">\n",
       "  <thead>\n",
       "    <tr style=\"text-align: right;\">\n",
       "      <th></th>\n",
       "      <th>region</th>\n",
       "      <th>sector</th>\n",
       "      <th>scenario</th>\n",
       "      <th>capital vs maintenance</th>\n",
       "      <th>cost_bUSD_disc</th>\n",
       "      <th>cost_bUSD_disc_annual</th>\n",
       "    </tr>\n",
       "  </thead>\n",
       "  <tbody>\n",
       "    <tr>\n",
       "      <th>3</th>\n",
       "      <td>all_countries</td>\n",
       "      <td>flood</td>\n",
       "      <td>min</td>\n",
       "      <td>capital</td>\n",
       "      <td>317.687083</td>\n",
       "      <td>21.179139</td>\n",
       "    </tr>\n",
       "    <tr>\n",
       "      <th>8</th>\n",
       "      <td>all_countries</td>\n",
       "      <td>flood</td>\n",
       "      <td>best</td>\n",
       "      <td>capital</td>\n",
       "      <td>1694.331111</td>\n",
       "      <td>112.955407</td>\n",
       "    </tr>\n",
       "    <tr>\n",
       "      <th>13</th>\n",
       "      <td>all_countries</td>\n",
       "      <td>flood</td>\n",
       "      <td>max</td>\n",
       "      <td>capital</td>\n",
       "      <td>5294.784722</td>\n",
       "      <td>352.985648</td>\n",
       "    </tr>\n",
       "  </tbody>\n",
       "</table>\n",
       "</div>"
      ],
      "text/plain": [
       "           region sector scenario capital vs maintenance  cost_bUSD_disc  \\\n",
       "3   all_countries  flood      min                capital      317.687083   \n",
       "8   all_countries  flood     best                capital     1694.331111   \n",
       "13  all_countries  flood      max                capital     5294.784722   \n",
       "\n",
       "    cost_bUSD_disc_annual  \n",
       "3               21.179139  \n",
       "8              112.955407  \n",
       "13             352.985648  "
      ]
     },
     "execution_count": 215,
     "metadata": {},
     "output_type": "execute_result"
    }
   ],
   "source": [
    "newdata2.loc[(newdata2.sector==\"flood\")&(newdata2[\"capital vs maintenance\"]==\"capital\"),:]"
   ]
  },
  {
   "cell_type": "markdown",
   "metadata": {},
   "source": [
    "# Irrigation"
   ]
  },
  {
   "cell_type": "code",
   "execution_count": 216,
   "metadata": {},
   "outputs": [],
   "source": [
    "irrigation = newdata2.loc[(newdata2.sector==\"irrigation\")&(newdata2[\"capital vs maintenance\"]==\"capital\"),:]"
   ]
  },
  {
   "cell_type": "markdown",
   "metadata": {},
   "source": [
    "## keep for overview"
   ]
  },
  {
   "cell_type": "code",
   "execution_count": 217,
   "metadata": {},
   "outputs": [
    {
     "data": {
      "text/plain": [
       "scenario\n",
       "best     49.619364\n",
       "max     100.434281\n",
       "min      43.592279\n",
       "Name: cost_bUSD_disc_annual, dtype: float64"
      ]
     },
     "execution_count": 217,
     "metadata": {},
     "output_type": "execute_result"
    }
   ],
   "source": [
    "irrigation.loc[irrigation.region!=\"all_countries\",:].set_index(\"scenario\").cost_bUSD_disc_annual.sum(level=\"scenario\")"
   ]
  },
  {
   "cell_type": "code",
   "execution_count": 240,
   "metadata": {},
   "outputs": [],
   "source": [
    "temp = irrigation.loc[irrigation.region!=\"all_countries\",:].set_index(\"scenario\").cost_bUSD_disc_annual.sum(level=\"scenario\").reset_index()\n",
    "temp[\"sector\"] = \"irrigation\""
   ]
  },
  {
   "cell_type": "code",
   "execution_count": 241,
   "metadata": {},
   "outputs": [],
   "source": [
    "totals = totals.append(temp)"
   ]
  },
  {
   "cell_type": "code",
   "execution_count": 218,
   "metadata": {},
   "outputs": [
    {
     "data": {
      "text/html": [
       "<div>\n",
       "<style scoped>\n",
       "    .dataframe tbody tr th:only-of-type {\n",
       "        vertical-align: middle;\n",
       "    }\n",
       "\n",
       "    .dataframe tbody tr th {\n",
       "        vertical-align: top;\n",
       "    }\n",
       "\n",
       "    .dataframe thead th {\n",
       "        text-align: right;\n",
       "    }\n",
       "</style>\n",
       "<table border=\"1\" class=\"dataframe\">\n",
       "  <thead>\n",
       "    <tr style=\"text-align: right;\">\n",
       "      <th></th>\n",
       "      <th>scenario</th>\n",
       "      <th>cost_bUSD_disc_annual</th>\n",
       "    </tr>\n",
       "  </thead>\n",
       "  <tbody>\n",
       "    <tr>\n",
       "      <th>4</th>\n",
       "      <td>min</td>\n",
       "      <td>42.358278</td>\n",
       "    </tr>\n",
       "    <tr>\n",
       "      <th>9</th>\n",
       "      <td>best</td>\n",
       "      <td>45.888134</td>\n",
       "    </tr>\n",
       "    <tr>\n",
       "      <th>14</th>\n",
       "      <td>max</td>\n",
       "      <td>70.597130</td>\n",
       "    </tr>\n",
       "  </tbody>\n",
       "</table>\n",
       "</div>"
      ],
      "text/plain": [
       "   scenario  cost_bUSD_disc_annual\n",
       "4       min              42.358278\n",
       "9      best              45.888134\n",
       "14      max              70.597130"
      ]
     },
     "execution_count": 218,
     "metadata": {},
     "output_type": "execute_result"
    }
   ],
   "source": [
    "irrigation.loc[irrigation.region==\"all_countries\",[\"scenario\",\"cost_bUSD_disc_annual\"]]"
   ]
  },
  {
   "cell_type": "code",
   "execution_count": 219,
   "metadata": {},
   "outputs": [
    {
     "data": {
      "text/plain": [
       "scenario\n",
       "best    1545.537453\n",
       "min      637.547114\n",
       "max     2745.250838\n",
       "Name: cost_bUSD_disc_annual, dtype: float64"
      ]
     },
     "execution_count": 219,
     "metadata": {},
     "output_type": "execute_result"
    }
   ],
   "source": [
    "newdata2[(newdata2.region!=\"all_countries\")&(newdata2[\"capital vs maintenance\"]==\"capital\")].set_index(\"scenario\").cost_bUSD_disc_annual.sum(level=\"scenario\")"
   ]
  },
  {
   "cell_type": "code",
   "execution_count": 220,
   "metadata": {},
   "outputs": [
    {
     "data": {
      "text/plain": [
       "scenario\n",
       "min      681.262301\n",
       "best    1588.435417\n",
       "max     2876.833032\n",
       "Name: cost_bUSD_disc_annual, dtype: float64"
      ]
     },
     "execution_count": 220,
     "metadata": {},
     "output_type": "execute_result"
    }
   ],
   "source": [
    "newdata2[(newdata2.region==\"all_countries\")&(newdata2[\"capital vs maintenance\"]==\"capital\")].set_index(\"scenario\").cost_bUSD_disc_annual.sum(level=\"scenario\")"
   ]
  },
  {
   "cell_type": "code",
   "execution_count": 242,
   "metadata": {},
   "outputs": [
    {
     "data": {
      "text/html": [
       "<div>\n",
       "<style scoped>\n",
       "    .dataframe tbody tr th:only-of-type {\n",
       "        vertical-align: middle;\n",
       "    }\n",
       "\n",
       "    .dataframe tbody tr th {\n",
       "        vertical-align: top;\n",
       "    }\n",
       "\n",
       "    .dataframe thead th {\n",
       "        text-align: right;\n",
       "    }\n",
       "</style>\n",
       "<table border=\"1\" class=\"dataframe\">\n",
       "  <thead>\n",
       "    <tr style=\"text-align: right;\">\n",
       "      <th></th>\n",
       "      <th>scenario</th>\n",
       "      <th>cost_bUSD_disc_annual</th>\n",
       "      <th>sector</th>\n",
       "    </tr>\n",
       "  </thead>\n",
       "  <tbody>\n",
       "    <tr>\n",
       "      <th>0</th>\n",
       "      <td>best</td>\n",
       "      <td>778.114139</td>\n",
       "      <td>energy</td>\n",
       "    </tr>\n",
       "    <tr>\n",
       "      <th>1</th>\n",
       "      <td>min</td>\n",
       "      <td>298.587895</td>\n",
       "      <td>energy</td>\n",
       "    </tr>\n",
       "    <tr>\n",
       "      <th>2</th>\n",
       "      <td>max</td>\n",
       "      <td>1020.534268</td>\n",
       "      <td>energy</td>\n",
       "    </tr>\n",
       "    <tr>\n",
       "      <th>0</th>\n",
       "      <td>best</td>\n",
       "      <td>416.599217</td>\n",
       "      <td>transport</td>\n",
       "    </tr>\n",
       "    <tr>\n",
       "      <th>1</th>\n",
       "      <td>min</td>\n",
       "      <td>156.796355</td>\n",
       "      <td>transport</td>\n",
       "    </tr>\n",
       "    <tr>\n",
       "      <th>2</th>\n",
       "      <td>max</td>\n",
       "      <td>1060.207794</td>\n",
       "      <td>transport</td>\n",
       "    </tr>\n",
       "    <tr>\n",
       "      <th>0</th>\n",
       "      <td>best</td>\n",
       "      <td>198.148016</td>\n",
       "      <td>wash</td>\n",
       "    </tr>\n",
       "    <tr>\n",
       "      <th>1</th>\n",
       "      <td>min</td>\n",
       "      <td>115.630826</td>\n",
       "      <td>wash</td>\n",
       "    </tr>\n",
       "    <tr>\n",
       "      <th>2</th>\n",
       "      <td>max</td>\n",
       "      <td>228.925546</td>\n",
       "      <td>wash</td>\n",
       "    </tr>\n",
       "    <tr>\n",
       "      <th>0</th>\n",
       "      <td>best</td>\n",
       "      <td>103.056717</td>\n",
       "      <td>flood</td>\n",
       "    </tr>\n",
       "    <tr>\n",
       "      <th>1</th>\n",
       "      <td>max</td>\n",
       "      <td>335.148948</td>\n",
       "      <td>flood</td>\n",
       "    </tr>\n",
       "    <tr>\n",
       "      <th>2</th>\n",
       "      <td>min</td>\n",
       "      <td>22.939760</td>\n",
       "      <td>flood</td>\n",
       "    </tr>\n",
       "    <tr>\n",
       "      <th>0</th>\n",
       "      <td>best</td>\n",
       "      <td>49.619364</td>\n",
       "      <td>irrigation</td>\n",
       "    </tr>\n",
       "    <tr>\n",
       "      <th>1</th>\n",
       "      <td>max</td>\n",
       "      <td>100.434281</td>\n",
       "      <td>irrigation</td>\n",
       "    </tr>\n",
       "    <tr>\n",
       "      <th>2</th>\n",
       "      <td>min</td>\n",
       "      <td>43.592279</td>\n",
       "      <td>irrigation</td>\n",
       "    </tr>\n",
       "  </tbody>\n",
       "</table>\n",
       "</div>"
      ],
      "text/plain": [
       "  scenario  cost_bUSD_disc_annual      sector\n",
       "0     best             778.114139      energy\n",
       "1      min             298.587895      energy\n",
       "2      max            1020.534268      energy\n",
       "0     best             416.599217   transport\n",
       "1      min             156.796355   transport\n",
       "2      max            1060.207794   transport\n",
       "0     best             198.148016        wash\n",
       "1      min             115.630826        wash\n",
       "2      max             228.925546        wash\n",
       "0     best             103.056717       flood\n",
       "1      max             335.148948       flood\n",
       "2      min              22.939760       flood\n",
       "0     best              49.619364  irrigation\n",
       "1      max             100.434281  irrigation\n",
       "2      min              43.592279  irrigation"
      ]
     },
     "execution_count": 242,
     "metadata": {},
     "output_type": "execute_result"
    }
   ],
   "source": [
    "totals"
   ]
  },
  {
   "cell_type": "code",
   "execution_count": 243,
   "metadata": {},
   "outputs": [
    {
     "data": {
      "text/html": [
       "<div>\n",
       "<style scoped>\n",
       "    .dataframe tbody tr th:only-of-type {\n",
       "        vertical-align: middle;\n",
       "    }\n",
       "\n",
       "    .dataframe tbody tr th {\n",
       "        vertical-align: top;\n",
       "    }\n",
       "\n",
       "    .dataframe thead th {\n",
       "        text-align: right;\n",
       "    }\n",
       "</style>\n",
       "<table border=\"1\" class=\"dataframe\">\n",
       "  <thead>\n",
       "    <tr style=\"text-align: right;\">\n",
       "      <th></th>\n",
       "      <th>cost_bUSD_disc_annual</th>\n",
       "    </tr>\n",
       "    <tr>\n",
       "      <th>scenario</th>\n",
       "      <th></th>\n",
       "    </tr>\n",
       "  </thead>\n",
       "  <tbody>\n",
       "    <tr>\n",
       "      <th>best</th>\n",
       "      <td>1545.537453</td>\n",
       "    </tr>\n",
       "    <tr>\n",
       "      <th>min</th>\n",
       "      <td>637.547114</td>\n",
       "    </tr>\n",
       "    <tr>\n",
       "      <th>max</th>\n",
       "      <td>2745.250838</td>\n",
       "    </tr>\n",
       "  </tbody>\n",
       "</table>\n",
       "</div>"
      ],
      "text/plain": [
       "          cost_bUSD_disc_annual\n",
       "scenario                       \n",
       "best                1545.537453\n",
       "min                  637.547114\n",
       "max                 2745.250838"
      ]
     },
     "execution_count": 243,
     "metadata": {},
     "output_type": "execute_result"
    }
   ],
   "source": [
    "totals.set_index([\"sector\",\"scenario\"]).sum(level=\"scenario\")"
   ]
  },
  {
   "cell_type": "code",
   "execution_count": 250,
   "metadata": {},
   "outputs": [
    {
     "data": {
      "text/html": [
       "<div>\n",
       "<style scoped>\n",
       "    .dataframe tbody tr th:only-of-type {\n",
       "        vertical-align: middle;\n",
       "    }\n",
       "\n",
       "    .dataframe tbody tr th {\n",
       "        vertical-align: top;\n",
       "    }\n",
       "\n",
       "    .dataframe thead th {\n",
       "        text-align: right;\n",
       "    }\n",
       "</style>\n",
       "<table border=\"1\" class=\"dataframe\">\n",
       "  <thead>\n",
       "    <tr style=\"text-align: right;\">\n",
       "      <th></th>\n",
       "      <th>scenario</th>\n",
       "      <th>cost_bUSD_disc_annual</th>\n",
       "      <th>sector</th>\n",
       "    </tr>\n",
       "  </thead>\n",
       "  <tbody>\n",
       "    <tr>\n",
       "      <th>0</th>\n",
       "      <td>best</td>\n",
       "      <td>778.114139</td>\n",
       "      <td>energy</td>\n",
       "    </tr>\n",
       "    <tr>\n",
       "      <th>1</th>\n",
       "      <td>min</td>\n",
       "      <td>298.587895</td>\n",
       "      <td>energy</td>\n",
       "    </tr>\n",
       "    <tr>\n",
       "      <th>2</th>\n",
       "      <td>max</td>\n",
       "      <td>1020.534268</td>\n",
       "      <td>energy</td>\n",
       "    </tr>\n",
       "  </tbody>\n",
       "</table>\n",
       "</div>"
      ],
      "text/plain": [
       "  scenario  cost_bUSD_disc_annual  sector\n",
       "0     best             778.114139  energy\n",
       "1      min             298.587895  energy\n",
       "2      max            1020.534268  energy"
      ]
     },
     "execution_count": 250,
     "metadata": {},
     "output_type": "execute_result"
    }
   ],
   "source": [
    "totals[totals.sector==\"energy\"]"
   ]
  },
  {
   "cell_type": "code",
   "execution_count": null,
   "metadata": {},
   "outputs": [],
   "source": []
  }
 ],
 "metadata": {
  "kernelspec": {
   "display_name": "Python (Julie1)",
   "language": "python",
   "name": "julie1"
  },
  "language_info": {
   "codemirror_mode": {
    "name": "ipython",
    "version": 3
   },
   "file_extension": ".py",
   "mimetype": "text/x-python",
   "name": "python",
   "nbconvert_exporter": "python",
   "pygments_lexer": "ipython3",
   "version": "3.6.6"
  }
 },
 "nbformat": 4,
 "nbformat_minor": 2
}
